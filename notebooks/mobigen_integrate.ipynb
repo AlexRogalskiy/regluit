{
 "metadata": {
  "name": "",
  "signature": "sha256:8d8ffbbfb3b459198ce5462be3ab70b8f0e9b0911944e1a201421523a1e2a758"
 },
 "nbformat": 3,
 "nbformat_minor": 0,
 "worksheets": [
  {
   "cells": [
    {
     "cell_type": "markdown",
     "metadata": {},
     "source": [
      "Go through all editions that have epub or pdfs and ask whether there is a mobi --> if not, the epub and pdf of this edition is a candidate for the application of mobigen.\n",
      "\n",
      "There's probably a nice django query to pull up that collection.  Consulting https://github.com/Gluejar/regluit/blob/master/core/management/commands/check_works_integrity.py"
     ]
    },
    {
     "cell_type": "code",
     "collapsed": false,
     "input": [
      "from regluit.core.models import Ebook\n",
      "\n",
      "for ebook in Ebook.objects.filter(format='epub'):\n",
      "    if not [ebook.format for ebook in ebook.edition.ebooks.all() if ebook.format == 'mobi']:\n",
      "        print ebook.id, ebook.url"
     ],
     "language": "python",
     "metadata": {},
     "outputs": []
    },
    {
     "cell_type": "code",
     "collapsed": false,
     "input": [
      "Ebook.objects.filter(format='epub').filter(edition__id=202594)"
     ],
     "language": "python",
     "metadata": {},
     "outputs": []
    },
    {
     "cell_type": "code",
     "collapsed": false,
     "input": [
      "models.Identifier.objects.filter(edition__isnull=False).filter(~Q(edition__work__id = F('work__id'))).count()"
     ],
     "language": "python",
     "metadata": {},
     "outputs": []
    }
   ],
   "metadata": {}
  }
 ]
}