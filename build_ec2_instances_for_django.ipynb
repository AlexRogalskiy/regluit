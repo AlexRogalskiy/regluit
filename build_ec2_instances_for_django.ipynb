{
 "metadata": {
  "name": "build_ec2_instances_for_django"
 },
 "nbformat": 3,
 "nbformat_minor": 0,
 "worksheets": [
  {
   "cells": [
    {
     "cell_type": "code",
     "collapsed": false,
     "input": [
      "from regluit.sysadmin import aws\n",
      "reload(aws)"
     ],
     "language": "python",
     "metadata": {},
     "outputs": [
      {
       "output_type": "pyout",
       "prompt_number": 1,
       "text": [
        "<module 'regluit.sysadmin.aws' from '/Users/raymondyee/C/src/Gluejar/regluit/sysadmin/aws.pyc'>"
       ]
      }
     ],
     "prompt_number": 1
    },
    {
     "cell_type": "code",
     "collapsed": false,
     "input": [
      "AMI_UBUNTU_12_04_ID = 'ami-79c0ae10'\n",
      "image = aws.ec2.get_all_images(image_ids=[AMI_UBUNTU_12_04_ID])[0]"
     ],
     "language": "python",
     "metadata": {},
     "outputs": [],
     "prompt_number": 2
    },
    {
     "cell_type": "code",
     "collapsed": false,
     "input": [
      "image.id, image.name"
     ],
     "language": "python",
     "metadata": {},
     "outputs": [
      {
       "output_type": "pyout",
       "prompt_number": 3,
       "text": [
        "(u'ami-79c0ae10',\n",
        " u'ubuntu/images/ebs/ubuntu-precise-12.04-amd64-server-20130516')"
       ]
      }
     ],
     "prompt_number": 3
    },
    {
     "cell_type": "code",
     "collapsed": false,
     "input": [
      "# use default security group for now -- probably want to make a new one\n",
      "\n",
      "INSTANCE_NAME = 'new_test'\n",
      "SECURITY_GROUP_NAME = 'testsg1'\n",
      "\n",
      "(instance, cmd) = aws.launch_instance(ami=AMI_UBUNTU_12_04_ID, \n",
      "                                      instance_type='t1.micro',\n",
      "                                      key_name='rdhyee_public_key',\n",
      "                                      group_name=SECURITY_GROUP_NAME,\n",
      "                                      tag='new_instance',\n",
      "                                      cmd_shell=False) \n",
      "                                      \n",
      "                                      "
     ],
     "language": "python",
     "metadata": {},
     "outputs": [
      {
       "output_type": "stream",
       "stream": "stdout",
       "text": [
        "Security Group: testsg1 already authorized\n",
        "waiting for instance"
       ]
      },
      {
       "output_type": "stream",
       "stream": "stdout",
       "text": [
        "\n",
        ".\n",
        "."
       ]
      },
      {
       "output_type": "stream",
       "stream": "stdout",
       "text": [
        "\n",
        "."
       ]
      },
      {
       "output_type": "stream",
       "stream": "stdout",
       "text": [
        "\n",
        "."
       ]
      },
      {
       "output_type": "stream",
       "stream": "stdout",
       "text": [
        "\n",
        "."
       ]
      },
      {
       "output_type": "stream",
       "stream": "stdout",
       "text": [
        "\n",
        "done"
       ]
      },
      {
       "output_type": "stream",
       "stream": "stdout",
       "text": [
        "\n"
       ]
      }
     ],
     "prompt_number": 4
    },
    {
     "cell_type": "code",
     "collapsed": false,
     "input": [
      "instance.update()"
     ],
     "language": "python",
     "metadata": {},
     "outputs": [
      {
       "output_type": "pyout",
       "prompt_number": 5,
       "text": [
        "u'running'"
       ]
      }
     ],
     "prompt_number": 5
    },
    {
     "cell_type": "code",
     "collapsed": false,
     "input": [
      "# add name\n",
      "instance.add_tag('Name', INSTANCE_NAME)"
     ],
     "language": "python",
     "metadata": {},
     "outputs": [],
     "prompt_number": 6
    },
    {
     "cell_type": "code",
     "collapsed": false,
     "input": [
      "# configure security group testsg1\n",
      "\n",
      "PORTS_TO_OPEN = [80, 443]\n",
      "\n",
      "for port in PORTS_TO_OPEN:\n",
      "    aws.ec2.authorize_security_group(group_name=SECURITY_GROUP_NAME, ip_protocol='tcp', from_port=port, to_port=port,\n",
      "         cidr_ip='0.0.0.0/0')\n"
     ],
     "language": "python",
     "metadata": {},
     "outputs": [
      {
       "ename": "EC2ResponseError",
       "evalue": "EC2ResponseError: 400 Bad Request\n<?xml version=\"1.0\" encoding=\"UTF-8\"?>\n<Response><Errors><Error><Code>InvalidPermission.Duplicate</Code><Message>The permission '0.0.0.0/0-1-80-80' has already been authorized on the specified group</Message></Error></Errors><RequestID>8c9d25ab-c934-4c5c-8165-3d6a21c424e2</RequestID></Response>",
       "output_type": "pyerr",
       "traceback": [
        "\u001b[0;31m---------------------------------------------------------------------------\u001b[0m\n\u001b[0;31mEC2ResponseError\u001b[0m                          Traceback (most recent call last)",
        "\u001b[0;32m<ipython-input-7-834318c44f8b>\u001b[0m in \u001b[0;36m<module>\u001b[0;34m()\u001b[0m\n\u001b[1;32m      5\u001b[0m \u001b[0;32mfor\u001b[0m \u001b[0mport\u001b[0m \u001b[0;32min\u001b[0m \u001b[0mPORTS_TO_OPEN\u001b[0m\u001b[0;34m:\u001b[0m\u001b[0;34m\u001b[0m\u001b[0m\n\u001b[1;32m      6\u001b[0m     aws.ec2.authorize_security_group(group_name=SECURITY_GROUP_NAME, ip_protocol='tcp', from_port=port, to_port=port,\n\u001b[0;32m----> 7\u001b[0;31m          cidr_ip='0.0.0.0/0')\n\u001b[0m",
        "\u001b[0;32m/Users/raymondyee/.virtualenvs/regluitepd1/lib/python2.7/site-packages/boto/ec2/connection.pyc\u001b[0m in \u001b[0;36mauthorize_security_group\u001b[0;34m(self, group_name, src_security_group_name, src_security_group_owner_id, ip_protocol, from_port, to_port, cidr_ip, group_id, src_security_group_group_id)\u001b[0m\n\u001b[1;32m   2457\u001b[0m \u001b[0;34m\u001b[0m\u001b[0m\n\u001b[1;32m   2458\u001b[0m         return self.get_status('AuthorizeSecurityGroupIngress',\n\u001b[0;32m-> 2459\u001b[0;31m                                params, verb='POST')\n\u001b[0m\u001b[1;32m   2460\u001b[0m \u001b[0;34m\u001b[0m\u001b[0m\n\u001b[1;32m   2461\u001b[0m     def authorize_security_group_egress(self,\n",
        "\u001b[0;32m/Users/raymondyee/.virtualenvs/regluitepd1/lib/python2.7/site-packages/boto/connection.pyc\u001b[0m in \u001b[0;36mget_status\u001b[0;34m(self, action, params, path, parent, verb)\u001b[0m\n\u001b[1;32m   1079\u001b[0m             \u001b[0mboto\u001b[0m\u001b[0;34m.\u001b[0m\u001b[0mlog\u001b[0m\u001b[0;34m.\u001b[0m\u001b[0merror\u001b[0m\u001b[0;34m(\u001b[0m\u001b[0;34m'%s %s'\u001b[0m \u001b[0;34m%\u001b[0m \u001b[0;34m(\u001b[0m\u001b[0mresponse\u001b[0m\u001b[0;34m.\u001b[0m\u001b[0mstatus\u001b[0m\u001b[0;34m,\u001b[0m \u001b[0mresponse\u001b[0m\u001b[0;34m.\u001b[0m\u001b[0mreason\u001b[0m\u001b[0;34m)\u001b[0m\u001b[0;34m)\u001b[0m\u001b[0;34m\u001b[0m\u001b[0m\n\u001b[1;32m   1080\u001b[0m             \u001b[0mboto\u001b[0m\u001b[0;34m.\u001b[0m\u001b[0mlog\u001b[0m\u001b[0;34m.\u001b[0m\u001b[0merror\u001b[0m\u001b[0;34m(\u001b[0m\u001b[0;34m'%s'\u001b[0m \u001b[0;34m%\u001b[0m \u001b[0mbody\u001b[0m\u001b[0;34m)\u001b[0m\u001b[0;34m\u001b[0m\u001b[0m\n\u001b[0;32m-> 1081\u001b[0;31m             \u001b[0;32mraise\u001b[0m \u001b[0mself\u001b[0m\u001b[0;34m.\u001b[0m\u001b[0mResponseError\u001b[0m\u001b[0;34m(\u001b[0m\u001b[0mresponse\u001b[0m\u001b[0;34m.\u001b[0m\u001b[0mstatus\u001b[0m\u001b[0;34m,\u001b[0m \u001b[0mresponse\u001b[0m\u001b[0;34m.\u001b[0m\u001b[0mreason\u001b[0m\u001b[0;34m,\u001b[0m \u001b[0mbody\u001b[0m\u001b[0;34m)\u001b[0m\u001b[0;34m\u001b[0m\u001b[0m\n\u001b[0m",
        "\u001b[0;31mEC2ResponseError\u001b[0m: EC2ResponseError: 400 Bad Request\n<?xml version=\"1.0\" encoding=\"UTF-8\"?>\n<Response><Errors><Error><Code>InvalidPermission.Duplicate</Code><Message>The permission '0.0.0.0/0-1-80-80' has already been authorized on the specified group</Message></Error></Errors><RequestID>8c9d25ab-c934-4c5c-8165-3d6a21c424e2</RequestID></Response>"
       ]
      }
     ],
     "prompt_number": 7
    },
    {
     "cell_type": "code",
     "collapsed": false,
     "input": [
      "console_output = instance.get_console_output()"
     ],
     "language": "python",
     "metadata": {},
     "outputs": []
    },
    {
     "cell_type": "code",
     "collapsed": false,
     "input": [
      "# it takes time for the console output to show not be None -- I don't know exactly how long\n",
      "\n",
      "print console_output.output"
     ],
     "language": "python",
     "metadata": {},
     "outputs": []
    },
    {
     "cell_type": "code",
     "collapsed": false,
     "input": [
      "# http://ubuntu-smoser.blogspot.com/2010/07/verify-ssh-keys-on-ec2-instances.html\n",
      "\n",
      "[line for line in console_output.output.split(\"\\n\") if line.startswith(\"ec2\")]"
     ],
     "language": "python",
     "metadata": {},
     "outputs": []
    },
    {
     "cell_type": "code",
     "collapsed": false,
     "input": [
      "instance_id = instance.id\n",
      "instance_id"
     ],
     "language": "python",
     "metadata": {},
     "outputs": [
      {
       "output_type": "pyout",
       "prompt_number": 8,
       "text": [
        "u'i-d061cbbb'"
       ]
      }
     ],
     "prompt_number": 8
    },
    {
     "cell_type": "code",
     "collapsed": false,
     "input": [
      "output = !source ~/gj_aws.sh; ec2-get-console-output $instance_id  | grep -i ec2"
     ],
     "language": "python",
     "metadata": {},
     "outputs": []
    },
    {
     "cell_type": "code",
     "collapsed": false,
     "input": [
      "output"
     ],
     "language": "python",
     "metadata": {},
     "outputs": []
    },
    {
     "cell_type": "code",
     "collapsed": false,
     "input": [
      "# copy a command to ssh into the instance\n",
      "\n",
      "cmdstring = \"ssh -oStrictHostKeyChecking=no ubuntu@{0}\".format(instance.dns_name)\n",
      "# works on a mac\n",
      "! echo \"$cmdstring\" | pbcopy\n",
      "cmdstring"
     ],
     "language": "python",
     "metadata": {},
     "outputs": [
      {
       "output_type": "pyout",
       "prompt_number": 9,
       "text": [
        "'ssh -oStrictHostKeyChecking=no ubuntu@ec2-54-243-24-167.compute-1.amazonaws.com'"
       ]
      }
     ],
     "prompt_number": 9
    },
    {
     "cell_type": "heading",
     "level": 1,
     "metadata": {},
     "source": [
      "dynamic execution of fabric tasks"
     ]
    },
    {
     "cell_type": "code",
     "collapsed": false,
     "input": [
      "# http://docs.fabfile.org/en/1.6/usage/execution.html#using-execute-with-dynamically-set-host-lists\n",
      "\n",
      "import fabric\n",
      "from fabric.api import run, local, env, cd, sudo\n",
      "from fabric.operations import get\n",
      "\n",
      "from regluit.sysadmin import aws\n",
      "from StringIO import StringIO\n",
      "\n",
      "import github\n",
      "\n",
      "# uncomment for debugging\n",
      "# github.enable_console_debug_logging()\n",
      "\n",
      "from github import Github\n",
      "\n",
      "from django.conf import settings \n",
      "\n",
      "# allow us to use our ssh config files (e.g., ~/.ssh/config)\n",
      "env.use_ssh_config = True\n",
      "\n",
      "GITHUB_REPO_NAME = \"Gluejar/regluit\"\n",
      "#GITHUB_REPO_NAME = \"rdhyee/working-open-data\"\n",
      "\n",
      "# maybe generate some random pw -- not sure how important it is to generate some complicated PW if we configure \n",
      "# security groups properly\n",
      "MYSQL_ROOT_PW = \"unglueit_pw_123\"\n",
      "\n",
      "\n",
      "# can use 3 different types of authn: https://github.com/jacquev6/PyGithub/issues/15\n",
      "# can be empty, username/pw, or personal API token (https://github.com/blog/1509-personal-api-tokens)\n",
      "g = Github(settings.GITHUB_AUTH_TOKEN)\n",
      "\n",
      "def host_type():\n",
      "    run('uname -s')\n",
      "\n",
      "    \n",
      "def deploy():\n",
      "    sudo(\"aptitude update\")\n",
      "    sudo(\"yes | aptitude upgrade\")\n",
      "    sudo(\"yes | aptitude install git-core apache libapache2-mod-wsgi mysql-client python-virtualenv python-mysqldb redis-server python-lxml\")\n",
      "    sudo(\"yes | aptitude install python-dev\")\n",
      "    # http://www.whatastruggle.com/postfix-non-interactive-install\n",
      "    sudo(\"DEBIAN_FRONTEND='noninteractive' apt-get install -y -q --force-yes postfix\")\n",
      "\n",
      "    sudo (\"mkdir /opt/regluit\")\n",
      "    sudo (\"chown ubuntu:ubuntu /opt/regluit\")\n",
      "\n",
      "    run('git config --global user.name \"Raymond Yee\"')\n",
      "    run('git config --global user.email \"rdhyee@gluejar.com\"')\n",
      "\n",
      "    run('ssh-keygen -b 2048 -t rsa -f /home/ubuntu/.ssh/id_rsa -P \"\"')\n",
      "\n",
      "    # how to get the key and push it to github\n",
      "    s = StringIO()\n",
      "    get('/home/ubuntu/.ssh/id_rsa.pub', s)\n",
      "    repo = g.get_repo(GITHUB_REPO_NAME)\n",
      "    key = repo.create_key('test deploy key', s.getvalue())    \n",
      "    \n",
      "    # http://debuggable.com/posts/disable-strict-host-checking-for-git-clone:49896ff3-0ac0-4263-9703-1eae4834cda3\n",
      "    run('echo -e \"Host github.com\\n\\tStrictHostKeyChecking no\\n\" >> ~/.ssh/config')\n",
      "    \n",
      "    # clone the regluit git repo into /opt/regluit\n",
      "    with cd(\"/opt\"):\n",
      "        run(\"yes | git clone git@github.com:Gluejar/regluit.git\")\n",
      "        \n",
      "    #  for configuring local mysql server (5.5)\n",
      "    #  http://stackoverflow.com/a/7740571/7782\n",
      "    sudo(\"debconf-set-selections <<< 'mysql-server-5.5 mysql-server/root_password password {0}'\".format(MYSQL_ROOT_PW))\n",
      "    sudo(\"debconf-set-selections <<< 'mysql-server-5.5 mysql-server/root_password_again password {0}'\".format(MYSQL_ROOT_PW))\n",
      "    sudo(\"apt-get -y install mysql-server\")\n",
      "    \n",
      "    \n",
      "def deploy_next():\n",
      "\n",
      "    pass   \n",
      "    \n",
      "#hosts = ['ubuntu@ec2-75-101-232-46.compute-1.amazonaws.com']\n",
      "hosts = [\"ubuntu@{0}\".format(instance.dns_name)]\n",
      "\n",
      "fabric.tasks.execute(deploy, hosts=hosts)"
     ],
     "language": "python",
     "metadata": {},
     "outputs": [
      {
       "output_type": "stream",
       "stream": "stdout",
       "text": [
        "[ubuntu@ec2-54-243-24-167.compute-1.amazonaws.com] Executing task 'deploy'"
       ]
      },
      {
       "output_type": "stream",
       "stream": "stdout",
       "text": [
        "\n",
        "[ubuntu@ec2-54-243-24-167.compute-1.amazonaws.com] sudo: aptitude update\n",
        "[ubuntu@ec2-54-243-24-167.compute-1.amazonaws.com] out: "
       ]
      },
      {
       "output_type": "stream",
       "stream": "stdout",
       "text": [
        "\n"
       ]
      },
      {
       "output_type": "stream",
       "stream": "stdout",
       "text": [
        "[ubuntu@ec2-54-243-24-167.compute-1.amazonaws.com] out: "
       ]
      },
      {
       "output_type": "stream",
       "stream": "stdout",
       "text": [
        "\n"
       ]
      },
      {
       "output_type": "stream",
       "stream": "stdout",
       "text": [
        "[ubuntu@ec2-54-243-24-167.compute-1.amazonaws.com] out: "
       ]
      },
      {
       "output_type": "stream",
       "stream": "stdout",
       "text": [
        "[  0%] Writing extended state information"
       ]
      },
      {
       "output_type": "stream",
       "stream": "stdout",
       "text": [
        "\n"
       ]
      },
      {
       "output_type": "stream",
       "stream": "stdout",
       "text": [
        "[ubuntu@ec2-54-243-24-167.compute-1.amazonaws.com] out: "
       ]
      },
      {
       "output_type": "stream",
       "stream": "stdout",
       "text": [
        "                                         \n"
       ]
      },
      {
       "output_type": "stream",
       "stream": "stdout",
       "text": [
        "[ubuntu@ec2-54-243-24-167.compute-1.amazonaws.com] out: "
       ]
      },
      {
       "output_type": "stream",
       "stream": "stdout",
       "text": [
        "[100%] Writing extended state information"
       ]
      },
      {
       "output_type": "stream",
       "stream": "stdout",
       "text": [
        "\n"
       ]
      },
      {
       "output_type": "stream",
       "stream": "stdout",
       "text": [
        "[ubuntu@ec2-54-243-24-167.compute-1.amazonaws.com] out: "
       ]
      },
      {
       "output_type": "stream",
       "stream": "stdout",
       "text": [
        "                                         \n"
       ]
      },
      {
       "output_type": "stream",
       "stream": "stdout",
       "text": [
        "[ubuntu@ec2-54-243-24-167.compute-1.amazonaws.com] out: "
       ]
      },
      {
       "output_type": "stream",
       "stream": "stdout",
       "text": [
        "\n"
       ]
      },
      {
       "output_type": "stream",
       "stream": "stdout",
       "text": [
        "[ubuntu@ec2-54-243-24-167.compute-1.amazonaws.com] out: "
       ]
      },
      {
       "output_type": "stream",
       "stream": "stdout",
       "text": [
        "\n"
       ]
      },
      {
       "output_type": "stream",
       "stream": "stdout",
       "text": [
        "[ubuntu@ec2-54-243-24-167.compute-1.amazonaws.com] out: "
       ]
      },
      {
       "output_type": "stream",
       "stream": "stdout",
       "text": [
        "0% [Working]"
       ]
      },
      {
       "output_type": "stream",
       "stream": "stdout",
       "text": [
        "\n"
       ]
      },
      {
       "output_type": "stream",
       "stream": "stdout",
       "text": [
        "[ubuntu@ec2-54-243-24-167.compute-1.amazonaws.com] out: "
       ]
      },
      {
       "output_type": "stream",
       "stream": "stdout",
       "text": [
        "            \n"
       ]
      },
      {
       "output_type": "stream",
       "stream": "stdout",
       "text": [
        "[ubuntu@ec2-54-243-24-167.compute-1.amazonaws.com] out: "
       ]
      },
      {
       "output_type": "stream",
       "stream": "stdout",
       "text": [
        "Get: 1 http://security.ubuntu.com precise-security Release.gpg [198 B]\n"
       ]
      },
      {
       "output_type": "stream",
       "stream": "stdout",
       "text": [
        "[ubuntu@ec2-54-243-24-167.compute-1.amazonaws.com] out: "
       ]
      },
      {
       "output_type": "stream",
       "stream": "stdout",
       "text": [
        "\n"
       ]
      },
      {
       "output_type": "stream",
       "stream": "stdout",
       "text": [
        "[ubuntu@ec2-54-243-24-167.compute-1.amazonaws.com] out: "
       ]
      },
      {
       "output_type": "stream",
       "stream": "stdout",
       "text": [
        "\n"
       ]
      },
      {
       "output_type": "stream",
       "stream": "stdout",
       "text": [
        "[ubuntu@ec2-54-243-24-167.compute-1.amazonaws.com] out: "
       ]
      },
      {
       "output_type": "stream",
       "stream": "stdout",
       "text": [
        "99% [Waiting for headers]"
       ]
      },
      {
       "output_type": "stream",
       "stream": "stdout",
       "text": [
        "\n"
       ]
      },
      {
       "output_type": "stream",
       "stream": "stdout",
       "text": [
        "[ubuntu@ec2-54-243-24-167.compute-1.amazonaws.com] out: "
       ]
      },
      {
       "output_type": "stream",
       "stream": "stdout",
       "text": [
        "                         \n"
       ]
      },
      {
       "output_type": "stream",
       "stream": "stdout",
       "text": [
        "[ubuntu@ec2-54-243-24-167.compute-1.amazonaws.com] out: "
       ]
      },
      {
       "output_type": "stream",
       "stream": "stdout",
       "text": [
        "Get: 2 http://security.ubuntu.com precise-security Release [49.6 kB]\n"
       ]
      },
      {
       "output_type": "stream",
       "stream": "stdout",
       "text": [
        "[ubuntu@ec2-54-243-24-167.compute-1.amazonaws.com] out: "
       ]
      },
      {
       "output_type": "stream",
       "stream": "stdout",
       "text": [
        "\n"
       ]
      },
      {
       "output_type": "stream",
       "stream": "stdout",
       "text": [
        "[ubuntu@ec2-54-243-24-167.compute-1.amazonaws.com] out: "
       ]
      },
      {
       "output_type": "stream",
       "stream": "stdout",
       "text": [
        "\n"
       ]
      },
      {
       "output_type": "stream",
       "stream": "stdout",
       "text": [
        "[ubuntu@ec2-54-243-24-167.compute-1.amazonaws.com] out: "
       ]
      },
      {
       "output_type": "stream",
       "stream": "stdout",
       "text": [
        "29% [Waiting for headers] [2 Release 14.1 kB/49.6 kB 28%]"
       ]
      },
      {
       "output_type": "stream",
       "stream": "stdout",
       "text": [
        "\n"
       ]
      },
      {
       "output_type": "stream",
       "stream": "stdout",
       "text": [
        "[ubuntu@ec2-54-243-24-167.compute-1.amazonaws.com] out: "
       ]
      },
      {
       "output_type": "stream",
       "stream": "stdout",
       "text": [
        "                                                         \n"
       ]
      },
      {
       "output_type": "stream",
       "stream": "stdout",
       "text": [
        "[ubuntu@ec2-54-243-24-167.compute-1.amazonaws.com] out: "
       ]
      },
      {
       "output_type": "stream",
       "stream": "stdout",
       "text": [
        "100% [Waiting for headers]\n"
       ]
      },
      {
       "output_type": "stream",
       "stream": "stdout",
       "text": [
        "[ubuntu@ec2-54-243-24-167.compute-1.amazonaws.com] out: "
       ]
      },
      {
       "output_type": "stream",
       "stream": "stdout",
       "text": [
        "                          \n"
       ]
      },
      {
       "output_type": "stream",
       "stream": "stdout",
       "text": [
        "[ubuntu@ec2-54-243-24-167.compute-1.amazonaws.com] out: "
       ]
      },
      {
       "output_type": "stream",
       "stream": "stdout",
       "text": [
        "Get: 3 http://us-east-1.ec2.archive.ubuntu.com precise Release.gpg [198 B]\n"
       ]
      },
      {
       "output_type": "stream",
       "stream": "stdout",
       "text": [
        "[ubuntu@ec2-54-243-24-167.compute-1.amazonaws.com] out: "
       ]
      },
      {
       "output_type": "stream",
       "stream": "stdout",
       "text": [
        "\n"
       ]
      },
      {
       "output_type": "stream",
       "stream": "stdout",
       "text": [
        "[ubuntu@ec2-54-243-24-167.compute-1.amazonaws.com] out: "
       ]
      },
      {
       "output_type": "stream",
       "stream": "stdout",
       "text": [
        "\n"
       ]
      },
      {
       "output_type": "stream",
       "stream": "stdout",
       "text": [
        "[ubuntu@ec2-54-243-24-167.compute-1.amazonaws.com] out: "
       ]
      },
      {
       "output_type": "stream",
       "stream": "stdout",
       "text": [
        "100% [2 Release gpgv 49.6 kB] [Waiting for headers]"
       ]
      },
      {
       "output_type": "stream",
       "stream": "stdout",
       "text": [
        "\n"
       ]
      },
      {
       "output_type": "stream",
       "stream": "stdout",
       "text": [
        "[ubuntu@ec2-54-243-24-167.compute-1.amazonaws.com] out: "
       ]
      },
      {
       "output_type": "stream",
       "stream": "stdout",
       "text": [
        "                                                   \n"
       ]
      },
      {
       "output_type": "stream",
       "stream": "stdout",
       "text": [
        "[ubuntu@ec2-54-243-24-167.compute-1.amazonaws.com] out: "
       ]
      },
      {
       "output_type": "stream",
       "stream": "stdout",
       "text": [
        "Get: 4 http://us-east-1.ec2.archive.ubuntu.com precise-updates Release.gpg [198 B]\n"
       ]
      },
      {
       "output_type": "stream",
       "stream": "stdout",
       "text": [
        "[ubuntu@ec2-54-243-24-167.compute-1.amazonaws.com] out: "
       ]
      },
      {
       "output_type": "stream",
       "stream": "stdout",
       "text": [
        "\n"
       ]
      },
      {
       "output_type": "stream",
       "stream": "stdout",
       "text": [
        "[ubuntu@ec2-54-243-24-167.compute-1.amazonaws.com] out: "
       ]
      },
      {
       "output_type": "stream",
       "stream": "stdout",
       "text": [
        "\n"
       ]
      },
      {
       "output_type": "stream",
       "stream": "stdout",
       "text": [
        "[ubuntu@ec2-54-243-24-167.compute-1.amazonaws.com] out: "
       ]
      },
      {
       "output_type": "stream",
       "stream": "stdout",
       "text": [
        "100% [2 Release gpgv 49.6 kB]"
       ]
      },
      {
       "output_type": "stream",
       "stream": "stdout",
       "text": [
        "\n"
       ]
      },
      {
       "output_type": "stream",
       "stream": "stdout",
       "text": [
        "[ubuntu@ec2-54-243-24-167.compute-1.amazonaws.com] out: "
       ]
      },
      {
       "output_type": "stream",
       "stream": "stdout",
       "text": [
        "                             \n"
       ]
      },
      {
       "output_type": "stream",
       "stream": "stdout",
       "text": [
        "[ubuntu@ec2-54-243-24-167.compute-1.amazonaws.com] out: "
       ]
      },
      {
       "output_type": "stream",
       "stream": "stdout",
       "text": [
        "Get: 5 http://us-east-1.ec2.archive.ubuntu.com precise Release [49.6 kB]\n"
       ]
      },
      {
       "output_type": "stream",
       "stream": "stdout",
       "text": [
        "[ubuntu@ec2-54-243-24-167.compute-1.amazonaws.com] out: "
       ]
      },
      {
       "output_type": "stream",
       "stream": "stdout",
       "text": [
        "\n"
       ]
      },
      {
       "output_type": "stream",
       "stream": "stdout",
       "text": [
        "[ubuntu@ec2-54-243-24-167.compute-1.amazonaws.com] out: "
       ]
      },
      {
       "output_type": "stream",
       "stream": "stdout",
       "text": [
        "\n"
       ]
      },
      {
       "output_type": "stream",
       "stream": "stdout",
       "text": [
        "[ubuntu@ec2-54-243-24-167.compute-1.amazonaws.com] out: "
       ]
      },
      {
       "output_type": "stream",
       "stream": "stdout",
       "text": [
        "66% [2 Release gpgv 49.6 kB] [5 Release 15.9 kB/49.6 kB 32%]\n"
       ]
      },
      {
       "output_type": "stream",
       "stream": "stdout",
       "text": [
        "[ubuntu@ec2-54-243-24-167.compute-1.amazonaws.com] out: "
       ]
      },
      {
       "output_type": "stream",
       "stream": "stdout",
       "text": [
        "                                                            \n"
       ]
      },
      {
       "output_type": "stream",
       "stream": "stdout",
       "text": [
        "[ubuntu@ec2-54-243-24-167.compute-1.amazonaws.com] out: "
       ]
      },
      {
       "output_type": "stream",
       "stream": "stdout",
       "text": [
        "100% [2 Release gpgv 49.6 kB]"
       ]
      },
      {
       "output_type": "stream",
       "stream": "stdout",
       "text": [
        "\n"
       ]
      },
      {
       "output_type": "stream",
       "stream": "stdout",
       "text": [
        "[ubuntu@ec2-54-243-24-167.compute-1.amazonaws.com] out: "
       ]
      },
      {
       "output_type": "stream",
       "stream": "stdout",
       "text": [
        "                             \n"
       ]
      },
      {
       "output_type": "stream",
       "stream": "stdout",
       "text": [
        "[ubuntu@ec2-54-243-24-167.compute-1.amazonaws.com] out: "
       ]
      },
      {
       "output_type": "stream",
       "stream": "stdout",
       "text": [
        "Get: 6 http://us-east-1.ec2.archive.ubuntu.com precise-updates Release [49.6 kB]\n"
       ]
      },
      {
       "output_type": "stream",
       "stream": "stdout",
       "text": [
        "[ubuntu@ec2-54-243-24-167.compute-1.amazonaws.com] out: "
       ]
      },
      {
       "output_type": "stream",
       "stream": "stdout",
       "text": [
        "\n"
       ]
      },
      {
       "output_type": "stream",
       "stream": "stdout",
       "text": [
        "[ubuntu@ec2-54-243-24-167.compute-1.amazonaws.com] out: "
       ]
      },
      {
       "output_type": "stream",
       "stream": "stdout",
       "text": [
        "\n"
       ]
      },
      {
       "output_type": "stream",
       "stream": "stdout",
       "text": [
        "[ubuntu@ec2-54-243-24-167.compute-1.amazonaws.com] out: "
       ]
      },
      {
       "output_type": "stream",
       "stream": "stdout",
       "text": [
        "67% [2 Release gpgv 49.6 kB] [6 Release 0 B/49.6 kB 0%]"
       ]
      },
      {
       "output_type": "stream",
       "stream": "stdout",
       "text": [
        "\n"
       ]
      },
      {
       "output_type": "stream",
       "stream": "stdout",
       "text": [
        "[ubuntu@ec2-54-243-24-167.compute-1.amazonaws.com] out: "
       ]
      },
      {
       "output_type": "stream",
       "stream": "stdout",
       "text": [
        "                                                       \n"
       ]
      },
      {
       "output_type": "stream",
       "stream": "stdout",
       "text": [
        "[ubuntu@ec2-54-243-24-167.compute-1.amazonaws.com] out: "
       ]
      },
      {
       "output_type": "stream",
       "stream": "stdout",
       "text": [
        "100% [2 Release gpgv 49.6 kB]"
       ]
      },
      {
       "output_type": "stream",
       "stream": "stdout",
       "text": [
        "\n"
       ]
      },
      {
       "output_type": "stream",
       "stream": "stdout",
       "text": [
        "[ubuntu@ec2-54-243-24-167.compute-1.amazonaws.com] out: "
       ]
      },
      {
       "output_type": "stream",
       "stream": "stdout",
       "text": [
        "                             \n"
       ]
      },
      {
       "output_type": "stream",
       "stream": "stdout",
       "text": [
        "[ubuntu@ec2-54-243-24-167.compute-1.amazonaws.com] out: "
       ]
      },
      {
       "output_type": "stream",
       "stream": "stdout",
       "text": [
        "100% [Working]\n"
       ]
      },
      {
       "output_type": "stream",
       "stream": "stdout",
       "text": [
        "[ubuntu@ec2-54-243-24-167.compute-1.amazonaws.com] out: "
       ]
      },
      {
       "output_type": "stream",
       "stream": "stdout",
       "text": [
        "              \n"
       ]
      },
      {
       "output_type": "stream",
       "stream": "stdout",
       "text": [
        "[ubuntu@ec2-54-243-24-167.compute-1.amazonaws.com] out: "
       ]
      },
      {
       "output_type": "stream",
       "stream": "stdout",
       "text": [
        "100% [Waiting for headers]"
       ]
      },
      {
       "output_type": "stream",
       "stream": "stdout",
       "text": [
        "\n"
       ]
      },
      {
       "output_type": "stream",
       "stream": "stdout",
       "text": [
        "[ubuntu@ec2-54-243-24-167.compute-1.amazonaws.com] out: "
       ]
      },
      {
       "output_type": "stream",
       "stream": "stdout",
       "text": [
        "                          \n"
       ]
      },
      {
       "output_type": "stream",
       "stream": "stdout",
       "text": [
        "[ubuntu@ec2-54-243-24-167.compute-1.amazonaws.com] out: "
       ]
      },
      {
       "output_type": "stream",
       "stream": "stdout",
       "text": [
        "Get: 7 http://security.ubuntu.com precise-security/main Sources [71.8 kB]\n"
       ]
      },
      {
       "output_type": "stream",
       "stream": "stdout",
       "text": [
        "[ubuntu@ec2-54-243-24-167.compute-1.amazonaws.com] out: "
       ]
      },
      {
       "output_type": "stream",
       "stream": "stdout",
       "text": [
        "\n"
       ]
      },
      {
       "output_type": "stream",
       "stream": "stdout",
       "text": [
        "[ubuntu@ec2-54-243-24-167.compute-1.amazonaws.com] out: "
       ]
      },
      {
       "output_type": "stream",
       "stream": "stdout",
       "text": [
        "\n"
       ]
      },
      {
       "output_type": "stream",
       "stream": "stdout",
       "text": [
        "[ubuntu@ec2-54-243-24-167.compute-1.amazonaws.com] out: "
       ]
      },
      {
       "output_type": "stream",
       "stream": "stdout",
       "text": [
        "77% [6 Release gpgv 49.6 kB] [Waiting for headers] [7 Sources 19.9 kB/71.8 kB 28\n"
       ]
      },
      {
       "output_type": "stream",
       "stream": "stdout",
       "text": [
        "[ubuntu@ec2-54-243-24-167.compute-1.amazonaws.com] out: "
       ]
      },
      {
       "output_type": "stream",
       "stream": "stdout",
       "text": [
        "                                                                                \n"
       ]
      },
      {
       "output_type": "stream",
       "stream": "stdout",
       "text": [
        "[ubuntu@ec2-54-243-24-167.compute-1.amazonaws.com] out: "
       ]
      },
      {
       "output_type": "stream",
       "stream": "stdout",
       "text": [
        "77% [Waiting for headers] [7 Sources 19.9 kB/71.8 kB 28%]"
       ]
      },
      {
       "output_type": "stream",
       "stream": "stdout",
       "text": [
        "\n"
       ]
      },
      {
       "output_type": "stream",
       "stream": "stdout",
       "text": [
        "[ubuntu@ec2-54-243-24-167.compute-1.amazonaws.com] out: "
       ]
      },
      {
       "output_type": "stream",
       "stream": "stdout",
       "text": [
        "                                                         \n"
       ]
      },
      {
       "output_type": "stream",
       "stream": "stdout",
       "text": [
        "[ubuntu@ec2-54-243-24-167.compute-1.amazonaws.com] out: "
       ]
      },
      {
       "output_type": "stream",
       "stream": "stdout",
       "text": [
        "Get: 8 http://us-east-1.ec2.archive.ubuntu.com precise/main Sources [934 kB]\n"
       ]
      },
      {
       "output_type": "stream",
       "stream": "stdout",
       "text": [
        "[ubuntu@ec2-54-243-24-167.compute-1.amazonaws.com] out: "
       ]
      },
      {
       "output_type": "stream",
       "stream": "stdout",
       "text": [
        "\n"
       ]
      },
      {
       "output_type": "stream",
       "stream": "stdout",
       "text": [
        "[ubuntu@ec2-54-243-24-167.compute-1.amazonaws.com] out: "
       ]
      },
      {
       "output_type": "stream",
       "stream": "stdout",
       "text": [
        "\n"
       ]
      },
      {
       "output_type": "stream",
       "stream": "stdout",
       "text": [
        "[ubuntu@ec2-54-243-24-167.compute-1.amazonaws.com] out: "
       ]
      },
      {
       "output_type": "stream",
       "stream": "stdout",
       "text": [
        "17% [8 Sources 4,023 B/934 kB 0%] [7 Sources 38.7 kB/71.8 kB 54%]"
       ]
      },
      {
       "output_type": "stream",
       "stream": "stdout",
       "text": [
        "\n"
       ]
      },
      {
       "output_type": "stream",
       "stream": "stdout",
       "text": [
        "[ubuntu@ec2-54-243-24-167.compute-1.amazonaws.com] out: "
       ]
      },
      {
       "output_type": "stream",
       "stream": "stdout",
       "text": [
        "                                                                 \n"
       ]
      },
      {
       "output_type": "stream",
       "stream": "stdout",
       "text": [
        "[ubuntu@ec2-54-243-24-167.compute-1.amazonaws.com] out: "
       ]
      },
      {
       "output_type": "stream",
       "stream": "stdout",
       "text": [
        "21% [8 Sources 17.6 kB/934 kB 2%]"
       ]
      },
      {
       "output_type": "stream",
       "stream": "stdout",
       "text": [
        "\n"
       ]
      },
      {
       "output_type": "stream",
       "stream": "stdout",
       "text": [
        "[ubuntu@ec2-54-243-24-167.compute-1.amazonaws.com] out: "
       ]
      },
      {
       "output_type": "stream",
       "stream": "stdout",
       "text": [
        "                                 \n"
       ]
      },
      {
       "output_type": "stream",
       "stream": "stdout",
       "text": [
        "[ubuntu@ec2-54-243-24-167.compute-1.amazonaws.com] out: "
       ]
      },
      {
       "output_type": "stream",
       "stream": "stdout",
       "text": [
        "Get: 9 http://security.ubuntu.com precise-security/universe Sources [24.3 kB]\n"
       ]
      },
      {
       "output_type": "stream",
       "stream": "stdout",
       "text": [
        "[ubuntu@ec2-54-243-24-167.compute-1.amazonaws.com] out: "
       ]
      },
      {
       "output_type": "stream",
       "stream": "stdout",
       "text": [
        "\n"
       ]
      },
      {
       "output_type": "stream",
       "stream": "stdout",
       "text": [
        "[ubuntu@ec2-54-243-24-167.compute-1.amazonaws.com] out: "
       ]
      },
      {
       "output_type": "stream",
       "stream": "stdout",
       "text": [
        "\n"
       ]
      },
      {
       "output_type": "stream",
       "stream": "stdout",
       "text": [
        "[ubuntu@ec2-54-243-24-167.compute-1.amazonaws.com] out: "
       ]
      },
      {
       "output_type": "stream",
       "stream": "stdout",
       "text": [
        "22% [7 Sources bzip2] [8 Sources 17.6 kB/934 kB 2%] [Waiting for headers]\n"
       ]
      },
      {
       "output_type": "stream",
       "stream": "stdout",
       "text": [
        "[ubuntu@ec2-54-243-24-167.compute-1.amazonaws.com] out: "
       ]
      },
      {
       "output_type": "stream",
       "stream": "stdout",
       "text": [
        "                                                                         \n"
       ]
      },
      {
       "output_type": "stream",
       "stream": "stdout",
       "text": [
        "[ubuntu@ec2-54-243-24-167.compute-1.amazonaws.com] out: "
       ]
      },
      {
       "output_type": "stream",
       "stream": "stdout",
       "text": [
        "Get: 10 http://security.ubuntu.com precise-security/main amd64 Packages [262 kB]\n"
       ]
      },
      {
       "output_type": "stream",
       "stream": "stdout",
       "text": [
        "[ubuntu@ec2-54-243-24-167.compute-1.amazonaws.com] out: "
       ]
      },
      {
       "output_type": "stream",
       "stream": "stdout",
       "text": [
        "\n"
       ]
      },
      {
       "output_type": "stream",
       "stream": "stdout",
       "text": [
        "[ubuntu@ec2-54-243-24-167.compute-1.amazonaws.com] out: "
       ]
      },
      {
       "output_type": "stream",
       "stream": "stdout",
       "text": [
        "\n"
       ]
      },
      {
       "output_type": "stream",
       "stream": "stdout",
       "text": [
        "[ubuntu@ec2-54-243-24-167.compute-1.amazonaws.com] out: "
       ]
      },
      {
       "output_type": "stream",
       "stream": "stdout",
       "text": [
        "21% [7 Sources bzip2] [8 Sources 17.6 kB/934 kB 2%] [10 Packages 34.4 kB/262 kB "
       ]
      },
      {
       "output_type": "stream",
       "stream": "stdout",
       "text": [
        "\n"
       ]
      },
      {
       "output_type": "stream",
       "stream": "stdout",
       "text": [
        "[ubuntu@ec2-54-243-24-167.compute-1.amazonaws.com] out: "
       ]
      },
      {
       "output_type": "stream",
       "stream": "stdout",
       "text": [
        "                                                                                \n"
       ]
      },
      {
       "output_type": "stream",
       "stream": "stdout",
       "text": [
        "[ubuntu@ec2-54-243-24-167.compute-1.amazonaws.com] out: "
       ]
      },
      {
       "output_type": "stream",
       "stream": "stdout",
       "text": [
        "23% [8 Sources 17.6 kB/934 kB 2%] [10 Packages 74.9 kB/262 kB 29%]"
       ]
      },
      {
       "output_type": "stream",
       "stream": "stdout",
       "text": [
        "\n"
       ]
      },
      {
       "output_type": "stream",
       "stream": "stdout",
       "text": [
        "[ubuntu@ec2-54-243-24-167.compute-1.amazonaws.com] out: "
       ]
      },
      {
       "output_type": "stream",
       "stream": "stdout",
       "text": [
        "                                                                  \n"
       ]
      },
      {
       "output_type": "stream",
       "stream": "stdout",
       "text": [
        "[ubuntu@ec2-54-243-24-167.compute-1.amazonaws.com] out: "
       ]
      },
      {
       "output_type": "stream",
       "stream": "stdout",
       "text": [
        "26% [8 Sources 17.6 kB/934 kB 2%] [10 Packages 115 kB/262 kB 44%]\n"
       ]
      },
      {
       "output_type": "stream",
       "stream": "stdout",
       "text": [
        "[ubuntu@ec2-54-243-24-167.compute-1.amazonaws.com] out: "
       ]
      },
      {
       "output_type": "stream",
       "stream": "stdout",
       "text": [
        "                                                                 \n"
       ]
      },
      {
       "output_type": "stream",
       "stream": "stdout",
       "text": [
        "[ubuntu@ec2-54-243-24-167.compute-1.amazonaws.com] out: "
       ]
      },
      {
       "output_type": "stream",
       "stream": "stdout",
       "text": [
        "50% [8 Sources 216 kB/934 kB 23%]"
       ]
      },
      {
       "output_type": "stream",
       "stream": "stdout",
       "text": [
        "\n"
       ]
      },
      {
       "output_type": "stream",
       "stream": "stdout",
       "text": [
        "[ubuntu@ec2-54-243-24-167.compute-1.amazonaws.com] out: "
       ]
      },
      {
       "output_type": "stream",
       "stream": "stdout",
       "text": [
        "                                 \n"
       ]
      },
      {
       "output_type": "stream",
       "stream": "stdout",
       "text": [
        "[ubuntu@ec2-54-243-24-167.compute-1.amazonaws.com] out: "
       ]
      },
      {
       "output_type": "stream",
       "stream": "stdout",
       "text": [
        "Get: 11 http://security.ubuntu.com precise-security/universe amd64 Packages [73.0 kB]\n"
       ]
      },
      {
       "output_type": "stream",
       "stream": "stdout",
       "text": [
        "[ubuntu@ec2-54-243-24-167.compute-1.amazonaws.com] out: "
       ]
      },
      {
       "output_type": "stream",
       "stream": "stdout",
       "text": [
        "\n"
       ]
      },
      {
       "output_type": "stream",
       "stream": "stdout",
       "text": [
        "[ubuntu@ec2-54-243-24-167.compute-1.amazonaws.com] out: "
       ]
      },
      {
       "output_type": "stream",
       "stream": "stdout",
       "text": [
        "\n"
       ]
      },
      {
       "output_type": "stream",
       "stream": "stdout",
       "text": [
        "[ubuntu@ec2-54-243-24-167.compute-1.amazonaws.com] out: "
       ]
      },
      {
       "output_type": "stream",
       "stream": "stdout",
       "text": [
        "52% [10 Packages bzip2] [8 Sources 216 kB/934 kB 23%] [11 Packages 60.4 kB/73.0 "
       ]
      },
      {
       "output_type": "stream",
       "stream": "stdout",
       "text": [
        "\n"
       ]
      },
      {
       "output_type": "stream",
       "stream": "stdout",
       "text": [
        "[ubuntu@ec2-54-243-24-167.compute-1.amazonaws.com] out: "
       ]
      },
      {
       "output_type": "stream",
       "stream": "stdout",
       "text": [
        "                                                                                \n"
       ]
      },
      {
       "output_type": "stream",
       "stream": "stdout",
       "text": [
        "[ubuntu@ec2-54-243-24-167.compute-1.amazonaws.com] out: "
       ]
      },
      {
       "output_type": "stream",
       "stream": "stdout",
       "text": [
        "53% [10 Packages bzip2] [8 Sources 216 kB/934 kB 23%] [Waiting for headers]"
       ]
      },
      {
       "output_type": "stream",
       "stream": "stdout",
       "text": [
        "\n"
       ]
      },
      {
       "output_type": "stream",
       "stream": "stdout",
       "text": [
        "[ubuntu@ec2-54-243-24-167.compute-1.amazonaws.com] out: "
       ]
      },
      {
       "output_type": "stream",
       "stream": "stdout",
       "text": [
        "                                                                           \n"
       ]
      },
      {
       "output_type": "stream",
       "stream": "stdout",
       "text": [
        "[ubuntu@ec2-54-243-24-167.compute-1.amazonaws.com] out: "
       ]
      },
      {
       "output_type": "stream",
       "stream": "stdout",
       "text": [
        "Get: 12 http://security.ubuntu.com precise-security/main i386 Packages [280 kB]\n"
       ]
      },
      {
       "output_type": "stream",
       "stream": "stdout",
       "text": [
        "[ubuntu@ec2-54-243-24-167.compute-1.amazonaws.com] out: "
       ]
      },
      {
       "output_type": "stream",
       "stream": "stdout",
       "text": [
        "\n"
       ]
      },
      {
       "output_type": "stream",
       "stream": "stdout",
       "text": [
        "[ubuntu@ec2-54-243-24-167.compute-1.amazonaws.com] out: "
       ]
      },
      {
       "output_type": "stream",
       "stream": "stdout",
       "text": [
        "\n"
       ]
      },
      {
       "output_type": "stream",
       "stream": "stdout",
       "text": [
        "[ubuntu@ec2-54-243-24-167.compute-1.amazonaws.com] out: "
       ]
      },
      {
       "output_type": "stream",
       "stream": "stdout",
       "text": [
        "48% [10 Packages bzip2] [8 Sources 216 kB/934 kB 23%] [12 Packages 73.5 kB/280 k"
       ]
      },
      {
       "output_type": "stream",
       "stream": "stdout",
       "text": [
        "\n"
       ]
      },
      {
       "output_type": "stream",
       "stream": "stdout",
       "text": [
        "[ubuntu@ec2-54-243-24-167.compute-1.amazonaws.com] out: "
       ]
      },
      {
       "output_type": "stream",
       "stream": "stdout",
       "text": [
        "                                                                                \n"
       ]
      },
      {
       "output_type": "stream",
       "stream": "stdout",
       "text": [
        "[ubuntu@ec2-54-243-24-167.compute-1.amazonaws.com] out: "
       ]
      },
      {
       "output_type": "stream",
       "stream": "stdout",
       "text": [
        "60% [10 Packages bzip2] [8 Sources 216 kB/934 kB 23%]"
       ]
      },
      {
       "output_type": "stream",
       "stream": "stdout",
       "text": [
        "\n"
       ]
      },
      {
       "output_type": "stream",
       "stream": "stdout",
       "text": [
        "[ubuntu@ec2-54-243-24-167.compute-1.amazonaws.com] out: "
       ]
      },
      {
       "output_type": "stream",
       "stream": "stdout",
       "text": [
        "                                                     \n"
       ]
      },
      {
       "output_type": "stream",
       "stream": "stdout",
       "text": [
        "[ubuntu@ec2-54-243-24-167.compute-1.amazonaws.com] out: "
       ]
      },
      {
       "output_type": "stream",
       "stream": "stdout",
       "text": [
        "Get: 13 http://security.ubuntu.com precise-security/universe i386 Packages [75.5 kB]\n"
       ]
      },
      {
       "output_type": "stream",
       "stream": "stdout",
       "text": [
        "[ubuntu@ec2-54-243-24-167.compute-1.amazonaws.com] out: "
       ]
      },
      {
       "output_type": "stream",
       "stream": "stdout",
       "text": [
        "\n"
       ]
      },
      {
       "output_type": "stream",
       "stream": "stdout",
       "text": [
        "[ubuntu@ec2-54-243-24-167.compute-1.amazonaws.com] out: "
       ]
      },
      {
       "output_type": "stream",
       "stream": "stdout",
       "text": [
        "\n"
       ]
      },
      {
       "output_type": "stream",
       "stream": "stdout",
       "text": [
        "[ubuntu@ec2-54-243-24-167.compute-1.amazonaws.com] out: "
       ]
      },
      {
       "output_type": "stream",
       "stream": "stdout",
       "text": [
        "61% [10 Packages bzip2] [8 Sources 216 kB/934 kB 23%] [13 Packages 64.8 kB/75.5 "
       ]
      },
      {
       "output_type": "stream",
       "stream": "stdout",
       "text": [
        "\n"
       ]
      },
      {
       "output_type": "stream",
       "stream": "stdout",
       "text": [
        "[ubuntu@ec2-54-243-24-167.compute-1.amazonaws.com] out: "
       ]
      },
      {
       "output_type": "stream",
       "stream": "stdout",
       "text": [
        "                                                                                \n"
       ]
      },
      {
       "output_type": "stream",
       "stream": "stdout",
       "text": [
        "[ubuntu@ec2-54-243-24-167.compute-1.amazonaws.com] out: "
       ]
      },
      {
       "output_type": "stream",
       "stream": "stdout",
       "text": [
        "62% [10 Packages bzip2] [8 Sources 216 kB/934 kB 23%] [Waiting for headers]"
       ]
      },
      {
       "output_type": "stream",
       "stream": "stdout",
       "text": [
        "\n"
       ]
      },
      {
       "output_type": "stream",
       "stream": "stdout",
       "text": [
        "[ubuntu@ec2-54-243-24-167.compute-1.amazonaws.com] out: "
       ]
      },
      {
       "output_type": "stream",
       "stream": "stdout",
       "text": [
        "                                                                           \n"
       ]
      },
      {
       "output_type": "stream",
       "stream": "stdout",
       "text": [
        "[ubuntu@ec2-54-243-24-167.compute-1.amazonaws.com] out: "
       ]
      },
      {
       "output_type": "stream",
       "stream": "stdout",
       "text": [
        "Get: 14 http://security.ubuntu.com precise-security/main TranslationIndex [74 B]\n"
       ]
      },
      {
       "output_type": "stream",
       "stream": "stdout",
       "text": [
        "[ubuntu@ec2-54-243-24-167.compute-1.amazonaws.com] out: "
       ]
      },
      {
       "output_type": "stream",
       "stream": "stdout",
       "text": [
        "\n"
       ]
      },
      {
       "output_type": "stream",
       "stream": "stdout",
       "text": [
        "[ubuntu@ec2-54-243-24-167.compute-1.amazonaws.com] out: "
       ]
      },
      {
       "output_type": "stream",
       "stream": "stdout",
       "text": [
        "\n"
       ]
      },
      {
       "output_type": "stream",
       "stream": "stdout",
       "text": [
        "[ubuntu@ec2-54-243-24-167.compute-1.amazonaws.com] out: "
       ]
      },
      {
       "output_type": "stream",
       "stream": "stdout",
       "text": [
        "62% [10 Packages bzip2] [8 Sources 216 kB/934 kB 23%] [Waiting for headers]"
       ]
      },
      {
       "output_type": "stream",
       "stream": "stdout",
       "text": [
        "\n"
       ]
      },
      {
       "output_type": "stream",
       "stream": "stdout",
       "text": [
        "[ubuntu@ec2-54-243-24-167.compute-1.amazonaws.com] out: "
       ]
      },
      {
       "output_type": "stream",
       "stream": "stdout",
       "text": [
        "                                                                           \n"
       ]
      },
      {
       "output_type": "stream",
       "stream": "stdout",
       "text": [
        "[ubuntu@ec2-54-243-24-167.compute-1.amazonaws.com] out: "
       ]
      },
      {
       "output_type": "stream",
       "stream": "stdout",
       "text": [
        "Get: 15 http://security.ubuntu.com precise-security/universe TranslationIndex [73 B]\n"
       ]
      },
      {
       "output_type": "stream",
       "stream": "stdout",
       "text": [
        "[ubuntu@ec2-54-243-24-167.compute-1.amazonaws.com] out: "
       ]
      },
      {
       "output_type": "stream",
       "stream": "stdout",
       "text": [
        "\n"
       ]
      },
      {
       "output_type": "stream",
       "stream": "stdout",
       "text": [
        "[ubuntu@ec2-54-243-24-167.compute-1.amazonaws.com] out: "
       ]
      },
      {
       "output_type": "stream",
       "stream": "stdout",
       "text": [
        "\n"
       ]
      },
      {
       "output_type": "stream",
       "stream": "stdout",
       "text": [
        "[ubuntu@ec2-54-243-24-167.compute-1.amazonaws.com] out: "
       ]
      },
      {
       "output_type": "stream",
       "stream": "stdout",
       "text": [
        "62% [10 Packages bzip2] [8 Sources 216 kB/934 kB 23%]"
       ]
      },
      {
       "output_type": "stream",
       "stream": "stdout",
       "text": [
        "\n"
       ]
      },
      {
       "output_type": "stream",
       "stream": "stdout",
       "text": [
        "[ubuntu@ec2-54-243-24-167.compute-1.amazonaws.com] out: "
       ]
      },
      {
       "output_type": "stream",
       "stream": "stdout",
       "text": [
        "                                                     \n"
       ]
      },
      {
       "output_type": "stream",
       "stream": "stdout",
       "text": [
        "[ubuntu@ec2-54-243-24-167.compute-1.amazonaws.com] out: "
       ]
      },
      {
       "output_type": "stream",
       "stream": "stdout",
       "text": [
        "62% [8 Sources 216 kB/934 kB 23%] [Waiting for headers]\n"
       ]
      },
      {
       "output_type": "stream",
       "stream": "stdout",
       "text": [
        "[ubuntu@ec2-54-243-24-167.compute-1.amazonaws.com] out: "
       ]
      },
      {
       "output_type": "stream",
       "stream": "stdout",
       "text": [
        "                                                       \n"
       ]
      },
      {
       "output_type": "stream",
       "stream": "stdout",
       "text": [
        "[ubuntu@ec2-54-243-24-167.compute-1.amazonaws.com] out: "
       ]
      },
      {
       "output_type": "stream",
       "stream": "stdout",
       "text": [
        "Get: 16 http://security.ubuntu.com precise-security/main Translation-en [125 kB]\n"
       ]
      },
      {
       "output_type": "stream",
       "stream": "stdout",
       "text": [
        "[ubuntu@ec2-54-243-24-167.compute-1.amazonaws.com] out: "
       ]
      },
      {
       "output_type": "stream",
       "stream": "stdout",
       "text": [
        "\n"
       ]
      },
      {
       "output_type": "stream",
       "stream": "stdout",
       "text": [
        "[ubuntu@ec2-54-243-24-167.compute-1.amazonaws.com] out: "
       ]
      },
      {
       "output_type": "stream",
       "stream": "stdout",
       "text": [
        "\n"
       ]
      },
      {
       "output_type": "stream",
       "stream": "stdout",
       "text": [
        "[ubuntu@ec2-54-243-24-167.compute-1.amazonaws.com] out: "
       ]
      },
      {
       "output_type": "stream",
       "stream": "stdout",
       "text": [
        "63% [11 Packages bzip2] [8 Sources 216 kB/934 kB 23%] [16 Translation-en 103 kB/\n"
       ]
      },
      {
       "output_type": "stream",
       "stream": "stdout",
       "text": [
        "[ubuntu@ec2-54-243-24-167.compute-1.amazonaws.com] out: "
       ]
      },
      {
       "output_type": "stream",
       "stream": "stdout",
       "text": [
        "                                                                                \n"
       ]
      },
      {
       "output_type": "stream",
       "stream": "stdout",
       "text": [
        "[ubuntu@ec2-54-243-24-167.compute-1.amazonaws.com] out: "
       ]
      },
      {
       "output_type": "stream",
       "stream": "stdout",
       "text": [
        "64% [11 Packages bzip2] [8 Sources 216 kB/934 kB 23%]"
       ]
      },
      {
       "output_type": "stream",
       "stream": "stdout",
       "text": [
        "\n"
       ]
      },
      {
       "output_type": "stream",
       "stream": "stdout",
       "text": [
        "[ubuntu@ec2-54-243-24-167.compute-1.amazonaws.com] out: "
       ]
      },
      {
       "output_type": "stream",
       "stream": "stdout",
       "text": [
        "                                                     \n"
       ]
      },
      {
       "output_type": "stream",
       "stream": "stdout",
       "text": [
        "[ubuntu@ec2-54-243-24-167.compute-1.amazonaws.com] out: "
       ]
      },
      {
       "output_type": "stream",
       "stream": "stdout",
       "text": [
        "Get: 17 http://security.ubuntu.com precise-security/universe Translation-en [45.7 kB]\n"
       ]
      },
      {
       "output_type": "stream",
       "stream": "stdout",
       "text": [
        "[ubuntu@ec2-54-243-24-167.compute-1.amazonaws.com] out: "
       ]
      },
      {
       "output_type": "stream",
       "stream": "stdout",
       "text": [
        "\n"
       ]
      },
      {
       "output_type": "stream",
       "stream": "stdout",
       "text": [
        "[ubuntu@ec2-54-243-24-167.compute-1.amazonaws.com] out: "
       ]
      },
      {
       "output_type": "stream",
       "stream": "stdout",
       "text": [
        "\n"
       ]
      },
      {
       "output_type": "stream",
       "stream": "stdout",
       "text": [
        "[ubuntu@ec2-54-243-24-167.compute-1.amazonaws.com] out: "
       ]
      },
      {
       "output_type": "stream",
       "stream": "stdout",
       "text": [
        "65% [11 Packages bzip2] [8 Sources 216 kB/934 kB 23%]"
       ]
      },
      {
       "output_type": "stream",
       "stream": "stdout",
       "text": [
        "\n"
       ]
      },
      {
       "output_type": "stream",
       "stream": "stdout",
       "text": [
        "[ubuntu@ec2-54-243-24-167.compute-1.amazonaws.com] out: "
       ]
      },
      {
       "output_type": "stream",
       "stream": "stdout",
       "text": [
        "                                                     \n"
       ]
      },
      {
       "output_type": "stream",
       "stream": "stdout",
       "text": [
        "[ubuntu@ec2-54-243-24-167.compute-1.amazonaws.com] out: "
       ]
      },
      {
       "output_type": "stream",
       "stream": "stdout",
       "text": [
        "65% [8 Sources 216 kB/934 kB 23%]"
       ]
      },
      {
       "output_type": "stream",
       "stream": "stdout",
       "text": [
        "\n"
       ]
      },
      {
       "output_type": "stream",
       "stream": "stdout",
       "text": [
        "[ubuntu@ec2-54-243-24-167.compute-1.amazonaws.com] out: "
       ]
      },
      {
       "output_type": "stream",
       "stream": "stdout",
       "text": [
        "                                 \n"
       ]
      },
      {
       "output_type": "stream",
       "stream": "stdout",
       "text": [
        "[ubuntu@ec2-54-243-24-167.compute-1.amazonaws.com] out: "
       ]
      },
      {
       "output_type": "stream",
       "stream": "stdout",
       "text": [
        "74% [8 Sources 405 kB/934 kB 43%]"
       ]
      },
      {
       "output_type": "stream",
       "stream": "stdout",
       "text": [
        "\n"
       ]
      },
      {
       "output_type": "stream",
       "stream": "stdout",
       "text": [
        "[ubuntu@ec2-54-243-24-167.compute-1.amazonaws.com] out: "
       ]
      },
      {
       "output_type": "stream",
       "stream": "stdout",
       "text": [
        "                                 \n"
       ]
      },
      {
       "output_type": "stream",
       "stream": "stdout",
       "text": [
        "[ubuntu@ec2-54-243-24-167.compute-1.amazonaws.com] out: "
       ]
      },
      {
       "output_type": "stream",
       "stream": "stdout",
       "text": [
        "100% [Working]"
       ]
      },
      {
       "output_type": "stream",
       "stream": "stdout",
       "text": [
        "\n"
       ]
      },
      {
       "output_type": "stream",
       "stream": "stdout",
       "text": [
        "[ubuntu@ec2-54-243-24-167.compute-1.amazonaws.com] out: "
       ]
      },
      {
       "output_type": "stream",
       "stream": "stdout",
       "text": [
        "              \n"
       ]
      },
      {
       "output_type": "stream",
       "stream": "stdout",
       "text": [
        "[ubuntu@ec2-54-243-24-167.compute-1.amazonaws.com] out: "
       ]
      },
      {
       "output_type": "stream",
       "stream": "stdout",
       "text": [
        "Get: 18 http://us-east-1.ec2.archive.ubuntu.com precise/universe Sources [5,019 kB]\n"
       ]
      },
      {
       "output_type": "stream",
       "stream": "stdout",
       "text": [
        "[ubuntu@ec2-54-243-24-167.compute-1.amazonaws.com] out: "
       ]
      },
      {
       "output_type": "stream",
       "stream": "stdout",
       "text": [
        "\n"
       ]
      },
      {
       "output_type": "stream",
       "stream": "stdout",
       "text": [
        "[ubuntu@ec2-54-243-24-167.compute-1.amazonaws.com] out: "
       ]
      },
      {
       "output_type": "stream",
       "stream": "stdout",
       "text": [
        "\n"
       ]
      },
      {
       "output_type": "stream",
       "stream": "stdout",
       "text": [
        "[ubuntu@ec2-54-243-24-167.compute-1.amazonaws.com] out: "
       ]
      },
      {
       "output_type": "stream",
       "stream": "stdout",
       "text": [
        "29% [8 Sources bzip2] [18 Sources 4,022 B/5,019 kB 0%]\n"
       ]
      },
      {
       "output_type": "stream",
       "stream": "stdout",
       "text": [
        "[ubuntu@ec2-54-243-24-167.compute-1.amazonaws.com] out: "
       ]
      },
      {
       "output_type": "stream",
       "stream": "stdout",
       "text": [
        "                                                      \n"
       ]
      },
      {
       "output_type": "stream",
       "stream": "stdout",
       "text": [
        "[ubuntu@ec2-54-243-24-167.compute-1.amazonaws.com] out: "
       ]
      },
      {
       "output_type": "stream",
       "stream": "stdout",
       "text": [
        "30% [18 Sources 89.6 kB/5,019 kB 2%]"
       ]
      },
      {
       "output_type": "stream",
       "stream": "stdout",
       "text": [
        "\n"
       ]
      },
      {
       "output_type": "stream",
       "stream": "stdout",
       "text": [
        "[ubuntu@ec2-54-243-24-167.compute-1.amazonaws.com] out: "
       ]
      },
      {
       "output_type": "stream",
       "stream": "stdout",
       "text": [
        "                                    \n"
       ]
      },
      {
       "output_type": "stream",
       "stream": "stdout",
       "text": [
        "[ubuntu@ec2-54-243-24-167.compute-1.amazonaws.com] out: "
       ]
      },
      {
       "output_type": "stream",
       "stream": "stdout",
       "text": [
        "38% [18 Sources 639 kB/5,019 kB 13%]"
       ]
      },
      {
       "output_type": "stream",
       "stream": "stdout",
       "text": [
        "\n"
       ]
      },
      {
       "output_type": "stream",
       "stream": "stdout",
       "text": [
        "[ubuntu@ec2-54-243-24-167.compute-1.amazonaws.com] out: "
       ]
      },
      {
       "output_type": "stream",
       "stream": "stdout",
       "text": [
        "                                    \n"
       ]
      },
      {
       "output_type": "stream",
       "stream": "stdout",
       "text": [
        "[ubuntu@ec2-54-243-24-167.compute-1.amazonaws.com] out: "
       ]
      },
      {
       "output_type": "stream",
       "stream": "stdout",
       "text": [
        "44% [18 Sources 1,062 kB/5,019 kB 21%]"
       ]
      },
      {
       "output_type": "stream",
       "stream": "stdout",
       "text": [
        "\n"
       ]
      },
      {
       "output_type": "stream",
       "stream": "stdout",
       "text": [
        "[ubuntu@ec2-54-243-24-167.compute-1.amazonaws.com] out: "
       ]
      },
      {
       "output_type": "stream",
       "stream": "stdout",
       "text": [
        "                                      \n"
       ]
      },
      {
       "output_type": "stream",
       "stream": "stdout",
       "text": [
        "[ubuntu@ec2-54-243-24-167.compute-1.amazonaws.com] out: "
       ]
      },
      {
       "output_type": "stream",
       "stream": "stdout",
       "text": [
        "54% [18 Sources 1,746 kB/5,019 kB 35%]"
       ]
      },
      {
       "output_type": "stream",
       "stream": "stdout",
       "text": [
        "\n"
       ]
      },
      {
       "output_type": "stream",
       "stream": "stdout",
       "text": [
        "[ubuntu@ec2-54-243-24-167.compute-1.amazonaws.com] out: "
       ]
      },
      {
       "output_type": "stream",
       "stream": "stdout",
       "text": [
        "                                      \n"
       ]
      },
      {
       "output_type": "stream",
       "stream": "stdout",
       "text": [
        "[ubuntu@ec2-54-243-24-167.compute-1.amazonaws.com] out: "
       ]
      },
      {
       "output_type": "stream",
       "stream": "stdout",
       "text": [
        "65% [18 Sources 2,529 kB/5,019 kB 50%]"
       ]
      },
      {
       "output_type": "stream",
       "stream": "stdout",
       "text": [
        "\n"
       ]
      },
      {
       "output_type": "stream",
       "stream": "stdout",
       "text": [
        "[ubuntu@ec2-54-243-24-167.compute-1.amazonaws.com] out: "
       ]
      },
      {
       "output_type": "stream",
       "stream": "stdout",
       "text": [
        "                                      \n"
       ]
      },
      {
       "output_type": "stream",
       "stream": "stdout",
       "text": [
        "[ubuntu@ec2-54-243-24-167.compute-1.amazonaws.com] out: "
       ]
      },
      {
       "output_type": "stream",
       "stream": "stdout",
       "text": [
        "76% [18 Sources 3,321 kB/5,019 kB 66%]"
       ]
      },
      {
       "output_type": "stream",
       "stream": "stdout",
       "text": [
        "\n"
       ]
      },
      {
       "output_type": "stream",
       "stream": "stdout",
       "text": [
        "[ubuntu@ec2-54-243-24-167.compute-1.amazonaws.com] out: "
       ]
      },
      {
       "output_type": "stream",
       "stream": "stdout",
       "text": [
        "                                      \n"
       ]
      },
      {
       "output_type": "stream",
       "stream": "stdout",
       "text": [
        "[ubuntu@ec2-54-243-24-167.compute-1.amazonaws.com] out: "
       ]
      },
      {
       "output_type": "stream",
       "stream": "stdout",
       "text": [
        "77% [18 Sources 3,393 kB/5,019 kB 68%]"
       ]
      },
      {
       "output_type": "stream",
       "stream": "stdout",
       "text": [
        "\n"
       ]
      },
      {
       "output_type": "stream",
       "stream": "stdout",
       "text": [
        "[ubuntu@ec2-54-243-24-167.compute-1.amazonaws.com] out: "
       ]
      },
      {
       "output_type": "stream",
       "stream": "stdout",
       "text": [
        "                                      \n"
       ]
      },
      {
       "output_type": "stream",
       "stream": "stdout",
       "text": [
        "[ubuntu@ec2-54-243-24-167.compute-1.amazonaws.com] out: "
       ]
      },
      {
       "output_type": "stream",
       "stream": "stdout",
       "text": [
        "87% [18 Sources 4,077 kB/5,019 kB 81%]"
       ]
      },
      {
       "output_type": "stream",
       "stream": "stdout",
       "text": [
        "\n"
       ]
      },
      {
       "output_type": "stream",
       "stream": "stdout",
       "text": [
        "[ubuntu@ec2-54-243-24-167.compute-1.amazonaws.com] out: "
       ]
      },
      {
       "output_type": "stream",
       "stream": "stdout",
       "text": [
        "                                      \n"
       ]
      },
      {
       "output_type": "stream",
       "stream": "stdout",
       "text": [
        "[ubuntu@ec2-54-243-24-167.compute-1.amazonaws.com] out: "
       ]
      },
      {
       "output_type": "stream",
       "stream": "stdout",
       "text": [
        "94% [18 Sources 4,563 kB/5,019 kB 91%]"
       ]
      },
      {
       "output_type": "stream",
       "stream": "stdout",
       "text": [
        "\n"
       ]
      },
      {
       "output_type": "stream",
       "stream": "stdout",
       "text": [
        "[ubuntu@ec2-54-243-24-167.compute-1.amazonaws.com] out: "
       ]
      },
      {
       "output_type": "stream",
       "stream": "stdout",
       "text": [
        "                                      \n"
       ]
      },
      {
       "output_type": "stream",
       "stream": "stdout",
       "text": [
        "[ubuntu@ec2-54-243-24-167.compute-1.amazonaws.com] out: "
       ]
      },
      {
       "output_type": "stream",
       "stream": "stdout",
       "text": [
        "100% [Working]                                                     1,170 kB/s 0s"
       ]
      },
      {
       "output_type": "stream",
       "stream": "stdout",
       "text": [
        "\n"
       ]
      },
      {
       "output_type": "stream",
       "stream": "stdout",
       "text": [
        "[ubuntu@ec2-54-243-24-167.compute-1.amazonaws.com] out: "
       ]
      },
      {
       "output_type": "stream",
       "stream": "stdout",
       "text": [
        "                                                                                \n"
       ]
      },
      {
       "output_type": "stream",
       "stream": "stdout",
       "text": [
        "[ubuntu@ec2-54-243-24-167.compute-1.amazonaws.com] out: "
       ]
      },
      {
       "output_type": "stream",
       "stream": "stdout",
       "text": [
        "Get: 19 http://us-east-1.ec2.archive.ubuntu.com precise/main amd64 Packages [1,273 kB]\n"
       ]
      },
      {
       "output_type": "stream",
       "stream": "stdout",
       "text": [
        "[ubuntu@ec2-54-243-24-167.compute-1.amazonaws.com] out: "
       ]
      },
      {
       "output_type": "stream",
       "stream": "stdout",
       "text": [
        "\n"
       ]
      },
      {
       "output_type": "stream",
       "stream": "stdout",
       "text": [
        "[ubuntu@ec2-54-243-24-167.compute-1.amazonaws.com] out: "
       ]
      },
      {
       "output_type": "stream",
       "stream": "stdout",
       "text": [
        "\n"
       ]
      },
      {
       "output_type": "stream",
       "stream": "stdout",
       "text": [
        "[ubuntu@ec2-54-243-24-167.compute-1.amazonaws.com] out: "
       ]
      },
      {
       "output_type": "stream",
       "stream": "stdout",
       "text": [
        "85% [18 Sources bzip2] [19 Packages 5,482 B/1,273 kB 0%]           1,170 kB/s 1s"
       ]
      },
      {
       "output_type": "stream",
       "stream": "stdout",
       "text": [
        "\n"
       ]
      },
      {
       "output_type": "stream",
       "stream": "stdout",
       "text": [
        "[ubuntu@ec2-54-243-24-167.compute-1.amazonaws.com] out: "
       ]
      },
      {
       "output_type": "stream",
       "stream": "stdout",
       "text": [
        "                                                                                \n"
       ]
      },
      {
       "output_type": "stream",
       "stream": "stdout",
       "text": [
        "[ubuntu@ec2-54-243-24-167.compute-1.amazonaws.com] out: "
       ]
      },
      {
       "output_type": "stream",
       "stream": "stdout",
       "text": [
        "100% [18 Sources bzip2] [Waiting for headers]                      1,170 kB/s 0s\n"
       ]
      },
      {
       "output_type": "stream",
       "stream": "stdout",
       "text": [
        "[ubuntu@ec2-54-243-24-167.compute-1.amazonaws.com] out: "
       ]
      },
      {
       "output_type": "stream",
       "stream": "stdout",
       "text": [
        "                                                                                \n"
       ]
      },
      {
       "output_type": "stream",
       "stream": "stdout",
       "text": [
        "[ubuntu@ec2-54-243-24-167.compute-1.amazonaws.com] out: "
       ]
      },
      {
       "output_type": "stream",
       "stream": "stdout",
       "text": [
        "Get: 20 http://us-east-1.ec2.archive.ubuntu.com precise/universe amd64 Packages [4,786 kB]\n"
       ]
      },
      {
       "output_type": "stream",
       "stream": "stdout",
       "text": [
        "[ubuntu@ec2-54-243-24-167.compute-1.amazonaws.com] out: "
       ]
      },
      {
       "output_type": "stream",
       "stream": "stdout",
       "text": [
        "\n"
       ]
      },
      {
       "output_type": "stream",
       "stream": "stdout",
       "text": [
        "[ubuntu@ec2-54-243-24-167.compute-1.amazonaws.com] out: "
       ]
      },
      {
       "output_type": "stream",
       "stream": "stdout",
       "text": [
        "\n"
       ]
      },
      {
       "output_type": "stream",
       "stream": "stdout",
       "text": [
        "[ubuntu@ec2-54-243-24-167.compute-1.amazonaws.com] out: "
       ]
      },
      {
       "output_type": "stream",
       "stream": "stdout",
       "text": [
        "64% [18 Sources bzip2] [20 Packages 51.9 kB/4,786 kB 1%]           1,170 kB/s 4s"
       ]
      },
      {
       "output_type": "stream",
       "stream": "stdout",
       "text": [
        "\n"
       ]
      },
      {
       "output_type": "stream",
       "stream": "stdout",
       "text": [
        "[ubuntu@ec2-54-243-24-167.compute-1.amazonaws.com] out: "
       ]
      },
      {
       "output_type": "stream",
       "stream": "stdout",
       "text": [
        "                                                                                \n"
       ]
      },
      {
       "output_type": "stream",
       "stream": "stdout",
       "text": [
        "[ubuntu@ec2-54-243-24-167.compute-1.amazonaws.com] out: "
       ]
      },
      {
       "output_type": "stream",
       "stream": "stdout",
       "text": [
        "77% [18 Sources bzip2] [20 Packages 1,755 kB/4,786 kB 37%]         1,170 kB/s 2s"
       ]
      },
      {
       "output_type": "stream",
       "stream": "stdout",
       "text": [
        "\n"
       ]
      },
      {
       "output_type": "stream",
       "stream": "stdout",
       "text": [
        "[ubuntu@ec2-54-243-24-167.compute-1.amazonaws.com] out: "
       ]
      },
      {
       "output_type": "stream",
       "stream": "stdout",
       "text": [
        "                                                                                \n"
       ]
      },
      {
       "output_type": "stream",
       "stream": "stdout",
       "text": [
        "[ubuntu@ec2-54-243-24-167.compute-1.amazonaws.com] out: "
       ]
      },
      {
       "output_type": "stream",
       "stream": "stdout",
       "text": [
        "83% [18 Sources bzip2] [20 Packages 2,610 kB/4,786 kB 55%]         1,170 kB/s 1s"
       ]
      },
      {
       "output_type": "stream",
       "stream": "stdout",
       "text": [
        "\n"
       ]
      },
      {
       "output_type": "stream",
       "stream": "stdout",
       "text": [
        "[ubuntu@ec2-54-243-24-167.compute-1.amazonaws.com] out: "
       ]
      },
      {
       "output_type": "stream",
       "stream": "stdout",
       "text": [
        "                                                                                \n"
       ]
      },
      {
       "output_type": "stream",
       "stream": "stdout",
       "text": [
        "[ubuntu@ec2-54-243-24-167.compute-1.amazonaws.com] out: "
       ]
      },
      {
       "output_type": "stream",
       "stream": "stdout",
       "text": [
        "88% [20 Packages 3,150 kB/4,786 kB 66%]                            1,170 kB/s 1s"
       ]
      },
      {
       "output_type": "stream",
       "stream": "stdout",
       "text": [
        "\n"
       ]
      },
      {
       "output_type": "stream",
       "stream": "stdout",
       "text": [
        "[ubuntu@ec2-54-243-24-167.compute-1.amazonaws.com] out: "
       ]
      },
      {
       "output_type": "stream",
       "stream": "stdout",
       "text": [
        "                                                                                \n"
       ]
      },
      {
       "output_type": "stream",
       "stream": "stdout",
       "text": [
        "[ubuntu@ec2-54-243-24-167.compute-1.amazonaws.com] out: "
       ]
      },
      {
       "output_type": "stream",
       "stream": "stdout",
       "text": [
        "94% [19 Packages bzip2] [20 Packages 4,014 kB/4,786 kB 84%]        1,170 kB/s 0s"
       ]
      },
      {
       "output_type": "stream",
       "stream": "stdout",
       "text": [
        "\n"
       ]
      },
      {
       "output_type": "stream",
       "stream": "stdout",
       "text": [
        "[ubuntu@ec2-54-243-24-167.compute-1.amazonaws.com] out: "
       ]
      },
      {
       "output_type": "stream",
       "stream": "stdout",
       "text": [
        "                                                                                \n"
       ]
      },
      {
       "output_type": "stream",
       "stream": "stdout",
       "text": [
        "[ubuntu@ec2-54-243-24-167.compute-1.amazonaws.com] out: "
       ]
      },
      {
       "output_type": "stream",
       "stream": "stdout",
       "text": [
        "100% [20 Packages 4,786 kB/4,786 kB 100%]                          1,170 kB/s 0s\n"
       ]
      },
      {
       "output_type": "stream",
       "stream": "stdout",
       "text": [
        "[ubuntu@ec2-54-243-24-167.compute-1.amazonaws.com] out: "
       ]
      },
      {
       "output_type": "stream",
       "stream": "stdout",
       "text": [
        "                                                                                \n"
       ]
      },
      {
       "output_type": "stream",
       "stream": "stdout",
       "text": [
        "[ubuntu@ec2-54-243-24-167.compute-1.amazonaws.com] out: "
       ]
      },
      {
       "output_type": "stream",
       "stream": "stdout",
       "text": [
        "100% [Working]                                                     1,170 kB/s 0s"
       ]
      },
      {
       "output_type": "stream",
       "stream": "stdout",
       "text": [
        "\n"
       ]
      },
      {
       "output_type": "stream",
       "stream": "stdout",
       "text": [
        "[ubuntu@ec2-54-243-24-167.compute-1.amazonaws.com] out: "
       ]
      },
      {
       "output_type": "stream",
       "stream": "stdout",
       "text": [
        "                                                                                \n"
       ]
      },
      {
       "output_type": "stream",
       "stream": "stdout",
       "text": [
        "[ubuntu@ec2-54-243-24-167.compute-1.amazonaws.com] out: "
       ]
      },
      {
       "output_type": "stream",
       "stream": "stdout",
       "text": [
        "Get: 21 http://us-east-1.ec2.archive.ubuntu.com precise/main i386 Packages [1,274 kB]\n"
       ]
      },
      {
       "output_type": "stream",
       "stream": "stdout",
       "text": [
        "[ubuntu@ec2-54-243-24-167.compute-1.amazonaws.com] out: "
       ]
      },
      {
       "output_type": "stream",
       "stream": "stdout",
       "text": [
        "\n"
       ]
      },
      {
       "output_type": "stream",
       "stream": "stdout",
       "text": [
        "[ubuntu@ec2-54-243-24-167.compute-1.amazonaws.com] out: "
       ]
      },
      {
       "output_type": "stream",
       "stream": "stdout",
       "text": [
        "\n"
       ]
      },
      {
       "output_type": "stream",
       "stream": "stdout",
       "text": [
        "[ubuntu@ec2-54-243-24-167.compute-1.amazonaws.com] out: "
       ]
      },
      {
       "output_type": "stream",
       "stream": "stdout",
       "text": [
        "91% [20 Packages bzip2] [21 Packages 4,022 B/1,274 kB 0%]          1,170 kB/s 1s"
       ]
      },
      {
       "output_type": "stream",
       "stream": "stdout",
       "text": [
        "\n"
       ]
      },
      {
       "output_type": "stream",
       "stream": "stdout",
       "text": [
        "[ubuntu@ec2-54-243-24-167.compute-1.amazonaws.com] out: "
       ]
      },
      {
       "output_type": "stream",
       "stream": "stdout",
       "text": [
        "                                                                                \n"
       ]
      },
      {
       "output_type": "stream",
       "stream": "stdout",
       "text": [
        "[ubuntu@ec2-54-243-24-167.compute-1.amazonaws.com] out: "
       ]
      },
      {
       "output_type": "stream",
       "stream": "stdout",
       "text": [
        "98% [20 Packages bzip2] [21 Packages 1,017 kB/1,274 kB 80%]        1,170 kB/s 0s\n"
       ]
      },
      {
       "output_type": "stream",
       "stream": "stdout",
       "text": [
        "[ubuntu@ec2-54-243-24-167.compute-1.amazonaws.com] out: "
       ]
      },
      {
       "output_type": "stream",
       "stream": "stdout",
       "text": [
        "                                                                                \n"
       ]
      },
      {
       "output_type": "stream",
       "stream": "stdout",
       "text": [
        "[ubuntu@ec2-54-243-24-167.compute-1.amazonaws.com] out: "
       ]
      },
      {
       "output_type": "stream",
       "stream": "stdout",
       "text": [
        "100% [20 Packages bzip2] [Waiting for headers]                     1,170 kB/s 0s"
       ]
      },
      {
       "output_type": "stream",
       "stream": "stdout",
       "text": [
        "\n"
       ]
      },
      {
       "output_type": "stream",
       "stream": "stdout",
       "text": [
        "[ubuntu@ec2-54-243-24-167.compute-1.amazonaws.com] out: "
       ]
      },
      {
       "output_type": "stream",
       "stream": "stdout",
       "text": [
        "                                                                                \n"
       ]
      },
      {
       "output_type": "stream",
       "stream": "stdout",
       "text": [
        "[ubuntu@ec2-54-243-24-167.compute-1.amazonaws.com] out: "
       ]
      },
      {
       "output_type": "stream",
       "stream": "stdout",
       "text": [
        "Get: 22 http://us-east-1.ec2.archive.ubuntu.com precise/universe i386 Packages [4,796 kB]\n"
       ]
      },
      {
       "output_type": "stream",
       "stream": "stdout",
       "text": [
        "[ubuntu@ec2-54-243-24-167.compute-1.amazonaws.com] out: "
       ]
      },
      {
       "output_type": "stream",
       "stream": "stdout",
       "text": [
        "\n"
       ]
      },
      {
       "output_type": "stream",
       "stream": "stdout",
       "text": [
        "[ubuntu@ec2-54-243-24-167.compute-1.amazonaws.com] out: "
       ]
      },
      {
       "output_type": "stream",
       "stream": "stdout",
       "text": [
        "\n"
       ]
      },
      {
       "output_type": "stream",
       "stream": "stdout",
       "text": [
        "[ubuntu@ec2-54-243-24-167.compute-1.amazonaws.com] out: "
       ]
      },
      {
       "output_type": "stream",
       "stream": "stdout",
       "text": [
        "75% [20 Packages bzip2] [22 Packages 8,642 B/4,796 kB 0%]          1,170 kB/s 4s"
       ]
      },
      {
       "output_type": "stream",
       "stream": "stdout",
       "text": [
        "\n"
       ]
      },
      {
       "output_type": "stream",
       "stream": "stdout",
       "text": [
        "[ubuntu@ec2-54-243-24-167.compute-1.amazonaws.com] out: "
       ]
      },
      {
       "output_type": "stream",
       "stream": "stdout",
       "text": [
        "                                                                                \n"
       ]
      },
      {
       "output_type": "stream",
       "stream": "stdout",
       "text": [
        "[ubuntu@ec2-54-243-24-167.compute-1.amazonaws.com] out: "
       ]
      },
      {
       "output_type": "stream",
       "stream": "stdout",
       "text": [
        "100% [20 Packages bzip2]                                           1,170 kB/s 0s\n"
       ]
      },
      {
       "output_type": "stream",
       "stream": "stdout",
       "text": [
        "[ubuntu@ec2-54-243-24-167.compute-1.amazonaws.com] out: "
       ]
      },
      {
       "output_type": "stream",
       "stream": "stdout",
       "text": [
        "                                                                                \n"
       ]
      },
      {
       "output_type": "stream",
       "stream": "stdout",
       "text": [
        "[ubuntu@ec2-54-243-24-167.compute-1.amazonaws.com] out: "
       ]
      },
      {
       "output_type": "stream",
       "stream": "stdout",
       "text": [
        "Get: 23 http://us-east-1.ec2.archive.ubuntu.com precise/main TranslationIndex [3,706 B]\n"
       ]
      },
      {
       "output_type": "stream",
       "stream": "stdout",
       "text": [
        "[ubuntu@ec2-54-243-24-167.compute-1.amazonaws.com] out: "
       ]
      },
      {
       "output_type": "stream",
       "stream": "stdout",
       "text": [
        "\n"
       ]
      },
      {
       "output_type": "stream",
       "stream": "stdout",
       "text": [
        "[ubuntu@ec2-54-243-24-167.compute-1.amazonaws.com] out: "
       ]
      },
      {
       "output_type": "stream",
       "stream": "stdout",
       "text": [
        "\n"
       ]
      },
      {
       "output_type": "stream",
       "stream": "stdout",
       "text": [
        "[ubuntu@ec2-54-243-24-167.compute-1.amazonaws.com] out: "
       ]
      },
      {
       "output_type": "stream",
       "stream": "stdout",
       "text": [
        "100% [20 Packages bzip2] [Waiting for headers]                     1,170 kB/s 0s\n"
       ]
      },
      {
       "output_type": "stream",
       "stream": "stdout",
       "text": [
        "[ubuntu@ec2-54-243-24-167.compute-1.amazonaws.com] out: "
       ]
      },
      {
       "output_type": "stream",
       "stream": "stdout",
       "text": [
        "                                                                                \n"
       ]
      },
      {
       "output_type": "stream",
       "stream": "stdout",
       "text": [
        "[ubuntu@ec2-54-243-24-167.compute-1.amazonaws.com] out: "
       ]
      },
      {
       "output_type": "stream",
       "stream": "stdout",
       "text": [
        "Get: 24 http://us-east-1.ec2.archive.ubuntu.com precise/universe TranslationIndex [2,922 B]\n"
       ]
      },
      {
       "output_type": "stream",
       "stream": "stdout",
       "text": [
        "[ubuntu@ec2-54-243-24-167.compute-1.amazonaws.com] out: "
       ]
      },
      {
       "output_type": "stream",
       "stream": "stdout",
       "text": [
        "\n"
       ]
      },
      {
       "output_type": "stream",
       "stream": "stdout",
       "text": [
        "[ubuntu@ec2-54-243-24-167.compute-1.amazonaws.com] out: "
       ]
      },
      {
       "output_type": "stream",
       "stream": "stdout",
       "text": [
        "\n"
       ]
      },
      {
       "output_type": "stream",
       "stream": "stdout",
       "text": [
        "[ubuntu@ec2-54-243-24-167.compute-1.amazonaws.com] out: "
       ]
      },
      {
       "output_type": "stream",
       "stream": "stdout",
       "text": [
        "100% [20 Packages bzip2] [Waiting for headers]                     1,170 kB/s 0s\n"
       ]
      },
      {
       "output_type": "stream",
       "stream": "stdout",
       "text": [
        "[ubuntu@ec2-54-243-24-167.compute-1.amazonaws.com] out: "
       ]
      },
      {
       "output_type": "stream",
       "stream": "stdout",
       "text": [
        "                                                                                \n"
       ]
      },
      {
       "output_type": "stream",
       "stream": "stdout",
       "text": [
        "[ubuntu@ec2-54-243-24-167.compute-1.amazonaws.com] out: "
       ]
      },
      {
       "output_type": "stream",
       "stream": "stdout",
       "text": [
        "Get: 25 http://us-east-1.ec2.archive.ubuntu.com precise-updates/main Sources [384 kB]\n"
       ]
      },
      {
       "output_type": "stream",
       "stream": "stdout",
       "text": [
        "[ubuntu@ec2-54-243-24-167.compute-1.amazonaws.com] out: "
       ]
      },
      {
       "output_type": "stream",
       "stream": "stdout",
       "text": [
        "\n"
       ]
      },
      {
       "output_type": "stream",
       "stream": "stdout",
       "text": [
        "[ubuntu@ec2-54-243-24-167.compute-1.amazonaws.com] out: "
       ]
      },
      {
       "output_type": "stream",
       "stream": "stdout",
       "text": [
        "\n"
       ]
      },
      {
       "output_type": "stream",
       "stream": "stdout",
       "text": [
        "[ubuntu@ec2-54-243-24-167.compute-1.amazonaws.com] out: "
       ]
      },
      {
       "output_type": "stream",
       "stream": "stdout",
       "text": [
        "98% [20 Packages bzip2] [25 Sources 26.6 kB/384 kB 7%]             1,170 kB/s 0s\n"
       ]
      },
      {
       "output_type": "stream",
       "stream": "stdout",
       "text": [
        "[ubuntu@ec2-54-243-24-167.compute-1.amazonaws.com] out: "
       ]
      },
      {
       "output_type": "stream",
       "stream": "stdout",
       "text": [
        "                                                                                \n"
       ]
      },
      {
       "output_type": "stream",
       "stream": "stdout",
       "text": [
        "[ubuntu@ec2-54-243-24-167.compute-1.amazonaws.com] out: "
       ]
      },
      {
       "output_type": "stream",
       "stream": "stdout",
       "text": [
        "100% [20 Packages bzip2]                                           1,170 kB/s 0s"
       ]
      },
      {
       "output_type": "stream",
       "stream": "stdout",
       "text": [
        "\n"
       ]
      },
      {
       "output_type": "stream",
       "stream": "stdout",
       "text": [
        "[ubuntu@ec2-54-243-24-167.compute-1.amazonaws.com] out: "
       ]
      },
      {
       "output_type": "stream",
       "stream": "stdout",
       "text": [
        "                                                                                \n"
       ]
      },
      {
       "output_type": "stream",
       "stream": "stdout",
       "text": [
        "[ubuntu@ec2-54-243-24-167.compute-1.amazonaws.com] out: "
       ]
      },
      {
       "output_type": "stream",
       "stream": "stdout",
       "text": [
        "Get: 26 http://us-east-1.ec2.archive.ubuntu.com precise-updates/universe Sources [88.4 kB]\n"
       ]
      },
      {
       "output_type": "stream",
       "stream": "stdout",
       "text": [
        "[ubuntu@ec2-54-243-24-167.compute-1.amazonaws.com] out: "
       ]
      },
      {
       "output_type": "stream",
       "stream": "stdout",
       "text": [
        "\n"
       ]
      },
      {
       "output_type": "stream",
       "stream": "stdout",
       "text": [
        "[ubuntu@ec2-54-243-24-167.compute-1.amazonaws.com] out: "
       ]
      },
      {
       "output_type": "stream",
       "stream": "stdout",
       "text": [
        "\n"
       ]
      },
      {
       "output_type": "stream",
       "stream": "stdout",
       "text": [
        "[ubuntu@ec2-54-243-24-167.compute-1.amazonaws.com] out: "
       ]
      },
      {
       "output_type": "stream",
       "stream": "stdout",
       "text": [
        "100% [20 Packages bzip2] [26 Sources 26.6 kB/88.4 kB 30%]          1,170 kB/s 0s"
       ]
      },
      {
       "output_type": "stream",
       "stream": "stdout",
       "text": [
        "\n"
       ]
      },
      {
       "output_type": "stream",
       "stream": "stdout",
       "text": [
        "[ubuntu@ec2-54-243-24-167.compute-1.amazonaws.com] out: "
       ]
      },
      {
       "output_type": "stream",
       "stream": "stdout",
       "text": [
        "                                                                                \n"
       ]
      },
      {
       "output_type": "stream",
       "stream": "stdout",
       "text": [
        "[ubuntu@ec2-54-243-24-167.compute-1.amazonaws.com] out: "
       ]
      },
      {
       "output_type": "stream",
       "stream": "stdout",
       "text": [
        "100% [20 Packages bzip2]                                           1,170 kB/s 0s\n"
       ]
      },
      {
       "output_type": "stream",
       "stream": "stdout",
       "text": [
        "[ubuntu@ec2-54-243-24-167.compute-1.amazonaws.com] out: "
       ]
      },
      {
       "output_type": "stream",
       "stream": "stdout",
       "text": [
        "                                                                                \n"
       ]
      },
      {
       "output_type": "stream",
       "stream": "stdout",
       "text": [
        "[ubuntu@ec2-54-243-24-167.compute-1.amazonaws.com] out: "
       ]
      },
      {
       "output_type": "stream",
       "stream": "stdout",
       "text": [
        "Get: 27 http://us-east-1.ec2.archive.ubuntu.com precise-updates/main amd64 Packages [618 kB]\n"
       ]
      },
      {
       "output_type": "stream",
       "stream": "stdout",
       "text": [
        "[ubuntu@ec2-54-243-24-167.compute-1.amazonaws.com] out: "
       ]
      },
      {
       "output_type": "stream",
       "stream": "stdout",
       "text": [
        "\n"
       ]
      },
      {
       "output_type": "stream",
       "stream": "stdout",
       "text": [
        "[ubuntu@ec2-54-243-24-167.compute-1.amazonaws.com] out: "
       ]
      },
      {
       "output_type": "stream",
       "stream": "stdout",
       "text": [
        "\n"
       ]
      },
      {
       "output_type": "stream",
       "stream": "stdout",
       "text": [
        "[ubuntu@ec2-54-243-24-167.compute-1.amazonaws.com] out: "
       ]
      },
      {
       "output_type": "stream",
       "stream": "stdout",
       "text": [
        "97% [20 Packages bzip2] [27 Packages 26.6 kB/618 kB 4%]            1,170 kB/s 0s\n"
       ]
      },
      {
       "output_type": "stream",
       "stream": "stdout",
       "text": [
        "[ubuntu@ec2-54-243-24-167.compute-1.amazonaws.com] out: "
       ]
      },
      {
       "output_type": "stream",
       "stream": "stdout",
       "text": [
        "                                                                                \n"
       ]
      },
      {
       "output_type": "stream",
       "stream": "stdout",
       "text": [
        "[ubuntu@ec2-54-243-24-167.compute-1.amazonaws.com] out: "
       ]
      },
      {
       "output_type": "stream",
       "stream": "stdout",
       "text": [
        "100% [20 Packages bzip2]                                           1,170 kB/s 0s"
       ]
      },
      {
       "output_type": "stream",
       "stream": "stdout",
       "text": [
        "\n"
       ]
      },
      {
       "output_type": "stream",
       "stream": "stdout",
       "text": [
        "[ubuntu@ec2-54-243-24-167.compute-1.amazonaws.com] out: "
       ]
      },
      {
       "output_type": "stream",
       "stream": "stdout",
       "text": [
        "                                                                                \n"
       ]
      },
      {
       "output_type": "stream",
       "stream": "stdout",
       "text": [
        "[ubuntu@ec2-54-243-24-167.compute-1.amazonaws.com] out: "
       ]
      },
      {
       "output_type": "stream",
       "stream": "stdout",
       "text": [
        "Get: 28 http://us-east-1.ec2.archive.ubuntu.com precise-updates/universe amd64 Packages [202 kB]\n"
       ]
      },
      {
       "output_type": "stream",
       "stream": "stdout",
       "text": [
        "[ubuntu@ec2-54-243-24-167.compute-1.amazonaws.com] out: "
       ]
      },
      {
       "output_type": "stream",
       "stream": "stdout",
       "text": [
        "\n"
       ]
      },
      {
       "output_type": "stream",
       "stream": "stdout",
       "text": [
        "[ubuntu@ec2-54-243-24-167.compute-1.amazonaws.com] out: "
       ]
      },
      {
       "output_type": "stream",
       "stream": "stdout",
       "text": [
        "\n"
       ]
      },
      {
       "output_type": "stream",
       "stream": "stdout",
       "text": [
        "[ubuntu@ec2-54-243-24-167.compute-1.amazonaws.com] out: "
       ]
      },
      {
       "output_type": "stream",
       "stream": "stdout",
       "text": [
        "99% [20 Packages bzip2] [28 Packages 26.6 kB/202 kB 13%]           1,170 kB/s 0s"
       ]
      },
      {
       "output_type": "stream",
       "stream": "stdout",
       "text": [
        "\n"
       ]
      },
      {
       "output_type": "stream",
       "stream": "stdout",
       "text": [
        "[ubuntu@ec2-54-243-24-167.compute-1.amazonaws.com] out: "
       ]
      },
      {
       "output_type": "stream",
       "stream": "stdout",
       "text": [
        "                                                                                \n"
       ]
      },
      {
       "output_type": "stream",
       "stream": "stdout",
       "text": [
        "[ubuntu@ec2-54-243-24-167.compute-1.amazonaws.com] out: "
       ]
      },
      {
       "output_type": "stream",
       "stream": "stdout",
       "text": [
        "100% [20 Packages bzip2] [Waiting for headers]                     1,170 kB/s 0s"
       ]
      },
      {
       "output_type": "stream",
       "stream": "stdout",
       "text": [
        "\n"
       ]
      },
      {
       "output_type": "stream",
       "stream": "stdout",
       "text": [
        "[ubuntu@ec2-54-243-24-167.compute-1.amazonaws.com] out: "
       ]
      },
      {
       "output_type": "stream",
       "stream": "stdout",
       "text": [
        "                                                                                \n"
       ]
      },
      {
       "output_type": "stream",
       "stream": "stdout",
       "text": [
        "[ubuntu@ec2-54-243-24-167.compute-1.amazonaws.com] out: "
       ]
      },
      {
       "output_type": "stream",
       "stream": "stdout",
       "text": [
        "Get: 29 http://us-east-1.ec2.archive.ubuntu.com precise-updates/main i386 Packages [631 kB]\n"
       ]
      },
      {
       "output_type": "stream",
       "stream": "stdout",
       "text": [
        "[ubuntu@ec2-54-243-24-167.compute-1.amazonaws.com] out: "
       ]
      },
      {
       "output_type": "stream",
       "stream": "stdout",
       "text": [
        "\n"
       ]
      },
      {
       "output_type": "stream",
       "stream": "stdout",
       "text": [
        "[ubuntu@ec2-54-243-24-167.compute-1.amazonaws.com] out: "
       ]
      },
      {
       "output_type": "stream",
       "stream": "stdout",
       "text": [
        "\n"
       ]
      },
      {
       "output_type": "stream",
       "stream": "stdout",
       "text": [
        "[ubuntu@ec2-54-243-24-167.compute-1.amazonaws.com] out: "
       ]
      },
      {
       "output_type": "stream",
       "stream": "stdout",
       "text": [
        "97% [20 Packages bzip2] [29 Packages 26.6 kB/631 kB 4%]            1,170 kB/s 0s"
       ]
      },
      {
       "output_type": "stream",
       "stream": "stdout",
       "text": [
        "\n"
       ]
      },
      {
       "output_type": "stream",
       "stream": "stdout",
       "text": [
        "[ubuntu@ec2-54-243-24-167.compute-1.amazonaws.com] out: "
       ]
      },
      {
       "output_type": "stream",
       "stream": "stdout",
       "text": [
        "                                                                                \n"
       ]
      },
      {
       "output_type": "stream",
       "stream": "stdout",
       "text": [
        "[ubuntu@ec2-54-243-24-167.compute-1.amazonaws.com] out: "
       ]
      },
      {
       "output_type": "stream",
       "stream": "stdout",
       "text": [
        "100% [20 Packages bzip2]                                           1,170 kB/s 0s\n"
       ]
      },
      {
       "output_type": "stream",
       "stream": "stdout",
       "text": [
        "[ubuntu@ec2-54-243-24-167.compute-1.amazonaws.com] out: "
       ]
      },
      {
       "output_type": "stream",
       "stream": "stdout",
       "text": [
        "                                                                                \n"
       ]
      },
      {
       "output_type": "stream",
       "stream": "stdout",
       "text": [
        "[ubuntu@ec2-54-243-24-167.compute-1.amazonaws.com] out: "
       ]
      },
      {
       "output_type": "stream",
       "stream": "stdout",
       "text": [
        "Get: 30 http://us-east-1.ec2.archive.ubuntu.com precise-updates/universe i386 Packages [205 kB]\n"
       ]
      },
      {
       "output_type": "stream",
       "stream": "stdout",
       "text": [
        "[ubuntu@ec2-54-243-24-167.compute-1.amazonaws.com] out: "
       ]
      },
      {
       "output_type": "stream",
       "stream": "stdout",
       "text": [
        "\n"
       ]
      },
      {
       "output_type": "stream",
       "stream": "stdout",
       "text": [
        "[ubuntu@ec2-54-243-24-167.compute-1.amazonaws.com] out: "
       ]
      },
      {
       "output_type": "stream",
       "stream": "stdout",
       "text": [
        "\n"
       ]
      },
      {
       "output_type": "stream",
       "stream": "stdout",
       "text": [
        "[ubuntu@ec2-54-243-24-167.compute-1.amazonaws.com] out: "
       ]
      },
      {
       "output_type": "stream",
       "stream": "stdout",
       "text": [
        "99% [20 Packages bzip2] [30 Packages 20.6 kB/205 kB 10%]           1,170 kB/s 0s\n"
       ]
      },
      {
       "output_type": "stream",
       "stream": "stdout",
       "text": [
        "[ubuntu@ec2-54-243-24-167.compute-1.amazonaws.com] out: "
       ]
      },
      {
       "output_type": "stream",
       "stream": "stdout",
       "text": [
        "                                                                                \n"
       ]
      },
      {
       "output_type": "stream",
       "stream": "stdout",
       "text": [
        "[ubuntu@ec2-54-243-24-167.compute-1.amazonaws.com] out: "
       ]
      },
      {
       "output_type": "stream",
       "stream": "stdout",
       "text": [
        "100% [20 Packages bzip2]                                           1,170 kB/s 0s\n"
       ]
      },
      {
       "output_type": "stream",
       "stream": "stdout",
       "text": [
        "[ubuntu@ec2-54-243-24-167.compute-1.amazonaws.com] out: "
       ]
      },
      {
       "output_type": "stream",
       "stream": "stdout",
       "text": [
        "                                                                                \n"
       ]
      },
      {
       "output_type": "stream",
       "stream": "stdout",
       "text": [
        "[ubuntu@ec2-54-243-24-167.compute-1.amazonaws.com] out: "
       ]
      },
      {
       "output_type": "stream",
       "stream": "stdout",
       "text": [
        "Get: 31 http://us-east-1.ec2.archive.ubuntu.com precise-updates/main TranslationIndex [3,564 B]\n"
       ]
      },
      {
       "output_type": "stream",
       "stream": "stdout",
       "text": [
        "[ubuntu@ec2-54-243-24-167.compute-1.amazonaws.com] out: "
       ]
      },
      {
       "output_type": "stream",
       "stream": "stdout",
       "text": [
        "\n"
       ]
      },
      {
       "output_type": "stream",
       "stream": "stdout",
       "text": [
        "[ubuntu@ec2-54-243-24-167.compute-1.amazonaws.com] out: "
       ]
      },
      {
       "output_type": "stream",
       "stream": "stdout",
       "text": [
        "\n"
       ]
      },
      {
       "output_type": "stream",
       "stream": "stdout",
       "text": [
        "[ubuntu@ec2-54-243-24-167.compute-1.amazonaws.com] out: "
       ]
      },
      {
       "output_type": "stream",
       "stream": "stdout",
       "text": [
        "100% [20 Packages bzip2] [Waiting for headers]                     1,170 kB/s 0s\n"
       ]
      },
      {
       "output_type": "stream",
       "stream": "stdout",
       "text": [
        "[ubuntu@ec2-54-243-24-167.compute-1.amazonaws.com] out: "
       ]
      },
      {
       "output_type": "stream",
       "stream": "stdout",
       "text": [
        "                                                                                \n"
       ]
      },
      {
       "output_type": "stream",
       "stream": "stdout",
       "text": [
        "[ubuntu@ec2-54-243-24-167.compute-1.amazonaws.com] out: "
       ]
      },
      {
       "output_type": "stream",
       "stream": "stdout",
       "text": [
        "Get: 32 http://us-east-1.ec2.archive.ubuntu.com precise-updates/universe TranslationIndex [2,850 B]\n"
       ]
      },
      {
       "output_type": "stream",
       "stream": "stdout",
       "text": [
        "[ubuntu@ec2-54-243-24-167.compute-1.amazonaws.com] out: "
       ]
      },
      {
       "output_type": "stream",
       "stream": "stdout",
       "text": [
        "\n"
       ]
      },
      {
       "output_type": "stream",
       "stream": "stdout",
       "text": [
        "[ubuntu@ec2-54-243-24-167.compute-1.amazonaws.com] out: "
       ]
      },
      {
       "output_type": "stream",
       "stream": "stdout",
       "text": [
        "\n"
       ]
      },
      {
       "output_type": "stream",
       "stream": "stdout",
       "text": [
        "[ubuntu@ec2-54-243-24-167.compute-1.amazonaws.com] out: "
       ]
      },
      {
       "output_type": "stream",
       "stream": "stdout",
       "text": [
        "100% [20 Packages bzip2] [Waiting for headers]                     1,170 kB/s 0s\n"
       ]
      },
      {
       "output_type": "stream",
       "stream": "stdout",
       "text": [
        "[ubuntu@ec2-54-243-24-167.compute-1.amazonaws.com] out: "
       ]
      },
      {
       "output_type": "stream",
       "stream": "stdout",
       "text": [
        "                                                                                \n"
       ]
      },
      {
       "output_type": "stream",
       "stream": "stdout",
       "text": [
        "[ubuntu@ec2-54-243-24-167.compute-1.amazonaws.com] out: "
       ]
      },
      {
       "output_type": "stream",
       "stream": "stdout",
       "text": [
        "Get: 33 http://us-east-1.ec2.archive.ubuntu.com precise/main Translation-en [726 kB]\n"
       ]
      },
      {
       "output_type": "stream",
       "stream": "stdout",
       "text": [
        "[ubuntu@ec2-54-243-24-167.compute-1.amazonaws.com] out: "
       ]
      },
      {
       "output_type": "stream",
       "stream": "stdout",
       "text": [
        "\n"
       ]
      },
      {
       "output_type": "stream",
       "stream": "stdout",
       "text": [
        "[ubuntu@ec2-54-243-24-167.compute-1.amazonaws.com] out: "
       ]
      },
      {
       "output_type": "stream",
       "stream": "stdout",
       "text": [
        "\n"
       ]
      },
      {
       "output_type": "stream",
       "stream": "stdout",
       "text": [
        "[ubuntu@ec2-54-243-24-167.compute-1.amazonaws.com] out: "
       ]
      },
      {
       "output_type": "stream",
       "stream": "stdout",
       "text": [
        "97% [20 Packages bzip2] [33 Translation-en 8,643 B/726 kB 1%]      1,170 kB/s 0s"
       ]
      },
      {
       "output_type": "stream",
       "stream": "stdout",
       "text": [
        "\n"
       ]
      },
      {
       "output_type": "stream",
       "stream": "stdout",
       "text": [
        "[ubuntu@ec2-54-243-24-167.compute-1.amazonaws.com] out: "
       ]
      },
      {
       "output_type": "stream",
       "stream": "stdout",
       "text": [
        "                                                                                \n"
       ]
      },
      {
       "output_type": "stream",
       "stream": "stdout",
       "text": [
        "[ubuntu@ec2-54-243-24-167.compute-1.amazonaws.com] out: "
       ]
      },
      {
       "output_type": "stream",
       "stream": "stdout",
       "text": [
        "100% [20 Packages bzip2]                                           1,170 kB/s 0s\n"
       ]
      },
      {
       "output_type": "stream",
       "stream": "stdout",
       "text": [
        "[ubuntu@ec2-54-243-24-167.compute-1.amazonaws.com] out: "
       ]
      },
      {
       "output_type": "stream",
       "stream": "stdout",
       "text": [
        "                                                                                \n"
       ]
      },
      {
       "output_type": "stream",
       "stream": "stdout",
       "text": [
        "[ubuntu@ec2-54-243-24-167.compute-1.amazonaws.com] out: "
       ]
      },
      {
       "output_type": "stream",
       "stream": "stdout",
       "text": [
        "Get: 34 http://us-east-1.ec2.archive.ubuntu.com precise/universe Translation-en [3,341 kB]\n"
       ]
      },
      {
       "output_type": "stream",
       "stream": "stdout",
       "text": [
        "[ubuntu@ec2-54-243-24-167.compute-1.amazonaws.com] out: "
       ]
      },
      {
       "output_type": "stream",
       "stream": "stdout",
       "text": [
        "\n"
       ]
      },
      {
       "output_type": "stream",
       "stream": "stdout",
       "text": [
        "[ubuntu@ec2-54-243-24-167.compute-1.amazonaws.com] out: "
       ]
      },
      {
       "output_type": "stream",
       "stream": "stdout",
       "text": [
        "\n"
       ]
      },
      {
       "output_type": "stream",
       "stream": "stdout",
       "text": [
        "[ubuntu@ec2-54-243-24-167.compute-1.amazonaws.com] out: "
       ]
      },
      {
       "output_type": "stream",
       "stream": "stdout",
       "text": [
        "87% [20 Packages bzip2] [34 Translation-en 8,642 B/3,341 kB 0%]    1,170 kB/s 2s"
       ]
      },
      {
       "output_type": "stream",
       "stream": "stdout",
       "text": [
        "\n"
       ]
      },
      {
       "output_type": "stream",
       "stream": "stdout",
       "text": [
        "[ubuntu@ec2-54-243-24-167.compute-1.amazonaws.com] out: "
       ]
      },
      {
       "output_type": "stream",
       "stream": "stdout",
       "text": [
        "                                                                                \n"
       ]
      },
      {
       "output_type": "stream",
       "stream": "stdout",
       "text": [
        "[ubuntu@ec2-54-243-24-167.compute-1.amazonaws.com] out: "
       ]
      },
      {
       "output_type": "stream",
       "stream": "stdout",
       "text": [
        "94% [20 Packages bzip2] [34 Translation-en 1,823 kB/3,341 kB 55%]  1,170 kB/s 1s"
       ]
      },
      {
       "output_type": "stream",
       "stream": "stdout",
       "text": [
        "\n"
       ]
      },
      {
       "output_type": "stream",
       "stream": "stdout",
       "text": [
        "[ubuntu@ec2-54-243-24-167.compute-1.amazonaws.com] out: "
       ]
      },
      {
       "output_type": "stream",
       "stream": "stdout",
       "text": [
        "                                                                                \n"
       ]
      },
      {
       "output_type": "stream",
       "stream": "stdout",
       "text": [
        "[ubuntu@ec2-54-243-24-167.compute-1.amazonaws.com] out: "
       ]
      },
      {
       "output_type": "stream",
       "stream": "stdout",
       "text": [
        "100% [20 Packages bzip2]                                           1,170 kB/s 0s"
       ]
      },
      {
       "output_type": "stream",
       "stream": "stdout",
       "text": [
        "\n"
       ]
      },
      {
       "output_type": "stream",
       "stream": "stdout",
       "text": [
        "[ubuntu@ec2-54-243-24-167.compute-1.amazonaws.com] out: "
       ]
      },
      {
       "output_type": "stream",
       "stream": "stdout",
       "text": [
        "                                                                                \n"
       ]
      },
      {
       "output_type": "stream",
       "stream": "stdout",
       "text": [
        "[ubuntu@ec2-54-243-24-167.compute-1.amazonaws.com] out: "
       ]
      },
      {
       "output_type": "stream",
       "stream": "stdout",
       "text": [
        "Get: 35 http://us-east-1.ec2.archive.ubuntu.com precise-updates/main Translation-en [277 kB]\n"
       ]
      },
      {
       "output_type": "stream",
       "stream": "stdout",
       "text": [
        "[ubuntu@ec2-54-243-24-167.compute-1.amazonaws.com] out: "
       ]
      },
      {
       "output_type": "stream",
       "stream": "stdout",
       "text": [
        "\n"
       ]
      },
      {
       "output_type": "stream",
       "stream": "stdout",
       "text": [
        "[ubuntu@ec2-54-243-24-167.compute-1.amazonaws.com] out: "
       ]
      },
      {
       "output_type": "stream",
       "stream": "stdout",
       "text": [
        "\n"
       ]
      },
      {
       "output_type": "stream",
       "stream": "stdout",
       "text": [
        "[ubuntu@ec2-54-243-24-167.compute-1.amazonaws.com] out: "
       ]
      },
      {
       "output_type": "stream",
       "stream": "stdout",
       "text": [
        "100% [20 Packages bzip2] [35 Translation-en 179 kB/277 kB 65%]     1,170 kB/s 0s"
       ]
      },
      {
       "output_type": "stream",
       "stream": "stdout",
       "text": [
        "\n"
       ]
      },
      {
       "output_type": "stream",
       "stream": "stdout",
       "text": [
        "[ubuntu@ec2-54-243-24-167.compute-1.amazonaws.com] out: "
       ]
      },
      {
       "output_type": "stream",
       "stream": "stdout",
       "text": [
        "                                                                                \n"
       ]
      },
      {
       "output_type": "stream",
       "stream": "stdout",
       "text": [
        "[ubuntu@ec2-54-243-24-167.compute-1.amazonaws.com] out: "
       ]
      },
      {
       "output_type": "stream",
       "stream": "stdout",
       "text": [
        "100% [20 Packages bzip2]                                           1,170 kB/s 0s"
       ]
      },
      {
       "output_type": "stream",
       "stream": "stdout",
       "text": [
        "\n"
       ]
      },
      {
       "output_type": "stream",
       "stream": "stdout",
       "text": [
        "[ubuntu@ec2-54-243-24-167.compute-1.amazonaws.com] out: "
       ]
      },
      {
       "output_type": "stream",
       "stream": "stdout",
       "text": [
        "                                                                                \n"
       ]
      },
      {
       "output_type": "stream",
       "stream": "stdout",
       "text": [
        "[ubuntu@ec2-54-243-24-167.compute-1.amazonaws.com] out: "
       ]
      },
      {
       "output_type": "stream",
       "stream": "stdout",
       "text": [
        "Get: 36 http://us-east-1.ec2.archive.ubuntu.com precise-updates/universe Translation-en [118 kB]\n"
       ]
      },
      {
       "output_type": "stream",
       "stream": "stdout",
       "text": [
        "[ubuntu@ec2-54-243-24-167.compute-1.amazonaws.com] out: "
       ]
      },
      {
       "output_type": "stream",
       "stream": "stdout",
       "text": [
        "\n"
       ]
      },
      {
       "output_type": "stream",
       "stream": "stdout",
       "text": [
        "[ubuntu@ec2-54-243-24-167.compute-1.amazonaws.com] out: "
       ]
      },
      {
       "output_type": "stream",
       "stream": "stdout",
       "text": [
        "\n"
       ]
      },
      {
       "output_type": "stream",
       "stream": "stdout",
       "text": [
        "[ubuntu@ec2-54-243-24-167.compute-1.amazonaws.com] out: "
       ]
      },
      {
       "output_type": "stream",
       "stream": "stdout",
       "text": [
        "100% [20 Packages bzip2] [36 Translation-en 8,403 B/118 kB 7%]     1,170 kB/s 0s"
       ]
      },
      {
       "output_type": "stream",
       "stream": "stdout",
       "text": [
        "\n"
       ]
      },
      {
       "output_type": "stream",
       "stream": "stdout",
       "text": [
        "[ubuntu@ec2-54-243-24-167.compute-1.amazonaws.com] out: "
       ]
      },
      {
       "output_type": "stream",
       "stream": "stdout",
       "text": [
        "                                                                                \n"
       ]
      },
      {
       "output_type": "stream",
       "stream": "stdout",
       "text": [
        "[ubuntu@ec2-54-243-24-167.compute-1.amazonaws.com] out: "
       ]
      },
      {
       "output_type": "stream",
       "stream": "stdout",
       "text": [
        "100% [20 Packages bzip2]                                           1,170 kB/s 0s"
       ]
      },
      {
       "output_type": "stream",
       "stream": "stdout",
       "text": [
        "\n"
       ]
      },
      {
       "output_type": "stream",
       "stream": "stdout",
       "text": [
        "[ubuntu@ec2-54-243-24-167.compute-1.amazonaws.com] out: "
       ]
      },
      {
       "output_type": "stream",
       "stream": "stdout",
       "text": [
        "                                                                                \n"
       ]
      },
      {
       "output_type": "stream",
       "stream": "stdout",
       "text": [
        "[ubuntu@ec2-54-243-24-167.compute-1.amazonaws.com] out: "
       ]
      },
      {
       "output_type": "stream",
       "stream": "stdout",
       "text": [
        "100% [Working]                                                     2,985 kB/s 0s"
       ]
      },
      {
       "output_type": "stream",
       "stream": "stdout",
       "text": [
        "\n"
       ]
      },
      {
       "output_type": "stream",
       "stream": "stdout",
       "text": [
        "[ubuntu@ec2-54-243-24-167.compute-1.amazonaws.com] out: "
       ]
      },
      {
       "output_type": "stream",
       "stream": "stdout",
       "text": [
        "                                                                                \n"
       ]
      },
      {
       "output_type": "stream",
       "stream": "stdout",
       "text": [
        "[ubuntu@ec2-54-243-24-167.compute-1.amazonaws.com] out: "
       ]
      },
      {
       "output_type": "stream",
       "stream": "stdout",
       "text": [
        "100% [21 Packages bzip2]                                           2,985 kB/s 0s"
       ]
      },
      {
       "output_type": "stream",
       "stream": "stdout",
       "text": [
        "\n"
       ]
      },
      {
       "output_type": "stream",
       "stream": "stdout",
       "text": [
        "[ubuntu@ec2-54-243-24-167.compute-1.amazonaws.com] out: "
       ]
      },
      {
       "output_type": "stream",
       "stream": "stdout",
       "text": [
        "                                                                                \n"
       ]
      },
      {
       "output_type": "stream",
       "stream": "stdout",
       "text": [
        "[ubuntu@ec2-54-243-24-167.compute-1.amazonaws.com] out: "
       ]
      },
      {
       "output_type": "stream",
       "stream": "stdout",
       "text": [
        "100% [Working]                                                     2,985 kB/s 0s"
       ]
      },
      {
       "output_type": "stream",
       "stream": "stdout",
       "text": [
        "\n"
       ]
      },
      {
       "output_type": "stream",
       "stream": "stdout",
       "text": [
        "[ubuntu@ec2-54-243-24-167.compute-1.amazonaws.com] out: "
       ]
      },
      {
       "output_type": "stream",
       "stream": "stdout",
       "text": [
        "                                                                                \n"
       ]
      },
      {
       "output_type": "stream",
       "stream": "stdout",
       "text": [
        "[ubuntu@ec2-54-243-24-167.compute-1.amazonaws.com] out: "
       ]
      },
      {
       "output_type": "stream",
       "stream": "stdout",
       "text": [
        "100% [22 Packages bzip2]                                           2,985 kB/s 0s"
       ]
      },
      {
       "output_type": "stream",
       "stream": "stdout",
       "text": [
        "\n"
       ]
      },
      {
       "output_type": "stream",
       "stream": "stdout",
       "text": [
        "[ubuntu@ec2-54-243-24-167.compute-1.amazonaws.com] out: "
       ]
      },
      {
       "output_type": "stream",
       "stream": "stdout",
       "text": [
        "                                                                                \n"
       ]
      },
      {
       "output_type": "stream",
       "stream": "stdout",
       "text": [
        "[ubuntu@ec2-54-243-24-167.compute-1.amazonaws.com] out: "
       ]
      },
      {
       "output_type": "stream",
       "stream": "stdout",
       "text": [
        "100% [Working]                                                     2,985 kB/s 0s"
       ]
      },
      {
       "output_type": "stream",
       "stream": "stdout",
       "text": [
        "\n"
       ]
      },
      {
       "output_type": "stream",
       "stream": "stdout",
       "text": [
        "[ubuntu@ec2-54-243-24-167.compute-1.amazonaws.com] out: "
       ]
      },
      {
       "output_type": "stream",
       "stream": "stdout",
       "text": [
        "                                                                                \n"
       ]
      },
      {
       "output_type": "stream",
       "stream": "stdout",
       "text": [
        "[ubuntu@ec2-54-243-24-167.compute-1.amazonaws.com] out: "
       ]
      },
      {
       "output_type": "stream",
       "stream": "stdout",
       "text": [
        "100% [34 Translation-en bzip2]                                     2,985 kB/s 0s"
       ]
      },
      {
       "output_type": "stream",
       "stream": "stdout",
       "text": [
        "\n"
       ]
      },
      {
       "output_type": "stream",
       "stream": "stdout",
       "text": [
        "[ubuntu@ec2-54-243-24-167.compute-1.amazonaws.com] out: "
       ]
      },
      {
       "output_type": "stream",
       "stream": "stdout",
       "text": [
        "                                                                                \n"
       ]
      },
      {
       "output_type": "stream",
       "stream": "stdout",
       "text": [
        "[ubuntu@ec2-54-243-24-167.compute-1.amazonaws.com] out: "
       ]
      },
      {
       "output_type": "stream",
       "stream": "stdout",
       "text": [
        "100% [Working]                                                     2,985 kB/s 0s"
       ]
      },
      {
       "output_type": "stream",
       "stream": "stdout",
       "text": [
        "\n"
       ]
      },
      {
       "output_type": "stream",
       "stream": "stdout",
       "text": [
        "[ubuntu@ec2-54-243-24-167.compute-1.amazonaws.com] out: "
       ]
      },
      {
       "output_type": "stream",
       "stream": "stdout",
       "text": [
        "                                                                                \n"
       ]
      },
      {
       "output_type": "stream",
       "stream": "stdout",
       "text": [
        "[ubuntu@ec2-54-243-24-167.compute-1.amazonaws.com] out: "
       ]
      },
      {
       "output_type": "stream",
       "stream": "stdout",
       "text": [
        "100% [Working]\n"
       ]
      },
      {
       "output_type": "stream",
       "stream": "stdout",
       "text": [
        "[ubuntu@ec2-54-243-24-167.compute-1.amazonaws.com] out: "
       ]
      },
      {
       "output_type": "stream",
       "stream": "stdout",
       "text": [
        "              \n"
       ]
      },
      {
       "output_type": "stream",
       "stream": "stdout",
       "text": [
        "[ubuntu@ec2-54-243-24-167.compute-1.amazonaws.com] out: "
       ]
      },
      {
       "output_type": "stream",
       "stream": "stdout",
       "text": [
        "Fetched 25.8 MB in 18s (1,406 kB/s)\n"
       ]
      },
      {
       "output_type": "stream",
       "stream": "stdout",
       "text": [
        "[ubuntu@ec2-54-243-24-167.compute-1.amazonaws.com] out: "
       ]
      },
      {
       "output_type": "stream",
       "stream": "stdout",
       "text": [
        "\n"
       ]
      },
      {
       "output_type": "stream",
       "stream": "stdout",
       "text": [
        "[ubuntu@ec2-54-243-24-167.compute-1.amazonaws.com] out: "
       ]
      },
      {
       "output_type": "stream",
       "stream": "stdout",
       "text": [
        "\n"
       ]
      },
      {
       "output_type": "stream",
       "stream": "stdout",
       "text": [
        "[ubuntu@ec2-54-243-24-167.compute-1.amazonaws.com] out: "
       ]
      },
      {
       "output_type": "stream",
       "stream": "stdout",
       "text": [
        "[  0%] Reading package lists"
       ]
      },
      {
       "output_type": "stream",
       "stream": "stdout",
       "text": [
        "\n"
       ]
      },
      {
       "output_type": "stream",
       "stream": "stdout",
       "text": [
        "[ubuntu@ec2-54-243-24-167.compute-1.amazonaws.com] out: "
       ]
      },
      {
       "output_type": "stream",
       "stream": "stdout",
       "text": [
        "                            \n"
       ]
      },
      {
       "output_type": "stream",
       "stream": "stdout",
       "text": [
        "[ubuntu@ec2-54-243-24-167.compute-1.amazonaws.com] out: "
       ]
      },
      {
       "output_type": "stream",
       "stream": "stdout",
       "text": [
        "[100%] Reading package lists"
       ]
      },
      {
       "output_type": "stream",
       "stream": "stdout",
       "text": [
        "\n"
       ]
      },
      {
       "output_type": "stream",
       "stream": "stdout",
       "text": [
        "[ubuntu@ec2-54-243-24-167.compute-1.amazonaws.com] out: "
       ]
      },
      {
       "output_type": "stream",
       "stream": "stdout",
       "text": [
        "                            \n"
       ]
      },
      {
       "output_type": "stream",
       "stream": "stdout",
       "text": [
        "[ubuntu@ec2-54-243-24-167.compute-1.amazonaws.com] out: "
       ]
      },
      {
       "output_type": "stream",
       "stream": "stdout",
       "text": [
        "\n"
       ]
      },
      {
       "output_type": "stream",
       "stream": "stdout",
       "text": [
        "[ubuntu@ec2-54-243-24-167.compute-1.amazonaws.com] out: "
       ]
      },
      {
       "output_type": "stream",
       "stream": "stdout",
       "text": [
        "Current status: 7 updates [+7], 90 new [+90].\n"
       ]
      },
      {
       "output_type": "stream",
       "stream": "stdout",
       "text": [
        "[ubuntu@ec2-54-243-24-167.compute-1.amazonaws.com] out: "
       ]
      },
      {
       "output_type": "stream",
       "stream": "stdout",
       "text": [
        "\n"
       ]
      },
      {
       "output_type": "stream",
       "stream": "stdout",
       "text": [
        "\n",
        "[ubuntu@ec2-54-243-24-167.compute-1.amazonaws.com] sudo: yes | aptitude upgrade\n",
        "[ubuntu@ec2-54-243-24-167.compute-1.amazonaws.com] out: "
       ]
      },
      {
       "output_type": "stream",
       "stream": "stdout",
       "text": [
        "\n"
       ]
      },
      {
       "output_type": "stream",
       "stream": "stdout",
       "text": [
        "[ubuntu@ec2-54-243-24-167.compute-1.amazonaws.com] out: "
       ]
      },
      {
       "output_type": "stream",
       "stream": "stdout",
       "text": [
        "\n"
       ]
      },
      {
       "output_type": "stream",
       "stream": "stdout",
       "text": [
        "[ubuntu@ec2-54-243-24-167.compute-1.amazonaws.com] out: "
       ]
      },
      {
       "output_type": "stream",
       "stream": "stdout",
       "text": [
        "[  0%] Reading package lists\n"
       ]
      },
      {
       "output_type": "stream",
       "stream": "stdout",
       "text": [
        "[ubuntu@ec2-54-243-24-167.compute-1.amazonaws.com] out: "
       ]
      },
      {
       "output_type": "stream",
       "stream": "stdout",
       "text": [
        "                            \n"
       ]
      },
      {
       "output_type": "stream",
       "stream": "stdout",
       "text": [
        "[ubuntu@ec2-54-243-24-167.compute-1.amazonaws.com] out: "
       ]
      },
      {
       "output_type": "stream",
       "stream": "stdout",
       "text": [
        "[100%] Reading package lists\n"
       ]
      },
      {
       "output_type": "stream",
       "stream": "stdout",
       "text": [
        "[ubuntu@ec2-54-243-24-167.compute-1.amazonaws.com] out: "
       ]
      },
      {
       "output_type": "stream",
       "stream": "stdout",
       "text": [
        "                            \n"
       ]
      },
      {
       "output_type": "stream",
       "stream": "stdout",
       "text": [
        "[ubuntu@ec2-54-243-24-167.compute-1.amazonaws.com] out: "
       ]
      },
      {
       "output_type": "stream",
       "stream": "stdout",
       "text": [
        "\n"
       ]
      },
      {
       "output_type": "stream",
       "stream": "stdout",
       "text": [
        "[ubuntu@ec2-54-243-24-167.compute-1.amazonaws.com] out: "
       ]
      },
      {
       "output_type": "stream",
       "stream": "stdout",
       "text": [
        "\n"
       ]
      },
      {
       "output_type": "stream",
       "stream": "stdout",
       "text": [
        "[ubuntu@ec2-54-243-24-167.compute-1.amazonaws.com] out: "
       ]
      },
      {
       "output_type": "stream",
       "stream": "stdout",
       "text": [
        "[  0%] Building dependency tree"
       ]
      },
      {
       "output_type": "stream",
       "stream": "stdout",
       "text": [
        "\n"
       ]
      },
      {
       "output_type": "stream",
       "stream": "stdout",
       "text": [
        "[ubuntu@ec2-54-243-24-167.compute-1.amazonaws.com] out: "
       ]
      },
      {
       "output_type": "stream",
       "stream": "stdout",
       "text": [
        "                               \n"
       ]
      },
      {
       "output_type": "stream",
       "stream": "stdout",
       "text": [
        "[ubuntu@ec2-54-243-24-167.compute-1.amazonaws.com] out: "
       ]
      },
      {
       "output_type": "stream",
       "stream": "stdout",
       "text": [
        "[100%] Building dependency tree"
       ]
      },
      {
       "output_type": "stream",
       "stream": "stdout",
       "text": [
        "\n"
       ]
      },
      {
       "output_type": "stream",
       "stream": "stdout",
       "text": [
        "[ubuntu@ec2-54-243-24-167.compute-1.amazonaws.com] out: "
       ]
      },
      {
       "output_type": "stream",
       "stream": "stdout",
       "text": [
        "                               \n"
       ]
      },
      {
       "output_type": "stream",
       "stream": "stdout",
       "text": [
        "[ubuntu@ec2-54-243-24-167.compute-1.amazonaws.com] out: "
       ]
      },
      {
       "output_type": "stream",
       "stream": "stdout",
       "text": [
        "[  0%] Reading state information\n"
       ]
      },
      {
       "output_type": "stream",
       "stream": "stdout",
       "text": [
        "[ubuntu@ec2-54-243-24-167.compute-1.amazonaws.com] out: "
       ]
      },
      {
       "output_type": "stream",
       "stream": "stdout",
       "text": [
        "                                \n"
       ]
      },
      {
       "output_type": "stream",
       "stream": "stdout",
       "text": [
        "[ubuntu@ec2-54-243-24-167.compute-1.amazonaws.com] out: "
       ]
      },
      {
       "output_type": "stream",
       "stream": "stdout",
       "text": [
        "[100%] Reading state information\n"
       ]
      },
      {
       "output_type": "stream",
       "stream": "stdout",
       "text": [
        "[ubuntu@ec2-54-243-24-167.compute-1.amazonaws.com] out: "
       ]
      },
      {
       "output_type": "stream",
       "stream": "stdout",
       "text": [
        "                                \n"
       ]
      },
      {
       "output_type": "stream",
       "stream": "stdout",
       "text": [
        "[ubuntu@ec2-54-243-24-167.compute-1.amazonaws.com] out: "
       ]
      },
      {
       "output_type": "stream",
       "stream": "stdout",
       "text": [
        "\n"
       ]
      },
      {
       "output_type": "stream",
       "stream": "stdout",
       "text": [
        "[ubuntu@ec2-54-243-24-167.compute-1.amazonaws.com] out: "
       ]
      },
      {
       "output_type": "stream",
       "stream": "stdout",
       "text": [
        "\n"
       ]
      },
      {
       "output_type": "stream",
       "stream": "stdout",
       "text": [
        "[ubuntu@ec2-54-243-24-167.compute-1.amazonaws.com] out: "
       ]
      },
      {
       "output_type": "stream",
       "stream": "stdout",
       "text": [
        "[  0%] Reading extended state information"
       ]
      },
      {
       "output_type": "stream",
       "stream": "stdout",
       "text": [
        "\n"
       ]
      },
      {
       "output_type": "stream",
       "stream": "stdout",
       "text": [
        "[ubuntu@ec2-54-243-24-167.compute-1.amazonaws.com] out: "
       ]
      },
      {
       "output_type": "stream",
       "stream": "stdout",
       "text": [
        "                                         \n"
       ]
      },
      {
       "output_type": "stream",
       "stream": "stdout",
       "text": [
        "[ubuntu@ec2-54-243-24-167.compute-1.amazonaws.com] out: "
       ]
      },
      {
       "output_type": "stream",
       "stream": "stdout",
       "text": [
        "\n"
       ]
      },
      {
       "output_type": "stream",
       "stream": "stdout",
       "text": [
        "[ubuntu@ec2-54-243-24-167.compute-1.amazonaws.com] out: "
       ]
      },
      {
       "output_type": "stream",
       "stream": "stdout",
       "text": [
        "\n"
       ]
      },
      {
       "output_type": "stream",
       "stream": "stdout",
       "text": [
        "[ubuntu@ec2-54-243-24-167.compute-1.amazonaws.com] out: "
       ]
      },
      {
       "output_type": "stream",
       "stream": "stdout",
       "text": [
        "[  0%] Initializing package states"
       ]
      },
      {
       "output_type": "stream",
       "stream": "stdout",
       "text": [
        "\n"
       ]
      },
      {
       "output_type": "stream",
       "stream": "stdout",
       "text": [
        "[ubuntu@ec2-54-243-24-167.compute-1.amazonaws.com] out: "
       ]
      },
      {
       "output_type": "stream",
       "stream": "stdout",
       "text": [
        "                                  \n"
       ]
      },
      {
       "output_type": "stream",
       "stream": "stdout",
       "text": [
        "[ubuntu@ec2-54-243-24-167.compute-1.amazonaws.com] out: "
       ]
      },
      {
       "output_type": "stream",
       "stream": "stdout",
       "text": [
        "[100%] Initializing package states\n"
       ]
      },
      {
       "output_type": "stream",
       "stream": "stdout",
       "text": [
        "[ubuntu@ec2-54-243-24-167.compute-1.amazonaws.com] out: "
       ]
      },
      {
       "output_type": "stream",
       "stream": "stdout",
       "text": [
        "                                  \n"
       ]
      },
      {
       "output_type": "stream",
       "stream": "stdout",
       "text": [
        "[ubuntu@ec2-54-243-24-167.compute-1.amazonaws.com] out: "
       ]
      },
      {
       "output_type": "stream",
       "stream": "stdout",
       "text": [
        "Resolving dependencies...\n"
       ]
      },
      {
       "output_type": "stream",
       "stream": "stdout",
       "text": [
        "[ubuntu@ec2-54-243-24-167.compute-1.amazonaws.com] out: "
       ]
      },
      {
       "output_type": "stream",
       "stream": "stdout",
       "text": [
        "The following NEW packages will be installed:\n"
       ]
      },
      {
       "output_type": "stream",
       "stream": "stdout",
       "text": [
        "[ubuntu@ec2-54-243-24-167.compute-1.amazonaws.com] out: "
       ]
      },
      {
       "output_type": "stream",
       "stream": "stdout",
       "text": [
        "  linux-headers-3.2.0-44{a} linux-headers-3.2.0-44-virtual{a} \n"
       ]
      },
      {
       "output_type": "stream",
       "stream": "stdout",
       "text": [
        "[ubuntu@ec2-54-243-24-167.compute-1.amazonaws.com] out: "
       ]
      },
      {
       "output_type": "stream",
       "stream": "stdout",
       "text": [
        "  linux-image-3.2.0-44-virtual{a} \n"
       ]
      },
      {
       "output_type": "stream",
       "stream": "stdout",
       "text": [
        "[ubuntu@ec2-54-243-24-167.compute-1.amazonaws.com] out: "
       ]
      },
      {
       "output_type": "stream",
       "stream": "stdout",
       "text": [
        "The following packages will be upgraded:\n"
       ]
      },
      {
       "output_type": "stream",
       "stream": "stdout",
       "text": [
        "[ubuntu@ec2-54-243-24-167.compute-1.amazonaws.com] out: "
       ]
      },
      {
       "output_type": "stream",
       "stream": "stdout",
       "text": [
        "  bash-completion linux-headers-virtual linux-image-virtual linux-virtual \n"
       ]
      },
      {
       "output_type": "stream",
       "stream": "stdout",
       "text": [
        "[ubuntu@ec2-54-243-24-167.compute-1.amazonaws.com] out: "
       ]
      },
      {
       "output_type": "stream",
       "stream": "stdout",
       "text": [
        "  python-apt python-apt-common rsyslog \n"
       ]
      },
      {
       "output_type": "stream",
       "stream": "stdout",
       "text": [
        "[ubuntu@ec2-54-243-24-167.compute-1.amazonaws.com] out: "
       ]
      },
      {
       "output_type": "stream",
       "stream": "stdout",
       "text": [
        "7 packages upgraded, 3 newly installed, 0 to remove and 0 not upgraded.\n"
       ]
      },
      {
       "output_type": "stream",
       "stream": "stdout",
       "text": [
        "[ubuntu@ec2-54-243-24-167.compute-1.amazonaws.com] out: "
       ]
      },
      {
       "output_type": "stream",
       "stream": "stdout",
       "text": [
        "Need to get 25.9 MB of archives. After unpacking 102 MB will be used.\n"
       ]
      },
      {
       "output_type": "stream",
       "stream": "stdout",
       "text": [
        "[ubuntu@ec2-54-243-24-167.compute-1.amazonaws.com] out: "
       ]
      },
      {
       "output_type": "stream",
       "stream": "stdout",
       "text": [
        "Do you want to continue? [Y/n/?] "
       ]
      },
      {
       "output_type": "stream",
       "stream": "stdout",
       "text": [
        "\n"
       ]
      },
      {
       "output_type": "stream",
       "stream": "stdout",
       "text": [
        "[ubuntu@ec2-54-243-24-167.compute-1.amazonaws.com] out: "
       ]
      },
      {
       "output_type": "stream",
       "stream": "stdout",
       "text": [
        "\n"
       ]
      },
      {
       "output_type": "stream",
       "stream": "stdout",
       "text": [
        "[ubuntu@ec2-54-243-24-167.compute-1.amazonaws.com] out: "
       ]
      },
      {
       "output_type": "stream",
       "stream": "stdout",
       "text": [
        "[  0%] Writing extended state information\n"
       ]
      },
      {
       "output_type": "stream",
       "stream": "stdout",
       "text": [
        "[ubuntu@ec2-54-243-24-167.compute-1.amazonaws.com] out: "
       ]
      },
      {
       "output_type": "stream",
       "stream": "stdout",
       "text": [
        "                                         \n"
       ]
      },
      {
       "output_type": "stream",
       "stream": "stdout",
       "text": [
        "[ubuntu@ec2-54-243-24-167.compute-1.amazonaws.com] out: "
       ]
      },
      {
       "output_type": "stream",
       "stream": "stdout",
       "text": [
        "[100%] Writing extended state information"
       ]
      },
      {
       "output_type": "stream",
       "stream": "stdout",
       "text": [
        "\n"
       ]
      },
      {
       "output_type": "stream",
       "stream": "stdout",
       "text": [
        "[ubuntu@ec2-54-243-24-167.compute-1.amazonaws.com] out: "
       ]
      },
      {
       "output_type": "stream",
       "stream": "stdout",
       "text": [
        "                                         \n"
       ]
      },
      {
       "output_type": "stream",
       "stream": "stdout",
       "text": [
        "[ubuntu@ec2-54-243-24-167.compute-1.amazonaws.com] out: "
       ]
      },
      {
       "output_type": "stream",
       "stream": "stdout",
       "text": [
        "\n"
       ]
      },
      {
       "output_type": "stream",
       "stream": "stdout",
       "text": [
        "[ubuntu@ec2-54-243-24-167.compute-1.amazonaws.com] out: "
       ]
      },
      {
       "output_type": "stream",
       "stream": "stdout",
       "text": [
        "\n"
       ]
      },
      {
       "output_type": "stream",
       "stream": "stdout",
       "text": [
        "[ubuntu@ec2-54-243-24-167.compute-1.amazonaws.com] out: "
       ]
      },
      {
       "output_type": "stream",
       "stream": "stdout",
       "text": [
        "0% [Working]"
       ]
      },
      {
       "output_type": "stream",
       "stream": "stdout",
       "text": [
        "\n"
       ]
      },
      {
       "output_type": "stream",
       "stream": "stdout",
       "text": [
        "[ubuntu@ec2-54-243-24-167.compute-1.amazonaws.com] out: "
       ]
      },
      {
       "output_type": "stream",
       "stream": "stdout",
       "text": [
        "            \n"
       ]
      },
      {
       "output_type": "stream",
       "stream": "stdout",
       "text": [
        "[ubuntu@ec2-54-243-24-167.compute-1.amazonaws.com] out: "
       ]
      },
      {
       "output_type": "stream",
       "stream": "stdout",
       "text": [
        "Get: 1 http://us-east-1.ec2.archive.ubuntu.com/ubuntu/ precise-updates/main bash-completion all 1:1.3-1ubuntu8.1 [134 kB]\n"
       ]
      },
      {
       "output_type": "stream",
       "stream": "stdout",
       "text": [
        "[ubuntu@ec2-54-243-24-167.compute-1.amazonaws.com] out: "
       ]
      },
      {
       "output_type": "stream",
       "stream": "stdout",
       "text": [
        "\n"
       ]
      },
      {
       "output_type": "stream",
       "stream": "stdout",
       "text": [
        "[ubuntu@ec2-54-243-24-167.compute-1.amazonaws.com] out: "
       ]
      },
      {
       "output_type": "stream",
       "stream": "stdout",
       "text": [
        "\n"
       ]
      },
      {
       "output_type": "stream",
       "stream": "stdout",
       "text": [
        "[ubuntu@ec2-54-243-24-167.compute-1.amazonaws.com] out: "
       ]
      },
      {
       "output_type": "stream",
       "stream": "stdout",
       "text": [
        "0% [1 bash-completion 0 B/134 kB 0%]\n"
       ]
      },
      {
       "output_type": "stream",
       "stream": "stdout",
       "text": [
        "[ubuntu@ec2-54-243-24-167.compute-1.amazonaws.com] out: "
       ]
      },
      {
       "output_type": "stream",
       "stream": "stdout",
       "text": [
        "                                    \n"
       ]
      },
      {
       "output_type": "stream",
       "stream": "stdout",
       "text": [
        "[ubuntu@ec2-54-243-24-167.compute-1.amazonaws.com] out: "
       ]
      },
      {
       "output_type": "stream",
       "stream": "stdout",
       "text": [
        "1% [Working]"
       ]
      },
      {
       "output_type": "stream",
       "stream": "stdout",
       "text": [
        "\n"
       ]
      },
      {
       "output_type": "stream",
       "stream": "stdout",
       "text": [
        "[ubuntu@ec2-54-243-24-167.compute-1.amazonaws.com] out: "
       ]
      },
      {
       "output_type": "stream",
       "stream": "stdout",
       "text": [
        "            \n"
       ]
      },
      {
       "output_type": "stream",
       "stream": "stdout",
       "text": [
        "[ubuntu@ec2-54-243-24-167.compute-1.amazonaws.com] out: "
       ]
      },
      {
       "output_type": "stream",
       "stream": "stdout",
       "text": [
        "Get: 2 http://us-east-1.ec2.archive.ubuntu.com/ubuntu/ precise-updates/main linux-image-3.2.0-44-virtual amd64 3.2.0-44.69 [12.5 MB]\n"
       ]
      },
      {
       "output_type": "stream",
       "stream": "stdout",
       "text": [
        "[ubuntu@ec2-54-243-24-167.compute-1.amazonaws.com] out: "
       ]
      },
      {
       "output_type": "stream",
       "stream": "stdout",
       "text": [
        "\n"
       ]
      },
      {
       "output_type": "stream",
       "stream": "stdout",
       "text": [
        "[ubuntu@ec2-54-243-24-167.compute-1.amazonaws.com] out: "
       ]
      },
      {
       "output_type": "stream",
       "stream": "stdout",
       "text": [
        "\n"
       ]
      },
      {
       "output_type": "stream",
       "stream": "stdout",
       "text": [
        "[ubuntu@ec2-54-243-24-167.compute-1.amazonaws.com] out: "
       ]
      },
      {
       "output_type": "stream",
       "stream": "stdout",
       "text": [
        "1% [2 linux-image-3.2.0-44-virtual 0 B/12.5 MB 0%]"
       ]
      },
      {
       "output_type": "stream",
       "stream": "stdout",
       "text": [
        "\n"
       ]
      },
      {
       "output_type": "stream",
       "stream": "stdout",
       "text": [
        "[ubuntu@ec2-54-243-24-167.compute-1.amazonaws.com] out: "
       ]
      },
      {
       "output_type": "stream",
       "stream": "stdout",
       "text": [
        "                                                  \n"
       ]
      },
      {
       "output_type": "stream",
       "stream": "stdout",
       "text": [
        "[ubuntu@ec2-54-243-24-167.compute-1.amazonaws.com] out: "
       ]
      },
      {
       "output_type": "stream",
       "stream": "stdout",
       "text": [
        "49% [Working]"
       ]
      },
      {
       "output_type": "stream",
       "stream": "stdout",
       "text": [
        "\n"
       ]
      },
      {
       "output_type": "stream",
       "stream": "stdout",
       "text": [
        "[ubuntu@ec2-54-243-24-167.compute-1.amazonaws.com] out: "
       ]
      },
      {
       "output_type": "stream",
       "stream": "stdout",
       "text": [
        "             \n"
       ]
      },
      {
       "output_type": "stream",
       "stream": "stdout",
       "text": [
        "[ubuntu@ec2-54-243-24-167.compute-1.amazonaws.com] out: "
       ]
      },
      {
       "output_type": "stream",
       "stream": "stdout",
       "text": [
        "Get: 3 http://us-east-1.ec2.archive.ubuntu.com/ubuntu/ precise-updates/main rsyslog amd64 5.8.6-1ubuntu8.2 [427 kB]\n"
       ]
      },
      {
       "output_type": "stream",
       "stream": "stdout",
       "text": [
        "[ubuntu@ec2-54-243-24-167.compute-1.amazonaws.com] out: "
       ]
      },
      {
       "output_type": "stream",
       "stream": "stdout",
       "text": [
        "\n"
       ]
      },
      {
       "output_type": "stream",
       "stream": "stdout",
       "text": [
        "[ubuntu@ec2-54-243-24-167.compute-1.amazonaws.com] out: "
       ]
      },
      {
       "output_type": "stream",
       "stream": "stdout",
       "text": [
        "\n"
       ]
      },
      {
       "output_type": "stream",
       "stream": "stdout",
       "text": [
        "[ubuntu@ec2-54-243-24-167.compute-1.amazonaws.com] out: "
       ]
      },
      {
       "output_type": "stream",
       "stream": "stdout",
       "text": [
        "49% [3 rsyslog 0 B/427 kB 0%]"
       ]
      },
      {
       "output_type": "stream",
       "stream": "stdout",
       "text": [
        "\n"
       ]
      },
      {
       "output_type": "stream",
       "stream": "stdout",
       "text": [
        "[ubuntu@ec2-54-243-24-167.compute-1.amazonaws.com] out: "
       ]
      },
      {
       "output_type": "stream",
       "stream": "stdout",
       "text": [
        "                             \n"
       ]
      },
      {
       "output_type": "stream",
       "stream": "stdout",
       "text": [
        "[ubuntu@ec2-54-243-24-167.compute-1.amazonaws.com] out: "
       ]
      },
      {
       "output_type": "stream",
       "stream": "stdout",
       "text": [
        "50% [Working]"
       ]
      },
      {
       "output_type": "stream",
       "stream": "stdout",
       "text": [
        "\n"
       ]
      },
      {
       "output_type": "stream",
       "stream": "stdout",
       "text": [
        "[ubuntu@ec2-54-243-24-167.compute-1.amazonaws.com] out: "
       ]
      },
      {
       "output_type": "stream",
       "stream": "stdout",
       "text": [
        "             \n"
       ]
      },
      {
       "output_type": "stream",
       "stream": "stdout",
       "text": [
        "[ubuntu@ec2-54-243-24-167.compute-1.amazonaws.com] out: "
       ]
      },
      {
       "output_type": "stream",
       "stream": "stdout",
       "text": [
        "Get: 4 http://us-east-1.ec2.archive.ubuntu.com/ubuntu/ precise-updates/main python-apt-common all 0.8.3ubuntu7.1 [21.7 kB]\n"
       ]
      },
      {
       "output_type": "stream",
       "stream": "stdout",
       "text": [
        "[ubuntu@ec2-54-243-24-167.compute-1.amazonaws.com] out: "
       ]
      },
      {
       "output_type": "stream",
       "stream": "stdout",
       "text": [
        "\n"
       ]
      },
      {
       "output_type": "stream",
       "stream": "stdout",
       "text": [
        "[ubuntu@ec2-54-243-24-167.compute-1.amazonaws.com] out: "
       ]
      },
      {
       "output_type": "stream",
       "stream": "stdout",
       "text": [
        "\n"
       ]
      },
      {
       "output_type": "stream",
       "stream": "stdout",
       "text": [
        "[ubuntu@ec2-54-243-24-167.compute-1.amazonaws.com] out: "
       ]
      },
      {
       "output_type": "stream",
       "stream": "stdout",
       "text": [
        "50% [4 python-apt-common 0 B/21.7 kB 0%]\n"
       ]
      },
      {
       "output_type": "stream",
       "stream": "stdout",
       "text": [
        "[ubuntu@ec2-54-243-24-167.compute-1.amazonaws.com] out: "
       ]
      },
      {
       "output_type": "stream",
       "stream": "stdout",
       "text": [
        "                                        \n"
       ]
      },
      {
       "output_type": "stream",
       "stream": "stdout",
       "text": [
        "[ubuntu@ec2-54-243-24-167.compute-1.amazonaws.com] out: "
       ]
      },
      {
       "output_type": "stream",
       "stream": "stdout",
       "text": [
        "50% [Working]"
       ]
      },
      {
       "output_type": "stream",
       "stream": "stdout",
       "text": [
        "\n"
       ]
      },
      {
       "output_type": "stream",
       "stream": "stdout",
       "text": [
        "[ubuntu@ec2-54-243-24-167.compute-1.amazonaws.com] out: "
       ]
      },
      {
       "output_type": "stream",
       "stream": "stdout",
       "text": [
        "             \n"
       ]
      },
      {
       "output_type": "stream",
       "stream": "stdout",
       "text": [
        "[ubuntu@ec2-54-243-24-167.compute-1.amazonaws.com] out: "
       ]
      },
      {
       "output_type": "stream",
       "stream": "stdout",
       "text": [
        "Get: 5 http://us-east-1.ec2.archive.ubuntu.com/ubuntu/ precise-updates/main python-apt amd64 0.8.3ubuntu7.1 [188 kB]\n"
       ]
      },
      {
       "output_type": "stream",
       "stream": "stdout",
       "text": [
        "[ubuntu@ec2-54-243-24-167.compute-1.amazonaws.com] out: "
       ]
      },
      {
       "output_type": "stream",
       "stream": "stdout",
       "text": [
        "\n"
       ]
      },
      {
       "output_type": "stream",
       "stream": "stdout",
       "text": [
        "[ubuntu@ec2-54-243-24-167.compute-1.amazonaws.com] out: "
       ]
      },
      {
       "output_type": "stream",
       "stream": "stdout",
       "text": [
        "\n"
       ]
      },
      {
       "output_type": "stream",
       "stream": "stdout",
       "text": [
        "[ubuntu@ec2-54-243-24-167.compute-1.amazonaws.com] out: "
       ]
      },
      {
       "output_type": "stream",
       "stream": "stdout",
       "text": [
        "50% [5 python-apt 0 B/188 kB 0%]\n"
       ]
      },
      {
       "output_type": "stream",
       "stream": "stdout",
       "text": [
        "[ubuntu@ec2-54-243-24-167.compute-1.amazonaws.com] out: "
       ]
      },
      {
       "output_type": "stream",
       "stream": "stdout",
       "text": [
        "                                \n"
       ]
      },
      {
       "output_type": "stream",
       "stream": "stdout",
       "text": [
        "[ubuntu@ec2-54-243-24-167.compute-1.amazonaws.com] out: "
       ]
      },
      {
       "output_type": "stream",
       "stream": "stdout",
       "text": [
        "51% [Working]"
       ]
      },
      {
       "output_type": "stream",
       "stream": "stdout",
       "text": [
        "\n"
       ]
      },
      {
       "output_type": "stream",
       "stream": "stdout",
       "text": [
        "[ubuntu@ec2-54-243-24-167.compute-1.amazonaws.com] out: "
       ]
      },
      {
       "output_type": "stream",
       "stream": "stdout",
       "text": [
        "             \n"
       ]
      },
      {
       "output_type": "stream",
       "stream": "stdout",
       "text": [
        "[ubuntu@ec2-54-243-24-167.compute-1.amazonaws.com] out: "
       ]
      },
      {
       "output_type": "stream",
       "stream": "stdout",
       "text": [
        "Get: 6 http://us-east-1.ec2.archive.ubuntu.com/ubuntu/ precise-updates/main linux-headers-3.2.0-44 all 3.2.0-44.69 [11.7 MB]\n"
       ]
      },
      {
       "output_type": "stream",
       "stream": "stdout",
       "text": [
        "[ubuntu@ec2-54-243-24-167.compute-1.amazonaws.com] out: "
       ]
      },
      {
       "output_type": "stream",
       "stream": "stdout",
       "text": [
        "\n"
       ]
      },
      {
       "output_type": "stream",
       "stream": "stdout",
       "text": [
        "[ubuntu@ec2-54-243-24-167.compute-1.amazonaws.com] out: "
       ]
      },
      {
       "output_type": "stream",
       "stream": "stdout",
       "text": [
        "\n"
       ]
      },
      {
       "output_type": "stream",
       "stream": "stdout",
       "text": [
        "[ubuntu@ec2-54-243-24-167.compute-1.amazonaws.com] out: "
       ]
      },
      {
       "output_type": "stream",
       "stream": "stdout",
       "text": [
        "51% [6 linux-headers-3.2.0-44 0 B/11.7 MB 0%]"
       ]
      },
      {
       "output_type": "stream",
       "stream": "stdout",
       "text": [
        "\n"
       ]
      },
      {
       "output_type": "stream",
       "stream": "stdout",
       "text": [
        "[ubuntu@ec2-54-243-24-167.compute-1.amazonaws.com] out: "
       ]
      },
      {
       "output_type": "stream",
       "stream": "stdout",
       "text": [
        "                                             \n"
       ]
      },
      {
       "output_type": "stream",
       "stream": "stdout",
       "text": [
        "[ubuntu@ec2-54-243-24-167.compute-1.amazonaws.com] out: "
       ]
      },
      {
       "output_type": "stream",
       "stream": "stdout",
       "text": [
        "96% [Working]"
       ]
      },
      {
       "output_type": "stream",
       "stream": "stdout",
       "text": [
        "\n"
       ]
      },
      {
       "output_type": "stream",
       "stream": "stdout",
       "text": [
        "[ubuntu@ec2-54-243-24-167.compute-1.amazonaws.com] out: "
       ]
      },
      {
       "output_type": "stream",
       "stream": "stdout",
       "text": [
        "             \n"
       ]
      },
      {
       "output_type": "stream",
       "stream": "stdout",
       "text": [
        "[ubuntu@ec2-54-243-24-167.compute-1.amazonaws.com] out: "
       ]
      },
      {
       "output_type": "stream",
       "stream": "stdout",
       "text": [
        "Get: 7 http://us-east-1.ec2.archive.ubuntu.com/ubuntu/ precise-updates/main linux-headers-3.2.0-44-virtual amd64 3.2.0-44.69 [983 kB]\n"
       ]
      },
      {
       "output_type": "stream",
       "stream": "stdout",
       "text": [
        "[ubuntu@ec2-54-243-24-167.compute-1.amazonaws.com] out: "
       ]
      },
      {
       "output_type": "stream",
       "stream": "stdout",
       "text": [
        "\n"
       ]
      },
      {
       "output_type": "stream",
       "stream": "stdout",
       "text": [
        "[ubuntu@ec2-54-243-24-167.compute-1.amazonaws.com] out: "
       ]
      },
      {
       "output_type": "stream",
       "stream": "stdout",
       "text": [
        "\n"
       ]
      },
      {
       "output_type": "stream",
       "stream": "stdout",
       "text": [
        "[ubuntu@ec2-54-243-24-167.compute-1.amazonaws.com] out: "
       ]
      },
      {
       "output_type": "stream",
       "stream": "stdout",
       "text": [
        "96% [7 linux-headers-3.2.0-44-virtual 0 B/983 kB 0%]\n"
       ]
      },
      {
       "output_type": "stream",
       "stream": "stdout",
       "text": [
        "[ubuntu@ec2-54-243-24-167.compute-1.amazonaws.com] out: "
       ]
      },
      {
       "output_type": "stream",
       "stream": "stdout",
       "text": [
        "                                                    \n"
       ]
      },
      {
       "output_type": "stream",
       "stream": "stdout",
       "text": [
        "[ubuntu@ec2-54-243-24-167.compute-1.amazonaws.com] out: "
       ]
      },
      {
       "output_type": "stream",
       "stream": "stdout",
       "text": [
        "100% [Working]"
       ]
      },
      {
       "output_type": "stream",
       "stream": "stdout",
       "text": [
        "\n"
       ]
      },
      {
       "output_type": "stream",
       "stream": "stdout",
       "text": [
        "[ubuntu@ec2-54-243-24-167.compute-1.amazonaws.com] out: "
       ]
      },
      {
       "output_type": "stream",
       "stream": "stdout",
       "text": [
        "              \n"
       ]
      },
      {
       "output_type": "stream",
       "stream": "stdout",
       "text": [
        "[ubuntu@ec2-54-243-24-167.compute-1.amazonaws.com] out: "
       ]
      },
      {
       "output_type": "stream",
       "stream": "stdout",
       "text": [
        "Get: 8 http://us-east-1.ec2.archive.ubuntu.com/ubuntu/ precise-updates/main linux-virtual amd64 3.2.0.44.53 [1,760 B]\n"
       ]
      },
      {
       "output_type": "stream",
       "stream": "stdout",
       "text": [
        "[ubuntu@ec2-54-243-24-167.compute-1.amazonaws.com] out: "
       ]
      },
      {
       "output_type": "stream",
       "stream": "stdout",
       "text": [
        "\n"
       ]
      },
      {
       "output_type": "stream",
       "stream": "stdout",
       "text": [
        "[ubuntu@ec2-54-243-24-167.compute-1.amazonaws.com] out: "
       ]
      },
      {
       "output_type": "stream",
       "stream": "stdout",
       "text": [
        "\n"
       ]
      },
      {
       "output_type": "stream",
       "stream": "stdout",
       "text": [
        "[ubuntu@ec2-54-243-24-167.compute-1.amazonaws.com] out: "
       ]
      },
      {
       "output_type": "stream",
       "stream": "stdout",
       "text": [
        "100% [8 linux-virtual 0 B/1,760 B 0%]\n"
       ]
      },
      {
       "output_type": "stream",
       "stream": "stdout",
       "text": [
        "[ubuntu@ec2-54-243-24-167.compute-1.amazonaws.com] out: "
       ]
      },
      {
       "output_type": "stream",
       "stream": "stdout",
       "text": [
        "                                     \n"
       ]
      },
      {
       "output_type": "stream",
       "stream": "stdout",
       "text": [
        "[ubuntu@ec2-54-243-24-167.compute-1.amazonaws.com] out: "
       ]
      },
      {
       "output_type": "stream",
       "stream": "stdout",
       "text": [
        "100% [Working]"
       ]
      },
      {
       "output_type": "stream",
       "stream": "stdout",
       "text": [
        "\n"
       ]
      },
      {
       "output_type": "stream",
       "stream": "stdout",
       "text": [
        "[ubuntu@ec2-54-243-24-167.compute-1.amazonaws.com] out: "
       ]
      },
      {
       "output_type": "stream",
       "stream": "stdout",
       "text": [
        "              \n"
       ]
      },
      {
       "output_type": "stream",
       "stream": "stdout",
       "text": [
        "[ubuntu@ec2-54-243-24-167.compute-1.amazonaws.com] out: "
       ]
      },
      {
       "output_type": "stream",
       "stream": "stdout",
       "text": [
        "Get: 9 http://us-east-1.ec2.archive.ubuntu.com/ubuntu/ precise-updates/main linux-image-virtual amd64 3.2.0.44.53 [2,504 B]\n"
       ]
      },
      {
       "output_type": "stream",
       "stream": "stdout",
       "text": [
        "[ubuntu@ec2-54-243-24-167.compute-1.amazonaws.com] out: "
       ]
      },
      {
       "output_type": "stream",
       "stream": "stdout",
       "text": [
        "\n"
       ]
      },
      {
       "output_type": "stream",
       "stream": "stdout",
       "text": [
        "[ubuntu@ec2-54-243-24-167.compute-1.amazonaws.com] out: "
       ]
      },
      {
       "output_type": "stream",
       "stream": "stdout",
       "text": [
        "\n"
       ]
      },
      {
       "output_type": "stream",
       "stream": "stdout",
       "text": [
        "[ubuntu@ec2-54-243-24-167.compute-1.amazonaws.com] out: "
       ]
      },
      {
       "output_type": "stream",
       "stream": "stdout",
       "text": [
        "100% [9 linux-image-virtual 0 B/2,504 B 0%]\n"
       ]
      },
      {
       "output_type": "stream",
       "stream": "stdout",
       "text": [
        "[ubuntu@ec2-54-243-24-167.compute-1.amazonaws.com] out: "
       ]
      },
      {
       "output_type": "stream",
       "stream": "stdout",
       "text": [
        "                                           \n"
       ]
      },
      {
       "output_type": "stream",
       "stream": "stdout",
       "text": [
        "[ubuntu@ec2-54-243-24-167.compute-1.amazonaws.com] out: "
       ]
      },
      {
       "output_type": "stream",
       "stream": "stdout",
       "text": [
        "100% [Working]\n"
       ]
      },
      {
       "output_type": "stream",
       "stream": "stdout",
       "text": [
        "[ubuntu@ec2-54-243-24-167.compute-1.amazonaws.com] out: "
       ]
      },
      {
       "output_type": "stream",
       "stream": "stdout",
       "text": [
        "              \n"
       ]
      },
      {
       "output_type": "stream",
       "stream": "stdout",
       "text": [
        "[ubuntu@ec2-54-243-24-167.compute-1.amazonaws.com] out: "
       ]
      },
      {
       "output_type": "stream",
       "stream": "stdout",
       "text": [
        "Get: 10 http://us-east-1.ec2.archive.ubuntu.com/ubuntu/ precise-updates/main linux-headers-virtual amd64 3.2.0.44.53 [2,466 B]\n"
       ]
      },
      {
       "output_type": "stream",
       "stream": "stdout",
       "text": [
        "[ubuntu@ec2-54-243-24-167.compute-1.amazonaws.com] out: "
       ]
      },
      {
       "output_type": "stream",
       "stream": "stdout",
       "text": [
        "\n"
       ]
      },
      {
       "output_type": "stream",
       "stream": "stdout",
       "text": [
        "[ubuntu@ec2-54-243-24-167.compute-1.amazonaws.com] out: "
       ]
      },
      {
       "output_type": "stream",
       "stream": "stdout",
       "text": [
        "\n"
       ]
      },
      {
       "output_type": "stream",
       "stream": "stdout",
       "text": [
        "[ubuntu@ec2-54-243-24-167.compute-1.amazonaws.com] out: "
       ]
      },
      {
       "output_type": "stream",
       "stream": "stdout",
       "text": [
        "100% [10 linux-headers-virtual 0 B/2,466 B 0%]\n"
       ]
      },
      {
       "output_type": "stream",
       "stream": "stdout",
       "text": [
        "[ubuntu@ec2-54-243-24-167.compute-1.amazonaws.com] out: "
       ]
      },
      {
       "output_type": "stream",
       "stream": "stdout",
       "text": [
        "                                              \n"
       ]
      },
      {
       "output_type": "stream",
       "stream": "stdout",
       "text": [
        "[ubuntu@ec2-54-243-24-167.compute-1.amazonaws.com] out: "
       ]
      },
      {
       "output_type": "stream",
       "stream": "stdout",
       "text": [
        "100% [Working]\n"
       ]
      },
      {
       "output_type": "stream",
       "stream": "stdout",
       "text": [
        "[ubuntu@ec2-54-243-24-167.compute-1.amazonaws.com] out: "
       ]
      },
      {
       "output_type": "stream",
       "stream": "stdout",
       "text": [
        "              \n"
       ]
      },
      {
       "output_type": "stream",
       "stream": "stdout",
       "text": [
        "[ubuntu@ec2-54-243-24-167.compute-1.amazonaws.com] out: "
       ]
      },
      {
       "output_type": "stream",
       "stream": "stdout",
       "text": [
        "Fetched 25.9 MB in 1s (17.4 MB/s)\n"
       ]
      },
      {
       "output_type": "stream",
       "stream": "stdout",
       "text": [
        "[ubuntu@ec2-54-243-24-167.compute-1.amazonaws.com] out: "
       ]
      },
      {
       "output_type": "stream",
       "stream": "stdout",
       "text": [
        "(Reading database ... "
       ]
      },
      {
       "output_type": "stream",
       "stream": "stdout",
       "text": [
        "\n"
       ]
      },
      {
       "output_type": "stream",
       "stream": "stdout",
       "text": [
        "[ubuntu@ec2-54-243-24-167.compute-1.amazonaws.com] out: "
       ]
      },
      {
       "output_type": "stream",
       "stream": "stdout",
       "text": [
        "(Reading database ... 5%\n"
       ]
      },
      {
       "output_type": "stream",
       "stream": "stdout",
       "text": [
        "[ubuntu@ec2-54-243-24-167.compute-1.amazonaws.com] out: "
       ]
      },
      {
       "output_type": "stream",
       "stream": "stdout",
       "text": [
        "(Reading database ... 10%\n"
       ]
      },
      {
       "output_type": "stream",
       "stream": "stdout",
       "text": [
        "[ubuntu@ec2-54-243-24-167.compute-1.amazonaws.com] out: "
       ]
      },
      {
       "output_type": "stream",
       "stream": "stdout",
       "text": [
        "(Reading database ... 15%\n"
       ]
      },
      {
       "output_type": "stream",
       "stream": "stdout",
       "text": [
        "[ubuntu@ec2-54-243-24-167.compute-1.amazonaws.com] out: "
       ]
      },
      {
       "output_type": "stream",
       "stream": "stdout",
       "text": [
        "(Reading database ... 20%\n"
       ]
      },
      {
       "output_type": "stream",
       "stream": "stdout",
       "text": [
        "[ubuntu@ec2-54-243-24-167.compute-1.amazonaws.com] out: "
       ]
      },
      {
       "output_type": "stream",
       "stream": "stdout",
       "text": [
        "(Reading database ... 25%\n"
       ]
      },
      {
       "output_type": "stream",
       "stream": "stdout",
       "text": [
        "[ubuntu@ec2-54-243-24-167.compute-1.amazonaws.com] out: "
       ]
      },
      {
       "output_type": "stream",
       "stream": "stdout",
       "text": [
        "(Reading database ... 30%\n"
       ]
      },
      {
       "output_type": "stream",
       "stream": "stdout",
       "text": [
        "[ubuntu@ec2-54-243-24-167.compute-1.amazonaws.com] out: "
       ]
      },
      {
       "output_type": "stream",
       "stream": "stdout",
       "text": [
        "(Reading database ... 35%\n"
       ]
      },
      {
       "output_type": "stream",
       "stream": "stdout",
       "text": [
        "[ubuntu@ec2-54-243-24-167.compute-1.amazonaws.com] out: "
       ]
      },
      {
       "output_type": "stream",
       "stream": "stdout",
       "text": [
        "(Reading database ... 40%\n"
       ]
      },
      {
       "output_type": "stream",
       "stream": "stdout",
       "text": [
        "[ubuntu@ec2-54-243-24-167.compute-1.amazonaws.com] out: "
       ]
      },
      {
       "output_type": "stream",
       "stream": "stdout",
       "text": [
        "(Reading database ... 45%"
       ]
      },
      {
       "output_type": "stream",
       "stream": "stdout",
       "text": [
        "\n"
       ]
      },
      {
       "output_type": "stream",
       "stream": "stdout",
       "text": [
        "[ubuntu@ec2-54-243-24-167.compute-1.amazonaws.com] out: "
       ]
      },
      {
       "output_type": "stream",
       "stream": "stdout",
       "text": [
        "(Reading database ... 50%\n"
       ]
      },
      {
       "output_type": "stream",
       "stream": "stdout",
       "text": [
        "[ubuntu@ec2-54-243-24-167.compute-1.amazonaws.com] out: "
       ]
      },
      {
       "output_type": "stream",
       "stream": "stdout",
       "text": [
        "(Reading database ... 55%\n"
       ]
      },
      {
       "output_type": "stream",
       "stream": "stdout",
       "text": [
        "[ubuntu@ec2-54-243-24-167.compute-1.amazonaws.com] out: "
       ]
      },
      {
       "output_type": "stream",
       "stream": "stdout",
       "text": [
        "(Reading database ... 60%\n"
       ]
      },
      {
       "output_type": "stream",
       "stream": "stdout",
       "text": [
        "[ubuntu@ec2-54-243-24-167.compute-1.amazonaws.com] out: "
       ]
      },
      {
       "output_type": "stream",
       "stream": "stdout",
       "text": [
        "(Reading database ... 65%"
       ]
      },
      {
       "output_type": "stream",
       "stream": "stdout",
       "text": [
        "\n"
       ]
      },
      {
       "output_type": "stream",
       "stream": "stdout",
       "text": [
        "[ubuntu@ec2-54-243-24-167.compute-1.amazonaws.com] out: "
       ]
      },
      {
       "output_type": "stream",
       "stream": "stdout",
       "text": [
        "(Reading database ... 70%"
       ]
      },
      {
       "output_type": "stream",
       "stream": "stdout",
       "text": [
        "\n"
       ]
      },
      {
       "output_type": "stream",
       "stream": "stdout",
       "text": [
        "[ubuntu@ec2-54-243-24-167.compute-1.amazonaws.com] out: "
       ]
      },
      {
       "output_type": "stream",
       "stream": "stdout",
       "text": [
        "(Reading database ... 75%"
       ]
      },
      {
       "output_type": "stream",
       "stream": "stdout",
       "text": [
        "\n"
       ]
      },
      {
       "output_type": "stream",
       "stream": "stdout",
       "text": [
        "[ubuntu@ec2-54-243-24-167.compute-1.amazonaws.com] out: "
       ]
      },
      {
       "output_type": "stream",
       "stream": "stdout",
       "text": [
        "(Reading database ... 80%"
       ]
      },
      {
       "output_type": "stream",
       "stream": "stdout",
       "text": [
        "\n"
       ]
      },
      {
       "output_type": "stream",
       "stream": "stdout",
       "text": [
        "[ubuntu@ec2-54-243-24-167.compute-1.amazonaws.com] out: "
       ]
      },
      {
       "output_type": "stream",
       "stream": "stdout",
       "text": [
        "(Reading database ... 85%"
       ]
      },
      {
       "output_type": "stream",
       "stream": "stdout",
       "text": [
        "\n"
       ]
      },
      {
       "output_type": "stream",
       "stream": "stdout",
       "text": [
        "[ubuntu@ec2-54-243-24-167.compute-1.amazonaws.com] out: "
       ]
      },
      {
       "output_type": "stream",
       "stream": "stdout",
       "text": [
        "(Reading database ... 90%"
       ]
      },
      {
       "output_type": "stream",
       "stream": "stdout",
       "text": [
        "\n"
       ]
      },
      {
       "output_type": "stream",
       "stream": "stdout",
       "text": [
        "[ubuntu@ec2-54-243-24-167.compute-1.amazonaws.com] out: "
       ]
      },
      {
       "output_type": "stream",
       "stream": "stdout",
       "text": [
        "(Reading database ... 95%"
       ]
      },
      {
       "output_type": "stream",
       "stream": "stdout",
       "text": [
        "\n"
       ]
      },
      {
       "output_type": "stream",
       "stream": "stdout",
       "text": [
        "[ubuntu@ec2-54-243-24-167.compute-1.amazonaws.com] out: "
       ]
      },
      {
       "output_type": "stream",
       "stream": "stdout",
       "text": [
        "(Reading database ... 100%\n"
       ]
      },
      {
       "output_type": "stream",
       "stream": "stdout",
       "text": [
        "[ubuntu@ec2-54-243-24-167.compute-1.amazonaws.com] out: "
       ]
      },
      {
       "output_type": "stream",
       "stream": "stdout",
       "text": [
        "(Reading database ... 47443 files and directories currently installed.)\n"
       ]
      },
      {
       "output_type": "stream",
       "stream": "stdout",
       "text": [
        "[ubuntu@ec2-54-243-24-167.compute-1.amazonaws.com] out: "
       ]
      },
      {
       "output_type": "stream",
       "stream": "stdout",
       "text": [
        "Preparing to replace bash-completion 1:1.3-1ubuntu8 (using .../bash-completion_1%3a1.3-1ubuntu8.1_all.deb) ...\n"
       ]
      },
      {
       "output_type": "stream",
       "stream": "stdout",
       "text": [
        "[ubuntu@ec2-54-243-24-167.compute-1.amazonaws.com] out: "
       ]
      },
      {
       "output_type": "stream",
       "stream": "stdout",
       "text": [
        "Unpacking replacement bash-completion ...\n"
       ]
      },
      {
       "output_type": "stream",
       "stream": "stdout",
       "text": [
        "[ubuntu@ec2-54-243-24-167.compute-1.amazonaws.com] out: "
       ]
      },
      {
       "output_type": "stream",
       "stream": "stdout",
       "text": [
        "Selecting previously unselected package linux-image-3.2.0-44-virtual.\n"
       ]
      },
      {
       "output_type": "stream",
       "stream": "stdout",
       "text": [
        "[ubuntu@ec2-54-243-24-167.compute-1.amazonaws.com] out: "
       ]
      },
      {
       "output_type": "stream",
       "stream": "stdout",
       "text": [
        "Unpacking linux-image-3.2.0-44-virtual (from .../linux-image-3.2.0-44-virtual_3.2.0-44.69_amd64.deb) ...\n"
       ]
      },
      {
       "output_type": "stream",
       "stream": "stdout",
       "text": [
        "[ubuntu@ec2-54-243-24-167.compute-1.amazonaws.com] out: "
       ]
      },
      {
       "output_type": "stream",
       "stream": "stdout",
       "text": [
        "Done.\n"
       ]
      },
      {
       "output_type": "stream",
       "stream": "stdout",
       "text": [
        "[ubuntu@ec2-54-243-24-167.compute-1.amazonaws.com] out: "
       ]
      },
      {
       "output_type": "stream",
       "stream": "stdout",
       "text": [
        "Preparing to replace rsyslog 5.8.6-1ubuntu8.1 (using .../rsyslog_5.8.6-1ubuntu8.2_amd64.deb) ...\n"
       ]
      },
      {
       "output_type": "stream",
       "stream": "stdout",
       "text": [
        "[ubuntu@ec2-54-243-24-167.compute-1.amazonaws.com] out: "
       ]
      },
      {
       "output_type": "stream",
       "stream": "stdout",
       "text": [
        "Unpacking replacement rsyslog ...\n"
       ]
      },
      {
       "output_type": "stream",
       "stream": "stdout",
       "text": [
        "[ubuntu@ec2-54-243-24-167.compute-1.amazonaws.com] out: "
       ]
      },
      {
       "output_type": "stream",
       "stream": "stdout",
       "text": [
        "Preparing to replace python-apt-common 0.8.3ubuntu7 (using .../python-apt-common_0.8.3ubuntu7.1_all.deb) ...\n"
       ]
      },
      {
       "output_type": "stream",
       "stream": "stdout",
       "text": [
        "[ubuntu@ec2-54-243-24-167.compute-1.amazonaws.com] out: "
       ]
      },
      {
       "output_type": "stream",
       "stream": "stdout",
       "text": [
        "Unpacking replacement python-apt-common ...\n"
       ]
      },
      {
       "output_type": "stream",
       "stream": "stdout",
       "text": [
        "[ubuntu@ec2-54-243-24-167.compute-1.amazonaws.com] out: "
       ]
      },
      {
       "output_type": "stream",
       "stream": "stdout",
       "text": [
        "Preparing to replace python-apt 0.8.3ubuntu7 (using .../python-apt_0.8.3ubuntu7.1_amd64.deb) ...\n"
       ]
      },
      {
       "output_type": "stream",
       "stream": "stdout",
       "text": [
        "[ubuntu@ec2-54-243-24-167.compute-1.amazonaws.com] out: "
       ]
      },
      {
       "output_type": "stream",
       "stream": "stdout",
       "text": [
        "Unpacking replacement python-apt ...\n"
       ]
      },
      {
       "output_type": "stream",
       "stream": "stdout",
       "text": [
        "[ubuntu@ec2-54-243-24-167.compute-1.amazonaws.com] out: "
       ]
      },
      {
       "output_type": "stream",
       "stream": "stdout",
       "text": [
        "Selecting previously unselected package linux-headers-3.2.0-44.\n"
       ]
      },
      {
       "output_type": "stream",
       "stream": "stdout",
       "text": [
        "[ubuntu@ec2-54-243-24-167.compute-1.amazonaws.com] out: "
       ]
      },
      {
       "output_type": "stream",
       "stream": "stdout",
       "text": [
        "Unpacking linux-headers-3.2.0-44 (from .../linux-headers-3.2.0-44_3.2.0-44.69_all.deb) ...\n"
       ]
      },
      {
       "output_type": "stream",
       "stream": "stdout",
       "text": [
        "[ubuntu@ec2-54-243-24-167.compute-1.amazonaws.com] out: "
       ]
      },
      {
       "output_type": "stream",
       "stream": "stdout",
       "text": [
        "Selecting previously unselected package linux-headers-3.2.0-44-virtual.\n"
       ]
      },
      {
       "output_type": "stream",
       "stream": "stdout",
       "text": [
        "[ubuntu@ec2-54-243-24-167.compute-1.amazonaws.com] out: "
       ]
      },
      {
       "output_type": "stream",
       "stream": "stdout",
       "text": [
        "Unpacking linux-headers-3.2.0-44-virtual (from .../linux-headers-3.2.0-44-virtual_3.2.0-44.69_amd64.deb) ...\n"
       ]
      },
      {
       "output_type": "stream",
       "stream": "stdout",
       "text": [
        "[ubuntu@ec2-54-243-24-167.compute-1.amazonaws.com] out: "
       ]
      },
      {
       "output_type": "stream",
       "stream": "stdout",
       "text": [
        "Preparing to replace linux-virtual 3.2.0.43.51 (using .../linux-virtual_3.2.0.44.53_amd64.deb) ...\n"
       ]
      },
      {
       "output_type": "stream",
       "stream": "stdout",
       "text": [
        "[ubuntu@ec2-54-243-24-167.compute-1.amazonaws.com] out: "
       ]
      },
      {
       "output_type": "stream",
       "stream": "stdout",
       "text": [
        "Unpacking replacement linux-virtual ...\n"
       ]
      },
      {
       "output_type": "stream",
       "stream": "stdout",
       "text": [
        "[ubuntu@ec2-54-243-24-167.compute-1.amazonaws.com] out: "
       ]
      },
      {
       "output_type": "stream",
       "stream": "stdout",
       "text": [
        "Preparing to replace linux-image-virtual 3.2.0.43.51 (using .../linux-image-virtual_3.2.0.44.53_amd64.deb) ...\n"
       ]
      },
      {
       "output_type": "stream",
       "stream": "stdout",
       "text": [
        "[ubuntu@ec2-54-243-24-167.compute-1.amazonaws.com] out: "
       ]
      },
      {
       "output_type": "stream",
       "stream": "stdout",
       "text": [
        "Unpacking replacement linux-image-virtual ...\n"
       ]
      },
      {
       "output_type": "stream",
       "stream": "stdout",
       "text": [
        "[ubuntu@ec2-54-243-24-167.compute-1.amazonaws.com] out: "
       ]
      },
      {
       "output_type": "stream",
       "stream": "stdout",
       "text": [
        "Preparing to replace linux-headers-virtual 3.2.0.43.51 (using .../linux-headers-virtual_3.2.0.44.53_amd64.deb) ...\n"
       ]
      },
      {
       "output_type": "stream",
       "stream": "stdout",
       "text": [
        "[ubuntu@ec2-54-243-24-167.compute-1.amazonaws.com] out: "
       ]
      },
      {
       "output_type": "stream",
       "stream": "stdout",
       "text": [
        "Unpacking replacement linux-headers-virtual ...\n"
       ]
      },
      {
       "output_type": "stream",
       "stream": "stdout",
       "text": [
        "[ubuntu@ec2-54-243-24-167.compute-1.amazonaws.com] out: "
       ]
      },
      {
       "output_type": "stream",
       "stream": "stdout",
       "text": [
        "Processing triggers for initramfs-tools ...\n"
       ]
      },
      {
       "output_type": "stream",
       "stream": "stdout",
       "text": [
        "[ubuntu@ec2-54-243-24-167.compute-1.amazonaws.com] out: "
       ]
      },
      {
       "output_type": "stream",
       "stream": "stdout",
       "text": [
        "update-initramfs: Generating /boot/initrd.img-3.2.0-43-virtual\n"
       ]
      },
      {
       "output_type": "stream",
       "stream": "stdout",
       "text": [
        "[ubuntu@ec2-54-243-24-167.compute-1.amazonaws.com] out: "
       ]
      },
      {
       "output_type": "stream",
       "stream": "stdout",
       "text": [
        "Processing triggers for man-db ...\n"
       ]
      },
      {
       "output_type": "stream",
       "stream": "stdout",
       "text": [
        "[ubuntu@ec2-54-243-24-167.compute-1.amazonaws.com] out: "
       ]
      },
      {
       "output_type": "stream",
       "stream": "stdout",
       "text": [
        "Processing triggers for ureadahead ...\n"
       ]
      },
      {
       "output_type": "stream",
       "stream": "stdout",
       "text": [
        "[ubuntu@ec2-54-243-24-167.compute-1.amazonaws.com] out: "
       ]
      },
      {
       "output_type": "stream",
       "stream": "stdout",
       "text": [
        "Setting up bash-completion (1:1.3-1ubuntu8.1) ...\n"
       ]
      },
      {
       "output_type": "stream",
       "stream": "stdout",
       "text": [
        "[ubuntu@ec2-54-243-24-167.compute-1.amazonaws.com] out: "
       ]
      },
      {
       "output_type": "stream",
       "stream": "stdout",
       "text": [
        "Installing new version of config file /etc/bash_completion.d/tar ...\n"
       ]
      },
      {
       "output_type": "stream",
       "stream": "stdout",
       "text": [
        "[ubuntu@ec2-54-243-24-167.compute-1.amazonaws.com] out: "
       ]
      },
      {
       "output_type": "stream",
       "stream": "stdout",
       "text": [
        "Setting up linux-image-3.2.0-44-virtual (3.2.0-44.69) ...\n"
       ]
      },
      {
       "output_type": "stream",
       "stream": "stdout",
       "text": [
        "[ubuntu@ec2-54-243-24-167.compute-1.amazonaws.com] out: "
       ]
      },
      {
       "output_type": "stream",
       "stream": "stdout",
       "text": [
        "Running depmod.\n"
       ]
      },
      {
       "output_type": "stream",
       "stream": "stdout",
       "text": [
        "[ubuntu@ec2-54-243-24-167.compute-1.amazonaws.com] out: "
       ]
      },
      {
       "output_type": "stream",
       "stream": "stdout",
       "text": [
        "update-initramfs: deferring update (hook will be called later)\n"
       ]
      },
      {
       "output_type": "stream",
       "stream": "stdout",
       "text": [
        "[ubuntu@ec2-54-243-24-167.compute-1.amazonaws.com] out: "
       ]
      },
      {
       "output_type": "stream",
       "stream": "stdout",
       "text": [
        "Examining /etc/kernel/postinst.d.\n"
       ]
      },
      {
       "output_type": "stream",
       "stream": "stdout",
       "text": [
        "[ubuntu@ec2-54-243-24-167.compute-1.amazonaws.com] out: "
       ]
      },
      {
       "output_type": "stream",
       "stream": "stdout",
       "text": [
        "run-parts: executing /etc/kernel/postinst.d/apt-auto-removal 3.2.0-44-virtual /boot/vmlinuz-3.2.0-44-virtual\n"
       ]
      },
      {
       "output_type": "stream",
       "stream": "stdout",
       "text": [
        "[ubuntu@ec2-54-243-24-167.compute-1.amazonaws.com] out: "
       ]
      },
      {
       "output_type": "stream",
       "stream": "stdout",
       "text": [
        "run-parts: executing /etc/kernel/postinst.d/initramfs-tools 3.2.0-44-virtual /boot/vmlinuz-3.2.0-44-virtual\n"
       ]
      },
      {
       "output_type": "stream",
       "stream": "stdout",
       "text": [
        "[ubuntu@ec2-54-243-24-167.compute-1.amazonaws.com] out: "
       ]
      },
      {
       "output_type": "stream",
       "stream": "stdout",
       "text": [
        "update-initramfs: Generating /boot/initrd.img-3.2.0-44-virtual\n"
       ]
      },
      {
       "output_type": "stream",
       "stream": "stdout",
       "text": [
        "[ubuntu@ec2-54-243-24-167.compute-1.amazonaws.com] out: "
       ]
      },
      {
       "output_type": "stream",
       "stream": "stdout",
       "text": [
        "run-parts: executing /etc/kernel/postinst.d/update-notifier 3.2.0-44-virtual /boot/vmlinuz-3.2.0-44-virtual\n"
       ]
      },
      {
       "output_type": "stream",
       "stream": "stdout",
       "text": [
        "[ubuntu@ec2-54-243-24-167.compute-1.amazonaws.com] out: "
       ]
      },
      {
       "output_type": "stream",
       "stream": "stdout",
       "text": [
        "run-parts: executing /etc/kernel/postinst.d/x-grub-legacy-ec2 3.2.0-44-virtual /boot/vmlinuz-3.2.0-44-virtual\n"
       ]
      },
      {
       "output_type": "stream",
       "stream": "stdout",
       "text": [
        "[ubuntu@ec2-54-243-24-167.compute-1.amazonaws.com] out: "
       ]
      },
      {
       "output_type": "stream",
       "stream": "stdout",
       "text": [
        "Searching for GRUB installation directory ... found: /boot/grub\n"
       ]
      },
      {
       "output_type": "stream",
       "stream": "stdout",
       "text": [
        "[ubuntu@ec2-54-243-24-167.compute-1.amazonaws.com] out: "
       ]
      },
      {
       "output_type": "stream",
       "stream": "stdout",
       "text": [
        "Searching for default file ... found: /boot/grub/default\n"
       ]
      },
      {
       "output_type": "stream",
       "stream": "stdout",
       "text": [
        "[ubuntu@ec2-54-243-24-167.compute-1.amazonaws.com] out: "
       ]
      },
      {
       "output_type": "stream",
       "stream": "stdout",
       "text": [
        "Testing for an existing GRUB menu.lst file ... "
       ]
      },
      {
       "output_type": "stream",
       "stream": "stdout",
       "text": [
        "found: /boot/grub/menu.lst\n"
       ]
      },
      {
       "output_type": "stream",
       "stream": "stdout",
       "text": [
        "[ubuntu@ec2-54-243-24-167.compute-1.amazonaws.com] out: "
       ]
      },
      {
       "output_type": "stream",
       "stream": "stdout",
       "text": [
        "Searching for splash image ... none found, skipping ...\n"
       ]
      },
      {
       "output_type": "stream",
       "stream": "stdout",
       "text": [
        "[ubuntu@ec2-54-243-24-167.compute-1.amazonaws.com] out: "
       ]
      },
      {
       "output_type": "stream",
       "stream": "stdout",
       "text": [
        "Found kernel: /boot/vmlinuz-3.2.0-43-virtual\n"
       ]
      },
      {
       "output_type": "stream",
       "stream": "stdout",
       "text": [
        "[ubuntu@ec2-54-243-24-167.compute-1.amazonaws.com] out: "
       ]
      },
      {
       "output_type": "stream",
       "stream": "stdout",
       "text": [
        "Found kernel: /boot/memtest86+.bin\n"
       ]
      },
      {
       "output_type": "stream",
       "stream": "stdout",
       "text": [
        "[ubuntu@ec2-54-243-24-167.compute-1.amazonaws.com] out: "
       ]
      },
      {
       "output_type": "stream",
       "stream": "stdout",
       "text": [
        "Found kernel: /boot/vmlinuz-3.2.0-44-virtual\n"
       ]
      },
      {
       "output_type": "stream",
       "stream": "stdout",
       "text": [
        "[ubuntu@ec2-54-243-24-167.compute-1.amazonaws.com] out: "
       ]
      },
      {
       "output_type": "stream",
       "stream": "stdout",
       "text": [
        "Found kernel: /boot/vmlinuz-3.2.0-43-virtual\n"
       ]
      },
      {
       "output_type": "stream",
       "stream": "stdout",
       "text": [
        "[ubuntu@ec2-54-243-24-167.compute-1.amazonaws.com] out: "
       ]
      },
      {
       "output_type": "stream",
       "stream": "stdout",
       "text": [
        "Found kernel: /boot/memtest86+.bin\n"
       ]
      },
      {
       "output_type": "stream",
       "stream": "stdout",
       "text": [
        "[ubuntu@ec2-54-243-24-167.compute-1.amazonaws.com] out: "
       ]
      },
      {
       "output_type": "stream",
       "stream": "stdout",
       "text": [
        "Replacing config file /run/grub/menu.lst with new version\n"
       ]
      },
      {
       "output_type": "stream",
       "stream": "stdout",
       "text": [
        "[ubuntu@ec2-54-243-24-167.compute-1.amazonaws.com] out: "
       ]
      },
      {
       "output_type": "stream",
       "stream": "stdout",
       "text": [
        "Updating /boot/grub/menu.lst ... done\n"
       ]
      },
      {
       "output_type": "stream",
       "stream": "stdout",
       "text": [
        "[ubuntu@ec2-54-243-24-167.compute-1.amazonaws.com] out: "
       ]
      },
      {
       "output_type": "stream",
       "stream": "stdout",
       "text": [
        "\n"
       ]
      },
      {
       "output_type": "stream",
       "stream": "stdout",
       "text": [
        "[ubuntu@ec2-54-243-24-167.compute-1.amazonaws.com] out: "
       ]
      },
      {
       "output_type": "stream",
       "stream": "stdout",
       "text": [
        "run-parts: executing /etc/kernel/postinst.d/zz-update-grub 3.2.0-44-virtual /boot/vmlinuz-3.2.0-44-virtual\n"
       ]
      },
      {
       "output_type": "stream",
       "stream": "stdout",
       "text": [
        "[ubuntu@ec2-54-243-24-167.compute-1.amazonaws.com] out: "
       ]
      },
      {
       "output_type": "stream",
       "stream": "stdout",
       "text": [
        "Generating grub.cfg ...\n"
       ]
      },
      {
       "output_type": "stream",
       "stream": "stdout",
       "text": [
        "[ubuntu@ec2-54-243-24-167.compute-1.amazonaws.com] out: "
       ]
      },
      {
       "output_type": "stream",
       "stream": "stdout",
       "text": [
        "/usr/sbin/grub-probe: warn: disk does not exist, so falling back to partition device /dev/xvda1.\n"
       ]
      },
      {
       "output_type": "stream",
       "stream": "stdout",
       "text": [
        "[ubuntu@ec2-54-243-24-167.compute-1.amazonaws.com] out: "
       ]
      },
      {
       "output_type": "stream",
       "stream": "stdout",
       "text": [
        "Found linux image: /boot/vmlinuz-3.2.0-44-virtual\n"
       ]
      },
      {
       "output_type": "stream",
       "stream": "stdout",
       "text": [
        "[ubuntu@ec2-54-243-24-167.compute-1.amazonaws.com] out: "
       ]
      },
      {
       "output_type": "stream",
       "stream": "stdout",
       "text": [
        "Found initrd image: /boot/initrd.img-3.2.0-44-virtual\n"
       ]
      },
      {
       "output_type": "stream",
       "stream": "stdout",
       "text": [
        "[ubuntu@ec2-54-243-24-167.compute-1.amazonaws.com] out: "
       ]
      },
      {
       "output_type": "stream",
       "stream": "stdout",
       "text": [
        "/usr/sbin/grub-probe: warn: disk does not exist, so falling back to partition device /dev/xvda1.\n"
       ]
      },
      {
       "output_type": "stream",
       "stream": "stdout",
       "text": [
        "[ubuntu@ec2-54-243-24-167.compute-1.amazonaws.com] out: "
       ]
      },
      {
       "output_type": "stream",
       "stream": "stdout",
       "text": [
        "/usr/sbin/grub-probe: warn: disk does not exist, so falling back to partition device /dev/xvda1.\n"
       ]
      },
      {
       "output_type": "stream",
       "stream": "stdout",
       "text": [
        "[ubuntu@ec2-54-243-24-167.compute-1.amazonaws.com] out: "
       ]
      },
      {
       "output_type": "stream",
       "stream": "stdout",
       "text": [
        "/usr/sbin/grub-probe: warn: disk does not exist, so falling back to partition device /dev/xvda1"
       ]
      },
      {
       "output_type": "stream",
       "stream": "stdout",
       "text": [
        ".\n"
       ]
      },
      {
       "output_type": "stream",
       "stream": "stdout",
       "text": [
        "[ubuntu@ec2-54-243-24-167.compute-1.amazonaws.com] out: "
       ]
      },
      {
       "output_type": "stream",
       "stream": "stdout",
       "text": [
        "/usr/sbin/grub-probe: warn:"
       ]
      },
      {
       "output_type": "stream",
       "stream": "stdout",
       "text": [
        " disk does not exist, so falling back to partition device /dev/xvda1.\n"
       ]
      },
      {
       "output_type": "stream",
       "stream": "stdout",
       "text": [
        "[ubuntu@ec2-54-243-24-167.compute-1.amazonaws.com] out: "
       ]
      },
      {
       "output_type": "stream",
       "stream": "stdout",
       "text": [
        "Found linux image: /boot/vmlinuz-3.2.0-43-virtual\n"
       ]
      },
      {
       "output_type": "stream",
       "stream": "stdout",
       "text": [
        "[ubuntu@ec2-54-243-24-167.compute-1.amazonaws.com] out: "
       ]
      },
      {
       "output_type": "stream",
       "stream": "stdout",
       "text": [
        "Found initrd image: /boot/initrd.img-3.2.0-43-virtual\n"
       ]
      },
      {
       "output_type": "stream",
       "stream": "stdout",
       "text": [
        "[ubuntu@ec2-54-243-24-167.compute-1.amazonaws.com] out: "
       ]
      },
      {
       "output_type": "stream",
       "stream": "stdout",
       "text": [
        "/usr/sbin/grub-probe: warn: "
       ]
      },
      {
       "output_type": "stream",
       "stream": "stdout",
       "text": [
        "disk does not exist, so falling back to partition device /dev/xvda1"
       ]
      },
      {
       "output_type": "stream",
       "stream": "stdout",
       "text": [
        ".\n"
       ]
      },
      {
       "output_type": "stream",
       "stream": "stdout",
       "text": [
        "[ubuntu@ec2-54-243-24-167.compute-1.amazonaws.com] out: "
       ]
      },
      {
       "output_type": "stream",
       "stream": "stdout",
       "text": [
        "/usr/sbin/grub-probe: warn: disk does not exist, so falling back to partition device /dev/xvda1"
       ]
      },
      {
       "output_type": "stream",
       "stream": "stdout",
       "text": [
        ".\n"
       ]
      },
      {
       "output_type": "stream",
       "stream": "stdout",
       "text": [
        "[ubuntu@ec2-54-243-24-167.compute-1.amazonaws.com] out: "
       ]
      },
      {
       "output_type": "stream",
       "stream": "stdout",
       "text": [
        "/usr/sbin/grub-probe: warn: disk does not exist, so falling back to partition device /dev/xvda1.\n"
       ]
      },
      {
       "output_type": "stream",
       "stream": "stdout",
       "text": [
        "[ubuntu@ec2-54-243-24-167.compute-1.amazonaws.com] out: "
       ]
      },
      {
       "output_type": "stream",
       "stream": "stdout",
       "text": [
        "/usr/sbin/grub-probe: warn: disk does not exist, so falling back to partition device /dev/xvda1.\n"
       ]
      },
      {
       "output_type": "stream",
       "stream": "stdout",
       "text": [
        "[ubuntu@ec2-54-243-24-167.compute-1.amazonaws.com] out: "
       ]
      },
      {
       "output_type": "stream",
       "stream": "stdout",
       "text": [
        "/usr/sbin/grub-probe: warn: disk does not exist, so falling back to partition device /dev/xvda1"
       ]
      },
      {
       "output_type": "stream",
       "stream": "stdout",
       "text": [
        ".\n"
       ]
      },
      {
       "output_type": "stream",
       "stream": "stdout",
       "text": [
        "[ubuntu@ec2-54-243-24-167.compute-1.amazonaws.com] out: "
       ]
      },
      {
       "output_type": "stream",
       "stream": "stdout",
       "text": [
        "Found memtest86+ image: /boot/memtest86+.bin\n"
       ]
      },
      {
       "output_type": "stream",
       "stream": "stdout",
       "text": [
        "[ubuntu@ec2-54-243-24-167.compute-1.amazonaws.com] out: "
       ]
      },
      {
       "output_type": "stream",
       "stream": "stdout",
       "text": [
        "done\n"
       ]
      },
      {
       "output_type": "stream",
       "stream": "stdout",
       "text": [
        "[ubuntu@ec2-54-243-24-167.compute-1.amazonaws.com] out: "
       ]
      },
      {
       "output_type": "stream",
       "stream": "stdout",
       "text": [
        "Setting up rsyslog (5.8.6-1ubuntu8.2) ...\n"
       ]
      },
      {
       "output_type": "stream",
       "stream": "stdout",
       "text": [
        "[ubuntu@ec2-54-243-24-167.compute-1.amazonaws.com] out: "
       ]
      },
      {
       "output_type": "stream",
       "stream": "stdout",
       "text": [
        "Skipping profile in /etc/apparmor.d/disable: usr.sbin.rsyslogd\n"
       ]
      },
      {
       "output_type": "stream",
       "stream": "stdout",
       "text": [
        "[ubuntu@ec2-54-243-24-167.compute-1.amazonaws.com] out: "
       ]
      },
      {
       "output_type": "stream",
       "stream": "stdout",
       "text": [
        "rsyslog stop/waiting\n"
       ]
      },
      {
       "output_type": "stream",
       "stream": "stdout",
       "text": [
        "[ubuntu@ec2-54-243-24-167.compute-1.amazonaws.com] out: "
       ]
      },
      {
       "output_type": "stream",
       "stream": "stdout",
       "text": [
        "rsyslog start/running, process 6708\n"
       ]
      },
      {
       "output_type": "stream",
       "stream": "stdout",
       "text": [
        "[ubuntu@ec2-54-243-24-167.compute-1.amazonaws.com] out: "
       ]
      },
      {
       "output_type": "stream",
       "stream": "stdout",
       "text": [
        "Setting up python-apt-common (0.8.3ubuntu7.1) ...\n"
       ]
      },
      {
       "output_type": "stream",
       "stream": "stdout",
       "text": [
        "[ubuntu@ec2-54-243-24-167.compute-1.amazonaws.com] out: "
       ]
      },
      {
       "output_type": "stream",
       "stream": "stdout",
       "text": [
        "Setting up python-apt (0.8.3ubuntu7.1) ...\n"
       ]
      },
      {
       "output_type": "stream",
       "stream": "stdout",
       "text": [
        "[ubuntu@ec2-54-243-24-167.compute-1.amazonaws.com] out: "
       ]
      },
      {
       "output_type": "stream",
       "stream": "stdout",
       "text": [
        "Setting up linux-headers-3.2.0-44 (3.2.0-44.69) ...\n"
       ]
      },
      {
       "output_type": "stream",
       "stream": "stdout",
       "text": [
        "[ubuntu@ec2-54-243-24-167.compute-1.amazonaws.com] out: "
       ]
      },
      {
       "output_type": "stream",
       "stream": "stdout",
       "text": [
        "Setting up linux-headers-3.2.0-44-virtual (3.2.0-44.69) ...\n"
       ]
      },
      {
       "output_type": "stream",
       "stream": "stdout",
       "text": [
        "[ubuntu@ec2-54-243-24-167.compute-1.amazonaws.com] out: "
       ]
      },
      {
       "output_type": "stream",
       "stream": "stdout",
       "text": [
        "Setting up linux-image-virtual (3.2.0.44.53) ...\n"
       ]
      },
      {
       "output_type": "stream",
       "stream": "stdout",
       "text": [
        "[ubuntu@ec2-54-243-24-167.compute-1.amazonaws.com] out: "
       ]
      },
      {
       "output_type": "stream",
       "stream": "stdout",
       "text": [
        "Setting up linux-headers-virtual (3.2.0.44.53) ...\n"
       ]
      },
      {
       "output_type": "stream",
       "stream": "stdout",
       "text": [
        "[ubuntu@ec2-54-243-24-167.compute-1.amazonaws.com] out: "
       ]
      },
      {
       "output_type": "stream",
       "stream": "stdout",
       "text": [
        "Setting up linux-virtual (3.2.0.44.53) ...\n"
       ]
      },
      {
       "output_type": "stream",
       "stream": "stdout",
       "text": [
        "[ubuntu@ec2-54-243-24-167.compute-1.amazonaws.com] out: "
       ]
      },
      {
       "output_type": "stream",
       "stream": "stdout",
       "text": [
        "\n"
       ]
      },
      {
       "output_type": "stream",
       "stream": "stdout",
       "text": [
        "[ubuntu@ec2-54-243-24-167.compute-1.amazonaws.com] out: "
       ]
      },
      {
       "output_type": "stream",
       "stream": "stdout",
       "text": [
        "\n"
       ]
      },
      {
       "output_type": "stream",
       "stream": "stdout",
       "text": [
        "[ubuntu@ec2-54-243-24-167.compute-1.amazonaws.com] out: "
       ]
      },
      {
       "output_type": "stream",
       "stream": "stdout",
       "text": [
        "[  0%] Reading package lists"
       ]
      },
      {
       "output_type": "stream",
       "stream": "stdout",
       "text": [
        "\n"
       ]
      },
      {
       "output_type": "stream",
       "stream": "stdout",
       "text": [
        "[ubuntu@ec2-54-243-24-167.compute-1.amazonaws.com] out: "
       ]
      },
      {
       "output_type": "stream",
       "stream": "stdout",
       "text": [
        "                            \n"
       ]
      },
      {
       "output_type": "stream",
       "stream": "stdout",
       "text": [
        "[ubuntu@ec2-54-243-24-167.compute-1.amazonaws.com] out: "
       ]
      },
      {
       "output_type": "stream",
       "stream": "stdout",
       "text": [
        "\n"
       ]
      },
      {
       "output_type": "stream",
       "stream": "stdout",
       "text": [
        "[ubuntu@ec2-54-243-24-167.compute-1.amazonaws.com] out: "
       ]
      },
      {
       "output_type": "stream",
       "stream": "stdout",
       "text": [
        "\n"
       ]
      },
      {
       "output_type": "stream",
       "stream": "stdout",
       "text": [
        "[ubuntu@ec2-54-243-24-167.compute-1.amazonaws.com] out: "
       ]
      },
      {
       "output_type": "stream",
       "stream": "stdout",
       "text": [
        "[  0%] Building dependency tree\n"
       ]
      },
      {
       "output_type": "stream",
       "stream": "stdout",
       "text": [
        "[ubuntu@ec2-54-243-24-167.compute-1.amazonaws.com] out: "
       ]
      },
      {
       "output_type": "stream",
       "stream": "stdout",
       "text": [
        "                               \n"
       ]
      },
      {
       "output_type": "stream",
       "stream": "stdout",
       "text": [
        "[ubuntu@ec2-54-243-24-167.compute-1.amazonaws.com] out: "
       ]
      },
      {
       "output_type": "stream",
       "stream": "stdout",
       "text": [
        "[100%] Building dependency tree"
       ]
      },
      {
       "output_type": "stream",
       "stream": "stdout",
       "text": [
        "\n"
       ]
      },
      {
       "output_type": "stream",
       "stream": "stdout",
       "text": [
        "[ubuntu@ec2-54-243-24-167.compute-1.amazonaws.com] out: "
       ]
      },
      {
       "output_type": "stream",
       "stream": "stdout",
       "text": [
        "                               \n"
       ]
      },
      {
       "output_type": "stream",
       "stream": "stdout",
       "text": [
        "[ubuntu@ec2-54-243-24-167.compute-1.amazonaws.com] out: "
       ]
      },
      {
       "output_type": "stream",
       "stream": "stdout",
       "text": [
        "[  0%] Reading state information\n"
       ]
      },
      {
       "output_type": "stream",
       "stream": "stdout",
       "text": [
        "[ubuntu@ec2-54-243-24-167.compute-1.amazonaws.com] out: "
       ]
      },
      {
       "output_type": "stream",
       "stream": "stdout",
       "text": [
        "                                \n"
       ]
      },
      {
       "output_type": "stream",
       "stream": "stdout",
       "text": [
        "[ubuntu@ec2-54-243-24-167.compute-1.amazonaws.com] out: "
       ]
      },
      {
       "output_type": "stream",
       "stream": "stdout",
       "text": [
        "[100%] Reading state information\n"
       ]
      },
      {
       "output_type": "stream",
       "stream": "stdout",
       "text": [
        "[ubuntu@ec2-54-243-24-167.compute-1.amazonaws.com] out: "
       ]
      },
      {
       "output_type": "stream",
       "stream": "stdout",
       "text": [
        "                                \n"
       ]
      },
      {
       "output_type": "stream",
       "stream": "stdout",
       "text": [
        "[ubuntu@ec2-54-243-24-167.compute-1.amazonaws.com] out: "
       ]
      },
      {
       "output_type": "stream",
       "stream": "stdout",
       "text": [
        "\n"
       ]
      },
      {
       "output_type": "stream",
       "stream": "stdout",
       "text": [
        "[ubuntu@ec2-54-243-24-167.compute-1.amazonaws.com] out: "
       ]
      },
      {
       "output_type": "stream",
       "stream": "stdout",
       "text": [
        "\n"
       ]
      },
      {
       "output_type": "stream",
       "stream": "stdout",
       "text": [
        "[ubuntu@ec2-54-243-24-167.compute-1.amazonaws.com] out: "
       ]
      },
      {
       "output_type": "stream",
       "stream": "stdout",
       "text": [
        "[  0%] Reading extended state information"
       ]
      },
      {
       "output_type": "stream",
       "stream": "stdout",
       "text": [
        "\n"
       ]
      },
      {
       "output_type": "stream",
       "stream": "stdout",
       "text": [
        "[ubuntu@ec2-54-243-24-167.compute-1.amazonaws.com] out: "
       ]
      },
      {
       "output_type": "stream",
       "stream": "stdout",
       "text": [
        "                                         \n"
       ]
      },
      {
       "output_type": "stream",
       "stream": "stdout",
       "text": [
        "[ubuntu@ec2-54-243-24-167.compute-1.amazonaws.com] out: "
       ]
      },
      {
       "output_type": "stream",
       "stream": "stdout",
       "text": [
        "\n"
       ]
      },
      {
       "output_type": "stream",
       "stream": "stdout",
       "text": [
        "[ubuntu@ec2-54-243-24-167.compute-1.amazonaws.com] out: "
       ]
      },
      {
       "output_type": "stream",
       "stream": "stdout",
       "text": [
        "\n"
       ]
      },
      {
       "output_type": "stream",
       "stream": "stdout",
       "text": [
        "[ubuntu@ec2-54-243-24-167.compute-1.amazonaws.com] out: "
       ]
      },
      {
       "output_type": "stream",
       "stream": "stdout",
       "text": [
        "[  0%] Initializing package states"
       ]
      },
      {
       "output_type": "stream",
       "stream": "stdout",
       "text": [
        "\n"
       ]
      },
      {
       "output_type": "stream",
       "stream": "stdout",
       "text": [
        "[ubuntu@ec2-54-243-24-167.compute-1.amazonaws.com] out: "
       ]
      },
      {
       "output_type": "stream",
       "stream": "stdout",
       "text": [
        "                                  \n"
       ]
      },
      {
       "output_type": "stream",
       "stream": "stdout",
       "text": [
        "[ubuntu@ec2-54-243-24-167.compute-1.amazonaws.com] out: "
       ]
      },
      {
       "output_type": "stream",
       "stream": "stdout",
       "text": [
        "[100%] Initializing package states"
       ]
      },
      {
       "output_type": "stream",
       "stream": "stdout",
       "text": [
        "\n"
       ]
      },
      {
       "output_type": "stream",
       "stream": "stdout",
       "text": [
        "[ubuntu@ec2-54-243-24-167.compute-1.amazonaws.com] out: "
       ]
      },
      {
       "output_type": "stream",
       "stream": "stdout",
       "text": [
        "                                  \n"
       ]
      },
      {
       "output_type": "stream",
       "stream": "stdout",
       "text": [
        "[ubuntu@ec2-54-243-24-167.compute-1.amazonaws.com] out: "
       ]
      },
      {
       "output_type": "stream",
       "stream": "stdout",
       "text": [
        "\n"
       ]
      },
      {
       "output_type": "stream",
       "stream": "stdout",
       "text": [
        "[ubuntu@ec2-54-243-24-167.compute-1.amazonaws.com] out: "
       ]
      },
      {
       "output_type": "stream",
       "stream": "stdout",
       "text": [
        "\n"
       ]
      },
      {
       "output_type": "stream",
       "stream": "stdout",
       "text": [
        "[ubuntu@ec2-54-243-24-167.compute-1.amazonaws.com] out: "
       ]
      },
      {
       "output_type": "stream",
       "stream": "stdout",
       "text": [
        "[  0%] Writing extended state information"
       ]
      },
      {
       "output_type": "stream",
       "stream": "stdout",
       "text": [
        "\n"
       ]
      },
      {
       "output_type": "stream",
       "stream": "stdout",
       "text": [
        "[ubuntu@ec2-54-243-24-167.compute-1.amazonaws.com] out: "
       ]
      },
      {
       "output_type": "stream",
       "stream": "stdout",
       "text": [
        "                                         \n"
       ]
      },
      {
       "output_type": "stream",
       "stream": "stdout",
       "text": [
        "[ubuntu@ec2-54-243-24-167.compute-1.amazonaws.com] out: "
       ]
      },
      {
       "output_type": "stream",
       "stream": "stdout",
       "text": [
        "\n"
       ]
      },
      {
       "output_type": "stream",
       "stream": "stdout",
       "text": [
        "[ubuntu@ec2-54-243-24-167.compute-1.amazonaws.com] out: "
       ]
      },
      {
       "output_type": "stream",
       "stream": "stdout",
       "text": [
        "Current status: 0 updates [-7].\n"
       ]
      },
      {
       "output_type": "stream",
       "stream": "stdout",
       "text": [
        "[ubuntu@ec2-54-243-24-167.compute-1.amazonaws.com] out: "
       ]
      },
      {
       "output_type": "stream",
       "stream": "stdout",
       "text": [
        "\n"
       ]
      },
      {
       "output_type": "stream",
       "stream": "stdout",
       "text": [
        "\n",
        "[ubuntu@ec2-54-243-24-167.compute-1.amazonaws.com] sudo: yes | aptitude install git-core apache libapache2-mod-wsgi mysql-client python-virtualenv python-mysqldb redis-server python-lxml\n",
        "[ubuntu@ec2-54-243-24-167.compute-1.amazonaws.com] out: "
       ]
      },
      {
       "output_type": "stream",
       "stream": "stdout",
       "text": [
        "\n"
       ]
      },
      {
       "output_type": "stream",
       "stream": "stdout",
       "text": [
        "[ubuntu@ec2-54-243-24-167.compute-1.amazonaws.com] out: "
       ]
      },
      {
       "output_type": "stream",
       "stream": "stdout",
       "text": [
        "\n"
       ]
      },
      {
       "output_type": "stream",
       "stream": "stdout",
       "text": [
        "[ubuntu@ec2-54-243-24-167.compute-1.amazonaws.com] out: "
       ]
      },
      {
       "output_type": "stream",
       "stream": "stdout",
       "text": [
        "[  0%] Reading package lists\n"
       ]
      },
      {
       "output_type": "stream",
       "stream": "stdout",
       "text": [
        "[ubuntu@ec2-54-243-24-167.compute-1.amazonaws.com] out: "
       ]
      },
      {
       "output_type": "stream",
       "stream": "stdout",
       "text": [
        "                            \n"
       ]
      },
      {
       "output_type": "stream",
       "stream": "stdout",
       "text": [
        "[ubuntu@ec2-54-243-24-167.compute-1.amazonaws.com] out: "
       ]
      },
      {
       "output_type": "stream",
       "stream": "stdout",
       "text": [
        "[100%] Reading package lists\n"
       ]
      },
      {
       "output_type": "stream",
       "stream": "stdout",
       "text": [
        "[ubuntu@ec2-54-243-24-167.compute-1.amazonaws.com] out: "
       ]
      },
      {
       "output_type": "stream",
       "stream": "stdout",
       "text": [
        "                            \n"
       ]
      },
      {
       "output_type": "stream",
       "stream": "stdout",
       "text": [
        "[ubuntu@ec2-54-243-24-167.compute-1.amazonaws.com] out: "
       ]
      },
      {
       "output_type": "stream",
       "stream": "stdout",
       "text": [
        "\n"
       ]
      },
      {
       "output_type": "stream",
       "stream": "stdout",
       "text": [
        "[ubuntu@ec2-54-243-24-167.compute-1.amazonaws.com] out: "
       ]
      },
      {
       "output_type": "stream",
       "stream": "stdout",
       "text": [
        "\n"
       ]
      },
      {
       "output_type": "stream",
       "stream": "stdout",
       "text": [
        "[ubuntu@ec2-54-243-24-167.compute-1.amazonaws.com] out: "
       ]
      },
      {
       "output_type": "stream",
       "stream": "stdout",
       "text": [
        "[  0%] Building dependency tree"
       ]
      },
      {
       "output_type": "stream",
       "stream": "stdout",
       "text": [
        "\n"
       ]
      },
      {
       "output_type": "stream",
       "stream": "stdout",
       "text": [
        "[ubuntu@ec2-54-243-24-167.compute-1.amazonaws.com] out: "
       ]
      },
      {
       "output_type": "stream",
       "stream": "stdout",
       "text": [
        "                               \n"
       ]
      },
      {
       "output_type": "stream",
       "stream": "stdout",
       "text": [
        "[ubuntu@ec2-54-243-24-167.compute-1.amazonaws.com] out: "
       ]
      },
      {
       "output_type": "stream",
       "stream": "stdout",
       "text": [
        "[100%] Building dependency tree"
       ]
      },
      {
       "output_type": "stream",
       "stream": "stdout",
       "text": [
        "\n"
       ]
      },
      {
       "output_type": "stream",
       "stream": "stdout",
       "text": [
        "[ubuntu@ec2-54-243-24-167.compute-1.amazonaws.com] out: "
       ]
      },
      {
       "output_type": "stream",
       "stream": "stdout",
       "text": [
        "                               \n"
       ]
      },
      {
       "output_type": "stream",
       "stream": "stdout",
       "text": [
        "[ubuntu@ec2-54-243-24-167.compute-1.amazonaws.com] out: "
       ]
      },
      {
       "output_type": "stream",
       "stream": "stdout",
       "text": [
        "[  0%] Reading state information\n"
       ]
      },
      {
       "output_type": "stream",
       "stream": "stdout",
       "text": [
        "[ubuntu@ec2-54-243-24-167.compute-1.amazonaws.com] out: "
       ]
      },
      {
       "output_type": "stream",
       "stream": "stdout",
       "text": [
        "                                \n"
       ]
      },
      {
       "output_type": "stream",
       "stream": "stdout",
       "text": [
        "[ubuntu@ec2-54-243-24-167.compute-1.amazonaws.com] out: "
       ]
      },
      {
       "output_type": "stream",
       "stream": "stdout",
       "text": [
        "[100%] Reading state information\n"
       ]
      },
      {
       "output_type": "stream",
       "stream": "stdout",
       "text": [
        "[ubuntu@ec2-54-243-24-167.compute-1.amazonaws.com] out: "
       ]
      },
      {
       "output_type": "stream",
       "stream": "stdout",
       "text": [
        "                                \n"
       ]
      },
      {
       "output_type": "stream",
       "stream": "stdout",
       "text": [
        "[ubuntu@ec2-54-243-24-167.compute-1.amazonaws.com] out: "
       ]
      },
      {
       "output_type": "stream",
       "stream": "stdout",
       "text": [
        "\n"
       ]
      },
      {
       "output_type": "stream",
       "stream": "stdout",
       "text": [
        "[ubuntu@ec2-54-243-24-167.compute-1.amazonaws.com] out: "
       ]
      },
      {
       "output_type": "stream",
       "stream": "stdout",
       "text": [
        "\n"
       ]
      },
      {
       "output_type": "stream",
       "stream": "stdout",
       "text": [
        "[ubuntu@ec2-54-243-24-167.compute-1.amazonaws.com] out: "
       ]
      },
      {
       "output_type": "stream",
       "stream": "stdout",
       "text": [
        "[  0%] Reading extended state information"
       ]
      },
      {
       "output_type": "stream",
       "stream": "stdout",
       "text": [
        "\n"
       ]
      },
      {
       "output_type": "stream",
       "stream": "stdout",
       "text": [
        "[ubuntu@ec2-54-243-24-167.compute-1.amazonaws.com] out: "
       ]
      },
      {
       "output_type": "stream",
       "stream": "stdout",
       "text": [
        "                                         \n"
       ]
      },
      {
       "output_type": "stream",
       "stream": "stdout",
       "text": [
        "[ubuntu@ec2-54-243-24-167.compute-1.amazonaws.com] out: "
       ]
      },
      {
       "output_type": "stream",
       "stream": "stdout",
       "text": [
        "\n"
       ]
      },
      {
       "output_type": "stream",
       "stream": "stdout",
       "text": [
        "[ubuntu@ec2-54-243-24-167.compute-1.amazonaws.com] out: "
       ]
      },
      {
       "output_type": "stream",
       "stream": "stdout",
       "text": [
        "\n"
       ]
      },
      {
       "output_type": "stream",
       "stream": "stdout",
       "text": [
        "[ubuntu@ec2-54-243-24-167.compute-1.amazonaws.com] out: "
       ]
      },
      {
       "output_type": "stream",
       "stream": "stdout",
       "text": [
        "[  0%] Initializing package states\n"
       ]
      },
      {
       "output_type": "stream",
       "stream": "stdout",
       "text": [
        "[ubuntu@ec2-54-243-24-167.compute-1.amazonaws.com] out: "
       ]
      },
      {
       "output_type": "stream",
       "stream": "stdout",
       "text": [
        "                                  \n"
       ]
      },
      {
       "output_type": "stream",
       "stream": "stdout",
       "text": [
        "[ubuntu@ec2-54-243-24-167.compute-1.amazonaws.com] out: "
       ]
      },
      {
       "output_type": "stream",
       "stream": "stdout",
       "text": [
        "[100%] Initializing package states"
       ]
      },
      {
       "output_type": "stream",
       "stream": "stdout",
       "text": [
        "\n"
       ]
      },
      {
       "output_type": "stream",
       "stream": "stdout",
       "text": [
        "[ubuntu@ec2-54-243-24-167.compute-1.amazonaws.com] out: "
       ]
      },
      {
       "output_type": "stream",
       "stream": "stdout",
       "text": [
        "                                  \n"
       ]
      },
      {
       "output_type": "stream",
       "stream": "stdout",
       "text": [
        "[ubuntu@ec2-54-243-24-167.compute-1.amazonaws.com] out: "
       ]
      },
      {
       "output_type": "stream",
       "stream": "stdout",
       "text": [
        "No candidate version found for apache\n"
       ]
      },
      {
       "output_type": "stream",
       "stream": "stdout",
       "text": [
        "[ubuntu@ec2-54-243-24-167.compute-1.amazonaws.com] out: "
       ]
      },
      {
       "output_type": "stream",
       "stream": "stdout",
       "text": [
        "No candidate version found for apache\n"
       ]
      },
      {
       "output_type": "stream",
       "stream": "stdout",
       "text": [
        "[ubuntu@ec2-54-243-24-167.compute-1.amazonaws.com] out: "
       ]
      },
      {
       "output_type": "stream",
       "stream": "stdout",
       "text": [
        "The following NEW packages will be installed:\n"
       ]
      },
      {
       "output_type": "stream",
       "stream": "stdout",
       "text": [
        "[ubuntu@ec2-54-243-24-167.compute-1.amazonaws.com] out: "
       ]
      },
      {
       "output_type": "stream",
       "stream": "stdout",
       "text": [
        "  apache2{a} apache2-mpm-worker{a} apache2-utils{a} apache2.2-bin{a} \n"
       ]
      },
      {
       "output_type": "stream",
       "stream": "stdout",
       "text": [
        "[ubuntu@ec2-54-243-24-167.compute-1.amazonaws.com] out: "
       ]
      },
      {
       "output_type": "stream",
       "stream": "stdout",
       "text": [
        "  apache2.2-common{a} git{a} git-core git-man{a} libapache2-mod-wsgi \n"
       ]
      },
      {
       "output_type": "stream",
       "stream": "stdout",
       "text": [
        "[ubuntu@ec2-54-243-24-167.compute-1.amazonaws.com] out: "
       ]
      },
      {
       "output_type": "stream",
       "stream": "stdout",
       "text": [
        "  libapr1{a} libaprutil1{a} libaprutil1-dbd-sqlite3{a} libaprutil1-ldap{a} \n"
       ]
      },
      {
       "output_type": "stream",
       "stream": "stdout",
       "text": [
        "[ubuntu@ec2-54-243-24-167.compute-1.amazonaws.com] out: "
       ]
      },
      {
       "output_type": "stream",
       "stream": "stdout",
       "text": [
        "  libcap2{a} libdbd-mysql-perl{a} libdbi-perl{a} liberror-perl{a} \n"
       ]
      },
      {
       "output_type": "stream",
       "stream": "stdout",
       "text": [
        "[ubuntu@ec2-54-243-24-167.compute-1.amazonaws.com] out: "
       ]
      },
      {
       "output_type": "stream",
       "stream": "stdout",
       "text": [
        "  libmysqlclient18{a} libnet-daemon-perl{a} libplrpc-perl{a} libxslt1.1{a} \n"
       ]
      },
      {
       "output_type": "stream",
       "stream": "stdout",
       "text": [
        "[ubuntu@ec2-54-243-24-167.compute-1.amazonaws.com] out: "
       ]
      },
      {
       "output_type": "stream",
       "stream": "stdout",
       "text": [
        "  mysql-client mysql-client-5.5{a} mysql-client-core-5.5{a} mysql-common{a} \n"
       ]
      },
      {
       "output_type": "stream",
       "stream": "stdout",
       "text": [
        "[ubuntu@ec2-54-243-24-167.compute-1.amazonaws.com] out: "
       ]
      },
      {
       "output_type": "stream",
       "stream": "stdout",
       "text": [
        "  python-lxml python-mysqldb python-pip{a} python-setuptools{a} \n"
       ]
      },
      {
       "output_type": "stream",
       "stream": "stdout",
       "text": [
        "[ubuntu@ec2-54-243-24-167.compute-1.amazonaws.com] out: "
       ]
      },
      {
       "output_type": "stream",
       "stream": "stdout",
       "text": [
        "  python-virtualenv redis-server ssl-cert{a} \n"
       ]
      },
      {
       "output_type": "stream",
       "stream": "stdout",
       "text": [
        "[ubuntu@ec2-54-243-24-167.compute-1.amazonaws.com] out: "
       ]
      },
      {
       "output_type": "stream",
       "stream": "stdout",
       "text": [
        "0 packages upgraded, 32 newly installed, 0 to remove and 0 not upgraded.\n"
       ]
      },
      {
       "output_type": "stream",
       "stream": "stdout",
       "text": [
        "[ubuntu@ec2-54-243-24-167.compute-1.amazonaws.com] out: "
       ]
      },
      {
       "output_type": "stream",
       "stream": "stdout",
       "text": [
        "Need to get 24.7 MB of archives. After unpacking 72.6 MB will be used.\n"
       ]
      },
      {
       "output_type": "stream",
       "stream": "stdout",
       "text": [
        "[ubuntu@ec2-54-243-24-167.compute-1.amazonaws.com] out: "
       ]
      },
      {
       "output_type": "stream",
       "stream": "stdout",
       "text": [
        "Do you want to continue? [Y/n/?] "
       ]
      },
      {
       "output_type": "stream",
       "stream": "stdout",
       "text": [
        "\n"
       ]
      },
      {
       "output_type": "stream",
       "stream": "stdout",
       "text": [
        "[ubuntu@ec2-54-243-24-167.compute-1.amazonaws.com] out: "
       ]
      },
      {
       "output_type": "stream",
       "stream": "stdout",
       "text": [
        "\n"
       ]
      },
      {
       "output_type": "stream",
       "stream": "stdout",
       "text": [
        "[ubuntu@ec2-54-243-24-167.compute-1.amazonaws.com] out: "
       ]
      },
      {
       "output_type": "stream",
       "stream": "stdout",
       "text": [
        "[  0%] Writing extended state information\n"
       ]
      },
      {
       "output_type": "stream",
       "stream": "stdout",
       "text": [
        "[ubuntu@ec2-54-243-24-167.compute-1.amazonaws.com] out: "
       ]
      },
      {
       "output_type": "stream",
       "stream": "stdout",
       "text": [
        "                                         \n"
       ]
      },
      {
       "output_type": "stream",
       "stream": "stdout",
       "text": [
        "[ubuntu@ec2-54-243-24-167.compute-1.amazonaws.com] out: "
       ]
      },
      {
       "output_type": "stream",
       "stream": "stdout",
       "text": [
        "[100%] Writing extended state information"
       ]
      },
      {
       "output_type": "stream",
       "stream": "stdout",
       "text": [
        "\n"
       ]
      },
      {
       "output_type": "stream",
       "stream": "stdout",
       "text": [
        "[ubuntu@ec2-54-243-24-167.compute-1.amazonaws.com] out: "
       ]
      },
      {
       "output_type": "stream",
       "stream": "stdout",
       "text": [
        "                                         \n"
       ]
      },
      {
       "output_type": "stream",
       "stream": "stdout",
       "text": [
        "[ubuntu@ec2-54-243-24-167.compute-1.amazonaws.com] out: "
       ]
      },
      {
       "output_type": "stream",
       "stream": "stdout",
       "text": [
        "\n"
       ]
      },
      {
       "output_type": "stream",
       "stream": "stdout",
       "text": [
        "[ubuntu@ec2-54-243-24-167.compute-1.amazonaws.com] out: "
       ]
      },
      {
       "output_type": "stream",
       "stream": "stdout",
       "text": [
        "\n"
       ]
      },
      {
       "output_type": "stream",
       "stream": "stdout",
       "text": [
        "[ubuntu@ec2-54-243-24-167.compute-1.amazonaws.com] out: "
       ]
      },
      {
       "output_type": "stream",
       "stream": "stdout",
       "text": [
        "0% [Working]"
       ]
      },
      {
       "output_type": "stream",
       "stream": "stdout",
       "text": [
        "\n"
       ]
      },
      {
       "output_type": "stream",
       "stream": "stdout",
       "text": [
        "[ubuntu@ec2-54-243-24-167.compute-1.amazonaws.com] out: "
       ]
      },
      {
       "output_type": "stream",
       "stream": "stdout",
       "text": [
        "            \n"
       ]
      },
      {
       "output_type": "stream",
       "stream": "stdout",
       "text": [
        "[ubuntu@ec2-54-243-24-167.compute-1.amazonaws.com] out: "
       ]
      },
      {
       "output_type": "stream",
       "stream": "stdout",
       "text": [
        "Get: 1 http://us-east-1.ec2.archive.ubuntu.com/ubuntu/ precise/main libcap2 amd64 1:2.22-1ubuntu3 [12.0 kB]\n"
       ]
      },
      {
       "output_type": "stream",
       "stream": "stdout",
       "text": [
        "[ubuntu@ec2-54-243-24-167.compute-1.amazonaws.com] out: "
       ]
      },
      {
       "output_type": "stream",
       "stream": "stdout",
       "text": [
        "\n"
       ]
      },
      {
       "output_type": "stream",
       "stream": "stdout",
       "text": [
        "[ubuntu@ec2-54-243-24-167.compute-1.amazonaws.com] out: "
       ]
      },
      {
       "output_type": "stream",
       "stream": "stdout",
       "text": [
        "\n"
       ]
      },
      {
       "output_type": "stream",
       "stream": "stdout",
       "text": [
        "[ubuntu@ec2-54-243-24-167.compute-1.amazonaws.com] out: "
       ]
      },
      {
       "output_type": "stream",
       "stream": "stdout",
       "text": [
        "0% [1 libcap2 0 B/12.0 kB 0%]\n"
       ]
      },
      {
       "output_type": "stream",
       "stream": "stdout",
       "text": [
        "[ubuntu@ec2-54-243-24-167.compute-1.amazonaws.com] out: "
       ]
      },
      {
       "output_type": "stream",
       "stream": "stdout",
       "text": [
        "                             \n"
       ]
      },
      {
       "output_type": "stream",
       "stream": "stdout",
       "text": [
        "[ubuntu@ec2-54-243-24-167.compute-1.amazonaws.com] out: "
       ]
      },
      {
       "output_type": "stream",
       "stream": "stdout",
       "text": [
        "0% [Working]\n"
       ]
      },
      {
       "output_type": "stream",
       "stream": "stdout",
       "text": [
        "[ubuntu@ec2-54-243-24-167.compute-1.amazonaws.com] out: "
       ]
      },
      {
       "output_type": "stream",
       "stream": "stdout",
       "text": [
        "            \n"
       ]
      },
      {
       "output_type": "stream",
       "stream": "stdout",
       "text": [
        "[ubuntu@ec2-54-243-24-167.compute-1.amazonaws.com] out: "
       ]
      },
      {
       "output_type": "stream",
       "stream": "stdout",
       "text": [
        "Get: 2 http://us-east-1.ec2.archive.ubuntu.com/ubuntu/ precise-updates/main mysql-common all 5.5.31-0ubuntu0.12.04.1 [13.4 kB]\n"
       ]
      },
      {
       "output_type": "stream",
       "stream": "stdout",
       "text": [
        "[ubuntu@ec2-54-243-24-167.compute-1.amazonaws.com] out: "
       ]
      },
      {
       "output_type": "stream",
       "stream": "stdout",
       "text": [
        "\n"
       ]
      },
      {
       "output_type": "stream",
       "stream": "stdout",
       "text": [
        "[ubuntu@ec2-54-243-24-167.compute-1.amazonaws.com] out: "
       ]
      },
      {
       "output_type": "stream",
       "stream": "stdout",
       "text": [
        "\n"
       ]
      },
      {
       "output_type": "stream",
       "stream": "stdout",
       "text": [
        "[ubuntu@ec2-54-243-24-167.compute-1.amazonaws.com] out: "
       ]
      },
      {
       "output_type": "stream",
       "stream": "stdout",
       "text": [
        "0% [2 mysql-common 0 B/13.4 kB 0%]\n"
       ]
      },
      {
       "output_type": "stream",
       "stream": "stdout",
       "text": [
        "[ubuntu@ec2-54-243-24-167.compute-1.amazonaws.com] out: "
       ]
      },
      {
       "output_type": "stream",
       "stream": "stdout",
       "text": [
        "                                  \n"
       ]
      },
      {
       "output_type": "stream",
       "stream": "stdout",
       "text": [
        "[ubuntu@ec2-54-243-24-167.compute-1.amazonaws.com] out: "
       ]
      },
      {
       "output_type": "stream",
       "stream": "stdout",
       "text": [
        "0% [Working]"
       ]
      },
      {
       "output_type": "stream",
       "stream": "stdout",
       "text": [
        "\n"
       ]
      },
      {
       "output_type": "stream",
       "stream": "stdout",
       "text": [
        "[ubuntu@ec2-54-243-24-167.compute-1.amazonaws.com] out: "
       ]
      },
      {
       "output_type": "stream",
       "stream": "stdout",
       "text": [
        "            \n"
       ]
      },
      {
       "output_type": "stream",
       "stream": "stdout",
       "text": [
        "[ubuntu@ec2-54-243-24-167.compute-1.amazonaws.com] out: "
       ]
      },
      {
       "output_type": "stream",
       "stream": "stdout",
       "text": [
        "Get: 3 http://us-east-1.ec2.archive.ubuntu.com/ubuntu/ precise-updates/main libmysqlclient18 amd64 5.5.31-0ubuntu0.12.04.1 [948 kB]\n"
       ]
      },
      {
       "output_type": "stream",
       "stream": "stdout",
       "text": [
        "[ubuntu@ec2-54-243-24-167.compute-1.amazonaws.com] out: "
       ]
      },
      {
       "output_type": "stream",
       "stream": "stdout",
       "text": [
        "\n"
       ]
      },
      {
       "output_type": "stream",
       "stream": "stdout",
       "text": [
        "[ubuntu@ec2-54-243-24-167.compute-1.amazonaws.com] out: "
       ]
      },
      {
       "output_type": "stream",
       "stream": "stdout",
       "text": [
        "\n"
       ]
      },
      {
       "output_type": "stream",
       "stream": "stdout",
       "text": [
        "[ubuntu@ec2-54-243-24-167.compute-1.amazonaws.com] out: "
       ]
      },
      {
       "output_type": "stream",
       "stream": "stdout",
       "text": [
        "0% [3 libmysqlclient18 0 B/948 kB 0%]"
       ]
      },
      {
       "output_type": "stream",
       "stream": "stdout",
       "text": [
        "\n"
       ]
      },
      {
       "output_type": "stream",
       "stream": "stdout",
       "text": [
        "[ubuntu@ec2-54-243-24-167.compute-1.amazonaws.com] out: "
       ]
      },
      {
       "output_type": "stream",
       "stream": "stdout",
       "text": [
        "                                     \n"
       ]
      },
      {
       "output_type": "stream",
       "stream": "stdout",
       "text": [
        "[ubuntu@ec2-54-243-24-167.compute-1.amazonaws.com] out: "
       ]
      },
      {
       "output_type": "stream",
       "stream": "stdout",
       "text": [
        "4% [Working]\n"
       ]
      },
      {
       "output_type": "stream",
       "stream": "stdout",
       "text": [
        "[ubuntu@ec2-54-243-24-167.compute-1.amazonaws.com] out: "
       ]
      },
      {
       "output_type": "stream",
       "stream": "stdout",
       "text": [
        "            \n"
       ]
      },
      {
       "output_type": "stream",
       "stream": "stdout",
       "text": [
        "[ubuntu@ec2-54-243-24-167.compute-1.amazonaws.com] out: "
       ]
      },
      {
       "output_type": "stream",
       "stream": "stdout",
       "text": [
        "Get: 4 http://us-east-1.ec2.archive.ubuntu.com/ubuntu/ precise-updates/main libxslt1.1 amd64 1.1.26-8ubuntu1.3 [167 kB]\n"
       ]
      },
      {
       "output_type": "stream",
       "stream": "stdout",
       "text": [
        "[ubuntu@ec2-54-243-24-167.compute-1.amazonaws.com] out: "
       ]
      },
      {
       "output_type": "stream",
       "stream": "stdout",
       "text": [
        "\n"
       ]
      },
      {
       "output_type": "stream",
       "stream": "stdout",
       "text": [
        "[ubuntu@ec2-54-243-24-167.compute-1.amazonaws.com] out: "
       ]
      },
      {
       "output_type": "stream",
       "stream": "stdout",
       "text": [
        "\n"
       ]
      },
      {
       "output_type": "stream",
       "stream": "stdout",
       "text": [
        "[ubuntu@ec2-54-243-24-167.compute-1.amazonaws.com] out: "
       ]
      },
      {
       "output_type": "stream",
       "stream": "stdout",
       "text": [
        "4% [4 libxslt1.1 0 B/167 kB 0%]"
       ]
      },
      {
       "output_type": "stream",
       "stream": "stdout",
       "text": [
        "\n"
       ]
      },
      {
       "output_type": "stream",
       "stream": "stdout",
       "text": [
        "[ubuntu@ec2-54-243-24-167.compute-1.amazonaws.com] out: "
       ]
      },
      {
       "output_type": "stream",
       "stream": "stdout",
       "text": [
        "                               \n"
       ]
      },
      {
       "output_type": "stream",
       "stream": "stdout",
       "text": [
        "[ubuntu@ec2-54-243-24-167.compute-1.amazonaws.com] out: "
       ]
      },
      {
       "output_type": "stream",
       "stream": "stdout",
       "text": [
        "5% [Working]"
       ]
      },
      {
       "output_type": "stream",
       "stream": "stdout",
       "text": [
        "\n"
       ]
      },
      {
       "output_type": "stream",
       "stream": "stdout",
       "text": [
        "[ubuntu@ec2-54-243-24-167.compute-1.amazonaws.com] out: "
       ]
      },
      {
       "output_type": "stream",
       "stream": "stdout",
       "text": [
        "            \n"
       ]
      },
      {
       "output_type": "stream",
       "stream": "stdout",
       "text": [
        "[ubuntu@ec2-54-243-24-167.compute-1.amazonaws.com] out: "
       ]
      },
      {
       "output_type": "stream",
       "stream": "stdout",
       "text": [
        "Get: 5 http://us-east-1.ec2.archive.ubuntu.com/ubuntu/ precise/main libapr1 amd64 1.4.6-1 [89.6 kB]\n"
       ]
      },
      {
       "output_type": "stream",
       "stream": "stdout",
       "text": [
        "[ubuntu@ec2-54-243-24-167.compute-1.amazonaws.com] out: "
       ]
      },
      {
       "output_type": "stream",
       "stream": "stdout",
       "text": [
        "\n"
       ]
      },
      {
       "output_type": "stream",
       "stream": "stdout",
       "text": [
        "[ubuntu@ec2-54-243-24-167.compute-1.amazonaws.com] out: "
       ]
      },
      {
       "output_type": "stream",
       "stream": "stdout",
       "text": [
        "\n"
       ]
      },
      {
       "output_type": "stream",
       "stream": "stdout",
       "text": [
        "[ubuntu@ec2-54-243-24-167.compute-1.amazonaws.com] out: "
       ]
      },
      {
       "output_type": "stream",
       "stream": "stdout",
       "text": [
        "5% [5 libapr1 0 B/89.6 kB 0%]"
       ]
      },
      {
       "output_type": "stream",
       "stream": "stdout",
       "text": [
        "\n"
       ]
      },
      {
       "output_type": "stream",
       "stream": "stdout",
       "text": [
        "[ubuntu@ec2-54-243-24-167.compute-1.amazonaws.com] out: "
       ]
      },
      {
       "output_type": "stream",
       "stream": "stdout",
       "text": [
        "                             \n"
       ]
      },
      {
       "output_type": "stream",
       "stream": "stdout",
       "text": [
        "[ubuntu@ec2-54-243-24-167.compute-1.amazonaws.com] out: "
       ]
      },
      {
       "output_type": "stream",
       "stream": "stdout",
       "text": [
        "5% [Working]"
       ]
      },
      {
       "output_type": "stream",
       "stream": "stdout",
       "text": [
        "\n"
       ]
      },
      {
       "output_type": "stream",
       "stream": "stdout",
       "text": [
        "[ubuntu@ec2-54-243-24-167.compute-1.amazonaws.com] out: "
       ]
      },
      {
       "output_type": "stream",
       "stream": "stdout",
       "text": [
        "            \n"
       ]
      },
      {
       "output_type": "stream",
       "stream": "stdout",
       "text": [
        "[ubuntu@ec2-54-243-24-167.compute-1.amazonaws.com] out: "
       ]
      },
      {
       "output_type": "stream",
       "stream": "stdout",
       "text": [
        "Get: 6 http://us-east-1.ec2.archive.ubuntu.com/ubuntu/ precise/main libaprutil1 amd64 1.3.12+dfsg-3 [74.6 kB]\n"
       ]
      },
      {
       "output_type": "stream",
       "stream": "stdout",
       "text": [
        "[ubuntu@ec2-54-243-24-167.compute-1.amazonaws.com] out: "
       ]
      },
      {
       "output_type": "stream",
       "stream": "stdout",
       "text": [
        "\n"
       ]
      },
      {
       "output_type": "stream",
       "stream": "stdout",
       "text": [
        "[ubuntu@ec2-54-243-24-167.compute-1.amazonaws.com] out: "
       ]
      },
      {
       "output_type": "stream",
       "stream": "stdout",
       "text": [
        "\n"
       ]
      },
      {
       "output_type": "stream",
       "stream": "stdout",
       "text": [
        "[ubuntu@ec2-54-243-24-167.compute-1.amazonaws.com] out: "
       ]
      },
      {
       "output_type": "stream",
       "stream": "stdout",
       "text": [
        "5% [6 libaprutil1 0 B/74.6 kB 0%]\n"
       ]
      },
      {
       "output_type": "stream",
       "stream": "stdout",
       "text": [
        "[ubuntu@ec2-54-243-24-167.compute-1.amazonaws.com] out: "
       ]
      },
      {
       "output_type": "stream",
       "stream": "stdout",
       "text": [
        "                                 \n"
       ]
      },
      {
       "output_type": "stream",
       "stream": "stdout",
       "text": [
        "[ubuntu@ec2-54-243-24-167.compute-1.amazonaws.com] out: "
       ]
      },
      {
       "output_type": "stream",
       "stream": "stdout",
       "text": [
        "5% [Working]"
       ]
      },
      {
       "output_type": "stream",
       "stream": "stdout",
       "text": [
        "\n"
       ]
      },
      {
       "output_type": "stream",
       "stream": "stdout",
       "text": [
        "[ubuntu@ec2-54-243-24-167.compute-1.amazonaws.com] out: "
       ]
      },
      {
       "output_type": "stream",
       "stream": "stdout",
       "text": [
        "            \n"
       ]
      },
      {
       "output_type": "stream",
       "stream": "stdout",
       "text": [
        "[ubuntu@ec2-54-243-24-167.compute-1.amazonaws.com] out: "
       ]
      },
      {
       "output_type": "stream",
       "stream": "stdout",
       "text": [
        "Get: 7 http://us-east-1.ec2.archive.ubuntu.com/ubuntu/ precise/main libaprutil1-dbd-sqlite3 amd64 1.3.12+dfsg-3 [10.4 kB]\n"
       ]
      },
      {
       "output_type": "stream",
       "stream": "stdout",
       "text": [
        "[ubuntu@ec2-54-243-24-167.compute-1.amazonaws.com] out: "
       ]
      },
      {
       "output_type": "stream",
       "stream": "stdout",
       "text": [
        "\n"
       ]
      },
      {
       "output_type": "stream",
       "stream": "stdout",
       "text": [
        "[ubuntu@ec2-54-243-24-167.compute-1.amazonaws.com] out: "
       ]
      },
      {
       "output_type": "stream",
       "stream": "stdout",
       "text": [
        "\n"
       ]
      },
      {
       "output_type": "stream",
       "stream": "stdout",
       "text": [
        "[ubuntu@ec2-54-243-24-167.compute-1.amazonaws.com] out: "
       ]
      },
      {
       "output_type": "stream",
       "stream": "stdout",
       "text": [
        "5% [7 libaprutil1-dbd-sqlite3 0 B/10.4 kB 0%]\n"
       ]
      },
      {
       "output_type": "stream",
       "stream": "stdout",
       "text": [
        "[ubuntu@ec2-54-243-24-167.compute-1.amazonaws.com] out: "
       ]
      },
      {
       "output_type": "stream",
       "stream": "stdout",
       "text": [
        "                                             \n"
       ]
      },
      {
       "output_type": "stream",
       "stream": "stdout",
       "text": [
        "[ubuntu@ec2-54-243-24-167.compute-1.amazonaws.com] out: "
       ]
      },
      {
       "output_type": "stream",
       "stream": "stdout",
       "text": [
        "5% [Working]"
       ]
      },
      {
       "output_type": "stream",
       "stream": "stdout",
       "text": [
        "\n"
       ]
      },
      {
       "output_type": "stream",
       "stream": "stdout",
       "text": [
        "[ubuntu@ec2-54-243-24-167.compute-1.amazonaws.com] out: "
       ]
      },
      {
       "output_type": "stream",
       "stream": "stdout",
       "text": [
        "            \n"
       ]
      },
      {
       "output_type": "stream",
       "stream": "stdout",
       "text": [
        "[ubuntu@ec2-54-243-24-167.compute-1.amazonaws.com] out: "
       ]
      },
      {
       "output_type": "stream",
       "stream": "stdout",
       "text": [
        "Get: 8 http://us-east-1.ec2.archive.ubuntu.com/ubuntu/ precise/main libaprutil1-ldap amd64 1.3.12+dfsg-3 [8,044 B]\n"
       ]
      },
      {
       "output_type": "stream",
       "stream": "stdout",
       "text": [
        "[ubuntu@ec2-54-243-24-167.compute-1.amazonaws.com] out: "
       ]
      },
      {
       "output_type": "stream",
       "stream": "stdout",
       "text": [
        "\n"
       ]
      },
      {
       "output_type": "stream",
       "stream": "stdout",
       "text": [
        "[ubuntu@ec2-54-243-24-167.compute-1.amazonaws.com] out: "
       ]
      },
      {
       "output_type": "stream",
       "stream": "stdout",
       "text": [
        "\n"
       ]
      },
      {
       "output_type": "stream",
       "stream": "stdout",
       "text": [
        "[ubuntu@ec2-54-243-24-167.compute-1.amazonaws.com] out: "
       ]
      },
      {
       "output_type": "stream",
       "stream": "stdout",
       "text": [
        "5% [8 libaprutil1-ldap 0 B/8,044 B 0%]\n"
       ]
      },
      {
       "output_type": "stream",
       "stream": "stdout",
       "text": [
        "[ubuntu@ec2-54-243-24-167.compute-1.amazonaws.com] out: "
       ]
      },
      {
       "output_type": "stream",
       "stream": "stdout",
       "text": [
        "                                      \n"
       ]
      },
      {
       "output_type": "stream",
       "stream": "stdout",
       "text": [
        "[ubuntu@ec2-54-243-24-167.compute-1.amazonaws.com] out: "
       ]
      },
      {
       "output_type": "stream",
       "stream": "stdout",
       "text": [
        "5% [Working]"
       ]
      },
      {
       "output_type": "stream",
       "stream": "stdout",
       "text": [
        "\n"
       ]
      },
      {
       "output_type": "stream",
       "stream": "stdout",
       "text": [
        "[ubuntu@ec2-54-243-24-167.compute-1.amazonaws.com] out: "
       ]
      },
      {
       "output_type": "stream",
       "stream": "stdout",
       "text": [
        "            \n"
       ]
      },
      {
       "output_type": "stream",
       "stream": "stdout",
       "text": [
        "[ubuntu@ec2-54-243-24-167.compute-1.amazonaws.com] out: "
       ]
      },
      {
       "output_type": "stream",
       "stream": "stdout",
       "text": [
        "Get: 9 http://us-east-1.ec2.archive.ubuntu.com/ubuntu/ precise-updates/main apache2.2-bin amd64 2.2.22-1ubuntu1.3 [1,338 kB]\n"
       ]
      },
      {
       "output_type": "stream",
       "stream": "stdout",
       "text": [
        "[ubuntu@ec2-54-243-24-167.compute-1.amazonaws.com] out: "
       ]
      },
      {
       "output_type": "stream",
       "stream": "stdout",
       "text": [
        "\n"
       ]
      },
      {
       "output_type": "stream",
       "stream": "stdout",
       "text": [
        "[ubuntu@ec2-54-243-24-167.compute-1.amazonaws.com] out: "
       ]
      },
      {
       "output_type": "stream",
       "stream": "stdout",
       "text": [
        "\n"
       ]
      },
      {
       "output_type": "stream",
       "stream": "stdout",
       "text": [
        "[ubuntu@ec2-54-243-24-167.compute-1.amazonaws.com] out: "
       ]
      },
      {
       "output_type": "stream",
       "stream": "stdout",
       "text": [
        "5% [9 apache2.2-bin 0 B/1,338 kB 0%]"
       ]
      },
      {
       "output_type": "stream",
       "stream": "stdout",
       "text": [
        "\n"
       ]
      },
      {
       "output_type": "stream",
       "stream": "stdout",
       "text": [
        "[ubuntu@ec2-54-243-24-167.compute-1.amazonaws.com] out: "
       ]
      },
      {
       "output_type": "stream",
       "stream": "stdout",
       "text": [
        "                                    \n"
       ]
      },
      {
       "output_type": "stream",
       "stream": "stdout",
       "text": [
        "[ubuntu@ec2-54-243-24-167.compute-1.amazonaws.com] out: "
       ]
      },
      {
       "output_type": "stream",
       "stream": "stdout",
       "text": [
        "11% [Working]"
       ]
      },
      {
       "output_type": "stream",
       "stream": "stdout",
       "text": [
        "\n"
       ]
      },
      {
       "output_type": "stream",
       "stream": "stdout",
       "text": [
        "[ubuntu@ec2-54-243-24-167.compute-1.amazonaws.com] out: "
       ]
      },
      {
       "output_type": "stream",
       "stream": "stdout",
       "text": [
        "             \n"
       ]
      },
      {
       "output_type": "stream",
       "stream": "stdout",
       "text": [
        "[ubuntu@ec2-54-243-24-167.compute-1.amazonaws.com] out: "
       ]
      },
      {
       "output_type": "stream",
       "stream": "stdout",
       "text": [
        "Get: 10 http://us-east-1.ec2.archive.ubuntu.com/ubuntu/ precise-updates/main apache2-utils amd64 2.2.22-1ubuntu1.3 [90.4 kB]\n"
       ]
      },
      {
       "output_type": "stream",
       "stream": "stdout",
       "text": [
        "[ubuntu@ec2-54-243-24-167.compute-1.amazonaws.com] out: "
       ]
      },
      {
       "output_type": "stream",
       "stream": "stdout",
       "text": [
        "\n"
       ]
      },
      {
       "output_type": "stream",
       "stream": "stdout",
       "text": [
        "[ubuntu@ec2-54-243-24-167.compute-1.amazonaws.com] out: "
       ]
      },
      {
       "output_type": "stream",
       "stream": "stdout",
       "text": [
        "\n"
       ]
      },
      {
       "output_type": "stream",
       "stream": "stdout",
       "text": [
        "[ubuntu@ec2-54-243-24-167.compute-1.amazonaws.com] out: "
       ]
      },
      {
       "output_type": "stream",
       "stream": "stdout",
       "text": [
        "11% [10 apache2-utils 0 B/90.4 kB 0%]"
       ]
      },
      {
       "output_type": "stream",
       "stream": "stdout",
       "text": [
        "\n"
       ]
      },
      {
       "output_type": "stream",
       "stream": "stdout",
       "text": [
        "[ubuntu@ec2-54-243-24-167.compute-1.amazonaws.com] out: "
       ]
      },
      {
       "output_type": "stream",
       "stream": "stdout",
       "text": [
        "                                     \n"
       ]
      },
      {
       "output_type": "stream",
       "stream": "stdout",
       "text": [
        "[ubuntu@ec2-54-243-24-167.compute-1.amazonaws.com] out: "
       ]
      },
      {
       "output_type": "stream",
       "stream": "stdout",
       "text": [
        "11% [Working]"
       ]
      },
      {
       "output_type": "stream",
       "stream": "stdout",
       "text": [
        "\n"
       ]
      },
      {
       "output_type": "stream",
       "stream": "stdout",
       "text": [
        "[ubuntu@ec2-54-243-24-167.compute-1.amazonaws.com] out: "
       ]
      },
      {
       "output_type": "stream",
       "stream": "stdout",
       "text": [
        "             \n"
       ]
      },
      {
       "output_type": "stream",
       "stream": "stdout",
       "text": [
        "[ubuntu@ec2-54-243-24-167.compute-1.amazonaws.com] out: "
       ]
      },
      {
       "output_type": "stream",
       "stream": "stdout",
       "text": [
        "Get: 11 http://us-east-1.ec2.archive.ubuntu.com/ubuntu/ precise-updates/main apache2.2-common amd64 2.2.22-1ubuntu1.3 [227 kB]\n"
       ]
      },
      {
       "output_type": "stream",
       "stream": "stdout",
       "text": [
        "[ubuntu@ec2-54-243-24-167.compute-1.amazonaws.com] out: "
       ]
      },
      {
       "output_type": "stream",
       "stream": "stdout",
       "text": [
        "\n"
       ]
      },
      {
       "output_type": "stream",
       "stream": "stdout",
       "text": [
        "[ubuntu@ec2-54-243-24-167.compute-1.amazonaws.com] out: "
       ]
      },
      {
       "output_type": "stream",
       "stream": "stdout",
       "text": [
        "\n"
       ]
      },
      {
       "output_type": "stream",
       "stream": "stdout",
       "text": [
        "[ubuntu@ec2-54-243-24-167.compute-1.amazonaws.com] out: "
       ]
      },
      {
       "output_type": "stream",
       "stream": "stdout",
       "text": [
        "11% [11 apache2.2-common 0 B/227 kB 0%]"
       ]
      },
      {
       "output_type": "stream",
       "stream": "stdout",
       "text": [
        "\n"
       ]
      },
      {
       "output_type": "stream",
       "stream": "stdout",
       "text": [
        "[ubuntu@ec2-54-243-24-167.compute-1.amazonaws.com] out: "
       ]
      },
      {
       "output_type": "stream",
       "stream": "stdout",
       "text": [
        "                                       \n"
       ]
      },
      {
       "output_type": "stream",
       "stream": "stdout",
       "text": [
        "[ubuntu@ec2-54-243-24-167.compute-1.amazonaws.com] out: "
       ]
      },
      {
       "output_type": "stream",
       "stream": "stdout",
       "text": [
        "12% [Working]"
       ]
      },
      {
       "output_type": "stream",
       "stream": "stdout",
       "text": [
        "\n"
       ]
      },
      {
       "output_type": "stream",
       "stream": "stdout",
       "text": [
        "[ubuntu@ec2-54-243-24-167.compute-1.amazonaws.com] out: "
       ]
      },
      {
       "output_type": "stream",
       "stream": "stdout",
       "text": [
        "             \n"
       ]
      },
      {
       "output_type": "stream",
       "stream": "stdout",
       "text": [
        "[ubuntu@ec2-54-243-24-167.compute-1.amazonaws.com] out: "
       ]
      },
      {
       "output_type": "stream",
       "stream": "stdout",
       "text": [
        "Get: 12 http://us-east-1.ec2.archive.ubuntu.com/ubuntu/ precise-updates/main apache2-mpm-worker amd64 2.2.22-1ubuntu1.3 [2,296 B]\n"
       ]
      },
      {
       "output_type": "stream",
       "stream": "stdout",
       "text": [
        "[ubuntu@ec2-54-243-24-167.compute-1.amazonaws.com] out: "
       ]
      },
      {
       "output_type": "stream",
       "stream": "stdout",
       "text": [
        "\n"
       ]
      },
      {
       "output_type": "stream",
       "stream": "stdout",
       "text": [
        "[ubuntu@ec2-54-243-24-167.compute-1.amazonaws.com] out: "
       ]
      },
      {
       "output_type": "stream",
       "stream": "stdout",
       "text": [
        "\n"
       ]
      },
      {
       "output_type": "stream",
       "stream": "stdout",
       "text": [
        "[ubuntu@ec2-54-243-24-167.compute-1.amazonaws.com] out: "
       ]
      },
      {
       "output_type": "stream",
       "stream": "stdout",
       "text": [
        "12% [12 apache2-mpm-worker 0 B/2,296 B 0%]\n"
       ]
      },
      {
       "output_type": "stream",
       "stream": "stdout",
       "text": [
        "[ubuntu@ec2-54-243-24-167.compute-1.amazonaws.com] out: "
       ]
      },
      {
       "output_type": "stream",
       "stream": "stdout",
       "text": [
        "                                          \n"
       ]
      },
      {
       "output_type": "stream",
       "stream": "stdout",
       "text": [
        "[ubuntu@ec2-54-243-24-167.compute-1.amazonaws.com] out: "
       ]
      },
      {
       "output_type": "stream",
       "stream": "stdout",
       "text": [
        "12% [Working]\n"
       ]
      },
      {
       "output_type": "stream",
       "stream": "stdout",
       "text": [
        "[ubuntu@ec2-54-243-24-167.compute-1.amazonaws.com] out: "
       ]
      },
      {
       "output_type": "stream",
       "stream": "stdout",
       "text": [
        "             \n"
       ]
      },
      {
       "output_type": "stream",
       "stream": "stdout",
       "text": [
        "[ubuntu@ec2-54-243-24-167.compute-1.amazonaws.com] out: "
       ]
      },
      {
       "output_type": "stream",
       "stream": "stdout",
       "text": [
        "Get: 13 http://us-east-1.ec2.archive.ubuntu.com/ubuntu/ precise-updates/main apache2 amd64 2.2.22-1ubuntu1.3 [1,492 B]\n"
       ]
      },
      {
       "output_type": "stream",
       "stream": "stdout",
       "text": [
        "[ubuntu@ec2-54-243-24-167.compute-1.amazonaws.com] out: "
       ]
      },
      {
       "output_type": "stream",
       "stream": "stdout",
       "text": [
        "\n"
       ]
      },
      {
       "output_type": "stream",
       "stream": "stdout",
       "text": [
        "[ubuntu@ec2-54-243-24-167.compute-1.amazonaws.com] out: "
       ]
      },
      {
       "output_type": "stream",
       "stream": "stdout",
       "text": [
        "\n"
       ]
      },
      {
       "output_type": "stream",
       "stream": "stdout",
       "text": [
        "[ubuntu@ec2-54-243-24-167.compute-1.amazonaws.com] out: "
       ]
      },
      {
       "output_type": "stream",
       "stream": "stdout",
       "text": [
        "12% [13 apache2 0 B/1,492 B 0%]\n"
       ]
      },
      {
       "output_type": "stream",
       "stream": "stdout",
       "text": [
        "[ubuntu@ec2-54-243-24-167.compute-1.amazonaws.com] out: "
       ]
      },
      {
       "output_type": "stream",
       "stream": "stdout",
       "text": [
        "                               \n"
       ]
      },
      {
       "output_type": "stream",
       "stream": "stdout",
       "text": [
        "[ubuntu@ec2-54-243-24-167.compute-1.amazonaws.com] out: "
       ]
      },
      {
       "output_type": "stream",
       "stream": "stdout",
       "text": [
        "12% [Working]"
       ]
      },
      {
       "output_type": "stream",
       "stream": "stdout",
       "text": [
        "\n"
       ]
      },
      {
       "output_type": "stream",
       "stream": "stdout",
       "text": [
        "[ubuntu@ec2-54-243-24-167.compute-1.amazonaws.com] out: "
       ]
      },
      {
       "output_type": "stream",
       "stream": "stdout",
       "text": [
        "             \n"
       ]
      },
      {
       "output_type": "stream",
       "stream": "stdout",
       "text": [
        "[ubuntu@ec2-54-243-24-167.compute-1.amazonaws.com] out: "
       ]
      },
      {
       "output_type": "stream",
       "stream": "stdout",
       "text": [
        "Get: 14 http://us-east-1.ec2.archive.ubuntu.com/ubuntu/ precise/main liberror-perl all 0.17-1 [23.8 kB]\n"
       ]
      },
      {
       "output_type": "stream",
       "stream": "stdout",
       "text": [
        "[ubuntu@ec2-54-243-24-167.compute-1.amazonaws.com] out: "
       ]
      },
      {
       "output_type": "stream",
       "stream": "stdout",
       "text": [
        "\n"
       ]
      },
      {
       "output_type": "stream",
       "stream": "stdout",
       "text": [
        "[ubuntu@ec2-54-243-24-167.compute-1.amazonaws.com] out: "
       ]
      },
      {
       "output_type": "stream",
       "stream": "stdout",
       "text": [
        "\n"
       ]
      },
      {
       "output_type": "stream",
       "stream": "stdout",
       "text": [
        "[ubuntu@ec2-54-243-24-167.compute-1.amazonaws.com] out: "
       ]
      },
      {
       "output_type": "stream",
       "stream": "stdout",
       "text": [
        "12% [14 liberror-perl 0 B/23.8 kB 0%]\n"
       ]
      },
      {
       "output_type": "stream",
       "stream": "stdout",
       "text": [
        "[ubuntu@ec2-54-243-24-167.compute-1.amazonaws.com] out: "
       ]
      },
      {
       "output_type": "stream",
       "stream": "stdout",
       "text": [
        "                                     \n"
       ]
      },
      {
       "output_type": "stream",
       "stream": "stdout",
       "text": [
        "[ubuntu@ec2-54-243-24-167.compute-1.amazonaws.com] out: "
       ]
      },
      {
       "output_type": "stream",
       "stream": "stdout",
       "text": [
        "12% [Working]"
       ]
      },
      {
       "output_type": "stream",
       "stream": "stdout",
       "text": [
        "\n"
       ]
      },
      {
       "output_type": "stream",
       "stream": "stdout",
       "text": [
        "[ubuntu@ec2-54-243-24-167.compute-1.amazonaws.com] out: "
       ]
      },
      {
       "output_type": "stream",
       "stream": "stdout",
       "text": [
        "             \n"
       ]
      },
      {
       "output_type": "stream",
       "stream": "stdout",
       "text": [
        "[ubuntu@ec2-54-243-24-167.compute-1.amazonaws.com] out: "
       ]
      },
      {
       "output_type": "stream",
       "stream": "stdout",
       "text": [
        "Get: 15 http://us-east-1.ec2.archive.ubuntu.com/ubuntu/ precise/main git-man all 1:1.7.9.5-1 [630 kB]\n"
       ]
      },
      {
       "output_type": "stream",
       "stream": "stdout",
       "text": [
        "[ubuntu@ec2-54-243-24-167.compute-1.amazonaws.com] out: "
       ]
      },
      {
       "output_type": "stream",
       "stream": "stdout",
       "text": [
        "\n"
       ]
      },
      {
       "output_type": "stream",
       "stream": "stdout",
       "text": [
        "[ubuntu@ec2-54-243-24-167.compute-1.amazonaws.com] out: "
       ]
      },
      {
       "output_type": "stream",
       "stream": "stdout",
       "text": [
        "\n"
       ]
      },
      {
       "output_type": "stream",
       "stream": "stdout",
       "text": [
        "[ubuntu@ec2-54-243-24-167.compute-1.amazonaws.com] out: "
       ]
      },
      {
       "output_type": "stream",
       "stream": "stdout",
       "text": [
        "12% [15 git-man 0 B/630 kB 0%]"
       ]
      },
      {
       "output_type": "stream",
       "stream": "stdout",
       "text": [
        "\n"
       ]
      },
      {
       "output_type": "stream",
       "stream": "stdout",
       "text": [
        "[ubuntu@ec2-54-243-24-167.compute-1.amazonaws.com] out: "
       ]
      },
      {
       "output_type": "stream",
       "stream": "stdout",
       "text": [
        "                              \n"
       ]
      },
      {
       "output_type": "stream",
       "stream": "stdout",
       "text": [
        "[ubuntu@ec2-54-243-24-167.compute-1.amazonaws.com] out: "
       ]
      },
      {
       "output_type": "stream",
       "stream": "stdout",
       "text": [
        "15% [Working]\n"
       ]
      },
      {
       "output_type": "stream",
       "stream": "stdout",
       "text": [
        "[ubuntu@ec2-54-243-24-167.compute-1.amazonaws.com] out: "
       ]
      },
      {
       "output_type": "stream",
       "stream": "stdout",
       "text": [
        "             \n"
       ]
      },
      {
       "output_type": "stream",
       "stream": "stdout",
       "text": [
        "[ubuntu@ec2-54-243-24-167.compute-1.amazonaws.com] out: "
       ]
      },
      {
       "output_type": "stream",
       "stream": "stdout",
       "text": [
        "Get: 16 http://us-east-1.ec2.archive.ubuntu.com/ubuntu/ precise/main git amd64 1:1.7.9.5-1 [6,087 kB]\n"
       ]
      },
      {
       "output_type": "stream",
       "stream": "stdout",
       "text": [
        "[ubuntu@ec2-54-243-24-167.compute-1.amazonaws.com] out: "
       ]
      },
      {
       "output_type": "stream",
       "stream": "stdout",
       "text": [
        "\n"
       ]
      },
      {
       "output_type": "stream",
       "stream": "stdout",
       "text": [
        "[ubuntu@ec2-54-243-24-167.compute-1.amazonaws.com] out: "
       ]
      },
      {
       "output_type": "stream",
       "stream": "stdout",
       "text": [
        "\n"
       ]
      },
      {
       "output_type": "stream",
       "stream": "stdout",
       "text": [
        "[ubuntu@ec2-54-243-24-167.compute-1.amazonaws.com] out: "
       ]
      },
      {
       "output_type": "stream",
       "stream": "stdout",
       "text": [
        "15% [16 git 0 B/6,087 kB 0%]"
       ]
      },
      {
       "output_type": "stream",
       "stream": "stdout",
       "text": [
        "\n"
       ]
      },
      {
       "output_type": "stream",
       "stream": "stdout",
       "text": [
        "[ubuntu@ec2-54-243-24-167.compute-1.amazonaws.com] out: "
       ]
      },
      {
       "output_type": "stream",
       "stream": "stdout",
       "text": [
        "                            \n"
       ]
      },
      {
       "output_type": "stream",
       "stream": "stdout",
       "text": [
        "[ubuntu@ec2-54-243-24-167.compute-1.amazonaws.com] out: "
       ]
      },
      {
       "output_type": "stream",
       "stream": "stdout",
       "text": [
        "39% [Working]"
       ]
      },
      {
       "output_type": "stream",
       "stream": "stdout",
       "text": [
        "\n"
       ]
      },
      {
       "output_type": "stream",
       "stream": "stdout",
       "text": [
        "[ubuntu@ec2-54-243-24-167.compute-1.amazonaws.com] out: "
       ]
      },
      {
       "output_type": "stream",
       "stream": "stdout",
       "text": [
        "             \n"
       ]
      },
      {
       "output_type": "stream",
       "stream": "stdout",
       "text": [
        "[ubuntu@ec2-54-243-24-167.compute-1.amazonaws.com] out: "
       ]
      },
      {
       "output_type": "stream",
       "stream": "stdout",
       "text": [
        "Get: 17 http://us-east-1.ec2.archive.ubuntu.com/ubuntu/ precise/main git-core all 1:1.7.9.5-1 [1,384 B]\n"
       ]
      },
      {
       "output_type": "stream",
       "stream": "stdout",
       "text": [
        "[ubuntu@ec2-54-243-24-167.compute-1.amazonaws.com] out: "
       ]
      },
      {
       "output_type": "stream",
       "stream": "stdout",
       "text": [
        "\n"
       ]
      },
      {
       "output_type": "stream",
       "stream": "stdout",
       "text": [
        "[ubuntu@ec2-54-243-24-167.compute-1.amazonaws.com] out: "
       ]
      },
      {
       "output_type": "stream",
       "stream": "stdout",
       "text": [
        "\n"
       ]
      },
      {
       "output_type": "stream",
       "stream": "stdout",
       "text": [
        "[ubuntu@ec2-54-243-24-167.compute-1.amazonaws.com] out: "
       ]
      },
      {
       "output_type": "stream",
       "stream": "stdout",
       "text": [
        "39% [17 git-core 0 B/1,384 B 0%]"
       ]
      },
      {
       "output_type": "stream",
       "stream": "stdout",
       "text": [
        "\n"
       ]
      },
      {
       "output_type": "stream",
       "stream": "stdout",
       "text": [
        "[ubuntu@ec2-54-243-24-167.compute-1.amazonaws.com] out: "
       ]
      },
      {
       "output_type": "stream",
       "stream": "stdout",
       "text": [
        "                                \n"
       ]
      },
      {
       "output_type": "stream",
       "stream": "stdout",
       "text": [
        "[ubuntu@ec2-54-243-24-167.compute-1.amazonaws.com] out: "
       ]
      },
      {
       "output_type": "stream",
       "stream": "stdout",
       "text": [
        "39% [Working]"
       ]
      },
      {
       "output_type": "stream",
       "stream": "stdout",
       "text": [
        "\n"
       ]
      },
      {
       "output_type": "stream",
       "stream": "stdout",
       "text": [
        "[ubuntu@ec2-54-243-24-167.compute-1.amazonaws.com] out: "
       ]
      },
      {
       "output_type": "stream",
       "stream": "stdout",
       "text": [
        "             \n"
       ]
      },
      {
       "output_type": "stream",
       "stream": "stdout",
       "text": [
        "[ubuntu@ec2-54-243-24-167.compute-1.amazonaws.com] out: "
       ]
      },
      {
       "output_type": "stream",
       "stream": "stdout",
       "text": [
        "Get: 18 http://us-east-1.ec2.archive.ubuntu.com/ubuntu/ precise/main libapache2-mod-wsgi amd64 3.3-4build1 [72.7 kB]\n"
       ]
      },
      {
       "output_type": "stream",
       "stream": "stdout",
       "text": [
        "[ubuntu@ec2-54-243-24-167.compute-1.amazonaws.com] out: "
       ]
      },
      {
       "output_type": "stream",
       "stream": "stdout",
       "text": [
        "\n"
       ]
      },
      {
       "output_type": "stream",
       "stream": "stdout",
       "text": [
        "[ubuntu@ec2-54-243-24-167.compute-1.amazonaws.com] out: "
       ]
      },
      {
       "output_type": "stream",
       "stream": "stdout",
       "text": [
        "\n"
       ]
      },
      {
       "output_type": "stream",
       "stream": "stdout",
       "text": [
        "[ubuntu@ec2-54-243-24-167.compute-1.amazonaws.com] out: "
       ]
      },
      {
       "output_type": "stream",
       "stream": "stdout",
       "text": [
        "39% [18 libapache2-mod-wsgi 0 B/72.7 kB 0%]"
       ]
      },
      {
       "output_type": "stream",
       "stream": "stdout",
       "text": [
        "\n"
       ]
      },
      {
       "output_type": "stream",
       "stream": "stdout",
       "text": [
        "[ubuntu@ec2-54-243-24-167.compute-1.amazonaws.com] out: "
       ]
      },
      {
       "output_type": "stream",
       "stream": "stdout",
       "text": [
        "                                           \n"
       ]
      },
      {
       "output_type": "stream",
       "stream": "stdout",
       "text": [
        "[ubuntu@ec2-54-243-24-167.compute-1.amazonaws.com] out: "
       ]
      },
      {
       "output_type": "stream",
       "stream": "stdout",
       "text": [
        "40% [Working]"
       ]
      },
      {
       "output_type": "stream",
       "stream": "stdout",
       "text": [
        "\n"
       ]
      },
      {
       "output_type": "stream",
       "stream": "stdout",
       "text": [
        "[ubuntu@ec2-54-243-24-167.compute-1.amazonaws.com] out: "
       ]
      },
      {
       "output_type": "stream",
       "stream": "stdout",
       "text": [
        "             \n"
       ]
      },
      {
       "output_type": "stream",
       "stream": "stdout",
       "text": [
        "[ubuntu@ec2-54-243-24-167.compute-1.amazonaws.com] out: "
       ]
      },
      {
       "output_type": "stream",
       "stream": "stdout",
       "text": [
        "Get: 19 http://us-east-1.ec2.archive.ubuntu.com/ubuntu/ precise/main libnet-daemon-perl all 0.48-1 [43.1 kB]\n"
       ]
      },
      {
       "output_type": "stream",
       "stream": "stdout",
       "text": [
        "[ubuntu@ec2-54-243-24-167.compute-1.amazonaws.com] out: "
       ]
      },
      {
       "output_type": "stream",
       "stream": "stdout",
       "text": [
        "\n"
       ]
      },
      {
       "output_type": "stream",
       "stream": "stdout",
       "text": [
        "[ubuntu@ec2-54-243-24-167.compute-1.amazonaws.com] out: "
       ]
      },
      {
       "output_type": "stream",
       "stream": "stdout",
       "text": [
        "\n"
       ]
      },
      {
       "output_type": "stream",
       "stream": "stdout",
       "text": [
        "[ubuntu@ec2-54-243-24-167.compute-1.amazonaws.com] out: "
       ]
      },
      {
       "output_type": "stream",
       "stream": "stdout",
       "text": [
        "40% [19 libnet-daemon-perl 0 B/43.1 kB 0%]\n"
       ]
      },
      {
       "output_type": "stream",
       "stream": "stdout",
       "text": [
        "[ubuntu@ec2-54-243-24-167.compute-1.amazonaws.com] out: "
       ]
      },
      {
       "output_type": "stream",
       "stream": "stdout",
       "text": [
        "                                          \n"
       ]
      },
      {
       "output_type": "stream",
       "stream": "stdout",
       "text": [
        "[ubuntu@ec2-54-243-24-167.compute-1.amazonaws.com] out: "
       ]
      },
      {
       "output_type": "stream",
       "stream": "stdout",
       "text": [
        "40% [Working]"
       ]
      },
      {
       "output_type": "stream",
       "stream": "stdout",
       "text": [
        "\n"
       ]
      },
      {
       "output_type": "stream",
       "stream": "stdout",
       "text": [
        "[ubuntu@ec2-54-243-24-167.compute-1.amazonaws.com] out: "
       ]
      },
      {
       "output_type": "stream",
       "stream": "stdout",
       "text": [
        "             \n"
       ]
      },
      {
       "output_type": "stream",
       "stream": "stdout",
       "text": [
        "[ubuntu@ec2-54-243-24-167.compute-1.amazonaws.com] out: "
       ]
      },
      {
       "output_type": "stream",
       "stream": "stdout",
       "text": [
        "Get: 20 http://us-east-1.ec2.archive.ubuntu.com/ubuntu/ precise/main libplrpc-perl all 0.2020-2 [36.0 kB]\n"
       ]
      },
      {
       "output_type": "stream",
       "stream": "stdout",
       "text": [
        "[ubuntu@ec2-54-243-24-167.compute-1.amazonaws.com] out: "
       ]
      },
      {
       "output_type": "stream",
       "stream": "stdout",
       "text": [
        "\n"
       ]
      },
      {
       "output_type": "stream",
       "stream": "stdout",
       "text": [
        "[ubuntu@ec2-54-243-24-167.compute-1.amazonaws.com] out: "
       ]
      },
      {
       "output_type": "stream",
       "stream": "stdout",
       "text": [
        "\n"
       ]
      },
      {
       "output_type": "stream",
       "stream": "stdout",
       "text": [
        "[ubuntu@ec2-54-243-24-167.compute-1.amazonaws.com] out: "
       ]
      },
      {
       "output_type": "stream",
       "stream": "stdout",
       "text": [
        "40% [20 libplrpc-perl 0 B/36.0 kB 0%]\n"
       ]
      },
      {
       "output_type": "stream",
       "stream": "stdout",
       "text": [
        "[ubuntu@ec2-54-243-24-167.compute-1.amazonaws.com] out: "
       ]
      },
      {
       "output_type": "stream",
       "stream": "stdout",
       "text": [
        "                                     \n"
       ]
      },
      {
       "output_type": "stream",
       "stream": "stdout",
       "text": [
        "[ubuntu@ec2-54-243-24-167.compute-1.amazonaws.com] out: "
       ]
      },
      {
       "output_type": "stream",
       "stream": "stdout",
       "text": [
        "40% [Working]"
       ]
      },
      {
       "output_type": "stream",
       "stream": "stdout",
       "text": [
        "\n"
       ]
      },
      {
       "output_type": "stream",
       "stream": "stdout",
       "text": [
        "[ubuntu@ec2-54-243-24-167.compute-1.amazonaws.com] out: "
       ]
      },
      {
       "output_type": "stream",
       "stream": "stdout",
       "text": [
        "             \n"
       ]
      },
      {
       "output_type": "stream",
       "stream": "stdout",
       "text": [
        "[ubuntu@ec2-54-243-24-167.compute-1.amazonaws.com] out: "
       ]
      },
      {
       "output_type": "stream",
       "stream": "stdout",
       "text": [
        "40% [Waiting for headers]"
       ]
      },
      {
       "output_type": "stream",
       "stream": "stdout",
       "text": [
        "\n"
       ]
      },
      {
       "output_type": "stream",
       "stream": "stdout",
       "text": [
        "[ubuntu@ec2-54-243-24-167.compute-1.amazonaws.com] out: "
       ]
      },
      {
       "output_type": "stream",
       "stream": "stdout",
       "text": [
        "                         \n"
       ]
      },
      {
       "output_type": "stream",
       "stream": "stdout",
       "text": [
        "[ubuntu@ec2-54-243-24-167.compute-1.amazonaws.com] out: "
       ]
      },
      {
       "output_type": "stream",
       "stream": "stdout",
       "text": [
        "Get: 21 http://us-east-1.ec2.archive.ubuntu.com/ubuntu/ precise/main libdbi-perl amd64 1.616-1build2 [849 kB]\n"
       ]
      },
      {
       "output_type": "stream",
       "stream": "stdout",
       "text": [
        "[ubuntu@ec2-54-243-24-167.compute-1.amazonaws.com] out: "
       ]
      },
      {
       "output_type": "stream",
       "stream": "stdout",
       "text": [
        "\n"
       ]
      },
      {
       "output_type": "stream",
       "stream": "stdout",
       "text": [
        "[ubuntu@ec2-54-243-24-167.compute-1.amazonaws.com] out: "
       ]
      },
      {
       "output_type": "stream",
       "stream": "stdout",
       "text": [
        "\n"
       ]
      },
      {
       "output_type": "stream",
       "stream": "stdout",
       "text": [
        "[ubuntu@ec2-54-243-24-167.compute-1.amazonaws.com] out: "
       ]
      },
      {
       "output_type": "stream",
       "stream": "stdout",
       "text": [
        "40% [21 libdbi-perl 0 B/849 kB 0%]"
       ]
      },
      {
       "output_type": "stream",
       "stream": "stdout",
       "text": [
        "\n"
       ]
      },
      {
       "output_type": "stream",
       "stream": "stdout",
       "text": [
        "[ubuntu@ec2-54-243-24-167.compute-1.amazonaws.com] out: "
       ]
      },
      {
       "output_type": "stream",
       "stream": "stdout",
       "text": [
        "                                  \n"
       ]
      },
      {
       "output_type": "stream",
       "stream": "stdout",
       "text": [
        "[ubuntu@ec2-54-243-24-167.compute-1.amazonaws.com] out: "
       ]
      },
      {
       "output_type": "stream",
       "stream": "stdout",
       "text": [
        "43% [Working]\n"
       ]
      },
      {
       "output_type": "stream",
       "stream": "stdout",
       "text": [
        "[ubuntu@ec2-54-243-24-167.compute-1.amazonaws.com] out: "
       ]
      },
      {
       "output_type": "stream",
       "stream": "stdout",
       "text": [
        "             \n"
       ]
      },
      {
       "output_type": "stream",
       "stream": "stdout",
       "text": [
        "[ubuntu@ec2-54-243-24-167.compute-1.amazonaws.com] out: "
       ]
      },
      {
       "output_type": "stream",
       "stream": "stdout",
       "text": [
        "Get: 22 http://us-east-1.ec2.archive.ubuntu.com/ubuntu/ precise/main libdbd-mysql-perl amd64 4.020-1build2 [106 kB]\n"
       ]
      },
      {
       "output_type": "stream",
       "stream": "stdout",
       "text": [
        "[ubuntu@ec2-54-243-24-167.compute-1.amazonaws.com] out: "
       ]
      },
      {
       "output_type": "stream",
       "stream": "stdout",
       "text": [
        "\n"
       ]
      },
      {
       "output_type": "stream",
       "stream": "stdout",
       "text": [
        "[ubuntu@ec2-54-243-24-167.compute-1.amazonaws.com] out: "
       ]
      },
      {
       "output_type": "stream",
       "stream": "stdout",
       "text": [
        "\n"
       ]
      },
      {
       "output_type": "stream",
       "stream": "stdout",
       "text": [
        "[ubuntu@ec2-54-243-24-167.compute-1.amazonaws.com] out: "
       ]
      },
      {
       "output_type": "stream",
       "stream": "stdout",
       "text": [
        "43% [22 libdbd-mysql-perl 0 B/106 kB 0%]\n"
       ]
      },
      {
       "output_type": "stream",
       "stream": "stdout",
       "text": [
        "[ubuntu@ec2-54-243-24-167.compute-1.amazonaws.com] out: "
       ]
      },
      {
       "output_type": "stream",
       "stream": "stdout",
       "text": [
        "                                        \n"
       ]
      },
      {
       "output_type": "stream",
       "stream": "stdout",
       "text": [
        "[ubuntu@ec2-54-243-24-167.compute-1.amazonaws.com] out: "
       ]
      },
      {
       "output_type": "stream",
       "stream": "stdout",
       "text": [
        "44% [Working]"
       ]
      },
      {
       "output_type": "stream",
       "stream": "stdout",
       "text": [
        "\n"
       ]
      },
      {
       "output_type": "stream",
       "stream": "stdout",
       "text": [
        "[ubuntu@ec2-54-243-24-167.compute-1.amazonaws.com] out: "
       ]
      },
      {
       "output_type": "stream",
       "stream": "stdout",
       "text": [
        "             \n"
       ]
      },
      {
       "output_type": "stream",
       "stream": "stdout",
       "text": [
        "[ubuntu@ec2-54-243-24-167.compute-1.amazonaws.com] out: "
       ]
      },
      {
       "output_type": "stream",
       "stream": "stdout",
       "text": [
        "Get: 23 http://us-east-1.ec2.archive.ubuntu.com/ubuntu/ precise-updates/main mysql-client-core-5.5 amd64 5.5.31-0ubuntu0.12.04.1 [1,936 kB]\n"
       ]
      },
      {
       "output_type": "stream",
       "stream": "stdout",
       "text": [
        "[ubuntu@ec2-54-243-24-167.compute-1.amazonaws.com] out: "
       ]
      },
      {
       "output_type": "stream",
       "stream": "stdout",
       "text": [
        "\n"
       ]
      },
      {
       "output_type": "stream",
       "stream": "stdout",
       "text": [
        "[ubuntu@ec2-54-243-24-167.compute-1.amazonaws.com] out: "
       ]
      },
      {
       "output_type": "stream",
       "stream": "stdout",
       "text": [
        "\n"
       ]
      },
      {
       "output_type": "stream",
       "stream": "stdout",
       "text": [
        "[ubuntu@ec2-54-243-24-167.compute-1.amazonaws.com] out: "
       ]
      },
      {
       "output_type": "stream",
       "stream": "stdout",
       "text": [
        "44% [23 mysql-client-core-5.5 0 B/1,936 kB 0%]"
       ]
      },
      {
       "output_type": "stream",
       "stream": "stdout",
       "text": [
        "\n"
       ]
      },
      {
       "output_type": "stream",
       "stream": "stdout",
       "text": [
        "[ubuntu@ec2-54-243-24-167.compute-1.amazonaws.com] out: "
       ]
      },
      {
       "output_type": "stream",
       "stream": "stdout",
       "text": [
        "                                              \n"
       ]
      },
      {
       "output_type": "stream",
       "stream": "stdout",
       "text": [
        "[ubuntu@ec2-54-243-24-167.compute-1.amazonaws.com] out: "
       ]
      },
      {
       "output_type": "stream",
       "stream": "stdout",
       "text": [
        "52% [Working]"
       ]
      },
      {
       "output_type": "stream",
       "stream": "stdout",
       "text": [
        "\n"
       ]
      },
      {
       "output_type": "stream",
       "stream": "stdout",
       "text": [
        "[ubuntu@ec2-54-243-24-167.compute-1.amazonaws.com] out: "
       ]
      },
      {
       "output_type": "stream",
       "stream": "stdout",
       "text": [
        "             \n"
       ]
      },
      {
       "output_type": "stream",
       "stream": "stdout",
       "text": [
        "[ubuntu@ec2-54-243-24-167.compute-1.amazonaws.com] out: "
       ]
      },
      {
       "output_type": "stream",
       "stream": "stdout",
       "text": [
        "Get: 24 http://us-east-1.ec2.archive.ubuntu.com/ubuntu/ precise-updates/main mysql-client-5.5 amd64 5.5.31-0ubuntu0.12.04.1 [8,350 kB]\n"
       ]
      },
      {
       "output_type": "stream",
       "stream": "stdout",
       "text": [
        "[ubuntu@ec2-54-243-24-167.compute-1.amazonaws.com] out: "
       ]
      },
      {
       "output_type": "stream",
       "stream": "stdout",
       "text": [
        "\n"
       ]
      },
      {
       "output_type": "stream",
       "stream": "stdout",
       "text": [
        "[ubuntu@ec2-54-243-24-167.compute-1.amazonaws.com] out: "
       ]
      },
      {
       "output_type": "stream",
       "stream": "stdout",
       "text": [
        "\n"
       ]
      },
      {
       "output_type": "stream",
       "stream": "stdout",
       "text": [
        "[ubuntu@ec2-54-243-24-167.compute-1.amazonaws.com] out: "
       ]
      },
      {
       "output_type": "stream",
       "stream": "stdout",
       "text": [
        "52% [24 mysql-client-5.5 0 B/8,350 kB 0%]"
       ]
      },
      {
       "output_type": "stream",
       "stream": "stdout",
       "text": [
        "\n"
       ]
      },
      {
       "output_type": "stream",
       "stream": "stdout",
       "text": [
        "[ubuntu@ec2-54-243-24-167.compute-1.amazonaws.com] out: "
       ]
      },
      {
       "output_type": "stream",
       "stream": "stdout",
       "text": [
        "                                         \n"
       ]
      },
      {
       "output_type": "stream",
       "stream": "stdout",
       "text": [
        "[ubuntu@ec2-54-243-24-167.compute-1.amazonaws.com] out: "
       ]
      },
      {
       "output_type": "stream",
       "stream": "stdout",
       "text": [
        "85% [Working]"
       ]
      },
      {
       "output_type": "stream",
       "stream": "stdout",
       "text": [
        "\n"
       ]
      },
      {
       "output_type": "stream",
       "stream": "stdout",
       "text": [
        "[ubuntu@ec2-54-243-24-167.compute-1.amazonaws.com] out: "
       ]
      },
      {
       "output_type": "stream",
       "stream": "stdout",
       "text": [
        "             \n"
       ]
      },
      {
       "output_type": "stream",
       "stream": "stdout",
       "text": [
        "[ubuntu@ec2-54-243-24-167.compute-1.amazonaws.com] out: "
       ]
      },
      {
       "output_type": "stream",
       "stream": "stdout",
       "text": [
        "Get: 25 http://us-east-1.ec2.archive.ubuntu.com/ubuntu/ precise-updates/main mysql-client all 5.5.31-0ubuntu0.12.04.1 [11.5 kB]\n"
       ]
      },
      {
       "output_type": "stream",
       "stream": "stdout",
       "text": [
        "[ubuntu@ec2-54-243-24-167.compute-1.amazonaws.com] out: "
       ]
      },
      {
       "output_type": "stream",
       "stream": "stdout",
       "text": [
        "\n"
       ]
      },
      {
       "output_type": "stream",
       "stream": "stdout",
       "text": [
        "[ubuntu@ec2-54-243-24-167.compute-1.amazonaws.com] out: "
       ]
      },
      {
       "output_type": "stream",
       "stream": "stdout",
       "text": [
        "\n"
       ]
      },
      {
       "output_type": "stream",
       "stream": "stdout",
       "text": [
        "[ubuntu@ec2-54-243-24-167.compute-1.amazonaws.com] out: "
       ]
      },
      {
       "output_type": "stream",
       "stream": "stdout",
       "text": [
        "85% [25 mysql-client 0 B/11.5 kB 0%]"
       ]
      },
      {
       "output_type": "stream",
       "stream": "stdout",
       "text": [
        "\n"
       ]
      },
      {
       "output_type": "stream",
       "stream": "stdout",
       "text": [
        "[ubuntu@ec2-54-243-24-167.compute-1.amazonaws.com] out: "
       ]
      },
      {
       "output_type": "stream",
       "stream": "stdout",
       "text": [
        "                                    \n"
       ]
      },
      {
       "output_type": "stream",
       "stream": "stdout",
       "text": [
        "[ubuntu@ec2-54-243-24-167.compute-1.amazonaws.com] out: "
       ]
      },
      {
       "output_type": "stream",
       "stream": "stdout",
       "text": [
        "85% [Working]"
       ]
      },
      {
       "output_type": "stream",
       "stream": "stdout",
       "text": [
        "\n"
       ]
      },
      {
       "output_type": "stream",
       "stream": "stdout",
       "text": [
        "[ubuntu@ec2-54-243-24-167.compute-1.amazonaws.com] out: "
       ]
      },
      {
       "output_type": "stream",
       "stream": "stdout",
       "text": [
        "             \n"
       ]
      },
      {
       "output_type": "stream",
       "stream": "stdout",
       "text": [
        "[ubuntu@ec2-54-243-24-167.compute-1.amazonaws.com] out: "
       ]
      },
      {
       "output_type": "stream",
       "stream": "stdout",
       "text": [
        "Get: 26 http://us-east-1.ec2.archive.ubuntu.com/ubuntu/ precise/main python-lxml amd64 2.3.2-1 [662 kB]\n"
       ]
      },
      {
       "output_type": "stream",
       "stream": "stdout",
       "text": [
        "[ubuntu@ec2-54-243-24-167.compute-1.amazonaws.com] out: "
       ]
      },
      {
       "output_type": "stream",
       "stream": "stdout",
       "text": [
        "\n"
       ]
      },
      {
       "output_type": "stream",
       "stream": "stdout",
       "text": [
        "[ubuntu@ec2-54-243-24-167.compute-1.amazonaws.com] out: "
       ]
      },
      {
       "output_type": "stream",
       "stream": "stdout",
       "text": [
        "\n"
       ]
      },
      {
       "output_type": "stream",
       "stream": "stdout",
       "text": [
        "[ubuntu@ec2-54-243-24-167.compute-1.amazonaws.com] out: "
       ]
      },
      {
       "output_type": "stream",
       "stream": "stdout",
       "text": [
        "85% [26 python-lxml 0 B/662 kB 0%]"
       ]
      },
      {
       "output_type": "stream",
       "stream": "stdout",
       "text": [
        "\n"
       ]
      },
      {
       "output_type": "stream",
       "stream": "stdout",
       "text": [
        "[ubuntu@ec2-54-243-24-167.compute-1.amazonaws.com] out: "
       ]
      },
      {
       "output_type": "stream",
       "stream": "stdout",
       "text": [
        "                                  \n"
       ]
      },
      {
       "output_type": "stream",
       "stream": "stdout",
       "text": [
        "[ubuntu@ec2-54-243-24-167.compute-1.amazonaws.com] out: "
       ]
      },
      {
       "output_type": "stream",
       "stream": "stdout",
       "text": [
        "88% [Working]"
       ]
      },
      {
       "output_type": "stream",
       "stream": "stdout",
       "text": [
        "\n"
       ]
      },
      {
       "output_type": "stream",
       "stream": "stdout",
       "text": [
        "[ubuntu@ec2-54-243-24-167.compute-1.amazonaws.com] out: "
       ]
      },
      {
       "output_type": "stream",
       "stream": "stdout",
       "text": [
        "             \n"
       ]
      },
      {
       "output_type": "stream",
       "stream": "stdout",
       "text": [
        "[ubuntu@ec2-54-243-24-167.compute-1.amazonaws.com] out: "
       ]
      },
      {
       "output_type": "stream",
       "stream": "stdout",
       "text": [
        "Get: 27 http://us-east-1.ec2.archive.ubuntu.com/ubuntu/ precise-updates/main python-mysqldb amd64 1.2.3-1ubuntu0.1 [64.0 kB]\n"
       ]
      },
      {
       "output_type": "stream",
       "stream": "stdout",
       "text": [
        "[ubuntu@ec2-54-243-24-167.compute-1.amazonaws.com] out: "
       ]
      },
      {
       "output_type": "stream",
       "stream": "stdout",
       "text": [
        "\n"
       ]
      },
      {
       "output_type": "stream",
       "stream": "stdout",
       "text": [
        "[ubuntu@ec2-54-243-24-167.compute-1.amazonaws.com] out: "
       ]
      },
      {
       "output_type": "stream",
       "stream": "stdout",
       "text": [
        "\n"
       ]
      },
      {
       "output_type": "stream",
       "stream": "stdout",
       "text": [
        "[ubuntu@ec2-54-243-24-167.compute-1.amazonaws.com] out: "
       ]
      },
      {
       "output_type": "stream",
       "stream": "stdout",
       "text": [
        "88% [27 python-mysqldb 0 B/64.0 kB 0%]\n"
       ]
      },
      {
       "output_type": "stream",
       "stream": "stdout",
       "text": [
        "[ubuntu@ec2-54-243-24-167.compute-1.amazonaws.com] out: "
       ]
      },
      {
       "output_type": "stream",
       "stream": "stdout",
       "text": [
        "                                      \n"
       ]
      },
      {
       "output_type": "stream",
       "stream": "stdout",
       "text": [
        "[ubuntu@ec2-54-243-24-167.compute-1.amazonaws.com] out: "
       ]
      },
      {
       "output_type": "stream",
       "stream": "stdout",
       "text": [
        "88% [Working]"
       ]
      },
      {
       "output_type": "stream",
       "stream": "stdout",
       "text": [
        "\n"
       ]
      },
      {
       "output_type": "stream",
       "stream": "stdout",
       "text": [
        "[ubuntu@ec2-54-243-24-167.compute-1.amazonaws.com] out: "
       ]
      },
      {
       "output_type": "stream",
       "stream": "stdout",
       "text": [
        "             \n"
       ]
      },
      {
       "output_type": "stream",
       "stream": "stdout",
       "text": [
        "[ubuntu@ec2-54-243-24-167.compute-1.amazonaws.com] out: "
       ]
      },
      {
       "output_type": "stream",
       "stream": "stdout",
       "text": [
        "Get: 28 http://us-east-1.ec2.archive.ubuntu.com/ubuntu/ precise/main python-setuptools all 0.6.24-1ubuntu1 [441 kB]\n"
       ]
      },
      {
       "output_type": "stream",
       "stream": "stdout",
       "text": [
        "[ubuntu@ec2-54-243-24-167.compute-1.amazonaws.com] out: "
       ]
      },
      {
       "output_type": "stream",
       "stream": "stdout",
       "text": [
        "\n"
       ]
      },
      {
       "output_type": "stream",
       "stream": "stdout",
       "text": [
        "[ubuntu@ec2-54-243-24-167.compute-1.amazonaws.com] out: "
       ]
      },
      {
       "output_type": "stream",
       "stream": "stdout",
       "text": [
        "\n"
       ]
      },
      {
       "output_type": "stream",
       "stream": "stdout",
       "text": [
        "[ubuntu@ec2-54-243-24-167.compute-1.amazonaws.com] out: "
       ]
      },
      {
       "output_type": "stream",
       "stream": "stdout",
       "text": [
        "88% [28 python-setuptools 0 B/441 kB 0%]"
       ]
      },
      {
       "output_type": "stream",
       "stream": "stdout",
       "text": [
        "\n"
       ]
      },
      {
       "output_type": "stream",
       "stream": "stdout",
       "text": [
        "[ubuntu@ec2-54-243-24-167.compute-1.amazonaws.com] out: "
       ]
      },
      {
       "output_type": "stream",
       "stream": "stdout",
       "text": [
        "                                        \n"
       ]
      },
      {
       "output_type": "stream",
       "stream": "stdout",
       "text": [
        "[ubuntu@ec2-54-243-24-167.compute-1.amazonaws.com] out: "
       ]
      },
      {
       "output_type": "stream",
       "stream": "stdout",
       "text": [
        "90% [Working]"
       ]
      },
      {
       "output_type": "stream",
       "stream": "stdout",
       "text": [
        "\n"
       ]
      },
      {
       "output_type": "stream",
       "stream": "stdout",
       "text": [
        "[ubuntu@ec2-54-243-24-167.compute-1.amazonaws.com] out: "
       ]
      },
      {
       "output_type": "stream",
       "stream": "stdout",
       "text": [
        "             \n"
       ]
      },
      {
       "output_type": "stream",
       "stream": "stdout",
       "text": [
        "[ubuntu@ec2-54-243-24-167.compute-1.amazonaws.com] out: "
       ]
      },
      {
       "output_type": "stream",
       "stream": "stdout",
       "text": [
        "Get: 29 http://us-east-1.ec2.archive.ubuntu.com/ubuntu/ precise/universe python-pip all 1.0-1build1 [95.1 kB]\n"
       ]
      },
      {
       "output_type": "stream",
       "stream": "stdout",
       "text": [
        "[ubuntu@ec2-54-243-24-167.compute-1.amazonaws.com] out: "
       ]
      },
      {
       "output_type": "stream",
       "stream": "stdout",
       "text": [
        "\n"
       ]
      },
      {
       "output_type": "stream",
       "stream": "stdout",
       "text": [
        "[ubuntu@ec2-54-243-24-167.compute-1.amazonaws.com] out: "
       ]
      },
      {
       "output_type": "stream",
       "stream": "stdout",
       "text": [
        "\n"
       ]
      },
      {
       "output_type": "stream",
       "stream": "stdout",
       "text": [
        "[ubuntu@ec2-54-243-24-167.compute-1.amazonaws.com] out: "
       ]
      },
      {
       "output_type": "stream",
       "stream": "stdout",
       "text": [
        "90% [29 python-pip 0 B/95.1 kB 0%]\n"
       ]
      },
      {
       "output_type": "stream",
       "stream": "stdout",
       "text": [
        "[ubuntu@ec2-54-243-24-167.compute-1.amazonaws.com] out: "
       ]
      },
      {
       "output_type": "stream",
       "stream": "stdout",
       "text": [
        "                                  \n"
       ]
      },
      {
       "output_type": "stream",
       "stream": "stdout",
       "text": [
        "[ubuntu@ec2-54-243-24-167.compute-1.amazonaws.com] out: "
       ]
      },
      {
       "output_type": "stream",
       "stream": "stdout",
       "text": [
        "91% [Working]"
       ]
      },
      {
       "output_type": "stream",
       "stream": "stdout",
       "text": [
        "\n"
       ]
      },
      {
       "output_type": "stream",
       "stream": "stdout",
       "text": [
        "[ubuntu@ec2-54-243-24-167.compute-1.amazonaws.com] out: "
       ]
      },
      {
       "output_type": "stream",
       "stream": "stdout",
       "text": [
        "             \n"
       ]
      },
      {
       "output_type": "stream",
       "stream": "stdout",
       "text": [
        "[ubuntu@ec2-54-243-24-167.compute-1.amazonaws.com] out: "
       ]
      },
      {
       "output_type": "stream",
       "stream": "stdout",
       "text": [
        "Get: 30 http://us-east-1.ec2.archive.ubuntu.com/ubuntu/ precise/universe python-virtualenv all 1.7.1.2-1 [2,112 kB]\n"
       ]
      },
      {
       "output_type": "stream",
       "stream": "stdout",
       "text": [
        "[ubuntu@ec2-54-243-24-167.compute-1.amazonaws.com] out: "
       ]
      },
      {
       "output_type": "stream",
       "stream": "stdout",
       "text": [
        "\n"
       ]
      },
      {
       "output_type": "stream",
       "stream": "stdout",
       "text": [
        "[ubuntu@ec2-54-243-24-167.compute-1.amazonaws.com] out: "
       ]
      },
      {
       "output_type": "stream",
       "stream": "stdout",
       "text": [
        "\n"
       ]
      },
      {
       "output_type": "stream",
       "stream": "stdout",
       "text": [
        "[ubuntu@ec2-54-243-24-167.compute-1.amazonaws.com] out: "
       ]
      },
      {
       "output_type": "stream",
       "stream": "stdout",
       "text": [
        "91% [30 python-virtualenv 0 B/2,112 kB 0%]"
       ]
      },
      {
       "output_type": "stream",
       "stream": "stdout",
       "text": [
        "\n"
       ]
      },
      {
       "output_type": "stream",
       "stream": "stdout",
       "text": [
        "[ubuntu@ec2-54-243-24-167.compute-1.amazonaws.com] out: "
       ]
      },
      {
       "output_type": "stream",
       "stream": "stdout",
       "text": [
        "                                          \n"
       ]
      },
      {
       "output_type": "stream",
       "stream": "stdout",
       "text": [
        "[ubuntu@ec2-54-243-24-167.compute-1.amazonaws.com] out: "
       ]
      },
      {
       "output_type": "stream",
       "stream": "stdout",
       "text": [
        "99% [Working]"
       ]
      },
      {
       "output_type": "stream",
       "stream": "stdout",
       "text": [
        "\n"
       ]
      },
      {
       "output_type": "stream",
       "stream": "stdout",
       "text": [
        "[ubuntu@ec2-54-243-24-167.compute-1.amazonaws.com] out: "
       ]
      },
      {
       "output_type": "stream",
       "stream": "stdout",
       "text": [
        "             \n"
       ]
      },
      {
       "output_type": "stream",
       "stream": "stdout",
       "text": [
        "[ubuntu@ec2-54-243-24-167.compute-1.amazonaws.com] out: "
       ]
      },
      {
       "output_type": "stream",
       "stream": "stdout",
       "text": [
        "Get: 31 http://us-east-1.ec2.archive.ubuntu.com/ubuntu/ precise/universe redis-server amd64 2:2.2.12-1build1 [204 kB]\n"
       ]
      },
      {
       "output_type": "stream",
       "stream": "stdout",
       "text": [
        "[ubuntu@ec2-54-243-24-167.compute-1.amazonaws.com] out: "
       ]
      },
      {
       "output_type": "stream",
       "stream": "stdout",
       "text": [
        "\n"
       ]
      },
      {
       "output_type": "stream",
       "stream": "stdout",
       "text": [
        "[ubuntu@ec2-54-243-24-167.compute-1.amazonaws.com] out: "
       ]
      },
      {
       "output_type": "stream",
       "stream": "stdout",
       "text": [
        "\n"
       ]
      },
      {
       "output_type": "stream",
       "stream": "stdout",
       "text": [
        "[ubuntu@ec2-54-243-24-167.compute-1.amazonaws.com] out: "
       ]
      },
      {
       "output_type": "stream",
       "stream": "stdout",
       "text": [
        "99% [31 redis-server 0 B/204 kB 0%]\n"
       ]
      },
      {
       "output_type": "stream",
       "stream": "stdout",
       "text": [
        "[ubuntu@ec2-54-243-24-167.compute-1.amazonaws.com] out: "
       ]
      },
      {
       "output_type": "stream",
       "stream": "stdout",
       "text": [
        "                                   \n"
       ]
      },
      {
       "output_type": "stream",
       "stream": "stdout",
       "text": [
        "[ubuntu@ec2-54-243-24-167.compute-1.amazonaws.com] out: "
       ]
      },
      {
       "output_type": "stream",
       "stream": "stdout",
       "text": [
        "100% [Working]"
       ]
      },
      {
       "output_type": "stream",
       "stream": "stdout",
       "text": [
        "\n"
       ]
      },
      {
       "output_type": "stream",
       "stream": "stdout",
       "text": [
        "[ubuntu@ec2-54-243-24-167.compute-1.amazonaws.com] out: "
       ]
      },
      {
       "output_type": "stream",
       "stream": "stdout",
       "text": [
        "              \n"
       ]
      },
      {
       "output_type": "stream",
       "stream": "stdout",
       "text": [
        "[ubuntu@ec2-54-243-24-167.compute-1.amazonaws.com] out: "
       ]
      },
      {
       "output_type": "stream",
       "stream": "stdout",
       "text": [
        "Get: 32 http://us-east-1.ec2.archive.ubuntu.com/ubuntu/ precise-updates/main ssl-cert all 1.0.28ubuntu0.1 [12.3 kB]\n"
       ]
      },
      {
       "output_type": "stream",
       "stream": "stdout",
       "text": [
        "[ubuntu@ec2-54-243-24-167.compute-1.amazonaws.com] out: "
       ]
      },
      {
       "output_type": "stream",
       "stream": "stdout",
       "text": [
        "\n"
       ]
      },
      {
       "output_type": "stream",
       "stream": "stdout",
       "text": [
        "[ubuntu@ec2-54-243-24-167.compute-1.amazonaws.com] out: "
       ]
      },
      {
       "output_type": "stream",
       "stream": "stdout",
       "text": [
        "\n"
       ]
      },
      {
       "output_type": "stream",
       "stream": "stdout",
       "text": [
        "[ubuntu@ec2-54-243-24-167.compute-1.amazonaws.com] out: "
       ]
      },
      {
       "output_type": "stream",
       "stream": "stdout",
       "text": [
        "100% [32 ssl-cert 0 B/12.3 kB 0%]\n"
       ]
      },
      {
       "output_type": "stream",
       "stream": "stdout",
       "text": [
        "[ubuntu@ec2-54-243-24-167.compute-1.amazonaws.com] out: "
       ]
      },
      {
       "output_type": "stream",
       "stream": "stdout",
       "text": [
        "                                 \n"
       ]
      },
      {
       "output_type": "stream",
       "stream": "stdout",
       "text": [
        "[ubuntu@ec2-54-243-24-167.compute-1.amazonaws.com] out: "
       ]
      },
      {
       "output_type": "stream",
       "stream": "stdout",
       "text": [
        "100% [Working]\n"
       ]
      },
      {
       "output_type": "stream",
       "stream": "stdout",
       "text": [
        "[ubuntu@ec2-54-243-24-167.compute-1.amazonaws.com] out: "
       ]
      },
      {
       "output_type": "stream",
       "stream": "stdout",
       "text": [
        "              \n"
       ]
      },
      {
       "output_type": "stream",
       "stream": "stdout",
       "text": [
        "[ubuntu@ec2-54-243-24-167.compute-1.amazonaws.com] out: "
       ]
      },
      {
       "output_type": "stream",
       "stream": "stdout",
       "text": [
        "Fetched 24.7 MB in 4s (5,959 kB/s)\n"
       ]
      },
      {
       "output_type": "stream",
       "stream": "stdout",
       "text": [
        "[ubuntu@ec2-54-243-24-167.compute-1.amazonaws.com] out: "
       ]
      },
      {
       "output_type": "stream",
       "stream": "stdout",
       "text": [
        "\n"
       ]
      },
      {
       "output_type": "stream",
       "stream": "stdout",
       "text": [
        "[ubuntu@ec2-54-243-24-167.compute-1.amazonaws.com] out: "
       ]
      },
      {
       "output_type": "stream",
       "stream": "stdout",
       "text": [
        "Extracting templates from packages: 93%"
       ]
      },
      {
       "output_type": "stream",
       "stream": "stdout",
       "text": [
        "\n"
       ]
      },
      {
       "output_type": "stream",
       "stream": "stdout",
       "text": [
        "[ubuntu@ec2-54-243-24-167.compute-1.amazonaws.com] out: "
       ]
      },
      {
       "output_type": "stream",
       "stream": "stdout",
       "text": [
        "Extracting templates from packages: 100%\n"
       ]
      },
      {
       "output_type": "stream",
       "stream": "stdout",
       "text": [
        "[ubuntu@ec2-54-243-24-167.compute-1.amazonaws.com] out: "
       ]
      },
      {
       "output_type": "stream",
       "stream": "stdout",
       "text": [
        "Preconfiguring packages ...\n"
       ]
      },
      {
       "output_type": "stream",
       "stream": "stdout",
       "text": [
        "[ubuntu@ec2-54-243-24-167.compute-1.amazonaws.com] out: "
       ]
      },
      {
       "output_type": "stream",
       "stream": "stdout",
       "text": [
        "Selecting previously unselected package libcap2.\n"
       ]
      },
      {
       "output_type": "stream",
       "stream": "stdout",
       "text": [
        "[ubuntu@ec2-54-243-24-167.compute-1.amazonaws.com] out: "
       ]
      },
      {
       "output_type": "stream",
       "stream": "stdout",
       "text": [
        "(Reading database ... \n"
       ]
      },
      {
       "output_type": "stream",
       "stream": "stdout",
       "text": [
        "[ubuntu@ec2-54-243-24-167.compute-1.amazonaws.com] out: "
       ]
      },
      {
       "output_type": "stream",
       "stream": "stdout",
       "text": [
        "(Reading database ... 5%"
       ]
      },
      {
       "output_type": "stream",
       "stream": "stdout",
       "text": [
        "\n"
       ]
      },
      {
       "output_type": "stream",
       "stream": "stdout",
       "text": [
        "[ubuntu@ec2-54-243-24-167.compute-1.amazonaws.com] out: "
       ]
      },
      {
       "output_type": "stream",
       "stream": "stdout",
       "text": [
        "(Reading database ... 10%\n"
       ]
      },
      {
       "output_type": "stream",
       "stream": "stdout",
       "text": [
        "[ubuntu@ec2-54-243-24-167.compute-1.amazonaws.com] out: "
       ]
      },
      {
       "output_type": "stream",
       "stream": "stdout",
       "text": [
        "(Reading database ... 15%\n"
       ]
      },
      {
       "output_type": "stream",
       "stream": "stdout",
       "text": [
        "[ubuntu@ec2-54-243-24-167.compute-1.amazonaws.com] out: "
       ]
      },
      {
       "output_type": "stream",
       "stream": "stdout",
       "text": [
        "(Reading database ... 20%\n"
       ]
      },
      {
       "output_type": "stream",
       "stream": "stdout",
       "text": [
        "[ubuntu@ec2-54-243-24-167.compute-1.amazonaws.com] out: "
       ]
      },
      {
       "output_type": "stream",
       "stream": "stdout",
       "text": [
        "(Reading database ... 25%\n"
       ]
      },
      {
       "output_type": "stream",
       "stream": "stdout",
       "text": [
        "[ubuntu@ec2-54-243-24-167.compute-1.amazonaws.com] out: "
       ]
      },
      {
       "output_type": "stream",
       "stream": "stdout",
       "text": [
        "(Reading database ... 30%\n"
       ]
      },
      {
       "output_type": "stream",
       "stream": "stdout",
       "text": [
        "[ubuntu@ec2-54-243-24-167.compute-1.amazonaws.com] out: "
       ]
      },
      {
       "output_type": "stream",
       "stream": "stdout",
       "text": [
        "(Reading database ... 35%\n"
       ]
      },
      {
       "output_type": "stream",
       "stream": "stdout",
       "text": [
        "[ubuntu@ec2-54-243-24-167.compute-1.amazonaws.com] out: "
       ]
      },
      {
       "output_type": "stream",
       "stream": "stdout",
       "text": [
        "(Reading database ... 40%"
       ]
      },
      {
       "output_type": "stream",
       "stream": "stdout",
       "text": [
        "\n"
       ]
      },
      {
       "output_type": "stream",
       "stream": "stdout",
       "text": [
        "[ubuntu@ec2-54-243-24-167.compute-1.amazonaws.com] out: "
       ]
      },
      {
       "output_type": "stream",
       "stream": "stdout",
       "text": [
        "(Reading database ... 45%\n"
       ]
      },
      {
       "output_type": "stream",
       "stream": "stdout",
       "text": [
        "[ubuntu@ec2-54-243-24-167.compute-1.amazonaws.com] out: "
       ]
      },
      {
       "output_type": "stream",
       "stream": "stdout",
       "text": [
        "(Reading database ... 50%\n"
       ]
      },
      {
       "output_type": "stream",
       "stream": "stdout",
       "text": [
        "[ubuntu@ec2-54-243-24-167.compute-1.amazonaws.com] out: "
       ]
      },
      {
       "output_type": "stream",
       "stream": "stdout",
       "text": [
        "(Reading database ... 55%\n"
       ]
      },
      {
       "output_type": "stream",
       "stream": "stdout",
       "text": [
        "[ubuntu@ec2-54-243-24-167.compute-1.amazonaws.com] out: "
       ]
      },
      {
       "output_type": "stream",
       "stream": "stdout",
       "text": [
        "(Reading database ... 60%\n"
       ]
      },
      {
       "output_type": "stream",
       "stream": "stdout",
       "text": [
        "[ubuntu@ec2-54-243-24-167.compute-1.amazonaws.com] out: "
       ]
      },
      {
       "output_type": "stream",
       "stream": "stdout",
       "text": [
        "(Reading database ... 65%\n"
       ]
      },
      {
       "output_type": "stream",
       "stream": "stdout",
       "text": [
        "[ubuntu@ec2-54-243-24-167.compute-1.amazonaws.com] out: "
       ]
      },
      {
       "output_type": "stream",
       "stream": "stdout",
       "text": [
        "(Reading database ... 70%"
       ]
      },
      {
       "output_type": "stream",
       "stream": "stdout",
       "text": [
        "\n"
       ]
      },
      {
       "output_type": "stream",
       "stream": "stdout",
       "text": [
        "[ubuntu@ec2-54-243-24-167.compute-1.amazonaws.com] out: "
       ]
      },
      {
       "output_type": "stream",
       "stream": "stdout",
       "text": [
        "(Reading database ... 75%"
       ]
      },
      {
       "output_type": "stream",
       "stream": "stdout",
       "text": [
        "\n"
       ]
      },
      {
       "output_type": "stream",
       "stream": "stdout",
       "text": [
        "[ubuntu@ec2-54-243-24-167.compute-1.amazonaws.com] out: "
       ]
      },
      {
       "output_type": "stream",
       "stream": "stdout",
       "text": [
        "(Reading database ... 80%"
       ]
      },
      {
       "output_type": "stream",
       "stream": "stdout",
       "text": [
        "\n"
       ]
      },
      {
       "output_type": "stream",
       "stream": "stdout",
       "text": [
        "[ubuntu@ec2-54-243-24-167.compute-1.amazonaws.com] out: "
       ]
      },
      {
       "output_type": "stream",
       "stream": "stdout",
       "text": [
        "(Reading database ... 85%"
       ]
      },
      {
       "output_type": "stream",
       "stream": "stdout",
       "text": [
        "\n"
       ]
      },
      {
       "output_type": "stream",
       "stream": "stdout",
       "text": [
        "[ubuntu@ec2-54-243-24-167.compute-1.amazonaws.com] out: "
       ]
      },
      {
       "output_type": "stream",
       "stream": "stdout",
       "text": [
        "(Reading database ... 90%"
       ]
      },
      {
       "output_type": "stream",
       "stream": "stdout",
       "text": [
        "\n"
       ]
      },
      {
       "output_type": "stream",
       "stream": "stdout",
       "text": [
        "[ubuntu@ec2-54-243-24-167.compute-1.amazonaws.com] out: "
       ]
      },
      {
       "output_type": "stream",
       "stream": "stdout",
       "text": [
        "(Reading database ... 95%"
       ]
      },
      {
       "output_type": "stream",
       "stream": "stdout",
       "text": [
        "\n"
       ]
      },
      {
       "output_type": "stream",
       "stream": "stdout",
       "text": [
        "[ubuntu@ec2-54-243-24-167.compute-1.amazonaws.com] out: "
       ]
      },
      {
       "output_type": "stream",
       "stream": "stdout",
       "text": [
        "(Reading database ... 100%\n"
       ]
      },
      {
       "output_type": "stream",
       "stream": "stdout",
       "text": [
        "[ubuntu@ec2-54-243-24-167.compute-1.amazonaws.com] out: "
       ]
      },
      {
       "output_type": "stream",
       "stream": "stdout",
       "text": [
        "(Reading database ... 70362 files and directories currently installed.)\n"
       ]
      },
      {
       "output_type": "stream",
       "stream": "stdout",
       "text": [
        "[ubuntu@ec2-54-243-24-167.compute-1.amazonaws.com] out: "
       ]
      },
      {
       "output_type": "stream",
       "stream": "stdout",
       "text": [
        "Unpacking libcap2 (from .../libcap2_1%3a2.22-1ubuntu3_amd64.deb) ...\n"
       ]
      },
      {
       "output_type": "stream",
       "stream": "stdout",
       "text": [
        "[ubuntu@ec2-54-243-24-167.compute-1.amazonaws.com] out: "
       ]
      },
      {
       "output_type": "stream",
       "stream": "stdout",
       "text": [
        "Selecting previously unselected package mysql-common.\n"
       ]
      },
      {
       "output_type": "stream",
       "stream": "stdout",
       "text": [
        "[ubuntu@ec2-54-243-24-167.compute-1.amazonaws.com] out: "
       ]
      },
      {
       "output_type": "stream",
       "stream": "stdout",
       "text": [
        "Unpacking mysql-common (from .../mysql-common_5.5.31-0ubuntu0.12.04.1_all.deb) ...\n"
       ]
      },
      {
       "output_type": "stream",
       "stream": "stdout",
       "text": [
        "[ubuntu@ec2-54-243-24-167.compute-1.amazonaws.com] out: "
       ]
      },
      {
       "output_type": "stream",
       "stream": "stdout",
       "text": [
        "Selecting previously unselected package libmysqlclient18.\n"
       ]
      },
      {
       "output_type": "stream",
       "stream": "stdout",
       "text": [
        "[ubuntu@ec2-54-243-24-167.compute-1.amazonaws.com] out: "
       ]
      },
      {
       "output_type": "stream",
       "stream": "stdout",
       "text": [
        "Unpacking libmysqlclient18 (from .../libmysqlclient18_5.5.31-0ubuntu0.12.04.1_amd64.deb) ...\n"
       ]
      },
      {
       "output_type": "stream",
       "stream": "stdout",
       "text": [
        "[ubuntu@ec2-54-243-24-167.compute-1.amazonaws.com] out: "
       ]
      },
      {
       "output_type": "stream",
       "stream": "stdout",
       "text": [
        "Selecting previously unselected package libxslt1.1.\n"
       ]
      },
      {
       "output_type": "stream",
       "stream": "stdout",
       "text": [
        "[ubuntu@ec2-54-243-24-167.compute-1.amazonaws.com] out: "
       ]
      },
      {
       "output_type": "stream",
       "stream": "stdout",
       "text": [
        "Unpacking libxslt1.1 (from .../libxslt1.1_1.1.26-8ubuntu1.3_amd64.deb) ...\n"
       ]
      },
      {
       "output_type": "stream",
       "stream": "stdout",
       "text": [
        "[ubuntu@ec2-54-243-24-167.compute-1.amazonaws.com] out: "
       ]
      },
      {
       "output_type": "stream",
       "stream": "stdout",
       "text": [
        "Selecting previously unselected package libapr1.\n"
       ]
      },
      {
       "output_type": "stream",
       "stream": "stdout",
       "text": [
        "[ubuntu@ec2-54-243-24-167.compute-1.amazonaws.com] out: "
       ]
      },
      {
       "output_type": "stream",
       "stream": "stdout",
       "text": [
        "Unpacking libapr1 (from .../libapr1_1.4.6-1_amd64.deb) ...\n"
       ]
      },
      {
       "output_type": "stream",
       "stream": "stdout",
       "text": [
        "[ubuntu@ec2-54-243-24-167.compute-1.amazonaws.com] out: "
       ]
      },
      {
       "output_type": "stream",
       "stream": "stdout",
       "text": [
        "Selecting previously unselected package libaprutil1.\n"
       ]
      },
      {
       "output_type": "stream",
       "stream": "stdout",
       "text": [
        "[ubuntu@ec2-54-243-24-167.compute-1.amazonaws.com] out: "
       ]
      },
      {
       "output_type": "stream",
       "stream": "stdout",
       "text": [
        "Unpacking libaprutil1 (from .../libaprutil1_1.3.12+dfsg-3_amd64.deb) ...\n"
       ]
      },
      {
       "output_type": "stream",
       "stream": "stdout",
       "text": [
        "[ubuntu@ec2-54-243-24-167.compute-1.amazonaws.com] out: "
       ]
      },
      {
       "output_type": "stream",
       "stream": "stdout",
       "text": [
        "Selecting previously unselected package libaprutil1-dbd-sqlite3.\n"
       ]
      },
      {
       "output_type": "stream",
       "stream": "stdout",
       "text": [
        "[ubuntu@ec2-54-243-24-167.compute-1.amazonaws.com] out: "
       ]
      },
      {
       "output_type": "stream",
       "stream": "stdout",
       "text": [
        "Unpacking libaprutil1-dbd-sqlite3 (from .../libaprutil1-dbd-sqlite3_1.3.12+dfsg-3_amd64.deb) ...\n"
       ]
      },
      {
       "output_type": "stream",
       "stream": "stdout",
       "text": [
        "[ubuntu@ec2-54-243-24-167.compute-1.amazonaws.com] out: "
       ]
      },
      {
       "output_type": "stream",
       "stream": "stdout",
       "text": [
        "Selecting previously unselected package libaprutil1-ldap.\n"
       ]
      },
      {
       "output_type": "stream",
       "stream": "stdout",
       "text": [
        "[ubuntu@ec2-54-243-24-167.compute-1.amazonaws.com] out: "
       ]
      },
      {
       "output_type": "stream",
       "stream": "stdout",
       "text": [
        "Unpacking libaprutil1-ldap (from .../libaprutil1-ldap_1.3.12+dfsg-3_amd64.deb) ...\n"
       ]
      },
      {
       "output_type": "stream",
       "stream": "stdout",
       "text": [
        "[ubuntu@ec2-54-243-24-167.compute-1.amazonaws.com] out: "
       ]
      },
      {
       "output_type": "stream",
       "stream": "stdout",
       "text": [
        "Selecting previously unselected package apache2.2-bin.\n"
       ]
      },
      {
       "output_type": "stream",
       "stream": "stdout",
       "text": [
        "[ubuntu@ec2-54-243-24-167.compute-1.amazonaws.com] out: "
       ]
      },
      {
       "output_type": "stream",
       "stream": "stdout",
       "text": [
        "Unpacking apache2.2-bin (from .../apache2.2-bin_2.2.22-1ubuntu1.3_amd64.deb) ...\n"
       ]
      },
      {
       "output_type": "stream",
       "stream": "stdout",
       "text": [
        "[ubuntu@ec2-54-243-24-167.compute-1.amazonaws.com] out: "
       ]
      },
      {
       "output_type": "stream",
       "stream": "stdout",
       "text": [
        "Selecting previously unselected package apache2-utils.\n"
       ]
      },
      {
       "output_type": "stream",
       "stream": "stdout",
       "text": [
        "[ubuntu@ec2-54-243-24-167.compute-1.amazonaws.com] out: "
       ]
      },
      {
       "output_type": "stream",
       "stream": "stdout",
       "text": [
        "Unpacking apache2-utils (from .../apache2-utils_2.2.22-1ubuntu1.3_amd64.deb) ...\n"
       ]
      },
      {
       "output_type": "stream",
       "stream": "stdout",
       "text": [
        "[ubuntu@ec2-54-243-24-167.compute-1.amazonaws.com] out: "
       ]
      },
      {
       "output_type": "stream",
       "stream": "stdout",
       "text": [
        "Selecting previously unselected package apache2.2-common.\n"
       ]
      },
      {
       "output_type": "stream",
       "stream": "stdout",
       "text": [
        "[ubuntu@ec2-54-243-24-167.compute-1.amazonaws.com] out: "
       ]
      },
      {
       "output_type": "stream",
       "stream": "stdout",
       "text": [
        "Unpacking apache2.2-common (from .../apache2.2-common_2.2.22-1ubuntu1.3_amd64.deb) ...\n"
       ]
      },
      {
       "output_type": "stream",
       "stream": "stdout",
       "text": [
        "[ubuntu@ec2-54-243-24-167.compute-1.amazonaws.com] out: "
       ]
      },
      {
       "output_type": "stream",
       "stream": "stdout",
       "text": [
        "Selecting previously unselected package apache2-mpm-worker.\n"
       ]
      },
      {
       "output_type": "stream",
       "stream": "stdout",
       "text": [
        "[ubuntu@ec2-54-243-24-167.compute-1.amazonaws.com] out: "
       ]
      },
      {
       "output_type": "stream",
       "stream": "stdout",
       "text": [
        "Unpacking apache2-mpm-worker (from .../apache2-mpm-worker_2.2.22-1ubuntu1.3_amd64.deb) ...\n"
       ]
      },
      {
       "output_type": "stream",
       "stream": "stdout",
       "text": [
        "[ubuntu@ec2-54-243-24-167.compute-1.amazonaws.com] out: "
       ]
      },
      {
       "output_type": "stream",
       "stream": "stdout",
       "text": [
        "Selecting previously unselected package apache2.\n"
       ]
      },
      {
       "output_type": "stream",
       "stream": "stdout",
       "text": [
        "[ubuntu@ec2-54-243-24-167.compute-1.amazonaws.com] out: "
       ]
      },
      {
       "output_type": "stream",
       "stream": "stdout",
       "text": [
        "Unpacking apache2 (from .../apache2_2.2.22-1ubuntu1.3_amd64.deb) ...\n"
       ]
      },
      {
       "output_type": "stream",
       "stream": "stdout",
       "text": [
        "[ubuntu@ec2-54-243-24-167.compute-1.amazonaws.com] out: "
       ]
      },
      {
       "output_type": "stream",
       "stream": "stdout",
       "text": [
        "Selecting previously unselected package liberror-perl.\n"
       ]
      },
      {
       "output_type": "stream",
       "stream": "stdout",
       "text": [
        "[ubuntu@ec2-54-243-24-167.compute-1.amazonaws.com] out: "
       ]
      },
      {
       "output_type": "stream",
       "stream": "stdout",
       "text": [
        "Unpacking liberror-perl (from .../liberror-perl_0.17-1_all.deb) ...\n"
       ]
      },
      {
       "output_type": "stream",
       "stream": "stdout",
       "text": [
        "[ubuntu@ec2-54-243-24-167.compute-1.amazonaws.com] out: "
       ]
      },
      {
       "output_type": "stream",
       "stream": "stdout",
       "text": [
        "Selecting previously unselected package git-man.\n"
       ]
      },
      {
       "output_type": "stream",
       "stream": "stdout",
       "text": [
        "[ubuntu@ec2-54-243-24-167.compute-1.amazonaws.com] out: "
       ]
      },
      {
       "output_type": "stream",
       "stream": "stdout",
       "text": [
        "Unpacking git-man (from .../git-man_1%3a1.7.9.5-1_all.deb) ...\n"
       ]
      },
      {
       "output_type": "stream",
       "stream": "stdout",
       "text": [
        "[ubuntu@ec2-54-243-24-167.compute-1.amazonaws.com] out: "
       ]
      },
      {
       "output_type": "stream",
       "stream": "stdout",
       "text": [
        "Selecting previously unselected package git.\n"
       ]
      },
      {
       "output_type": "stream",
       "stream": "stdout",
       "text": [
        "[ubuntu@ec2-54-243-24-167.compute-1.amazonaws.com] out: "
       ]
      },
      {
       "output_type": "stream",
       "stream": "stdout",
       "text": [
        "Unpacking git (from .../git_1%3a1.7.9.5-1_amd64.deb) ...\n"
       ]
      },
      {
       "output_type": "stream",
       "stream": "stdout",
       "text": [
        "[ubuntu@ec2-54-243-24-167.compute-1.amazonaws.com] out: "
       ]
      },
      {
       "output_type": "stream",
       "stream": "stdout",
       "text": [
        "Selecting previously unselected package git-core.\n"
       ]
      },
      {
       "output_type": "stream",
       "stream": "stdout",
       "text": [
        "[ubuntu@ec2-54-243-24-167.compute-1.amazonaws.com] out: "
       ]
      },
      {
       "output_type": "stream",
       "stream": "stdout",
       "text": [
        "Unpacking git-core (from .../git-core_1%3a1.7.9.5-1_all.deb) ...\n"
       ]
      },
      {
       "output_type": "stream",
       "stream": "stdout",
       "text": [
        "[ubuntu@ec2-54-243-24-167.compute-1.amazonaws.com] out: "
       ]
      },
      {
       "output_type": "stream",
       "stream": "stdout",
       "text": [
        "Selecting previously unselected package libapache2-mod-wsgi.\n"
       ]
      },
      {
       "output_type": "stream",
       "stream": "stdout",
       "text": [
        "[ubuntu@ec2-54-243-24-167.compute-1.amazonaws.com] out: "
       ]
      },
      {
       "output_type": "stream",
       "stream": "stdout",
       "text": [
        "Unpacking libapache2-mod-wsgi (from .../libapache2-mod-wsgi_3.3-4build1_amd64.deb) ...\n"
       ]
      },
      {
       "output_type": "stream",
       "stream": "stdout",
       "text": [
        "[ubuntu@ec2-54-243-24-167.compute-1.amazonaws.com] out: "
       ]
      },
      {
       "output_type": "stream",
       "stream": "stdout",
       "text": [
        "Selecting previously unselected package libnet-daemon-perl.\n"
       ]
      },
      {
       "output_type": "stream",
       "stream": "stdout",
       "text": [
        "[ubuntu@ec2-54-243-24-167.compute-1.amazonaws.com] out: "
       ]
      },
      {
       "output_type": "stream",
       "stream": "stdout",
       "text": [
        "Unpacking libnet-daemon-perl (from .../libnet-daemon-perl_0.48-1_all.deb) ...\n"
       ]
      },
      {
       "output_type": "stream",
       "stream": "stdout",
       "text": [
        "[ubuntu@ec2-54-243-24-167.compute-1.amazonaws.com] out: "
       ]
      },
      {
       "output_type": "stream",
       "stream": "stdout",
       "text": [
        "Selecting previously unselected package libplrpc-perl.\n"
       ]
      },
      {
       "output_type": "stream",
       "stream": "stdout",
       "text": [
        "[ubuntu@ec2-54-243-24-167.compute-1.amazonaws.com] out: "
       ]
      },
      {
       "output_type": "stream",
       "stream": "stdout",
       "text": [
        "Unpacking libplrpc-perl (from .../libplrpc-perl_0.2020-2_all.deb) ...\n"
       ]
      },
      {
       "output_type": "stream",
       "stream": "stdout",
       "text": [
        "[ubuntu@ec2-54-243-24-167.compute-1.amazonaws.com] out: "
       ]
      },
      {
       "output_type": "stream",
       "stream": "stdout",
       "text": [
        "Selecting previously unselected package libdbi-perl.\n"
       ]
      },
      {
       "output_type": "stream",
       "stream": "stdout",
       "text": [
        "[ubuntu@ec2-54-243-24-167.compute-1.amazonaws.com] out: "
       ]
      },
      {
       "output_type": "stream",
       "stream": "stdout",
       "text": [
        "Unpacking libdbi-perl (from .../libdbi-perl_1.616-1build2_amd64.deb) ...\n"
       ]
      },
      {
       "output_type": "stream",
       "stream": "stdout",
       "text": [
        "[ubuntu@ec2-54-243-24-167.compute-1.amazonaws.com] out: "
       ]
      },
      {
       "output_type": "stream",
       "stream": "stdout",
       "text": [
        "Selecting previously unselected package libdbd-mysql-perl.\n"
       ]
      },
      {
       "output_type": "stream",
       "stream": "stdout",
       "text": [
        "[ubuntu@ec2-54-243-24-167.compute-1.amazonaws.com] out: "
       ]
      },
      {
       "output_type": "stream",
       "stream": "stdout",
       "text": [
        "Unpacking libdbd-mysql-perl (from .../libdbd-mysql-perl_4.020-1build2_amd64.deb) ...\n"
       ]
      },
      {
       "output_type": "stream",
       "stream": "stdout",
       "text": [
        "[ubuntu@ec2-54-243-24-167.compute-1.amazonaws.com] out: "
       ]
      },
      {
       "output_type": "stream",
       "stream": "stdout",
       "text": [
        "Selecting previously unselected package mysql-client-core-5.5.\n"
       ]
      },
      {
       "output_type": "stream",
       "stream": "stdout",
       "text": [
        "[ubuntu@ec2-54-243-24-167.compute-1.amazonaws.com] out: "
       ]
      },
      {
       "output_type": "stream",
       "stream": "stdout",
       "text": [
        "Unpacking mysql-client-core-5.5 (from .../mysql-client-core-5.5_5.5.31-0ubuntu0.12.04.1_amd64.deb) ...\n"
       ]
      },
      {
       "output_type": "stream",
       "stream": "stdout",
       "text": [
        "[ubuntu@ec2-54-243-24-167.compute-1.amazonaws.com] out: "
       ]
      },
      {
       "output_type": "stream",
       "stream": "stdout",
       "text": [
        "Selecting previously unselected package mysql-client-5.5.\n"
       ]
      },
      {
       "output_type": "stream",
       "stream": "stdout",
       "text": [
        "[ubuntu@ec2-54-243-24-167.compute-1.amazonaws.com] out: "
       ]
      },
      {
       "output_type": "stream",
       "stream": "stdout",
       "text": [
        "Unpacking mysql-client-5.5 (from .../mysql-client-5.5_5.5.31-0ubuntu0.12.04.1_amd64.deb) ...\n"
       ]
      },
      {
       "output_type": "stream",
       "stream": "stdout",
       "text": [
        "[ubuntu@ec2-54-243-24-167.compute-1.amazonaws.com] out: "
       ]
      },
      {
       "output_type": "stream",
       "stream": "stdout",
       "text": [
        "Selecting previously unselected package mysql-client.\n"
       ]
      },
      {
       "output_type": "stream",
       "stream": "stdout",
       "text": [
        "[ubuntu@ec2-54-243-24-167.compute-1.amazonaws.com] out: "
       ]
      },
      {
       "output_type": "stream",
       "stream": "stdout",
       "text": [
        "Unpacking mysql-client (from .../mysql-client_5.5.31-0ubuntu0.12.04.1_all.deb) ...\n"
       ]
      },
      {
       "output_type": "stream",
       "stream": "stdout",
       "text": [
        "[ubuntu@ec2-54-243-24-167.compute-1.amazonaws.com] out: "
       ]
      },
      {
       "output_type": "stream",
       "stream": "stdout",
       "text": [
        "Selecting previously unselected package python-lxml.\n"
       ]
      },
      {
       "output_type": "stream",
       "stream": "stdout",
       "text": [
        "[ubuntu@ec2-54-243-24-167.compute-1.amazonaws.com] out: "
       ]
      },
      {
       "output_type": "stream",
       "stream": "stdout",
       "text": [
        "Unpacking python-lxml (from .../python-lxml_2.3.2-1_amd64.deb) ...\n"
       ]
      },
      {
       "output_type": "stream",
       "stream": "stdout",
       "text": [
        "[ubuntu@ec2-54-243-24-167.compute-1.amazonaws.com] out: "
       ]
      },
      {
       "output_type": "stream",
       "stream": "stdout",
       "text": [
        "Selecting previously unselected package python-mysqldb.\n"
       ]
      },
      {
       "output_type": "stream",
       "stream": "stdout",
       "text": [
        "[ubuntu@ec2-54-243-24-167.compute-1.amazonaws.com] out: "
       ]
      },
      {
       "output_type": "stream",
       "stream": "stdout",
       "text": [
        "Unpacking python-mysqldb (from .../python-mysqldb_1.2.3-1ubuntu0.1_amd64.deb) ...\n"
       ]
      },
      {
       "output_type": "stream",
       "stream": "stdout",
       "text": [
        "[ubuntu@ec2-54-243-24-167.compute-1.amazonaws.com] out: "
       ]
      },
      {
       "output_type": "stream",
       "stream": "stdout",
       "text": [
        "Selecting previously unselected package python-setuptools.\n"
       ]
      },
      {
       "output_type": "stream",
       "stream": "stdout",
       "text": [
        "[ubuntu@ec2-54-243-24-167.compute-1.amazonaws.com] out: "
       ]
      },
      {
       "output_type": "stream",
       "stream": "stdout",
       "text": [
        "Unpacking python-setuptools (from .../python-setuptools_0.6.24-1ubuntu1_all.deb) ...\n"
       ]
      },
      {
       "output_type": "stream",
       "stream": "stdout",
       "text": [
        "[ubuntu@ec2-54-243-24-167.compute-1.amazonaws.com] out: "
       ]
      },
      {
       "output_type": "stream",
       "stream": "stdout",
       "text": [
        "Selecting previously unselected package python-pip.\n"
       ]
      },
      {
       "output_type": "stream",
       "stream": "stdout",
       "text": [
        "[ubuntu@ec2-54-243-24-167.compute-1.amazonaws.com] out: "
       ]
      },
      {
       "output_type": "stream",
       "stream": "stdout",
       "text": [
        "Unpacking python-pip (from .../python-pip_1.0-1build1_all.deb) ...\n"
       ]
      },
      {
       "output_type": "stream",
       "stream": "stdout",
       "text": [
        "[ubuntu@ec2-54-243-24-167.compute-1.amazonaws.com] out: "
       ]
      },
      {
       "output_type": "stream",
       "stream": "stdout",
       "text": [
        "Selecting previously unselected package python-virtualenv.\n"
       ]
      },
      {
       "output_type": "stream",
       "stream": "stdout",
       "text": [
        "[ubuntu@ec2-54-243-24-167.compute-1.amazonaws.com] out: "
       ]
      },
      {
       "output_type": "stream",
       "stream": "stdout",
       "text": [
        "Unpacking python-virtualenv (from .../python-virtualenv_1.7.1.2-1_all.deb) ...\n"
       ]
      },
      {
       "output_type": "stream",
       "stream": "stdout",
       "text": [
        "[ubuntu@ec2-54-243-24-167.compute-1.amazonaws.com] out: "
       ]
      },
      {
       "output_type": "stream",
       "stream": "stdout",
       "text": [
        "Selecting previously unselected package redis-server.\n"
       ]
      },
      {
       "output_type": "stream",
       "stream": "stdout",
       "text": [
        "[ubuntu@ec2-54-243-24-167.compute-1.amazonaws.com] out: "
       ]
      },
      {
       "output_type": "stream",
       "stream": "stdout",
       "text": [
        "Unpacking redis-server (from .../redis-server_2%3a2.2.12-1build1_amd64.deb) ...\n"
       ]
      },
      {
       "output_type": "stream",
       "stream": "stdout",
       "text": [
        "[ubuntu@ec2-54-243-24-167.compute-1.amazonaws.com] out: "
       ]
      },
      {
       "output_type": "stream",
       "stream": "stdout",
       "text": [
        "Selecting previously unselected package ssl-cert.\n"
       ]
      },
      {
       "output_type": "stream",
       "stream": "stdout",
       "text": [
        "[ubuntu@ec2-54-243-24-167.compute-1.amazonaws.com] out: "
       ]
      },
      {
       "output_type": "stream",
       "stream": "stdout",
       "text": [
        "Unpacking ssl-cert (from .../ssl-cert_1.0.28ubuntu0.1_all.deb) ...\n"
       ]
      },
      {
       "output_type": "stream",
       "stream": "stdout",
       "text": [
        "[ubuntu@ec2-54-243-24-167.compute-1.amazonaws.com] out: "
       ]
      },
      {
       "output_type": "stream",
       "stream": "stdout",
       "text": [
        "Processing triggers for man-db ...\n"
       ]
      },
      {
       "output_type": "stream",
       "stream": "stdout",
       "text": [
        "[ubuntu@ec2-54-243-24-167.compute-1.amazonaws.com] out: "
       ]
      },
      {
       "output_type": "stream",
       "stream": "stdout",
       "text": [
        "Processing triggers for ufw ...\n"
       ]
      },
      {
       "output_type": "stream",
       "stream": "stdout",
       "text": [
        "[ubuntu@ec2-54-243-24-167.compute-1.amazonaws.com] out: "
       ]
      },
      {
       "output_type": "stream",
       "stream": "stdout",
       "text": [
        "Processing triggers for ureadahead ...\n"
       ]
      },
      {
       "output_type": "stream",
       "stream": "stdout",
       "text": [
        "[ubuntu@ec2-54-243-24-167.compute-1.amazonaws.com] out: "
       ]
      },
      {
       "output_type": "stream",
       "stream": "stdout",
       "text": [
        "Setting up libcap2 (1:2.22-1ubuntu3) ...\n"
       ]
      },
      {
       "output_type": "stream",
       "stream": "stdout",
       "text": [
        "[ubuntu@ec2-54-243-24-167.compute-1.amazonaws.com] out: "
       ]
      },
      {
       "output_type": "stream",
       "stream": "stdout",
       "text": [
        "Setting up mysql-common (5.5.31-0ubuntu0.12.04.1) ...\n"
       ]
      },
      {
       "output_type": "stream",
       "stream": "stdout",
       "text": [
        "[ubuntu@ec2-54-243-24-167.compute-1.amazonaws.com] out: "
       ]
      },
      {
       "output_type": "stream",
       "stream": "stdout",
       "text": [
        "Setting up libmysqlclient18 (5.5.31-0ubuntu0.12.04.1) ...\n"
       ]
      },
      {
       "output_type": "stream",
       "stream": "stdout",
       "text": [
        "[ubuntu@ec2-54-243-24-167.compute-1.amazonaws.com] out: "
       ]
      },
      {
       "output_type": "stream",
       "stream": "stdout",
       "text": [
        "Setting up libxslt1.1 (1.1.26-8ubuntu1.3) ...\n"
       ]
      },
      {
       "output_type": "stream",
       "stream": "stdout",
       "text": [
        "[ubuntu@ec2-54-243-24-167.compute-1.amazonaws.com] out: "
       ]
      },
      {
       "output_type": "stream",
       "stream": "stdout",
       "text": [
        "Setting up libapr1 (1.4.6-1) ...\n"
       ]
      },
      {
       "output_type": "stream",
       "stream": "stdout",
       "text": [
        "[ubuntu@ec2-54-243-24-167.compute-1.amazonaws.com] out: "
       ]
      },
      {
       "output_type": "stream",
       "stream": "stdout",
       "text": [
        "Setting up libaprutil1 (1.3.12+dfsg-3) ...\n"
       ]
      },
      {
       "output_type": "stream",
       "stream": "stdout",
       "text": [
        "[ubuntu@ec2-54-243-24-167.compute-1.amazonaws.com] out: "
       ]
      },
      {
       "output_type": "stream",
       "stream": "stdout",
       "text": [
        "Setting up libaprutil1-dbd-sqlite3 (1.3.12+dfsg-3) ...\n"
       ]
      },
      {
       "output_type": "stream",
       "stream": "stdout",
       "text": [
        "[ubuntu@ec2-54-243-24-167.compute-1.amazonaws.com] out: "
       ]
      },
      {
       "output_type": "stream",
       "stream": "stdout",
       "text": [
        "Setting up libaprutil1-ldap (1.3.12+dfsg-3) ...\n"
       ]
      },
      {
       "output_type": "stream",
       "stream": "stdout",
       "text": [
        "[ubuntu@ec2-54-243-24-167.compute-1.amazonaws.com] out: "
       ]
      },
      {
       "output_type": "stream",
       "stream": "stdout",
       "text": [
        "Setting up apache2.2-bin (2.2.22-1ubuntu1.3) ...\n"
       ]
      },
      {
       "output_type": "stream",
       "stream": "stdout",
       "text": [
        "[ubuntu@ec2-54-243-24-167.compute-1.amazonaws.com] out: "
       ]
      },
      {
       "output_type": "stream",
       "stream": "stdout",
       "text": [
        "Setting up apache2-utils (2.2.22-1ubuntu1.3) ...\n"
       ]
      },
      {
       "output_type": "stream",
       "stream": "stdout",
       "text": [
        "[ubuntu@ec2-54-243-24-167.compute-1.amazonaws.com] out: "
       ]
      },
      {
       "output_type": "stream",
       "stream": "stdout",
       "text": [
        "Setting up apache2.2-common (2.2.22-1ubuntu1.3) ...\n"
       ]
      },
      {
       "output_type": "stream",
       "stream": "stdout",
       "text": [
        "[ubuntu@ec2-54-243-24-167.compute-1.amazonaws.com] out: "
       ]
      },
      {
       "output_type": "stream",
       "stream": "stdout",
       "text": [
        "Enabling site default.\n"
       ]
      },
      {
       "output_type": "stream",
       "stream": "stdout",
       "text": [
        "[ubuntu@ec2-54-243-24-167.compute-1.amazonaws.com] out: "
       ]
      },
      {
       "output_type": "stream",
       "stream": "stdout",
       "text": [
        "Enabling module alias.\n"
       ]
      },
      {
       "output_type": "stream",
       "stream": "stdout",
       "text": [
        "[ubuntu@ec2-54-243-24-167.compute-1.amazonaws.com] out: "
       ]
      },
      {
       "output_type": "stream",
       "stream": "stdout",
       "text": [
        "Enabling module autoindex.\n"
       ]
      },
      {
       "output_type": "stream",
       "stream": "stdout",
       "text": [
        "[ubuntu@ec2-54-243-24-167.compute-1.amazonaws.com] out: "
       ]
      },
      {
       "output_type": "stream",
       "stream": "stdout",
       "text": [
        "Enabling module dir.\n"
       ]
      },
      {
       "output_type": "stream",
       "stream": "stdout",
       "text": [
        "[ubuntu@ec2-54-243-24-167.compute-1.amazonaws.com] out: "
       ]
      },
      {
       "output_type": "stream",
       "stream": "stdout",
       "text": [
        "Enabling module env.\n"
       ]
      },
      {
       "output_type": "stream",
       "stream": "stdout",
       "text": [
        "[ubuntu@ec2-54-243-24-167.compute-1.amazonaws.com] out: "
       ]
      },
      {
       "output_type": "stream",
       "stream": "stdout",
       "text": [
        "Enabling module mime.\n"
       ]
      },
      {
       "output_type": "stream",
       "stream": "stdout",
       "text": [
        "[ubuntu@ec2-54-243-24-167.compute-1.amazonaws.com] out: "
       ]
      },
      {
       "output_type": "stream",
       "stream": "stdout",
       "text": [
        "Enabling module negotiation.\n"
       ]
      },
      {
       "output_type": "stream",
       "stream": "stdout",
       "text": [
        "[ubuntu@ec2-54-243-24-167.compute-1.amazonaws.com] out: "
       ]
      },
      {
       "output_type": "stream",
       "stream": "stdout",
       "text": [
        "Enabling module setenvif.\n"
       ]
      },
      {
       "output_type": "stream",
       "stream": "stdout",
       "text": [
        "[ubuntu@ec2-54-243-24-167.compute-1.amazonaws.com] out: "
       ]
      },
      {
       "output_type": "stream",
       "stream": "stdout",
       "text": [
        "Enabling module status.\n"
       ]
      },
      {
       "output_type": "stream",
       "stream": "stdout",
       "text": [
        "[ubuntu@ec2-54-243-24-167.compute-1.amazonaws.com] out: "
       ]
      },
      {
       "output_type": "stream",
       "stream": "stdout",
       "text": [
        "Enabling module auth_basic.\n"
       ]
      },
      {
       "output_type": "stream",
       "stream": "stdout",
       "text": [
        "[ubuntu@ec2-54-243-24-167.compute-1.amazonaws.com] out: "
       ]
      },
      {
       "output_type": "stream",
       "stream": "stdout",
       "text": [
        "Enabling module deflate.\n"
       ]
      },
      {
       "output_type": "stream",
       "stream": "stdout",
       "text": [
        "[ubuntu@ec2-54-243-24-167.compute-1.amazonaws.com] out: "
       ]
      },
      {
       "output_type": "stream",
       "stream": "stdout",
       "text": [
        "Enabling module authz_default.\n"
       ]
      },
      {
       "output_type": "stream",
       "stream": "stdout",
       "text": [
        "[ubuntu@ec2-54-243-24-167.compute-1.amazonaws.com] out: "
       ]
      },
      {
       "output_type": "stream",
       "stream": "stdout",
       "text": [
        "Enabling module authz_user.\n"
       ]
      },
      {
       "output_type": "stream",
       "stream": "stdout",
       "text": [
        "[ubuntu@ec2-54-243-24-167.compute-1.amazonaws.com] out: "
       ]
      },
      {
       "output_type": "stream",
       "stream": "stdout",
       "text": [
        "Enabling module authz_groupfile.\n"
       ]
      },
      {
       "output_type": "stream",
       "stream": "stdout",
       "text": [
        "[ubuntu@ec2-54-243-24-167.compute-1.amazonaws.com] out: "
       ]
      },
      {
       "output_type": "stream",
       "stream": "stdout",
       "text": [
        "Enabling module authn_file.\n"
       ]
      },
      {
       "output_type": "stream",
       "stream": "stdout",
       "text": [
        "[ubuntu@ec2-54-243-24-167.compute-1.amazonaws.com] out: "
       ]
      },
      {
       "output_type": "stream",
       "stream": "stdout",
       "text": [
        "Enabling module authz_host.\n"
       ]
      },
      {
       "output_type": "stream",
       "stream": "stdout",
       "text": [
        "[ubuntu@ec2-54-243-24-167.compute-1.amazonaws.com] out: "
       ]
      },
      {
       "output_type": "stream",
       "stream": "stdout",
       "text": [
        "Enabling module reqtimeout.\n"
       ]
      },
      {
       "output_type": "stream",
       "stream": "stdout",
       "text": [
        "[ubuntu@ec2-54-243-24-167.compute-1.amazonaws.com] out: "
       ]
      },
      {
       "output_type": "stream",
       "stream": "stdout",
       "text": [
        "Setting up apache2-mpm-worker (2.2.22-1ubuntu1.3) ...\n"
       ]
      },
      {
       "output_type": "stream",
       "stream": "stdout",
       "text": [
        "[ubuntu@ec2-54-243-24-167.compute-1.amazonaws.com] out: "
       ]
      },
      {
       "output_type": "stream",
       "stream": "stdout",
       "text": [
        " * Starting web server apache2\n"
       ]
      },
      {
       "output_type": "stream",
       "stream": "stdout",
       "text": [
        "[ubuntu@ec2-54-243-24-167.compute-1.amazonaws.com] out: "
       ]
      },
      {
       "output_type": "stream",
       "stream": "stdout",
       "text": [
        "   ...done.\n"
       ]
      },
      {
       "output_type": "stream",
       "stream": "stdout",
       "text": [
        "[ubuntu@ec2-54-243-24-167.compute-1.amazonaws.com] out: "
       ]
      },
      {
       "output_type": "stream",
       "stream": "stdout",
       "text": [
        "Setting up apache2 (2.2.22-1ubuntu1.3) ...\n"
       ]
      },
      {
       "output_type": "stream",
       "stream": "stdout",
       "text": [
        "[ubuntu@ec2-54-243-24-167.compute-1.amazonaws.com] out: "
       ]
      },
      {
       "output_type": "stream",
       "stream": "stdout",
       "text": [
        "Setting up liberror-perl (0.17-1) ...\n"
       ]
      },
      {
       "output_type": "stream",
       "stream": "stdout",
       "text": [
        "[ubuntu@ec2-54-243-24-167.compute-1.amazonaws.com] out: "
       ]
      },
      {
       "output_type": "stream",
       "stream": "stdout",
       "text": [
        "Setting up git-man (1:1.7.9.5-1) ...\n"
       ]
      },
      {
       "output_type": "stream",
       "stream": "stdout",
       "text": [
        "[ubuntu@ec2-54-243-24-167.compute-1.amazonaws.com] out: "
       ]
      },
      {
       "output_type": "stream",
       "stream": "stdout",
       "text": [
        "Setting up git (1:1.7.9.5-1) ...\n"
       ]
      },
      {
       "output_type": "stream",
       "stream": "stdout",
       "text": [
        "[ubuntu@ec2-54-243-24-167.compute-1.amazonaws.com] out: "
       ]
      },
      {
       "output_type": "stream",
       "stream": "stdout",
       "text": [
        "Setting up git-core (1:1.7.9.5-1) ...\n"
       ]
      },
      {
       "output_type": "stream",
       "stream": "stdout",
       "text": [
        "[ubuntu@ec2-54-243-24-167.compute-1.amazonaws.com] out: "
       ]
      },
      {
       "output_type": "stream",
       "stream": "stdout",
       "text": [
        "Setting up libapache2-mod-wsgi (3.3-4build1) ...\n"
       ]
      },
      {
       "output_type": "stream",
       "stream": "stdout",
       "text": [
        "[ubuntu@ec2-54-243-24-167.compute-1.amazonaws.com] out: "
       ]
      },
      {
       "output_type": "stream",
       "stream": "stdout",
       "text": [
        " * Restarting web server apache2\n"
       ]
      },
      {
       "output_type": "stream",
       "stream": "stdout",
       "text": [
        "[ubuntu@ec2-54-243-24-167.compute-1.amazonaws.com] out: "
       ]
      },
      {
       "output_type": "stream",
       "stream": "stdout",
       "text": [
        " ... waiting "
       ]
      },
      {
       "output_type": "stream",
       "stream": "stdout",
       "text": [
        "."
       ]
      },
      {
       "output_type": "stream",
       "stream": "stdout",
       "text": [
        "   ...done.\n"
       ]
      },
      {
       "output_type": "stream",
       "stream": "stdout",
       "text": [
        "[ubuntu@ec2-54-243-24-167.compute-1.amazonaws.com] out: "
       ]
      },
      {
       "output_type": "stream",
       "stream": "stdout",
       "text": [
        "Setting up libnet-daemon-perl (0.48-1) ...\n"
       ]
      },
      {
       "output_type": "stream",
       "stream": "stdout",
       "text": [
        "[ubuntu@ec2-54-243-24-167.compute-1.amazonaws.com] out: "
       ]
      },
      {
       "output_type": "stream",
       "stream": "stdout",
       "text": [
        "Setting up libplrpc-perl (0.2020-2) ...\n"
       ]
      },
      {
       "output_type": "stream",
       "stream": "stdout",
       "text": [
        "[ubuntu@ec2-54-243-24-167.compute-1.amazonaws.com] out: "
       ]
      },
      {
       "output_type": "stream",
       "stream": "stdout",
       "text": [
        "Setting up libdbi-perl (1.616-1build2) ...\n"
       ]
      },
      {
       "output_type": "stream",
       "stream": "stdout",
       "text": [
        "[ubuntu@ec2-54-243-24-167.compute-1.amazonaws.com] out: "
       ]
      },
      {
       "output_type": "stream",
       "stream": "stdout",
       "text": [
        "Setting up libdbd-mysql-perl (4.020-1build2) ...\n"
       ]
      },
      {
       "output_type": "stream",
       "stream": "stdout",
       "text": [
        "[ubuntu@ec2-54-243-24-167.compute-1.amazonaws.com] out: "
       ]
      },
      {
       "output_type": "stream",
       "stream": "stdout",
       "text": [
        "Setting up mysql-client-core-5.5 (5.5.31-0ubuntu0.12.04.1) ...\n"
       ]
      },
      {
       "output_type": "stream",
       "stream": "stdout",
       "text": [
        "[ubuntu@ec2-54-243-24-167.compute-1.amazonaws.com] out: "
       ]
      },
      {
       "output_type": "stream",
       "stream": "stdout",
       "text": [
        "Setting up mysql-client-5.5 (5.5.31-0ubuntu0.12.04.1) ...\n"
       ]
      },
      {
       "output_type": "stream",
       "stream": "stdout",
       "text": [
        "[ubuntu@ec2-54-243-24-167.compute-1.amazonaws.com] out: "
       ]
      },
      {
       "output_type": "stream",
       "stream": "stdout",
       "text": [
        "Setting up mysql-client (5.5.31-0ubuntu0.12.04.1) ...\n"
       ]
      },
      {
       "output_type": "stream",
       "stream": "stdout",
       "text": [
        "[ubuntu@ec2-54-243-24-167.compute-1.amazonaws.com] out: "
       ]
      },
      {
       "output_type": "stream",
       "stream": "stdout",
       "text": [
        "Setting up python-lxml (2.3.2-1) ...\n"
       ]
      },
      {
       "output_type": "stream",
       "stream": "stdout",
       "text": [
        "[ubuntu@ec2-54-243-24-167.compute-1.amazonaws.com] out: "
       ]
      },
      {
       "output_type": "stream",
       "stream": "stdout",
       "text": [
        "Setting up python-mysqldb (1.2.3-1ubuntu0.1) ...\n"
       ]
      },
      {
       "output_type": "stream",
       "stream": "stdout",
       "text": [
        "[ubuntu@ec2-54-243-24-167.compute-1.amazonaws.com] out: "
       ]
      },
      {
       "output_type": "stream",
       "stream": "stdout",
       "text": [
        "Setting up python-setuptools (0.6.24-1ubuntu1) ...\n"
       ]
      },
      {
       "output_type": "stream",
       "stream": "stdout",
       "text": [
        "[ubuntu@ec2-54-243-24-167.compute-1.amazonaws.com] out: "
       ]
      },
      {
       "output_type": "stream",
       "stream": "stdout",
       "text": [
        "Setting up python-pip (1.0-1build1) ...\n"
       ]
      },
      {
       "output_type": "stream",
       "stream": "stdout",
       "text": [
        "[ubuntu@ec2-54-243-24-167.compute-1.amazonaws.com] out: "
       ]
      },
      {
       "output_type": "stream",
       "stream": "stdout",
       "text": [
        "Setting up python-virtualenv (1.7.1.2-1) ...\n"
       ]
      },
      {
       "output_type": "stream",
       "stream": "stdout",
       "text": [
        "[ubuntu@ec2-54-243-24-167.compute-1.amazonaws.com] out: "
       ]
      },
      {
       "output_type": "stream",
       "stream": "stdout",
       "text": [
        "Setting up redis-server (2:2.2.12-1build1) ...\n"
       ]
      },
      {
       "output_type": "stream",
       "stream": "stdout",
       "text": [
        "[ubuntu@ec2-54-243-24-167.compute-1.amazonaws.com] out: "
       ]
      },
      {
       "output_type": "stream",
       "stream": "stdout",
       "text": [
        "Starting redis-server: redis-server.\n"
       ]
      },
      {
       "output_type": "stream",
       "stream": "stdout",
       "text": [
        "[ubuntu@ec2-54-243-24-167.compute-1.amazonaws.com] out: "
       ]
      },
      {
       "output_type": "stream",
       "stream": "stdout",
       "text": [
        "Setting up ssl-cert (1.0.28ubuntu0.1) ...\n"
       ]
      },
      {
       "output_type": "stream",
       "stream": "stdout",
       "text": [
        "[ubuntu@ec2-54-243-24-167.compute-1.amazonaws.com] out: "
       ]
      },
      {
       "output_type": "stream",
       "stream": "stdout",
       "text": [
        "Processing triggers for libc-bin ...\n"
       ]
      },
      {
       "output_type": "stream",
       "stream": "stdout",
       "text": [
        "[ubuntu@ec2-54-243-24-167.compute-1.amazonaws.com] out: "
       ]
      },
      {
       "output_type": "stream",
       "stream": "stdout",
       "text": [
        "ldconfig deferred processing now taking place\n"
       ]
      },
      {
       "output_type": "stream",
       "stream": "stdout",
       "text": [
        "[ubuntu@ec2-54-243-24-167.compute-1.amazonaws.com] out: "
       ]
      },
      {
       "output_type": "stream",
       "stream": "stdout",
       "text": [
        "\n"
       ]
      },
      {
       "output_type": "stream",
       "stream": "stdout",
       "text": [
        "[ubuntu@ec2-54-243-24-167.compute-1.amazonaws.com] out: "
       ]
      },
      {
       "output_type": "stream",
       "stream": "stdout",
       "text": [
        "\n"
       ]
      },
      {
       "output_type": "stream",
       "stream": "stdout",
       "text": [
        "[ubuntu@ec2-54-243-24-167.compute-1.amazonaws.com] out: "
       ]
      },
      {
       "output_type": "stream",
       "stream": "stdout",
       "text": [
        "[  0%] Reading package lists"
       ]
      },
      {
       "output_type": "stream",
       "stream": "stdout",
       "text": [
        "\n"
       ]
      },
      {
       "output_type": "stream",
       "stream": "stdout",
       "text": [
        "[ubuntu@ec2-54-243-24-167.compute-1.amazonaws.com] out: "
       ]
      },
      {
       "output_type": "stream",
       "stream": "stdout",
       "text": [
        "                            \n"
       ]
      },
      {
       "output_type": "stream",
       "stream": "stdout",
       "text": [
        "[ubuntu@ec2-54-243-24-167.compute-1.amazonaws.com] out: "
       ]
      },
      {
       "output_type": "stream",
       "stream": "stdout",
       "text": [
        "\n"
       ]
      },
      {
       "output_type": "stream",
       "stream": "stdout",
       "text": [
        "[ubuntu@ec2-54-243-24-167.compute-1.amazonaws.com] out: "
       ]
      },
      {
       "output_type": "stream",
       "stream": "stdout",
       "text": [
        "\n"
       ]
      },
      {
       "output_type": "stream",
       "stream": "stdout",
       "text": [
        "[ubuntu@ec2-54-243-24-167.compute-1.amazonaws.com] out: "
       ]
      },
      {
       "output_type": "stream",
       "stream": "stdout",
       "text": [
        "[  0%] Building dependency tree"
       ]
      },
      {
       "output_type": "stream",
       "stream": "stdout",
       "text": [
        "\n"
       ]
      },
      {
       "output_type": "stream",
       "stream": "stdout",
       "text": [
        "[ubuntu@ec2-54-243-24-167.compute-1.amazonaws.com] out: "
       ]
      },
      {
       "output_type": "stream",
       "stream": "stdout",
       "text": [
        "                               \n"
       ]
      },
      {
       "output_type": "stream",
       "stream": "stdout",
       "text": [
        "[ubuntu@ec2-54-243-24-167.compute-1.amazonaws.com] out: "
       ]
      },
      {
       "output_type": "stream",
       "stream": "stdout",
       "text": [
        "[100%] Building dependency tree"
       ]
      },
      {
       "output_type": "stream",
       "stream": "stdout",
       "text": [
        "\n"
       ]
      },
      {
       "output_type": "stream",
       "stream": "stdout",
       "text": [
        "[ubuntu@ec2-54-243-24-167.compute-1.amazonaws.com] out: "
       ]
      },
      {
       "output_type": "stream",
       "stream": "stdout",
       "text": [
        "                               \n"
       ]
      },
      {
       "output_type": "stream",
       "stream": "stdout",
       "text": [
        "[ubuntu@ec2-54-243-24-167.compute-1.amazonaws.com] out: "
       ]
      },
      {
       "output_type": "stream",
       "stream": "stdout",
       "text": [
        "[  0%] Reading state information\n"
       ]
      },
      {
       "output_type": "stream",
       "stream": "stdout",
       "text": [
        "[ubuntu@ec2-54-243-24-167.compute-1.amazonaws.com] out: "
       ]
      },
      {
       "output_type": "stream",
       "stream": "stdout",
       "text": [
        "                                \n"
       ]
      },
      {
       "output_type": "stream",
       "stream": "stdout",
       "text": [
        "[ubuntu@ec2-54-243-24-167.compute-1.amazonaws.com] out: "
       ]
      },
      {
       "output_type": "stream",
       "stream": "stdout",
       "text": [
        "[100%] Reading state information"
       ]
      },
      {
       "output_type": "stream",
       "stream": "stdout",
       "text": [
        "\n"
       ]
      },
      {
       "output_type": "stream",
       "stream": "stdout",
       "text": [
        "[ubuntu@ec2-54-243-24-167.compute-1.amazonaws.com] out: "
       ]
      },
      {
       "output_type": "stream",
       "stream": "stdout",
       "text": [
        "                                \n"
       ]
      },
      {
       "output_type": "stream",
       "stream": "stdout",
       "text": [
        "[ubuntu@ec2-54-243-24-167.compute-1.amazonaws.com] out: "
       ]
      },
      {
       "output_type": "stream",
       "stream": "stdout",
       "text": [
        "\n"
       ]
      },
      {
       "output_type": "stream",
       "stream": "stdout",
       "text": [
        "[ubuntu@ec2-54-243-24-167.compute-1.amazonaws.com] out: "
       ]
      },
      {
       "output_type": "stream",
       "stream": "stdout",
       "text": [
        "\n"
       ]
      },
      {
       "output_type": "stream",
       "stream": "stdout",
       "text": [
        "[ubuntu@ec2-54-243-24-167.compute-1.amazonaws.com] out: "
       ]
      },
      {
       "output_type": "stream",
       "stream": "stdout",
       "text": [
        "[  0%] Reading extended state information"
       ]
      },
      {
       "output_type": "stream",
       "stream": "stdout",
       "text": [
        "\n"
       ]
      },
      {
       "output_type": "stream",
       "stream": "stdout",
       "text": [
        "[ubuntu@ec2-54-243-24-167.compute-1.amazonaws.com] out: "
       ]
      },
      {
       "output_type": "stream",
       "stream": "stdout",
       "text": [
        "                                         \n"
       ]
      },
      {
       "output_type": "stream",
       "stream": "stdout",
       "text": [
        "[ubuntu@ec2-54-243-24-167.compute-1.amazonaws.com] out: "
       ]
      },
      {
       "output_type": "stream",
       "stream": "stdout",
       "text": [
        "\n"
       ]
      },
      {
       "output_type": "stream",
       "stream": "stdout",
       "text": [
        "[ubuntu@ec2-54-243-24-167.compute-1.amazonaws.com] out: "
       ]
      },
      {
       "output_type": "stream",
       "stream": "stdout",
       "text": [
        "\n"
       ]
      },
      {
       "output_type": "stream",
       "stream": "stdout",
       "text": [
        "[ubuntu@ec2-54-243-24-167.compute-1.amazonaws.com] out: "
       ]
      },
      {
       "output_type": "stream",
       "stream": "stdout",
       "text": [
        "[  0%] Initializing package states"
       ]
      },
      {
       "output_type": "stream",
       "stream": "stdout",
       "text": [
        "\n"
       ]
      },
      {
       "output_type": "stream",
       "stream": "stdout",
       "text": [
        "[ubuntu@ec2-54-243-24-167.compute-1.amazonaws.com] out: "
       ]
      },
      {
       "output_type": "stream",
       "stream": "stdout",
       "text": [
        "                                  \n"
       ]
      },
      {
       "output_type": "stream",
       "stream": "stdout",
       "text": [
        "[ubuntu@ec2-54-243-24-167.compute-1.amazonaws.com] out: "
       ]
      },
      {
       "output_type": "stream",
       "stream": "stdout",
       "text": [
        "[100%] Initializing package states"
       ]
      },
      {
       "output_type": "stream",
       "stream": "stdout",
       "text": [
        "\n"
       ]
      },
      {
       "output_type": "stream",
       "stream": "stdout",
       "text": [
        "[ubuntu@ec2-54-243-24-167.compute-1.amazonaws.com] out: "
       ]
      },
      {
       "output_type": "stream",
       "stream": "stdout",
       "text": [
        "                                  \n"
       ]
      },
      {
       "output_type": "stream",
       "stream": "stdout",
       "text": [
        "[ubuntu@ec2-54-243-24-167.compute-1.amazonaws.com] out: "
       ]
      },
      {
       "output_type": "stream",
       "stream": "stdout",
       "text": [
        "\n"
       ]
      },
      {
       "output_type": "stream",
       "stream": "stdout",
       "text": [
        "[ubuntu@ec2-54-243-24-167.compute-1.amazonaws.com] out: "
       ]
      },
      {
       "output_type": "stream",
       "stream": "stdout",
       "text": [
        "\n"
       ]
      },
      {
       "output_type": "stream",
       "stream": "stdout",
       "text": [
        "[ubuntu@ec2-54-243-24-167.compute-1.amazonaws.com] out: "
       ]
      },
      {
       "output_type": "stream",
       "stream": "stdout",
       "text": [
        "[  0%] Writing extended state information"
       ]
      },
      {
       "output_type": "stream",
       "stream": "stdout",
       "text": [
        "\n"
       ]
      },
      {
       "output_type": "stream",
       "stream": "stdout",
       "text": [
        "[ubuntu@ec2-54-243-24-167.compute-1.amazonaws.com] out: "
       ]
      },
      {
       "output_type": "stream",
       "stream": "stdout",
       "text": [
        "                                         \n"
       ]
      },
      {
       "output_type": "stream",
       "stream": "stdout",
       "text": [
        "[ubuntu@ec2-54-243-24-167.compute-1.amazonaws.com] out: "
       ]
      },
      {
       "output_type": "stream",
       "stream": "stdout",
       "text": [
        "\n"
       ]
      },
      {
       "output_type": "stream",
       "stream": "stdout",
       "text": [
        "[ubuntu@ec2-54-243-24-167.compute-1.amazonaws.com] out: "
       ]
      },
      {
       "output_type": "stream",
       "stream": "stdout",
       "text": [
        "\n"
       ]
      },
      {
       "output_type": "stream",
       "stream": "stdout",
       "text": [
        "\n",
        "[ubuntu@ec2-54-243-24-167.compute-1.amazonaws.com] sudo: yes | aptitude install python-dev\n",
        "[ubuntu@ec2-54-243-24-167.compute-1.amazonaws.com] out: "
       ]
      },
      {
       "output_type": "stream",
       "stream": "stdout",
       "text": [
        "\n"
       ]
      },
      {
       "output_type": "stream",
       "stream": "stdout",
       "text": [
        "[ubuntu@ec2-54-243-24-167.compute-1.amazonaws.com] out: "
       ]
      },
      {
       "output_type": "stream",
       "stream": "stdout",
       "text": [
        "\n"
       ]
      },
      {
       "output_type": "stream",
       "stream": "stdout",
       "text": [
        "[ubuntu@ec2-54-243-24-167.compute-1.amazonaws.com] out: "
       ]
      },
      {
       "output_type": "stream",
       "stream": "stdout",
       "text": [
        "[  0%] Reading package lists\n"
       ]
      },
      {
       "output_type": "stream",
       "stream": "stdout",
       "text": [
        "[ubuntu@ec2-54-243-24-167.compute-1.amazonaws.com] out: "
       ]
      },
      {
       "output_type": "stream",
       "stream": "stdout",
       "text": [
        "                            \n"
       ]
      },
      {
       "output_type": "stream",
       "stream": "stdout",
       "text": [
        "[ubuntu@ec2-54-243-24-167.compute-1.amazonaws.com] out: "
       ]
      },
      {
       "output_type": "stream",
       "stream": "stdout",
       "text": [
        "[100%] Reading package lists\n"
       ]
      },
      {
       "output_type": "stream",
       "stream": "stdout",
       "text": [
        "[ubuntu@ec2-54-243-24-167.compute-1.amazonaws.com] out: "
       ]
      },
      {
       "output_type": "stream",
       "stream": "stdout",
       "text": [
        "                            \n"
       ]
      },
      {
       "output_type": "stream",
       "stream": "stdout",
       "text": [
        "[ubuntu@ec2-54-243-24-167.compute-1.amazonaws.com] out: "
       ]
      },
      {
       "output_type": "stream",
       "stream": "stdout",
       "text": [
        "\n"
       ]
      },
      {
       "output_type": "stream",
       "stream": "stdout",
       "text": [
        "[ubuntu@ec2-54-243-24-167.compute-1.amazonaws.com] out: "
       ]
      },
      {
       "output_type": "stream",
       "stream": "stdout",
       "text": [
        "\n"
       ]
      },
      {
       "output_type": "stream",
       "stream": "stdout",
       "text": [
        "[ubuntu@ec2-54-243-24-167.compute-1.amazonaws.com] out: "
       ]
      },
      {
       "output_type": "stream",
       "stream": "stdout",
       "text": [
        "[  0%] Building dependency tree"
       ]
      },
      {
       "output_type": "stream",
       "stream": "stdout",
       "text": [
        "\n"
       ]
      },
      {
       "output_type": "stream",
       "stream": "stdout",
       "text": [
        "[ubuntu@ec2-54-243-24-167.compute-1.amazonaws.com] out: "
       ]
      },
      {
       "output_type": "stream",
       "stream": "stdout",
       "text": [
        "                               \n"
       ]
      },
      {
       "output_type": "stream",
       "stream": "stdout",
       "text": [
        "[ubuntu@ec2-54-243-24-167.compute-1.amazonaws.com] out: "
       ]
      },
      {
       "output_type": "stream",
       "stream": "stdout",
       "text": [
        "[100%] Building dependency tree"
       ]
      },
      {
       "output_type": "stream",
       "stream": "stdout",
       "text": [
        "\n"
       ]
      },
      {
       "output_type": "stream",
       "stream": "stdout",
       "text": [
        "[ubuntu@ec2-54-243-24-167.compute-1.amazonaws.com] out: "
       ]
      },
      {
       "output_type": "stream",
       "stream": "stdout",
       "text": [
        "                               \n"
       ]
      },
      {
       "output_type": "stream",
       "stream": "stdout",
       "text": [
        "[ubuntu@ec2-54-243-24-167.compute-1.amazonaws.com] out: "
       ]
      },
      {
       "output_type": "stream",
       "stream": "stdout",
       "text": [
        "[  0%] Reading state information\n"
       ]
      },
      {
       "output_type": "stream",
       "stream": "stdout",
       "text": [
        "[ubuntu@ec2-54-243-24-167.compute-1.amazonaws.com] out: "
       ]
      },
      {
       "output_type": "stream",
       "stream": "stdout",
       "text": [
        "                                \n"
       ]
      },
      {
       "output_type": "stream",
       "stream": "stdout",
       "text": [
        "[ubuntu@ec2-54-243-24-167.compute-1.amazonaws.com] out: "
       ]
      },
      {
       "output_type": "stream",
       "stream": "stdout",
       "text": [
        "[100%] Reading state information\n"
       ]
      },
      {
       "output_type": "stream",
       "stream": "stdout",
       "text": [
        "[ubuntu@ec2-54-243-24-167.compute-1.amazonaws.com] out: "
       ]
      },
      {
       "output_type": "stream",
       "stream": "stdout",
       "text": [
        "                                \n"
       ]
      },
      {
       "output_type": "stream",
       "stream": "stdout",
       "text": [
        "[ubuntu@ec2-54-243-24-167.compute-1.amazonaws.com] out: "
       ]
      },
      {
       "output_type": "stream",
       "stream": "stdout",
       "text": [
        "\n"
       ]
      },
      {
       "output_type": "stream",
       "stream": "stdout",
       "text": [
        "[ubuntu@ec2-54-243-24-167.compute-1.amazonaws.com] out: "
       ]
      },
      {
       "output_type": "stream",
       "stream": "stdout",
       "text": [
        "\n"
       ]
      },
      {
       "output_type": "stream",
       "stream": "stdout",
       "text": [
        "[ubuntu@ec2-54-243-24-167.compute-1.amazonaws.com] out: "
       ]
      },
      {
       "output_type": "stream",
       "stream": "stdout",
       "text": [
        "[  0%] Reading extended state information"
       ]
      },
      {
       "output_type": "stream",
       "stream": "stdout",
       "text": [
        "\n"
       ]
      },
      {
       "output_type": "stream",
       "stream": "stdout",
       "text": [
        "[ubuntu@ec2-54-243-24-167.compute-1.amazonaws.com] out: "
       ]
      },
      {
       "output_type": "stream",
       "stream": "stdout",
       "text": [
        "                                         \n"
       ]
      },
      {
       "output_type": "stream",
       "stream": "stdout",
       "text": [
        "[ubuntu@ec2-54-243-24-167.compute-1.amazonaws.com] out: "
       ]
      },
      {
       "output_type": "stream",
       "stream": "stdout",
       "text": [
        "\n"
       ]
      },
      {
       "output_type": "stream",
       "stream": "stdout",
       "text": [
        "[ubuntu@ec2-54-243-24-167.compute-1.amazonaws.com] out: "
       ]
      },
      {
       "output_type": "stream",
       "stream": "stdout",
       "text": [
        "\n"
       ]
      },
      {
       "output_type": "stream",
       "stream": "stdout",
       "text": [
        "[ubuntu@ec2-54-243-24-167.compute-1.amazonaws.com] out: "
       ]
      },
      {
       "output_type": "stream",
       "stream": "stdout",
       "text": [
        "[  0%] Initializing package states"
       ]
      },
      {
       "output_type": "stream",
       "stream": "stdout",
       "text": [
        "\n"
       ]
      },
      {
       "output_type": "stream",
       "stream": "stdout",
       "text": [
        "[ubuntu@ec2-54-243-24-167.compute-1.amazonaws.com] out: "
       ]
      },
      {
       "output_type": "stream",
       "stream": "stdout",
       "text": [
        "                                  \n"
       ]
      },
      {
       "output_type": "stream",
       "stream": "stdout",
       "text": [
        "[ubuntu@ec2-54-243-24-167.compute-1.amazonaws.com] out: "
       ]
      },
      {
       "output_type": "stream",
       "stream": "stdout",
       "text": [
        "The following NEW packages will be installed:\n"
       ]
      },
      {
       "output_type": "stream",
       "stream": "stdout",
       "text": [
        "[ubuntu@ec2-54-243-24-167.compute-1.amazonaws.com] out: "
       ]
      },
      {
       "output_type": "stream",
       "stream": "stdout",
       "text": [
        "  binutils{a} cpp{a} cpp-4.6{a} gcc{a} gcc-4.6{a} libc-dev-bin{a} \n"
       ]
      },
      {
       "output_type": "stream",
       "stream": "stdout",
       "text": [
        "[ubuntu@ec2-54-243-24-167.compute-1.amazonaws.com] out: "
       ]
      },
      {
       "output_type": "stream",
       "stream": "stdout",
       "text": [
        "  libc6-dev{a} libexpat1-dev{a} libgomp1{a} libmpc2{a} libmpfr4{a} \n"
       ]
      },
      {
       "output_type": "stream",
       "stream": "stdout",
       "text": [
        "[ubuntu@ec2-54-243-24-167.compute-1.amazonaws.com] out: "
       ]
      },
      {
       "output_type": "stream",
       "stream": "stdout",
       "text": [
        "  libquadmath0{a} libssl-dev{a} libssl-doc{a} linux-libc-dev{a} \n"
       ]
      },
      {
       "output_type": "stream",
       "stream": "stdout",
       "text": [
        "[ubuntu@ec2-54-243-24-167.compute-1.amazonaws.com] out: "
       ]
      },
      {
       "output_type": "stream",
       "stream": "stdout",
       "text": [
        "  manpages-dev{a} python-dev python2.7-dev{a} zlib1g-dev{a} \n"
       ]
      },
      {
       "output_type": "stream",
       "stream": "stdout",
       "text": [
        "[ubuntu@ec2-54-243-24-167.compute-1.amazonaws.com] out: "
       ]
      },
      {
       "output_type": "stream",
       "stream": "stdout",
       "text": [
        "0 packages upgraded, 19 newly installed, 0 to remove and 0 not upgraded.\n"
       ]
      },
      {
       "output_type": "stream",
       "stream": "stdout",
       "text": [
        "[ubuntu@ec2-54-243-24-167.compute-1.amazonaws.com] out: "
       ]
      },
      {
       "output_type": "stream",
       "stream": "stdout",
       "text": [
        "Need to get 53.6 MB of archives. After unpacking 103 MB will be used.\n"
       ]
      },
      {
       "output_type": "stream",
       "stream": "stdout",
       "text": [
        "[ubuntu@ec2-54-243-24-167.compute-1.amazonaws.com] out: "
       ]
      },
      {
       "output_type": "stream",
       "stream": "stdout",
       "text": [
        "Do you want to continue? [Y/n/?] \n"
       ]
      },
      {
       "output_type": "stream",
       "stream": "stdout",
       "text": [
        "[ubuntu@ec2-54-243-24-167.compute-1.amazonaws.com] out: "
       ]
      },
      {
       "output_type": "stream",
       "stream": "stdout",
       "text": [
        "\n"
       ]
      },
      {
       "output_type": "stream",
       "stream": "stdout",
       "text": [
        "[ubuntu@ec2-54-243-24-167.compute-1.amazonaws.com] out: "
       ]
      },
      {
       "output_type": "stream",
       "stream": "stdout",
       "text": [
        "[  0%] Writing extended state information\n"
       ]
      },
      {
       "output_type": "stream",
       "stream": "stdout",
       "text": [
        "[ubuntu@ec2-54-243-24-167.compute-1.amazonaws.com] out: "
       ]
      },
      {
       "output_type": "stream",
       "stream": "stdout",
       "text": [
        "                                         \n"
       ]
      },
      {
       "output_type": "stream",
       "stream": "stdout",
       "text": [
        "[ubuntu@ec2-54-243-24-167.compute-1.amazonaws.com] out: "
       ]
      },
      {
       "output_type": "stream",
       "stream": "stdout",
       "text": [
        "[100%] Writing extended state information"
       ]
      },
      {
       "output_type": "stream",
       "stream": "stdout",
       "text": [
        "\n"
       ]
      },
      {
       "output_type": "stream",
       "stream": "stdout",
       "text": [
        "[ubuntu@ec2-54-243-24-167.compute-1.amazonaws.com] out: "
       ]
      },
      {
       "output_type": "stream",
       "stream": "stdout",
       "text": [
        "                                         \n"
       ]
      },
      {
       "output_type": "stream",
       "stream": "stdout",
       "text": [
        "[ubuntu@ec2-54-243-24-167.compute-1.amazonaws.com] out: "
       ]
      },
      {
       "output_type": "stream",
       "stream": "stdout",
       "text": [
        "\n"
       ]
      },
      {
       "output_type": "stream",
       "stream": "stdout",
       "text": [
        "[ubuntu@ec2-54-243-24-167.compute-1.amazonaws.com] out: "
       ]
      },
      {
       "output_type": "stream",
       "stream": "stdout",
       "text": [
        "\n"
       ]
      },
      {
       "output_type": "stream",
       "stream": "stdout",
       "text": [
        "[ubuntu@ec2-54-243-24-167.compute-1.amazonaws.com] out: "
       ]
      },
      {
       "output_type": "stream",
       "stream": "stdout",
       "text": [
        "0% [Working]"
       ]
      },
      {
       "output_type": "stream",
       "stream": "stdout",
       "text": [
        "\n"
       ]
      },
      {
       "output_type": "stream",
       "stream": "stdout",
       "text": [
        "[ubuntu@ec2-54-243-24-167.compute-1.amazonaws.com] out: "
       ]
      },
      {
       "output_type": "stream",
       "stream": "stdout",
       "text": [
        "            \n"
       ]
      },
      {
       "output_type": "stream",
       "stream": "stdout",
       "text": [
        "[ubuntu@ec2-54-243-24-167.compute-1.amazonaws.com] out: "
       ]
      },
      {
       "output_type": "stream",
       "stream": "stdout",
       "text": [
        "Get: 1 http://us-east-1.ec2.archive.ubuntu.com/ubuntu/ precise/main libgomp1 amd64 4.6.3-1ubuntu5 [25.5 kB]\n"
       ]
      },
      {
       "output_type": "stream",
       "stream": "stdout",
       "text": [
        "[ubuntu@ec2-54-243-24-167.compute-1.amazonaws.com] out: "
       ]
      },
      {
       "output_type": "stream",
       "stream": "stdout",
       "text": [
        "\n"
       ]
      },
      {
       "output_type": "stream",
       "stream": "stdout",
       "text": [
        "[ubuntu@ec2-54-243-24-167.compute-1.amazonaws.com] out: "
       ]
      },
      {
       "output_type": "stream",
       "stream": "stdout",
       "text": [
        "\n"
       ]
      },
      {
       "output_type": "stream",
       "stream": "stdout",
       "text": [
        "[ubuntu@ec2-54-243-24-167.compute-1.amazonaws.com] out: "
       ]
      },
      {
       "output_type": "stream",
       "stream": "stdout",
       "text": [
        "0% [1 libgomp1 0 B/25.5 kB 0%]\n"
       ]
      },
      {
       "output_type": "stream",
       "stream": "stdout",
       "text": [
        "[ubuntu@ec2-54-243-24-167.compute-1.amazonaws.com] out: "
       ]
      },
      {
       "output_type": "stream",
       "stream": "stdout",
       "text": [
        "                              \n"
       ]
      },
      {
       "output_type": "stream",
       "stream": "stdout",
       "text": [
        "[ubuntu@ec2-54-243-24-167.compute-1.amazonaws.com] out: "
       ]
      },
      {
       "output_type": "stream",
       "stream": "stdout",
       "text": [
        "0% [Working]"
       ]
      },
      {
       "output_type": "stream",
       "stream": "stdout",
       "text": [
        "\n"
       ]
      },
      {
       "output_type": "stream",
       "stream": "stdout",
       "text": [
        "[ubuntu@ec2-54-243-24-167.compute-1.amazonaws.com] out: "
       ]
      },
      {
       "output_type": "stream",
       "stream": "stdout",
       "text": [
        "            \n"
       ]
      },
      {
       "output_type": "stream",
       "stream": "stdout",
       "text": [
        "[ubuntu@ec2-54-243-24-167.compute-1.amazonaws.com] out: "
       ]
      },
      {
       "output_type": "stream",
       "stream": "stdout",
       "text": [
        "Get: 2 http://us-east-1.ec2.archive.ubuntu.com/ubuntu/ precise/main libmpfr4 amd64 3.1.0-3ubuntu2 [201 kB]\n"
       ]
      },
      {
       "output_type": "stream",
       "stream": "stdout",
       "text": [
        "[ubuntu@ec2-54-243-24-167.compute-1.amazonaws.com] out: "
       ]
      },
      {
       "output_type": "stream",
       "stream": "stdout",
       "text": [
        "\n"
       ]
      },
      {
       "output_type": "stream",
       "stream": "stdout",
       "text": [
        "[ubuntu@ec2-54-243-24-167.compute-1.amazonaws.com] out: "
       ]
      },
      {
       "output_type": "stream",
       "stream": "stdout",
       "text": [
        "\n"
       ]
      },
      {
       "output_type": "stream",
       "stream": "stdout",
       "text": [
        "[ubuntu@ec2-54-243-24-167.compute-1.amazonaws.com] out: "
       ]
      },
      {
       "output_type": "stream",
       "stream": "stdout",
       "text": [
        "0% [2 libmpfr4 0 B/201 kB 0%]"
       ]
      },
      {
       "output_type": "stream",
       "stream": "stdout",
       "text": [
        "\n"
       ]
      },
      {
       "output_type": "stream",
       "stream": "stdout",
       "text": [
        "[ubuntu@ec2-54-243-24-167.compute-1.amazonaws.com] out: "
       ]
      },
      {
       "output_type": "stream",
       "stream": "stdout",
       "text": [
        "                             \n"
       ]
      },
      {
       "output_type": "stream",
       "stream": "stdout",
       "text": [
        "[ubuntu@ec2-54-243-24-167.compute-1.amazonaws.com] out: "
       ]
      },
      {
       "output_type": "stream",
       "stream": "stdout",
       "text": [
        "0% [Working]"
       ]
      },
      {
       "output_type": "stream",
       "stream": "stdout",
       "text": [
        "\n"
       ]
      },
      {
       "output_type": "stream",
       "stream": "stdout",
       "text": [
        "[ubuntu@ec2-54-243-24-167.compute-1.amazonaws.com] out: "
       ]
      },
      {
       "output_type": "stream",
       "stream": "stdout",
       "text": [
        "            \n"
       ]
      },
      {
       "output_type": "stream",
       "stream": "stdout",
       "text": [
        "[ubuntu@ec2-54-243-24-167.compute-1.amazonaws.com] out: "
       ]
      },
      {
       "output_type": "stream",
       "stream": "stdout",
       "text": [
        "Get: 3 http://us-east-1.ec2.archive.ubuntu.com/ubuntu/ precise/main libquadmath0 amd64 4.6.3-1ubuntu5 [126 kB]\n"
       ]
      },
      {
       "output_type": "stream",
       "stream": "stdout",
       "text": [
        "[ubuntu@ec2-54-243-24-167.compute-1.amazonaws.com] out: "
       ]
      },
      {
       "output_type": "stream",
       "stream": "stdout",
       "text": [
        "\n"
       ]
      },
      {
       "output_type": "stream",
       "stream": "stdout",
       "text": [
        "[ubuntu@ec2-54-243-24-167.compute-1.amazonaws.com] out: "
       ]
      },
      {
       "output_type": "stream",
       "stream": "stdout",
       "text": [
        "\n"
       ]
      },
      {
       "output_type": "stream",
       "stream": "stdout",
       "text": [
        "[ubuntu@ec2-54-243-24-167.compute-1.amazonaws.com] out: "
       ]
      },
      {
       "output_type": "stream",
       "stream": "stdout",
       "text": [
        "0% [3 libquadmath0 0 B/126 kB 0%]\n"
       ]
      },
      {
       "output_type": "stream",
       "stream": "stdout",
       "text": [
        "[ubuntu@ec2-54-243-24-167.compute-1.amazonaws.com] out: "
       ]
      },
      {
       "output_type": "stream",
       "stream": "stdout",
       "text": [
        "                                 \n"
       ]
      },
      {
       "output_type": "stream",
       "stream": "stdout",
       "text": [
        "[ubuntu@ec2-54-243-24-167.compute-1.amazonaws.com] out: "
       ]
      },
      {
       "output_type": "stream",
       "stream": "stdout",
       "text": [
        "1% [Working]"
       ]
      },
      {
       "output_type": "stream",
       "stream": "stdout",
       "text": [
        "\n"
       ]
      },
      {
       "output_type": "stream",
       "stream": "stdout",
       "text": [
        "[ubuntu@ec2-54-243-24-167.compute-1.amazonaws.com] out: "
       ]
      },
      {
       "output_type": "stream",
       "stream": "stdout",
       "text": [
        "            \n"
       ]
      },
      {
       "output_type": "stream",
       "stream": "stdout",
       "text": [
        "[ubuntu@ec2-54-243-24-167.compute-1.amazonaws.com] out: "
       ]
      },
      {
       "output_type": "stream",
       "stream": "stdout",
       "text": [
        "Get: 4 http://us-east-1.ec2.archive.ubuntu.com/ubuntu/ precise/main libmpc2 amd64 0.9-4 [39.5 kB]\n"
       ]
      },
      {
       "output_type": "stream",
       "stream": "stdout",
       "text": [
        "[ubuntu@ec2-54-243-24-167.compute-1.amazonaws.com] out: "
       ]
      },
      {
       "output_type": "stream",
       "stream": "stdout",
       "text": [
        "\n"
       ]
      },
      {
       "output_type": "stream",
       "stream": "stdout",
       "text": [
        "[ubuntu@ec2-54-243-24-167.compute-1.amazonaws.com] out: "
       ]
      },
      {
       "output_type": "stream",
       "stream": "stdout",
       "text": [
        "\n"
       ]
      },
      {
       "output_type": "stream",
       "stream": "stdout",
       "text": [
        "[ubuntu@ec2-54-243-24-167.compute-1.amazonaws.com] out: "
       ]
      },
      {
       "output_type": "stream",
       "stream": "stdout",
       "text": [
        "1% [4 libmpc2 0 B/39.5 kB 0%]"
       ]
      },
      {
       "output_type": "stream",
       "stream": "stdout",
       "text": [
        "\n"
       ]
      },
      {
       "output_type": "stream",
       "stream": "stdout",
       "text": [
        "[ubuntu@ec2-54-243-24-167.compute-1.amazonaws.com] out: "
       ]
      },
      {
       "output_type": "stream",
       "stream": "stdout",
       "text": [
        "                             \n"
       ]
      },
      {
       "output_type": "stream",
       "stream": "stdout",
       "text": [
        "[ubuntu@ec2-54-243-24-167.compute-1.amazonaws.com] out: "
       ]
      },
      {
       "output_type": "stream",
       "stream": "stdout",
       "text": [
        "1% [Working]"
       ]
      },
      {
       "output_type": "stream",
       "stream": "stdout",
       "text": [
        "\n"
       ]
      },
      {
       "output_type": "stream",
       "stream": "stdout",
       "text": [
        "[ubuntu@ec2-54-243-24-167.compute-1.amazonaws.com] out: "
       ]
      },
      {
       "output_type": "stream",
       "stream": "stdout",
       "text": [
        "            \n"
       ]
      },
      {
       "output_type": "stream",
       "stream": "stdout",
       "text": [
        "[ubuntu@ec2-54-243-24-167.compute-1.amazonaws.com] out: "
       ]
      },
      {
       "output_type": "stream",
       "stream": "stdout",
       "text": [
        "Get: 5 http://us-east-1.ec2.archive.ubuntu.com/ubuntu/ precise/main binutils amd64 2.22-6ubuntu1 [2,643 kB]\n"
       ]
      },
      {
       "output_type": "stream",
       "stream": "stdout",
       "text": [
        "[ubuntu@ec2-54-243-24-167.compute-1.amazonaws.com] out: "
       ]
      },
      {
       "output_type": "stream",
       "stream": "stdout",
       "text": [
        "\n"
       ]
      },
      {
       "output_type": "stream",
       "stream": "stdout",
       "text": [
        "[ubuntu@ec2-54-243-24-167.compute-1.amazonaws.com] out: "
       ]
      },
      {
       "output_type": "stream",
       "stream": "stdout",
       "text": [
        "\n"
       ]
      },
      {
       "output_type": "stream",
       "stream": "stdout",
       "text": [
        "[ubuntu@ec2-54-243-24-167.compute-1.amazonaws.com] out: "
       ]
      },
      {
       "output_type": "stream",
       "stream": "stdout",
       "text": [
        "1% [5 binutils 0 B/2,643 kB 0%]"
       ]
      },
      {
       "output_type": "stream",
       "stream": "stdout",
       "text": [
        "\n"
       ]
      },
      {
       "output_type": "stream",
       "stream": "stdout",
       "text": [
        "[ubuntu@ec2-54-243-24-167.compute-1.amazonaws.com] out: "
       ]
      },
      {
       "output_type": "stream",
       "stream": "stdout",
       "text": [
        "                               \n"
       ]
      },
      {
       "output_type": "stream",
       "stream": "stdout",
       "text": [
        "[ubuntu@ec2-54-243-24-167.compute-1.amazonaws.com] out: "
       ]
      },
      {
       "output_type": "stream",
       "stream": "stdout",
       "text": [
        "6% [Working]"
       ]
      },
      {
       "output_type": "stream",
       "stream": "stdout",
       "text": [
        "\n"
       ]
      },
      {
       "output_type": "stream",
       "stream": "stdout",
       "text": [
        "[ubuntu@ec2-54-243-24-167.compute-1.amazonaws.com] out: "
       ]
      },
      {
       "output_type": "stream",
       "stream": "stdout",
       "text": [
        "            \n"
       ]
      },
      {
       "output_type": "stream",
       "stream": "stdout",
       "text": [
        "[ubuntu@ec2-54-243-24-167.compute-1.amazonaws.com] out: "
       ]
      },
      {
       "output_type": "stream",
       "stream": "stdout",
       "text": [
        "Get: 6 http://us-east-1.ec2.archive.ubuntu.com/ubuntu/ precise/main cpp-4.6 amd64 4.6.3-1ubuntu5 [4,836 kB]\n"
       ]
      },
      {
       "output_type": "stream",
       "stream": "stdout",
       "text": [
        "[ubuntu@ec2-54-243-24-167.compute-1.amazonaws.com] out: "
       ]
      },
      {
       "output_type": "stream",
       "stream": "stdout",
       "text": [
        "\n"
       ]
      },
      {
       "output_type": "stream",
       "stream": "stdout",
       "text": [
        "[ubuntu@ec2-54-243-24-167.compute-1.amazonaws.com] out: "
       ]
      },
      {
       "output_type": "stream",
       "stream": "stdout",
       "text": [
        "\n"
       ]
      },
      {
       "output_type": "stream",
       "stream": "stdout",
       "text": [
        "[ubuntu@ec2-54-243-24-167.compute-1.amazonaws.com] out: "
       ]
      },
      {
       "output_type": "stream",
       "stream": "stdout",
       "text": [
        "6% [6 cpp-4.6 0 B/4,836 kB 0%]"
       ]
      },
      {
       "output_type": "stream",
       "stream": "stdout",
       "text": [
        "\n"
       ]
      },
      {
       "output_type": "stream",
       "stream": "stdout",
       "text": [
        "[ubuntu@ec2-54-243-24-167.compute-1.amazonaws.com] out: "
       ]
      },
      {
       "output_type": "stream",
       "stream": "stdout",
       "text": [
        "                              \n"
       ]
      },
      {
       "output_type": "stream",
       "stream": "stdout",
       "text": [
        "[ubuntu@ec2-54-243-24-167.compute-1.amazonaws.com] out: "
       ]
      },
      {
       "output_type": "stream",
       "stream": "stdout",
       "text": [
        "12% [6 cpp-4.6 3,465 kB/4,836 kB 72%]"
       ]
      },
      {
       "output_type": "stream",
       "stream": "stdout",
       "text": [
        "\n"
       ]
      },
      {
       "output_type": "stream",
       "stream": "stdout",
       "text": [
        "[ubuntu@ec2-54-243-24-167.compute-1.amazonaws.com] out: "
       ]
      },
      {
       "output_type": "stream",
       "stream": "stdout",
       "text": [
        "                                     \n"
       ]
      },
      {
       "output_type": "stream",
       "stream": "stdout",
       "text": [
        "[ubuntu@ec2-54-243-24-167.compute-1.amazonaws.com] out: "
       ]
      },
      {
       "output_type": "stream",
       "stream": "stdout",
       "text": [
        "15% [Working]\n"
       ]
      },
      {
       "output_type": "stream",
       "stream": "stdout",
       "text": [
        "[ubuntu@ec2-54-243-24-167.compute-1.amazonaws.com] out: "
       ]
      },
      {
       "output_type": "stream",
       "stream": "stdout",
       "text": [
        "             \n"
       ]
      },
      {
       "output_type": "stream",
       "stream": "stdout",
       "text": [
        "[ubuntu@ec2-54-243-24-167.compute-1.amazonaws.com] out: "
       ]
      },
      {
       "output_type": "stream",
       "stream": "stdout",
       "text": [
        "Get: 7 http://us-east-1.ec2.archive.ubuntu.com/ubuntu/ precise/main cpp amd64 4:4.6.3-1ubuntu5 [27.6 kB]\n"
       ]
      },
      {
       "output_type": "stream",
       "stream": "stdout",
       "text": [
        "[ubuntu@ec2-54-243-24-167.compute-1.amazonaws.com] out: "
       ]
      },
      {
       "output_type": "stream",
       "stream": "stdout",
       "text": [
        "\n"
       ]
      },
      {
       "output_type": "stream",
       "stream": "stdout",
       "text": [
        "[ubuntu@ec2-54-243-24-167.compute-1.amazonaws.com] out: "
       ]
      },
      {
       "output_type": "stream",
       "stream": "stdout",
       "text": [
        "\n"
       ]
      },
      {
       "output_type": "stream",
       "stream": "stdout",
       "text": [
        "[ubuntu@ec2-54-243-24-167.compute-1.amazonaws.com] out: "
       ]
      },
      {
       "output_type": "stream",
       "stream": "stdout",
       "text": [
        "15% [7 cpp 0 B/27.6 kB 0%]\n"
       ]
      },
      {
       "output_type": "stream",
       "stream": "stdout",
       "text": [
        "[ubuntu@ec2-54-243-24-167.compute-1.amazonaws.com] out: "
       ]
      },
      {
       "output_type": "stream",
       "stream": "stdout",
       "text": [
        "                          \n"
       ]
      },
      {
       "output_type": "stream",
       "stream": "stdout",
       "text": [
        "[ubuntu@ec2-54-243-24-167.compute-1.amazonaws.com] out: "
       ]
      },
      {
       "output_type": "stream",
       "stream": "stdout",
       "text": [
        "15% [Working]"
       ]
      },
      {
       "output_type": "stream",
       "stream": "stdout",
       "text": [
        "\n"
       ]
      },
      {
       "output_type": "stream",
       "stream": "stdout",
       "text": [
        "[ubuntu@ec2-54-243-24-167.compute-1.amazonaws.com] out: "
       ]
      },
      {
       "output_type": "stream",
       "stream": "stdout",
       "text": [
        "             \n"
       ]
      },
      {
       "output_type": "stream",
       "stream": "stdout",
       "text": [
        "[ubuntu@ec2-54-243-24-167.compute-1.amazonaws.com] out: "
       ]
      },
      {
       "output_type": "stream",
       "stream": "stdout",
       "text": [
        "Get: 8 http://us-east-1.ec2.archive.ubuntu.com/ubuntu/ precise/main gcc-4.6 amd64 4.6.3-1ubuntu5 [7,572 kB]\n"
       ]
      },
      {
       "output_type": "stream",
       "stream": "stdout",
       "text": [
        "[ubuntu@ec2-54-243-24-167.compute-1.amazonaws.com] out: "
       ]
      },
      {
       "output_type": "stream",
       "stream": "stdout",
       "text": [
        "\n"
       ]
      },
      {
       "output_type": "stream",
       "stream": "stdout",
       "text": [
        "[ubuntu@ec2-54-243-24-167.compute-1.amazonaws.com] out: "
       ]
      },
      {
       "output_type": "stream",
       "stream": "stdout",
       "text": [
        "\n"
       ]
      },
      {
       "output_type": "stream",
       "stream": "stdout",
       "text": [
        "[ubuntu@ec2-54-243-24-167.compute-1.amazonaws.com] out: "
       ]
      },
      {
       "output_type": "stream",
       "stream": "stdout",
       "text": [
        "15% [8 gcc-4.6 0 B/7,572 kB 0%]"
       ]
      },
      {
       "output_type": "stream",
       "stream": "stdout",
       "text": [
        "\n"
       ]
      },
      {
       "output_type": "stream",
       "stream": "stdout",
       "text": [
        "[ubuntu@ec2-54-243-24-167.compute-1.amazonaws.com] out: "
       ]
      },
      {
       "output_type": "stream",
       "stream": "stdout",
       "text": [
        "                               \n"
       ]
      },
      {
       "output_type": "stream",
       "stream": "stdout",
       "text": [
        "[ubuntu@ec2-54-243-24-167.compute-1.amazonaws.com] out: "
       ]
      },
      {
       "output_type": "stream",
       "stream": "stdout",
       "text": [
        "29% [Working]"
       ]
      },
      {
       "output_type": "stream",
       "stream": "stdout",
       "text": [
        "\n"
       ]
      },
      {
       "output_type": "stream",
       "stream": "stdout",
       "text": [
        "[ubuntu@ec2-54-243-24-167.compute-1.amazonaws.com] out: "
       ]
      },
      {
       "output_type": "stream",
       "stream": "stdout",
       "text": [
        "             \n"
       ]
      },
      {
       "output_type": "stream",
       "stream": "stdout",
       "text": [
        "[ubuntu@ec2-54-243-24-167.compute-1.amazonaws.com] out: "
       ]
      },
      {
       "output_type": "stream",
       "stream": "stdout",
       "text": [
        "Get: 9 http://us-east-1.ec2.archive.ubuntu.com/ubuntu/ precise/main gcc amd64 4:4.6.3-1ubuntu5 [5,114 B]\n"
       ]
      },
      {
       "output_type": "stream",
       "stream": "stdout",
       "text": [
        "[ubuntu@ec2-54-243-24-167.compute-1.amazonaws.com] out: "
       ]
      },
      {
       "output_type": "stream",
       "stream": "stdout",
       "text": [
        "\n"
       ]
      },
      {
       "output_type": "stream",
       "stream": "stdout",
       "text": [
        "[ubuntu@ec2-54-243-24-167.compute-1.amazonaws.com] out: "
       ]
      },
      {
       "output_type": "stream",
       "stream": "stdout",
       "text": [
        "\n"
       ]
      },
      {
       "output_type": "stream",
       "stream": "stdout",
       "text": [
        "[ubuntu@ec2-54-243-24-167.compute-1.amazonaws.com] out: "
       ]
      },
      {
       "output_type": "stream",
       "stream": "stdout",
       "text": [
        "29% [9 gcc 0 B/5,114 B 0%]\n"
       ]
      },
      {
       "output_type": "stream",
       "stream": "stdout",
       "text": [
        "[ubuntu@ec2-54-243-24-167.compute-1.amazonaws.com] out: "
       ]
      },
      {
       "output_type": "stream",
       "stream": "stdout",
       "text": [
        "                          \n"
       ]
      },
      {
       "output_type": "stream",
       "stream": "stdout",
       "text": [
        "[ubuntu@ec2-54-243-24-167.compute-1.amazonaws.com] out: "
       ]
      },
      {
       "output_type": "stream",
       "stream": "stdout",
       "text": [
        "29% [Working]"
       ]
      },
      {
       "output_type": "stream",
       "stream": "stdout",
       "text": [
        "\n"
       ]
      },
      {
       "output_type": "stream",
       "stream": "stdout",
       "text": [
        "[ubuntu@ec2-54-243-24-167.compute-1.amazonaws.com] out: "
       ]
      },
      {
       "output_type": "stream",
       "stream": "stdout",
       "text": [
        "             \n"
       ]
      },
      {
       "output_type": "stream",
       "stream": "stdout",
       "text": [
        "[ubuntu@ec2-54-243-24-167.compute-1.amazonaws.com] out: "
       ]
      },
      {
       "output_type": "stream",
       "stream": "stdout",
       "text": [
        "Get: 10 http://us-east-1.ec2.archive.ubuntu.com/ubuntu/ precise-updates/main libc-dev-bin amd64 2.15-0ubuntu10.4 [84.5 kB]\n"
       ]
      },
      {
       "output_type": "stream",
       "stream": "stdout",
       "text": [
        "[ubuntu@ec2-54-243-24-167.compute-1.amazonaws.com] out: "
       ]
      },
      {
       "output_type": "stream",
       "stream": "stdout",
       "text": [
        "\n"
       ]
      },
      {
       "output_type": "stream",
       "stream": "stdout",
       "text": [
        "[ubuntu@ec2-54-243-24-167.compute-1.amazonaws.com] out: "
       ]
      },
      {
       "output_type": "stream",
       "stream": "stdout",
       "text": [
        "\n"
       ]
      },
      {
       "output_type": "stream",
       "stream": "stdout",
       "text": [
        "[ubuntu@ec2-54-243-24-167.compute-1.amazonaws.com] out: "
       ]
      },
      {
       "output_type": "stream",
       "stream": "stdout",
       "text": [
        "29% [10 libc-dev-bin 0 B/84.5 kB 0%]\n"
       ]
      },
      {
       "output_type": "stream",
       "stream": "stdout",
       "text": [
        "[ubuntu@ec2-54-243-24-167.compute-1.amazonaws.com] out: "
       ]
      },
      {
       "output_type": "stream",
       "stream": "stdout",
       "text": [
        "                                    \n"
       ]
      },
      {
       "output_type": "stream",
       "stream": "stdout",
       "text": [
        "[ubuntu@ec2-54-243-24-167.compute-1.amazonaws.com] out: "
       ]
      },
      {
       "output_type": "stream",
       "stream": "stdout",
       "text": [
        "29% [Working]"
       ]
      },
      {
       "output_type": "stream",
       "stream": "stdout",
       "text": [
        "\n"
       ]
      },
      {
       "output_type": "stream",
       "stream": "stdout",
       "text": [
        "[ubuntu@ec2-54-243-24-167.compute-1.amazonaws.com] out: "
       ]
      },
      {
       "output_type": "stream",
       "stream": "stdout",
       "text": [
        "             \n"
       ]
      },
      {
       "output_type": "stream",
       "stream": "stdout",
       "text": [
        "[ubuntu@ec2-54-243-24-167.compute-1.amazonaws.com] out: "
       ]
      },
      {
       "output_type": "stream",
       "stream": "stdout",
       "text": [
        "Get: 11 http://us-east-1.ec2.archive.ubuntu.com/ubuntu/ precise-updates/main linux-libc-dev amd64 3.2.0-44.69 [861 kB]\n"
       ]
      },
      {
       "output_type": "stream",
       "stream": "stdout",
       "text": [
        "[ubuntu@ec2-54-243-24-167.compute-1.amazonaws.com] out: "
       ]
      },
      {
       "output_type": "stream",
       "stream": "stdout",
       "text": [
        "\n"
       ]
      },
      {
       "output_type": "stream",
       "stream": "stdout",
       "text": [
        "[ubuntu@ec2-54-243-24-167.compute-1.amazonaws.com] out: "
       ]
      },
      {
       "output_type": "stream",
       "stream": "stdout",
       "text": [
        "\n"
       ]
      },
      {
       "output_type": "stream",
       "stream": "stdout",
       "text": [
        "[ubuntu@ec2-54-243-24-167.compute-1.amazonaws.com] out: "
       ]
      },
      {
       "output_type": "stream",
       "stream": "stdout",
       "text": [
        "29% [11 linux-libc-dev 0 B/861 kB 0%]"
       ]
      },
      {
       "output_type": "stream",
       "stream": "stdout",
       "text": [
        "\n"
       ]
      },
      {
       "output_type": "stream",
       "stream": "stdout",
       "text": [
        "[ubuntu@ec2-54-243-24-167.compute-1.amazonaws.com] out: "
       ]
      },
      {
       "output_type": "stream",
       "stream": "stdout",
       "text": [
        "                                     \n"
       ]
      },
      {
       "output_type": "stream",
       "stream": "stdout",
       "text": [
        "[ubuntu@ec2-54-243-24-167.compute-1.amazonaws.com] out: "
       ]
      },
      {
       "output_type": "stream",
       "stream": "stdout",
       "text": [
        "31% [Working]"
       ]
      },
      {
       "output_type": "stream",
       "stream": "stdout",
       "text": [
        "\n"
       ]
      },
      {
       "output_type": "stream",
       "stream": "stdout",
       "text": [
        "[ubuntu@ec2-54-243-24-167.compute-1.amazonaws.com] out: "
       ]
      },
      {
       "output_type": "stream",
       "stream": "stdout",
       "text": [
        "             \n"
       ]
      },
      {
       "output_type": "stream",
       "stream": "stdout",
       "text": [
        "[ubuntu@ec2-54-243-24-167.compute-1.amazonaws.com] out: "
       ]
      },
      {
       "output_type": "stream",
       "stream": "stdout",
       "text": [
        "Get: 12 http://us-east-1.ec2.archive.ubuntu.com/ubuntu/ precise-updates/main libc6-dev amd64 2.15-0ubuntu10.4 [2,945 kB]\n"
       ]
      },
      {
       "output_type": "stream",
       "stream": "stdout",
       "text": [
        "[ubuntu@ec2-54-243-24-167.compute-1.amazonaws.com] out: "
       ]
      },
      {
       "output_type": "stream",
       "stream": "stdout",
       "text": [
        "\n"
       ]
      },
      {
       "output_type": "stream",
       "stream": "stdout",
       "text": [
        "[ubuntu@ec2-54-243-24-167.compute-1.amazonaws.com] out: "
       ]
      },
      {
       "output_type": "stream",
       "stream": "stdout",
       "text": [
        "\n"
       ]
      },
      {
       "output_type": "stream",
       "stream": "stdout",
       "text": [
        "[ubuntu@ec2-54-243-24-167.compute-1.amazonaws.com] out: "
       ]
      },
      {
       "output_type": "stream",
       "stream": "stdout",
       "text": [
        "31% [12 libc6-dev 0 B/2,945 kB 0%]"
       ]
      },
      {
       "output_type": "stream",
       "stream": "stdout",
       "text": [
        "\n"
       ]
      },
      {
       "output_type": "stream",
       "stream": "stdout",
       "text": [
        "[ubuntu@ec2-54-243-24-167.compute-1.amazonaws.com] out: "
       ]
      },
      {
       "output_type": "stream",
       "stream": "stdout",
       "text": [
        "                                  \n"
       ]
      },
      {
       "output_type": "stream",
       "stream": "stdout",
       "text": [
        "[ubuntu@ec2-54-243-24-167.compute-1.amazonaws.com] out: "
       ]
      },
      {
       "output_type": "stream",
       "stream": "stdout",
       "text": [
        "36% [Working]"
       ]
      },
      {
       "output_type": "stream",
       "stream": "stdout",
       "text": [
        "\n"
       ]
      },
      {
       "output_type": "stream",
       "stream": "stdout",
       "text": [
        "[ubuntu@ec2-54-243-24-167.compute-1.amazonaws.com] out: "
       ]
      },
      {
       "output_type": "stream",
       "stream": "stdout",
       "text": [
        "             \n"
       ]
      },
      {
       "output_type": "stream",
       "stream": "stdout",
       "text": [
        "[ubuntu@ec2-54-243-24-167.compute-1.amazonaws.com] out: "
       ]
      },
      {
       "output_type": "stream",
       "stream": "stdout",
       "text": [
        "Get: 13 http://us-east-1.ec2.archive.ubuntu.com/ubuntu/ precise-updates/main libexpat1-dev amd64 2.0.1-7.2ubuntu1.1 [216 kB]\n"
       ]
      },
      {
       "output_type": "stream",
       "stream": "stdout",
       "text": [
        "[ubuntu@ec2-54-243-24-167.compute-1.amazonaws.com] out: "
       ]
      },
      {
       "output_type": "stream",
       "stream": "stdout",
       "text": [
        "\n"
       ]
      },
      {
       "output_type": "stream",
       "stream": "stdout",
       "text": [
        "[ubuntu@ec2-54-243-24-167.compute-1.amazonaws.com] out: "
       ]
      },
      {
       "output_type": "stream",
       "stream": "stdout",
       "text": [
        "\n"
       ]
      },
      {
       "output_type": "stream",
       "stream": "stdout",
       "text": [
        "[ubuntu@ec2-54-243-24-167.compute-1.amazonaws.com] out: "
       ]
      },
      {
       "output_type": "stream",
       "stream": "stdout",
       "text": [
        "36% [13 libexpat1-dev 0 B/216 kB 0%]\n"
       ]
      },
      {
       "output_type": "stream",
       "stream": "stdout",
       "text": [
        "[ubuntu@ec2-54-243-24-167.compute-1.amazonaws.com] out: "
       ]
      },
      {
       "output_type": "stream",
       "stream": "stdout",
       "text": [
        "                                    \n"
       ]
      },
      {
       "output_type": "stream",
       "stream": "stdout",
       "text": [
        "[ubuntu@ec2-54-243-24-167.compute-1.amazonaws.com] out: "
       ]
      },
      {
       "output_type": "stream",
       "stream": "stdout",
       "text": [
        "37% [Working]"
       ]
      },
      {
       "output_type": "stream",
       "stream": "stdout",
       "text": [
        "\n"
       ]
      },
      {
       "output_type": "stream",
       "stream": "stdout",
       "text": [
        "[ubuntu@ec2-54-243-24-167.compute-1.amazonaws.com] out: "
       ]
      },
      {
       "output_type": "stream",
       "stream": "stdout",
       "text": [
        "             \n"
       ]
      },
      {
       "output_type": "stream",
       "stream": "stdout",
       "text": [
        "[ubuntu@ec2-54-243-24-167.compute-1.amazonaws.com] out: "
       ]
      },
      {
       "output_type": "stream",
       "stream": "stdout",
       "text": [
        "Get: 14 http://us-east-1.ec2.archive.ubuntu.com/ubuntu/ precise/main zlib1g-dev amd64 1:1.2.3.4.dfsg-3ubuntu4 [165 kB]\n"
       ]
      },
      {
       "output_type": "stream",
       "stream": "stdout",
       "text": [
        "[ubuntu@ec2-54-243-24-167.compute-1.amazonaws.com] out: "
       ]
      },
      {
       "output_type": "stream",
       "stream": "stdout",
       "text": [
        "\n"
       ]
      },
      {
       "output_type": "stream",
       "stream": "stdout",
       "text": [
        "[ubuntu@ec2-54-243-24-167.compute-1.amazonaws.com] out: "
       ]
      },
      {
       "output_type": "stream",
       "stream": "stdout",
       "text": [
        "\n"
       ]
      },
      {
       "output_type": "stream",
       "stream": "stdout",
       "text": [
        "[ubuntu@ec2-54-243-24-167.compute-1.amazonaws.com] out: "
       ]
      },
      {
       "output_type": "stream",
       "stream": "stdout",
       "text": [
        "37% [14 zlib1g-dev 0 B/165 kB 0%]"
       ]
      },
      {
       "output_type": "stream",
       "stream": "stdout",
       "text": [
        "\n"
       ]
      },
      {
       "output_type": "stream",
       "stream": "stdout",
       "text": [
        "[ubuntu@ec2-54-243-24-167.compute-1.amazonaws.com] out: "
       ]
      },
      {
       "output_type": "stream",
       "stream": "stdout",
       "text": [
        "                                 \n"
       ]
      },
      {
       "output_type": "stream",
       "stream": "stdout",
       "text": [
        "[ubuntu@ec2-54-243-24-167.compute-1.amazonaws.com] out: "
       ]
      },
      {
       "output_type": "stream",
       "stream": "stdout",
       "text": [
        "37% [Working]"
       ]
      },
      {
       "output_type": "stream",
       "stream": "stdout",
       "text": [
        "\n"
       ]
      },
      {
       "output_type": "stream",
       "stream": "stdout",
       "text": [
        "[ubuntu@ec2-54-243-24-167.compute-1.amazonaws.com] out: "
       ]
      },
      {
       "output_type": "stream",
       "stream": "stdout",
       "text": [
        "             \n"
       ]
      },
      {
       "output_type": "stream",
       "stream": "stdout",
       "text": [
        "[ubuntu@ec2-54-243-24-167.compute-1.amazonaws.com] out: "
       ]
      },
      {
       "output_type": "stream",
       "stream": "stdout",
       "text": [
        "Get: 15 http://us-east-1.ec2.archive.ubuntu.com/ubuntu/ precise-updates/main libssl-dev amd64 1.0.1-4ubuntu5.9 [1,574 kB]\n"
       ]
      },
      {
       "output_type": "stream",
       "stream": "stdout",
       "text": [
        "[ubuntu@ec2-54-243-24-167.compute-1.amazonaws.com] out: "
       ]
      },
      {
       "output_type": "stream",
       "stream": "stdout",
       "text": [
        "\n"
       ]
      },
      {
       "output_type": "stream",
       "stream": "stdout",
       "text": [
        "[ubuntu@ec2-54-243-24-167.compute-1.amazonaws.com] out: "
       ]
      },
      {
       "output_type": "stream",
       "stream": "stdout",
       "text": [
        "\n"
       ]
      },
      {
       "output_type": "stream",
       "stream": "stdout",
       "text": [
        "[ubuntu@ec2-54-243-24-167.compute-1.amazonaws.com] out: "
       ]
      },
      {
       "output_type": "stream",
       "stream": "stdout",
       "text": [
        "37% [15 libssl-dev 0 B/1,574 kB 0%]\n"
       ]
      },
      {
       "output_type": "stream",
       "stream": "stdout",
       "text": [
        "[ubuntu@ec2-54-243-24-167.compute-1.amazonaws.com] out: "
       ]
      },
      {
       "output_type": "stream",
       "stream": "stdout",
       "text": [
        "                                   \n"
       ]
      },
      {
       "output_type": "stream",
       "stream": "stdout",
       "text": [
        "[ubuntu@ec2-54-243-24-167.compute-1.amazonaws.com] out: "
       ]
      },
      {
       "output_type": "stream",
       "stream": "stdout",
       "text": [
        "40% [Working]"
       ]
      },
      {
       "output_type": "stream",
       "stream": "stdout",
       "text": [
        "\n"
       ]
      },
      {
       "output_type": "stream",
       "stream": "stdout",
       "text": [
        "[ubuntu@ec2-54-243-24-167.compute-1.amazonaws.com] out: "
       ]
      },
      {
       "output_type": "stream",
       "stream": "stdout",
       "text": [
        "             \n"
       ]
      },
      {
       "output_type": "stream",
       "stream": "stdout",
       "text": [
        "[ubuntu@ec2-54-243-24-167.compute-1.amazonaws.com] out: "
       ]
      },
      {
       "output_type": "stream",
       "stream": "stdout",
       "text": [
        "Get: 16 http://us-east-1.ec2.archive.ubuntu.com/ubuntu/ precise-updates/main libssl-doc all 1.0.1-4ubuntu5.9 [1,033 kB]\n"
       ]
      },
      {
       "output_type": "stream",
       "stream": "stdout",
       "text": [
        "[ubuntu@ec2-54-243-24-167.compute-1.amazonaws.com] out: "
       ]
      },
      {
       "output_type": "stream",
       "stream": "stdout",
       "text": [
        "\n"
       ]
      },
      {
       "output_type": "stream",
       "stream": "stdout",
       "text": [
        "[ubuntu@ec2-54-243-24-167.compute-1.amazonaws.com] out: "
       ]
      },
      {
       "output_type": "stream",
       "stream": "stdout",
       "text": [
        "\n"
       ]
      },
      {
       "output_type": "stream",
       "stream": "stdout",
       "text": [
        "[ubuntu@ec2-54-243-24-167.compute-1.amazonaws.com] out: "
       ]
      },
      {
       "output_type": "stream",
       "stream": "stdout",
       "text": [
        "40% [16 libssl-doc 0 B/1,033 kB 0%]"
       ]
      },
      {
       "output_type": "stream",
       "stream": "stdout",
       "text": [
        "\n"
       ]
      },
      {
       "output_type": "stream",
       "stream": "stdout",
       "text": [
        "[ubuntu@ec2-54-243-24-167.compute-1.amazonaws.com] out: "
       ]
      },
      {
       "output_type": "stream",
       "stream": "stdout",
       "text": [
        "                                   \n"
       ]
      },
      {
       "output_type": "stream",
       "stream": "stdout",
       "text": [
        "[ubuntu@ec2-54-243-24-167.compute-1.amazonaws.com] out: "
       ]
      },
      {
       "output_type": "stream",
       "stream": "stdout",
       "text": [
        "42% [Working]"
       ]
      },
      {
       "output_type": "stream",
       "stream": "stdout",
       "text": [
        "\n"
       ]
      },
      {
       "output_type": "stream",
       "stream": "stdout",
       "text": [
        "[ubuntu@ec2-54-243-24-167.compute-1.amazonaws.com] out: "
       ]
      },
      {
       "output_type": "stream",
       "stream": "stdout",
       "text": [
        "             \n"
       ]
      },
      {
       "output_type": "stream",
       "stream": "stdout",
       "text": [
        "[ubuntu@ec2-54-243-24-167.compute-1.amazonaws.com] out: "
       ]
      },
      {
       "output_type": "stream",
       "stream": "stdout",
       "text": [
        "Get: 17 http://us-east-1.ec2.archive.ubuntu.com/ubuntu/ precise/main manpages-dev all 3.35-0.1ubuntu1 [1,671 kB]\n"
       ]
      },
      {
       "output_type": "stream",
       "stream": "stdout",
       "text": [
        "[ubuntu@ec2-54-243-24-167.compute-1.amazonaws.com] out: "
       ]
      },
      {
       "output_type": "stream",
       "stream": "stdout",
       "text": [
        "\n"
       ]
      },
      {
       "output_type": "stream",
       "stream": "stdout",
       "text": [
        "[ubuntu@ec2-54-243-24-167.compute-1.amazonaws.com] out: "
       ]
      },
      {
       "output_type": "stream",
       "stream": "stdout",
       "text": [
        "\n"
       ]
      },
      {
       "output_type": "stream",
       "stream": "stdout",
       "text": [
        "[ubuntu@ec2-54-243-24-167.compute-1.amazonaws.com] out: "
       ]
      },
      {
       "output_type": "stream",
       "stream": "stdout",
       "text": [
        "42% [17 manpages-dev 0 B/1,671 kB 0%]"
       ]
      },
      {
       "output_type": "stream",
       "stream": "stdout",
       "text": [
        "\n"
       ]
      },
      {
       "output_type": "stream",
       "stream": "stdout",
       "text": [
        "[ubuntu@ec2-54-243-24-167.compute-1.amazonaws.com] out: "
       ]
      },
      {
       "output_type": "stream",
       "stream": "stdout",
       "text": [
        "                                     \n"
       ]
      },
      {
       "output_type": "stream",
       "stream": "stdout",
       "text": [
        "[ubuntu@ec2-54-243-24-167.compute-1.amazonaws.com] out: "
       ]
      },
      {
       "output_type": "stream",
       "stream": "stdout",
       "text": [
        "45% [Working]"
       ]
      },
      {
       "output_type": "stream",
       "stream": "stdout",
       "text": [
        "\n"
       ]
      },
      {
       "output_type": "stream",
       "stream": "stdout",
       "text": [
        "[ubuntu@ec2-54-243-24-167.compute-1.amazonaws.com] out: "
       ]
      },
      {
       "output_type": "stream",
       "stream": "stdout",
       "text": [
        "             \n"
       ]
      },
      {
       "output_type": "stream",
       "stream": "stdout",
       "text": [
        "[ubuntu@ec2-54-243-24-167.compute-1.amazonaws.com] out: "
       ]
      },
      {
       "output_type": "stream",
       "stream": "stdout",
       "text": [
        "Get: 18 http://us-east-1.ec2.archive.ubuntu.com/ubuntu/ precise-updates/main python2.7-dev amd64 2.7.3-0ubuntu3.1 [29.5 MB]\n"
       ]
      },
      {
       "output_type": "stream",
       "stream": "stdout",
       "text": [
        "[ubuntu@ec2-54-243-24-167.compute-1.amazonaws.com] out: "
       ]
      },
      {
       "output_type": "stream",
       "stream": "stdout",
       "text": [
        "\n"
       ]
      },
      {
       "output_type": "stream",
       "stream": "stdout",
       "text": [
        "[ubuntu@ec2-54-243-24-167.compute-1.amazonaws.com] out: "
       ]
      },
      {
       "output_type": "stream",
       "stream": "stdout",
       "text": [
        "\n"
       ]
      },
      {
       "output_type": "stream",
       "stream": "stdout",
       "text": [
        "[ubuntu@ec2-54-243-24-167.compute-1.amazonaws.com] out: "
       ]
      },
      {
       "output_type": "stream",
       "stream": "stdout",
       "text": [
        "45% [18 python2.7-dev 0 B/29.5 MB 0%]"
       ]
      },
      {
       "output_type": "stream",
       "stream": "stdout",
       "text": [
        "\n"
       ]
      },
      {
       "output_type": "stream",
       "stream": "stdout",
       "text": [
        "[ubuntu@ec2-54-243-24-167.compute-1.amazonaws.com] out: "
       ]
      },
      {
       "output_type": "stream",
       "stream": "stdout",
       "text": [
        "                                     \n"
       ]
      },
      {
       "output_type": "stream",
       "stream": "stdout",
       "text": [
        "[ubuntu@ec2-54-243-24-167.compute-1.amazonaws.com] out: "
       ]
      },
      {
       "output_type": "stream",
       "stream": "stdout",
       "text": [
        "50% [18 python2.7-dev 2,817 kB/29.5 MB 10%]"
       ]
      },
      {
       "output_type": "stream",
       "stream": "stdout",
       "text": [
        "\n"
       ]
      },
      {
       "output_type": "stream",
       "stream": "stdout",
       "text": [
        "[ubuntu@ec2-54-243-24-167.compute-1.amazonaws.com] out: "
       ]
      },
      {
       "output_type": "stream",
       "stream": "stdout",
       "text": [
        "                                           \n"
       ]
      },
      {
       "output_type": "stream",
       "stream": "stdout",
       "text": [
        "[ubuntu@ec2-54-243-24-167.compute-1.amazonaws.com] out: "
       ]
      },
      {
       "output_type": "stream",
       "stream": "stdout",
       "text": [
        "67% [18 python2.7-dev 11.9 MB/29.5 MB 40%]"
       ]
      },
      {
       "output_type": "stream",
       "stream": "stdout",
       "text": [
        "\n"
       ]
      },
      {
       "output_type": "stream",
       "stream": "stdout",
       "text": [
        "[ubuntu@ec2-54-243-24-167.compute-1.amazonaws.com] out: "
       ]
      },
      {
       "output_type": "stream",
       "stream": "stdout",
       "text": [
        "                                          \n"
       ]
      },
      {
       "output_type": "stream",
       "stream": "stdout",
       "text": [
        "[ubuntu@ec2-54-243-24-167.compute-1.amazonaws.com] out: "
       ]
      },
      {
       "output_type": "stream",
       "stream": "stdout",
       "text": [
        "86% [18 python2.7-dev 21.9 MB/29.5 MB 74%]"
       ]
      },
      {
       "output_type": "stream",
       "stream": "stdout",
       "text": [
        "\n"
       ]
      },
      {
       "output_type": "stream",
       "stream": "stdout",
       "text": [
        "[ubuntu@ec2-54-243-24-167.compute-1.amazonaws.com] out: "
       ]
      },
      {
       "output_type": "stream",
       "stream": "stdout",
       "text": [
        "                                          \n"
       ]
      },
      {
       "output_type": "stream",
       "stream": "stdout",
       "text": [
        "[ubuntu@ec2-54-243-24-167.compute-1.amazonaws.com] out: "
       ]
      },
      {
       "output_type": "stream",
       "stream": "stdout",
       "text": [
        "100% [Working]"
       ]
      },
      {
       "output_type": "stream",
       "stream": "stdout",
       "text": [
        "\n"
       ]
      },
      {
       "output_type": "stream",
       "stream": "stdout",
       "text": [
        "[ubuntu@ec2-54-243-24-167.compute-1.amazonaws.com] out: "
       ]
      },
      {
       "output_type": "stream",
       "stream": "stdout",
       "text": [
        "              \n"
       ]
      },
      {
       "output_type": "stream",
       "stream": "stdout",
       "text": [
        "[ubuntu@ec2-54-243-24-167.compute-1.amazonaws.com] out: "
       ]
      },
      {
       "output_type": "stream",
       "stream": "stdout",
       "text": [
        "Get: 19 http://us-east-1.ec2.archive.ubuntu.com/ubuntu/ precise/main python-dev amd64 2.7.3-0ubuntu2 [1,088 B]\n"
       ]
      },
      {
       "output_type": "stream",
       "stream": "stdout",
       "text": [
        "[ubuntu@ec2-54-243-24-167.compute-1.amazonaws.com] out: "
       ]
      },
      {
       "output_type": "stream",
       "stream": "stdout",
       "text": [
        "\n"
       ]
      },
      {
       "output_type": "stream",
       "stream": "stdout",
       "text": [
        "[ubuntu@ec2-54-243-24-167.compute-1.amazonaws.com] out: "
       ]
      },
      {
       "output_type": "stream",
       "stream": "stdout",
       "text": [
        "\n"
       ]
      },
      {
       "output_type": "stream",
       "stream": "stdout",
       "text": [
        "[ubuntu@ec2-54-243-24-167.compute-1.amazonaws.com] out: "
       ]
      },
      {
       "output_type": "stream",
       "stream": "stdout",
       "text": [
        "100% [19 python-dev 0 B/1,088 B 0%]\n"
       ]
      },
      {
       "output_type": "stream",
       "stream": "stdout",
       "text": [
        "[ubuntu@ec2-54-243-24-167.compute-1.amazonaws.com] out: "
       ]
      },
      {
       "output_type": "stream",
       "stream": "stdout",
       "text": [
        "                                   \n"
       ]
      },
      {
       "output_type": "stream",
       "stream": "stdout",
       "text": [
        "[ubuntu@ec2-54-243-24-167.compute-1.amazonaws.com] out: "
       ]
      },
      {
       "output_type": "stream",
       "stream": "stdout",
       "text": [
        "100% [Working]\n"
       ]
      },
      {
       "output_type": "stream",
       "stream": "stdout",
       "text": [
        "[ubuntu@ec2-54-243-24-167.compute-1.amazonaws.com] out: "
       ]
      },
      {
       "output_type": "stream",
       "stream": "stdout",
       "text": [
        "              \n"
       ]
      },
      {
       "output_type": "stream",
       "stream": "stdout",
       "text": [
        "[ubuntu@ec2-54-243-24-167.compute-1.amazonaws.com] out: "
       ]
      },
      {
       "output_type": "stream",
       "stream": "stdout",
       "text": [
        "Fetched 53.6 MB in 4s (12.3 MB/s)\n"
       ]
      },
      {
       "output_type": "stream",
       "stream": "stdout",
       "text": [
        "[ubuntu@ec2-54-243-24-167.compute-1.amazonaws.com] out: "
       ]
      },
      {
       "output_type": "stream",
       "stream": "stdout",
       "text": [
        "Selecting previously unselected package libgomp1.\n"
       ]
      },
      {
       "output_type": "stream",
       "stream": "stdout",
       "text": [
        "[ubuntu@ec2-54-243-24-167.compute-1.amazonaws.com] out: "
       ]
      },
      {
       "output_type": "stream",
       "stream": "stdout",
       "text": [
        "(Reading database ... \n"
       ]
      },
      {
       "output_type": "stream",
       "stream": "stdout",
       "text": [
        "[ubuntu@ec2-54-243-24-167.compute-1.amazonaws.com] out: "
       ]
      },
      {
       "output_type": "stream",
       "stream": "stdout",
       "text": [
        "(Reading database ... 5%\n"
       ]
      },
      {
       "output_type": "stream",
       "stream": "stdout",
       "text": [
        "[ubuntu@ec2-54-243-24-167.compute-1.amazonaws.com] out: "
       ]
      },
      {
       "output_type": "stream",
       "stream": "stdout",
       "text": [
        "(Reading database ... 10%\n"
       ]
      },
      {
       "output_type": "stream",
       "stream": "stdout",
       "text": [
        "[ubuntu@ec2-54-243-24-167.compute-1.amazonaws.com] out: "
       ]
      },
      {
       "output_type": "stream",
       "stream": "stdout",
       "text": [
        "(Reading database ... 15%\n"
       ]
      },
      {
       "output_type": "stream",
       "stream": "stdout",
       "text": [
        "[ubuntu@ec2-54-243-24-167.compute-1.amazonaws.com] out: "
       ]
      },
      {
       "output_type": "stream",
       "stream": "stdout",
       "text": [
        "(Reading database ... 20%\n"
       ]
      },
      {
       "output_type": "stream",
       "stream": "stdout",
       "text": [
        "[ubuntu@ec2-54-243-24-167.compute-1.amazonaws.com] out: "
       ]
      },
      {
       "output_type": "stream",
       "stream": "stdout",
       "text": [
        "(Reading database ... 25%\n"
       ]
      },
      {
       "output_type": "stream",
       "stream": "stdout",
       "text": [
        "[ubuntu@ec2-54-243-24-167.compute-1.amazonaws.com] out: "
       ]
      },
      {
       "output_type": "stream",
       "stream": "stdout",
       "text": [
        "(Reading database ... 30%\n"
       ]
      },
      {
       "output_type": "stream",
       "stream": "stdout",
       "text": [
        "[ubuntu@ec2-54-243-24-167.compute-1.amazonaws.com] out: "
       ]
      },
      {
       "output_type": "stream",
       "stream": "stdout",
       "text": [
        "(Reading database ... 35%\n"
       ]
      },
      {
       "output_type": "stream",
       "stream": "stdout",
       "text": [
        "[ubuntu@ec2-54-243-24-167.compute-1.amazonaws.com] out: "
       ]
      },
      {
       "output_type": "stream",
       "stream": "stdout",
       "text": [
        "(Reading database ... 40%"
       ]
      },
      {
       "output_type": "stream",
       "stream": "stdout",
       "text": [
        "\n"
       ]
      },
      {
       "output_type": "stream",
       "stream": "stdout",
       "text": [
        "[ubuntu@ec2-54-243-24-167.compute-1.amazonaws.com] out: "
       ]
      },
      {
       "output_type": "stream",
       "stream": "stdout",
       "text": [
        "(Reading database ... 45%\n"
       ]
      },
      {
       "output_type": "stream",
       "stream": "stdout",
       "text": [
        "[ubuntu@ec2-54-243-24-167.compute-1.amazonaws.com] out: "
       ]
      },
      {
       "output_type": "stream",
       "stream": "stdout",
       "text": [
        "(Reading database ... 50%\n"
       ]
      },
      {
       "output_type": "stream",
       "stream": "stdout",
       "text": [
        "[ubuntu@ec2-54-243-24-167.compute-1.amazonaws.com] out: "
       ]
      },
      {
       "output_type": "stream",
       "stream": "stdout",
       "text": [
        "(Reading database ... 55%\n"
       ]
      },
      {
       "output_type": "stream",
       "stream": "stdout",
       "text": [
        "[ubuntu@ec2-54-243-24-167.compute-1.amazonaws.com] out: "
       ]
      },
      {
       "output_type": "stream",
       "stream": "stdout",
       "text": [
        "(Reading database ... 60%\n"
       ]
      },
      {
       "output_type": "stream",
       "stream": "stdout",
       "text": [
        "[ubuntu@ec2-54-243-24-167.compute-1.amazonaws.com] out: "
       ]
      },
      {
       "output_type": "stream",
       "stream": "stdout",
       "text": [
        "(Reading database ... 65%\n"
       ]
      },
      {
       "output_type": "stream",
       "stream": "stdout",
       "text": [
        "[ubuntu@ec2-54-243-24-167.compute-1.amazonaws.com] out: "
       ]
      },
      {
       "output_type": "stream",
       "stream": "stdout",
       "text": [
        "(Reading database ... 70%\n"
       ]
      },
      {
       "output_type": "stream",
       "stream": "stdout",
       "text": [
        "[ubuntu@ec2-54-243-24-167.compute-1.amazonaws.com] out: "
       ]
      },
      {
       "output_type": "stream",
       "stream": "stdout",
       "text": [
        "(Reading database ... 75%\n"
       ]
      },
      {
       "output_type": "stream",
       "stream": "stdout",
       "text": [
        "[ubuntu@ec2-54-243-24-167.compute-1.amazonaws.com] out: "
       ]
      },
      {
       "output_type": "stream",
       "stream": "stdout",
       "text": [
        "(Reading database ... 80%"
       ]
      },
      {
       "output_type": "stream",
       "stream": "stdout",
       "text": [
        "\n"
       ]
      },
      {
       "output_type": "stream",
       "stream": "stdout",
       "text": [
        "[ubuntu@ec2-54-243-24-167.compute-1.amazonaws.com] out: "
       ]
      },
      {
       "output_type": "stream",
       "stream": "stdout",
       "text": [
        "(Reading database ... 85%"
       ]
      },
      {
       "output_type": "stream",
       "stream": "stdout",
       "text": [
        "\n"
       ]
      },
      {
       "output_type": "stream",
       "stream": "stdout",
       "text": [
        "[ubuntu@ec2-54-243-24-167.compute-1.amazonaws.com] out: "
       ]
      },
      {
       "output_type": "stream",
       "stream": "stdout",
       "text": [
        "(Reading database ... 90%"
       ]
      },
      {
       "output_type": "stream",
       "stream": "stdout",
       "text": [
        "\n"
       ]
      },
      {
       "output_type": "stream",
       "stream": "stdout",
       "text": [
        "[ubuntu@ec2-54-243-24-167.compute-1.amazonaws.com] out: "
       ]
      },
      {
       "output_type": "stream",
       "stream": "stdout",
       "text": [
        "(Reading database ... 95%"
       ]
      },
      {
       "output_type": "stream",
       "stream": "stdout",
       "text": [
        "\n"
       ]
      },
      {
       "output_type": "stream",
       "stream": "stdout",
       "text": [
        "[ubuntu@ec2-54-243-24-167.compute-1.amazonaws.com] out: "
       ]
      },
      {
       "output_type": "stream",
       "stream": "stdout",
       "text": [
        "(Reading database ... 100%\n"
       ]
      },
      {
       "output_type": "stream",
       "stream": "stdout",
       "text": [
        "[ubuntu@ec2-54-243-24-167.compute-1.amazonaws.com] out: "
       ]
      },
      {
       "output_type": "stream",
       "stream": "stdout",
       "text": [
        "(Reading database ... 72334 files and directories currently installed.)\n"
       ]
      },
      {
       "output_type": "stream",
       "stream": "stdout",
       "text": [
        "[ubuntu@ec2-54-243-24-167.compute-1.amazonaws.com] out: "
       ]
      },
      {
       "output_type": "stream",
       "stream": "stdout",
       "text": [
        "Unpacking libgomp1 (from .../libgomp1_4.6.3-1ubuntu5_amd64.deb) ...\n"
       ]
      },
      {
       "output_type": "stream",
       "stream": "stdout",
       "text": [
        "[ubuntu@ec2-54-243-24-167.compute-1.amazonaws.com] out: "
       ]
      },
      {
       "output_type": "stream",
       "stream": "stdout",
       "text": [
        "Selecting previously unselected package libmpfr4.\n"
       ]
      },
      {
       "output_type": "stream",
       "stream": "stdout",
       "text": [
        "[ubuntu@ec2-54-243-24-167.compute-1.amazonaws.com] out: "
       ]
      },
      {
       "output_type": "stream",
       "stream": "stdout",
       "text": [
        "Unpacking libmpfr4 (from .../libmpfr4_3.1.0-3ubuntu2_amd64.deb) ...\n"
       ]
      },
      {
       "output_type": "stream",
       "stream": "stdout",
       "text": [
        "[ubuntu@ec2-54-243-24-167.compute-1.amazonaws.com] out: "
       ]
      },
      {
       "output_type": "stream",
       "stream": "stdout",
       "text": [
        "Selecting previously unselected package libquadmath0.\n"
       ]
      },
      {
       "output_type": "stream",
       "stream": "stdout",
       "text": [
        "[ubuntu@ec2-54-243-24-167.compute-1.amazonaws.com] out: "
       ]
      },
      {
       "output_type": "stream",
       "stream": "stdout",
       "text": [
        "Unpacking libquadmath0 (from .../libquadmath0_4.6.3-1ubuntu5_amd64.deb) ...\n"
       ]
      },
      {
       "output_type": "stream",
       "stream": "stdout",
       "text": [
        "[ubuntu@ec2-54-243-24-167.compute-1.amazonaws.com] out: "
       ]
      },
      {
       "output_type": "stream",
       "stream": "stdout",
       "text": [
        "Selecting previously unselected package libmpc2.\n"
       ]
      },
      {
       "output_type": "stream",
       "stream": "stdout",
       "text": [
        "[ubuntu@ec2-54-243-24-167.compute-1.amazonaws.com] out: "
       ]
      },
      {
       "output_type": "stream",
       "stream": "stdout",
       "text": [
        "Unpacking libmpc2 (from .../libmpc2_0.9-4_amd64.deb) ...\n"
       ]
      },
      {
       "output_type": "stream",
       "stream": "stdout",
       "text": [
        "[ubuntu@ec2-54-243-24-167.compute-1.amazonaws.com] out: "
       ]
      },
      {
       "output_type": "stream",
       "stream": "stdout",
       "text": [
        "Selecting previously unselected package binutils.\n"
       ]
      },
      {
       "output_type": "stream",
       "stream": "stdout",
       "text": [
        "[ubuntu@ec2-54-243-24-167.compute-1.amazonaws.com] out: "
       ]
      },
      {
       "output_type": "stream",
       "stream": "stdout",
       "text": [
        "Unpacking binutils (from .../binutils_2.22-6ubuntu1_amd64.deb) ...\n"
       ]
      },
      {
       "output_type": "stream",
       "stream": "stdout",
       "text": [
        "[ubuntu@ec2-54-243-24-167.compute-1.amazonaws.com] out: "
       ]
      },
      {
       "output_type": "stream",
       "stream": "stdout",
       "text": [
        "Selecting previously unselected package cpp-4.6.\n"
       ]
      },
      {
       "output_type": "stream",
       "stream": "stdout",
       "text": [
        "[ubuntu@ec2-54-243-24-167.compute-1.amazonaws.com] out: "
       ]
      },
      {
       "output_type": "stream",
       "stream": "stdout",
       "text": [
        "Unpacking cpp-4.6 (from .../cpp-4.6_4.6.3-1ubuntu5_amd64.deb) ...\n"
       ]
      },
      {
       "output_type": "stream",
       "stream": "stdout",
       "text": [
        "[ubuntu@ec2-54-243-24-167.compute-1.amazonaws.com] out: "
       ]
      },
      {
       "output_type": "stream",
       "stream": "stdout",
       "text": [
        "Selecting previously unselected package cpp.\n"
       ]
      },
      {
       "output_type": "stream",
       "stream": "stdout",
       "text": [
        "[ubuntu@ec2-54-243-24-167.compute-1.amazonaws.com] out: "
       ]
      },
      {
       "output_type": "stream",
       "stream": "stdout",
       "text": [
        "Unpacking cpp (from .../cpp_4%3a4.6.3-1ubuntu5_amd64.deb) ...\n"
       ]
      },
      {
       "output_type": "stream",
       "stream": "stdout",
       "text": [
        "[ubuntu@ec2-54-243-24-167.compute-1.amazonaws.com] out: "
       ]
      },
      {
       "output_type": "stream",
       "stream": "stdout",
       "text": [
        "Selecting previously unselected package gcc-4.6.\n"
       ]
      },
      {
       "output_type": "stream",
       "stream": "stdout",
       "text": [
        "[ubuntu@ec2-54-243-24-167.compute-1.amazonaws.com] out: "
       ]
      },
      {
       "output_type": "stream",
       "stream": "stdout",
       "text": [
        "Unpacking gcc-4.6 (from .../gcc-4.6_4.6.3-1ubuntu5_amd64.deb) ...\n"
       ]
      },
      {
       "output_type": "stream",
       "stream": "stdout",
       "text": [
        "[ubuntu@ec2-54-243-24-167.compute-1.amazonaws.com] out: "
       ]
      },
      {
       "output_type": "stream",
       "stream": "stdout",
       "text": [
        "Selecting previously unselected package gcc.\n"
       ]
      },
      {
       "output_type": "stream",
       "stream": "stdout",
       "text": [
        "[ubuntu@ec2-54-243-24-167.compute-1.amazonaws.com] out: "
       ]
      },
      {
       "output_type": "stream",
       "stream": "stdout",
       "text": [
        "Unpacking gcc (from .../gcc_4%3a4.6.3-1ubuntu5_amd64.deb) ...\n"
       ]
      },
      {
       "output_type": "stream",
       "stream": "stdout",
       "text": [
        "[ubuntu@ec2-54-243-24-167.compute-1.amazonaws.com] out: "
       ]
      },
      {
       "output_type": "stream",
       "stream": "stdout",
       "text": [
        "Selecting previously unselected package libc-dev-bin.\n"
       ]
      },
      {
       "output_type": "stream",
       "stream": "stdout",
       "text": [
        "[ubuntu@ec2-54-243-24-167.compute-1.amazonaws.com] out: "
       ]
      },
      {
       "output_type": "stream",
       "stream": "stdout",
       "text": [
        "Unpacking libc-dev-bin (from .../libc-dev-bin_2.15-0ubuntu10.4_amd64.deb) ...\n"
       ]
      },
      {
       "output_type": "stream",
       "stream": "stdout",
       "text": [
        "[ubuntu@ec2-54-243-24-167.compute-1.amazonaws.com] out: "
       ]
      },
      {
       "output_type": "stream",
       "stream": "stdout",
       "text": [
        "Selecting previously unselected package linux-libc-dev.\n"
       ]
      },
      {
       "output_type": "stream",
       "stream": "stdout",
       "text": [
        "[ubuntu@ec2-54-243-24-167.compute-1.amazonaws.com] out: "
       ]
      },
      {
       "output_type": "stream",
       "stream": "stdout",
       "text": [
        "Unpacking linux-libc-dev (from .../linux-libc-dev_3.2.0-44.69_amd64.deb) ...\n"
       ]
      },
      {
       "output_type": "stream",
       "stream": "stdout",
       "text": [
        "[ubuntu@ec2-54-243-24-167.compute-1.amazonaws.com] out: "
       ]
      },
      {
       "output_type": "stream",
       "stream": "stdout",
       "text": [
        "Selecting previously unselected package libc6-dev.\n"
       ]
      },
      {
       "output_type": "stream",
       "stream": "stdout",
       "text": [
        "[ubuntu@ec2-54-243-24-167.compute-1.amazonaws.com] out: "
       ]
      },
      {
       "output_type": "stream",
       "stream": "stdout",
       "text": [
        "Unpacking libc6-dev (from .../libc6-dev_2.15-0ubuntu10.4_amd64.deb) ...\n"
       ]
      },
      {
       "output_type": "stream",
       "stream": "stdout",
       "text": [
        "[ubuntu@ec2-54-243-24-167.compute-1.amazonaws.com] out: "
       ]
      },
      {
       "output_type": "stream",
       "stream": "stdout",
       "text": [
        "Selecting previously unselected package libexpat1-dev.\n"
       ]
      },
      {
       "output_type": "stream",
       "stream": "stdout",
       "text": [
        "[ubuntu@ec2-54-243-24-167.compute-1.amazonaws.com] out: "
       ]
      },
      {
       "output_type": "stream",
       "stream": "stdout",
       "text": [
        "Unpacking libexpat1-dev (from .../libexpat1-dev_2.0.1-7.2ubuntu1.1_amd64.deb) ...\n"
       ]
      },
      {
       "output_type": "stream",
       "stream": "stdout",
       "text": [
        "[ubuntu@ec2-54-243-24-167.compute-1.amazonaws.com] out: "
       ]
      },
      {
       "output_type": "stream",
       "stream": "stdout",
       "text": [
        "Selecting previously unselected package zlib1g-dev.\n"
       ]
      },
      {
       "output_type": "stream",
       "stream": "stdout",
       "text": [
        "[ubuntu@ec2-54-243-24-167.compute-1.amazonaws.com] out: "
       ]
      },
      {
       "output_type": "stream",
       "stream": "stdout",
       "text": [
        "Unpacking zlib1g-dev (from .../zlib1g-dev_1%3a1.2.3.4.dfsg-3ubuntu4_amd64.deb) ...\n"
       ]
      },
      {
       "output_type": "stream",
       "stream": "stdout",
       "text": [
        "[ubuntu@ec2-54-243-24-167.compute-1.amazonaws.com] out: "
       ]
      },
      {
       "output_type": "stream",
       "stream": "stdout",
       "text": [
        "Selecting previously unselected package libssl-dev.\n"
       ]
      },
      {
       "output_type": "stream",
       "stream": "stdout",
       "text": [
        "[ubuntu@ec2-54-243-24-167.compute-1.amazonaws.com] out: "
       ]
      },
      {
       "output_type": "stream",
       "stream": "stdout",
       "text": [
        "Unpacking libssl-dev (from .../libssl-dev_1.0.1-4ubuntu5.9_amd64.deb) ...\n"
       ]
      },
      {
       "output_type": "stream",
       "stream": "stdout",
       "text": [
        "[ubuntu@ec2-54-243-24-167.compute-1.amazonaws.com] out: "
       ]
      },
      {
       "output_type": "stream",
       "stream": "stdout",
       "text": [
        "Selecting previously unselected package libssl-doc.\n"
       ]
      },
      {
       "output_type": "stream",
       "stream": "stdout",
       "text": [
        "[ubuntu@ec2-54-243-24-167.compute-1.amazonaws.com] out: "
       ]
      },
      {
       "output_type": "stream",
       "stream": "stdout",
       "text": [
        "Unpacking libssl-doc (from .../libssl-doc_1.0.1-4ubuntu5.9_all.deb) ...\n"
       ]
      },
      {
       "output_type": "stream",
       "stream": "stdout",
       "text": [
        "[ubuntu@ec2-54-243-24-167.compute-1.amazonaws.com] out: "
       ]
      },
      {
       "output_type": "stream",
       "stream": "stdout",
       "text": [
        "Selecting previously unselected package manpages-dev.\n"
       ]
      },
      {
       "output_type": "stream",
       "stream": "stdout",
       "text": [
        "[ubuntu@ec2-54-243-24-167.compute-1.amazonaws.com] out: "
       ]
      },
      {
       "output_type": "stream",
       "stream": "stdout",
       "text": [
        "Unpacking manpages-dev (from .../manpages-dev_3.35-0.1ubuntu1_all.deb) ...\n"
       ]
      },
      {
       "output_type": "stream",
       "stream": "stdout",
       "text": [
        "[ubuntu@ec2-54-243-24-167.compute-1.amazonaws.com] out: "
       ]
      },
      {
       "output_type": "stream",
       "stream": "stdout",
       "text": [
        "Selecting previously unselected package python2.7-dev.\n"
       ]
      },
      {
       "output_type": "stream",
       "stream": "stdout",
       "text": [
        "[ubuntu@ec2-54-243-24-167.compute-1.amazonaws.com] out: "
       ]
      },
      {
       "output_type": "stream",
       "stream": "stdout",
       "text": [
        "Unpacking python2.7-dev (from .../python2.7-dev_2.7.3-0ubuntu3.1_amd64.deb) ...\n"
       ]
      },
      {
       "output_type": "stream",
       "stream": "stdout",
       "text": [
        "[ubuntu@ec2-54-243-24-167.compute-1.amazonaws.com] out: "
       ]
      },
      {
       "output_type": "stream",
       "stream": "stdout",
       "text": [
        "Selecting previously unselected package python-dev.\n"
       ]
      },
      {
       "output_type": "stream",
       "stream": "stdout",
       "text": [
        "[ubuntu@ec2-54-243-24-167.compute-1.amazonaws.com] out: "
       ]
      },
      {
       "output_type": "stream",
       "stream": "stdout",
       "text": [
        "Unpacking python-dev (from .../python-dev_2.7.3-0ubuntu2_amd64.deb) ...\n"
       ]
      },
      {
       "output_type": "stream",
       "stream": "stdout",
       "text": [
        "[ubuntu@ec2-54-243-24-167.compute-1.amazonaws.com] out: "
       ]
      },
      {
       "output_type": "stream",
       "stream": "stdout",
       "text": [
        "Processing triggers for man-db ...\n"
       ]
      },
      {
       "output_type": "stream",
       "stream": "stdout",
       "text": [
        "[ubuntu@ec2-54-243-24-167.compute-1.amazonaws.com] out: "
       ]
      },
      {
       "output_type": "stream",
       "stream": "stdout",
       "text": [
        "Setting up libgomp1 (4.6.3-1ubuntu5) ...\n"
       ]
      },
      {
       "output_type": "stream",
       "stream": "stdout",
       "text": [
        "[ubuntu@ec2-54-243-24-167.compute-1.amazonaws.com] out: "
       ]
      },
      {
       "output_type": "stream",
       "stream": "stdout",
       "text": [
        "Setting up libmpfr4 (3.1.0-3ubuntu2) ...\n"
       ]
      },
      {
       "output_type": "stream",
       "stream": "stdout",
       "text": [
        "[ubuntu@ec2-54-243-24-167.compute-1.amazonaws.com] out: "
       ]
      },
      {
       "output_type": "stream",
       "stream": "stdout",
       "text": [
        "Setting up libquadmath0 (4.6.3-1ubuntu5) ...\n"
       ]
      },
      {
       "output_type": "stream",
       "stream": "stdout",
       "text": [
        "[ubuntu@ec2-54-243-24-167.compute-1.amazonaws.com] out: "
       ]
      },
      {
       "output_type": "stream",
       "stream": "stdout",
       "text": [
        "Setting up libmpc2 (0.9-4) ...\n"
       ]
      },
      {
       "output_type": "stream",
       "stream": "stdout",
       "text": [
        "[ubuntu@ec2-54-243-24-167.compute-1.amazonaws.com] out: "
       ]
      },
      {
       "output_type": "stream",
       "stream": "stdout",
       "text": [
        "Setting up binutils (2.22-6ubuntu1) ...\n"
       ]
      },
      {
       "output_type": "stream",
       "stream": "stdout",
       "text": [
        "[ubuntu@ec2-54-243-24-167.compute-1.amazonaws.com] out: "
       ]
      },
      {
       "output_type": "stream",
       "stream": "stdout",
       "text": [
        "Setting up cpp-4.6 (4.6.3-1ubuntu5) ...\n"
       ]
      },
      {
       "output_type": "stream",
       "stream": "stdout",
       "text": [
        "[ubuntu@ec2-54-243-24-167.compute-1.amazonaws.com] out: "
       ]
      },
      {
       "output_type": "stream",
       "stream": "stdout",
       "text": [
        "Setting up cpp (4:4.6.3-1ubuntu5) ...\n"
       ]
      },
      {
       "output_type": "stream",
       "stream": "stdout",
       "text": [
        "[ubuntu@ec2-54-243-24-167.compute-1.amazonaws.com] out: "
       ]
      },
      {
       "output_type": "stream",
       "stream": "stdout",
       "text": [
        "Setting up gcc-4.6 (4.6.3-1ubuntu5) ...\n"
       ]
      },
      {
       "output_type": "stream",
       "stream": "stdout",
       "text": [
        "[ubuntu@ec2-54-243-24-167.compute-1.amazonaws.com] out: "
       ]
      },
      {
       "output_type": "stream",
       "stream": "stdout",
       "text": [
        "Setting up gcc (4:4.6.3-1ubuntu5) ...\n"
       ]
      },
      {
       "output_type": "stream",
       "stream": "stdout",
       "text": [
        "[ubuntu@ec2-54-243-24-167.compute-1.amazonaws.com] out: "
       ]
      },
      {
       "output_type": "stream",
       "stream": "stdout",
       "text": [
        "Setting up libc-dev-bin (2.15-0ubuntu10.4) ...\n"
       ]
      },
      {
       "output_type": "stream",
       "stream": "stdout",
       "text": [
        "[ubuntu@ec2-54-243-24-167.compute-1.amazonaws.com] out: "
       ]
      },
      {
       "output_type": "stream",
       "stream": "stdout",
       "text": [
        "Setting up linux-libc-dev (3.2.0-44.69) ...\n"
       ]
      },
      {
       "output_type": "stream",
       "stream": "stdout",
       "text": [
        "[ubuntu@ec2-54-243-24-167.compute-1.amazonaws.com] out: "
       ]
      },
      {
       "output_type": "stream",
       "stream": "stdout",
       "text": [
        "Setting up libc6-dev (2.15-0ubuntu10.4) ...\n"
       ]
      },
      {
       "output_type": "stream",
       "stream": "stdout",
       "text": [
        "[ubuntu@ec2-54-243-24-167.compute-1.amazonaws.com] out: "
       ]
      },
      {
       "output_type": "stream",
       "stream": "stdout",
       "text": [
        "Setting up libexpat1-dev (2.0.1-7.2ubuntu1.1) ...\n"
       ]
      },
      {
       "output_type": "stream",
       "stream": "stdout",
       "text": [
        "[ubuntu@ec2-54-243-24-167.compute-1.amazonaws.com] out: "
       ]
      },
      {
       "output_type": "stream",
       "stream": "stdout",
       "text": [
        "Setting up zlib1g-dev (1:1.2.3.4.dfsg-3ubuntu4) ...\n"
       ]
      },
      {
       "output_type": "stream",
       "stream": "stdout",
       "text": [
        "[ubuntu@ec2-54-243-24-167.compute-1.amazonaws.com] out: "
       ]
      },
      {
       "output_type": "stream",
       "stream": "stdout",
       "text": [
        "Setting up libssl-dev (1.0.1-4ubuntu5.9) ...\n"
       ]
      },
      {
       "output_type": "stream",
       "stream": "stdout",
       "text": [
        "[ubuntu@ec2-54-243-24-167.compute-1.amazonaws.com] out: "
       ]
      },
      {
       "output_type": "stream",
       "stream": "stdout",
       "text": [
        "Setting up libssl-doc (1.0.1-4ubuntu5.9) ...\n"
       ]
      },
      {
       "output_type": "stream",
       "stream": "stdout",
       "text": [
        "[ubuntu@ec2-54-243-24-167.compute-1.amazonaws.com] out: "
       ]
      },
      {
       "output_type": "stream",
       "stream": "stdout",
       "text": [
        "Setting up manpages-dev (3.35-0.1ubuntu1) ...\n"
       ]
      },
      {
       "output_type": "stream",
       "stream": "stdout",
       "text": [
        "[ubuntu@ec2-54-243-24-167.compute-1.amazonaws.com] out: "
       ]
      },
      {
       "output_type": "stream",
       "stream": "stdout",
       "text": [
        "Setting up python2.7-dev (2.7.3-0ubuntu3.1) ...\n"
       ]
      },
      {
       "output_type": "stream",
       "stream": "stdout",
       "text": [
        "[ubuntu@ec2-54-243-24-167.compute-1.amazonaws.com] out: "
       ]
      },
      {
       "output_type": "stream",
       "stream": "stdout",
       "text": [
        "Setting up python-dev (2.7.3-0ubuntu2) ...\n"
       ]
      },
      {
       "output_type": "stream",
       "stream": "stdout",
       "text": [
        "[ubuntu@ec2-54-243-24-167.compute-1.amazonaws.com] out: "
       ]
      },
      {
       "output_type": "stream",
       "stream": "stdout",
       "text": [
        "Processing triggers for libc-bin ...\n"
       ]
      },
      {
       "output_type": "stream",
       "stream": "stdout",
       "text": [
        "[ubuntu@ec2-54-243-24-167.compute-1.amazonaws.com] out: "
       ]
      },
      {
       "output_type": "stream",
       "stream": "stdout",
       "text": [
        "ldconfig deferred processing now taking place\n"
       ]
      },
      {
       "output_type": "stream",
       "stream": "stdout",
       "text": [
        "[ubuntu@ec2-54-243-24-167.compute-1.amazonaws.com] out: "
       ]
      },
      {
       "output_type": "stream",
       "stream": "stdout",
       "text": [
        "\n"
       ]
      },
      {
       "output_type": "stream",
       "stream": "stdout",
       "text": [
        "[ubuntu@ec2-54-243-24-167.compute-1.amazonaws.com] out: "
       ]
      },
      {
       "output_type": "stream",
       "stream": "stdout",
       "text": [
        "\n"
       ]
      },
      {
       "output_type": "stream",
       "stream": "stdout",
       "text": [
        "[ubuntu@ec2-54-243-24-167.compute-1.amazonaws.com] out: "
       ]
      },
      {
       "output_type": "stream",
       "stream": "stdout",
       "text": [
        "[  0%] Reading package lists\n"
       ]
      },
      {
       "output_type": "stream",
       "stream": "stdout",
       "text": [
        "[ubuntu@ec2-54-243-24-167.compute-1.amazonaws.com] out: "
       ]
      },
      {
       "output_type": "stream",
       "stream": "stdout",
       "text": [
        "                            \n"
       ]
      },
      {
       "output_type": "stream",
       "stream": "stdout",
       "text": [
        "[ubuntu@ec2-54-243-24-167.compute-1.amazonaws.com] out: "
       ]
      },
      {
       "output_type": "stream",
       "stream": "stdout",
       "text": [
        "\n"
       ]
      },
      {
       "output_type": "stream",
       "stream": "stdout",
       "text": [
        "[ubuntu@ec2-54-243-24-167.compute-1.amazonaws.com] out: "
       ]
      },
      {
       "output_type": "stream",
       "stream": "stdout",
       "text": [
        "\n"
       ]
      },
      {
       "output_type": "stream",
       "stream": "stdout",
       "text": [
        "[ubuntu@ec2-54-243-24-167.compute-1.amazonaws.com] out: "
       ]
      },
      {
       "output_type": "stream",
       "stream": "stdout",
       "text": [
        "[  0%] Building dependency tree"
       ]
      },
      {
       "output_type": "stream",
       "stream": "stdout",
       "text": [
        "\n"
       ]
      },
      {
       "output_type": "stream",
       "stream": "stdout",
       "text": [
        "[ubuntu@ec2-54-243-24-167.compute-1.amazonaws.com] out: "
       ]
      },
      {
       "output_type": "stream",
       "stream": "stdout",
       "text": [
        "                               \n"
       ]
      },
      {
       "output_type": "stream",
       "stream": "stdout",
       "text": [
        "[ubuntu@ec2-54-243-24-167.compute-1.amazonaws.com] out: "
       ]
      },
      {
       "output_type": "stream",
       "stream": "stdout",
       "text": [
        "[100%] Building dependency tree"
       ]
      },
      {
       "output_type": "stream",
       "stream": "stdout",
       "text": [
        "\n"
       ]
      },
      {
       "output_type": "stream",
       "stream": "stdout",
       "text": [
        "[ubuntu@ec2-54-243-24-167.compute-1.amazonaws.com] out: "
       ]
      },
      {
       "output_type": "stream",
       "stream": "stdout",
       "text": [
        "                               \n"
       ]
      },
      {
       "output_type": "stream",
       "stream": "stdout",
       "text": [
        "[ubuntu@ec2-54-243-24-167.compute-1.amazonaws.com] out: "
       ]
      },
      {
       "output_type": "stream",
       "stream": "stdout",
       "text": [
        "[  0%] Reading state information\n"
       ]
      },
      {
       "output_type": "stream",
       "stream": "stdout",
       "text": [
        "[ubuntu@ec2-54-243-24-167.compute-1.amazonaws.com] out: "
       ]
      },
      {
       "output_type": "stream",
       "stream": "stdout",
       "text": [
        "                                \n"
       ]
      },
      {
       "output_type": "stream",
       "stream": "stdout",
       "text": [
        "[ubuntu@ec2-54-243-24-167.compute-1.amazonaws.com] out: "
       ]
      },
      {
       "output_type": "stream",
       "stream": "stdout",
       "text": [
        "[100%] Reading state information\n"
       ]
      },
      {
       "output_type": "stream",
       "stream": "stdout",
       "text": [
        "[ubuntu@ec2-54-243-24-167.compute-1.amazonaws.com] out: "
       ]
      },
      {
       "output_type": "stream",
       "stream": "stdout",
       "text": [
        "                                \n"
       ]
      },
      {
       "output_type": "stream",
       "stream": "stdout",
       "text": [
        "[ubuntu@ec2-54-243-24-167.compute-1.amazonaws.com] out: "
       ]
      },
      {
       "output_type": "stream",
       "stream": "stdout",
       "text": [
        "\n"
       ]
      },
      {
       "output_type": "stream",
       "stream": "stdout",
       "text": [
        "[ubuntu@ec2-54-243-24-167.compute-1.amazonaws.com] out: "
       ]
      },
      {
       "output_type": "stream",
       "stream": "stdout",
       "text": [
        "\n"
       ]
      },
      {
       "output_type": "stream",
       "stream": "stdout",
       "text": [
        "[ubuntu@ec2-54-243-24-167.compute-1.amazonaws.com] out: "
       ]
      },
      {
       "output_type": "stream",
       "stream": "stdout",
       "text": [
        "[  0%] Reading extended state information"
       ]
      },
      {
       "output_type": "stream",
       "stream": "stdout",
       "text": [
        "\n"
       ]
      },
      {
       "output_type": "stream",
       "stream": "stdout",
       "text": [
        "[ubuntu@ec2-54-243-24-167.compute-1.amazonaws.com] out: "
       ]
      },
      {
       "output_type": "stream",
       "stream": "stdout",
       "text": [
        "                                         \n"
       ]
      },
      {
       "output_type": "stream",
       "stream": "stdout",
       "text": [
        "[ubuntu@ec2-54-243-24-167.compute-1.amazonaws.com] out: "
       ]
      },
      {
       "output_type": "stream",
       "stream": "stdout",
       "text": [
        "\n"
       ]
      },
      {
       "output_type": "stream",
       "stream": "stdout",
       "text": [
        "[ubuntu@ec2-54-243-24-167.compute-1.amazonaws.com] out: "
       ]
      },
      {
       "output_type": "stream",
       "stream": "stdout",
       "text": [
        "\n"
       ]
      },
      {
       "output_type": "stream",
       "stream": "stdout",
       "text": [
        "[ubuntu@ec2-54-243-24-167.compute-1.amazonaws.com] out: "
       ]
      },
      {
       "output_type": "stream",
       "stream": "stdout",
       "text": [
        "[  0%] Initializing package states\n"
       ]
      },
      {
       "output_type": "stream",
       "stream": "stdout",
       "text": [
        "[ubuntu@ec2-54-243-24-167.compute-1.amazonaws.com] out: "
       ]
      },
      {
       "output_type": "stream",
       "stream": "stdout",
       "text": [
        "                                  \n"
       ]
      },
      {
       "output_type": "stream",
       "stream": "stdout",
       "text": [
        "[ubuntu@ec2-54-243-24-167.compute-1.amazonaws.com] out: "
       ]
      },
      {
       "output_type": "stream",
       "stream": "stdout",
       "text": [
        "[100%] Initializing package states\n"
       ]
      },
      {
       "output_type": "stream",
       "stream": "stdout",
       "text": [
        "[ubuntu@ec2-54-243-24-167.compute-1.amazonaws.com] out: "
       ]
      },
      {
       "output_type": "stream",
       "stream": "stdout",
       "text": [
        "                                  \n"
       ]
      },
      {
       "output_type": "stream",
       "stream": "stdout",
       "text": [
        "[ubuntu@ec2-54-243-24-167.compute-1.amazonaws.com] out: "
       ]
      },
      {
       "output_type": "stream",
       "stream": "stdout",
       "text": [
        "\n"
       ]
      },
      {
       "output_type": "stream",
       "stream": "stdout",
       "text": [
        "[ubuntu@ec2-54-243-24-167.compute-1.amazonaws.com] out: "
       ]
      },
      {
       "output_type": "stream",
       "stream": "stdout",
       "text": [
        "\n"
       ]
      },
      {
       "output_type": "stream",
       "stream": "stdout",
       "text": [
        "[ubuntu@ec2-54-243-24-167.compute-1.amazonaws.com] out: "
       ]
      },
      {
       "output_type": "stream",
       "stream": "stdout",
       "text": [
        "[  0%] Writing extended state information"
       ]
      },
      {
       "output_type": "stream",
       "stream": "stdout",
       "text": [
        "\n"
       ]
      },
      {
       "output_type": "stream",
       "stream": "stdout",
       "text": [
        "[ubuntu@ec2-54-243-24-167.compute-1.amazonaws.com] out: "
       ]
      },
      {
       "output_type": "stream",
       "stream": "stdout",
       "text": [
        "                                         \n"
       ]
      },
      {
       "output_type": "stream",
       "stream": "stdout",
       "text": [
        "[ubuntu@ec2-54-243-24-167.compute-1.amazonaws.com] out: "
       ]
      },
      {
       "output_type": "stream",
       "stream": "stdout",
       "text": [
        "\n"
       ]
      },
      {
       "output_type": "stream",
       "stream": "stdout",
       "text": [
        "[ubuntu@ec2-54-243-24-167.compute-1.amazonaws.com] out: "
       ]
      },
      {
       "output_type": "stream",
       "stream": "stdout",
       "text": [
        "\n"
       ]
      },
      {
       "output_type": "stream",
       "stream": "stdout",
       "text": [
        "\n",
        "[ubuntu@ec2-54-243-24-167.compute-1.amazonaws.com] sudo: DEBIAN_FRONTEND='noninteractive' apt-get install -y -q --force-yes postfix\n",
        "[ubuntu@ec2-54-243-24-167.compute-1.amazonaws.com] out: "
       ]
      },
      {
       "output_type": "stream",
       "stream": "stdout",
       "text": [
        "Reading package lists...\n"
       ]
      },
      {
       "output_type": "stream",
       "stream": "stdout",
       "text": [
        "[ubuntu@ec2-54-243-24-167.compute-1.amazonaws.com] out: "
       ]
      },
      {
       "output_type": "stream",
       "stream": "stdout",
       "text": [
        "Building dependency tree..."
       ]
      },
      {
       "output_type": "stream",
       "stream": "stdout",
       "text": [
        "\n"
       ]
      },
      {
       "output_type": "stream",
       "stream": "stdout",
       "text": [
        "[ubuntu@ec2-54-243-24-167.compute-1.amazonaws.com] out: "
       ]
      },
      {
       "output_type": "stream",
       "stream": "stdout",
       "text": [
        "Reading state information...\n"
       ]
      },
      {
       "output_type": "stream",
       "stream": "stdout",
       "text": [
        "[ubuntu@ec2-54-243-24-167.compute-1.amazonaws.com] out: "
       ]
      },
      {
       "output_type": "stream",
       "stream": "stdout",
       "text": [
        "Suggested packages:\n"
       ]
      },
      {
       "output_type": "stream",
       "stream": "stdout",
       "text": [
        "[ubuntu@ec2-54-243-24-167.compute-1.amazonaws.com] out: "
       ]
      },
      {
       "output_type": "stream",
       "stream": "stdout",
       "text": [
        "  procmail postfix-mysql postfix-pgsql postfix-ldap postfix-pcre sasl2-bin\n"
       ]
      },
      {
       "output_type": "stream",
       "stream": "stdout",
       "text": [
        "[ubuntu@ec2-54-243-24-167.compute-1.amazonaws.com] out: "
       ]
      },
      {
       "output_type": "stream",
       "stream": "stdout",
       "text": [
        "  dovecot-common postfix-cdb mail-reader postfix-doc\n"
       ]
      },
      {
       "output_type": "stream",
       "stream": "stdout",
       "text": [
        "[ubuntu@ec2-54-243-24-167.compute-1.amazonaws.com] out: "
       ]
      },
      {
       "output_type": "stream",
       "stream": "stdout",
       "text": [
        "The following NEW packages will be installed:\n"
       ]
      },
      {
       "output_type": "stream",
       "stream": "stdout",
       "text": [
        "[ubuntu@ec2-54-243-24-167.compute-1.amazonaws.com] out: "
       ]
      },
      {
       "output_type": "stream",
       "stream": "stdout",
       "text": [
        "  postfix\n"
       ]
      },
      {
       "output_type": "stream",
       "stream": "stdout",
       "text": [
        "[ubuntu@ec2-54-243-24-167.compute-1.amazonaws.com] out: "
       ]
      },
      {
       "output_type": "stream",
       "stream": "stdout",
       "text": [
        "0 upgraded, 1 newly installed, 0 to remove and 0 not upgraded.\n"
       ]
      },
      {
       "output_type": "stream",
       "stream": "stdout",
       "text": [
        "[ubuntu@ec2-54-243-24-167.compute-1.amazonaws.com] out: "
       ]
      },
      {
       "output_type": "stream",
       "stream": "stdout",
       "text": [
        "Need to get 1,320 kB of archives.\n"
       ]
      },
      {
       "output_type": "stream",
       "stream": "stdout",
       "text": [
        "[ubuntu@ec2-54-243-24-167.compute-1.amazonaws.com] out: "
       ]
      },
      {
       "output_type": "stream",
       "stream": "stdout",
       "text": [
        "After this operation, 3,454 kB of additional disk space will be used.\n"
       ]
      },
      {
       "output_type": "stream",
       "stream": "stdout",
       "text": [
        "[ubuntu@ec2-54-243-24-167.compute-1.amazonaws.com] out: "
       ]
      },
      {
       "output_type": "stream",
       "stream": "stdout",
       "text": [
        "Get:1 http://us-east-1.ec2.archive.ubuntu.com/ubuntu/ precise-updates/main postfix amd64 2.9.6-1~12.04.1 [1,320 kB]\n"
       ]
      },
      {
       "output_type": "stream",
       "stream": "stdout",
       "text": [
        "[ubuntu@ec2-54-243-24-167.compute-1.amazonaws.com] out: "
       ]
      },
      {
       "output_type": "stream",
       "stream": "stdout",
       "text": [
        "Fetched 1,320 kB in 0s (7,639 kB/s)\n"
       ]
      },
      {
       "output_type": "stream",
       "stream": "stdout",
       "text": [
        "[ubuntu@ec2-54-243-24-167.compute-1.amazonaws.com] out: "
       ]
      },
      {
       "output_type": "stream",
       "stream": "stdout",
       "text": [
        "Preconfiguring packages ...\n"
       ]
      },
      {
       "output_type": "stream",
       "stream": "stdout",
       "text": [
        "[ubuntu@ec2-54-243-24-167.compute-1.amazonaws.com] out: "
       ]
      },
      {
       "output_type": "stream",
       "stream": "stdout",
       "text": [
        "Selecting previously unselected package postfix.\n"
       ]
      },
      {
       "output_type": "stream",
       "stream": "stdout",
       "text": [
        "[ubuntu@ec2-54-243-24-167.compute-1.amazonaws.com] out: "
       ]
      },
      {
       "output_type": "stream",
       "stream": "stdout",
       "text": [
        "(Reading database ... "
       ]
      },
      {
       "output_type": "stream",
       "stream": "stdout",
       "text": [
        "\n"
       ]
      },
      {
       "output_type": "stream",
       "stream": "stdout",
       "text": [
        "[ubuntu@ec2-54-243-24-167.compute-1.amazonaws.com] out: "
       ]
      },
      {
       "output_type": "stream",
       "stream": "stdout",
       "text": [
        "(Reading database ... 5%"
       ]
      },
      {
       "output_type": "stream",
       "stream": "stdout",
       "text": [
        "\n"
       ]
      },
      {
       "output_type": "stream",
       "stream": "stdout",
       "text": [
        "[ubuntu@ec2-54-243-24-167.compute-1.amazonaws.com] out: "
       ]
      },
      {
       "output_type": "stream",
       "stream": "stdout",
       "text": [
        "(Reading database ... 10%\n"
       ]
      },
      {
       "output_type": "stream",
       "stream": "stdout",
       "text": [
        "[ubuntu@ec2-54-243-24-167.compute-1.amazonaws.com] out: "
       ]
      },
      {
       "output_type": "stream",
       "stream": "stdout",
       "text": [
        "(Reading database ... 15%\n"
       ]
      },
      {
       "output_type": "stream",
       "stream": "stdout",
       "text": [
        "[ubuntu@ec2-54-243-24-167.compute-1.amazonaws.com] out: "
       ]
      },
      {
       "output_type": "stream",
       "stream": "stdout",
       "text": [
        "(Reading database ... 20%\n"
       ]
      },
      {
       "output_type": "stream",
       "stream": "stdout",
       "text": [
        "[ubuntu@ec2-54-243-24-167.compute-1.amazonaws.com] out: "
       ]
      },
      {
       "output_type": "stream",
       "stream": "stdout",
       "text": [
        "(Reading database ... 25%\n"
       ]
      },
      {
       "output_type": "stream",
       "stream": "stdout",
       "text": [
        "[ubuntu@ec2-54-243-24-167.compute-1.amazonaws.com] out: "
       ]
      },
      {
       "output_type": "stream",
       "stream": "stdout",
       "text": [
        "(Reading database ... 30%"
       ]
      },
      {
       "output_type": "stream",
       "stream": "stdout",
       "text": [
        "\n"
       ]
      },
      {
       "output_type": "stream",
       "stream": "stdout",
       "text": [
        "[ubuntu@ec2-54-243-24-167.compute-1.amazonaws.com] out: "
       ]
      },
      {
       "output_type": "stream",
       "stream": "stdout",
       "text": [
        "(Reading database ... 35%\n"
       ]
      },
      {
       "output_type": "stream",
       "stream": "stdout",
       "text": [
        "[ubuntu@ec2-54-243-24-167.compute-1.amazonaws.com] out: "
       ]
      },
      {
       "output_type": "stream",
       "stream": "stdout",
       "text": [
        "(Reading database ... 40%"
       ]
      },
      {
       "output_type": "stream",
       "stream": "stdout",
       "text": [
        "\n"
       ]
      },
      {
       "output_type": "stream",
       "stream": "stdout",
       "text": [
        "[ubuntu@ec2-54-243-24-167.compute-1.amazonaws.com] out: "
       ]
      },
      {
       "output_type": "stream",
       "stream": "stdout",
       "text": [
        "(Reading database ... 45%\n"
       ]
      },
      {
       "output_type": "stream",
       "stream": "stdout",
       "text": [
        "[ubuntu@ec2-54-243-24-167.compute-1.amazonaws.com] out: "
       ]
      },
      {
       "output_type": "stream",
       "stream": "stdout",
       "text": [
        "(Reading database ... 50%\n"
       ]
      },
      {
       "output_type": "stream",
       "stream": "stdout",
       "text": [
        "[ubuntu@ec2-54-243-24-167.compute-1.amazonaws.com] out: "
       ]
      },
      {
       "output_type": "stream",
       "stream": "stdout",
       "text": [
        "(Reading database ... 55%\n"
       ]
      },
      {
       "output_type": "stream",
       "stream": "stdout",
       "text": [
        "[ubuntu@ec2-54-243-24-167.compute-1.amazonaws.com] out: "
       ]
      },
      {
       "output_type": "stream",
       "stream": "stdout",
       "text": [
        "(Reading database ... 60%\n"
       ]
      },
      {
       "output_type": "stream",
       "stream": "stdout",
       "text": [
        "[ubuntu@ec2-54-243-24-167.compute-1.amazonaws.com] out: "
       ]
      },
      {
       "output_type": "stream",
       "stream": "stdout",
       "text": [
        "(Reading database ... 65%\n"
       ]
      },
      {
       "output_type": "stream",
       "stream": "stdout",
       "text": [
        "[ubuntu@ec2-54-243-24-167.compute-1.amazonaws.com] out: "
       ]
      },
      {
       "output_type": "stream",
       "stream": "stdout",
       "text": [
        "(Reading database ... 70%\n"
       ]
      },
      {
       "output_type": "stream",
       "stream": "stdout",
       "text": [
        "[ubuntu@ec2-54-243-24-167.compute-1.amazonaws.com] out: "
       ]
      },
      {
       "output_type": "stream",
       "stream": "stdout",
       "text": [
        "(Reading database ... 75%\n"
       ]
      },
      {
       "output_type": "stream",
       "stream": "stdout",
       "text": [
        "[ubuntu@ec2-54-243-24-167.compute-1.amazonaws.com] out: "
       ]
      },
      {
       "output_type": "stream",
       "stream": "stdout",
       "text": [
        "(Reading database ... 80%\n"
       ]
      },
      {
       "output_type": "stream",
       "stream": "stdout",
       "text": [
        "[ubuntu@ec2-54-243-24-167.compute-1.amazonaws.com] out: "
       ]
      },
      {
       "output_type": "stream",
       "stream": "stdout",
       "text": [
        "(Reading database ... 85%\n"
       ]
      },
      {
       "output_type": "stream",
       "stream": "stdout",
       "text": [
        "[ubuntu@ec2-54-243-24-167.compute-1.amazonaws.com] out: "
       ]
      },
      {
       "output_type": "stream",
       "stream": "stdout",
       "text": [
        "(Reading database ... 90%\n"
       ]
      },
      {
       "output_type": "stream",
       "stream": "stdout",
       "text": [
        "[ubuntu@ec2-54-243-24-167.compute-1.amazonaws.com] out: "
       ]
      },
      {
       "output_type": "stream",
       "stream": "stdout",
       "text": [
        "(Reading database ... 95%\n"
       ]
      },
      {
       "output_type": "stream",
       "stream": "stdout",
       "text": [
        "[ubuntu@ec2-54-243-24-167.compute-1.amazonaws.com] out: "
       ]
      },
      {
       "output_type": "stream",
       "stream": "stdout",
       "text": [
        "(Reading database ... 100%\n"
       ]
      },
      {
       "output_type": "stream",
       "stream": "stdout",
       "text": [
        "[ubuntu@ec2-54-243-24-167.compute-1.amazonaws.com] out: "
       ]
      },
      {
       "output_type": "stream",
       "stream": "stdout",
       "text": [
        "(Reading database ... 77243 files and directories currently installed.)\n"
       ]
      },
      {
       "output_type": "stream",
       "stream": "stdout",
       "text": [
        "[ubuntu@ec2-54-243-24-167.compute-1.amazonaws.com] out: "
       ]
      },
      {
       "output_type": "stream",
       "stream": "stdout",
       "text": [
        "Unpacking postfix (from .../postfix_2.9.6-1~12.04.1_amd64.deb) ...\n"
       ]
      },
      {
       "output_type": "stream",
       "stream": "stdout",
       "text": [
        "[ubuntu@ec2-54-243-24-167.compute-1.amazonaws.com] out: "
       ]
      },
      {
       "output_type": "stream",
       "stream": "stdout",
       "text": [
        "Processing triggers for man-db ...\n"
       ]
      },
      {
       "output_type": "stream",
       "stream": "stdout",
       "text": [
        "[ubuntu@ec2-54-243-24-167.compute-1.amazonaws.com] out: "
       ]
      },
      {
       "output_type": "stream",
       "stream": "stdout",
       "text": [
        "Processing triggers for ureadahead ...\n"
       ]
      },
      {
       "output_type": "stream",
       "stream": "stdout",
       "text": [
        "[ubuntu@ec2-54-243-24-167.compute-1.amazonaws.com] out: "
       ]
      },
      {
       "output_type": "stream",
       "stream": "stdout",
       "text": [
        "Processing triggers for ufw ...\n"
       ]
      },
      {
       "output_type": "stream",
       "stream": "stdout",
       "text": [
        "[ubuntu@ec2-54-243-24-167.compute-1.amazonaws.com] out: "
       ]
      },
      {
       "output_type": "stream",
       "stream": "stdout",
       "text": [
        "Setting up postfix (2.9.6-1~12.04.1) ...\n"
       ]
      },
      {
       "output_type": "stream",
       "stream": "stdout",
       "text": [
        "[ubuntu@ec2-54-243-24-167.compute-1.amazonaws.com] out: "
       ]
      },
      {
       "output_type": "stream",
       "stream": "stdout",
       "text": [
        "Adding group `postfix' (GID 114) ...\n"
       ]
      },
      {
       "output_type": "stream",
       "stream": "stdout",
       "text": [
        "[ubuntu@ec2-54-243-24-167.compute-1.amazonaws.com] out: "
       ]
      },
      {
       "output_type": "stream",
       "stream": "stdout",
       "text": [
        "Done.\n"
       ]
      },
      {
       "output_type": "stream",
       "stream": "stdout",
       "text": [
        "[ubuntu@ec2-54-243-24-167.compute-1.amazonaws.com] out: "
       ]
      },
      {
       "output_type": "stream",
       "stream": "stdout",
       "text": [
        "Adding system user `postfix' (UID 107) ...\n"
       ]
      },
      {
       "output_type": "stream",
       "stream": "stdout",
       "text": [
        "[ubuntu@ec2-54-243-24-167.compute-1.amazonaws.com] out: "
       ]
      },
      {
       "output_type": "stream",
       "stream": "stdout",
       "text": [
        "Adding new user `postfix' (UID 107) with group `postfix' ...\n"
       ]
      },
      {
       "output_type": "stream",
       "stream": "stdout",
       "text": [
        "[ubuntu@ec2-54-243-24-167.compute-1.amazonaws.com] out: "
       ]
      },
      {
       "output_type": "stream",
       "stream": "stdout",
       "text": [
        "Not creating home directory `/var/spool/postfix'.\n"
       ]
      },
      {
       "output_type": "stream",
       "stream": "stdout",
       "text": [
        "[ubuntu@ec2-54-243-24-167.compute-1.amazonaws.com] out: "
       ]
      },
      {
       "output_type": "stream",
       "stream": "stdout",
       "text": [
        "Creating /etc/postfix/dynamicmaps.cf\n"
       ]
      },
      {
       "output_type": "stream",
       "stream": "stdout",
       "text": [
        "[ubuntu@ec2-54-243-24-167.compute-1.amazonaws.com] out: "
       ]
      },
      {
       "output_type": "stream",
       "stream": "stdout",
       "text": [
        "Adding tcp map entry to /etc/postfix/dynamicmaps.cf\n"
       ]
      },
      {
       "output_type": "stream",
       "stream": "stdout",
       "text": [
        "[ubuntu@ec2-54-243-24-167.compute-1.amazonaws.com] out: "
       ]
      },
      {
       "output_type": "stream",
       "stream": "stdout",
       "text": [
        "Adding sqlite map entry to /etc/postfix/dynamicmaps.cf\n"
       ]
      },
      {
       "output_type": "stream",
       "stream": "stdout",
       "text": [
        "[ubuntu@ec2-54-243-24-167.compute-1.amazonaws.com] out: "
       ]
      },
      {
       "output_type": "stream",
       "stream": "stdout",
       "text": [
        "Adding group `postdrop' (GID 115) ...\n"
       ]
      },
      {
       "output_type": "stream",
       "stream": "stdout",
       "text": [
        "[ubuntu@ec2-54-243-24-167.compute-1.amazonaws.com] out: "
       ]
      },
      {
       "output_type": "stream",
       "stream": "stdout",
       "text": [
        "Done.\n"
       ]
      },
      {
       "output_type": "stream",
       "stream": "stdout",
       "text": [
        "[ubuntu@ec2-54-243-24-167.compute-1.amazonaws.com] out: "
       ]
      },
      {
       "output_type": "stream",
       "stream": "stdout",
       "text": [
        "setting myhostname: ip-10-202-34-195.ec2.internal\n"
       ]
      },
      {
       "output_type": "stream",
       "stream": "stdout",
       "text": [
        "[ubuntu@ec2-54-243-24-167.compute-1.amazonaws.com] out: "
       ]
      },
      {
       "output_type": "stream",
       "stream": "stdout",
       "text": [
        "setting alias maps\n"
       ]
      },
      {
       "output_type": "stream",
       "stream": "stdout",
       "text": [
        "[ubuntu@ec2-54-243-24-167.compute-1.amazonaws.com] out: "
       ]
      },
      {
       "output_type": "stream",
       "stream": "stdout",
       "text": [
        "setting alias database\n"
       ]
      },
      {
       "output_type": "stream",
       "stream": "stdout",
       "text": [
        "[ubuntu@ec2-54-243-24-167.compute-1.amazonaws.com] out: "
       ]
      },
      {
       "output_type": "stream",
       "stream": "stdout",
       "text": [
        "changing /etc/mailname to ip-10-202-34-195.ec2.internal\n"
       ]
      },
      {
       "output_type": "stream",
       "stream": "stdout",
       "text": [
        "[ubuntu@ec2-54-243-24-167.compute-1.amazonaws.com] out: "
       ]
      },
      {
       "output_type": "stream",
       "stream": "stdout",
       "text": [
        "setting myorigin\n"
       ]
      },
      {
       "output_type": "stream",
       "stream": "stdout",
       "text": [
        "[ubuntu@ec2-54-243-24-167.compute-1.amazonaws.com] out: "
       ]
      },
      {
       "output_type": "stream",
       "stream": "stdout",
       "text": [
        "setting destinations: ip-10-202-34-195.ec2.internal, localhost.ec2.internal, , localhost\n"
       ]
      },
      {
       "output_type": "stream",
       "stream": "stdout",
       "text": [
        "[ubuntu@ec2-54-243-24-167.compute-1.amazonaws.com] out: "
       ]
      },
      {
       "output_type": "stream",
       "stream": "stdout",
       "text": [
        "setting relayhost: \n"
       ]
      },
      {
       "output_type": "stream",
       "stream": "stdout",
       "text": [
        "[ubuntu@ec2-54-243-24-167.compute-1.amazonaws.com] out: "
       ]
      },
      {
       "output_type": "stream",
       "stream": "stdout",
       "text": [
        "setting mynetworks: 127.0.0.0/8 [::ffff:127.0.0.0]/104 [::1]/128\n"
       ]
      },
      {
       "output_type": "stream",
       "stream": "stdout",
       "text": [
        "[ubuntu@ec2-54-243-24-167.compute-1.amazonaws.com] out: "
       ]
      },
      {
       "output_type": "stream",
       "stream": "stdout",
       "text": [
        "setting mailbox_size_limit: 0\n"
       ]
      },
      {
       "output_type": "stream",
       "stream": "stdout",
       "text": [
        "[ubuntu@ec2-54-243-24-167.compute-1.amazonaws.com] out: "
       ]
      },
      {
       "output_type": "stream",
       "stream": "stdout",
       "text": [
        "setting recipient_delimiter: +\n"
       ]
      },
      {
       "output_type": "stream",
       "stream": "stdout",
       "text": [
        "[ubuntu@ec2-54-243-24-167.compute-1.amazonaws.com] out: "
       ]
      },
      {
       "output_type": "stream",
       "stream": "stdout",
       "text": [
        "setting inet_interfaces: all\n"
       ]
      },
      {
       "output_type": "stream",
       "stream": "stdout",
       "text": [
        "[ubuntu@ec2-54-243-24-167.compute-1.amazonaws.com] out: "
       ]
      },
      {
       "output_type": "stream",
       "stream": "stdout",
       "text": [
        "/etc/aliases does not exist, creating it.\n"
       ]
      },
      {
       "output_type": "stream",
       "stream": "stdout",
       "text": [
        "[ubuntu@ec2-54-243-24-167.compute-1.amazonaws.com] out: "
       ]
      },
      {
       "output_type": "stream",
       "stream": "stdout",
       "text": [
        "WARNING: /etc/aliases exists, but does not have a root alias.\n"
       ]
      },
      {
       "output_type": "stream",
       "stream": "stdout",
       "text": [
        "[ubuntu@ec2-54-243-24-167.compute-1.amazonaws.com] out: "
       ]
      },
      {
       "output_type": "stream",
       "stream": "stdout",
       "text": [
        "\n"
       ]
      },
      {
       "output_type": "stream",
       "stream": "stdout",
       "text": [
        "[ubuntu@ec2-54-243-24-167.compute-1.amazonaws.com] out: "
       ]
      },
      {
       "output_type": "stream",
       "stream": "stdout",
       "text": [
        "Postfix is now set up with a default configuration.  If you need to make \n"
       ]
      },
      {
       "output_type": "stream",
       "stream": "stdout",
       "text": [
        "[ubuntu@ec2-54-243-24-167.compute-1.amazonaws.com] out: "
       ]
      },
      {
       "output_type": "stream",
       "stream": "stdout",
       "text": [
        "changes, edit\n"
       ]
      },
      {
       "output_type": "stream",
       "stream": "stdout",
       "text": [
        "[ubuntu@ec2-54-243-24-167.compute-1.amazonaws.com] out: "
       ]
      },
      {
       "output_type": "stream",
       "stream": "stdout",
       "text": [
        "/etc/postfix/main.cf (and others) as needed.  To view Postfix configuration\n"
       ]
      },
      {
       "output_type": "stream",
       "stream": "stdout",
       "text": [
        "[ubuntu@ec2-54-243-24-167.compute-1.amazonaws.com] out: "
       ]
      },
      {
       "output_type": "stream",
       "stream": "stdout",
       "text": [
        "values, see postconf(1).\n"
       ]
      },
      {
       "output_type": "stream",
       "stream": "stdout",
       "text": [
        "[ubuntu@ec2-54-243-24-167.compute-1.amazonaws.com] out: "
       ]
      },
      {
       "output_type": "stream",
       "stream": "stdout",
       "text": [
        "\n"
       ]
      },
      {
       "output_type": "stream",
       "stream": "stdout",
       "text": [
        "[ubuntu@ec2-54-243-24-167.compute-1.amazonaws.com] out: "
       ]
      },
      {
       "output_type": "stream",
       "stream": "stdout",
       "text": [
        "After modifying main.cf, be sure to run '/etc/init.d/postfix reload'.\n"
       ]
      },
      {
       "output_type": "stream",
       "stream": "stdout",
       "text": [
        "[ubuntu@ec2-54-243-24-167.compute-1.amazonaws.com] out: "
       ]
      },
      {
       "output_type": "stream",
       "stream": "stdout",
       "text": [
        "\n"
       ]
      },
      {
       "output_type": "stream",
       "stream": "stdout",
       "text": [
        "[ubuntu@ec2-54-243-24-167.compute-1.amazonaws.com] out: "
       ]
      },
      {
       "output_type": "stream",
       "stream": "stdout",
       "text": [
        "Running newaliases\n"
       ]
      },
      {
       "output_type": "stream",
       "stream": "stdout",
       "text": [
        "[ubuntu@ec2-54-243-24-167.compute-1.amazonaws.com] out: "
       ]
      },
      {
       "output_type": "stream",
       "stream": "stdout",
       "text": [
        " * Stopping Postfix Mail Transport Agent postfix\n"
       ]
      },
      {
       "output_type": "stream",
       "stream": "stdout",
       "text": [
        "[ubuntu@ec2-54-243-24-167.compute-1.amazonaws.com] out: "
       ]
      },
      {
       "output_type": "stream",
       "stream": "stdout",
       "text": [
        "   ...done.\n"
       ]
      },
      {
       "output_type": "stream",
       "stream": "stdout",
       "text": [
        "[ubuntu@ec2-54-243-24-167.compute-1.amazonaws.com] out: "
       ]
      },
      {
       "output_type": "stream",
       "stream": "stdout",
       "text": [
        " * Starting Postfix Mail Transport Agent postfix\n"
       ]
      },
      {
       "output_type": "stream",
       "stream": "stdout",
       "text": [
        "[ubuntu@ec2-54-243-24-167.compute-1.amazonaws.com] out: "
       ]
      },
      {
       "output_type": "stream",
       "stream": "stdout",
       "text": [
        "   ...done.\n"
       ]
      },
      {
       "output_type": "stream",
       "stream": "stdout",
       "text": [
        "[ubuntu@ec2-54-243-24-167.compute-1.amazonaws.com] out: "
       ]
      },
      {
       "output_type": "stream",
       "stream": "stdout",
       "text": [
        "Processing triggers for libc-bin ...\n"
       ]
      },
      {
       "output_type": "stream",
       "stream": "stdout",
       "text": [
        "[ubuntu@ec2-54-243-24-167.compute-1.amazonaws.com] out: "
       ]
      },
      {
       "output_type": "stream",
       "stream": "stdout",
       "text": [
        "ldconfig deferred processing now taking place\n"
       ]
      },
      {
       "output_type": "stream",
       "stream": "stdout",
       "text": [
        "[ubuntu@ec2-54-243-24-167.compute-1.amazonaws.com] out: "
       ]
      },
      {
       "output_type": "stream",
       "stream": "stdout",
       "text": [
        "\n"
       ]
      },
      {
       "output_type": "stream",
       "stream": "stdout",
       "text": [
        "\n",
        "[ubuntu@ec2-54-243-24-167.compute-1.amazonaws.com] sudo: mkdir /opt/regluit\n",
        "[ubuntu@ec2-54-243-24-167.compute-1.amazonaws.com] sudo: chown ubuntu:ubuntu /opt/regluit"
       ]
      },
      {
       "output_type": "stream",
       "stream": "stdout",
       "text": [
        "\n",
        "[ubuntu@ec2-54-243-24-167.compute-1.amazonaws.com] run: git config --global user.name \"Raymond Yee\""
       ]
      },
      {
       "output_type": "stream",
       "stream": "stdout",
       "text": [
        "\n",
        "[ubuntu@ec2-54-243-24-167.compute-1.amazonaws.com] run: git config --global user.email \"rdhyee@gluejar.com\""
       ]
      },
      {
       "output_type": "stream",
       "stream": "stdout",
       "text": [
        "\n",
        "[ubuntu@ec2-54-243-24-167.compute-1.amazonaws.com] run: ssh-keygen -b 2048 -t rsa -f /home/ubuntu/.ssh/id_rsa -P \"\""
       ]
      },
      {
       "output_type": "stream",
       "stream": "stdout",
       "text": [
        "\n",
        "[ubuntu@ec2-54-243-24-167.compute-1.amazonaws.com] out: "
       ]
      },
      {
       "output_type": "stream",
       "stream": "stdout",
       "text": [
        "Generating public/private rsa key pair.\n"
       ]
      },
      {
       "output_type": "stream",
       "stream": "stdout",
       "text": [
        "[ubuntu@ec2-54-243-24-167.compute-1.amazonaws.com] out: "
       ]
      },
      {
       "output_type": "stream",
       "stream": "stdout",
       "text": [
        "Your identification has been saved in /home/ubuntu/.ssh/id_rsa.\n"
       ]
      },
      {
       "output_type": "stream",
       "stream": "stdout",
       "text": [
        "[ubuntu@ec2-54-243-24-167.compute-1.amazonaws.com] out: "
       ]
      },
      {
       "output_type": "stream",
       "stream": "stdout",
       "text": [
        "Your public key has been saved in /home/ubuntu/.ssh/id_rsa.pub.\n"
       ]
      },
      {
       "output_type": "stream",
       "stream": "stdout",
       "text": [
        "[ubuntu@ec2-54-243-24-167.compute-1.amazonaws.com] out: "
       ]
      },
      {
       "output_type": "stream",
       "stream": "stdout",
       "text": [
        "The key fingerprint is:\n"
       ]
      },
      {
       "output_type": "stream",
       "stream": "stdout",
       "text": [
        "[ubuntu@ec2-54-243-24-167.compute-1.amazonaws.com] out: "
       ]
      },
      {
       "output_type": "stream",
       "stream": "stdout",
       "text": [
        "10:db:2c:69:51:84:09:fc:90:a7:b7:07:b7:f5:60:e2 ubuntu@ip-10-202-34-195\n"
       ]
      },
      {
       "output_type": "stream",
       "stream": "stdout",
       "text": [
        "[ubuntu@ec2-54-243-24-167.compute-1.amazonaws.com] out: "
       ]
      },
      {
       "output_type": "stream",
       "stream": "stdout",
       "text": [
        "The key's randomart image is:\n"
       ]
      },
      {
       "output_type": "stream",
       "stream": "stdout",
       "text": [
        "[ubuntu@ec2-54-243-24-167.compute-1.amazonaws.com] out: "
       ]
      },
      {
       "output_type": "stream",
       "stream": "stdout",
       "text": [
        "+--[ RSA 2048]----+\n"
       ]
      },
      {
       "output_type": "stream",
       "stream": "stdout",
       "text": [
        "[ubuntu@ec2-54-243-24-167.compute-1.amazonaws.com] out: "
       ]
      },
      {
       "output_type": "stream",
       "stream": "stdout",
       "text": [
        "|   ..oo=o        |\n"
       ]
      },
      {
       "output_type": "stream",
       "stream": "stdout",
       "text": [
        "[ubuntu@ec2-54-243-24-167.compute-1.amazonaws.com] out: "
       ]
      },
      {
       "output_type": "stream",
       "stream": "stdout",
       "text": [
        "|    + +B         |\n"
       ]
      },
      {
       "output_type": "stream",
       "stream": "stdout",
       "text": [
        "[ubuntu@ec2-54-243-24-167.compute-1.amazonaws.com] out: "
       ]
      },
      {
       "output_type": "stream",
       "stream": "stdout",
       "text": [
        "|     =* o        |\n"
       ]
      },
      {
       "output_type": "stream",
       "stream": "stdout",
       "text": [
        "[ubuntu@ec2-54-243-24-167.compute-1.amazonaws.com] out: "
       ]
      },
      {
       "output_type": "stream",
       "stream": "stdout",
       "text": [
        "|    ..+oo +      |\n"
       ]
      },
      {
       "output_type": "stream",
       "stream": "stdout",
       "text": [
        "[ubuntu@ec2-54-243-24-167.compute-1.amazonaws.com] out: "
       ]
      },
      {
       "output_type": "stream",
       "stream": "stdout",
       "text": [
        "|     . =S= o     |\n"
       ]
      },
      {
       "output_type": "stream",
       "stream": "stdout",
       "text": [
        "[ubuntu@ec2-54-243-24-167.compute-1.amazonaws.com] out: "
       ]
      },
      {
       "output_type": "stream",
       "stream": "stdout",
       "text": [
        "|      . E   .    |\n"
       ]
      },
      {
       "output_type": "stream",
       "stream": "stdout",
       "text": [
        "[ubuntu@ec2-54-243-24-167.compute-1.amazonaws.com] out: "
       ]
      },
      {
       "output_type": "stream",
       "stream": "stdout",
       "text": [
        "|       .         |\n"
       ]
      },
      {
       "output_type": "stream",
       "stream": "stdout",
       "text": [
        "[ubuntu@ec2-54-243-24-167.compute-1.amazonaws.com] out: "
       ]
      },
      {
       "output_type": "stream",
       "stream": "stdout",
       "text": [
        "|                 |\n"
       ]
      },
      {
       "output_type": "stream",
       "stream": "stdout",
       "text": [
        "[ubuntu@ec2-54-243-24-167.compute-1.amazonaws.com] out: "
       ]
      },
      {
       "output_type": "stream",
       "stream": "stdout",
       "text": [
        "|                 |\n"
       ]
      },
      {
       "output_type": "stream",
       "stream": "stdout",
       "text": [
        "[ubuntu@ec2-54-243-24-167.compute-1.amazonaws.com] out: "
       ]
      },
      {
       "output_type": "stream",
       "stream": "stdout",
       "text": [
        "+-----------------+\n"
       ]
      },
      {
       "output_type": "stream",
       "stream": "stdout",
       "text": [
        "[ubuntu@ec2-54-243-24-167.compute-1.amazonaws.com] out: "
       ]
      },
      {
       "output_type": "stream",
       "stream": "stdout",
       "text": [
        "\n"
       ]
      },
      {
       "output_type": "stream",
       "stream": "stdout",
       "text": [
        "\n",
        "[ubuntu@ec2-54-243-24-167.compute-1.amazonaws.com] download: <file obj> <- /home/ubuntu/.ssh/id_rsa.pub"
       ]
      },
      {
       "output_type": "stream",
       "stream": "stdout",
       "text": [
        "\n",
        "[ubuntu@ec2-54-243-24-167.compute-1.amazonaws.com] run: echo -e \"Host github.com\n",
        "\tStrictHostKeyChecking no\n",
        "\" >> ~/.ssh/config"
       ]
      },
      {
       "output_type": "stream",
       "stream": "stdout",
       "text": [
        "\n",
        "[ubuntu@ec2-54-243-24-167.compute-1.amazonaws.com] run: yes | git clone git@github.com:Gluejar/regluit.git"
       ]
      },
      {
       "output_type": "stream",
       "stream": "stdout",
       "text": [
        "\n",
        "[ubuntu@ec2-54-243-24-167.compute-1.amazonaws.com] out: "
       ]
      },
      {
       "output_type": "stream",
       "stream": "stdout",
       "text": [
        "Cloning into 'regluit'...\n"
       ]
      },
      {
       "output_type": "stream",
       "stream": "stdout",
       "text": [
        "[ubuntu@ec2-54-243-24-167.compute-1.amazonaws.com] out: "
       ]
      },
      {
       "output_type": "stream",
       "stream": "stdout",
       "text": [
        "Warning: Permanently added 'github.com,204.232.175.90' (RSA) to the list of known hosts.\n"
       ]
      },
      {
       "output_type": "stream",
       "stream": "stdout",
       "text": [
        "[ubuntu@ec2-54-243-24-167.compute-1.amazonaws.com] out: "
       ]
      },
      {
       "output_type": "stream",
       "stream": "stdout",
       "text": [
        "\n"
       ]
      },
      {
       "output_type": "stream",
       "stream": "stdout",
       "text": [
        "[ubuntu@ec2-54-243-24-167.compute-1.amazonaws.com] out: "
       ]
      },
      {
       "output_type": "stream",
       "stream": "stdout",
       "text": [
        "remote: Counting objects: 24062, done.\u001b[K\n"
       ]
      },
      {
       "output_type": "stream",
       "stream": "stdout",
       "text": [
        "[ubuntu@ec2-54-243-24-167.compute-1.amazonaws.com] out: "
       ]
      },
      {
       "output_type": "stream",
       "stream": "stdout",
       "text": [
        "remote: Compressing objects:   0% (1/7102)   \u001b[K\n"
       ]
      },
      {
       "output_type": "stream",
       "stream": "stdout",
       "text": [
        "[ubuntu@ec2-54-243-24-167.compute-1.amazonaws.com] out: "
       ]
      },
      {
       "output_type": "stream",
       "stream": "stdout",
       "text": [
        "remote: Compressing objects:   1% (72/7102)   \u001b[K\n"
       ]
      },
      {
       "output_type": "stream",
       "stream": "stdout",
       "text": [
        "[ubuntu@ec2-54-243-24-167.compute-1.amazonaws.com] out: "
       ]
      },
      {
       "output_type": "stream",
       "stream": "stdout",
       "text": [
        "remote: Compressing objects:   2% (143/7102)   \u001b[K\n"
       ]
      },
      {
       "output_type": "stream",
       "stream": "stdout",
       "text": [
        "[ubuntu@ec2-54-243-24-167.compute-1.amazonaws.com] out: "
       ]
      },
      {
       "output_type": "stream",
       "stream": "stdout",
       "text": [
        "remote: Compressing objects:   3% (214/7102)   \u001b[K\n"
       ]
      },
      {
       "output_type": "stream",
       "stream": "stdout",
       "text": [
        "[ubuntu@ec2-54-243-24-167.compute-1.amazonaws.com] out: "
       ]
      },
      {
       "output_type": "stream",
       "stream": "stdout",
       "text": [
        "remote: Compressing objects:   4% (285/7102)   \u001b[K\n"
       ]
      },
      {
       "output_type": "stream",
       "stream": "stdout",
       "text": [
        "[ubuntu@ec2-54-243-24-167.compute-1.amazonaws.com] out: "
       ]
      },
      {
       "output_type": "stream",
       "stream": "stdout",
       "text": [
        "remote: Compressing objects:   5% (356/7102)   \u001b[K\n"
       ]
      },
      {
       "output_type": "stream",
       "stream": "stdout",
       "text": [
        "[ubuntu@ec2-54-243-24-167.compute-1.amazonaws.com] out: "
       ]
      },
      {
       "output_type": "stream",
       "stream": "stdout",
       "text": [
        "remote: Compressing objects:   6% (427/7102)   \u001b[K\n"
       ]
      },
      {
       "output_type": "stream",
       "stream": "stdout",
       "text": [
        "[ubuntu@ec2-54-243-24-167.compute-1.amazonaws.com] out: "
       ]
      },
      {
       "output_type": "stream",
       "stream": "stdout",
       "text": [
        "remote: Compressing objects:   7% (498/7102)   \u001b[K\n"
       ]
      },
      {
       "output_type": "stream",
       "stream": "stdout",
       "text": [
        "[ubuntu@ec2-54-243-24-167.compute-1.amazonaws.com] out: "
       ]
      },
      {
       "output_type": "stream",
       "stream": "stdout",
       "text": [
        "remote: Compressing objects:   8% (569/7102)   \u001b[K\n"
       ]
      },
      {
       "output_type": "stream",
       "stream": "stdout",
       "text": [
        "[ubuntu@ec2-54-243-24-167.compute-1.amazonaws.com] out: "
       ]
      },
      {
       "output_type": "stream",
       "stream": "stdout",
       "text": [
        "remote: Compressing objects:   9% (640/7102)   \u001b[K\n"
       ]
      },
      {
       "output_type": "stream",
       "stream": "stdout",
       "text": [
        "[ubuntu@ec2-54-243-24-167.compute-1.amazonaws.com] out: "
       ]
      },
      {
       "output_type": "stream",
       "stream": "stdout",
       "text": [
        "remote: Compressing objects:  10% (711/7102)   \u001b[K\n"
       ]
      },
      {
       "output_type": "stream",
       "stream": "stdout",
       "text": [
        "[ubuntu@ec2-54-243-24-167.compute-1.amazonaws.com] out: "
       ]
      },
      {
       "output_type": "stream",
       "stream": "stdout",
       "text": [
        "remote: Compressing objects:  11% (782/7102)   \u001b[K\n"
       ]
      },
      {
       "output_type": "stream",
       "stream": "stdout",
       "text": [
        "[ubuntu@ec2-54-243-24-167.compute-1.amazonaws.com] out: "
       ]
      },
      {
       "output_type": "stream",
       "stream": "stdout",
       "text": [
        "remote: Compressing objects:  12% (853/7102)   \u001b[K\n"
       ]
      },
      {
       "output_type": "stream",
       "stream": "stdout",
       "text": [
        "[ubuntu@ec2-54-243-24-167.compute-1.amazonaws.com] out: "
       ]
      },
      {
       "output_type": "stream",
       "stream": "stdout",
       "text": [
        "remote: Compressing objects:  13% (924/7102)   \u001b[K\n"
       ]
      },
      {
       "output_type": "stream",
       "stream": "stdout",
       "text": [
        "[ubuntu@ec2-54-243-24-167.compute-1.amazonaws.com] out: "
       ]
      },
      {
       "output_type": "stream",
       "stream": "stdout",
       "text": [
        "remote: Compressing objects:  14% (995/7102)   \u001b[K\n"
       ]
      },
      {
       "output_type": "stream",
       "stream": "stdout",
       "text": [
        "[ubuntu@ec2-54-243-24-167.compute-1.amazonaws.com] out: "
       ]
      },
      {
       "output_type": "stream",
       "stream": "stdout",
       "text": [
        "remote: Compressing objects:  15% (1066/7102)   \u001b[K\n"
       ]
      },
      {
       "output_type": "stream",
       "stream": "stdout",
       "text": [
        "[ubuntu@ec2-54-243-24-167.compute-1.amazonaws.com] out: "
       ]
      },
      {
       "output_type": "stream",
       "stream": "stdout",
       "text": [
        "remote: Compressing objects:  16% (1137/7102)   \u001b[K\n"
       ]
      },
      {
       "output_type": "stream",
       "stream": "stdout",
       "text": [
        "[ubuntu@ec2-54-243-24-167.compute-1.amazonaws.com] out: "
       ]
      },
      {
       "output_type": "stream",
       "stream": "stdout",
       "text": [
        "remote: Compressing objects:  17% (1208/7102)   \u001b[K\n"
       ]
      },
      {
       "output_type": "stream",
       "stream": "stdout",
       "text": [
        "[ubuntu@ec2-54-243-24-167.compute-1.amazonaws.com] out: "
       ]
      },
      {
       "output_type": "stream",
       "stream": "stdout",
       "text": [
        "remote: Compressing objects:  18% (1279/7102)   \u001b[K\n"
       ]
      },
      {
       "output_type": "stream",
       "stream": "stdout",
       "text": [
        "[ubuntu@ec2-54-243-24-167.compute-1.amazonaws.com] out: "
       ]
      },
      {
       "output_type": "stream",
       "stream": "stdout",
       "text": [
        "remote: Compressing objects:  19% (1350/7102)   \u001b[K\n"
       ]
      },
      {
       "output_type": "stream",
       "stream": "stdout",
       "text": [
        "[ubuntu@ec2-54-243-24-167.compute-1.amazonaws.com] out: "
       ]
      },
      {
       "output_type": "stream",
       "stream": "stdout",
       "text": [
        "remote: Compressing objects:  20% (1421/7102)   \u001b[K\n"
       ]
      },
      {
       "output_type": "stream",
       "stream": "stdout",
       "text": [
        "[ubuntu@ec2-54-243-24-167.compute-1.amazonaws.com] out: "
       ]
      },
      {
       "output_type": "stream",
       "stream": "stdout",
       "text": [
        "remote: Compressing objects:  21% (1492/7102)   \u001b[K\n"
       ]
      },
      {
       "output_type": "stream",
       "stream": "stdout",
       "text": [
        "[ubuntu@ec2-54-243-24-167.compute-1.amazonaws.com] out: "
       ]
      },
      {
       "output_type": "stream",
       "stream": "stdout",
       "text": [
        "remote: Compressing objects:  22% (1563/7102)   \u001b[K\n"
       ]
      },
      {
       "output_type": "stream",
       "stream": "stdout",
       "text": [
        "[ubuntu@ec2-54-243-24-167.compute-1.amazonaws.com] out: "
       ]
      },
      {
       "output_type": "stream",
       "stream": "stdout",
       "text": [
        "remote: Compressing objects:  23% (1634/7102)   \u001b[K\n"
       ]
      },
      {
       "output_type": "stream",
       "stream": "stdout",
       "text": [
        "[ubuntu@ec2-54-243-24-167.compute-1.amazonaws.com] out: "
       ]
      },
      {
       "output_type": "stream",
       "stream": "stdout",
       "text": [
        "remote: Compressing objects:  24% (1705/7102)   \u001b[K\n"
       ]
      },
      {
       "output_type": "stream",
       "stream": "stdout",
       "text": [
        "[ubuntu@ec2-54-243-24-167.compute-1.amazonaws.com] out: "
       ]
      },
      {
       "output_type": "stream",
       "stream": "stdout",
       "text": [
        "remote: Compressing objects:  25% (1776/7102)   \u001b[K\n"
       ]
      },
      {
       "output_type": "stream",
       "stream": "stdout",
       "text": [
        "[ubuntu@ec2-54-243-24-167.compute-1.amazonaws.com] out: "
       ]
      },
      {
       "output_type": "stream",
       "stream": "stdout",
       "text": [
        "remote: Compressing objects:  26% (1847/7102)   \u001b[K\n"
       ]
      },
      {
       "output_type": "stream",
       "stream": "stdout",
       "text": [
        "[ubuntu@ec2-54-243-24-167.compute-1.amazonaws.com] out: "
       ]
      },
      {
       "output_type": "stream",
       "stream": "stdout",
       "text": [
        "remote: Compressing objects:  27% (1918/7102)   \u001b[K\n"
       ]
      },
      {
       "output_type": "stream",
       "stream": "stdout",
       "text": [
        "[ubuntu@ec2-54-243-24-167.compute-1.amazonaws.com] out: "
       ]
      },
      {
       "output_type": "stream",
       "stream": "stdout",
       "text": [
        "remote: Compressing objects:  28% (1989/7102)   \u001b[K\n"
       ]
      },
      {
       "output_type": "stream",
       "stream": "stdout",
       "text": [
        "[ubuntu@ec2-54-243-24-167.compute-1.amazonaws.com] out: "
       ]
      },
      {
       "output_type": "stream",
       "stream": "stdout",
       "text": [
        "remote: Compressing objects:  29% (2060/7102)   \u001b[K\n"
       ]
      },
      {
       "output_type": "stream",
       "stream": "stdout",
       "text": [
        "[ubuntu@ec2-54-243-24-167.compute-1.amazonaws.com] out: "
       ]
      },
      {
       "output_type": "stream",
       "stream": "stdout",
       "text": [
        "remote: Compressing objects:  30% (2131/7102)   \u001b[K\n"
       ]
      },
      {
       "output_type": "stream",
       "stream": "stdout",
       "text": [
        "[ubuntu@ec2-54-243-24-167.compute-1.amazonaws.com] out: "
       ]
      },
      {
       "output_type": "stream",
       "stream": "stdout",
       "text": [
        "remote: Compressing objects:  31% (2202/7102)   \u001b[K\n"
       ]
      },
      {
       "output_type": "stream",
       "stream": "stdout",
       "text": [
        "[ubuntu@ec2-54-243-24-167.compute-1.amazonaws.com] out: "
       ]
      },
      {
       "output_type": "stream",
       "stream": "stdout",
       "text": [
        "remote: Compressing objects:  32% (2273/7102)   \u001b[K\n"
       ]
      },
      {
       "output_type": "stream",
       "stream": "stdout",
       "text": [
        "[ubuntu@ec2-54-243-24-167.compute-1.amazonaws.com] out: "
       ]
      },
      {
       "output_type": "stream",
       "stream": "stdout",
       "text": [
        "remote: Compressing objects:  33% (2344/7102)   \u001b[K\n"
       ]
      },
      {
       "output_type": "stream",
       "stream": "stdout",
       "text": [
        "[ubuntu@ec2-54-243-24-167.compute-1.amazonaws.com] out: "
       ]
      },
      {
       "output_type": "stream",
       "stream": "stdout",
       "text": [
        "remote: Compressing objects:  34% (2415/7102)   \u001b[K\n"
       ]
      },
      {
       "output_type": "stream",
       "stream": "stdout",
       "text": [
        "[ubuntu@ec2-54-243-24-167.compute-1.amazonaws.com] out: "
       ]
      },
      {
       "output_type": "stream",
       "stream": "stdout",
       "text": [
        "remote: Compressing objects:  35% (2486/7102)   \u001b[K\n"
       ]
      },
      {
       "output_type": "stream",
       "stream": "stdout",
       "text": [
        "[ubuntu@ec2-54-243-24-167.compute-1.amazonaws.com] out: "
       ]
      },
      {
       "output_type": "stream",
       "stream": "stdout",
       "text": [
        "remote: Compressing objects:  36% (2557/7102)   \u001b[K\n"
       ]
      },
      {
       "output_type": "stream",
       "stream": "stdout",
       "text": [
        "[ubuntu@ec2-54-243-24-167.compute-1.amazonaws.com] out: "
       ]
      },
      {
       "output_type": "stream",
       "stream": "stdout",
       "text": [
        "remote: Compressing objects:  37% (2628/7102)   \u001b[K\n"
       ]
      },
      {
       "output_type": "stream",
       "stream": "stdout",
       "text": [
        "[ubuntu@ec2-54-243-24-167.compute-1.amazonaws.com] out: "
       ]
      },
      {
       "output_type": "stream",
       "stream": "stdout",
       "text": [
        "remote: Compressing objects:  38% (2699/7102)   \u001b[K\n"
       ]
      },
      {
       "output_type": "stream",
       "stream": "stdout",
       "text": [
        "[ubuntu@ec2-54-243-24-167.compute-1.amazonaws.com] out: "
       ]
      },
      {
       "output_type": "stream",
       "stream": "stdout",
       "text": [
        "remote: Compressing objects:  39% (2770/7102)   \u001b[K\n"
       ]
      },
      {
       "output_type": "stream",
       "stream": "stdout",
       "text": [
        "[ubuntu@ec2-54-243-24-167.compute-1.amazonaws.com] out: "
       ]
      },
      {
       "output_type": "stream",
       "stream": "stdout",
       "text": [
        "remote: Compressing objects:  40% (2841/7102)   \u001b[K\n"
       ]
      },
      {
       "output_type": "stream",
       "stream": "stdout",
       "text": [
        "[ubuntu@ec2-54-243-24-167.compute-1.amazonaws.com] out: "
       ]
      },
      {
       "output_type": "stream",
       "stream": "stdout",
       "text": [
        "remote: Compressing objects:  41% (2912/7102)   \u001b[K\n"
       ]
      },
      {
       "output_type": "stream",
       "stream": "stdout",
       "text": [
        "[ubuntu@ec2-54-243-24-167.compute-1.amazonaws.com] out: "
       ]
      },
      {
       "output_type": "stream",
       "stream": "stdout",
       "text": [
        "remote: Compressing objects:  42% (2983/7102)   \u001b[K\n"
       ]
      },
      {
       "output_type": "stream",
       "stream": "stdout",
       "text": [
        "[ubuntu@ec2-54-243-24-167.compute-1.amazonaws.com] out: "
       ]
      },
      {
       "output_type": "stream",
       "stream": "stdout",
       "text": [
        "remote: Compressing objects:  43% (3054/7102)   \u001b[K\n"
       ]
      },
      {
       "output_type": "stream",
       "stream": "stdout",
       "text": [
        "[ubuntu@ec2-54-243-24-167.compute-1.amazonaws.com] out: "
       ]
      },
      {
       "output_type": "stream",
       "stream": "stdout",
       "text": [
        "remote: Compressing objects:  44% (3125/7102)   \u001b[K\n"
       ]
      },
      {
       "output_type": "stream",
       "stream": "stdout",
       "text": [
        "[ubuntu@ec2-54-243-24-167.compute-1.amazonaws.com] out: "
       ]
      },
      {
       "output_type": "stream",
       "stream": "stdout",
       "text": [
        "remote: Compressing objects:  45% (3196/7102)   \u001b[K\n"
       ]
      },
      {
       "output_type": "stream",
       "stream": "stdout",
       "text": [
        "[ubuntu@ec2-54-243-24-167.compute-1.amazonaws.com] out: "
       ]
      },
      {
       "output_type": "stream",
       "stream": "stdout",
       "text": [
        "remote: Compressing objects:  46% (3267/7102)   \u001b[K\n"
       ]
      },
      {
       "output_type": "stream",
       "stream": "stdout",
       "text": [
        "[ubuntu@ec2-54-243-24-167.compute-1.amazonaws.com] out: "
       ]
      },
      {
       "output_type": "stream",
       "stream": "stdout",
       "text": [
        "remote: Compressing objects:  47% (3338/7102)   \u001b[K\n"
       ]
      },
      {
       "output_type": "stream",
       "stream": "stdout",
       "text": [
        "[ubuntu@ec2-54-243-24-167.compute-1.amazonaws.com] out: "
       ]
      },
      {
       "output_type": "stream",
       "stream": "stdout",
       "text": [
        "remote: Compressing objects:  48% (3409/7102)   \u001b[K\n"
       ]
      },
      {
       "output_type": "stream",
       "stream": "stdout",
       "text": [
        "[ubuntu@ec2-54-243-24-167.compute-1.amazonaws.com] out: "
       ]
      },
      {
       "output_type": "stream",
       "stream": "stdout",
       "text": [
        "remote: Compressing objects:  49% (3480/7102)   \u001b[K\n"
       ]
      },
      {
       "output_type": "stream",
       "stream": "stdout",
       "text": [
        "[ubuntu@ec2-54-243-24-167.compute-1.amazonaws.com] out: "
       ]
      },
      {
       "output_type": "stream",
       "stream": "stdout",
       "text": [
        "remote: Compressing objects:  50% (3551/7102)   \u001b[K\n"
       ]
      },
      {
       "output_type": "stream",
       "stream": "stdout",
       "text": [
        "[ubuntu@ec2-54-243-24-167.compute-1.amazonaws.com] out: "
       ]
      },
      {
       "output_type": "stream",
       "stream": "stdout",
       "text": [
        "remote: Compressing objects:  51% (3623/7102)   \u001b[K\n"
       ]
      },
      {
       "output_type": "stream",
       "stream": "stdout",
       "text": [
        "[ubuntu@ec2-54-243-24-167.compute-1.amazonaws.com] out: "
       ]
      },
      {
       "output_type": "stream",
       "stream": "stdout",
       "text": [
        "remote: Compressing objects:  52% (3694/7102)   \u001b[K\n"
       ]
      },
      {
       "output_type": "stream",
       "stream": "stdout",
       "text": [
        "[ubuntu@ec2-54-243-24-167.compute-1.amazonaws.com] out: "
       ]
      },
      {
       "output_type": "stream",
       "stream": "stdout",
       "text": [
        "remote: Compressing objects:  53% (3765/7102)   \u001b[K\n"
       ]
      },
      {
       "output_type": "stream",
       "stream": "stdout",
       "text": [
        "[ubuntu@ec2-54-243-24-167.compute-1.amazonaws.com] out: "
       ]
      },
      {
       "output_type": "stream",
       "stream": "stdout",
       "text": [
        "remote: Compressing objects:  54% (3836/7102)   \u001b[K\n"
       ]
      },
      {
       "output_type": "stream",
       "stream": "stdout",
       "text": [
        "[ubuntu@ec2-54-243-24-167.compute-1.amazonaws.com] out: "
       ]
      },
      {
       "output_type": "stream",
       "stream": "stdout",
       "text": [
        "remote: Compressing objects:  55% (3907/7102)   \u001b[K\n"
       ]
      },
      {
       "output_type": "stream",
       "stream": "stdout",
       "text": [
        "[ubuntu@ec2-54-243-24-167.compute-1.amazonaws.com] out: "
       ]
      },
      {
       "output_type": "stream",
       "stream": "stdout",
       "text": [
        "remote: Compressing objects:  56% (3978/7102)   \u001b[K\n"
       ]
      },
      {
       "output_type": "stream",
       "stream": "stdout",
       "text": [
        "[ubuntu@ec2-54-243-24-167.compute-1.amazonaws.com] out: "
       ]
      },
      {
       "output_type": "stream",
       "stream": "stdout",
       "text": [
        "remote: Compressing objects:  57% (4049/7102)   \u001b[K\n"
       ]
      },
      {
       "output_type": "stream",
       "stream": "stdout",
       "text": [
        "[ubuntu@ec2-54-243-24-167.compute-1.amazonaws.com] out: "
       ]
      },
      {
       "output_type": "stream",
       "stream": "stdout",
       "text": [
        "remote: Compressing objects:  58% (4120/7102)   \u001b[K\n"
       ]
      },
      {
       "output_type": "stream",
       "stream": "stdout",
       "text": [
        "[ubuntu@ec2-54-243-24-167.compute-1.amazonaws.com] out: "
       ]
      },
      {
       "output_type": "stream",
       "stream": "stdout",
       "text": [
        "remote: Compressing objects:  59% (4191/7102)   \u001b[K\n"
       ]
      },
      {
       "output_type": "stream",
       "stream": "stdout",
       "text": [
        "[ubuntu@ec2-54-243-24-167.compute-1.amazonaws.com] out: "
       ]
      },
      {
       "output_type": "stream",
       "stream": "stdout",
       "text": [
        "remote: Compressing objects:  60% (4262/7102)   \u001b[K\n"
       ]
      },
      {
       "output_type": "stream",
       "stream": "stdout",
       "text": [
        "[ubuntu@ec2-54-243-24-167.compute-1.amazonaws.com] out: "
       ]
      },
      {
       "output_type": "stream",
       "stream": "stdout",
       "text": [
        "remote: Compressing objects:  61% (4333/7102)   \u001b[K\n"
       ]
      },
      {
       "output_type": "stream",
       "stream": "stdout",
       "text": [
        "[ubuntu@ec2-54-243-24-167.compute-1.amazonaws.com] out: "
       ]
      },
      {
       "output_type": "stream",
       "stream": "stdout",
       "text": [
        "remote: Compressing objects:  62% (4404/7102)   \u001b[K\n"
       ]
      },
      {
       "output_type": "stream",
       "stream": "stdout",
       "text": [
        "[ubuntu@ec2-54-243-24-167.compute-1.amazonaws.com] out: "
       ]
      },
      {
       "output_type": "stream",
       "stream": "stdout",
       "text": [
        "remote: Compressing objects:  63% (4475/7102)   \u001b[K\n"
       ]
      },
      {
       "output_type": "stream",
       "stream": "stdout",
       "text": [
        "[ubuntu@ec2-54-243-24-167.compute-1.amazonaws.com] out: "
       ]
      },
      {
       "output_type": "stream",
       "stream": "stdout",
       "text": [
        "remote: Compressing objects:  64% (4546/7102)   \u001b[K\n"
       ]
      },
      {
       "output_type": "stream",
       "stream": "stdout",
       "text": [
        "[ubuntu@ec2-54-243-24-167.compute-1.amazonaws.com] out: "
       ]
      },
      {
       "output_type": "stream",
       "stream": "stdout",
       "text": [
        "remote: Compressing objects:  65% (4617/7102)   \u001b[K\n"
       ]
      },
      {
       "output_type": "stream",
       "stream": "stdout",
       "text": [
        "[ubuntu@ec2-54-243-24-167.compute-1.amazonaws.com] out: "
       ]
      },
      {
       "output_type": "stream",
       "stream": "stdout",
       "text": [
        "remote: Compressing objects:  66% (4688/7102)   \u001b[K\n"
       ]
      },
      {
       "output_type": "stream",
       "stream": "stdout",
       "text": [
        "[ubuntu@ec2-54-243-24-167.compute-1.amazonaws.com] out: "
       ]
      },
      {
       "output_type": "stream",
       "stream": "stdout",
       "text": [
        "remote: Compressing objects:  67% (4759/7102)   \u001b[K\n"
       ]
      },
      {
       "output_type": "stream",
       "stream": "stdout",
       "text": [
        "[ubuntu@ec2-54-243-24-167.compute-1.amazonaws.com] out: "
       ]
      },
      {
       "output_type": "stream",
       "stream": "stdout",
       "text": [
        "remote: Compressing objects:  68% (4830/7102)   \u001b[K\n"
       ]
      },
      {
       "output_type": "stream",
       "stream": "stdout",
       "text": [
        "[ubuntu@ec2-54-243-24-167.compute-1.amazonaws.com] out: "
       ]
      },
      {
       "output_type": "stream",
       "stream": "stdout",
       "text": [
        "remote: Compressing objects:  69% (4901/7102)   \u001b[K\n"
       ]
      },
      {
       "output_type": "stream",
       "stream": "stdout",
       "text": [
        "[ubuntu@ec2-54-243-24-167.compute-1.amazonaws.com] out: "
       ]
      },
      {
       "output_type": "stream",
       "stream": "stdout",
       "text": [
        "remote: Compressing objects:  70% (4972/7102)   \u001b[K\n"
       ]
      },
      {
       "output_type": "stream",
       "stream": "stdout",
       "text": [
        "[ubuntu@ec2-54-243-24-167.compute-1.amazonaws.com] out: "
       ]
      },
      {
       "output_type": "stream",
       "stream": "stdout",
       "text": [
        "remote: Compressing objects:  71% (5043/7102)   \u001b[K\n"
       ]
      },
      {
       "output_type": "stream",
       "stream": "stdout",
       "text": [
        "[ubuntu@ec2-54-243-24-167.compute-1.amazonaws.com] out: "
       ]
      },
      {
       "output_type": "stream",
       "stream": "stdout",
       "text": [
        "remote: Compressing objects:  72% (5114/7102)   \u001b[K\n"
       ]
      },
      {
       "output_type": "stream",
       "stream": "stdout",
       "text": [
        "[ubuntu@ec2-54-243-24-167.compute-1.amazonaws.com] out: "
       ]
      },
      {
       "output_type": "stream",
       "stream": "stdout",
       "text": [
        "remote: Compressing objects:  73% (5185/7102)   \u001b[K\n"
       ]
      },
      {
       "output_type": "stream",
       "stream": "stdout",
       "text": [
        "[ubuntu@ec2-54-243-24-167.compute-1.amazonaws.com] out: "
       ]
      },
      {
       "output_type": "stream",
       "stream": "stdout",
       "text": [
        "remote: Compressing objects:  74% (5256/7102)   \u001b[K\n"
       ]
      },
      {
       "output_type": "stream",
       "stream": "stdout",
       "text": [
        "[ubuntu@ec2-54-243-24-167.compute-1.amazonaws.com] out: "
       ]
      },
      {
       "output_type": "stream",
       "stream": "stdout",
       "text": [
        "remote: Compressing objects:  75% (5327/7102)   \u001b[K\n"
       ]
      },
      {
       "output_type": "stream",
       "stream": "stdout",
       "text": [
        "[ubuntu@ec2-54-243-24-167.compute-1.amazonaws.com] out: "
       ]
      },
      {
       "output_type": "stream",
       "stream": "stdout",
       "text": [
        "remote: Compressing objects:  76% (5398/7102)   \u001b[K\n"
       ]
      },
      {
       "output_type": "stream",
       "stream": "stdout",
       "text": [
        "[ubuntu@ec2-54-243-24-167.compute-1.amazonaws.com] out: "
       ]
      },
      {
       "output_type": "stream",
       "stream": "stdout",
       "text": [
        "remote: Compressing objects:  77% (5469/7102)   \u001b[K\n"
       ]
      },
      {
       "output_type": "stream",
       "stream": "stdout",
       "text": [
        "[ubuntu@ec2-54-243-24-167.compute-1.amazonaws.com] out: "
       ]
      },
      {
       "output_type": "stream",
       "stream": "stdout",
       "text": [
        "remote: Compressing objects:  78% (5540/7102)   \u001b[K\n"
       ]
      },
      {
       "output_type": "stream",
       "stream": "stdout",
       "text": [
        "[ubuntu@ec2-54-243-24-167.compute-1.amazonaws.com] out: "
       ]
      },
      {
       "output_type": "stream",
       "stream": "stdout",
       "text": [
        "remote: Compressing objects:  79% (5611/7102)   \u001b[K\n"
       ]
      },
      {
       "output_type": "stream",
       "stream": "stdout",
       "text": [
        "[ubuntu@ec2-54-243-24-167.compute-1.amazonaws.com] out: "
       ]
      },
      {
       "output_type": "stream",
       "stream": "stdout",
       "text": [
        "remote: Compressing objects:  80% (5682/7102)   \u001b[K\n"
       ]
      },
      {
       "output_type": "stream",
       "stream": "stdout",
       "text": [
        "[ubuntu@ec2-54-243-24-167.compute-1.amazonaws.com] out: "
       ]
      },
      {
       "output_type": "stream",
       "stream": "stdout",
       "text": [
        "remote: Compressing objects:  81% (5753/7102)   \u001b[K\n"
       ]
      },
      {
       "output_type": "stream",
       "stream": "stdout",
       "text": [
        "[ubuntu@ec2-54-243-24-167.compute-1.amazonaws.com] out: "
       ]
      },
      {
       "output_type": "stream",
       "stream": "stdout",
       "text": [
        "remote: Compressing objects:  82% (5824/7102)   \u001b[K\n"
       ]
      },
      {
       "output_type": "stream",
       "stream": "stdout",
       "text": [
        "[ubuntu@ec2-54-243-24-167.compute-1.amazonaws.com] out: "
       ]
      },
      {
       "output_type": "stream",
       "stream": "stdout",
       "text": [
        "remote: Compressing objects:  83% (5895/7102)   \u001b[K\n"
       ]
      },
      {
       "output_type": "stream",
       "stream": "stdout",
       "text": [
        "[ubuntu@ec2-54-243-24-167.compute-1.amazonaws.com] out: "
       ]
      },
      {
       "output_type": "stream",
       "stream": "stdout",
       "text": [
        "remote: Compressing objects:  84% (5966/7102)   \u001b[K\n"
       ]
      },
      {
       "output_type": "stream",
       "stream": "stdout",
       "text": [
        "[ubuntu@ec2-54-243-24-167.compute-1.amazonaws.com] out: "
       ]
      },
      {
       "output_type": "stream",
       "stream": "stdout",
       "text": [
        "remote: Compressing objects:  85% (6037/7102)   \u001b[K\n"
       ]
      },
      {
       "output_type": "stream",
       "stream": "stdout",
       "text": [
        "[ubuntu@ec2-54-243-24-167.compute-1.amazonaws.com] out: "
       ]
      },
      {
       "output_type": "stream",
       "stream": "stdout",
       "text": [
        "remote: Compressing objects:  86% (6108/7102)   \u001b[K\n"
       ]
      },
      {
       "output_type": "stream",
       "stream": "stdout",
       "text": [
        "[ubuntu@ec2-54-243-24-167.compute-1.amazonaws.com] out: "
       ]
      },
      {
       "output_type": "stream",
       "stream": "stdout",
       "text": [
        "remote: Compressing objects:  87% (6179/7102)   \u001b[K\n"
       ]
      },
      {
       "output_type": "stream",
       "stream": "stdout",
       "text": [
        "[ubuntu@ec2-54-243-24-167.compute-1.amazonaws.com] out: "
       ]
      },
      {
       "output_type": "stream",
       "stream": "stdout",
       "text": [
        "remote: Compressing objects:  88% (6250/7102)   \u001b[K\n"
       ]
      },
      {
       "output_type": "stream",
       "stream": "stdout",
       "text": [
        "[ubuntu@ec2-54-243-24-167.compute-1.amazonaws.com] out: "
       ]
      },
      {
       "output_type": "stream",
       "stream": "stdout",
       "text": [
        "remote: Compressing objects:  89% (6321/7102)   \u001b[K\n"
       ]
      },
      {
       "output_type": "stream",
       "stream": "stdout",
       "text": [
        "[ubuntu@ec2-54-243-24-167.compute-1.amazonaws.com] out: "
       ]
      },
      {
       "output_type": "stream",
       "stream": "stdout",
       "text": [
        "remote: Compressing objects:  90% (6392/7102)   \u001b[K\n"
       ]
      },
      {
       "output_type": "stream",
       "stream": "stdout",
       "text": [
        "[ubuntu@ec2-54-243-24-167.compute-1.amazonaws.com] out: "
       ]
      },
      {
       "output_type": "stream",
       "stream": "stdout",
       "text": [
        "remote: Compressing objects:  91% (6463/7102)   \u001b[K\n"
       ]
      },
      {
       "output_type": "stream",
       "stream": "stdout",
       "text": [
        "[ubuntu@ec2-54-243-24-167.compute-1.amazonaws.com] out: "
       ]
      },
      {
       "output_type": "stream",
       "stream": "stdout",
       "text": [
        "remote: Compressing objects:  92% (6534/7102)   \u001b[K\n"
       ]
      },
      {
       "output_type": "stream",
       "stream": "stdout",
       "text": [
        "[ubuntu@ec2-54-243-24-167.compute-1.amazonaws.com] out: "
       ]
      },
      {
       "output_type": "stream",
       "stream": "stdout",
       "text": [
        "remote: Compressing objects:  93% (6605/7102)   \u001b[K\n"
       ]
      },
      {
       "output_type": "stream",
       "stream": "stdout",
       "text": [
        "[ubuntu@ec2-54-243-24-167.compute-1.amazonaws.com] out: "
       ]
      },
      {
       "output_type": "stream",
       "stream": "stdout",
       "text": [
        "remote: Compressing objects:  94% (6676/7102)   \u001b[K\n"
       ]
      },
      {
       "output_type": "stream",
       "stream": "stdout",
       "text": [
        "[ubuntu@ec2-54-243-24-167.compute-1.amazonaws.com] out: "
       ]
      },
      {
       "output_type": "stream",
       "stream": "stdout",
       "text": [
        "remote: Compressing objects:  95% (6747/7102)   \u001b[K\n"
       ]
      },
      {
       "output_type": "stream",
       "stream": "stdout",
       "text": [
        "[ubuntu@ec2-54-243-24-167.compute-1.amazonaws.com] out: "
       ]
      },
      {
       "output_type": "stream",
       "stream": "stdout",
       "text": [
        "remote: Compressing objects:  96% (6818/7102)   \u001b[K\n"
       ]
      },
      {
       "output_type": "stream",
       "stream": "stdout",
       "text": [
        "[ubuntu@ec2-54-243-24-167.compute-1.amazonaws.com] out: "
       ]
      },
      {
       "output_type": "stream",
       "stream": "stdout",
       "text": [
        "remote: Compressing objects:  97% (6889/7102)   \u001b[K\n"
       ]
      },
      {
       "output_type": "stream",
       "stream": "stdout",
       "text": [
        "[ubuntu@ec2-54-243-24-167.compute-1.amazonaws.com] out: "
       ]
      },
      {
       "output_type": "stream",
       "stream": "stdout",
       "text": [
        "remote: Compressing objects:  98% (6960/7102)   \u001b[K\n"
       ]
      },
      {
       "output_type": "stream",
       "stream": "stdout",
       "text": [
        "[ubuntu@ec2-54-243-24-167.compute-1.amazonaws.com] out: "
       ]
      },
      {
       "output_type": "stream",
       "stream": "stdout",
       "text": [
        "remote: Compressing objects:  99% (7031/7102)   \u001b[K\n"
       ]
      },
      {
       "output_type": "stream",
       "stream": "stdout",
       "text": [
        "[ubuntu@ec2-54-243-24-167.compute-1.amazonaws.com] out: "
       ]
      },
      {
       "output_type": "stream",
       "stream": "stdout",
       "text": [
        "remote: Compressing objects: 100% (7102/7102)   \u001b[K\n"
       ]
      },
      {
       "output_type": "stream",
       "stream": "stdout",
       "text": [
        "[ubuntu@ec2-54-243-24-167.compute-1.amazonaws.com] out: "
       ]
      },
      {
       "output_type": "stream",
       "stream": "stdout",
       "text": [
        "remote: Compressing objects: 100% (7102/7102), done.\u001b[K\n"
       ]
      },
      {
       "output_type": "stream",
       "stream": "stdout",
       "text": [
        "[ubuntu@ec2-54-243-24-167.compute-1.amazonaws.com] out: "
       ]
      },
      {
       "output_type": "stream",
       "stream": "stdout",
       "text": [
        "Receiving objects:   0% (1/24062)   \n"
       ]
      },
      {
       "output_type": "stream",
       "stream": "stdout",
       "text": [
        "[ubuntu@ec2-54-243-24-167.compute-1.amazonaws.com] out: "
       ]
      },
      {
       "output_type": "stream",
       "stream": "stdout",
       "text": [
        "Receiving objects:   1% (241/24062)   \n"
       ]
      },
      {
       "output_type": "stream",
       "stream": "stdout",
       "text": [
        "[ubuntu@ec2-54-243-24-167.compute-1.amazonaws.com] out: "
       ]
      },
      {
       "output_type": "stream",
       "stream": "stdout",
       "text": [
        "Receiving objects:   2% (482/24062)   \n"
       ]
      },
      {
       "output_type": "stream",
       "stream": "stdout",
       "text": [
        "[ubuntu@ec2-54-243-24-167.compute-1.amazonaws.com] out: "
       ]
      },
      {
       "output_type": "stream",
       "stream": "stdout",
       "text": [
        "Receiving objects:   3% (722/24062)   \n"
       ]
      },
      {
       "output_type": "stream",
       "stream": "stdout",
       "text": [
        "[ubuntu@ec2-54-243-24-167.compute-1.amazonaws.com] out: "
       ]
      },
      {
       "output_type": "stream",
       "stream": "stdout",
       "text": [
        "Receiving objects:   4% (963/24062)   \n"
       ]
      },
      {
       "output_type": "stream",
       "stream": "stdout",
       "text": [
        "[ubuntu@ec2-54-243-24-167.compute-1.amazonaws.com] out: "
       ]
      },
      {
       "output_type": "stream",
       "stream": "stdout",
       "text": [
        "Receiving objects:   5% (1204/24062)   \n"
       ]
      },
      {
       "output_type": "stream",
       "stream": "stdout",
       "text": [
        "[ubuntu@ec2-54-243-24-167.compute-1.amazonaws.com] out: "
       ]
      },
      {
       "output_type": "stream",
       "stream": "stdout",
       "text": [
        "Receiving objects:   6% (1444/24062)   \n"
       ]
      },
      {
       "output_type": "stream",
       "stream": "stdout",
       "text": [
        "[ubuntu@ec2-54-243-24-167.compute-1.amazonaws.com] out: "
       ]
      },
      {
       "output_type": "stream",
       "stream": "stdout",
       "text": [
        "Receiving objects:   7% (1685/24062)   \n"
       ]
      },
      {
       "output_type": "stream",
       "stream": "stdout",
       "text": [
        "[ubuntu@ec2-54-243-24-167.compute-1.amazonaws.com] out: "
       ]
      },
      {
       "output_type": "stream",
       "stream": "stdout",
       "text": [
        "Receiving objects:   8% (1925/24062)   \n"
       ]
      },
      {
       "output_type": "stream",
       "stream": "stdout",
       "text": [
        "[ubuntu@ec2-54-243-24-167.compute-1.amazonaws.com] out: "
       ]
      },
      {
       "output_type": "stream",
       "stream": "stdout",
       "text": [
        "Receiving objects:   9% (2166/24062)   \n"
       ]
      },
      {
       "output_type": "stream",
       "stream": "stdout",
       "text": [
        "[ubuntu@ec2-54-243-24-167.compute-1.amazonaws.com] out: "
       ]
      },
      {
       "output_type": "stream",
       "stream": "stdout",
       "text": [
        "Receiving objects:  10% (2407/24062)   \n"
       ]
      },
      {
       "output_type": "stream",
       "stream": "stdout",
       "text": [
        "[ubuntu@ec2-54-243-24-167.compute-1.amazonaws.com] out: "
       ]
      },
      {
       "output_type": "stream",
       "stream": "stdout",
       "text": [
        "Receiving objects:  11% (2647/24062)   \n"
       ]
      },
      {
       "output_type": "stream",
       "stream": "stdout",
       "text": [
        "[ubuntu@ec2-54-243-24-167.compute-1.amazonaws.com] out: "
       ]
      },
      {
       "output_type": "stream",
       "stream": "stdout",
       "text": [
        "Receiving objects:  12% (2888/24062)   \n"
       ]
      },
      {
       "output_type": "stream",
       "stream": "stdout",
       "text": [
        "[ubuntu@ec2-54-243-24-167.compute-1.amazonaws.com] out: "
       ]
      },
      {
       "output_type": "stream",
       "stream": "stdout",
       "text": [
        "Receiving objects:  13% (3129/24062)   \n"
       ]
      },
      {
       "output_type": "stream",
       "stream": "stdout",
       "text": [
        "[ubuntu@ec2-54-243-24-167.compute-1.amazonaws.com] out: "
       ]
      },
      {
       "output_type": "stream",
       "stream": "stdout",
       "text": [
        "Receiving objects:  14% (3369/24062)   \n"
       ]
      },
      {
       "output_type": "stream",
       "stream": "stdout",
       "text": [
        "[ubuntu@ec2-54-243-24-167.compute-1.amazonaws.com] out: "
       ]
      },
      {
       "output_type": "stream",
       "stream": "stdout",
       "text": [
        "Receiving objects:  15% (3610/24062)   \n"
       ]
      },
      {
       "output_type": "stream",
       "stream": "stdout",
       "text": [
        "[ubuntu@ec2-54-243-24-167.compute-1.amazonaws.com] out: "
       ]
      },
      {
       "output_type": "stream",
       "stream": "stdout",
       "text": [
        "Receiving objects:  16% (3850/24062)   \n"
       ]
      },
      {
       "output_type": "stream",
       "stream": "stdout",
       "text": [
        "[ubuntu@ec2-54-243-24-167.compute-1.amazonaws.com] out: "
       ]
      },
      {
       "output_type": "stream",
       "stream": "stdout",
       "text": [
        "Receiving objects:  17% (4091/24062)   \n"
       ]
      },
      {
       "output_type": "stream",
       "stream": "stdout",
       "text": [
        "[ubuntu@ec2-54-243-24-167.compute-1.amazonaws.com] out: "
       ]
      },
      {
       "output_type": "stream",
       "stream": "stdout",
       "text": [
        "Receiving objects:  18% (4332/24062)   \n"
       ]
      },
      {
       "output_type": "stream",
       "stream": "stdout",
       "text": [
        "[ubuntu@ec2-54-243-24-167.compute-1.amazonaws.com] out: "
       ]
      },
      {
       "output_type": "stream",
       "stream": "stdout",
       "text": [
        "Receiving objects:  19% (4572/24062)   \n"
       ]
      },
      {
       "output_type": "stream",
       "stream": "stdout",
       "text": [
        "[ubuntu@ec2-54-243-24-167.compute-1.amazonaws.com] out: "
       ]
      },
      {
       "output_type": "stream",
       "stream": "stdout",
       "text": [
        "Receiving objects:  20% (4813/24062)   \n"
       ]
      },
      {
       "output_type": "stream",
       "stream": "stdout",
       "text": [
        "[ubuntu@ec2-54-243-24-167.compute-1.amazonaws.com] out: "
       ]
      },
      {
       "output_type": "stream",
       "stream": "stdout",
       "text": [
        "Receiving objects:  21% (5054/24062)   \n"
       ]
      },
      {
       "output_type": "stream",
       "stream": "stdout",
       "text": [
        "[ubuntu@ec2-54-243-24-167.compute-1.amazonaws.com] out: "
       ]
      },
      {
       "output_type": "stream",
       "stream": "stdout",
       "text": [
        "Receiving objects:  22% (5294/24062)   \n"
       ]
      },
      {
       "output_type": "stream",
       "stream": "stdout",
       "text": [
        "[ubuntu@ec2-54-243-24-167.compute-1.amazonaws.com] out: "
       ]
      },
      {
       "output_type": "stream",
       "stream": "stdout",
       "text": [
        "Receiving objects:  23% (5535/24062)   \n"
       ]
      },
      {
       "output_type": "stream",
       "stream": "stdout",
       "text": [
        "[ubuntu@ec2-54-243-24-167.compute-1.amazonaws.com] out: "
       ]
      },
      {
       "output_type": "stream",
       "stream": "stdout",
       "text": [
        "Receiving objects:  24% (5775/24062)   \n"
       ]
      },
      {
       "output_type": "stream",
       "stream": "stdout",
       "text": [
        "[ubuntu@ec2-54-243-24-167.compute-1.amazonaws.com] out: "
       ]
      },
      {
       "output_type": "stream",
       "stream": "stdout",
       "text": [
        "Receiving objects:  25% (6016/24062)   \n"
       ]
      },
      {
       "output_type": "stream",
       "stream": "stdout",
       "text": [
        "[ubuntu@ec2-54-243-24-167.compute-1.amazonaws.com] out: "
       ]
      },
      {
       "output_type": "stream",
       "stream": "stdout",
       "text": [
        "Receiving objects:  26% (6257/24062)   \n"
       ]
      },
      {
       "output_type": "stream",
       "stream": "stdout",
       "text": [
        "[ubuntu@ec2-54-243-24-167.compute-1.amazonaws.com] out: "
       ]
      },
      {
       "output_type": "stream",
       "stream": "stdout",
       "text": [
        "Receiving objects:  27% (6497/24062)   \n"
       ]
      },
      {
       "output_type": "stream",
       "stream": "stdout",
       "text": [
        "[ubuntu@ec2-54-243-24-167.compute-1.amazonaws.com] out: "
       ]
      },
      {
       "output_type": "stream",
       "stream": "stdout",
       "text": [
        "Receiving objects:  28% (6738/24062)   \n"
       ]
      },
      {
       "output_type": "stream",
       "stream": "stdout",
       "text": [
        "[ubuntu@ec2-54-243-24-167.compute-1.amazonaws.com] out: "
       ]
      },
      {
       "output_type": "stream",
       "stream": "stdout",
       "text": [
        "Receiving objects:  29% (6978/24062)   \n"
       ]
      },
      {
       "output_type": "stream",
       "stream": "stdout",
       "text": [
        "[ubuntu@ec2-54-243-24-167.compute-1.amazonaws.com] out: "
       ]
      },
      {
       "output_type": "stream",
       "stream": "stdout",
       "text": [
        "Receiving objects:  29% (7003/24062), 3.48 MiB | 3.45 MiB/s   \n"
       ]
      },
      {
       "output_type": "stream",
       "stream": "stdout",
       "text": [
        "[ubuntu@ec2-54-243-24-167.compute-1.amazonaws.com] out: "
       ]
      },
      {
       "output_type": "stream",
       "stream": "stdout",
       "text": [
        "Receiving objects:  30% (7219/24062), 3.48 MiB | 3.45 MiB/s   \n"
       ]
      },
      {
       "output_type": "stream",
       "stream": "stdout",
       "text": [
        "[ubuntu@ec2-54-243-24-167.compute-1.amazonaws.com] out: "
       ]
      },
      {
       "output_type": "stream",
       "stream": "stdout",
       "text": [
        "Receiving objects:  31% (7460/24062), 3.48 MiB | 3.45 MiB/s   \n"
       ]
      },
      {
       "output_type": "stream",
       "stream": "stdout",
       "text": [
        "[ubuntu@ec2-54-243-24-167.compute-1.amazonaws.com] out: "
       ]
      },
      {
       "output_type": "stream",
       "stream": "stdout",
       "text": [
        "Receiving objects:  32% (7700/24062), 3.48 MiB | 3.45 MiB/s   \n"
       ]
      },
      {
       "output_type": "stream",
       "stream": "stdout",
       "text": [
        "[ubuntu@ec2-54-243-24-167.compute-1.amazonaws.com] out: "
       ]
      },
      {
       "output_type": "stream",
       "stream": "stdout",
       "text": [
        "Receiving objects:  33% (7941/24062), 3.48 MiB | 3.45 MiB/s   \n"
       ]
      },
      {
       "output_type": "stream",
       "stream": "stdout",
       "text": [
        "[ubuntu@ec2-54-243-24-167.compute-1.amazonaws.com] out: "
       ]
      },
      {
       "output_type": "stream",
       "stream": "stdout",
       "text": [
        "Receiving objects:  34% (8182/24062), 3.48 MiB | 3.45 MiB/s   \n"
       ]
      },
      {
       "output_type": "stream",
       "stream": "stdout",
       "text": [
        "[ubuntu@ec2-54-243-24-167.compute-1.amazonaws.com] out: "
       ]
      },
      {
       "output_type": "stream",
       "stream": "stdout",
       "text": [
        "Receiving objects:  35% (8422/24062), 3.48 MiB | 3.45 MiB/s   \n"
       ]
      },
      {
       "output_type": "stream",
       "stream": "stdout",
       "text": [
        "[ubuntu@ec2-54-243-24-167.compute-1.amazonaws.com] out: "
       ]
      },
      {
       "output_type": "stream",
       "stream": "stdout",
       "text": [
        "Receiving objects:  36% (8663/24062), 3.48 MiB | 3.45 MiB/s   \n"
       ]
      },
      {
       "output_type": "stream",
       "stream": "stdout",
       "text": [
        "[ubuntu@ec2-54-243-24-167.compute-1.amazonaws.com] out: "
       ]
      },
      {
       "output_type": "stream",
       "stream": "stdout",
       "text": [
        "Receiving objects:  37% (8903/24062), 3.48 MiB | 3.45 MiB/s   \n"
       ]
      },
      {
       "output_type": "stream",
       "stream": "stdout",
       "text": [
        "[ubuntu@ec2-54-243-24-167.compute-1.amazonaws.com] out: "
       ]
      },
      {
       "output_type": "stream",
       "stream": "stdout",
       "text": [
        "Receiving objects:  38% (9144/24062), 3.48 MiB | 3.45 MiB/s   \n"
       ]
      },
      {
       "output_type": "stream",
       "stream": "stdout",
       "text": [
        "[ubuntu@ec2-54-243-24-167.compute-1.amazonaws.com] out: "
       ]
      },
      {
       "output_type": "stream",
       "stream": "stdout",
       "text": [
        "Receiving objects:  39% (9385/24062), 3.48 MiB | 3.45 MiB/s   \n"
       ]
      },
      {
       "output_type": "stream",
       "stream": "stdout",
       "text": [
        "[ubuntu@ec2-54-243-24-167.compute-1.amazonaws.com] out: "
       ]
      },
      {
       "output_type": "stream",
       "stream": "stdout",
       "text": [
        "Receiving objects:  40% (9625/24062), 3.48 MiB | 3.45 MiB/s   \n"
       ]
      },
      {
       "output_type": "stream",
       "stream": "stdout",
       "text": [
        "[ubuntu@ec2-54-243-24-167.compute-1.amazonaws.com] out: "
       ]
      },
      {
       "output_type": "stream",
       "stream": "stdout",
       "text": [
        "Receiving objects:  41% (9866/24062), 3.48 MiB | 3.45 MiB/s   \n"
       ]
      },
      {
       "output_type": "stream",
       "stream": "stdout",
       "text": [
        "[ubuntu@ec2-54-243-24-167.compute-1.amazonaws.com] out: "
       ]
      },
      {
       "output_type": "stream",
       "stream": "stdout",
       "text": [
        "Receiving objects:  42% (10107/24062), 3.48 MiB | 3.45 MiB/s   \n"
       ]
      },
      {
       "output_type": "stream",
       "stream": "stdout",
       "text": [
        "[ubuntu@ec2-54-243-24-167.compute-1.amazonaws.com] out: "
       ]
      },
      {
       "output_type": "stream",
       "stream": "stdout",
       "text": [
        "Receiving objects:  43% (10347/24062), 6.24 MiB | 4.14 MiB/s   \n"
       ]
      },
      {
       "output_type": "stream",
       "stream": "stdout",
       "text": [
        "[ubuntu@ec2-54-243-24-167.compute-1.amazonaws.com] out: "
       ]
      },
      {
       "output_type": "stream",
       "stream": "stdout",
       "text": [
        "Receiving objects:  43% (10409/24062), 8.04 MiB | 3.98 MiB/s   \n"
       ]
      },
      {
       "output_type": "stream",
       "stream": "stdout",
       "text": [
        "[ubuntu@ec2-54-243-24-167.compute-1.amazonaws.com] out: "
       ]
      },
      {
       "output_type": "stream",
       "stream": "stdout",
       "text": [
        "Receiving objects:  43% (10409/24062), 16.88 MiB | 5.58 MiB/s   \n"
       ]
      },
      {
       "output_type": "stream",
       "stream": "stdout",
       "text": [
        "[ubuntu@ec2-54-243-24-167.compute-1.amazonaws.com] out: "
       ]
      },
      {
       "output_type": "stream",
       "stream": "stdout",
       "text": [
        "Receiving objects:  43% (10409/24062), 21.75 MiB | 5.40 MiB/s   \n"
       ]
      },
      {
       "output_type": "stream",
       "stream": "stdout",
       "text": [
        "[ubuntu@ec2-54-243-24-167.compute-1.amazonaws.com] out: "
       ]
      },
      {
       "output_type": "stream",
       "stream": "stdout",
       "text": [
        "Receiving objects:  43% (10409/24062), 32.48 MiB | 6.87 MiB/s   \n"
       ]
      },
      {
       "output_type": "stream",
       "stream": "stdout",
       "text": [
        "[ubuntu@ec2-54-243-24-167.compute-1.amazonaws.com] out: "
       ]
      },
      {
       "output_type": "stream",
       "stream": "stdout",
       "text": [
        "Receiving objects:  43% (10410/24062), 38.93 MiB | 7.21 MiB/s   \n"
       ]
      },
      {
       "output_type": "stream",
       "stream": "stdout",
       "text": [
        "[ubuntu@ec2-54-243-24-167.compute-1.amazonaws.com] out: "
       ]
      },
      {
       "output_type": "stream",
       "stream": "stdout",
       "text": [
        "Receiving objects:  44% (10588/24062), 43.17 MiB | 7.77 MiB/s   \n"
       ]
      },
      {
       "output_type": "stream",
       "stream": "stdout",
       "text": [
        "[ubuntu@ec2-54-243-24-167.compute-1.amazonaws.com] out: "
       ]
      },
      {
       "output_type": "stream",
       "stream": "stdout",
       "text": [
        "Receiving objects:  45% (10828/24062), 43.17 MiB | 7.77 MiB/s   \n"
       ]
      },
      {
       "output_type": "stream",
       "stream": "stdout",
       "text": [
        "[ubuntu@ec2-54-243-24-167.compute-1.amazonaws.com] out: "
       ]
      },
      {
       "output_type": "stream",
       "stream": "stdout",
       "text": [
        "Receiving objects:  46% (11069/24062), 43.17 MiB | 7.77 MiB/s   \n"
       ]
      },
      {
       "output_type": "stream",
       "stream": "stdout",
       "text": [
        "[ubuntu@ec2-54-243-24-167.compute-1.amazonaws.com] out: "
       ]
      },
      {
       "output_type": "stream",
       "stream": "stdout",
       "text": [
        "Receiving objects:  46% (11282/24062), 47.25 MiB | 7.70 MiB/s   \n"
       ]
      },
      {
       "output_type": "stream",
       "stream": "stdout",
       "text": [
        "[ubuntu@ec2-54-243-24-167.compute-1.amazonaws.com] out: "
       ]
      },
      {
       "output_type": "stream",
       "stream": "stdout",
       "text": [
        "Receiving objects:  46% (11283/24062), 53.34 MiB | 7.18 MiB/s   \n"
       ]
      },
      {
       "output_type": "stream",
       "stream": "stdout",
       "text": [
        "[ubuntu@ec2-54-243-24-167.compute-1.amazonaws.com] out: "
       ]
      },
      {
       "output_type": "stream",
       "stream": "stdout",
       "text": [
        "Receiving objects:  46% (11283/24062), 59.59 MiB | 7.17 MiB/s   \n"
       ]
      },
      {
       "output_type": "stream",
       "stream": "stdout",
       "text": [
        "[ubuntu@ec2-54-243-24-167.compute-1.amazonaws.com] out: "
       ]
      },
      {
       "output_type": "stream",
       "stream": "stdout",
       "text": [
        "Receiving objects:  46% (11283/24062), 63.75 MiB | 6.19 MiB/s   \n"
       ]
      },
      {
       "output_type": "stream",
       "stream": "stdout",
       "text": [
        "[ubuntu@ec2-54-243-24-167.compute-1.amazonaws.com] out: "
       ]
      },
      {
       "output_type": "stream",
       "stream": "stdout",
       "text": [
        "Receiving objects:  46% (11283/24062), 68.99 MiB | 5.64 MiB/s   \n"
       ]
      },
      {
       "output_type": "stream",
       "stream": "stdout",
       "text": [
        "[ubuntu@ec2-54-243-24-167.compute-1.amazonaws.com] out: "
       ]
      },
      {
       "output_type": "stream",
       "stream": "stdout",
       "text": [
        "Receiving objects:  46% (11284/24062), 71.33 MiB | 5.27 MiB/s   \n"
       ]
      },
      {
       "output_type": "stream",
       "stream": "stdout",
       "text": [
        "[ubuntu@ec2-54-243-24-167.compute-1.amazonaws.com] out: "
       ]
      },
      {
       "output_type": "stream",
       "stream": "stdout",
       "text": [
        "Receiving objects:  46% (11284/24062), 77.82 MiB | 4.62 MiB/s   \n"
       ]
      },
      {
       "output_type": "stream",
       "stream": "stdout",
       "text": [
        "[ubuntu@ec2-54-243-24-167.compute-1.amazonaws.com] out: "
       ]
      },
      {
       "output_type": "stream",
       "stream": "stdout",
       "text": [
        "Receiving objects:  46% (11284/24062), 82.54 MiB | 4.61 MiB/s   \n"
       ]
      },
      {
       "output_type": "stream",
       "stream": "stdout",
       "text": [
        "[ubuntu@ec2-54-243-24-167.compute-1.amazonaws.com] out: "
       ]
      },
      {
       "output_type": "stream",
       "stream": "stdout",
       "text": [
        "Receiving objects:  46% (11284/24062), 88.58 MiB | 4.46 MiB/s   \n"
       ]
      },
      {
       "output_type": "stream",
       "stream": "stdout",
       "text": [
        "[ubuntu@ec2-54-243-24-167.compute-1.amazonaws.com] out: "
       ]
      },
      {
       "output_type": "stream",
       "stream": "stdout",
       "text": [
        "Receiving objects:  46% (11285/24062), 93.51 MiB | 4.90 MiB/s   \n"
       ]
      },
      {
       "output_type": "stream",
       "stream": "stdout",
       "text": [
        "[ubuntu@ec2-54-243-24-167.compute-1.amazonaws.com] out: "
       ]
      },
      {
       "output_type": "stream",
       "stream": "stdout",
       "text": [
        "Receiving objects:  46% (11286/24062), 97.04 MiB | 4.79 MiB/s   \n"
       ]
      },
      {
       "output_type": "stream",
       "stream": "stdout",
       "text": [
        "[ubuntu@ec2-54-243-24-167.compute-1.amazonaws.com] out: "
       ]
      },
      {
       "output_type": "stream",
       "stream": "stdout",
       "text": [
        "Receiving objects:  46% (11286/24062), 101.94 MiB | 4.82 MiB/s   \n"
       ]
      },
      {
       "output_type": "stream",
       "stream": "stdout",
       "text": [
        "[ubuntu@ec2-54-243-24-167.compute-1.amazonaws.com] out: "
       ]
      },
      {
       "output_type": "stream",
       "stream": "stdout",
       "text": [
        "Receiving objects:  46% (11286/24062), 106.69 MiB | 4.83 MiB/s   \n"
       ]
      },
      {
       "output_type": "stream",
       "stream": "stdout",
       "text": [
        "[ubuntu@ec2-54-243-24-167.compute-1.amazonaws.com] out: "
       ]
      },
      {
       "output_type": "stream",
       "stream": "stdout",
       "text": [
        "Receiving objects:  46% (11286/24062), 109.62 MiB | 4.63 MiB/s   \n"
       ]
      },
      {
       "output_type": "stream",
       "stream": "stdout",
       "text": [
        "[ubuntu@ec2-54-243-24-167.compute-1.amazonaws.com] out: "
       ]
      },
      {
       "output_type": "stream",
       "stream": "stdout",
       "text": [
        "Receiving objects:  46% (11286/24062), 112.40 MiB | 3.71 MiB/s   \n"
       ]
      },
      {
       "output_type": "stream",
       "stream": "stdout",
       "text": [
        "[ubuntu@ec2-54-243-24-167.compute-1.amazonaws.com] out: "
       ]
      },
      {
       "output_type": "stream",
       "stream": "stdout",
       "text": [
        "Receiving objects:  46% (11286/24062), 115.03 MiB | 3.44 MiB/s   \n"
       ]
      },
      {
       "output_type": "stream",
       "stream": "stdout",
       "text": [
        "[ubuntu@ec2-54-243-24-167.compute-1.amazonaws.com] out: "
       ]
      },
      {
       "output_type": "stream",
       "stream": "stdout",
       "text": [
        "Receiving objects:  47% (11310/24062), 115.03 MiB | 3.44 MiB/s   \n"
       ]
      },
      {
       "output_type": "stream",
       "stream": "stdout",
       "text": [
        "[ubuntu@ec2-54-243-24-167.compute-1.amazonaws.com] out: "
       ]
      },
      {
       "output_type": "stream",
       "stream": "stdout",
       "text": [
        "Receiving objects:  47% (11508/24062), 116.62 MiB | 3.20 MiB/s   \n"
       ]
      },
      {
       "output_type": "stream",
       "stream": "stdout",
       "text": [
        "[ubuntu@ec2-54-243-24-167.compute-1.amazonaws.com] out: "
       ]
      },
      {
       "output_type": "stream",
       "stream": "stdout",
       "text": [
        "Receiving objects:  48% (11550/24062), 116.62 MiB | 3.20 MiB/s   \n"
       ]
      },
      {
       "output_type": "stream",
       "stream": "stdout",
       "text": [
        "[ubuntu@ec2-54-243-24-167.compute-1.amazonaws.com] out: "
       ]
      },
      {
       "output_type": "stream",
       "stream": "stdout",
       "text": [
        "Receiving objects:  49% (11791/24062), 116.62 MiB | 3.20 MiB/s   \n"
       ]
      },
      {
       "output_type": "stream",
       "stream": "stdout",
       "text": [
        "[ubuntu@ec2-54-243-24-167.compute-1.amazonaws.com] out: "
       ]
      },
      {
       "output_type": "stream",
       "stream": "stdout",
       "text": [
        "Receiving objects:  50% (12031/24062), 116.62 MiB | 3.20 MiB/s   \n"
       ]
      },
      {
       "output_type": "stream",
       "stream": "stdout",
       "text": [
        "[ubuntu@ec2-54-243-24-167.compute-1.amazonaws.com] out: "
       ]
      },
      {
       "output_type": "stream",
       "stream": "stdout",
       "text": [
        "Receiving objects:  51% (12272/24062), 116.62 MiB | 3.20 MiB/s   \n"
       ]
      },
      {
       "output_type": "stream",
       "stream": "stdout",
       "text": [
        "[ubuntu@ec2-54-243-24-167.compute-1.amazonaws.com] out: "
       ]
      },
      {
       "output_type": "stream",
       "stream": "stdout",
       "text": [
        "Receiving objects:  52% (12513/24062), 116.62 MiB | 3.20 MiB/s   \n"
       ]
      },
      {
       "output_type": "stream",
       "stream": "stdout",
       "text": [
        "[ubuntu@ec2-54-243-24-167.compute-1.amazonaws.com] out: "
       ]
      },
      {
       "output_type": "stream",
       "stream": "stdout",
       "text": [
        "Receiving objects:  53% (12753/24062), 118.78 MiB | 3.06 MiB/s   \n"
       ]
      },
      {
       "output_type": "stream",
       "stream": "stdout",
       "text": [
        "[ubuntu@ec2-54-243-24-167.compute-1.amazonaws.com] out: "
       ]
      },
      {
       "output_type": "stream",
       "stream": "stdout",
       "text": [
        "Receiving objects:  54% (12994/24062), 118.78 MiB | 3.06 MiB/s   \n"
       ]
      },
      {
       "output_type": "stream",
       "stream": "stdout",
       "text": [
        "[ubuntu@ec2-54-243-24-167.compute-1.amazonaws.com] out: "
       ]
      },
      {
       "output_type": "stream",
       "stream": "stdout",
       "text": [
        "Receiving objects:  55% (13235/24062), 118.78 MiB | 3.06 MiB/s   \n"
       ]
      },
      {
       "output_type": "stream",
       "stream": "stdout",
       "text": [
        "[ubuntu@ec2-54-243-24-167.compute-1.amazonaws.com] out: "
       ]
      },
      {
       "output_type": "stream",
       "stream": "stdout",
       "text": [
        "Receiving objects:  56% (13475/24062), 118.78 MiB | 3.06 MiB/s   \n"
       ]
      },
      {
       "output_type": "stream",
       "stream": "stdout",
       "text": [
        "[ubuntu@ec2-54-243-24-167.compute-1.amazonaws.com] out: "
       ]
      },
      {
       "output_type": "stream",
       "stream": "stdout",
       "text": [
        "Receiving objects:  57% (13716/24062), 118.78 MiB | 3.06 MiB/s   \n"
       ]
      },
      {
       "output_type": "stream",
       "stream": "stdout",
       "text": [
        "[ubuntu@ec2-54-243-24-167.compute-1.amazonaws.com] out: "
       ]
      },
      {
       "output_type": "stream",
       "stream": "stdout",
       "text": [
        "Receiving objects:  58% (13956/24062), 118.78 MiB | 3.06 MiB/s   \n"
       ]
      },
      {
       "output_type": "stream",
       "stream": "stdout",
       "text": [
        "[ubuntu@ec2-54-243-24-167.compute-1.amazonaws.com] out: "
       ]
      },
      {
       "output_type": "stream",
       "stream": "stdout",
       "text": [
        "Receiving objects:  59% (14197/24062), 118.78 MiB | 3.06 MiB/s   \n"
       ]
      },
      {
       "output_type": "stream",
       "stream": "stdout",
       "text": [
        "[ubuntu@ec2-54-243-24-167.compute-1.amazonaws.com] out: "
       ]
      },
      {
       "output_type": "stream",
       "stream": "stdout",
       "text": [
        "Receiving objects:  60% (14438/24062), 118.78 MiB | 3.06 MiB/s   \n"
       ]
      },
      {
       "output_type": "stream",
       "stream": "stdout",
       "text": [
        "[ubuntu@ec2-54-243-24-167.compute-1.amazonaws.com] out: "
       ]
      },
      {
       "output_type": "stream",
       "stream": "stdout",
       "text": [
        "Receiving objects:  61% (14678/24062), 118.78 MiB | 3.06 MiB/s   \n"
       ]
      },
      {
       "output_type": "stream",
       "stream": "stdout",
       "text": [
        "[ubuntu@ec2-54-243-24-167.compute-1.amazonaws.com] out: "
       ]
      },
      {
       "output_type": "stream",
       "stream": "stdout",
       "text": [
        "Receiving objects:  62% (14919/24062), 118.78 MiB | 3.06 MiB/s   \n"
       ]
      },
      {
       "output_type": "stream",
       "stream": "stdout",
       "text": [
        "[ubuntu@ec2-54-243-24-167.compute-1.amazonaws.com] out: "
       ]
      },
      {
       "output_type": "stream",
       "stream": "stdout",
       "text": [
        "Receiving objects:  63% (15160/24062), 118.78 MiB | 3.06 MiB/s   \n"
       ]
      },
      {
       "output_type": "stream",
       "stream": "stdout",
       "text": [
        "[ubuntu@ec2-54-243-24-167.compute-1.amazonaws.com] out: "
       ]
      },
      {
       "output_type": "stream",
       "stream": "stdout",
       "text": [
        "Receiving objects:  64% (15400/24062), 118.78 MiB | 3.06 MiB/s   \n"
       ]
      },
      {
       "output_type": "stream",
       "stream": "stdout",
       "text": [
        "[ubuntu@ec2-54-243-24-167.compute-1.amazonaws.com] out: "
       ]
      },
      {
       "output_type": "stream",
       "stream": "stdout",
       "text": [
        "Receiving objects:  65% (15641/24062), 118.78 MiB | 3.06 MiB/s   \n"
       ]
      },
      {
       "output_type": "stream",
       "stream": "stdout",
       "text": [
        "[ubuntu@ec2-54-243-24-167.compute-1.amazonaws.com] out: "
       ]
      },
      {
       "output_type": "stream",
       "stream": "stdout",
       "text": [
        "Receiving objects:  66% (15881/24062), 118.78 MiB | 3.06 MiB/s   \n"
       ]
      },
      {
       "output_type": "stream",
       "stream": "stdout",
       "text": [
        "[ubuntu@ec2-54-243-24-167.compute-1.amazonaws.com] out: "
       ]
      },
      {
       "output_type": "stream",
       "stream": "stdout",
       "text": [
        "Receiving objects:  67% (16122/24062), 118.78 MiB | 3.06 MiB/s   \n"
       ]
      },
      {
       "output_type": "stream",
       "stream": "stdout",
       "text": [
        "[ubuntu@ec2-54-243-24-167.compute-1.amazonaws.com] out: "
       ]
      },
      {
       "output_type": "stream",
       "stream": "stdout",
       "text": [
        "Receiving objects:  68% (16363/24062), 118.78 MiB | 3.06 MiB/s   \n"
       ]
      },
      {
       "output_type": "stream",
       "stream": "stdout",
       "text": [
        "[ubuntu@ec2-54-243-24-167.compute-1.amazonaws.com] out: "
       ]
      },
      {
       "output_type": "stream",
       "stream": "stdout",
       "text": [
        "Receiving objects:  69% (16603/24062), 118.78 MiB | 3.06 MiB/s   \n"
       ]
      },
      {
       "output_type": "stream",
       "stream": "stdout",
       "text": [
        "[ubuntu@ec2-54-243-24-167.compute-1.amazonaws.com] out: "
       ]
      },
      {
       "output_type": "stream",
       "stream": "stdout",
       "text": [
        "Receiving objects:  70% (16844/24062), 118.78 MiB | 3.06 MiB/s   \n"
       ]
      },
      {
       "output_type": "stream",
       "stream": "stdout",
       "text": [
        "[ubuntu@ec2-54-243-24-167.compute-1.amazonaws.com] out: "
       ]
      },
      {
       "output_type": "stream",
       "stream": "stdout",
       "text": [
        "Receiving objects:  71% (17085/24062), 118.78 MiB | 3.06 MiB/s   \n"
       ]
      },
      {
       "output_type": "stream",
       "stream": "stdout",
       "text": [
        "[ubuntu@ec2-54-243-24-167.compute-1.amazonaws.com] out: "
       ]
      },
      {
       "output_type": "stream",
       "stream": "stdout",
       "text": [
        "Receiving objects:  72% (17325/24062), 118.78 MiB | 3.06 MiB/s   \n"
       ]
      },
      {
       "output_type": "stream",
       "stream": "stdout",
       "text": [
        "[ubuntu@ec2-54-243-24-167.compute-1.amazonaws.com] out: "
       ]
      },
      {
       "output_type": "stream",
       "stream": "stdout",
       "text": [
        "Receiving objects:  73% (17566/24062), 118.78 MiB | 3.06 MiB/s   \n"
       ]
      },
      {
       "output_type": "stream",
       "stream": "stdout",
       "text": [
        "[ubuntu@ec2-54-243-24-167.compute-1.amazonaws.com] out: "
       ]
      },
      {
       "output_type": "stream",
       "stream": "stdout",
       "text": [
        "Receiving objects:  74% (17806/24062), 118.78 MiB | 3.06 MiB/s   \n"
       ]
      },
      {
       "output_type": "stream",
       "stream": "stdout",
       "text": [
        "[ubuntu@ec2-54-243-24-167.compute-1.amazonaws.com] out: "
       ]
      },
      {
       "output_type": "stream",
       "stream": "stdout",
       "text": [
        "Receiving objects:  75% (18047/24062), 118.78 MiB | 3.06 MiB/s   \n"
       ]
      },
      {
       "output_type": "stream",
       "stream": "stdout",
       "text": [
        "[ubuntu@ec2-54-243-24-167.compute-1.amazonaws.com] out: "
       ]
      },
      {
       "output_type": "stream",
       "stream": "stdout",
       "text": [
        "Receiving objects:  76% (18288/24062), 118.78 MiB | 3.06 MiB/s   \n"
       ]
      },
      {
       "output_type": "stream",
       "stream": "stdout",
       "text": [
        "[ubuntu@ec2-54-243-24-167.compute-1.amazonaws.com] out: "
       ]
      },
      {
       "output_type": "stream",
       "stream": "stdout",
       "text": [
        "Receiving objects:  77% (18528/24062), 118.78 MiB | 3.06 MiB/s   \n"
       ]
      },
      {
       "output_type": "stream",
       "stream": "stdout",
       "text": [
        "[ubuntu@ec2-54-243-24-167.compute-1.amazonaws.com] out: "
       ]
      },
      {
       "output_type": "stream",
       "stream": "stdout",
       "text": [
        "Receiving objects:  78% (18769/24062), 118.78 MiB | 3.06 MiB/s   \n"
       ]
      },
      {
       "output_type": "stream",
       "stream": "stdout",
       "text": [
        "[ubuntu@ec2-54-243-24-167.compute-1.amazonaws.com] out: "
       ]
      },
      {
       "output_type": "stream",
       "stream": "stdout",
       "text": [
        "Receiving objects:  79% (19009/24062), 118.78 MiB | 3.06 MiB/s   \n"
       ]
      },
      {
       "output_type": "stream",
       "stream": "stdout",
       "text": [
        "[ubuntu@ec2-54-243-24-167.compute-1.amazonaws.com] out: "
       ]
      },
      {
       "output_type": "stream",
       "stream": "stdout",
       "text": [
        "Receiving objects:  79% (19228/24062), 120.25 MiB | 2.96 MiB/s   \n"
       ]
      },
      {
       "output_type": "stream",
       "stream": "stdout",
       "text": [
        "[ubuntu@ec2-54-243-24-167.compute-1.amazonaws.com] out: "
       ]
      },
      {
       "output_type": "stream",
       "stream": "stdout",
       "text": [
        "Receiving objects:  80% (19250/24062), 122.18 MiB | 3.07 MiB/s   \n"
       ]
      },
      {
       "output_type": "stream",
       "stream": "stdout",
       "text": [
        "[ubuntu@ec2-54-243-24-167.compute-1.amazonaws.com] out: "
       ]
      },
      {
       "output_type": "stream",
       "stream": "stdout",
       "text": [
        "Receiving objects:  81% (19491/24062), 122.18 MiB | 3.07 MiB/s   \n"
       ]
      },
      {
       "output_type": "stream",
       "stream": "stdout",
       "text": [
        "[ubuntu@ec2-54-243-24-167.compute-1.amazonaws.com] out: "
       ]
      },
      {
       "output_type": "stream",
       "stream": "stdout",
       "text": [
        "Receiving objects:  82% (19731/24062), 122.18 MiB | 3.07 MiB/s   \n"
       ]
      },
      {
       "output_type": "stream",
       "stream": "stdout",
       "text": [
        "[ubuntu@ec2-54-243-24-167.compute-1.amazonaws.com] out: "
       ]
      },
      {
       "output_type": "stream",
       "stream": "stdout",
       "text": [
        "Receiving objects:  83% (19972/24062), 122.18 MiB | 3.07 MiB/s   \n"
       ]
      },
      {
       "output_type": "stream",
       "stream": "stdout",
       "text": [
        "[ubuntu@ec2-54-243-24-167.compute-1.amazonaws.com] out: "
       ]
      },
      {
       "output_type": "stream",
       "stream": "stdout",
       "text": [
        "Receiving objects:  84% (20213/24062), 122.18 MiB | 3.07 MiB/s   \n"
       ]
      },
      {
       "output_type": "stream",
       "stream": "stdout",
       "text": [
        "[ubuntu@ec2-54-243-24-167.compute-1.amazonaws.com] out: "
       ]
      },
      {
       "output_type": "stream",
       "stream": "stdout",
       "text": [
        "Receiving objects:  85% (20453/24062), 122.18 MiB | 3.07 MiB/s   \n"
       ]
      },
      {
       "output_type": "stream",
       "stream": "stdout",
       "text": [
        "[ubuntu@ec2-54-243-24-167.compute-1.amazonaws.com] out: "
       ]
      },
      {
       "output_type": "stream",
       "stream": "stdout",
       "text": [
        "Receiving objects:  86% (20694/24062), 122.18 MiB | 3.07 MiB/s   \n"
       ]
      },
      {
       "output_type": "stream",
       "stream": "stdout",
       "text": [
        "[ubuntu@ec2-54-243-24-167.compute-1.amazonaws.com] out: "
       ]
      },
      {
       "output_type": "stream",
       "stream": "stdout",
       "text": [
        "Receiving objects:  87% (20934/24062), 122.18 MiB | 3.07 MiB/s   \n"
       ]
      },
      {
       "output_type": "stream",
       "stream": "stdout",
       "text": [
        "[ubuntu@ec2-54-243-24-167.compute-1.amazonaws.com] out: "
       ]
      },
      {
       "output_type": "stream",
       "stream": "stdout",
       "text": [
        "Receiving objects:  88% (21175/24062), 122.18 MiB | 3.07 MiB/s   \n"
       ]
      },
      {
       "output_type": "stream",
       "stream": "stdout",
       "text": [
        "[ubuntu@ec2-54-243-24-167.compute-1.amazonaws.com] out: "
       ]
      },
      {
       "output_type": "stream",
       "stream": "stdout",
       "text": [
        "Receiving objects:  89% (21416/24062), 122.18 MiB | 3.07 MiB/s   \n"
       ]
      },
      {
       "output_type": "stream",
       "stream": "stdout",
       "text": [
        "[ubuntu@ec2-54-243-24-167.compute-1.amazonaws.com] out: "
       ]
      },
      {
       "output_type": "stream",
       "stream": "stdout",
       "text": [
        "Receiving objects:  90% (21656/24062), 124.18 MiB | 3.19 MiB/s   \n"
       ]
      },
      {
       "output_type": "stream",
       "stream": "stdout",
       "text": [
        "[ubuntu@ec2-54-243-24-167.compute-1.amazonaws.com] out: "
       ]
      },
      {
       "output_type": "stream",
       "stream": "stdout",
       "text": [
        "Receiving objects:  91% (21897/24062), 124.18 MiB | 3.19 MiB/s   \n"
       ]
      },
      {
       "output_type": "stream",
       "stream": "stdout",
       "text": [
        "[ubuntu@ec2-54-243-24-167.compute-1.amazonaws.com] out: "
       ]
      },
      {
       "output_type": "stream",
       "stream": "stdout",
       "text": [
        "Receiving objects:  92% (22138/24062), 124.18 MiB | 3.19 MiB/s   \n"
       ]
      },
      {
       "output_type": "stream",
       "stream": "stdout",
       "text": [
        "[ubuntu@ec2-54-243-24-167.compute-1.amazonaws.com] out: "
       ]
      },
      {
       "output_type": "stream",
       "stream": "stdout",
       "text": [
        "Receiving objects:  93% (22378/24062), 124.18 MiB | 3.19 MiB/s   \n"
       ]
      },
      {
       "output_type": "stream",
       "stream": "stdout",
       "text": [
        "[ubuntu@ec2-54-243-24-167.compute-1.amazonaws.com] out: "
       ]
      },
      {
       "output_type": "stream",
       "stream": "stdout",
       "text": [
        "Receiving objects:  93% (22527/24062), 124.18 MiB | 3.19 MiB/s   \n"
       ]
      },
      {
       "output_type": "stream",
       "stream": "stdout",
       "text": [
        "[ubuntu@ec2-54-243-24-167.compute-1.amazonaws.com] out: "
       ]
      },
      {
       "output_type": "stream",
       "stream": "stdout",
       "text": [
        "Receiving objects:  94% (22619/24062), 124.18 MiB | 3.19 MiB/s   \n"
       ]
      },
      {
       "output_type": "stream",
       "stream": "stdout",
       "text": [
        "[ubuntu@ec2-54-243-24-167.compute-1.amazonaws.com] out: "
       ]
      },
      {
       "output_type": "stream",
       "stream": "stdout",
       "text": [
        "Receiving objects:  95% (22859/24062), 124.18 MiB | 3.19 MiB/s   \n"
       ]
      },
      {
       "output_type": "stream",
       "stream": "stdout",
       "text": [
        "[ubuntu@ec2-54-243-24-167.compute-1.amazonaws.com] out: "
       ]
      },
      {
       "output_type": "stream",
       "stream": "stdout",
       "text": [
        "Receiving objects:  96% (23100/24062), 124.18 MiB | 3.19 MiB/s   \n"
       ]
      },
      {
       "output_type": "stream",
       "stream": "stdout",
       "text": [
        "[ubuntu@ec2-54-243-24-167.compute-1.amazonaws.com] out: "
       ]
      },
      {
       "output_type": "stream",
       "stream": "stdout",
       "text": [
        "Receiving objects:  97% (23341/24062), 124.18 MiB | 3.19 MiB/s   \n"
       ]
      },
      {
       "output_type": "stream",
       "stream": "stdout",
       "text": [
        "[ubuntu@ec2-54-243-24-167.compute-1.amazonaws.com] out: "
       ]
      },
      {
       "output_type": "stream",
       "stream": "stdout",
       "text": [
        "remote: Total 24062 (delta 16896), reused 23920 (delta 16766)\u001b[K\n"
       ]
      },
      {
       "output_type": "stream",
       "stream": "stdout",
       "text": [
        "[ubuntu@ec2-54-243-24-167.compute-1.amazonaws.com] out: "
       ]
      },
      {
       "output_type": "stream",
       "stream": "stdout",
       "text": [
        "Receiving objects:  98% (23581/24062), 126.55 MiB | 3.40 MiB/s   \n"
       ]
      },
      {
       "output_type": "stream",
       "stream": "stdout",
       "text": [
        "[ubuntu@ec2-54-243-24-167.compute-1.amazonaws.com] out: "
       ]
      },
      {
       "output_type": "stream",
       "stream": "stdout",
       "text": [
        "Receiving objects:  99% (23822/24062), 126.55 MiB | 3.40 MiB/s   \n"
       ]
      },
      {
       "output_type": "stream",
       "stream": "stdout",
       "text": [
        "[ubuntu@ec2-54-243-24-167.compute-1.amazonaws.com] out: "
       ]
      },
      {
       "output_type": "stream",
       "stream": "stdout",
       "text": [
        "Receiving objects: 100% (24062/24062), 126.55 MiB | 3.40 MiB/s   \n"
       ]
      },
      {
       "output_type": "stream",
       "stream": "stdout",
       "text": [
        "[ubuntu@ec2-54-243-24-167.compute-1.amazonaws.com] out: "
       ]
      },
      {
       "output_type": "stream",
       "stream": "stdout",
       "text": [
        "Receiving objects: 100% (24062/24062), 129.16 MiB | 3.50 MiB/s, done.\n"
       ]
      },
      {
       "output_type": "stream",
       "stream": "stdout",
       "text": [
        "[ubuntu@ec2-54-243-24-167.compute-1.amazonaws.com] out: "
       ]
      },
      {
       "output_type": "stream",
       "stream": "stdout",
       "text": [
        "Resolving deltas:   0% (0/16896)   \n"
       ]
      },
      {
       "output_type": "stream",
       "stream": "stdout",
       "text": [
        "[ubuntu@ec2-54-243-24-167.compute-1.amazonaws.com] out: "
       ]
      },
      {
       "output_type": "stream",
       "stream": "stdout",
       "text": [
        "Resolving deltas:   1% (251/16896)   \n"
       ]
      },
      {
       "output_type": "stream",
       "stream": "stdout",
       "text": [
        "[ubuntu@ec2-54-243-24-167.compute-1.amazonaws.com] out: "
       ]
      },
      {
       "output_type": "stream",
       "stream": "stdout",
       "text": [
        "Resolving deltas:   4% (745/16896)   \n"
       ]
      },
      {
       "output_type": "stream",
       "stream": "stdout",
       "text": [
        "[ubuntu@ec2-54-243-24-167.compute-1.amazonaws.com] out: "
       ]
      },
      {
       "output_type": "stream",
       "stream": "stdout",
       "text": [
        "Resolving deltas:   6% (1109/16896)   \n"
       ]
      },
      {
       "output_type": "stream",
       "stream": "stdout",
       "text": [
        "[ubuntu@ec2-54-243-24-167.compute-1.amazonaws.com] out: "
       ]
      },
      {
       "output_type": "stream",
       "stream": "stdout",
       "text": [
        "Resolving deltas:   7% (1213/16896)   \n"
       ]
      },
      {
       "output_type": "stream",
       "stream": "stdout",
       "text": [
        "[ubuntu@ec2-54-243-24-167.compute-1.amazonaws.com] out: "
       ]
      },
      {
       "output_type": "stream",
       "stream": "stdout",
       "text": [
        "Resolving deltas:   8% (1370/16896)   \n"
       ]
      },
      {
       "output_type": "stream",
       "stream": "stdout",
       "text": [
        "[ubuntu@ec2-54-243-24-167.compute-1.amazonaws.com] out: "
       ]
      },
      {
       "output_type": "stream",
       "stream": "stdout",
       "text": [
        "Resolving deltas:   9% (1559/16896)   \n"
       ]
      },
      {
       "output_type": "stream",
       "stream": "stdout",
       "text": [
        "[ubuntu@ec2-54-243-24-167.compute-1.amazonaws.com] out: "
       ]
      },
      {
       "output_type": "stream",
       "stream": "stdout",
       "text": [
        "Resolving deltas:  10% (1734/16896)   \n"
       ]
      },
      {
       "output_type": "stream",
       "stream": "stdout",
       "text": [
        "[ubuntu@ec2-54-243-24-167.compute-1.amazonaws.com] out: "
       ]
      },
      {
       "output_type": "stream",
       "stream": "stdout",
       "text": [
        "Resolving deltas:  11% (1871/16896)   \n"
       ]
      },
      {
       "output_type": "stream",
       "stream": "stdout",
       "text": [
        "[ubuntu@ec2-54-243-24-167.compute-1.amazonaws.com] out: "
       ]
      },
      {
       "output_type": "stream",
       "stream": "stdout",
       "text": [
        "Resolving deltas:  13% (2252/16896)   \n"
       ]
      },
      {
       "output_type": "stream",
       "stream": "stdout",
       "text": [
        "[ubuntu@ec2-54-243-24-167.compute-1.amazonaws.com] out: "
       ]
      },
      {
       "output_type": "stream",
       "stream": "stdout",
       "text": [
        "Resolving deltas:  14% (2370/16896)   \n"
       ]
      },
      {
       "output_type": "stream",
       "stream": "stdout",
       "text": [
        "[ubuntu@ec2-54-243-24-167.compute-1.amazonaws.com] out: "
       ]
      },
      {
       "output_type": "stream",
       "stream": "stdout",
       "text": [
        "Resolving deltas:  15% (2583/16896)   \n"
       ]
      },
      {
       "output_type": "stream",
       "stream": "stdout",
       "text": [
        "[ubuntu@ec2-54-243-24-167.compute-1.amazonaws.com] out: "
       ]
      },
      {
       "output_type": "stream",
       "stream": "stdout",
       "text": [
        "Resolving deltas:  18% (3173/16896)   \n"
       ]
      },
      {
       "output_type": "stream",
       "stream": "stdout",
       "text": [
        "[ubuntu@ec2-54-243-24-167.compute-1.amazonaws.com] out: "
       ]
      },
      {
       "output_type": "stream",
       "stream": "stdout",
       "text": [
        "Resolving deltas:  20% (3444/16896)   \n"
       ]
      },
      {
       "output_type": "stream",
       "stream": "stdout",
       "text": [
        "[ubuntu@ec2-54-243-24-167.compute-1.amazonaws.com] out: "
       ]
      },
      {
       "output_type": "stream",
       "stream": "stdout",
       "text": [
        "Resolving deltas:  21% (3654/16896)   \n"
       ]
      },
      {
       "output_type": "stream",
       "stream": "stdout",
       "text": [
        "[ubuntu@ec2-54-243-24-167.compute-1.amazonaws.com] out: "
       ]
      },
      {
       "output_type": "stream",
       "stream": "stdout",
       "text": [
        "Resolving deltas:  24% (4073/16896)   \n"
       ]
      },
      {
       "output_type": "stream",
       "stream": "stdout",
       "text": [
        "[ubuntu@ec2-54-243-24-167.compute-1.amazonaws.com] out: "
       ]
      },
      {
       "output_type": "stream",
       "stream": "stdout",
       "text": [
        "Resolving deltas:  30% (5085/16896)   \n"
       ]
      },
      {
       "output_type": "stream",
       "stream": "stdout",
       "text": [
        "[ubuntu@ec2-54-243-24-167.compute-1.amazonaws.com] out: "
       ]
      },
      {
       "output_type": "stream",
       "stream": "stdout",
       "text": [
        "Resolving deltas:  31% (5269/16896)   \n"
       ]
      },
      {
       "output_type": "stream",
       "stream": "stdout",
       "text": [
        "[ubuntu@ec2-54-243-24-167.compute-1.amazonaws.com] out: "
       ]
      },
      {
       "output_type": "stream",
       "stream": "stdout",
       "text": [
        "Resolving deltas:  34% (5753/16896)   \n"
       ]
      },
      {
       "output_type": "stream",
       "stream": "stdout",
       "text": [
        "[ubuntu@ec2-54-243-24-167.compute-1.amazonaws.com] out: "
       ]
      },
      {
       "output_type": "stream",
       "stream": "stdout",
       "text": [
        "Resolving deltas:  37% (6319/16896)   \n"
       ]
      },
      {
       "output_type": "stream",
       "stream": "stdout",
       "text": [
        "[ubuntu@ec2-54-243-24-167.compute-1.amazonaws.com] out: "
       ]
      },
      {
       "output_type": "stream",
       "stream": "stdout",
       "text": [
        "Resolving deltas:  38% (6533/16896)   \n"
       ]
      },
      {
       "output_type": "stream",
       "stream": "stdout",
       "text": [
        "[ubuntu@ec2-54-243-24-167.compute-1.amazonaws.com] out: "
       ]
      },
      {
       "output_type": "stream",
       "stream": "stdout",
       "text": [
        "Resolving deltas:  39% (6705/16896)   \n"
       ]
      },
      {
       "output_type": "stream",
       "stream": "stdout",
       "text": [
        "[ubuntu@ec2-54-243-24-167.compute-1.amazonaws.com] out: "
       ]
      },
      {
       "output_type": "stream",
       "stream": "stdout",
       "text": [
        "Resolving deltas:  40% (6760/16896)   \n"
       ]
      },
      {
       "output_type": "stream",
       "stream": "stdout",
       "text": [
        "[ubuntu@ec2-54-243-24-167.compute-1.amazonaws.com] out: "
       ]
      },
      {
       "output_type": "stream",
       "stream": "stdout",
       "text": [
        "Resolving deltas:  41% (6947/16896)   \n"
       ]
      },
      {
       "output_type": "stream",
       "stream": "stdout",
       "text": [
        "[ubuntu@ec2-54-243-24-167.compute-1.amazonaws.com] out: "
       ]
      },
      {
       "output_type": "stream",
       "stream": "stdout",
       "text": [
        "Resolving deltas:  42% (7179/16896)   \n"
       ]
      },
      {
       "output_type": "stream",
       "stream": "stdout",
       "text": [
        "[ubuntu@ec2-54-243-24-167.compute-1.amazonaws.com] out: "
       ]
      },
      {
       "output_type": "stream",
       "stream": "stdout",
       "text": [
        "Resolving deltas:  44% (7442/16896)   \n"
       ]
      },
      {
       "output_type": "stream",
       "stream": "stdout",
       "text": [
        "[ubuntu@ec2-54-243-24-167.compute-1.amazonaws.com] out: "
       ]
      },
      {
       "output_type": "stream",
       "stream": "stdout",
       "text": [
        "Resolving deltas:  45% (7644/16896)   \n"
       ]
      },
      {
       "output_type": "stream",
       "stream": "stdout",
       "text": [
        "[ubuntu@ec2-54-243-24-167.compute-1.amazonaws.com] out: "
       ]
      },
      {
       "output_type": "stream",
       "stream": "stdout",
       "text": [
        "Resolving deltas:  46% (7773/16896)   \n"
       ]
      },
      {
       "output_type": "stream",
       "stream": "stdout",
       "text": [
        "[ubuntu@ec2-54-243-24-167.compute-1.amazonaws.com] out: "
       ]
      },
      {
       "output_type": "stream",
       "stream": "stdout",
       "text": [
        "Resolving deltas:  47% (8021/16896)   \n"
       ]
      },
      {
       "output_type": "stream",
       "stream": "stdout",
       "text": [
        "[ubuntu@ec2-54-243-24-167.compute-1.amazonaws.com] out: "
       ]
      },
      {
       "output_type": "stream",
       "stream": "stdout",
       "text": [
        "Resolving deltas:  49% (8401/16896)   \n"
       ]
      },
      {
       "output_type": "stream",
       "stream": "stdout",
       "text": [
        "[ubuntu@ec2-54-243-24-167.compute-1.amazonaws.com] out: "
       ]
      },
      {
       "output_type": "stream",
       "stream": "stdout",
       "text": [
        "Resolving deltas:  50% (8475/16896)   \n"
       ]
      },
      {
       "output_type": "stream",
       "stream": "stdout",
       "text": [
        "[ubuntu@ec2-54-243-24-167.compute-1.amazonaws.com] out: "
       ]
      },
      {
       "output_type": "stream",
       "stream": "stdout",
       "text": [
        "Resolving deltas:  51% (8617/16896)   \n"
       ]
      },
      {
       "output_type": "stream",
       "stream": "stdout",
       "text": [
        "[ubuntu@ec2-54-243-24-167.compute-1.amazonaws.com] out: "
       ]
      },
      {
       "output_type": "stream",
       "stream": "stdout",
       "text": [
        "Resolving deltas:  52% (8834/16896)   \n"
       ]
      },
      {
       "output_type": "stream",
       "stream": "stdout",
       "text": [
        "[ubuntu@ec2-54-243-24-167.compute-1.amazonaws.com] out: "
       ]
      },
      {
       "output_type": "stream",
       "stream": "stdout",
       "text": [
        "Resolving deltas:  53% (8966/16896)   \n"
       ]
      },
      {
       "output_type": "stream",
       "stream": "stdout",
       "text": [
        "[ubuntu@ec2-54-243-24-167.compute-1.amazonaws.com] out: "
       ]
      },
      {
       "output_type": "stream",
       "stream": "stdout",
       "text": [
        "Resolving deltas:  54% (9155/16896)   \n"
       ]
      },
      {
       "output_type": "stream",
       "stream": "stdout",
       "text": [
        "[ubuntu@ec2-54-243-24-167.compute-1.amazonaws.com] out: "
       ]
      },
      {
       "output_type": "stream",
       "stream": "stdout",
       "text": [
        "Resolving deltas:  55% (9416/16896)   \n"
       ]
      },
      {
       "output_type": "stream",
       "stream": "stdout",
       "text": [
        "[ubuntu@ec2-54-243-24-167.compute-1.amazonaws.com] out: "
       ]
      },
      {
       "output_type": "stream",
       "stream": "stdout",
       "text": [
        "Resolving deltas:  56% (9474/16896)   \n"
       ]
      },
      {
       "output_type": "stream",
       "stream": "stdout",
       "text": [
        "[ubuntu@ec2-54-243-24-167.compute-1.amazonaws.com] out: "
       ]
      },
      {
       "output_type": "stream",
       "stream": "stdout",
       "text": [
        "Resolving deltas:  57% (9647/16896)   \n"
       ]
      },
      {
       "output_type": "stream",
       "stream": "stdout",
       "text": [
        "[ubuntu@ec2-54-243-24-167.compute-1.amazonaws.com] out: "
       ]
      },
      {
       "output_type": "stream",
       "stream": "stdout",
       "text": [
        "Resolving deltas:  58% (9847/16896)   \n"
       ]
      },
      {
       "output_type": "stream",
       "stream": "stdout",
       "text": [
        "[ubuntu@ec2-54-243-24-167.compute-1.amazonaws.com] out: "
       ]
      },
      {
       "output_type": "stream",
       "stream": "stdout",
       "text": [
        "Resolving deltas:  59% (9977/16896)   \n"
       ]
      },
      {
       "output_type": "stream",
       "stream": "stdout",
       "text": [
        "[ubuntu@ec2-54-243-24-167.compute-1.amazonaws.com] out: "
       ]
      },
      {
       "output_type": "stream",
       "stream": "stdout",
       "text": [
        "Resolving deltas:  60% (10141/16896)   \n"
       ]
      },
      {
       "output_type": "stream",
       "stream": "stdout",
       "text": [
        "[ubuntu@ec2-54-243-24-167.compute-1.amazonaws.com] out: "
       ]
      },
      {
       "output_type": "stream",
       "stream": "stdout",
       "text": [
        "Resolving deltas:  61% (10308/16896)   \n"
       ]
      },
      {
       "output_type": "stream",
       "stream": "stdout",
       "text": [
        "[ubuntu@ec2-54-243-24-167.compute-1.amazonaws.com] out: "
       ]
      },
      {
       "output_type": "stream",
       "stream": "stdout",
       "text": [
        "Resolving deltas:  62% (10497/16896)   \n"
       ]
      },
      {
       "output_type": "stream",
       "stream": "stdout",
       "text": [
        "[ubuntu@ec2-54-243-24-167.compute-1.amazonaws.com] out: "
       ]
      },
      {
       "output_type": "stream",
       "stream": "stdout",
       "text": [
        "Resolving deltas:  63% (10765/16896)   \n"
       ]
      },
      {
       "output_type": "stream",
       "stream": "stdout",
       "text": [
        "[ubuntu@ec2-54-243-24-167.compute-1.amazonaws.com] out: "
       ]
      },
      {
       "output_type": "stream",
       "stream": "stdout",
       "text": [
        "Resolving deltas:  64% (10819/16896)   \n"
       ]
      },
      {
       "output_type": "stream",
       "stream": "stdout",
       "text": [
        "[ubuntu@ec2-54-243-24-167.compute-1.amazonaws.com] out: "
       ]
      },
      {
       "output_type": "stream",
       "stream": "stdout",
       "text": [
        "Resolving deltas:  65% (11081/16896)   \n"
       ]
      },
      {
       "output_type": "stream",
       "stream": "stdout",
       "text": [
        "[ubuntu@ec2-54-243-24-167.compute-1.amazonaws.com] out: "
       ]
      },
      {
       "output_type": "stream",
       "stream": "stdout",
       "text": [
        "Resolving deltas:  66% (11169/16896)   \n"
       ]
      },
      {
       "output_type": "stream",
       "stream": "stdout",
       "text": [
        "[ubuntu@ec2-54-243-24-167.compute-1.amazonaws.com] out: "
       ]
      },
      {
       "output_type": "stream",
       "stream": "stdout",
       "text": [
        "Resolving deltas:  67% (11329/16896)   \n"
       ]
      },
      {
       "output_type": "stream",
       "stream": "stdout",
       "text": [
        "[ubuntu@ec2-54-243-24-167.compute-1.amazonaws.com] out: "
       ]
      },
      {
       "output_type": "stream",
       "stream": "stdout",
       "text": [
        "Resolving deltas:  68% (11490/16896)   \n"
       ]
      },
      {
       "output_type": "stream",
       "stream": "stdout",
       "text": [
        "[ubuntu@ec2-54-243-24-167.compute-1.amazonaws.com] out: "
       ]
      },
      {
       "output_type": "stream",
       "stream": "stdout",
       "text": [
        "Resolving deltas:  69% (11714/16896)   \n"
       ]
      },
      {
       "output_type": "stream",
       "stream": "stdout",
       "text": [
        "[ubuntu@ec2-54-243-24-167.compute-1.amazonaws.com] out: "
       ]
      },
      {
       "output_type": "stream",
       "stream": "stdout",
       "text": [
        "Resolving deltas:  70% (11837/16896)   \n"
       ]
      },
      {
       "output_type": "stream",
       "stream": "stdout",
       "text": [
        "[ubuntu@ec2-54-243-24-167.compute-1.amazonaws.com] out: "
       ]
      },
      {
       "output_type": "stream",
       "stream": "stdout",
       "text": [
        "Resolving deltas:  71% (11997/16896)   \n"
       ]
      },
      {
       "output_type": "stream",
       "stream": "stdout",
       "text": [
        "[ubuntu@ec2-54-243-24-167.compute-1.amazonaws.com] out: "
       ]
      },
      {
       "output_type": "stream",
       "stream": "stdout",
       "text": [
        "Resolving deltas:  72% (12168/16896)   \n"
       ]
      },
      {
       "output_type": "stream",
       "stream": "stdout",
       "text": [
        "[ubuntu@ec2-54-243-24-167.compute-1.amazonaws.com] out: "
       ]
      },
      {
       "output_type": "stream",
       "stream": "stdout",
       "text": [
        "Resolving deltas:  73% (12471/16896)   \n"
       ]
      },
      {
       "output_type": "stream",
       "stream": "stdout",
       "text": [
        "[ubuntu@ec2-54-243-24-167.compute-1.amazonaws.com] out: "
       ]
      },
      {
       "output_type": "stream",
       "stream": "stdout",
       "text": [
        "Resolving deltas:  74% (12588/16896)   \n"
       ]
      },
      {
       "output_type": "stream",
       "stream": "stdout",
       "text": [
        "[ubuntu@ec2-54-243-24-167.compute-1.amazonaws.com] out: "
       ]
      },
      {
       "output_type": "stream",
       "stream": "stdout",
       "text": [
        "Resolving deltas:  75% (12743/16896)   \n"
       ]
      },
      {
       "output_type": "stream",
       "stream": "stdout",
       "text": [
        "[ubuntu@ec2-54-243-24-167.compute-1.amazonaws.com] out: "
       ]
      },
      {
       "output_type": "stream",
       "stream": "stdout",
       "text": [
        "Resolving deltas:  76% (13005/16896)   \n"
       ]
      },
      {
       "output_type": "stream",
       "stream": "stdout",
       "text": [
        "[ubuntu@ec2-54-243-24-167.compute-1.amazonaws.com] out: "
       ]
      },
      {
       "output_type": "stream",
       "stream": "stdout",
       "text": [
        "Resolving deltas:  77% (13011/16896)   \n"
       ]
      },
      {
       "output_type": "stream",
       "stream": "stdout",
       "text": [
        "[ubuntu@ec2-54-243-24-167.compute-1.amazonaws.com] out: "
       ]
      },
      {
       "output_type": "stream",
       "stream": "stdout",
       "text": [
        "Resolving deltas:  78% (13202/16896)   \n"
       ]
      },
      {
       "output_type": "stream",
       "stream": "stdout",
       "text": [
        "[ubuntu@ec2-54-243-24-167.compute-1.amazonaws.com] out: "
       ]
      },
      {
       "output_type": "stream",
       "stream": "stdout",
       "text": [
        "Resolving deltas:  79% (13355/16896)   \n"
       ]
      },
      {
       "output_type": "stream",
       "stream": "stdout",
       "text": [
        "[ubuntu@ec2-54-243-24-167.compute-1.amazonaws.com] out: "
       ]
      },
      {
       "output_type": "stream",
       "stream": "stdout",
       "text": [
        "Resolving deltas:  80% (13534/16896)   \n"
       ]
      },
      {
       "output_type": "stream",
       "stream": "stdout",
       "text": [
        "[ubuntu@ec2-54-243-24-167.compute-1.amazonaws.com] out: "
       ]
      },
      {
       "output_type": "stream",
       "stream": "stdout",
       "text": [
        "Resolving deltas:  81% (13702/16896)   \n"
       ]
      },
      {
       "output_type": "stream",
       "stream": "stdout",
       "text": [
        "[ubuntu@ec2-54-243-24-167.compute-1.amazonaws.com] out: "
       ]
      },
      {
       "output_type": "stream",
       "stream": "stdout",
       "text": [
        "Resolving deltas:  82% (13860/16896)   \n"
       ]
      },
      {
       "output_type": "stream",
       "stream": "stdout",
       "text": [
        "[ubuntu@ec2-54-243-24-167.compute-1.amazonaws.com] out: "
       ]
      },
      {
       "output_type": "stream",
       "stream": "stdout",
       "text": [
        "Resolving deltas:  83% (14130/16896)   \n"
       ]
      },
      {
       "output_type": "stream",
       "stream": "stdout",
       "text": [
        "[ubuntu@ec2-54-243-24-167.compute-1.amazonaws.com] out: "
       ]
      },
      {
       "output_type": "stream",
       "stream": "stdout",
       "text": [
        "Resolving deltas:  84% (14195/16896)   \n"
       ]
      },
      {
       "output_type": "stream",
       "stream": "stdout",
       "text": [
        "[ubuntu@ec2-54-243-24-167.compute-1.amazonaws.com] out: "
       ]
      },
      {
       "output_type": "stream",
       "stream": "stdout",
       "text": [
        "Resolving deltas:  85% (14398/16896)   \n"
       ]
      },
      {
       "output_type": "stream",
       "stream": "stdout",
       "text": [
        "[ubuntu@ec2-54-243-24-167.compute-1.amazonaws.com] out: "
       ]
      },
      {
       "output_type": "stream",
       "stream": "stdout",
       "text": [
        "Resolving deltas:  86% (14531/16896)   \n"
       ]
      },
      {
       "output_type": "stream",
       "stream": "stdout",
       "text": [
        "[ubuntu@ec2-54-243-24-167.compute-1.amazonaws.com] out: "
       ]
      },
      {
       "output_type": "stream",
       "stream": "stdout",
       "text": [
        "Resolving deltas:  87% (14821/16896)   \n"
       ]
      },
      {
       "output_type": "stream",
       "stream": "stdout",
       "text": [
        "[ubuntu@ec2-54-243-24-167.compute-1.amazonaws.com] out: "
       ]
      },
      {
       "output_type": "stream",
       "stream": "stdout",
       "text": [
        "Resolving deltas:  88% (14877/16896)   \n"
       ]
      },
      {
       "output_type": "stream",
       "stream": "stdout",
       "text": [
        "[ubuntu@ec2-54-243-24-167.compute-1.amazonaws.com] out: "
       ]
      },
      {
       "output_type": "stream",
       "stream": "stdout",
       "text": [
        "Resolving deltas:  89% (15076/16896)   \n"
       ]
      },
      {
       "output_type": "stream",
       "stream": "stdout",
       "text": [
        "[ubuntu@ec2-54-243-24-167.compute-1.amazonaws.com] out: "
       ]
      },
      {
       "output_type": "stream",
       "stream": "stdout",
       "text": [
        "Resolving deltas:  90% (15225/16896)   \n"
       ]
      },
      {
       "output_type": "stream",
       "stream": "stdout",
       "text": [
        "[ubuntu@ec2-54-243-24-167.compute-1.amazonaws.com] out: "
       ]
      },
      {
       "output_type": "stream",
       "stream": "stdout",
       "text": [
        "Resolving deltas:  91% (15417/16896)   \n"
       ]
      },
      {
       "output_type": "stream",
       "stream": "stdout",
       "text": [
        "[ubuntu@ec2-54-243-24-167.compute-1.amazonaws.com] out: "
       ]
      },
      {
       "output_type": "stream",
       "stream": "stdout",
       "text": [
        "Resolving deltas:  92% (15551/16896)   \n"
       ]
      },
      {
       "output_type": "stream",
       "stream": "stdout",
       "text": [
        "[ubuntu@ec2-54-243-24-167.compute-1.amazonaws.com] out: "
       ]
      },
      {
       "output_type": "stream",
       "stream": "stdout",
       "text": [
        "Resolving deltas:  93% (15735/16896)   \n"
       ]
      },
      {
       "output_type": "stream",
       "stream": "stdout",
       "text": [
        "[ubuntu@ec2-54-243-24-167.compute-1.amazonaws.com] out: "
       ]
      },
      {
       "output_type": "stream",
       "stream": "stdout",
       "text": [
        "Resolving deltas:  94% (15883/16896)   \n"
       ]
      },
      {
       "output_type": "stream",
       "stream": "stdout",
       "text": [
        "[ubuntu@ec2-54-243-24-167.compute-1.amazonaws.com] out: "
       ]
      },
      {
       "output_type": "stream",
       "stream": "stdout",
       "text": [
        "Resolving deltas:  95% (16057/16896)   \n"
       ]
      },
      {
       "output_type": "stream",
       "stream": "stdout",
       "text": [
        "[ubuntu@ec2-54-243-24-167.compute-1.amazonaws.com] out: "
       ]
      },
      {
       "output_type": "stream",
       "stream": "stdout",
       "text": [
        "Resolving deltas:  95% (16073/16896)   \n"
       ]
      },
      {
       "output_type": "stream",
       "stream": "stdout",
       "text": [
        "[ubuntu@ec2-54-243-24-167.compute-1.amazonaws.com] out: "
       ]
      },
      {
       "output_type": "stream",
       "stream": "stdout",
       "text": [
        "Resolving deltas:  96% (16257/16896)   \n"
       ]
      },
      {
       "output_type": "stream",
       "stream": "stdout",
       "text": [
        "[ubuntu@ec2-54-243-24-167.compute-1.amazonaws.com] out: "
       ]
      },
      {
       "output_type": "stream",
       "stream": "stdout",
       "text": [
        "Resolving deltas:  97% (16390/16896)   \n"
       ]
      },
      {
       "output_type": "stream",
       "stream": "stdout",
       "text": [
        "[ubuntu@ec2-54-243-24-167.compute-1.amazonaws.com] out: "
       ]
      },
      {
       "output_type": "stream",
       "stream": "stdout",
       "text": [
        "Resolving deltas:  98% (16580/16896)   \n"
       ]
      },
      {
       "output_type": "stream",
       "stream": "stdout",
       "text": [
        "[ubuntu@ec2-54-243-24-167.compute-1.amazonaws.com] out: "
       ]
      },
      {
       "output_type": "stream",
       "stream": "stdout",
       "text": [
        "Resolving deltas:  99% (16728/16896)   \n"
       ]
      },
      {
       "output_type": "stream",
       "stream": "stdout",
       "text": [
        "[ubuntu@ec2-54-243-24-167.compute-1.amazonaws.com] out: "
       ]
      },
      {
       "output_type": "stream",
       "stream": "stdout",
       "text": [
        "Resolving deltas: 100% (16896/16896)   \n"
       ]
      },
      {
       "output_type": "stream",
       "stream": "stdout",
       "text": [
        "[ubuntu@ec2-54-243-24-167.compute-1.amazonaws.com] out: "
       ]
      },
      {
       "output_type": "stream",
       "stream": "stdout",
       "text": [
        "Resolving deltas: 100% (16896/16896), done.\n"
       ]
      },
      {
       "output_type": "stream",
       "stream": "stdout",
       "text": [
        "[ubuntu@ec2-54-243-24-167.compute-1.amazonaws.com] out: "
       ]
      },
      {
       "output_type": "stream",
       "stream": "stdout",
       "text": [
        "\n"
       ]
      },
      {
       "output_type": "stream",
       "stream": "stdout",
       "text": [
        "\n",
        "[ubuntu@ec2-54-243-24-167.compute-1.amazonaws.com] sudo: debconf-set-selections <<< 'mysql-server-5.5 mysql-server/root_password password unglueit_pw_123'\n",
        "[ubuntu@ec2-54-243-24-167.compute-1.amazonaws.com] sudo: debconf-set-selections <<< 'mysql-server-5.5 mysql-server/root_password_again password unglueit_pw_123'"
       ]
      },
      {
       "output_type": "stream",
       "stream": "stdout",
       "text": [
        "\n",
        "[ubuntu@ec2-54-243-24-167.compute-1.amazonaws.com] sudo: apt-get -y install mysql-server"
       ]
      },
      {
       "output_type": "stream",
       "stream": "stdout",
       "text": [
        "\n",
        "[ubuntu@ec2-54-243-24-167.compute-1.amazonaws.com] out: "
       ]
      },
      {
       "output_type": "stream",
       "stream": "stdout",
       "text": [
        "\n"
       ]
      },
      {
       "output_type": "stream",
       "stream": "stdout",
       "text": [
        "[ubuntu@ec2-54-243-24-167.compute-1.amazonaws.com] out: "
       ]
      },
      {
       "output_type": "stream",
       "stream": "stdout",
       "text": [
        "Reading package lists... 0%\n"
       ]
      },
      {
       "output_type": "stream",
       "stream": "stdout",
       "text": [
        "[ubuntu@ec2-54-243-24-167.compute-1.amazonaws.com] out: "
       ]
      },
      {
       "output_type": "stream",
       "stream": "stdout",
       "text": [
        "\n"
       ]
      },
      {
       "output_type": "stream",
       "stream": "stdout",
       "text": [
        "[ubuntu@ec2-54-243-24-167.compute-1.amazonaws.com] out: "
       ]
      },
      {
       "output_type": "stream",
       "stream": "stdout",
       "text": [
        "Reading package lists... 100%\n"
       ]
      },
      {
       "output_type": "stream",
       "stream": "stdout",
       "text": [
        "[ubuntu@ec2-54-243-24-167.compute-1.amazonaws.com] out: "
       ]
      },
      {
       "output_type": "stream",
       "stream": "stdout",
       "text": [
        "\n"
       ]
      },
      {
       "output_type": "stream",
       "stream": "stdout",
       "text": [
        "[ubuntu@ec2-54-243-24-167.compute-1.amazonaws.com] out: "
       ]
      },
      {
       "output_type": "stream",
       "stream": "stdout",
       "text": [
        "Reading package lists... Done\n"
       ]
      },
      {
       "output_type": "stream",
       "stream": "stdout",
       "text": [
        "[ubuntu@ec2-54-243-24-167.compute-1.amazonaws.com] out: "
       ]
      },
      {
       "output_type": "stream",
       "stream": "stdout",
       "text": [
        "\n"
       ]
      },
      {
       "output_type": "stream",
       "stream": "stdout",
       "text": [
        "[ubuntu@ec2-54-243-24-167.compute-1.amazonaws.com] out: "
       ]
      },
      {
       "output_type": "stream",
       "stream": "stdout",
       "text": [
        "\n"
       ]
      },
      {
       "output_type": "stream",
       "stream": "stdout",
       "text": [
        "[ubuntu@ec2-54-243-24-167.compute-1.amazonaws.com] out: "
       ]
      },
      {
       "output_type": "stream",
       "stream": "stdout",
       "text": [
        "Building dependency tree... 0%\n"
       ]
      },
      {
       "output_type": "stream",
       "stream": "stdout",
       "text": [
        "[ubuntu@ec2-54-243-24-167.compute-1.amazonaws.com] out: "
       ]
      },
      {
       "output_type": "stream",
       "stream": "stdout",
       "text": [
        "\n"
       ]
      },
      {
       "output_type": "stream",
       "stream": "stdout",
       "text": [
        "[ubuntu@ec2-54-243-24-167.compute-1.amazonaws.com] out: "
       ]
      },
      {
       "output_type": "stream",
       "stream": "stdout",
       "text": [
        "Building dependency tree... 0%\n"
       ]
      },
      {
       "output_type": "stream",
       "stream": "stdout",
       "text": [
        "[ubuntu@ec2-54-243-24-167.compute-1.amazonaws.com] out: "
       ]
      },
      {
       "output_type": "stream",
       "stream": "stdout",
       "text": [
        "\n"
       ]
      },
      {
       "output_type": "stream",
       "stream": "stdout",
       "text": [
        "[ubuntu@ec2-54-243-24-167.compute-1.amazonaws.com] out: "
       ]
      },
      {
       "output_type": "stream",
       "stream": "stdout",
       "text": [
        "Building dependency tree... 1%\n"
       ]
      },
      {
       "output_type": "stream",
       "stream": "stdout",
       "text": [
        "[ubuntu@ec2-54-243-24-167.compute-1.amazonaws.com] out: "
       ]
      },
      {
       "output_type": "stream",
       "stream": "stdout",
       "text": [
        "\n"
       ]
      },
      {
       "output_type": "stream",
       "stream": "stdout",
       "text": [
        "[ubuntu@ec2-54-243-24-167.compute-1.amazonaws.com] out: "
       ]
      },
      {
       "output_type": "stream",
       "stream": "stdout",
       "text": [
        "Building dependency tree... 50%\n"
       ]
      },
      {
       "output_type": "stream",
       "stream": "stdout",
       "text": [
        "[ubuntu@ec2-54-243-24-167.compute-1.amazonaws.com] out: "
       ]
      },
      {
       "output_type": "stream",
       "stream": "stdout",
       "text": [
        "\n"
       ]
      },
      {
       "output_type": "stream",
       "stream": "stdout",
       "text": [
        "[ubuntu@ec2-54-243-24-167.compute-1.amazonaws.com] out: "
       ]
      },
      {
       "output_type": "stream",
       "stream": "stdout",
       "text": [
        "Building dependency tree... 50%\n"
       ]
      },
      {
       "output_type": "stream",
       "stream": "stdout",
       "text": [
        "[ubuntu@ec2-54-243-24-167.compute-1.amazonaws.com] out: "
       ]
      },
      {
       "output_type": "stream",
       "stream": "stdout",
       "text": [
        "\n"
       ]
      },
      {
       "output_type": "stream",
       "stream": "stdout",
       "text": [
        "[ubuntu@ec2-54-243-24-167.compute-1.amazonaws.com] out: "
       ]
      },
      {
       "output_type": "stream",
       "stream": "stdout",
       "text": [
        "Building dependency tree       \n"
       ]
      },
      {
       "output_type": "stream",
       "stream": "stdout",
       "text": [
        "[ubuntu@ec2-54-243-24-167.compute-1.amazonaws.com] out: "
       ]
      },
      {
       "output_type": "stream",
       "stream": "stdout",
       "text": [
        "\n"
       ]
      },
      {
       "output_type": "stream",
       "stream": "stdout",
       "text": [
        "[ubuntu@ec2-54-243-24-167.compute-1.amazonaws.com] out: "
       ]
      },
      {
       "output_type": "stream",
       "stream": "stdout",
       "text": [
        "\n"
       ]
      },
      {
       "output_type": "stream",
       "stream": "stdout",
       "text": [
        "[ubuntu@ec2-54-243-24-167.compute-1.amazonaws.com] out: "
       ]
      },
      {
       "output_type": "stream",
       "stream": "stdout",
       "text": [
        "Reading state information... 0%\n"
       ]
      },
      {
       "output_type": "stream",
       "stream": "stdout",
       "text": [
        "[ubuntu@ec2-54-243-24-167.compute-1.amazonaws.com] out: "
       ]
      },
      {
       "output_type": "stream",
       "stream": "stdout",
       "text": [
        "\n"
       ]
      },
      {
       "output_type": "stream",
       "stream": "stdout",
       "text": [
        "[ubuntu@ec2-54-243-24-167.compute-1.amazonaws.com] out: "
       ]
      },
      {
       "output_type": "stream",
       "stream": "stdout",
       "text": [
        "Reading state information... 1%\n"
       ]
      },
      {
       "output_type": "stream",
       "stream": "stdout",
       "text": [
        "[ubuntu@ec2-54-243-24-167.compute-1.amazonaws.com] out: "
       ]
      },
      {
       "output_type": "stream",
       "stream": "stdout",
       "text": [
        "\n"
       ]
      },
      {
       "output_type": "stream",
       "stream": "stdout",
       "text": [
        "[ubuntu@ec2-54-243-24-167.compute-1.amazonaws.com] out: "
       ]
      },
      {
       "output_type": "stream",
       "stream": "stdout",
       "text": [
        "Reading state information... Done\n"
       ]
      },
      {
       "output_type": "stream",
       "stream": "stdout",
       "text": [
        "[ubuntu@ec2-54-243-24-167.compute-1.amazonaws.com] out: "
       ]
      },
      {
       "output_type": "stream",
       "stream": "stdout",
       "text": [
        "\n"
       ]
      },
      {
       "output_type": "stream",
       "stream": "stdout",
       "text": [
        "[ubuntu@ec2-54-243-24-167.compute-1.amazonaws.com] out: "
       ]
      },
      {
       "output_type": "stream",
       "stream": "stdout",
       "text": [
        "The following extra packages will be installed:\n"
       ]
      },
      {
       "output_type": "stream",
       "stream": "stdout",
       "text": [
        "[ubuntu@ec2-54-243-24-167.compute-1.amazonaws.com] out: "
       ]
      },
      {
       "output_type": "stream",
       "stream": "stdout",
       "text": [
        "  libhtml-template-perl mysql-server-5.5 mysql-server-core-5.5\n"
       ]
      },
      {
       "output_type": "stream",
       "stream": "stdout",
       "text": [
        "[ubuntu@ec2-54-243-24-167.compute-1.amazonaws.com] out: "
       ]
      },
      {
       "output_type": "stream",
       "stream": "stdout",
       "text": [
        "Suggested packages:\n"
       ]
      },
      {
       "output_type": "stream",
       "stream": "stdout",
       "text": [
        "[ubuntu@ec2-54-243-24-167.compute-1.amazonaws.com] out: "
       ]
      },
      {
       "output_type": "stream",
       "stream": "stdout",
       "text": [
        "  libipc-sharedcache-perl tinyca mailx\n"
       ]
      },
      {
       "output_type": "stream",
       "stream": "stdout",
       "text": [
        "[ubuntu@ec2-54-243-24-167.compute-1.amazonaws.com] out: "
       ]
      },
      {
       "output_type": "stream",
       "stream": "stdout",
       "text": [
        "The following NEW packages will be installed:\n"
       ]
      },
      {
       "output_type": "stream",
       "stream": "stdout",
       "text": [
        "[ubuntu@ec2-54-243-24-167.compute-1.amazonaws.com] out: "
       ]
      },
      {
       "output_type": "stream",
       "stream": "stdout",
       "text": [
        "  libhtml-template-perl mysql-server mysql-server-5.5 mysql-server-core-5.5\n"
       ]
      },
      {
       "output_type": "stream",
       "stream": "stdout",
       "text": [
        "[ubuntu@ec2-54-243-24-167.compute-1.amazonaws.com] out: "
       ]
      },
      {
       "output_type": "stream",
       "stream": "stdout",
       "text": [
        "0 upgraded, 4 newly installed, 0 to remove and 0 not upgraded.\n"
       ]
      },
      {
       "output_type": "stream",
       "stream": "stdout",
       "text": [
        "[ubuntu@ec2-54-243-24-167.compute-1.amazonaws.com] out: "
       ]
      },
      {
       "output_type": "stream",
       "stream": "stdout",
       "text": [
        "Need to get 15.0 MB of archives.\n"
       ]
      },
      {
       "output_type": "stream",
       "stream": "stdout",
       "text": [
        "[ubuntu@ec2-54-243-24-167.compute-1.amazonaws.com] out: "
       ]
      },
      {
       "output_type": "stream",
       "stream": "stdout",
       "text": [
        "After this operation, 53.4 MB of additional disk space will be used.\n"
       ]
      },
      {
       "output_type": "stream",
       "stream": "stdout",
       "text": [
        "[ubuntu@ec2-54-243-24-167.compute-1.amazonaws.com] out: "
       ]
      },
      {
       "output_type": "stream",
       "stream": "stdout",
       "text": [
        "\n"
       ]
      },
      {
       "output_type": "stream",
       "stream": "stdout",
       "text": [
        "[ubuntu@ec2-54-243-24-167.compute-1.amazonaws.com] out: "
       ]
      },
      {
       "output_type": "stream",
       "stream": "stdout",
       "text": [
        "\n"
       ]
      },
      {
       "output_type": "stream",
       "stream": "stdout",
       "text": [
        "[ubuntu@ec2-54-243-24-167.compute-1.amazonaws.com] out: "
       ]
      },
      {
       "output_type": "stream",
       "stream": "stdout",
       "text": [
        "0% [Working]"
       ]
      },
      {
       "output_type": "stream",
       "stream": "stdout",
       "text": [
        "\n"
       ]
      },
      {
       "output_type": "stream",
       "stream": "stdout",
       "text": [
        "[ubuntu@ec2-54-243-24-167.compute-1.amazonaws.com] out: "
       ]
      },
      {
       "output_type": "stream",
       "stream": "stdout",
       "text": [
        "            \n"
       ]
      },
      {
       "output_type": "stream",
       "stream": "stdout",
       "text": [
        "[ubuntu@ec2-54-243-24-167.compute-1.amazonaws.com] out: "
       ]
      },
      {
       "output_type": "stream",
       "stream": "stdout",
       "text": [
        "Get:1 http://us-east-1.ec2.archive.ubuntu.com/ubuntu/ precise-updates/main mysql-server-core-5.5 amd64 5.5.31-0ubuntu0.12.04.1 [6,085 kB]\n"
       ]
      },
      {
       "output_type": "stream",
       "stream": "stdout",
       "text": [
        "[ubuntu@ec2-54-243-24-167.compute-1.amazonaws.com] out: "
       ]
      },
      {
       "output_type": "stream",
       "stream": "stdout",
       "text": [
        "\n"
       ]
      },
      {
       "output_type": "stream",
       "stream": "stdout",
       "text": [
        "[ubuntu@ec2-54-243-24-167.compute-1.amazonaws.com] out: "
       ]
      },
      {
       "output_type": "stream",
       "stream": "stdout",
       "text": [
        "            \n"
       ]
      },
      {
       "output_type": "stream",
       "stream": "stdout",
       "text": [
        "[ubuntu@ec2-54-243-24-167.compute-1.amazonaws.com] out: "
       ]
      },
      {
       "output_type": "stream",
       "stream": "stdout",
       "text": [
        "0% [1 mysql-server-core-5.5 0 B/6,085 kB 0%]"
       ]
      },
      {
       "output_type": "stream",
       "stream": "stdout",
       "text": [
        "\n"
       ]
      },
      {
       "output_type": "stream",
       "stream": "stdout",
       "text": [
        "[ubuntu@ec2-54-243-24-167.compute-1.amazonaws.com] out: "
       ]
      },
      {
       "output_type": "stream",
       "stream": "stdout",
       "text": [
        "                                            \n"
       ]
      },
      {
       "output_type": "stream",
       "stream": "stdout",
       "text": [
        "[ubuntu@ec2-54-243-24-167.compute-1.amazonaws.com] out: "
       ]
      },
      {
       "output_type": "stream",
       "stream": "stdout",
       "text": [
        "28% [1 mysql-server-core-5.5 4,250 kB/6,085 kB 70%]"
       ]
      },
      {
       "output_type": "stream",
       "stream": "stdout",
       "text": [
        "\n"
       ]
      },
      {
       "output_type": "stream",
       "stream": "stdout",
       "text": [
        "[ubuntu@ec2-54-243-24-167.compute-1.amazonaws.com] out: "
       ]
      },
      {
       "output_type": "stream",
       "stream": "stdout",
       "text": [
        "                                                   \n"
       ]
      },
      {
       "output_type": "stream",
       "stream": "stdout",
       "text": [
        "[ubuntu@ec2-54-243-24-167.compute-1.amazonaws.com] out: "
       ]
      },
      {
       "output_type": "stream",
       "stream": "stdout",
       "text": [
        "40% [Working]"
       ]
      },
      {
       "output_type": "stream",
       "stream": "stdout",
       "text": [
        "\n"
       ]
      },
      {
       "output_type": "stream",
       "stream": "stdout",
       "text": [
        "[ubuntu@ec2-54-243-24-167.compute-1.amazonaws.com] out: "
       ]
      },
      {
       "output_type": "stream",
       "stream": "stdout",
       "text": [
        "             \n"
       ]
      },
      {
       "output_type": "stream",
       "stream": "stdout",
       "text": [
        "[ubuntu@ec2-54-243-24-167.compute-1.amazonaws.com] out: "
       ]
      },
      {
       "output_type": "stream",
       "stream": "stdout",
       "text": [
        "Get:2 http://us-east-1.ec2.archive.ubuntu.com/ubuntu/ precise-updates/main mysql-server-5.5 amd64 5.5.31-0ubuntu0.12.04.1 [8,877 kB]\n"
       ]
      },
      {
       "output_type": "stream",
       "stream": "stdout",
       "text": [
        "[ubuntu@ec2-54-243-24-167.compute-1.amazonaws.com] out: "
       ]
      },
      {
       "output_type": "stream",
       "stream": "stdout",
       "text": [
        "\n"
       ]
      },
      {
       "output_type": "stream",
       "stream": "stdout",
       "text": [
        "[ubuntu@ec2-54-243-24-167.compute-1.amazonaws.com] out: "
       ]
      },
      {
       "output_type": "stream",
       "stream": "stdout",
       "text": [
        "             \n"
       ]
      },
      {
       "output_type": "stream",
       "stream": "stdout",
       "text": [
        "[ubuntu@ec2-54-243-24-167.compute-1.amazonaws.com] out: "
       ]
      },
      {
       "output_type": "stream",
       "stream": "stdout",
       "text": [
        "40% [2 mysql-server-5.5 0 B/8,877 kB 0%]"
       ]
      },
      {
       "output_type": "stream",
       "stream": "stdout",
       "text": [
        "\n"
       ]
      },
      {
       "output_type": "stream",
       "stream": "stdout",
       "text": [
        "[ubuntu@ec2-54-243-24-167.compute-1.amazonaws.com] out: "
       ]
      },
      {
       "output_type": "stream",
       "stream": "stdout",
       "text": [
        "                                        \n"
       ]
      },
      {
       "output_type": "stream",
       "stream": "stdout",
       "text": [
        "[ubuntu@ec2-54-243-24-167.compute-1.amazonaws.com] out: "
       ]
      },
      {
       "output_type": "stream",
       "stream": "stdout",
       "text": [
        "93% [2 mysql-server-5.5 7,939 kB/8,877 kB 89%]\n"
       ]
      },
      {
       "output_type": "stream",
       "stream": "stdout",
       "text": [
        "[ubuntu@ec2-54-243-24-167.compute-1.amazonaws.com] out: "
       ]
      },
      {
       "output_type": "stream",
       "stream": "stdout",
       "text": [
        "                                              \n"
       ]
      },
      {
       "output_type": "stream",
       "stream": "stdout",
       "text": [
        "[ubuntu@ec2-54-243-24-167.compute-1.amazonaws.com] out: "
       ]
      },
      {
       "output_type": "stream",
       "stream": "stdout",
       "text": [
        "99% [Working]"
       ]
      },
      {
       "output_type": "stream",
       "stream": "stdout",
       "text": [
        "\n"
       ]
      },
      {
       "output_type": "stream",
       "stream": "stdout",
       "text": [
        "[ubuntu@ec2-54-243-24-167.compute-1.amazonaws.com] out: "
       ]
      },
      {
       "output_type": "stream",
       "stream": "stdout",
       "text": [
        "             \n"
       ]
      },
      {
       "output_type": "stream",
       "stream": "stdout",
       "text": [
        "[ubuntu@ec2-54-243-24-167.compute-1.amazonaws.com] out: "
       ]
      },
      {
       "output_type": "stream",
       "stream": "stdout",
       "text": [
        "Get:3 http://us-east-1.ec2.archive.ubuntu.com/ubuntu/ precise/main libhtml-template-perl all 2.10-1 [65.0 kB]\n"
       ]
      },
      {
       "output_type": "stream",
       "stream": "stdout",
       "text": [
        "[ubuntu@ec2-54-243-24-167.compute-1.amazonaws.com] out: "
       ]
      },
      {
       "output_type": "stream",
       "stream": "stdout",
       "text": [
        "\n"
       ]
      },
      {
       "output_type": "stream",
       "stream": "stdout",
       "text": [
        "[ubuntu@ec2-54-243-24-167.compute-1.amazonaws.com] out: "
       ]
      },
      {
       "output_type": "stream",
       "stream": "stdout",
       "text": [
        "             \n"
       ]
      },
      {
       "output_type": "stream",
       "stream": "stdout",
       "text": [
        "[ubuntu@ec2-54-243-24-167.compute-1.amazonaws.com] out: "
       ]
      },
      {
       "output_type": "stream",
       "stream": "stdout",
       "text": [
        "99% [3 libhtml-template-perl 0 B/65.0 kB 0%]\n"
       ]
      },
      {
       "output_type": "stream",
       "stream": "stdout",
       "text": [
        "[ubuntu@ec2-54-243-24-167.compute-1.amazonaws.com] out: "
       ]
      },
      {
       "output_type": "stream",
       "stream": "stdout",
       "text": [
        "                                            \n"
       ]
      },
      {
       "output_type": "stream",
       "stream": "stdout",
       "text": [
        "[ubuntu@ec2-54-243-24-167.compute-1.amazonaws.com] out: "
       ]
      },
      {
       "output_type": "stream",
       "stream": "stdout",
       "text": [
        "100% [Working]"
       ]
      },
      {
       "output_type": "stream",
       "stream": "stdout",
       "text": [
        "\n"
       ]
      },
      {
       "output_type": "stream",
       "stream": "stdout",
       "text": [
        "[ubuntu@ec2-54-243-24-167.compute-1.amazonaws.com] out: "
       ]
      },
      {
       "output_type": "stream",
       "stream": "stdout",
       "text": [
        "              \n"
       ]
      },
      {
       "output_type": "stream",
       "stream": "stdout",
       "text": [
        "[ubuntu@ec2-54-243-24-167.compute-1.amazonaws.com] out: "
       ]
      },
      {
       "output_type": "stream",
       "stream": "stdout",
       "text": [
        "Get:4 http://us-east-1.ec2.archive.ubuntu.com/ubuntu/ precise-updates/main mysql-server all 5.5.31-0ubuntu0.12.04.1 [11.6 kB]\n"
       ]
      },
      {
       "output_type": "stream",
       "stream": "stdout",
       "text": [
        "[ubuntu@ec2-54-243-24-167.compute-1.amazonaws.com] out: "
       ]
      },
      {
       "output_type": "stream",
       "stream": "stdout",
       "text": [
        "\n"
       ]
      },
      {
       "output_type": "stream",
       "stream": "stdout",
       "text": [
        "[ubuntu@ec2-54-243-24-167.compute-1.amazonaws.com] out: "
       ]
      },
      {
       "output_type": "stream",
       "stream": "stdout",
       "text": [
        "              \n"
       ]
      },
      {
       "output_type": "stream",
       "stream": "stdout",
       "text": [
        "[ubuntu@ec2-54-243-24-167.compute-1.amazonaws.com] out: "
       ]
      },
      {
       "output_type": "stream",
       "stream": "stdout",
       "text": [
        "100% [4 mysql-server 0 B/11.6 kB 0%]\n"
       ]
      },
      {
       "output_type": "stream",
       "stream": "stdout",
       "text": [
        "[ubuntu@ec2-54-243-24-167.compute-1.amazonaws.com] out: "
       ]
      },
      {
       "output_type": "stream",
       "stream": "stdout",
       "text": [
        "                                    \n"
       ]
      },
      {
       "output_type": "stream",
       "stream": "stdout",
       "text": [
        "[ubuntu@ec2-54-243-24-167.compute-1.amazonaws.com] out: "
       ]
      },
      {
       "output_type": "stream",
       "stream": "stdout",
       "text": [
        "100% [Working]\n"
       ]
      },
      {
       "output_type": "stream",
       "stream": "stdout",
       "text": [
        "[ubuntu@ec2-54-243-24-167.compute-1.amazonaws.com] out: "
       ]
      },
      {
       "output_type": "stream",
       "stream": "stdout",
       "text": [
        "              \n"
       ]
      },
      {
       "output_type": "stream",
       "stream": "stdout",
       "text": [
        "[ubuntu@ec2-54-243-24-167.compute-1.amazonaws.com] out: "
       ]
      },
      {
       "output_type": "stream",
       "stream": "stdout",
       "text": [
        "Fetched 15.0 MB in 1s (10.7 MB/s)\n"
       ]
      },
      {
       "output_type": "stream",
       "stream": "stdout",
       "text": [
        "[ubuntu@ec2-54-243-24-167.compute-1.amazonaws.com] out: "
       ]
      },
      {
       "output_type": "stream",
       "stream": "stdout",
       "text": [
        "Preconfiguring packages ...\n"
       ]
      },
      {
       "output_type": "stream",
       "stream": "stdout",
       "text": [
        "[ubuntu@ec2-54-243-24-167.compute-1.amazonaws.com] out: "
       ]
      },
      {
       "output_type": "stream",
       "stream": "stdout",
       "text": [
        "Selecting previously unselected package mysql-server-core-5.5.\n"
       ]
      },
      {
       "output_type": "stream",
       "stream": "stdout",
       "text": [
        "[ubuntu@ec2-54-243-24-167.compute-1.amazonaws.com] out: "
       ]
      },
      {
       "output_type": "stream",
       "stream": "stdout",
       "text": [
        "(Reading database ... "
       ]
      },
      {
       "output_type": "stream",
       "stream": "stdout",
       "text": [
        "\n"
       ]
      },
      {
       "output_type": "stream",
       "stream": "stdout",
       "text": [
        "[ubuntu@ec2-54-243-24-167.compute-1.amazonaws.com] out: "
       ]
      },
      {
       "output_type": "stream",
       "stream": "stdout",
       "text": [
        "(Reading database ... 5%\n"
       ]
      },
      {
       "output_type": "stream",
       "stream": "stdout",
       "text": [
        "[ubuntu@ec2-54-243-24-167.compute-1.amazonaws.com] out: "
       ]
      },
      {
       "output_type": "stream",
       "stream": "stdout",
       "text": [
        "(Reading database ... 10%\n"
       ]
      },
      {
       "output_type": "stream",
       "stream": "stdout",
       "text": [
        "[ubuntu@ec2-54-243-24-167.compute-1.amazonaws.com] out: "
       ]
      },
      {
       "output_type": "stream",
       "stream": "stdout",
       "text": [
        "(Reading database ... 15%\n"
       ]
      },
      {
       "output_type": "stream",
       "stream": "stdout",
       "text": [
        "[ubuntu@ec2-54-243-24-167.compute-1.amazonaws.com] out: "
       ]
      },
      {
       "output_type": "stream",
       "stream": "stdout",
       "text": [
        "(Reading database ... 20%\n"
       ]
      },
      {
       "output_type": "stream",
       "stream": "stdout",
       "text": [
        "[ubuntu@ec2-54-243-24-167.compute-1.amazonaws.com] out: "
       ]
      },
      {
       "output_type": "stream",
       "stream": "stdout",
       "text": [
        "(Reading database ... 25%\n"
       ]
      },
      {
       "output_type": "stream",
       "stream": "stdout",
       "text": [
        "[ubuntu@ec2-54-243-24-167.compute-1.amazonaws.com] out: "
       ]
      },
      {
       "output_type": "stream",
       "stream": "stdout",
       "text": [
        "(Reading database ... 30%\n"
       ]
      },
      {
       "output_type": "stream",
       "stream": "stdout",
       "text": [
        "[ubuntu@ec2-54-243-24-167.compute-1.amazonaws.com] out: "
       ]
      },
      {
       "output_type": "stream",
       "stream": "stdout",
       "text": [
        "(Reading database ... 35%\n"
       ]
      },
      {
       "output_type": "stream",
       "stream": "stdout",
       "text": [
        "[ubuntu@ec2-54-243-24-167.compute-1.amazonaws.com] out: "
       ]
      },
      {
       "output_type": "stream",
       "stream": "stdout",
       "text": [
        "(Reading database ... 40%"
       ]
      },
      {
       "output_type": "stream",
       "stream": "stdout",
       "text": [
        "\n"
       ]
      },
      {
       "output_type": "stream",
       "stream": "stdout",
       "text": [
        "[ubuntu@ec2-54-243-24-167.compute-1.amazonaws.com] out: "
       ]
      },
      {
       "output_type": "stream",
       "stream": "stdout",
       "text": [
        "(Reading database ... 45%\n"
       ]
      },
      {
       "output_type": "stream",
       "stream": "stdout",
       "text": [
        "[ubuntu@ec2-54-243-24-167.compute-1.amazonaws.com] out: "
       ]
      },
      {
       "output_type": "stream",
       "stream": "stdout",
       "text": [
        "(Reading database ... 50%\n"
       ]
      },
      {
       "output_type": "stream",
       "stream": "stdout",
       "text": [
        "[ubuntu@ec2-54-243-24-167.compute-1.amazonaws.com] out: "
       ]
      },
      {
       "output_type": "stream",
       "stream": "stdout",
       "text": [
        "(Reading database ... 55%\n"
       ]
      },
      {
       "output_type": "stream",
       "stream": "stdout",
       "text": [
        "[ubuntu@ec2-54-243-24-167.compute-1.amazonaws.com] out: "
       ]
      },
      {
       "output_type": "stream",
       "stream": "stdout",
       "text": [
        "(Reading database ... 60%\n"
       ]
      },
      {
       "output_type": "stream",
       "stream": "stdout",
       "text": [
        "[ubuntu@ec2-54-243-24-167.compute-1.amazonaws.com] out: "
       ]
      },
      {
       "output_type": "stream",
       "stream": "stdout",
       "text": [
        "(Reading database ... 65%"
       ]
      },
      {
       "output_type": "stream",
       "stream": "stdout",
       "text": [
        "\n"
       ]
      },
      {
       "output_type": "stream",
       "stream": "stdout",
       "text": [
        "[ubuntu@ec2-54-243-24-167.compute-1.amazonaws.com] out: "
       ]
      },
      {
       "output_type": "stream",
       "stream": "stdout",
       "text": [
        "(Reading database ... 70%\n"
       ]
      },
      {
       "output_type": "stream",
       "stream": "stdout",
       "text": [
        "[ubuntu@ec2-54-243-24-167.compute-1.amazonaws.com] out: "
       ]
      },
      {
       "output_type": "stream",
       "stream": "stdout",
       "text": [
        "(Reading database ... 75%\n"
       ]
      },
      {
       "output_type": "stream",
       "stream": "stdout",
       "text": [
        "[ubuntu@ec2-54-243-24-167.compute-1.amazonaws.com] out: "
       ]
      },
      {
       "output_type": "stream",
       "stream": "stdout",
       "text": [
        "(Reading database ... 80%"
       ]
      },
      {
       "output_type": "stream",
       "stream": "stdout",
       "text": [
        "\n"
       ]
      },
      {
       "output_type": "stream",
       "stream": "stdout",
       "text": [
        "[ubuntu@ec2-54-243-24-167.compute-1.amazonaws.com] out: "
       ]
      },
      {
       "output_type": "stream",
       "stream": "stdout",
       "text": [
        "(Reading database ... 85%\n"
       ]
      },
      {
       "output_type": "stream",
       "stream": "stdout",
       "text": [
        "[ubuntu@ec2-54-243-24-167.compute-1.amazonaws.com] out: "
       ]
      },
      {
       "output_type": "stream",
       "stream": "stdout",
       "text": [
        "(Reading database ... 90%"
       ]
      },
      {
       "output_type": "stream",
       "stream": "stdout",
       "text": [
        "\n"
       ]
      },
      {
       "output_type": "stream",
       "stream": "stdout",
       "text": [
        "[ubuntu@ec2-54-243-24-167.compute-1.amazonaws.com] out: "
       ]
      },
      {
       "output_type": "stream",
       "stream": "stdout",
       "text": [
        "(Reading database ... 95%\n"
       ]
      },
      {
       "output_type": "stream",
       "stream": "stdout",
       "text": [
        "[ubuntu@ec2-54-243-24-167.compute-1.amazonaws.com] out: "
       ]
      },
      {
       "output_type": "stream",
       "stream": "stdout",
       "text": [
        "(Reading database ... 100%\n"
       ]
      },
      {
       "output_type": "stream",
       "stream": "stdout",
       "text": [
        "[ubuntu@ec2-54-243-24-167.compute-1.amazonaws.com] out: "
       ]
      },
      {
       "output_type": "stream",
       "stream": "stdout",
       "text": [
        "(Reading database ... 77430 files and directories currently installed.)\n"
       ]
      },
      {
       "output_type": "stream",
       "stream": "stdout",
       "text": [
        "[ubuntu@ec2-54-243-24-167.compute-1.amazonaws.com] out: "
       ]
      },
      {
       "output_type": "stream",
       "stream": "stdout",
       "text": [
        "Unpacking mysql-server-core-5.5 (from .../mysql-server-core-5.5_5.5.31-0ubuntu0.12.04.1_amd64.deb) ...\n"
       ]
      },
      {
       "output_type": "stream",
       "stream": "stdout",
       "text": [
        "[ubuntu@ec2-54-243-24-167.compute-1.amazonaws.com] out: "
       ]
      },
      {
       "output_type": "stream",
       "stream": "stdout",
       "text": [
        "Selecting previously unselected package mysql-server-5.5.\n"
       ]
      },
      {
       "output_type": "stream",
       "stream": "stdout",
       "text": [
        "[ubuntu@ec2-54-243-24-167.compute-1.amazonaws.com] out: "
       ]
      },
      {
       "output_type": "stream",
       "stream": "stdout",
       "text": [
        "Unpacking mysql-server-5.5 (from .../mysql-server-5.5_5.5.31-0ubuntu0.12.04.1_amd64.deb) ...\n"
       ]
      },
      {
       "output_type": "stream",
       "stream": "stdout",
       "text": [
        "[ubuntu@ec2-54-243-24-167.compute-1.amazonaws.com] out: "
       ]
      },
      {
       "output_type": "stream",
       "stream": "stdout",
       "text": [
        "Selecting previously unselected package libhtml-template-perl.\n"
       ]
      },
      {
       "output_type": "stream",
       "stream": "stdout",
       "text": [
        "[ubuntu@ec2-54-243-24-167.compute-1.amazonaws.com] out: "
       ]
      },
      {
       "output_type": "stream",
       "stream": "stdout",
       "text": [
        "Unpacking libhtml-template-perl (from .../libhtml-template-perl_2.10-1_all.deb) ...\n"
       ]
      },
      {
       "output_type": "stream",
       "stream": "stdout",
       "text": [
        "[ubuntu@ec2-54-243-24-167.compute-1.amazonaws.com] out: "
       ]
      },
      {
       "output_type": "stream",
       "stream": "stdout",
       "text": [
        "Selecting previously unselected package mysql-server.\n"
       ]
      },
      {
       "output_type": "stream",
       "stream": "stdout",
       "text": [
        "[ubuntu@ec2-54-243-24-167.compute-1.amazonaws.com] out: "
       ]
      },
      {
       "output_type": "stream",
       "stream": "stdout",
       "text": [
        "Unpacking mysql-server (from .../mysql-server_5.5.31-0ubuntu0.12.04.1_all.deb) ...\n"
       ]
      },
      {
       "output_type": "stream",
       "stream": "stdout",
       "text": [
        "[ubuntu@ec2-54-243-24-167.compute-1.amazonaws.com] out: "
       ]
      },
      {
       "output_type": "stream",
       "stream": "stdout",
       "text": [
        "Processing triggers for man-db ...\n"
       ]
      },
      {
       "output_type": "stream",
       "stream": "stdout",
       "text": [
        "[ubuntu@ec2-54-243-24-167.compute-1.amazonaws.com] out: "
       ]
      },
      {
       "output_type": "stream",
       "stream": "stdout",
       "text": [
        "Processing triggers for ureadahead ...\n"
       ]
      },
      {
       "output_type": "stream",
       "stream": "stdout",
       "text": [
        "[ubuntu@ec2-54-243-24-167.compute-1.amazonaws.com] out: "
       ]
      },
      {
       "output_type": "stream",
       "stream": "stdout",
       "text": [
        "Setting up mysql-server-core-5.5 (5.5.31-0ubuntu0.12.04.1) ...\n"
       ]
      },
      {
       "output_type": "stream",
       "stream": "stdout",
       "text": [
        "[ubuntu@ec2-54-243-24-167.compute-1.amazonaws.com] out: "
       ]
      },
      {
       "output_type": "stream",
       "stream": "stdout",
       "text": [
        "Setting up mysql-server-5.5 (5.5.31-0ubuntu0.12.04.1) ...\n"
       ]
      },
      {
       "output_type": "stream",
       "stream": "stdout",
       "text": [
        "[ubuntu@ec2-54-243-24-167.compute-1.amazonaws.com] out: "
       ]
      },
      {
       "output_type": "stream",
       "stream": "stdout",
       "text": [
        "mysql start/running, process 17496\n"
       ]
      },
      {
       "output_type": "stream",
       "stream": "stdout",
       "text": [
        "[ubuntu@ec2-54-243-24-167.compute-1.amazonaws.com] out: "
       ]
      },
      {
       "output_type": "stream",
       "stream": "stdout",
       "text": [
        "Setting up libhtml-template-perl (2.10-1) ...\n"
       ]
      },
      {
       "output_type": "stream",
       "stream": "stdout",
       "text": [
        "[ubuntu@ec2-54-243-24-167.compute-1.amazonaws.com] out: "
       ]
      },
      {
       "output_type": "stream",
       "stream": "stdout",
       "text": [
        "Setting up mysql-server (5.5.31-0ubuntu0.12.04.1) ...\n"
       ]
      },
      {
       "output_type": "stream",
       "stream": "stdout",
       "text": [
        "[ubuntu@ec2-54-243-24-167.compute-1.amazonaws.com] out: "
       ]
      },
      {
       "output_type": "stream",
       "stream": "stdout",
       "text": [
        "\n"
       ]
      },
      {
       "output_type": "stream",
       "stream": "stdout",
       "text": [
        "\n"
       ]
      },
      {
       "output_type": "pyout",
       "prompt_number": 10,
       "text": [
        "{'ubuntu@ec2-54-243-24-167.compute-1.amazonaws.com': None}"
       ]
      }
     ],
     "prompt_number": 10
    },
    {
     "cell_type": "code",
     "collapsed": false,
     "input": [
      "# security groups\n",
      "\n",
      "security_groups = aws.ec2.get_all_security_groups()"
     ],
     "language": "python",
     "metadata": {},
     "outputs": []
    },
    {
     "cell_type": "code",
     "collapsed": false,
     "input": [
      "web_prod_sgroup = [(group.id, group.name, group.description, group.rules) for group in security_groups if group.name=='web-production'][0]"
     ],
     "language": "python",
     "metadata": {},
     "outputs": []
    },
    {
     "cell_type": "code",
     "collapsed": false,
     "input": [
      "web_prod_sgroup"
     ],
     "language": "python",
     "metadata": {},
     "outputs": []
    },
    {
     "cell_type": "code",
     "collapsed": false,
     "input": [
      "# http://boto.readthedocs.org/en/latest/security_groups.html\n",
      "rules = web_prod_sgroup[3]\n",
      "[(rule.ip_protocol, rule.from_port, rule.to_port, rule.grants, rule.groups) for rule in rules]"
     ],
     "language": "python",
     "metadata": {},
     "outputs": []
    },
    {
     "cell_type": "code",
     "collapsed": false,
     "input": [
      "[(grant.cidr_ip) for grant in rule.grants]"
     ],
     "language": "python",
     "metadata": {},
     "outputs": []
    },
    {
     "cell_type": "code",
     "collapsed": false,
     "input": [
      "[(grant.owner_id, grant.group_id, grant.name, grant.cidr_ip) for grant in rule.grants]"
     ],
     "language": "python",
     "metadata": {},
     "outputs": []
    },
    {
     "cell_type": "code",
     "collapsed": false,
     "input": [
      "# let's make a new security group to replicate the web-production sg\n",
      "\n",
      "test8_sg = aws.ec2.create_security_group('test8', 'test8 sg')"
     ],
     "language": "python",
     "metadata": {},
     "outputs": []
    },
    {
     "cell_type": "code",
     "collapsed": false,
     "input": [
      "# You need to pass in either src_group_name OR ip_protocol, from_port, to_port, and cidr_ip.\n",
      "\n",
      "test8_sg.authorize('tcp', 80, 80, '0.0.0.0/0')\n",
      "test8_sg.authorize('tcp', 22, 22, '0.0.0.0/0')\n",
      "test8_sg.authorize('tcp', 443, 443, '0.0.0.0/0')"
     ],
     "language": "python",
     "metadata": {},
     "outputs": []
    },
    {
     "cell_type": "code",
     "collapsed": false,
     "input": [
      "test9_sg = aws.ec2.create_security_group('test9', 'test9 sg')"
     ],
     "language": "python",
     "metadata": {},
     "outputs": []
    },
    {
     "cell_type": "code",
     "collapsed": false,
     "input": [
      "test9_sg.authorize(src_group=test8_sg)"
     ],
     "language": "python",
     "metadata": {},
     "outputs": []
    },
    {
     "cell_type": "code",
     "collapsed": false,
     "input": [
      "test8_sg.rules"
     ],
     "language": "python",
     "metadata": {},
     "outputs": []
    },
    {
     "cell_type": "code",
     "collapsed": false,
     "input": [
      "rules = test9_sg.rules\n",
      "rule = rules[0]\n",
      "grant = rule.grants[0]"
     ],
     "language": "python",
     "metadata": {},
     "outputs": []
    },
    {
     "cell_type": "code",
     "collapsed": false,
     "input": [
      "(rule.ip_protocol, rule.from_port, rule.to_port, rule.grants)"
     ],
     "language": "python",
     "metadata": {},
     "outputs": []
    },
    {
     "cell_type": "code",
     "collapsed": false,
     "input": [
      "grant.owner_id, grant.group_id, grant.name, grant.cidr_ip"
     ],
     "language": "python",
     "metadata": {},
     "outputs": []
    },
    {
     "cell_type": "code",
     "collapsed": false,
     "input": [
      "test9_sg = [(group.id, group.name, group.description, group.rules) for group in security_groups if group.name=='test9'][0]"
     ],
     "language": "python",
     "metadata": {},
     "outputs": []
    },
    {
     "cell_type": "code",
     "collapsed": false,
     "input": [
      "rules = test9_sg[3]\n",
      "[(rule.ip_protocol, rule.from_port, rule.to_port, [(grant.owner_id, grant.group_id, grant.name, grant.cidr_ip) for grant in rule.grants], rule.groups) for rule in rules]"
     ],
     "language": "python",
     "metadata": {},
     "outputs": []
    },
    {
     "cell_type": "code",
     "collapsed": false,
     "input": [
      "aws.ec2.authorize_security_group(group_name='test8', ip_protocol='tcp', from_port=80, to_port=80, cidr_ip='0.0.0.0/0')"
     ],
     "language": "python",
     "metadata": {},
     "outputs": []
    },
    {
     "cell_type": "code",
     "collapsed": false,
     "input": [
      "#Launch new_test\n",
      "\n",
      "inst = aws.instance('new_test')"
     ],
     "language": "python",
     "metadata": {},
     "outputs": []
    },
    {
     "cell_type": "code",
     "collapsed": false,
     "input": [
      "inst.start()"
     ],
     "language": "python",
     "metadata": {},
     "outputs": []
    },
    {
     "cell_type": "code",
     "collapsed": false,
     "input": [
      "inst.update()"
     ],
     "language": "python",
     "metadata": {},
     "outputs": []
    },
    {
     "cell_type": "heading",
     "level": 1,
     "metadata": {},
     "source": [
      "Setting up MySQL"
     ]
    },
    {
     "cell_type": "markdown",
     "metadata": {},
     "source": [
      "* plain old mysql on the server ( https://help.ubuntu.com/12.04/serverguide/mysql.html )\n",
      "* RDS parameters to figure out\n",
      "\n",
      "to run mysql on server:\n",
      "\n",
      "> `sudo apt-get install mysql-server`"
     ]
    },
    {
     "cell_type": "code",
     "collapsed": false,
     "input": [
      "\"ubuntu@{0}\".format(inst.dns_name)"
     ],
     "language": "python",
     "metadata": {},
     "outputs": []
    },
    {
     "cell_type": "heading",
     "level": 1,
     "metadata": {},
     "source": [
      "Creating an Image out of Instance"
     ]
    },
    {
     "cell_type": "code",
     "collapsed": false,
     "input": [
      "instance.id"
     ],
     "language": "python",
     "metadata": {},
     "outputs": []
    },
    {
     "cell_type": "code",
     "collapsed": false,
     "input": [
      "new_image = aws.ec2.create_image(instance.id, \"script_built_after_local_mysql_2013-05-24\", \n",
      "     description=\"next step figure out RDS\")"
     ],
     "language": "python",
     "metadata": {},
     "outputs": []
    },
    {
     "cell_type": "code",
     "collapsed": false,
     "input": [
      "# sometimes it really does take a surprisingly long time to make an image out of an instance\n",
      "\n",
      "# new_image = aws.ec2.get_image(image_id=u'ami-853a51ec')\n",
      "new_image"
     ],
     "language": "python",
     "metadata": {},
     "outputs": []
    },
    {
     "cell_type": "code",
     "collapsed": false,
     "input": [
      "new_image = aws.ec2.get_image(new_image)"
     ],
     "language": "python",
     "metadata": {},
     "outputs": []
    },
    {
     "cell_type": "code",
     "collapsed": false,
     "input": [
      "new_image.state"
     ],
     "language": "python",
     "metadata": {},
     "outputs": []
    },
    {
     "cell_type": "markdown",
     "metadata": {},
     "source": [
      "Fire up an instance"
     ]
    },
    {
     "cell_type": "code",
     "collapsed": false,
     "input": [
      "(instance, cmd) = aws.launch_instance(ami=u'ami-853a51ec', \n",
      "                                      instance_type='t1.micro',\n",
      "                                      key_name='rdhyee_public_key',\n",
      "                                      group_name=SECURITY_GROUP_NAME,\n",
      "                                      tag='new_instance',\n",
      "                                      cmd_shell=False) \n"
     ],
     "language": "python",
     "metadata": {},
     "outputs": []
    },
    {
     "cell_type": "markdown",
     "metadata": {},
     "source": [
      "<pre>\n",
      "sudo debconf-set-selections <<< 'mysql-server-5.5 mysql-server/root_password password unglueit_pw_123'\n",
      "sudo debconf-set-selections <<< 'mysql-server-5.5 mysql-server/root_password_again password unglueit_pw_123'\n",
      "sudo apt-get -y install mysql-server\n",
      "</pre>\n",
      "\n",
      "<pre>\n",
      "mysql -h 127.0.0.1 --user=root --password=unglueit_pw_123 \n",
      "</pre>"
     ]
    },
    {
     "cell_type": "heading",
     "level": 1,
     "metadata": {},
     "source": [
      "RDS"
     ]
    },
    {
     "cell_type": "markdown",
     "metadata": {},
     "source": [
      "http://calculator.s3.amazonaws.com/calc5.html can be used to estimate costs\n",
      "\n",
      "A barebones micro rds costs about $20/month\n",
      "\n",
      "References:\n",
      "\n",
      "* [boto rds intro](http://boto.readthedocs.org/en/latest/rds_tut.html)\n",
      "* [boto rds api ref](http://boto.readthedocs.org/en/latest/ref/rds.html)"
     ]
    },
    {
     "cell_type": "code",
     "collapsed": false,
     "input": [
      "dbs = aws.all_rds()\n",
      "dbs"
     ],
     "language": "python",
     "metadata": {},
     "outputs": []
    },
    {
     "cell_type": "code",
     "collapsed": false,
     "input": [
      "\n",
      "db = dbs[1]\n",
      "(db.id, db.allocated_storage, db.instance_class, db.engine, db.master_username, \n",
      " db.parameter_group, db.security_group, db.availability_zone, db.multi_az)"
     ],
     "language": "python",
     "metadata": {},
     "outputs": []
    },
    {
     "cell_type": "code",
     "collapsed": false,
     "input": [
      "# I forgot I already have a working rds db info displayer\n",
      "aws.db_info(db)"
     ],
     "language": "python",
     "metadata": {},
     "outputs": []
    },
    {
     "cell_type": "code",
     "collapsed": false,
     "input": [
      "# parameter group\n",
      "# http://boto.readthedocs.org/en/latest/ref/rds.html#module-boto.rds.parametergroup\n",
      "\n",
      "# I think functionality is more primitive"
     ],
     "language": "python",
     "metadata": {},
     "outputs": []
    },
    {
     "cell_type": "code",
     "collapsed": false,
     "input": [
      "pg = aws.rds.get_all_dbparameters('production1')"
     ],
     "language": "python",
     "metadata": {},
     "outputs": []
    },
    {
     "cell_type": "code",
     "collapsed": false,
     "input": [
      "rds = aws.rds\n",
      "\n",
      "def parameter_group_iteritems(group_name):\n",
      "\n",
      "    first_page = True\n",
      "    get_next_page = True\n",
      "    \n",
      "    while get_next_page:\n",
      "        if first_page:\n",
      "            pg = rds.get_all_dbparameters(group_name)\n",
      "            first_page = False\n",
      "        else:\n",
      "            pg = rds.get_all_dbparameters(group_name, marker = pg.Marker)\n",
      "            \n",
      "        for key in pg.keys():\n",
      "            yield (key, pg[key])\n",
      "    \n",
      "        get_next_page = hasattr(pg, 'Marker')\n"
     ],
     "language": "python",
     "metadata": {},
     "outputs": []
    },
    {
     "cell_type": "code",
     "collapsed": false,
     "input": [
      "# try to turn parameter group into a dict to enable reproducibiity of group\n",
      "\n",
      "pg_dict = {}\n",
      "for (key, param) in parameter_group_iteritems('production1'):\n",
      "    try:\n",
      "        key, {'name':param.name, 'type':param.type, 'description':param.description, 'value':param.value}\n",
      "    except Exception as e:\n",
      "        print key, e\n"
     ],
     "language": "python",
     "metadata": {},
     "outputs": []
    },
    {
     "cell_type": "code",
     "collapsed": false,
     "input": [
      "sorted(pg_dict.keys())"
     ],
     "language": "python",
     "metadata": {},
     "outputs": []
    },
    {
     "cell_type": "code",
     "collapsed": false,
     "input": [
      "# https://github.com/boto/boto/blob/2.8.0/boto/rds/parametergroup.py#L71\n",
      "\n",
      "param = pg_dict.get('tx_isolation')\n",
      "{'name':param.name, 'type':param.type, 'description':param.description, 'value':param.value}"
     ],
     "language": "python",
     "metadata": {},
     "outputs": []
    },
    {
     "cell_type": "code",
     "collapsed": false,
     "input": [
      "# security group"
     ],
     "language": "python",
     "metadata": {},
     "outputs": []
    },
    {
     "cell_type": "code",
     "collapsed": false,
     "input": [
      "# how to create RDS\n",
      "# db = conn.create_dbinstance(\"db-master-1\", 10, 'db.m1.small', 'root', 'hunter2')"
     ],
     "language": "python",
     "metadata": {},
     "outputs": []
    }
   ],
   "metadata": {}
  }
 ]
}