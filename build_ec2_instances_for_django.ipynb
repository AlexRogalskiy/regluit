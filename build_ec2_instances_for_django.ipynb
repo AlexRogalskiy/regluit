{
 "metadata": {
  "name": "build_ec2_instances_for_django"
 },
 "nbformat": 3,
 "nbformat_minor": 0,
 "worksheets": [
  {
   "cells": [
    {
     "cell_type": "code",
     "collapsed": false,
     "input": [
      "from regluit.sysadmin import aws\n",
      "reload(aws)"
     ],
     "language": "python",
     "metadata": {},
     "outputs": [
      {
       "output_type": "pyout",
       "prompt_number": 109,
       "text": [
        "<module 'regluit.sysadmin.aws' from '/Users/raymondyee/C/src/Gluejar/regluit/sysadmin/aws.pyc'>"
       ]
      }
     ],
     "prompt_number": 109
    },
    {
     "cell_type": "code",
     "collapsed": false,
     "input": [
      "AMI_UBUNTU_12_04_ID = 'ami-79c0ae10'\n",
      "image = aws.ec2.get_all_images(image_ids=[AMI_UBUNTU_12_04_ID])[0]"
     ],
     "language": "python",
     "metadata": {},
     "outputs": [],
     "prompt_number": 110
    },
    {
     "cell_type": "code",
     "collapsed": false,
     "input": [
      "image.id, image.name"
     ],
     "language": "python",
     "metadata": {},
     "outputs": [
      {
       "output_type": "pyout",
       "prompt_number": 111,
       "text": [
        "(u'ami-79c0ae10',\n",
        " u'ubuntu/images/ebs/ubuntu-precise-12.04-amd64-server-20130516')"
       ]
      }
     ],
     "prompt_number": 111
    },
    {
     "cell_type": "code",
     "collapsed": false,
     "input": [
      "# use default security group for now -- probably want to make a new one\n",
      "\n",
      "INSTANCE_NAME = 'new_test'\n",
      "SECURITY_GROUP_NAME = 'testsg1'\n",
      "\n",
      "(instance, cmd) = aws.launch_instance(ami=AMI_UBUNTU_12_04_ID, \n",
      "                                      instance_type='t1.micro',\n",
      "                                      key_name='rdhyee_public_key',\n",
      "                                      group_name=SECURITY_GROUP_NAME,\n",
      "                                      tag='new_instance',\n",
      "                                      cmd_shell=False) \n",
      "                                      \n",
      "                                      "
     ],
     "language": "python",
     "metadata": {},
     "outputs": [
      {
       "output_type": "stream",
       "stream": "stdout",
       "text": [
        "Creating Security Group: testsg1\n",
        "waiting for instance"
       ]
      },
      {
       "output_type": "stream",
       "stream": "stdout",
       "text": [
        "\n",
        ".\n",
        "."
       ]
      },
      {
       "output_type": "stream",
       "stream": "stdout",
       "text": [
        "\n",
        "."
       ]
      },
      {
       "output_type": "stream",
       "stream": "stdout",
       "text": [
        "\n",
        "."
       ]
      },
      {
       "output_type": "stream",
       "stream": "stdout",
       "text": [
        "\n",
        "done"
       ]
      },
      {
       "output_type": "stream",
       "stream": "stdout",
       "text": [
        "\n"
       ]
      }
     ],
     "prompt_number": 112
    },
    {
     "cell_type": "code",
     "collapsed": false,
     "input": [
      "instance.update()"
     ],
     "language": "python",
     "metadata": {},
     "outputs": [
      {
       "output_type": "pyout",
       "prompt_number": 113,
       "text": [
        "u'running'"
       ]
      }
     ],
     "prompt_number": 113
    },
    {
     "cell_type": "code",
     "collapsed": false,
     "input": [
      "# add name\n",
      "instance.add_tag('Name', INSTANCE_NAME)"
     ],
     "language": "python",
     "metadata": {},
     "outputs": [],
     "prompt_number": 114
    },
    {
     "cell_type": "code",
     "collapsed": false,
     "input": [
      "# configure security group testsg1\n",
      "\n",
      "PORTS_TO_OPEN = [80, 443]\n",
      "\n",
      "for port in PORTS_TO_OPEN:\n",
      "    aws.ec2.authorize_security_group(group_name=SECURITY_GROUP_NAME, ip_protocol='tcp', from_port=port, to_port=port,\n",
      "         cidr_ip='0.0.0.0/0')\n"
     ],
     "language": "python",
     "metadata": {},
     "outputs": [],
     "prompt_number": 115
    },
    {
     "cell_type": "code",
     "collapsed": false,
     "input": [
      "console_output = instance.get_console_output()"
     ],
     "language": "python",
     "metadata": {},
     "outputs": [],
     "prompt_number": 26
    },
    {
     "cell_type": "code",
     "collapsed": false,
     "input": [
      "# it takes time for the console output to show not be None -- I don't know exactly how long\n",
      "\n",
      "print console_output.output"
     ],
     "language": "python",
     "metadata": {},
     "outputs": [
      {
       "output_type": "stream",
       "stream": "stdout",
       "text": [
        "Xen Minimal OS!\r\n",
        "  start_info: 0xac4000(VA)\r\n",
        "    nr_pages: 0x26700\r\n",
        "  shared_inf: 0xa0001000(MA)\r\n",
        "     pt_base: 0xac7000(VA)\r\n",
        "nr_pt_frames: 0x9\r\n",
        "    mfn_list: 0x990000(VA)\r\n",
        "   mod_start: 0x0(VA)\r\n",
        "     mod_len: 0\r\n",
        "       flags: 0x0\r\n",
        "    cmd_line: root=/dev/sda1 ro 4\r\n",
        "  stack:      0x94f860-0x96f860\r\n",
        "MM: Init\r\n",
        "      _text: 0x0(VA)\r\n",
        "     _etext: 0x5ffbd(VA)\r\n",
        "   _erodata: 0x78000(VA)\r\n",
        "     _edata: 0x80ae0(VA)\r\n",
        "stack start: 0x94f860(VA)\r\n",
        "       _end: 0x98fe68(VA)\r\n",
        "  start_pfn: ad3\r\n",
        "    max_pfn: 26700\r\n",
        "Mapping memory range 0xc00000 - 0x26700000\r\n",
        "setting 0x0-0x78000 readonly\r\n",
        "skipped 0x1000\r\n",
        "MM: Initialise page allocator for c01000(c01000)-26700000(26700000)\r\n",
        "MM: done\r\n",
        "Demand map pfns at 26701000-2026701000.\r\n",
        "Heap resides at 2026702000-4026702000.\r\n",
        "Initialising timer interface\r\n",
        "Initialising console ... done.\r\n",
        "gnttab_table mapped at 0x26701000.\r\n",
        "Initialising scheduler\r\n",
        "Thread \"Idle\": pointer: 0x2026702010, stack: 0x26640000\r\n",
        "Initialising xenbus\r\n",
        "Thread \"xenstore\": pointer: 0x20267027c0, stack: 0x26650000\r\n",
        "Dummy main: start_info=0x96f960\r\n",
        "Thread \"main\": pointer: 0x2026702f70, stack: 0x26660000\r\n",
        "\"main\" \"root=/dev/sda1\" \"ro\" \"4\" \r\n",
        "vbd 2049 is hd0\r\n",
        "******************* BLKFRONT for device/vbd/2049 **********\r\n",
        "\r\n",
        "\r\n",
        "backend at /local/domain/0/backend/vbd/952/2049\r\n",
        "Failed to read /local/domain/0/backend/vbd/952/2049/feature-barrier.\r\n",
        "Failed to read /local/domain/0/backend/vbd/952/2049/feature-flush-cache.\r\n",
        "16777216 sectors of 512 bytes\r\n",
        "**************************\r\n",
        "\u001b[H\u001b[J  Booting 'Ubuntu 12.04.2 LTS, kernel 3.2.0-43-virtual'\r",
        "\r\n",
        "\r",
        "\r\n",
        "root  (hd0)\r",
        "\r\n",
        " Filesystem type is ext2fs, using whole disk\r",
        "\r\n",
        "kernel  /boot/vmlinuz-3.2.0-43-virtual root=LABEL=cloudimg-rootfs ro console=hv\r",
        "\r\n",
        "c0 \r",
        "\r\n",
        "initrd  /boot/initrd.img-3.2.0-43-virtual\r",
        "\r\n",
        "\r",
        "\r\n",
        "close blk: backend at /local/domain/0/backend/vbd/952/2049\r\n",
        "[    0.000000] Initializing cgroup subsys cpuset\r\n",
        "[    0.000000] Initializing cgroup subsys cpu\r\n",
        "[    0.000000] Linux version 3.2.0-43-virtual (buildd@batsu) (gcc version 4.6.3 (Ubuntu/Linaro 4.6.3-1ubuntu5) ) #68-Ubuntu SMP Wed May 15 03:52:58 UTC 2013 (Ubuntu 3.2.0-43.68-virtual 3.2.42)\r\n",
        "[    0.000000] Command line: root=LABEL=cloudimg-rootfs ro console=hvc0 \r\n",
        "[    0.000000] KERNEL supported cpus:\r\n",
        "[    0.000000]   Intel GenuineIntel\r\n",
        "[    0.000000]   AMD AuthenticAMD\r\n",
        "[    0.000000]   Centaur CentaurHauls\r\n",
        "[    0.000000] ACPI in unprivileged domain disabled\r\n",
        "[    0.000000] Released 0 pages of unused memory\r\n",
        "[    0.000000] Set 0 page(s) to 1-1 mapping\r\n",
        "[    0.000000] BIOS-provided physical RAM map:\r\n",
        "[    0.000000]  Xen: 0000000000000000 - 00000000000a0000 (usable)\r\n",
        "[    0.000000]  Xen: 00000000000a0000 - 0000000000100000 (reserved)\r\n",
        "[    0.000000]  Xen: 0000000000100000 - 0000000026f00000 (usable)\r\n",
        "[    0.000000] NX (Execute Disable) protection: active\r\n",
        "[    0.000000] DMI not present or invalid.\r\n",
        "[    0.000000] No AGP bridge found\r\n",
        "[    0.000000] last_pfn = 0x26f00 max_arch_pfn = 0x400000000\r\n",
        "[    0.000000] init_memory_mapping: 0000000000000000-0000000026f00000\r\n",
        "[    0.000000] RAMDISK: 02057000 - 02c84000\r\n",
        "[    0.000000] NUMA turned off\r\n",
        "[    0.000000] Faking a node at 0000000000000000-0000000026f00000\r\n",
        "[    0.000000] Initmem setup node 0 0000000000000000-0000000026f00000\r\n",
        "[    0.000000]   NODE_DATA [00000000266fb000 - 00000000266fffff]\r\n",
        "[    0.000000] Zone PFN ranges:\r\n",
        "[    0.000000]   DMA      0x00000010 -> 0x00001000\r\n",
        "[    0.000000]   DMA32    0x00001000 -> 0x00100000\r\n",
        "[    0.000000]   Normal   empty\r\n",
        "[    0.000000] Movable zone start PFN for each node\r\n",
        "[    0.000000] early_node_map[2] active PFN ranges\r\n",
        "[    0.000000]     0: 0x00000010 -> 0x000000a0\r\n",
        "[    0.000000]     0: 0x00000100 -> 0x00026f00\r\n",
        "[    0.000000] SFI: Simple Firmware Interface v0.81 http://simplefirmware.org\r\n",
        "[    0.000000] SMP: Allowing 1 CPUs, 0 hotplug CPUs\r\n",
        "[    0.000000] No local APIC present\r\n",
        "[    0.000000] APIC: disable apic facility\r\n",
        "[    0.000000] APIC: switched to apic NOOP\r\n",
        "[    0.000000] PM: Registered nosave memory: 00000000000a0000 - 0000000000100000\r\n",
        "[    0.000000] Allocating PCI resources starting at 26f00000 (gap: 26f00000:d9100000)\r\n",
        "[    0.000000] Booting paravirtualized kernel on Xen\r\n",
        "[    0.000000] Xen version: 3.4.3.amazon (preserve-AD)\r\n",
        "[    0.000000] setup_percpu: NR_CPUS:64 nr_cpumask_bits:64 nr_cpu_ids:1 nr_node_ids:1\r\n",
        "[    0.000000] PERCPU: Embedded 28 pages/cpu @ffff880026400000 s82880 r8192 d23616 u2097152\r\n",
        "[    0.000000] Built 1 zonelists in Node order, mobility grouping on.  Total pages: 156595\r\n",
        "[    0.000000] Policy zone: DMA32\r\n",
        "[    0.000000] Kernel command line: root=LABEL=cloudimg-rootfs ro console=hvc0 \r\n",
        "[    0.000000] PID hash table entries: 4096 (order: 3, 32768 bytes)\r\n",
        "[    0.000000] Checking aperture...\r\n",
        "[    0.000000] No AGP bridge found\r\n",
        "[    0.000000] Memory: 588120k/637952k available (6547k kernel code, 448k absent, 49384k reserved, 6647k data, 920k init)\r\n",
        "[    0.000000] SLUB: Genslabs=15, HWalign=64, Order=0-3, MinObjects=0, CPUs=1, Nodes=1\r\n",
        "[    0.000000] Hierarchical RCU implementation.\r\n",
        "[    0.000000] \tRCU dyntick-idle grace-period acceleration is enabled.\r\n",
        "[    0.000000] NR_IRQS:4352 nr_irqs:256 16\r\n",
        "[    0.000000] Console: colour dummy device 80x25\r\n",
        "[    0.000000] console [tty0] enabled\r\n",
        "[    0.000000] console [hvc0] enabled\r\n",
        "[    0.000000] allocated 5242880 bytes of page_cgroup\r\n",
        "[    0.000000] please try 'cgroup_disable=memory' option if you don't want memory cgroups\r\n",
        "[    0.000000] installing Xen timer for CPU 0\r\n",
        "[    0.000000] Detected 2666.756 MHz processor.\r\n",
        "[    0.004000] Calibrating delay loop (skipped), value calculated using timer frequency.. 5333.51 BogoMIPS (lpj=10667024)\r\n",
        "[    0.004000] pid_max: default: 32768 minimum: 301\r\n",
        "[    0.004000] Security Framework initialized\r\n",
        "[    0.004000] AppArmor: AppArmor initialized\r\n",
        "[    0.004000] Yama: becoming mindful.\r\n",
        "[    0.004000] Dentry cache hash table entries: 131072 (order: 8, 1048576 bytes)\r\n",
        "[    0.004000] Inode-cache hash table entries: 65536 (order: 7, 524288 bytes)\r\n",
        "[    0.004000] Mount-cache hash table entries: 256\r\n",
        "[    0.004000] Initializing cgroup subsys cpuacct\r\n",
        "[    0.004000] Initializing cgroup subsys memory\r\n",
        "[    0.004000] Initializing cgroup subsys devices\r\n",
        "[    0.004000] Initializing cgroup subsys freezer\r\n",
        "[    0.004000] Initializing cgroup subsys blkio\r\n",
        "[    0.004000] Initializing cgroup subsys perf_event\r\n",
        "[    0.004000] CPU: Physical Processor ID: 0\r\n",
        "[    0.004000] CPU: Processor Core ID: 0\r\n",
        "[    0.004000] SMP alternatives: switching to UP code\r\n",
        "[    0.037130] Freeing SMP alternatives: 24k freed\r\n",
        "[    0.037161] ftrace: allocating 26552 entries in 105 pages\r\n",
        "[    0.040082] cpu 0 spinlock event irq 17\r\n",
        "[    0.040104] Performance Events: unsupported p6 CPU model 23 no PMU driver, software events only.\r\n",
        "[    0.040267] NMI watchdog disabled (cpu0): hardware events not enabled\r\n",
        "[    0.040292] Brought up 1 CPUs\r\n",
        "[    0.040441] devtmpfs: initialized\r\n",
        "[    0.041524] EVM: security.selinux\r\n",
        "[    0.041528] EVM: security.SMACK64\r\n",
        "[    0.041531] EVM: security.capability\r\n",
        "[    0.042373] Grant table initialized\r\n",
        "[    0.042430] print_constraints: dummy: \r\n",
        "[    0.062315] RTC time: 165:165:165, date: 165/165/65\r\n",
        "[    0.062356] NET: Registered protocol family 16\r\n",
        "[    0.062565] PCI: setting up Xen PCI frontend stub\r\n",
        "[    0.064111] bio: create slab <bio-0> at 0\r\n",
        "[    0.064196] ACPI: Interpreter disabled.\r\n",
        "[    0.064215] xen/balloon: Initialising balloon driver.\r\n",
        "[    0.064215] xen-balloon: Initialising balloon driver.\r\n",
        "[    0.064215] vgaarb: loaded\r\n",
        "[    0.064215] i2c-core: driver [aat2870] using legacy suspend method\r\n",
        "[    0.064215] i2c-core: driver [aat2870] using legacy resume method\r\n",
        "[    0.064265] SCSI subsystem initialized\r\n",
        "[    0.065126] usbcore: registered new interface driver usbfs\r\n",
        "[    0.065141] usbcore: registered new interface driver hub\r\n",
        "[    0.065185] usbcore: registered new device driver usb\r\n",
        "[    0.065295] PCI: System does not support PCI\r\n",
        "[    0.065300] PCI: System does not support PCI\r\n",
        "[    0.065406] NetLabel: Initializing\r\n",
        "[    0.065411] NetLabel:  domain hash size = 128\r\n",
        "[    0.065414] NetLabel:  protocols = UNLABELED CIPSOv4\r\n",
        "[    0.065428] NetLabel:  unlabeled traffic allowed by default\r\n",
        "[    0.065486] Switching to clocksource xen\r\n",
        "[    0.071835] AppArmor: AppArmor Filesystem Enabled\r\n",
        "[    0.071870] pnp: PnP ACPI: disabled\r\n",
        "[    0.074677] NET: Registered protocol family 2\r\n",
        "[    0.074835] IP route cache hash table entries: 32768 (order: 6, 262144 bytes)\r\n",
        "[    0.075617] TCP established hash table entries: 131072 (order: 9, 2097152 bytes)\r\n",
        "[    0.076725] TCP bind hash table entries: 65536 (order: 8, 1048576 bytes)\r\n",
        "[    0.077140] TCP: Hash tables configured (established 131072 bind 65536)\r\n",
        "[    0.077146] TCP reno registered\r\n",
        "[    0.077156] UDP hash table entries: 512 (order: 2, 16384 bytes)\r\n",
        "[    0.077173] UDP-Lite hash table entries: 512 (order: 2, 16384 bytes)\r\n",
        "[    0.077247] NET: Registered protocol family 1\r\n",
        "[    0.077306] platform rtc_cmos: registered platform RTC device (no PNP device found)\r\n",
        "[    0.191670] audit: initializing netlink socket (disabled)\r\n",
        "[    0.191688] type=2000 audit(1369424654.665:1): initialized\r\n",
        "[    0.210193] Trying to unpack rootfs image as initramfs...\r\n",
        "[    0.230409] Freeing initrd memory: 12468k freed\r\n",
        "[    0.237814] HugeTLB registered 2 MB page size, pre-allocated 0 pages\r\n",
        "[    0.239868] VFS: Disk quotas dquot_6.5.2\r\n",
        "[    0.239937] Dquot-cache hash table entries: 512 (order 0, 4096 bytes)\r\n",
        "[    0.240492] fuse init (API version 7.17)\r\n",
        "[    0.240581] msgmni has been set to 1173\r\n",
        "[    0.240908] Block layer SCSI generic (bsg) driver version 0.4 loaded (major 253)\r\n",
        "[    0.240943] io scheduler noop registered\r\n",
        "[    0.240948] io scheduler deadline registered (default)\r\n",
        "[    0.240980] io scheduler cfq registered\r\n",
        "[    0.241053] pci_hotplug: PCI Hot Plug PCI Core version: 0.5\r\n",
        "[    0.241079] pciehp: PCI Express Hot Plug Controller Driver version: 0.4\r\n",
        "[    0.241417] Serial: 8250/16550 driver, 32 ports, IRQ sharing enabled\r\n",
        "[    0.242594] Linux agpgart interface v0.103\r\n",
        "[    0.243923] brd: module loaded\r\n",
        "[    0.244615] loop: module loaded\r\n",
        "[    0.275858] blkfront device/vbd/2049 num-ring-pages 4 nr_ents 128.\r\n",
        "[    0.276622] Fixed MDIO Bus: probed\r\n",
        "[    0.276650] tun: Universal TUN/TAP device driver, 1.6\r\n",
        "[    0.276654] tun: (C) 1999-2004 Max Krasnyansky <maxk@qualcomm.com>\r\n",
        "[    0.276758] PPP generic driver version 2.4.2\r\n",
        "[    0.276816] Initialising Xen virtual ethernet driver.\r\n",
        "[    0.277599] blkfront: xvda1: barrier or flush: disabled\r\n",
        "[    0.278637] Setting capacity to 16777216\r\n",
        "[    0.278647] xvda1: detected capacity change from 0 to 8589934592\r\n",
        "[    0.279336] ehci_hcd: USB 2.0 'Enhanced' Host Controller (EHCI) Driver\r\n",
        "[    0.279364] ohci_hcd: USB 1.1 'Open' Host Controller (OHCI) Driver\r\n",
        "[    0.279376] uhci_hcd: USB Universal Host Controller Interface driver\r\n",
        "[    0.279413] usbcore: registered new interface driver libusual\r\n",
        "[    0.279437] i8042: PNP: No PS/2 controller found. Probing ports directly.\r\n",
        "[    1.294951] i8042: No controller found\r\n",
        "[    1.295224] mousedev: PS/2 mouse device common for all mice\r\n",
        "[    1.335250] rtc_cmos rtc_cmos: rtc core: registered rtc_cmos as rtc0\r\n",
        "[    1.335365] rtc_cmos: probe of rtc_cmos failed with error -38\r\n",
        "[    1.335553] device-mapper: uevent: version 1.0.3\r\n",
        "[    1.335659] device-mapper: ioctl: 4.22.0-ioctl (2011-10-19) initialised: dm-devel@redhat.com\r\n",
        "[    1.335674] EFI Variables Facility v0.08 2004-May-17\r\n",
        "[    1.335943] TCP cubic registered\r\n",
        "[    1.336077] NET: Registered protocol family 10\r\n",
        "[    1.336866] NET: Registered protocol family 17\r\n",
        "[    1.336876] Registering the dns_resolver key type\r\n",
        "[    1.337100] registered taskstats version 1\r\n",
        "[    1.444097] XENBUS: Device with no driver: device/console/0\r\n",
        "[    1.444410]   Magic number: 1:252:3141\r\n",
        "[    1.444633] /build/buildd/linux-3.2.0/drivers/rtc/hctosys.c: unable to open rtc device (rtc0)\r\n",
        "[    1.445004] BIOS EDD facility v0.16 2004-Jun-25, 0 devices found\r\n",
        "[    1.445098] EDD information not available.\r\n",
        "[    1.445609] Freeing unused kernel memory: 920k freed\r\n",
        "[    1.446076] Write protecting the kernel read-only data: 12288k\r\n",
        "[    1.452170] Freeing unused kernel memory: 1624k freed\r\n",
        "[    1.453616] Freeing unused kernel memory: 1192k freed\r\n",
        "Loading, please wait...\r\n",
        "Begin: Loading essential drivers ... done.\r\n",
        "[    1.497980] udevd[80]: starting version 175\r\n",
        "Begin: Running /scripts/init-premount ... done.\r\n",
        "Begin: Mounting root file system ... Begin: Running /scripts/local-top ... done.\r\n",
        "Begin: Running /scripts/local-premount ... done.\r\n",
        "[    1.805779] EXT4-fs (xvda1): mounted filesystem with ordered data mode. Opts: (null)\r\n",
        "Begin: Running /scripts/local-bottom ... done.\r\n",
        "done.\r\n",
        "Begin: Running /scripts/init-bottom ... done.\r\n",
        "[    7.674022] EXT4-fs (xvda1): re-mounted. Opts: (null)\r\n",
        "cloud-init start-local running: Fri, 24 May 2013 19:44:28 +0000. up 13.74 seconds\r",
        "\r\n",
        "no instance data found in start-local\r",
        "\r\n",
        "ci-info: lo    : 1 127.0.0.1       255.0.0.0       .\r",
        "\r\n",
        "ci-info: eth0  : 1 10.196.46.27    255.255.254.0   12:31:3b:08:2d:ed\r",
        "\r\n",
        "ci-info: route-0: 0.0.0.0         10.196.46.1     0.0.0.0         eth0   UG\r",
        "\r\n",
        "ci-info: route-1: 10.196.46.0     0.0.0.0         255.255.254.0   eth0   U\r",
        "\r\n",
        "cloud-init start running: Fri, 24 May 2013 19:44:28 +0000. up 14.11 seconds\r",
        "\r\n",
        "found data source: DataSourceEc2\r",
        "\r\n",
        "2013-05-24 19:44:28,879 - __init__.py[WARNING]: Unhandled non-multipart userdata ''\r",
        "\r\n",
        "Generating public/private rsa key pair.\r",
        "\r\n",
        "Your identification has been saved in /etc/ssh/ssh_host_rsa_key.\r",
        "\r\n",
        "Your public key has been saved in /etc/ssh/ssh_host_rsa_key.pub.\r",
        "\r\n",
        "The key fingerprint is:\r",
        "\r\n",
        "e9:26:80:93:d7:3f:d6:ff:49:67:10:77:d6:77:ee:be root@ip-10-196-46-27\r",
        "\r\n",
        "The key's randomart image is:\r",
        "\r\n",
        "+--[ RSA 2048]----+\r",
        "\r\n",
        "|                 |\r",
        "\r\n",
        "|                .|\r",
        "\r\n",
        "|              . B|\r",
        "\r\n",
        "|   o .   .     =+|\r",
        "\r\n",
        "|  + o . S     . .|\r",
        "\r\n",
        "|   o . o .     o |\r",
        "\r\n",
        "|      . * .   . +|\r",
        "\r\n",
        "|       + . . . = |\r",
        "\r\n",
        "|            ..oEo|\r",
        "\r\n",
        "+-----------------+\r",
        "\r\n",
        "Generating public/private dsa key pair.\r",
        "\r\n",
        "Your identification has been saved in /etc/ssh/ssh_host_dsa_key.\r",
        "\r\n",
        "Your public key has been saved in /etc/ssh/ssh_host_dsa_key.pub.\r",
        "\r\n",
        "The key fingerprint is:\r",
        "\r\n",
        "ac:cb:00:0f:67:99:89:61:97:86:e3:b1:ae:93:02:60 root@ip-10-196-46-27\r",
        "\r\n",
        "The key's randomart image is:\r",
        "\r\n",
        "+--[ DSA 1024]----+\r",
        "\r\n",
        "|                 |\r",
        "\r\n",
        "|   . .           |\r",
        "\r\n",
        "|  * +            |\r",
        "\r\n",
        "|.E O + .         |\r",
        "\r\n",
        "|o * *   S        |\r",
        "\r\n",
        "|.. *   .         |\r",
        "\r\n",
        "|... o .          |\r",
        "\r\n",
        "|+.   o .         |\r",
        "\r\n",
        "|o.    o          |\r",
        "\r\n",
        "+-----------------+\r",
        "\r\n",
        "Generating public/private ecdsa key pair.\r",
        "\r\n",
        "Your identification has been saved in /etc/ssh/ssh_host_ecdsa_key.\r",
        "\r\n",
        "Your public key has been saved in /etc/ssh/ssh_host_ecdsa_key.pub.\r",
        "\r\n",
        "The key fingerprint is:\r",
        "\r\n",
        "11:0b:66:ef:01:26:32:96:77:51:76:15:f0:0d:00:01 root@ip-10-196-46-27\r",
        "\r\n",
        "The key's randomart image is:\r",
        "\r\n",
        "+--[ECDSA  256]---+\r",
        "\r\n",
        "|  +.. E+*o+++.   |\r",
        "\r\n",
        "| ..o.=.= + . o   |\r",
        "\r\n",
        "|   . .  =   . .  |\r",
        "\r\n",
        "|       . o       |\r",
        "\r\n",
        "|        S        |\r",
        "\r\n",
        "|                 |\r",
        "\r\n",
        "|                 |\r",
        "\r\n",
        "|                 |\r",
        "\r\n",
        "|                 |\r",
        "\r\n",
        "+-----------------+\r",
        "\r\n",
        "Skipping profile in /etc/apparmor.d/disable: usr.sbin.rsyslogd\r",
        "\r\n",
        " * Starting AppArmor profiles       \u001b[80G \r",
        "\u001b[74G[ OK ]\r",
        "\r\n",
        "landscape-client is not configured, please run landscape-config.\r",
        "\r\n",
        " * Stopping System V initialisation compatibility\u001b[74G[ OK ]\r",
        "\r\n",
        " * Starting System V runlevel compatibility\u001b[74G[ OK ]\r",
        "\r\n",
        " * Starting automatic crash report generation\u001b[74G[ OK ]\r",
        "\r\n",
        " * Starting deferred execution scheduler\u001b[74G[ OK ]\r",
        "\r\n",
        " * Starting regular background program processing daemon\u001b[74G[ OK ]\r",
        "\r\n",
        " * Starting ACPI daemon\u001b[74G[ OK ]\r",
        "\r\n",
        " * Starting save kernel messages\u001b[74G[ OK ]\r",
        "\r\n",
        " * Stopping CPU interrupts balancing daemon\u001b[74G[ OK ]\r",
        "\r\n",
        " * Starting crash report submission daemon\u001b[74G[ OK ]\r",
        "\r\n",
        " * Stopping save kernel messages\u001b[74G[ OK ]\r",
        "\r\n",
        " * Stopping System V runlevel compatibility\u001b[74G[ OK ]\r",
        "\r\n",
        "Generating locales...\r\n",
        "  en_US.UTF-8... done\r\n",
        "Generation complete.\r\n",
        "ec2: \r\n",
        "ec2: #############################################################\r\n",
        "ec2: -----BEGIN SSH HOST KEY FINGERPRINTS-----\r\n",
        "ec2: 1024 ac:cb:00:0f:67:99:89:61:97:86:e3:b1:ae:93:02:60  root@ip-10-196-46-27 (DSA)\r\n",
        "ec2: 256 11:0b:66:ef:01:26:32:96:77:51:76:15:f0:0d:00:01  root@ip-10-196-46-27 (ECDSA)\r\n",
        "ec2: 2048 e9:26:80:93:d7:3f:d6:ff:49:67:10:77:d6:77:ee:be  root@ip-10-196-46-27 (RSA)\r\n",
        "ec2: -----END SSH HOST KEY FINGERPRINTS-----\r\n",
        "ec2: #############################################################\r\n",
        "-----BEGIN SSH HOST KEY KEYS-----\r\n",
        "ecdsa-sha2-nistp256 AAAAE2VjZHNhLXNoYTItbmlzdHAyNTYAAAAIbmlzdHAyNTYAAABBBAiHus1+COMitTm0UQ5rVZBxWix9nRh0W34f+AAb4AY211m+HFRGl+KEU88iM7Nru1o/U2NfB7dClfQR4/hHJ/M= root@ip-10-196-46-27\r\n",
        "ssh-rsa AAAAB3NzaC1yc2EAAAADAQABAAABAQD5SHPEnRT7RoKqkFfsGn7BCRtj8X9nEesJmlznqY6z/ub+uLVW7b8GAw8e1bVrYy02rX9bLjVKAo2U0WScuK7AVYt0zPJPjNdBqJxKc3pl/YE862BvDDuLktzrLo6MOeQoXu7Tbs9ZtkIJzcJPPPBqyU2lnb1MdUApWDMSLdUzDRBVX/bw96wsFONwMDSZtYPecLqxKohgEK735eduWc0Pb1Y+N4zqSITNYuavNtSV6Di2LQKg5eOdSYRi8BEu0QOhNYBhYEKk02xvfs046B7iWS2T18Bp9EBKGFS0ZdWJ6cdUPxtPAcMB5Ra3haERe3GdNCic6ceSNfJSeEJqQ0fN root@ip-10-196-46-27\r\n",
        "-----END SSH HOST KEY KEYS-----\r\n",
        "cloud-init boot finished at Fri, 24 May 2013 19:44:43 +0000. Up 28.68 seconds\r\n",
        "acpid: exiting\r",
        "\r\n",
        "Fri May 24 20:18:15 UTC 2013: shutting down for reboot [up 2041s].\r\n",
        " * Stopping web server apache2       \u001b[80G  ... waiting \r",
        "\u001b[74G[ OK ]\r\n",
        "Checking for running unattended-upgrades: \r\n",
        " * Stopping landscape-client daemon       \u001b[80G \r",
        "\u001b[74G[\u001b[31mfail\u001b[39;49m]\r\n",
        " * Stopping Postfix Mail Transport Agent postfix       \u001b[80G \r",
        "\u001b[74G[ OK ]\r\n",
        "Stopping redis-server: redis-server.\r\n",
        " * Asking all remaining processes to terminate...       \u001b[80G \r",
        "\u001b[74G[ OK ]\r\n",
        " * All processes ended within 1 seconds....       \u001b[80G \r",
        "\u001b[74G[ OK ]\r\n",
        " * Deconfiguring network interfaces...       \u001b[80G \r",
        "\u001b[74G[ OK ]\r\n",
        " * Deactivating swap...       \u001b[80G \r",
        "\u001b[74G[ OK ]\r\n",
        " * Will now restart\r\n",
        "[ 2044.163005] Restarting system.\r\n",
        "\n"
       ]
      }
     ],
     "prompt_number": 28
    },
    {
     "cell_type": "code",
     "collapsed": false,
     "input": [
      "# http://ubuntu-smoser.blogspot.com/2010/07/verify-ssh-keys-on-ec2-instances.html\n",
      "\n",
      "[line for line in console_output.output.split(\"\\n\") if line.startswith(\"ec2\")]"
     ],
     "language": "python",
     "metadata": {},
     "outputs": [
      {
       "output_type": "pyout",
       "prompt_number": 29,
       "text": [
        "['ec2: \\r',\n",
        " 'ec2: #############################################################\\r',\n",
        " 'ec2: -----BEGIN SSH HOST KEY FINGERPRINTS-----\\r',\n",
        " 'ec2: 1024 ac:cb:00:0f:67:99:89:61:97:86:e3:b1:ae:93:02:60  root@ip-10-196-46-27 (DSA)\\r',\n",
        " 'ec2: 256 11:0b:66:ef:01:26:32:96:77:51:76:15:f0:0d:00:01  root@ip-10-196-46-27 (ECDSA)\\r',\n",
        " 'ec2: 2048 e9:26:80:93:d7:3f:d6:ff:49:67:10:77:d6:77:ee:be  root@ip-10-196-46-27 (RSA)\\r',\n",
        " 'ec2: -----END SSH HOST KEY FINGERPRINTS-----\\r',\n",
        " 'ec2: #############################################################\\r']"
       ]
      }
     ],
     "prompt_number": 29
    },
    {
     "cell_type": "code",
     "collapsed": false,
     "input": [
      "instance_id = instance.id\n",
      "instance_id"
     ],
     "language": "python",
     "metadata": {},
     "outputs": [
      {
       "output_type": "pyout",
       "prompt_number": 116,
       "text": [
        "u'i-46e18b2a'"
       ]
      }
     ],
     "prompt_number": 116
    },
    {
     "cell_type": "code",
     "collapsed": false,
     "input": [
      "output = !source ~/gj_aws.sh; ec2-get-console-output $instance_id  | grep -i ec2"
     ],
     "language": "python",
     "metadata": {},
     "outputs": [],
     "prompt_number": 46
    },
    {
     "cell_type": "code",
     "collapsed": false,
     "input": [
      "output"
     ],
     "language": "python",
     "metadata": {},
     "outputs": [
      {
       "output_type": "pyout",
       "prompt_number": 47,
       "text": [
        "['Unexpected error:',\n",
        " 'java.lang.NullPointerException',\n",
        " '\\tat org.codehaus.xfire.util.Base64.decode(Base64.java:103)',\n",
        " '\\tat com.amazon.aes.webservices.client.Jec2SdkImpl.getConsoleOutput(Jec2SdkImpl.java:679)',\n",
        " '\\tat com.amazon.aes.webservices.client.cmd.GetConsoleOutput.invokeOnline(GetConsoleOutput.java:64)',\n",
        " '\\tat com.amazon.aes.webservices.client.cmd.BaseCmd.invoke(BaseCmd.java:1037)',\n",
        " '\\tat com.amazon.aes.webservices.client.cmd.GetConsoleOutput.main(GetConsoleOutput.java:72)']"
       ]
      }
     ],
     "prompt_number": 47
    },
    {
     "cell_type": "code",
     "collapsed": false,
     "input": [
      "# copy a command to ssh into the instance\n",
      "\n",
      "cmdstring = \"ssh -oStrictHostKeyChecking=no ubuntu@{0}\".format(instance.dns_name)\n",
      "# works on a mac\n",
      "! echo \"$cmdstring\" | pbcopy\n",
      "cmdstring"
     ],
     "language": "python",
     "metadata": {},
     "outputs": [
      {
       "output_type": "pyout",
       "prompt_number": 117,
       "text": [
        "'ssh -oStrictHostKeyChecking=no ubuntu@ec2-54-225-5-82.compute-1.amazonaws.com'"
       ]
      }
     ],
     "prompt_number": 117
    },
    {
     "cell_type": "heading",
     "level": 1,
     "metadata": {},
     "source": [
      "dynamic execution of fabric tasks"
     ]
    },
    {
     "cell_type": "code",
     "collapsed": false,
     "input": [
      "# http://docs.fabfile.org/en/1.6/usage/execution.html#using-execute-with-dynamically-set-host-lists\n",
      "\n",
      "import fabric\n",
      "from fabric.api import run, local, env, cd, sudo\n",
      "from fabric.operations import get\n",
      "\n",
      "from regluit.sysadmin import aws\n",
      "from StringIO import StringIO\n",
      "\n",
      "import github\n",
      "\n",
      "# uncomment for debugging\n",
      "# github.enable_console_debug_logging()\n",
      "\n",
      "from github import Github\n",
      "\n",
      "from django.conf import settings \n",
      "\n",
      "# allow us to use our ssh config files (e.g., ~/.ssh/config)\n",
      "env.use_ssh_config = True\n",
      "\n",
      "GITHUB_REPO_NAME = \"Gluejar/regluit\"\n",
      "#GITHUB_REPO_NAME = \"rdhyee/working-open-data\"\n",
      "\n",
      "# maybe generate some random pw -- not sure how important it is to generate some complicated PW if we configure \n",
      "# security groups properly\n",
      "MYSQL_ROOT_PW = \"unglueit_pw_123\"\n",
      "\n",
      "\n",
      "# can use 3 different types of authn: https://github.com/jacquev6/PyGithub/issues/15\n",
      "# can be empty, username/pw, or personal API token (https://github.com/blog/1509-personal-api-tokens)\n",
      "g = Github(settings.GITHUB_AUTH_TOKEN)\n",
      "\n",
      "def host_type():\n",
      "    run('uname -s')\n",
      "\n",
      "    \n",
      "def deploy():\n",
      "    sudo(\"aptitude update\")\n",
      "    sudo(\"yes | aptitude upgrade\")\n",
      "    sudo(\"yes | aptitude install git-core apache libapache2-mod-wsgi mysql-client python-virtualenv python-mysqldb redis-server python-lxml\")\n",
      "    sudo(\"yes | aptitude install python-dev\")\n",
      "    # http://www.whatastruggle.com/postfix-non-interactive-install\n",
      "    sudo(\"DEBIAN_FRONTEND='noninteractive' apt-get install -y -q --force-yes postfix\")\n",
      "\n",
      "    sudo (\"mkdir /opt/regluit\")\n",
      "    sudo (\"chown ubuntu:ubuntu /opt/regluit\")\n",
      "\n",
      "    run('git config --global user.name \"Raymond Yee\"')\n",
      "    run('git config --global user.email \"rdhyee@gluejar.com\"')\n",
      "\n",
      "    run('ssh-keygen -b 2048 -t rsa -f /home/ubuntu/.ssh/id_rsa -P \"\"')\n",
      "\n",
      "    # how to get the key and push it to github\n",
      "    s = StringIO()\n",
      "    get('/home/ubuntu/.ssh/id_rsa.pub', s)\n",
      "    repo = g.get_repo(GITHUB_REPO_NAME)\n",
      "    key = repo.create_key('test deploy key', s.getvalue())    \n",
      "    \n",
      "    # http://debuggable.com/posts/disable-strict-host-checking-for-git-clone:49896ff3-0ac0-4263-9703-1eae4834cda3\n",
      "    run('echo -e \"Host github.com\\n\\tStrictHostKeyChecking no\\n\" >> ~/.ssh/config')\n",
      "    \n",
      "    # clone the regluit git repo into /opt/regluit\n",
      "    with cd(\"/opt\"):\n",
      "        run(\"yes | git clone git@github.com:Gluejar/regluit.git\")\n",
      "        \n",
      "    #  for configuring local mysql server (5.5)\n",
      "    #  http://stackoverflow.com/a/7740571/7782\n",
      "    sudo(\"debconf-set-selections <<< 'mysql-server-5.5 mysql-server/root_password password {0}'\".format(MYSQL_ROOT_PW))\n",
      "    sudo(\"debconf-set-selections <<< 'mysql-server-5.5 mysql-server/root_password_again password {0}'\".format(MYSQL_ROOT_PW))\n",
      "    sudo(\"apt-get -y install mysql-server\")\n",
      "    \n",
      "    \n",
      "def deploy_next():\n",
      "\n",
      "    pass   \n",
      "    \n",
      "#hosts = ['ubuntu@ec2-75-101-232-46.compute-1.amazonaws.com']\n",
      "hosts = [\"ubuntu@{0}\".format(instance.dns_name)]\n",
      "\n",
      "fabric.tasks.execute(deploy, hosts=hosts)"
     ],
     "language": "python",
     "metadata": {},
     "outputs": [
      {
       "output_type": "stream",
       "stream": "stdout",
       "text": [
        "[ubuntu@ec2-54-225-5-82.compute-1.amazonaws.com] Executing task 'deploy'"
       ]
      },
      {
       "output_type": "stream",
       "stream": "stdout",
       "text": [
        "\n",
        "[ubuntu@ec2-54-225-5-82.compute-1.amazonaws.com] sudo: aptitude update\n",
        "[ubuntu@ec2-54-225-5-82.compute-1.amazonaws.com] out: "
       ]
      },
      {
       "output_type": "stream",
       "stream": "stdout",
       "text": [
        "\n"
       ]
      },
      {
       "output_type": "stream",
       "stream": "stdout",
       "text": [
        "[ubuntu@ec2-54-225-5-82.compute-1.amazonaws.com] out: "
       ]
      },
      {
       "output_type": "stream",
       "stream": "stdout",
       "text": [
        "\n"
       ]
      },
      {
       "output_type": "stream",
       "stream": "stdout",
       "text": [
        "[ubuntu@ec2-54-225-5-82.compute-1.amazonaws.com] out: "
       ]
      },
      {
       "output_type": "stream",
       "stream": "stdout",
       "text": [
        "[  0%] Writing extended state information"
       ]
      },
      {
       "output_type": "stream",
       "stream": "stdout",
       "text": [
        "\n"
       ]
      },
      {
       "output_type": "stream",
       "stream": "stdout",
       "text": [
        "[ubuntu@ec2-54-225-5-82.compute-1.amazonaws.com] out: "
       ]
      },
      {
       "output_type": "stream",
       "stream": "stdout",
       "text": [
        "                                         \n"
       ]
      },
      {
       "output_type": "stream",
       "stream": "stdout",
       "text": [
        "[ubuntu@ec2-54-225-5-82.compute-1.amazonaws.com] out: "
       ]
      },
      {
       "output_type": "stream",
       "stream": "stdout",
       "text": [
        "[100%] Writing extended state information\n"
       ]
      },
      {
       "output_type": "stream",
       "stream": "stdout",
       "text": [
        "[ubuntu@ec2-54-225-5-82.compute-1.amazonaws.com] out: "
       ]
      },
      {
       "output_type": "stream",
       "stream": "stdout",
       "text": [
        "                                         \n"
       ]
      },
      {
       "output_type": "stream",
       "stream": "stdout",
       "text": [
        "[ubuntu@ec2-54-225-5-82.compute-1.amazonaws.com] out: "
       ]
      },
      {
       "output_type": "stream",
       "stream": "stdout",
       "text": [
        "\n"
       ]
      },
      {
       "output_type": "stream",
       "stream": "stdout",
       "text": [
        "[ubuntu@ec2-54-225-5-82.compute-1.amazonaws.com] out: "
       ]
      },
      {
       "output_type": "stream",
       "stream": "stdout",
       "text": [
        "\n"
       ]
      },
      {
       "output_type": "stream",
       "stream": "stdout",
       "text": [
        "[ubuntu@ec2-54-225-5-82.compute-1.amazonaws.com] out: "
       ]
      },
      {
       "output_type": "stream",
       "stream": "stdout",
       "text": [
        "0% [Working]"
       ]
      },
      {
       "output_type": "stream",
       "stream": "stdout",
       "text": [
        "\n"
       ]
      },
      {
       "output_type": "stream",
       "stream": "stdout",
       "text": [
        "[ubuntu@ec2-54-225-5-82.compute-1.amazonaws.com] out: "
       ]
      },
      {
       "output_type": "stream",
       "stream": "stdout",
       "text": [
        "            \n"
       ]
      },
      {
       "output_type": "stream",
       "stream": "stdout",
       "text": [
        "[ubuntu@ec2-54-225-5-82.compute-1.amazonaws.com] out: "
       ]
      },
      {
       "output_type": "stream",
       "stream": "stdout",
       "text": [
        "Get: 1 http://us-east-1.ec2.archive.ubuntu.com precise Release.gpg [198 B]\n"
       ]
      },
      {
       "output_type": "stream",
       "stream": "stdout",
       "text": [
        "[ubuntu@ec2-54-225-5-82.compute-1.amazonaws.com] out: "
       ]
      },
      {
       "output_type": "stream",
       "stream": "stdout",
       "text": [
        "\n"
       ]
      },
      {
       "output_type": "stream",
       "stream": "stdout",
       "text": [
        "[ubuntu@ec2-54-225-5-82.compute-1.amazonaws.com] out: "
       ]
      },
      {
       "output_type": "stream",
       "stream": "stdout",
       "text": [
        "\n"
       ]
      },
      {
       "output_type": "stream",
       "stream": "stdout",
       "text": [
        "[ubuntu@ec2-54-225-5-82.compute-1.amazonaws.com] out: "
       ]
      },
      {
       "output_type": "stream",
       "stream": "stdout",
       "text": [
        "0% [1 Release.gpg 0 B/198 B 0%] [Connecting to security.ubuntu.com (91.189.91.14\n"
       ]
      },
      {
       "output_type": "stream",
       "stream": "stdout",
       "text": [
        "[ubuntu@ec2-54-225-5-82.compute-1.amazonaws.com] out: "
       ]
      },
      {
       "output_type": "stream",
       "stream": "stdout",
       "text": [
        "                                                                                \n"
       ]
      },
      {
       "output_type": "stream",
       "stream": "stdout",
       "text": [
        "[ubuntu@ec2-54-225-5-82.compute-1.amazonaws.com] out: "
       ]
      },
      {
       "output_type": "stream",
       "stream": "stdout",
       "text": [
        "99% [Connecting to security.ubuntu.com (91.189.91.14)]\n"
       ]
      },
      {
       "output_type": "stream",
       "stream": "stdout",
       "text": [
        "[ubuntu@ec2-54-225-5-82.compute-1.amazonaws.com] out: "
       ]
      },
      {
       "output_type": "stream",
       "stream": "stdout",
       "text": [
        "                                                      \n"
       ]
      },
      {
       "output_type": "stream",
       "stream": "stdout",
       "text": [
        "[ubuntu@ec2-54-225-5-82.compute-1.amazonaws.com] out: "
       ]
      },
      {
       "output_type": "stream",
       "stream": "stdout",
       "text": [
        "Get: 2 http://us-east-1.ec2.archive.ubuntu.com precise-updates Release.gpg [198 B]\n"
       ]
      },
      {
       "output_type": "stream",
       "stream": "stdout",
       "text": [
        "[ubuntu@ec2-54-225-5-82.compute-1.amazonaws.com] out: "
       ]
      },
      {
       "output_type": "stream",
       "stream": "stdout",
       "text": [
        "\n"
       ]
      },
      {
       "output_type": "stream",
       "stream": "stdout",
       "text": [
        "[ubuntu@ec2-54-225-5-82.compute-1.amazonaws.com] out: "
       ]
      },
      {
       "output_type": "stream",
       "stream": "stdout",
       "text": [
        "\n"
       ]
      },
      {
       "output_type": "stream",
       "stream": "stdout",
       "text": [
        "[ubuntu@ec2-54-225-5-82.compute-1.amazonaws.com] out: "
       ]
      },
      {
       "output_type": "stream",
       "stream": "stdout",
       "text": [
        "50% [2 Release.gpg 0 B/198 B 0%] [Connecting to security.ubuntu.com (91.189.91.1\n"
       ]
      },
      {
       "output_type": "stream",
       "stream": "stdout",
       "text": [
        "[ubuntu@ec2-54-225-5-82.compute-1.amazonaws.com] out: "
       ]
      },
      {
       "output_type": "stream",
       "stream": "stdout",
       "text": [
        "                                                                                \n"
       ]
      },
      {
       "output_type": "stream",
       "stream": "stdout",
       "text": [
        "[ubuntu@ec2-54-225-5-82.compute-1.amazonaws.com] out: "
       ]
      },
      {
       "output_type": "stream",
       "stream": "stdout",
       "text": [
        "99% [Connecting to security.ubuntu.com (91.189.91.14)]\n"
       ]
      },
      {
       "output_type": "stream",
       "stream": "stdout",
       "text": [
        "[ubuntu@ec2-54-225-5-82.compute-1.amazonaws.com] out: "
       ]
      },
      {
       "output_type": "stream",
       "stream": "stdout",
       "text": [
        "                                                      \n"
       ]
      },
      {
       "output_type": "stream",
       "stream": "stdout",
       "text": [
        "[ubuntu@ec2-54-225-5-82.compute-1.amazonaws.com] out: "
       ]
      },
      {
       "output_type": "stream",
       "stream": "stdout",
       "text": [
        "Get: 3 http://us-east-1.ec2.archive.ubuntu.com precise Release [49.6 kB]\n"
       ]
      },
      {
       "output_type": "stream",
       "stream": "stdout",
       "text": [
        "[ubuntu@ec2-54-225-5-82.compute-1.amazonaws.com] out: "
       ]
      },
      {
       "output_type": "stream",
       "stream": "stdout",
       "text": [
        "\n"
       ]
      },
      {
       "output_type": "stream",
       "stream": "stdout",
       "text": [
        "[ubuntu@ec2-54-225-5-82.compute-1.amazonaws.com] out: "
       ]
      },
      {
       "output_type": "stream",
       "stream": "stdout",
       "text": [
        "\n"
       ]
      },
      {
       "output_type": "stream",
       "stream": "stdout",
       "text": [
        "[ubuntu@ec2-54-225-5-82.compute-1.amazonaws.com] out: "
       ]
      },
      {
       "output_type": "stream",
       "stream": "stdout",
       "text": [
        "1% [3 Release 0 B/49.6 kB 0%] [Waiting for headers]"
       ]
      },
      {
       "output_type": "stream",
       "stream": "stdout",
       "text": [
        "\n"
       ]
      },
      {
       "output_type": "stream",
       "stream": "stdout",
       "text": [
        "[ubuntu@ec2-54-225-5-82.compute-1.amazonaws.com] out: "
       ]
      },
      {
       "output_type": "stream",
       "stream": "stdout",
       "text": [
        "                                                   \n"
       ]
      },
      {
       "output_type": "stream",
       "stream": "stdout",
       "text": [
        "[ubuntu@ec2-54-225-5-82.compute-1.amazonaws.com] out: "
       ]
      },
      {
       "output_type": "stream",
       "stream": "stdout",
       "text": [
        "100% [Waiting for headers]\n"
       ]
      },
      {
       "output_type": "stream",
       "stream": "stdout",
       "text": [
        "[ubuntu@ec2-54-225-5-82.compute-1.amazonaws.com] out: "
       ]
      },
      {
       "output_type": "stream",
       "stream": "stdout",
       "text": [
        "                          \n"
       ]
      },
      {
       "output_type": "stream",
       "stream": "stdout",
       "text": [
        "[ubuntu@ec2-54-225-5-82.compute-1.amazonaws.com] out: "
       ]
      },
      {
       "output_type": "stream",
       "stream": "stdout",
       "text": [
        "100% [Waiting for headers] [Waiting for headers]\n"
       ]
      },
      {
       "output_type": "stream",
       "stream": "stdout",
       "text": [
        "[ubuntu@ec2-54-225-5-82.compute-1.amazonaws.com] out: "
       ]
      },
      {
       "output_type": "stream",
       "stream": "stdout",
       "text": [
        "                                                \n"
       ]
      },
      {
       "output_type": "stream",
       "stream": "stdout",
       "text": [
        "[ubuntu@ec2-54-225-5-82.compute-1.amazonaws.com] out: "
       ]
      },
      {
       "output_type": "stream",
       "stream": "stdout",
       "text": [
        "Get: 4 http://security.ubuntu.com precise-security Release.gpg [198 B]\n"
       ]
      },
      {
       "output_type": "stream",
       "stream": "stdout",
       "text": [
        "[ubuntu@ec2-54-225-5-82.compute-1.amazonaws.com] out: "
       ]
      },
      {
       "output_type": "stream",
       "stream": "stdout",
       "text": [
        "\n"
       ]
      },
      {
       "output_type": "stream",
       "stream": "stdout",
       "text": [
        "[ubuntu@ec2-54-225-5-82.compute-1.amazonaws.com] out: "
       ]
      },
      {
       "output_type": "stream",
       "stream": "stdout",
       "text": [
        "\n"
       ]
      },
      {
       "output_type": "stream",
       "stream": "stdout",
       "text": [
        "[ubuntu@ec2-54-225-5-82.compute-1.amazonaws.com] out: "
       ]
      },
      {
       "output_type": "stream",
       "stream": "stdout",
       "text": [
        "100% [Waiting for headers]\n"
       ]
      },
      {
       "output_type": "stream",
       "stream": "stdout",
       "text": [
        "[ubuntu@ec2-54-225-5-82.compute-1.amazonaws.com] out: "
       ]
      },
      {
       "output_type": "stream",
       "stream": "stdout",
       "text": [
        "                          \n"
       ]
      },
      {
       "output_type": "stream",
       "stream": "stdout",
       "text": [
        "[ubuntu@ec2-54-225-5-82.compute-1.amazonaws.com] out: "
       ]
      },
      {
       "output_type": "stream",
       "stream": "stdout",
       "text": [
        "Get: 5 http://us-east-1.ec2.archive.ubuntu.com precise-updates Release [49.6 kB]\n"
       ]
      },
      {
       "output_type": "stream",
       "stream": "stdout",
       "text": [
        "[ubuntu@ec2-54-225-5-82.compute-1.amazonaws.com] out: "
       ]
      },
      {
       "output_type": "stream",
       "stream": "stdout",
       "text": [
        "\n"
       ]
      },
      {
       "output_type": "stream",
       "stream": "stdout",
       "text": [
        "[ubuntu@ec2-54-225-5-82.compute-1.amazonaws.com] out: "
       ]
      },
      {
       "output_type": "stream",
       "stream": "stdout",
       "text": [
        "\n"
       ]
      },
      {
       "output_type": "stream",
       "stream": "stdout",
       "text": [
        "[ubuntu@ec2-54-225-5-82.compute-1.amazonaws.com] out: "
       ]
      },
      {
       "output_type": "stream",
       "stream": "stdout",
       "text": [
        "54% [5 Release 4,033 B/49.6 kB 8%] [Waiting for headers]\n"
       ]
      },
      {
       "output_type": "stream",
       "stream": "stdout",
       "text": [
        "[ubuntu@ec2-54-225-5-82.compute-1.amazonaws.com] out: "
       ]
      },
      {
       "output_type": "stream",
       "stream": "stdout",
       "text": [
        "                                                        \n"
       ]
      },
      {
       "output_type": "stream",
       "stream": "stdout",
       "text": [
        "[ubuntu@ec2-54-225-5-82.compute-1.amazonaws.com] out: "
       ]
      },
      {
       "output_type": "stream",
       "stream": "stdout",
       "text": [
        "100% [Waiting for headers]\n"
       ]
      },
      {
       "output_type": "stream",
       "stream": "stdout",
       "text": [
        "[ubuntu@ec2-54-225-5-82.compute-1.amazonaws.com] out: "
       ]
      },
      {
       "output_type": "stream",
       "stream": "stdout",
       "text": [
        "                          \n"
       ]
      },
      {
       "output_type": "stream",
       "stream": "stdout",
       "text": [
        "[ubuntu@ec2-54-225-5-82.compute-1.amazonaws.com] out: "
       ]
      },
      {
       "output_type": "stream",
       "stream": "stdout",
       "text": [
        "100% [Waiting for headers] [Waiting for headers]\n"
       ]
      },
      {
       "output_type": "stream",
       "stream": "stdout",
       "text": [
        "[ubuntu@ec2-54-225-5-82.compute-1.amazonaws.com] out: "
       ]
      },
      {
       "output_type": "stream",
       "stream": "stdout",
       "text": [
        "                                                \n"
       ]
      },
      {
       "output_type": "stream",
       "stream": "stdout",
       "text": [
        "[ubuntu@ec2-54-225-5-82.compute-1.amazonaws.com] out: "
       ]
      },
      {
       "output_type": "stream",
       "stream": "stdout",
       "text": [
        "Get: 6 http://security.ubuntu.com precise-security Release [49.6 kB]\n"
       ]
      },
      {
       "output_type": "stream",
       "stream": "stdout",
       "text": [
        "[ubuntu@ec2-54-225-5-82.compute-1.amazonaws.com] out: "
       ]
      },
      {
       "output_type": "stream",
       "stream": "stdout",
       "text": [
        "\n"
       ]
      },
      {
       "output_type": "stream",
       "stream": "stdout",
       "text": [
        "[ubuntu@ec2-54-225-5-82.compute-1.amazonaws.com] out: "
       ]
      },
      {
       "output_type": "stream",
       "stream": "stdout",
       "text": [
        "\n"
       ]
      },
      {
       "output_type": "stream",
       "stream": "stdout",
       "text": [
        "[ubuntu@ec2-54-225-5-82.compute-1.amazonaws.com] out: "
       ]
      },
      {
       "output_type": "stream",
       "stream": "stdout",
       "text": [
        "70% [Waiting for headers] [6 Release 5,428 B/49.6 kB 11%]\n"
       ]
      },
      {
       "output_type": "stream",
       "stream": "stdout",
       "text": [
        "[ubuntu@ec2-54-225-5-82.compute-1.amazonaws.com] out: "
       ]
      },
      {
       "output_type": "stream",
       "stream": "stdout",
       "text": [
        "                                                         \n"
       ]
      },
      {
       "output_type": "stream",
       "stream": "stdout",
       "text": [
        "[ubuntu@ec2-54-225-5-82.compute-1.amazonaws.com] out: "
       ]
      },
      {
       "output_type": "stream",
       "stream": "stdout",
       "text": [
        "Get: 7 http://us-east-1.ec2.archive.ubuntu.com precise/main Sources [934 kB]\n"
       ]
      },
      {
       "output_type": "stream",
       "stream": "stdout",
       "text": [
        "[ubuntu@ec2-54-225-5-82.compute-1.amazonaws.com] out: "
       ]
      },
      {
       "output_type": "stream",
       "stream": "stdout",
       "text": [
        "\n"
       ]
      },
      {
       "output_type": "stream",
       "stream": "stdout",
       "text": [
        "[ubuntu@ec2-54-225-5-82.compute-1.amazonaws.com] out: "
       ]
      },
      {
       "output_type": "stream",
       "stream": "stdout",
       "text": [
        "\n"
       ]
      },
      {
       "output_type": "stream",
       "stream": "stdout",
       "text": [
        "[ubuntu@ec2-54-225-5-82.compute-1.amazonaws.com] out: "
       ]
      },
      {
       "output_type": "stream",
       "stream": "stdout",
       "text": [
        "13% [7 Sources 24.9 kB/934 kB 3%] [6 Release 14.1 kB/49.6 kB 28%]"
       ]
      },
      {
       "output_type": "stream",
       "stream": "stdout",
       "text": [
        "\n"
       ]
      },
      {
       "output_type": "stream",
       "stream": "stdout",
       "text": [
        "[ubuntu@ec2-54-225-5-82.compute-1.amazonaws.com] out: "
       ]
      },
      {
       "output_type": "stream",
       "stream": "stdout",
       "text": [
        "                                                                 \n"
       ]
      },
      {
       "output_type": "stream",
       "stream": "stdout",
       "text": [
        "[ubuntu@ec2-54-225-5-82.compute-1.amazonaws.com] out: "
       ]
      },
      {
       "output_type": "stream",
       "stream": "stdout",
       "text": [
        "99% [6 Release 35.8 kB/49.6 kB 72%]\n"
       ]
      },
      {
       "output_type": "stream",
       "stream": "stdout",
       "text": [
        "[ubuntu@ec2-54-225-5-82.compute-1.amazonaws.com] out: "
       ]
      },
      {
       "output_type": "stream",
       "stream": "stdout",
       "text": [
        "                                   \n"
       ]
      },
      {
       "output_type": "stream",
       "stream": "stdout",
       "text": [
        "[ubuntu@ec2-54-225-5-82.compute-1.amazonaws.com] out: "
       ]
      },
      {
       "output_type": "stream",
       "stream": "stdout",
       "text": [
        "Get: 8 http://us-east-1.ec2.archive.ubuntu.com precise/universe Sources [5,019 kB]\n"
       ]
      },
      {
       "output_type": "stream",
       "stream": "stdout",
       "text": [
        "[ubuntu@ec2-54-225-5-82.compute-1.amazonaws.com] out: "
       ]
      },
      {
       "output_type": "stream",
       "stream": "stdout",
       "text": [
        "\n"
       ]
      },
      {
       "output_type": "stream",
       "stream": "stdout",
       "text": [
        "[ubuntu@ec2-54-225-5-82.compute-1.amazonaws.com] out: "
       ]
      },
      {
       "output_type": "stream",
       "stream": "stdout",
       "text": [
        "\n"
       ]
      },
      {
       "output_type": "stream",
       "stream": "stdout",
       "text": [
        "[ubuntu@ec2-54-225-5-82.compute-1.amazonaws.com] out: "
       ]
      },
      {
       "output_type": "stream",
       "stream": "stdout",
       "text": [
        "19% [8 Sources 65.6 kB/5,019 kB 1%] [6 Release 35.8 kB/49.6 kB 72%]\n"
       ]
      },
      {
       "output_type": "stream",
       "stream": "stdout",
       "text": [
        "[ubuntu@ec2-54-225-5-82.compute-1.amazonaws.com] out: "
       ]
      },
      {
       "output_type": "stream",
       "stream": "stdout",
       "text": [
        "                                                                   \n"
       ]
      },
      {
       "output_type": "stream",
       "stream": "stdout",
       "text": [
        "[ubuntu@ec2-54-225-5-82.compute-1.amazonaws.com] out: "
       ]
      },
      {
       "output_type": "stream",
       "stream": "stdout",
       "text": [
        "20% [7 Sources bzip2] [8 Sources 140 kB/5,019 kB 3%]\n"
       ]
      },
      {
       "output_type": "stream",
       "stream": "stdout",
       "text": [
        "[ubuntu@ec2-54-225-5-82.compute-1.amazonaws.com] out: "
       ]
      },
      {
       "output_type": "stream",
       "stream": "stdout",
       "text": [
        "                                                    \n"
       ]
      },
      {
       "output_type": "stream",
       "stream": "stdout",
       "text": [
        "[ubuntu@ec2-54-225-5-82.compute-1.amazonaws.com] out: "
       ]
      },
      {
       "output_type": "stream",
       "stream": "stdout",
       "text": [
        "22% [7 Sources bzip2] [8 Sources 239 kB/5,019 kB 5%]"
       ]
      },
      {
       "output_type": "stream",
       "stream": "stdout",
       "text": [
        "\n"
       ]
      },
      {
       "output_type": "stream",
       "stream": "stdout",
       "text": [
        "[ubuntu@ec2-54-225-5-82.compute-1.amazonaws.com] out: "
       ]
      },
      {
       "output_type": "stream",
       "stream": "stdout",
       "text": [
        "                                                    \n"
       ]
      },
      {
       "output_type": "stream",
       "stream": "stdout",
       "text": [
        "[ubuntu@ec2-54-225-5-82.compute-1.amazonaws.com] out: "
       ]
      },
      {
       "output_type": "stream",
       "stream": "stdout",
       "text": [
        "Get: 9 http://security.ubuntu.com precise-security/main Sources [71.8 kB]\n"
       ]
      },
      {
       "output_type": "stream",
       "stream": "stdout",
       "text": [
        "[ubuntu@ec2-54-225-5-82.compute-1.amazonaws.com] out: "
       ]
      },
      {
       "output_type": "stream",
       "stream": "stdout",
       "text": [
        "\n"
       ]
      },
      {
       "output_type": "stream",
       "stream": "stdout",
       "text": [
        "[ubuntu@ec2-54-225-5-82.compute-1.amazonaws.com] out: "
       ]
      },
      {
       "output_type": "stream",
       "stream": "stdout",
       "text": [
        "\n"
       ]
      },
      {
       "output_type": "stream",
       "stream": "stdout",
       "text": [
        "[ubuntu@ec2-54-225-5-82.compute-1.amazonaws.com] out: "
       ]
      },
      {
       "output_type": "stream",
       "stream": "stdout",
       "text": [
        "27% [7 Sources bzip2] [8 Sources 544 kB/5,019 kB 11%] [9 Sources 11.2 kB/71.8 kB"
       ]
      },
      {
       "output_type": "stream",
       "stream": "stdout",
       "text": [
        "\n"
       ]
      },
      {
       "output_type": "stream",
       "stream": "stdout",
       "text": [
        "[ubuntu@ec2-54-225-5-82.compute-1.amazonaws.com] out: "
       ]
      },
      {
       "output_type": "stream",
       "stream": "stdout",
       "text": [
        "                                                                                \n"
       ]
      },
      {
       "output_type": "stream",
       "stream": "stdout",
       "text": [
        "[ubuntu@ec2-54-225-5-82.compute-1.amazonaws.com] out: "
       ]
      },
      {
       "output_type": "stream",
       "stream": "stdout",
       "text": [
        "51% [7 Sources bzip2] [8 Sources 1,993 kB/5,019 kB 40%]"
       ]
      },
      {
       "output_type": "stream",
       "stream": "stdout",
       "text": [
        "\n"
       ]
      },
      {
       "output_type": "stream",
       "stream": "stdout",
       "text": [
        "[ubuntu@ec2-54-225-5-82.compute-1.amazonaws.com] out: "
       ]
      },
      {
       "output_type": "stream",
       "stream": "stdout",
       "text": [
        "                                                       \n"
       ]
      },
      {
       "output_type": "stream",
       "stream": "stdout",
       "text": [
        "[ubuntu@ec2-54-225-5-82.compute-1.amazonaws.com] out: "
       ]
      },
      {
       "output_type": "stream",
       "stream": "stdout",
       "text": [
        "Get: 10 http://security.ubuntu.com precise-security/universe Sources [24.3 kB]\n"
       ]
      },
      {
       "output_type": "stream",
       "stream": "stdout",
       "text": [
        "[ubuntu@ec2-54-225-5-82.compute-1.amazonaws.com] out: "
       ]
      },
      {
       "output_type": "stream",
       "stream": "stdout",
       "text": [
        "\n"
       ]
      },
      {
       "output_type": "stream",
       "stream": "stdout",
       "text": [
        "[ubuntu@ec2-54-225-5-82.compute-1.amazonaws.com] out: "
       ]
      },
      {
       "output_type": "stream",
       "stream": "stdout",
       "text": [
        "\n"
       ]
      },
      {
       "output_type": "stream",
       "stream": "stdout",
       "text": [
        "[ubuntu@ec2-54-225-5-82.compute-1.amazonaws.com] out: "
       ]
      },
      {
       "output_type": "stream",
       "stream": "stdout",
       "text": [
        "63% [7 Sources bzip2] [8 Sources 2,766 kB/5,019 kB 55%] [10 Sources 5,393 B/24.3\n"
       ]
      },
      {
       "output_type": "stream",
       "stream": "stdout",
       "text": [
        "[ubuntu@ec2-54-225-5-82.compute-1.amazonaws.com] out: "
       ]
      },
      {
       "output_type": "stream",
       "stream": "stdout",
       "text": [
        "                                                                                \n"
       ]
      },
      {
       "output_type": "stream",
       "stream": "stdout",
       "text": [
        "[ubuntu@ec2-54-225-5-82.compute-1.amazonaws.com] out: "
       ]
      },
      {
       "output_type": "stream",
       "stream": "stdout",
       "text": [
        "64% [7 Sources bzip2] [8 Sources 2,766 kB/5,019 kB 55%] [Waiting for headers]"
       ]
      },
      {
       "output_type": "stream",
       "stream": "stdout",
       "text": [
        "\n"
       ]
      },
      {
       "output_type": "stream",
       "stream": "stdout",
       "text": [
        "[ubuntu@ec2-54-225-5-82.compute-1.amazonaws.com] out: "
       ]
      },
      {
       "output_type": "stream",
       "stream": "stdout",
       "text": [
        "                                                                             \n"
       ]
      },
      {
       "output_type": "stream",
       "stream": "stdout",
       "text": [
        "[ubuntu@ec2-54-225-5-82.compute-1.amazonaws.com] out: "
       ]
      },
      {
       "output_type": "stream",
       "stream": "stdout",
       "text": [
        "Get: 11 http://security.ubuntu.com precise-security/main amd64 Packages [262 kB]\n"
       ]
      },
      {
       "output_type": "stream",
       "stream": "stdout",
       "text": [
        "[ubuntu@ec2-54-225-5-82.compute-1.amazonaws.com] out: "
       ]
      },
      {
       "output_type": "stream",
       "stream": "stdout",
       "text": [
        "\n"
       ]
      },
      {
       "output_type": "stream",
       "stream": "stdout",
       "text": [
        "[ubuntu@ec2-54-225-5-82.compute-1.amazonaws.com] out: "
       ]
      },
      {
       "output_type": "stream",
       "stream": "stdout",
       "text": [
        "\n"
       ]
      },
      {
       "output_type": "stream",
       "stream": "stdout",
       "text": [
        "[ubuntu@ec2-54-225-5-82.compute-1.amazonaws.com] out: "
       ]
      },
      {
       "output_type": "stream",
       "stream": "stdout",
       "text": [
        "75% [7 Sources bzip2] [8 Sources 3,640 kB/5,019 kB 73%] [11 Packages 2,495 B/262"
       ]
      },
      {
       "output_type": "stream",
       "stream": "stdout",
       "text": [
        "\n"
       ]
      },
      {
       "output_type": "stream",
       "stream": "stdout",
       "text": [
        "[ubuntu@ec2-54-225-5-82.compute-1.amazonaws.com] out: "
       ]
      },
      {
       "output_type": "stream",
       "stream": "stdout",
       "text": [
        "                                                                                \n"
       ]
      },
      {
       "output_type": "stream",
       "stream": "stdout",
       "text": [
        "[ubuntu@ec2-54-225-5-82.compute-1.amazonaws.com] out: "
       ]
      },
      {
       "output_type": "stream",
       "stream": "stdout",
       "text": [
        "98% [7 Sources bzip2] [11 Packages 115 kB/262 kB 44%]"
       ]
      },
      {
       "output_type": "stream",
       "stream": "stdout",
       "text": [
        "\n"
       ]
      },
      {
       "output_type": "stream",
       "stream": "stdout",
       "text": [
        "[ubuntu@ec2-54-225-5-82.compute-1.amazonaws.com] out: "
       ]
      },
      {
       "output_type": "stream",
       "stream": "stdout",
       "text": [
        "                                                     \n"
       ]
      },
      {
       "output_type": "stream",
       "stream": "stdout",
       "text": [
        "[ubuntu@ec2-54-225-5-82.compute-1.amazonaws.com] out: "
       ]
      },
      {
       "output_type": "stream",
       "stream": "stdout",
       "text": [
        "Get: 12 http://us-east-1.ec2.archive.ubuntu.com precise/main amd64 Packages [1,273 kB]\n"
       ]
      },
      {
       "output_type": "stream",
       "stream": "stdout",
       "text": [
        "[ubuntu@ec2-54-225-5-82.compute-1.amazonaws.com] out: "
       ]
      },
      {
       "output_type": "stream",
       "stream": "stdout",
       "text": [
        "\n"
       ]
      },
      {
       "output_type": "stream",
       "stream": "stdout",
       "text": [
        "[ubuntu@ec2-54-225-5-82.compute-1.amazonaws.com] out: "
       ]
      },
      {
       "output_type": "stream",
       "stream": "stdout",
       "text": [
        "\n"
       ]
      },
      {
       "output_type": "stream",
       "stream": "stdout",
       "text": [
        "[ubuntu@ec2-54-225-5-82.compute-1.amazonaws.com] out: "
       ]
      },
      {
       "output_type": "stream",
       "stream": "stdout",
       "text": [
        "82% [7 Sources bzip2] [12 Packages 35.6 kB/1,273 kB 3%] [11 Packages 115 kB/262 \n"
       ]
      },
      {
       "output_type": "stream",
       "stream": "stdout",
       "text": [
        "[ubuntu@ec2-54-225-5-82.compute-1.amazonaws.com] out: "
       ]
      },
      {
       "output_type": "stream",
       "stream": "stdout",
       "text": [
        "                                                                                \n"
       ]
      },
      {
       "output_type": "stream",
       "stream": "stdout",
       "text": [
        "[ubuntu@ec2-54-225-5-82.compute-1.amazonaws.com] out: "
       ]
      },
      {
       "output_type": "stream",
       "stream": "stdout",
       "text": [
        "100% [7 Sources bzip2] [11 Packages 231 kB/262 kB 88%]\n"
       ]
      },
      {
       "output_type": "stream",
       "stream": "stdout",
       "text": [
        "[ubuntu@ec2-54-225-5-82.compute-1.amazonaws.com] out: "
       ]
      },
      {
       "output_type": "stream",
       "stream": "stdout",
       "text": [
        "                                                      \n"
       ]
      },
      {
       "output_type": "stream",
       "stream": "stdout",
       "text": [
        "[ubuntu@ec2-54-225-5-82.compute-1.amazonaws.com] out: "
       ]
      },
      {
       "output_type": "stream",
       "stream": "stdout",
       "text": [
        "100% [Waiting for headers] [11 Packages 231 kB/262 kB 88%]\n"
       ]
      },
      {
       "output_type": "stream",
       "stream": "stdout",
       "text": [
        "[ubuntu@ec2-54-225-5-82.compute-1.amazonaws.com] out: "
       ]
      },
      {
       "output_type": "stream",
       "stream": "stdout",
       "text": [
        "                                                          \n"
       ]
      },
      {
       "output_type": "stream",
       "stream": "stdout",
       "text": [
        "[ubuntu@ec2-54-225-5-82.compute-1.amazonaws.com] out: "
       ]
      },
      {
       "output_type": "stream",
       "stream": "stdout",
       "text": [
        "Get: 13 http://us-east-1.ec2.archive.ubuntu.com precise/universe amd64 Packages [4,786 kB]\n"
       ]
      },
      {
       "output_type": "stream",
       "stream": "stdout",
       "text": [
        "[ubuntu@ec2-54-225-5-82.compute-1.amazonaws.com] out: "
       ]
      },
      {
       "output_type": "stream",
       "stream": "stdout",
       "text": [
        "\n"
       ]
      },
      {
       "output_type": "stream",
       "stream": "stdout",
       "text": [
        "[ubuntu@ec2-54-225-5-82.compute-1.amazonaws.com] out: "
       ]
      },
      {
       "output_type": "stream",
       "stream": "stdout",
       "text": [
        "\n"
       ]
      },
      {
       "output_type": "stream",
       "stream": "stdout",
       "text": [
        "[ubuntu@ec2-54-225-5-82.compute-1.amazonaws.com] out: "
       ]
      },
      {
       "output_type": "stream",
       "stream": "stdout",
       "text": [
        "62% [9 Sources bzip2] [13 Packages 4,022 B/4,786 kB 0%] [11 Packages 239 kB/262 \n"
       ]
      },
      {
       "output_type": "stream",
       "stream": "stdout",
       "text": [
        "[ubuntu@ec2-54-225-5-82.compute-1.amazonaws.com] out: "
       ]
      },
      {
       "output_type": "stream",
       "stream": "stdout",
       "text": [
        "                                                                                \n"
       ]
      },
      {
       "output_type": "stream",
       "stream": "stdout",
       "text": [
        "[ubuntu@ec2-54-225-5-82.compute-1.amazonaws.com] out: "
       ]
      },
      {
       "output_type": "stream",
       "stream": "stdout",
       "text": [
        "62% [9 Sources bzip2] [13 Packages 37.8 kB/4,786 kB 1%] [Waiting for headers]\n"
       ]
      },
      {
       "output_type": "stream",
       "stream": "stdout",
       "text": [
        "[ubuntu@ec2-54-225-5-82.compute-1.amazonaws.com] out: "
       ]
      },
      {
       "output_type": "stream",
       "stream": "stdout",
       "text": [
        "                                                                             \n"
       ]
      },
      {
       "output_type": "stream",
       "stream": "stdout",
       "text": [
        "[ubuntu@ec2-54-225-5-82.compute-1.amazonaws.com] out: "
       ]
      },
      {
       "output_type": "stream",
       "stream": "stdout",
       "text": [
        "63% [13 Packages 97.7 kB/4,786 kB 2%] [Waiting for headers]\n"
       ]
      },
      {
       "output_type": "stream",
       "stream": "stdout",
       "text": [
        "[ubuntu@ec2-54-225-5-82.compute-1.amazonaws.com] out: "
       ]
      },
      {
       "output_type": "stream",
       "stream": "stdout",
       "text": [
        "                                                           \n"
       ]
      },
      {
       "output_type": "stream",
       "stream": "stdout",
       "text": [
        "[ubuntu@ec2-54-225-5-82.compute-1.amazonaws.com] out: "
       ]
      },
      {
       "output_type": "stream",
       "stream": "stdout",
       "text": [
        "63% [13 Packages 160 kB/4,786 kB 3%] [Waiting for headers]\n"
       ]
      },
      {
       "output_type": "stream",
       "stream": "stdout",
       "text": [
        "[ubuntu@ec2-54-225-5-82.compute-1.amazonaws.com] out: "
       ]
      },
      {
       "output_type": "stream",
       "stream": "stdout",
       "text": [
        "                                                          \n"
       ]
      },
      {
       "output_type": "stream",
       "stream": "stdout",
       "text": [
        "[ubuntu@ec2-54-225-5-82.compute-1.amazonaws.com] out: "
       ]
      },
      {
       "output_type": "stream",
       "stream": "stdout",
       "text": [
        "Get: 14 http://security.ubuntu.com precise-security/universe amd64 Packages [73.0 kB]\n"
       ]
      },
      {
       "output_type": "stream",
       "stream": "stdout",
       "text": [
        "[ubuntu@ec2-54-225-5-82.compute-1.amazonaws.com] out: "
       ]
      },
      {
       "output_type": "stream",
       "stream": "stdout",
       "text": [
        "\n"
       ]
      },
      {
       "output_type": "stream",
       "stream": "stdout",
       "text": [
        "[ubuntu@ec2-54-225-5-82.compute-1.amazonaws.com] out: "
       ]
      },
      {
       "output_type": "stream",
       "stream": "stdout",
       "text": [
        "\n"
       ]
      },
      {
       "output_type": "stream",
       "stream": "stdout",
       "text": [
        "[ubuntu@ec2-54-225-5-82.compute-1.amazonaws.com] out: "
       ]
      },
      {
       "output_type": "stream",
       "stream": "stdout",
       "text": [
        "65% [8 Sources bzip2] [13 Packages 393 kB/4,786 kB 8%] [14 Packages 35.8 kB/73.0\n"
       ]
      },
      {
       "output_type": "stream",
       "stream": "stdout",
       "text": [
        "[ubuntu@ec2-54-225-5-82.compute-1.amazonaws.com] out: "
       ]
      },
      {
       "output_type": "stream",
       "stream": "stdout",
       "text": [
        "                                                                                \n"
       ]
      },
      {
       "output_type": "stream",
       "stream": "stdout",
       "text": [
        "[ubuntu@ec2-54-225-5-82.compute-1.amazonaws.com] out: "
       ]
      },
      {
       "output_type": "stream",
       "stream": "stdout",
       "text": [
        "71% [8 Sources bzip2] [13 Packages 1,130 kB/4,786 kB 24%] [Waiting for headers]"
       ]
      },
      {
       "output_type": "stream",
       "stream": "stdout",
       "text": [
        "\n"
       ]
      },
      {
       "output_type": "stream",
       "stream": "stdout",
       "text": [
        "[ubuntu@ec2-54-225-5-82.compute-1.amazonaws.com] out: "
       ]
      },
      {
       "output_type": "stream",
       "stream": "stdout",
       "text": [
        "                                                                               \n"
       ]
      },
      {
       "output_type": "stream",
       "stream": "stdout",
       "text": [
        "[ubuntu@ec2-54-225-5-82.compute-1.amazonaws.com] out: "
       ]
      },
      {
       "output_type": "stream",
       "stream": "stdout",
       "text": [
        "Get: 15 http://security.ubuntu.com precise-security/main i386 Packages [280 kB]\n"
       ]
      },
      {
       "output_type": "stream",
       "stream": "stdout",
       "text": [
        "[ubuntu@ec2-54-225-5-82.compute-1.amazonaws.com] out: "
       ]
      },
      {
       "output_type": "stream",
       "stream": "stdout",
       "text": [
        "\n"
       ]
      },
      {
       "output_type": "stream",
       "stream": "stdout",
       "text": [
        "[ubuntu@ec2-54-225-5-82.compute-1.amazonaws.com] out: "
       ]
      },
      {
       "output_type": "stream",
       "stream": "stdout",
       "text": [
        "\n"
       ]
      },
      {
       "output_type": "stream",
       "stream": "stdout",
       "text": [
        "[ubuntu@ec2-54-225-5-82.compute-1.amazonaws.com] out: "
       ]
      },
      {
       "output_type": "stream",
       "stream": "stdout",
       "text": [
        "77% [8 Sources bzip2] [13 Packages 2,110 kB/4,786 kB 44%] [15 Packages 28.6 kB/2"
       ]
      },
      {
       "output_type": "stream",
       "stream": "stdout",
       "text": [
        "\n"
       ]
      },
      {
       "output_type": "stream",
       "stream": "stdout",
       "text": [
        "[ubuntu@ec2-54-225-5-82.compute-1.amazonaws.com] out: "
       ]
      },
      {
       "output_type": "stream",
       "stream": "stdout",
       "text": [
        "                                                                                \n"
       ]
      },
      {
       "output_type": "stream",
       "stream": "stdout",
       "text": [
        "[ubuntu@ec2-54-225-5-82.compute-1.amazonaws.com] out: "
       ]
      },
      {
       "output_type": "stream",
       "stream": "stdout",
       "text": [
        "98% [8 Sources bzip2] [15 Packages 76.3 kB/280 kB 27%]"
       ]
      },
      {
       "output_type": "stream",
       "stream": "stdout",
       "text": [
        "\n"
       ]
      },
      {
       "output_type": "stream",
       "stream": "stdout",
       "text": [
        "[ubuntu@ec2-54-225-5-82.compute-1.amazonaws.com] out: "
       ]
      },
      {
       "output_type": "stream",
       "stream": "stdout",
       "text": [
        "                                                      \n"
       ]
      },
      {
       "output_type": "stream",
       "stream": "stdout",
       "text": [
        "[ubuntu@ec2-54-225-5-82.compute-1.amazonaws.com] out: "
       ]
      },
      {
       "output_type": "stream",
       "stream": "stdout",
       "text": [
        "Get: 16 http://us-east-1.ec2.archive.ubuntu.com precise/main i386 Packages [1,274 kB]\n"
       ]
      },
      {
       "output_type": "stream",
       "stream": "stdout",
       "text": [
        "[ubuntu@ec2-54-225-5-82.compute-1.amazonaws.com] out: "
       ]
      },
      {
       "output_type": "stream",
       "stream": "stdout",
       "text": [
        "\n"
       ]
      },
      {
       "output_type": "stream",
       "stream": "stdout",
       "text": [
        "[ubuntu@ec2-54-225-5-82.compute-1.amazonaws.com] out: "
       ]
      },
      {
       "output_type": "stream",
       "stream": "stdout",
       "text": [
        "\n"
       ]
      },
      {
       "output_type": "stream",
       "stream": "stdout",
       "text": [
        "[ubuntu@ec2-54-225-5-82.compute-1.amazonaws.com] out: "
       ]
      },
      {
       "output_type": "stream",
       "stream": "stdout",
       "text": [
        "90% [8 Sources bzip2] [16 Packages 1,102 B/1,274 kB 0%] [15 Packages 76.3 kB/280"
       ]
      },
      {
       "output_type": "stream",
       "stream": "stdout",
       "text": [
        "\n"
       ]
      },
      {
       "output_type": "stream",
       "stream": "stdout",
       "text": [
        "[ubuntu@ec2-54-225-5-82.compute-1.amazonaws.com] out: "
       ]
      },
      {
       "output_type": "stream",
       "stream": "stdout",
       "text": [
        "                                                                                \n"
       ]
      },
      {
       "output_type": "stream",
       "stream": "stdout",
       "text": [
        "[ubuntu@ec2-54-225-5-82.compute-1.amazonaws.com] out: "
       ]
      },
      {
       "output_type": "stream",
       "stream": "stdout",
       "text": [
        "99% [8 Sources bzip2] [15 Packages 186 kB/280 kB 67%]"
       ]
      },
      {
       "output_type": "stream",
       "stream": "stdout",
       "text": [
        "\n"
       ]
      },
      {
       "output_type": "stream",
       "stream": "stdout",
       "text": [
        "[ubuntu@ec2-54-225-5-82.compute-1.amazonaws.com] out: "
       ]
      },
      {
       "output_type": "stream",
       "stream": "stdout",
       "text": [
        "                                                     \n"
       ]
      },
      {
       "output_type": "stream",
       "stream": "stdout",
       "text": [
        "[ubuntu@ec2-54-225-5-82.compute-1.amazonaws.com] out: "
       ]
      },
      {
       "output_type": "stream",
       "stream": "stdout",
       "text": [
        "Get: 17 http://us-east-1.ec2.archive.ubuntu.com precise/universe i386 Packages [4,796 kB]\n"
       ]
      },
      {
       "output_type": "stream",
       "stream": "stdout",
       "text": [
        "[ubuntu@ec2-54-225-5-82.compute-1.amazonaws.com] out: "
       ]
      },
      {
       "output_type": "stream",
       "stream": "stdout",
       "text": [
        "\n"
       ]
      },
      {
       "output_type": "stream",
       "stream": "stdout",
       "text": [
        "[ubuntu@ec2-54-225-5-82.compute-1.amazonaws.com] out: "
       ]
      },
      {
       "output_type": "stream",
       "stream": "stdout",
       "text": [
        "\n"
       ]
      },
      {
       "output_type": "stream",
       "stream": "stdout",
       "text": [
        "[ubuntu@ec2-54-225-5-82.compute-1.amazonaws.com] out: "
       ]
      },
      {
       "output_type": "stream",
       "stream": "stdout",
       "text": [
        "75% [8 Sources bzip2] [17 Packages 37.1 kB/4,796 kB 1%] [15 Packages 239 kB/280 "
       ]
      },
      {
       "output_type": "stream",
       "stream": "stdout",
       "text": [
        "\n"
       ]
      },
      {
       "output_type": "stream",
       "stream": "stdout",
       "text": [
        "[ubuntu@ec2-54-225-5-82.compute-1.amazonaws.com] out: "
       ]
      },
      {
       "output_type": "stream",
       "stream": "stdout",
       "text": [
        "                                                                                \n"
       ]
      },
      {
       "output_type": "stream",
       "stream": "stdout",
       "text": [
        "[ubuntu@ec2-54-225-5-82.compute-1.amazonaws.com] out: "
       ]
      },
      {
       "output_type": "stream",
       "stream": "stdout",
       "text": [
        "77% [8 Sources bzip2] [17 Packages 358 kB/4,796 kB 7%] [Waiting for headers]"
       ]
      },
      {
       "output_type": "stream",
       "stream": "stdout",
       "text": [
        "\n"
       ]
      },
      {
       "output_type": "stream",
       "stream": "stdout",
       "text": [
        "[ubuntu@ec2-54-225-5-82.compute-1.amazonaws.com] out: "
       ]
      },
      {
       "output_type": "stream",
       "stream": "stdout",
       "text": [
        "                                                                            \n"
       ]
      },
      {
       "output_type": "stream",
       "stream": "stdout",
       "text": [
        "[ubuntu@ec2-54-225-5-82.compute-1.amazonaws.com] out: "
       ]
      },
      {
       "output_type": "stream",
       "stream": "stdout",
       "text": [
        "Get: 18 http://security.ubuntu.com precise-security/universe i386 Packages [75.5 kB]\n"
       ]
      },
      {
       "output_type": "stream",
       "stream": "stdout",
       "text": [
        "[ubuntu@ec2-54-225-5-82.compute-1.amazonaws.com] out: "
       ]
      },
      {
       "output_type": "stream",
       "stream": "stdout",
       "text": [
        "\n"
       ]
      },
      {
       "output_type": "stream",
       "stream": "stdout",
       "text": [
        "[ubuntu@ec2-54-225-5-82.compute-1.amazonaws.com] out: "
       ]
      },
      {
       "output_type": "stream",
       "stream": "stdout",
       "text": [
        "\n"
       ]
      },
      {
       "output_type": "stream",
       "stream": "stdout",
       "text": [
        "[ubuntu@ec2-54-225-5-82.compute-1.amazonaws.com] out: "
       ]
      },
      {
       "output_type": "stream",
       "stream": "stdout",
       "text": [
        "81% [8 Sources bzip2] [17 Packages 1,290 kB/4,796 kB 27%] [18 Packages 24.2 kB/7"
       ]
      },
      {
       "output_type": "stream",
       "stream": "stdout",
       "text": [
        "\n"
       ]
      },
      {
       "output_type": "stream",
       "stream": "stdout",
       "text": [
        "[ubuntu@ec2-54-225-5-82.compute-1.amazonaws.com] out: "
       ]
      },
      {
       "output_type": "stream",
       "stream": "stdout",
       "text": [
        "                                                                                \n"
       ]
      },
      {
       "output_type": "stream",
       "stream": "stdout",
       "text": [
        "[ubuntu@ec2-54-225-5-82.compute-1.amazonaws.com] out: "
       ]
      },
      {
       "output_type": "stream",
       "stream": "stdout",
       "text": [
        "87% [8 Sources bzip2] [17 Packages 2,336 kB/4,796 kB 49%] [Waiting for headers]"
       ]
      },
      {
       "output_type": "stream",
       "stream": "stdout",
       "text": [
        "\n"
       ]
      },
      {
       "output_type": "stream",
       "stream": "stdout",
       "text": [
        "[ubuntu@ec2-54-225-5-82.compute-1.amazonaws.com] out: "
       ]
      },
      {
       "output_type": "stream",
       "stream": "stdout",
       "text": [
        "                                                                               \n"
       ]
      },
      {
       "output_type": "stream",
       "stream": "stdout",
       "text": [
        "[ubuntu@ec2-54-225-5-82.compute-1.amazonaws.com] out: "
       ]
      },
      {
       "output_type": "stream",
       "stream": "stdout",
       "text": [
        "Get: 19 http://security.ubuntu.com precise-security/main TranslationIndex [74 B]\n"
       ]
      },
      {
       "output_type": "stream",
       "stream": "stdout",
       "text": [
        "[ubuntu@ec2-54-225-5-82.compute-1.amazonaws.com] out: "
       ]
      },
      {
       "output_type": "stream",
       "stream": "stdout",
       "text": [
        "\n"
       ]
      },
      {
       "output_type": "stream",
       "stream": "stdout",
       "text": [
        "[ubuntu@ec2-54-225-5-82.compute-1.amazonaws.com] out: "
       ]
      },
      {
       "output_type": "stream",
       "stream": "stdout",
       "text": [
        "\n"
       ]
      },
      {
       "output_type": "stream",
       "stream": "stdout",
       "text": [
        "[ubuntu@ec2-54-225-5-82.compute-1.amazonaws.com] out: "
       ]
      },
      {
       "output_type": "stream",
       "stream": "stdout",
       "text": [
        "91% [8 Sources bzip2] [17 Packages 3,016 kB/4,796 kB 63%] [Waiting for headers]"
       ]
      },
      {
       "output_type": "stream",
       "stream": "stdout",
       "text": [
        "\n"
       ]
      },
      {
       "output_type": "stream",
       "stream": "stdout",
       "text": [
        "[ubuntu@ec2-54-225-5-82.compute-1.amazonaws.com] out: "
       ]
      },
      {
       "output_type": "stream",
       "stream": "stdout",
       "text": [
        "                                                                               \n"
       ]
      },
      {
       "output_type": "stream",
       "stream": "stdout",
       "text": [
        "[ubuntu@ec2-54-225-5-82.compute-1.amazonaws.com] out: "
       ]
      },
      {
       "output_type": "stream",
       "stream": "stdout",
       "text": [
        "Get: 20 http://security.ubuntu.com precise-security/universe TranslationIndex [73 B]\n"
       ]
      },
      {
       "output_type": "stream",
       "stream": "stdout",
       "text": [
        "[ubuntu@ec2-54-225-5-82.compute-1.amazonaws.com] out: "
       ]
      },
      {
       "output_type": "stream",
       "stream": "stdout",
       "text": [
        "\n"
       ]
      },
      {
       "output_type": "stream",
       "stream": "stdout",
       "text": [
        "[ubuntu@ec2-54-225-5-82.compute-1.amazonaws.com] out: "
       ]
      },
      {
       "output_type": "stream",
       "stream": "stdout",
       "text": [
        "\n"
       ]
      },
      {
       "output_type": "stream",
       "stream": "stdout",
       "text": [
        "[ubuntu@ec2-54-225-5-82.compute-1.amazonaws.com] out: "
       ]
      },
      {
       "output_type": "stream",
       "stream": "stdout",
       "text": [
        "95% [8 Sources bzip2] [17 Packages 3,783 kB/4,796 kB 79%]"
       ]
      },
      {
       "output_type": "stream",
       "stream": "stdout",
       "text": [
        "\n"
       ]
      },
      {
       "output_type": "stream",
       "stream": "stdout",
       "text": [
        "[ubuntu@ec2-54-225-5-82.compute-1.amazonaws.com] out: "
       ]
      },
      {
       "output_type": "stream",
       "stream": "stdout",
       "text": [
        "                                                         \n"
       ]
      },
      {
       "output_type": "stream",
       "stream": "stdout",
       "text": [
        "[ubuntu@ec2-54-225-5-82.compute-1.amazonaws.com] out: "
       ]
      },
      {
       "output_type": "stream",
       "stream": "stdout",
       "text": [
        "Get: 21 http://security.ubuntu.com precise-security/main Translation-en [125 kB]\n"
       ]
      },
      {
       "output_type": "stream",
       "stream": "stdout",
       "text": [
        "[ubuntu@ec2-54-225-5-82.compute-1.amazonaws.com] out: "
       ]
      },
      {
       "output_type": "stream",
       "stream": "stdout",
       "text": [
        "\n"
       ]
      },
      {
       "output_type": "stream",
       "stream": "stdout",
       "text": [
        "[ubuntu@ec2-54-225-5-82.compute-1.amazonaws.com] out: "
       ]
      },
      {
       "output_type": "stream",
       "stream": "stdout",
       "text": [
        "\n"
       ]
      },
      {
       "output_type": "stream",
       "stream": "stdout",
       "text": [
        "[ubuntu@ec2-54-225-5-82.compute-1.amazonaws.com] out: "
       ]
      },
      {
       "output_type": "stream",
       "stream": "stdout",
       "text": [
        "99% [8 Sources bzip2] [17 Packages 4,686 kB/4,796 kB 98%] [21 Translation-en 1,1\n"
       ]
      },
      {
       "output_type": "stream",
       "stream": "stdout",
       "text": [
        "[ubuntu@ec2-54-225-5-82.compute-1.amazonaws.com] out: "
       ]
      },
      {
       "output_type": "stream",
       "stream": "stdout",
       "text": [
        "                                                                                \n"
       ]
      },
      {
       "output_type": "stream",
       "stream": "stdout",
       "text": [
        "[ubuntu@ec2-54-225-5-82.compute-1.amazonaws.com] out: "
       ]
      },
      {
       "output_type": "stream",
       "stream": "stdout",
       "text": [
        "100% [8 Sources bzip2] [21 Translation-en 46.0 kB/125 kB 37%]\n"
       ]
      },
      {
       "output_type": "stream",
       "stream": "stdout",
       "text": [
        "[ubuntu@ec2-54-225-5-82.compute-1.amazonaws.com] out: "
       ]
      },
      {
       "output_type": "stream",
       "stream": "stdout",
       "text": [
        "                                                             \n"
       ]
      },
      {
       "output_type": "stream",
       "stream": "stdout",
       "text": [
        "[ubuntu@ec2-54-225-5-82.compute-1.amazonaws.com] out: "
       ]
      },
      {
       "output_type": "stream",
       "stream": "stdout",
       "text": [
        "Get: 22 http://us-east-1.ec2.archive.ubuntu.com precise/main TranslationIndex [3,706 B]\n"
       ]
      },
      {
       "output_type": "stream",
       "stream": "stdout",
       "text": [
        "[ubuntu@ec2-54-225-5-82.compute-1.amazonaws.com] out: "
       ]
      },
      {
       "output_type": "stream",
       "stream": "stdout",
       "text": [
        "\n"
       ]
      },
      {
       "output_type": "stream",
       "stream": "stdout",
       "text": [
        "[ubuntu@ec2-54-225-5-82.compute-1.amazonaws.com] out: "
       ]
      },
      {
       "output_type": "stream",
       "stream": "stdout",
       "text": [
        "\n"
       ]
      },
      {
       "output_type": "stream",
       "stream": "stdout",
       "text": [
        "[ubuntu@ec2-54-225-5-82.compute-1.amazonaws.com] out: "
       ]
      },
      {
       "output_type": "stream",
       "stream": "stdout",
       "text": [
        "100% [8 Sources bzip2] [22 TranslationIndex 1,100 B/3,706 B 30%] [21 Translation\n"
       ]
      },
      {
       "output_type": "stream",
       "stream": "stdout",
       "text": [
        "[ubuntu@ec2-54-225-5-82.compute-1.amazonaws.com] out: "
       ]
      },
      {
       "output_type": "stream",
       "stream": "stdout",
       "text": [
        "                                                                                \n"
       ]
      },
      {
       "output_type": "stream",
       "stream": "stdout",
       "text": [
        "[ubuntu@ec2-54-225-5-82.compute-1.amazonaws.com] out: "
       ]
      },
      {
       "output_type": "stream",
       "stream": "stdout",
       "text": [
        "100% [8 Sources bzip2] [Waiting for headers] [21 Translation-en 46.0 kB/125 kB 3"
       ]
      },
      {
       "output_type": "stream",
       "stream": "stdout",
       "text": [
        "\n"
       ]
      },
      {
       "output_type": "stream",
       "stream": "stdout",
       "text": [
        "[ubuntu@ec2-54-225-5-82.compute-1.amazonaws.com] out: "
       ]
      },
      {
       "output_type": "stream",
       "stream": "stdout",
       "text": [
        "                                                                                \n"
       ]
      },
      {
       "output_type": "stream",
       "stream": "stdout",
       "text": [
        "[ubuntu@ec2-54-225-5-82.compute-1.amazonaws.com] out: "
       ]
      },
      {
       "output_type": "stream",
       "stream": "stdout",
       "text": [
        "100% [8 Sources bzip2] [Waiting for headers]"
       ]
      },
      {
       "output_type": "stream",
       "stream": "stdout",
       "text": [
        "\n"
       ]
      },
      {
       "output_type": "stream",
       "stream": "stdout",
       "text": [
        "[ubuntu@ec2-54-225-5-82.compute-1.amazonaws.com] out: "
       ]
      },
      {
       "output_type": "stream",
       "stream": "stdout",
       "text": [
        "                                            \n"
       ]
      },
      {
       "output_type": "stream",
       "stream": "stdout",
       "text": [
        "[ubuntu@ec2-54-225-5-82.compute-1.amazonaws.com] out: "
       ]
      },
      {
       "output_type": "stream",
       "stream": "stdout",
       "text": [
        "Get: 23 http://security.ubuntu.com precise-security/universe Translation-en [45.7 kB]\n"
       ]
      },
      {
       "output_type": "stream",
       "stream": "stdout",
       "text": [
        "[ubuntu@ec2-54-225-5-82.compute-1.amazonaws.com] out: "
       ]
      },
      {
       "output_type": "stream",
       "stream": "stdout",
       "text": [
        "\n"
       ]
      },
      {
       "output_type": "stream",
       "stream": "stdout",
       "text": [
        "[ubuntu@ec2-54-225-5-82.compute-1.amazonaws.com] out: "
       ]
      },
      {
       "output_type": "stream",
       "stream": "stdout",
       "text": [
        "\n"
       ]
      },
      {
       "output_type": "stream",
       "stream": "stdout",
       "text": [
        "[ubuntu@ec2-54-225-5-82.compute-1.amazonaws.com] out: "
       ]
      },
      {
       "output_type": "stream",
       "stream": "stdout",
       "text": [
        "100% [8 Sources bzip2] [Waiting for headers] [23 Translation-en 4,047 B/45.7 kB \n"
       ]
      },
      {
       "output_type": "stream",
       "stream": "stdout",
       "text": [
        "[ubuntu@ec2-54-225-5-82.compute-1.amazonaws.com] out: "
       ]
      },
      {
       "output_type": "stream",
       "stream": "stdout",
       "text": [
        "                                                                                \n"
       ]
      },
      {
       "output_type": "stream",
       "stream": "stdout",
       "text": [
        "[ubuntu@ec2-54-225-5-82.compute-1.amazonaws.com] out: "
       ]
      },
      {
       "output_type": "stream",
       "stream": "stdout",
       "text": [
        "100% [8 Sources bzip2] [Waiting for headers]"
       ]
      },
      {
       "output_type": "stream",
       "stream": "stdout",
       "text": [
        "\n"
       ]
      },
      {
       "output_type": "stream",
       "stream": "stdout",
       "text": [
        "[ubuntu@ec2-54-225-5-82.compute-1.amazonaws.com] out: "
       ]
      },
      {
       "output_type": "stream",
       "stream": "stdout",
       "text": [
        "                                            \n"
       ]
      },
      {
       "output_type": "stream",
       "stream": "stdout",
       "text": [
        "[ubuntu@ec2-54-225-5-82.compute-1.amazonaws.com] out: "
       ]
      },
      {
       "output_type": "stream",
       "stream": "stdout",
       "text": [
        "Get: 24 http://us-east-1.ec2.archive.ubuntu.com precise/universe TranslationIndex [2,922 B]\n"
       ]
      },
      {
       "output_type": "stream",
       "stream": "stdout",
       "text": [
        "[ubuntu@ec2-54-225-5-82.compute-1.amazonaws.com] out: "
       ]
      },
      {
       "output_type": "stream",
       "stream": "stdout",
       "text": [
        "\n"
       ]
      },
      {
       "output_type": "stream",
       "stream": "stdout",
       "text": [
        "[ubuntu@ec2-54-225-5-82.compute-1.amazonaws.com] out: "
       ]
      },
      {
       "output_type": "stream",
       "stream": "stdout",
       "text": [
        "\n"
       ]
      },
      {
       "output_type": "stream",
       "stream": "stdout",
       "text": [
        "[ubuntu@ec2-54-225-5-82.compute-1.amazonaws.com] out: "
       ]
      },
      {
       "output_type": "stream",
       "stream": "stdout",
       "text": [
        "100% [8 Sources bzip2] [24 TranslationIndex 1,100 B/2,922 B 38%]\n"
       ]
      },
      {
       "output_type": "stream",
       "stream": "stdout",
       "text": [
        "[ubuntu@ec2-54-225-5-82.compute-1.amazonaws.com] out: "
       ]
      },
      {
       "output_type": "stream",
       "stream": "stdout",
       "text": [
        "                                                                \n"
       ]
      },
      {
       "output_type": "stream",
       "stream": "stdout",
       "text": [
        "[ubuntu@ec2-54-225-5-82.compute-1.amazonaws.com] out: "
       ]
      },
      {
       "output_type": "stream",
       "stream": "stdout",
       "text": [
        "100% [8 Sources bzip2] [Waiting for headers]"
       ]
      },
      {
       "output_type": "stream",
       "stream": "stdout",
       "text": [
        "\n"
       ]
      },
      {
       "output_type": "stream",
       "stream": "stdout",
       "text": [
        "[ubuntu@ec2-54-225-5-82.compute-1.amazonaws.com] out: "
       ]
      },
      {
       "output_type": "stream",
       "stream": "stdout",
       "text": [
        "                                            \n"
       ]
      },
      {
       "output_type": "stream",
       "stream": "stdout",
       "text": [
        "[ubuntu@ec2-54-225-5-82.compute-1.amazonaws.com] out: "
       ]
      },
      {
       "output_type": "stream",
       "stream": "stdout",
       "text": [
        "Get: 25 http://us-east-1.ec2.archive.ubuntu.com precise-updates/main Sources [384 kB]\n"
       ]
      },
      {
       "output_type": "stream",
       "stream": "stdout",
       "text": [
        "[ubuntu@ec2-54-225-5-82.compute-1.amazonaws.com] out: "
       ]
      },
      {
       "output_type": "stream",
       "stream": "stdout",
       "text": [
        "\n"
       ]
      },
      {
       "output_type": "stream",
       "stream": "stdout",
       "text": [
        "[ubuntu@ec2-54-225-5-82.compute-1.amazonaws.com] out: "
       ]
      },
      {
       "output_type": "stream",
       "stream": "stdout",
       "text": [
        "\n"
       ]
      },
      {
       "output_type": "stream",
       "stream": "stdout",
       "text": [
        "[ubuntu@ec2-54-225-5-82.compute-1.amazonaws.com] out: "
       ]
      },
      {
       "output_type": "stream",
       "stream": "stdout",
       "text": [
        "98% [8 Sources bzip2] [25 Sources 17.4 kB/384 kB 5%]"
       ]
      },
      {
       "output_type": "stream",
       "stream": "stdout",
       "text": [
        "\n"
       ]
      },
      {
       "output_type": "stream",
       "stream": "stdout",
       "text": [
        "[ubuntu@ec2-54-225-5-82.compute-1.amazonaws.com] out: "
       ]
      },
      {
       "output_type": "stream",
       "stream": "stdout",
       "text": [
        "                                                    \n"
       ]
      },
      {
       "output_type": "stream",
       "stream": "stdout",
       "text": [
        "[ubuntu@ec2-54-225-5-82.compute-1.amazonaws.com] out: "
       ]
      },
      {
       "output_type": "stream",
       "stream": "stdout",
       "text": [
        "100% [8 Sources bzip2]\n"
       ]
      },
      {
       "output_type": "stream",
       "stream": "stdout",
       "text": [
        "[ubuntu@ec2-54-225-5-82.compute-1.amazonaws.com] out: "
       ]
      },
      {
       "output_type": "stream",
       "stream": "stdout",
       "text": [
        "                      \n"
       ]
      },
      {
       "output_type": "stream",
       "stream": "stdout",
       "text": [
        "[ubuntu@ec2-54-225-5-82.compute-1.amazonaws.com] out: "
       ]
      },
      {
       "output_type": "stream",
       "stream": "stdout",
       "text": [
        "Get: 26 http://us-east-1.ec2.archive.ubuntu.com precise-updates/universe Sources [88.4 kB]\n"
       ]
      },
      {
       "output_type": "stream",
       "stream": "stdout",
       "text": [
        "[ubuntu@ec2-54-225-5-82.compute-1.amazonaws.com] out: "
       ]
      },
      {
       "output_type": "stream",
       "stream": "stdout",
       "text": [
        "\n"
       ]
      },
      {
       "output_type": "stream",
       "stream": "stdout",
       "text": [
        "[ubuntu@ec2-54-225-5-82.compute-1.amazonaws.com] out: "
       ]
      },
      {
       "output_type": "stream",
       "stream": "stdout",
       "text": [
        "\n"
       ]
      },
      {
       "output_type": "stream",
       "stream": "stdout",
       "text": [
        "[ubuntu@ec2-54-225-5-82.compute-1.amazonaws.com] out: "
       ]
      },
      {
       "output_type": "stream",
       "stream": "stdout",
       "text": [
        "100% [8 Sources bzip2] [26 Sources 2,564 B/88.4 kB 3%]\n"
       ]
      },
      {
       "output_type": "stream",
       "stream": "stdout",
       "text": [
        "[ubuntu@ec2-54-225-5-82.compute-1.amazonaws.com] out: "
       ]
      },
      {
       "output_type": "stream",
       "stream": "stdout",
       "text": [
        "                                                      \n"
       ]
      },
      {
       "output_type": "stream",
       "stream": "stdout",
       "text": [
        "[ubuntu@ec2-54-225-5-82.compute-1.amazonaws.com] out: "
       ]
      },
      {
       "output_type": "stream",
       "stream": "stdout",
       "text": [
        "100% [8 Sources bzip2] [Waiting for headers]\n"
       ]
      },
      {
       "output_type": "stream",
       "stream": "stdout",
       "text": [
        "[ubuntu@ec2-54-225-5-82.compute-1.amazonaws.com] out: "
       ]
      },
      {
       "output_type": "stream",
       "stream": "stdout",
       "text": [
        "                                            \n"
       ]
      },
      {
       "output_type": "stream",
       "stream": "stdout",
       "text": [
        "[ubuntu@ec2-54-225-5-82.compute-1.amazonaws.com] out: "
       ]
      },
      {
       "output_type": "stream",
       "stream": "stdout",
       "text": [
        "Get: 27 http://us-east-1.ec2.archive.ubuntu.com precise-updates/main amd64 Packages [618 kB]\n"
       ]
      },
      {
       "output_type": "stream",
       "stream": "stdout",
       "text": [
        "[ubuntu@ec2-54-225-5-82.compute-1.amazonaws.com] out: "
       ]
      },
      {
       "output_type": "stream",
       "stream": "stdout",
       "text": [
        "\n"
       ]
      },
      {
       "output_type": "stream",
       "stream": "stdout",
       "text": [
        "[ubuntu@ec2-54-225-5-82.compute-1.amazonaws.com] out: "
       ]
      },
      {
       "output_type": "stream",
       "stream": "stdout",
       "text": [
        "\n"
       ]
      },
      {
       "output_type": "stream",
       "stream": "stdout",
       "text": [
        "[ubuntu@ec2-54-225-5-82.compute-1.amazonaws.com] out: "
       ]
      },
      {
       "output_type": "stream",
       "stream": "stdout",
       "text": [
        "97% [8 Sources bzip2] [27 Packages 17.6 kB/618 kB 3%]\n"
       ]
      },
      {
       "output_type": "stream",
       "stream": "stdout",
       "text": [
        "[ubuntu@ec2-54-225-5-82.compute-1.amazonaws.com] out: "
       ]
      },
      {
       "output_type": "stream",
       "stream": "stdout",
       "text": [
        "                                                     \n"
       ]
      },
      {
       "output_type": "stream",
       "stream": "stdout",
       "text": [
        "[ubuntu@ec2-54-225-5-82.compute-1.amazonaws.com] out: "
       ]
      },
      {
       "output_type": "stream",
       "stream": "stdout",
       "text": [
        "100% [8 Sources bzip2]\n"
       ]
      },
      {
       "output_type": "stream",
       "stream": "stdout",
       "text": [
        "[ubuntu@ec2-54-225-5-82.compute-1.amazonaws.com] out: "
       ]
      },
      {
       "output_type": "stream",
       "stream": "stdout",
       "text": [
        "                      \n"
       ]
      },
      {
       "output_type": "stream",
       "stream": "stdout",
       "text": [
        "[ubuntu@ec2-54-225-5-82.compute-1.amazonaws.com] out: "
       ]
      },
      {
       "output_type": "stream",
       "stream": "stdout",
       "text": [
        "Get: 28 http://us-east-1.ec2.archive.ubuntu.com precise-updates/universe amd64 Packages [202 kB]\n"
       ]
      },
      {
       "output_type": "stream",
       "stream": "stdout",
       "text": [
        "[ubuntu@ec2-54-225-5-82.compute-1.amazonaws.com] out: "
       ]
      },
      {
       "output_type": "stream",
       "stream": "stdout",
       "text": [
        "\n"
       ]
      },
      {
       "output_type": "stream",
       "stream": "stdout",
       "text": [
        "[ubuntu@ec2-54-225-5-82.compute-1.amazonaws.com] out: "
       ]
      },
      {
       "output_type": "stream",
       "stream": "stdout",
       "text": [
        "\n"
       ]
      },
      {
       "output_type": "stream",
       "stream": "stdout",
       "text": [
        "[ubuntu@ec2-54-225-5-82.compute-1.amazonaws.com] out: "
       ]
      },
      {
       "output_type": "stream",
       "stream": "stdout",
       "text": [
        "99% [8 Sources bzip2] [28 Packages 20.6 kB/202 kB 10%]\n"
       ]
      },
      {
       "output_type": "stream",
       "stream": "stdout",
       "text": [
        "[ubuntu@ec2-54-225-5-82.compute-1.amazonaws.com] out: "
       ]
      },
      {
       "output_type": "stream",
       "stream": "stdout",
       "text": [
        "                                                      \n"
       ]
      },
      {
       "output_type": "stream",
       "stream": "stdout",
       "text": [
        "[ubuntu@ec2-54-225-5-82.compute-1.amazonaws.com] out: "
       ]
      },
      {
       "output_type": "stream",
       "stream": "stdout",
       "text": [
        "100% [8 Sources bzip2]"
       ]
      },
      {
       "output_type": "stream",
       "stream": "stdout",
       "text": [
        "\n"
       ]
      },
      {
       "output_type": "stream",
       "stream": "stdout",
       "text": [
        "[ubuntu@ec2-54-225-5-82.compute-1.amazonaws.com] out: "
       ]
      },
      {
       "output_type": "stream",
       "stream": "stdout",
       "text": [
        "                      \n"
       ]
      },
      {
       "output_type": "stream",
       "stream": "stdout",
       "text": [
        "[ubuntu@ec2-54-225-5-82.compute-1.amazonaws.com] out: "
       ]
      },
      {
       "output_type": "stream",
       "stream": "stdout",
       "text": [
        "Get: 29 http://us-east-1.ec2.archive.ubuntu.com precise-updates/main i386 Packages [631 kB]\n"
       ]
      },
      {
       "output_type": "stream",
       "stream": "stdout",
       "text": [
        "[ubuntu@ec2-54-225-5-82.compute-1.amazonaws.com] out: "
       ]
      },
      {
       "output_type": "stream",
       "stream": "stdout",
       "text": [
        "\n"
       ]
      },
      {
       "output_type": "stream",
       "stream": "stdout",
       "text": [
        "[ubuntu@ec2-54-225-5-82.compute-1.amazonaws.com] out: "
       ]
      },
      {
       "output_type": "stream",
       "stream": "stdout",
       "text": [
        "\n"
       ]
      },
      {
       "output_type": "stream",
       "stream": "stdout",
       "text": [
        "[ubuntu@ec2-54-225-5-82.compute-1.amazonaws.com] out: "
       ]
      },
      {
       "output_type": "stream",
       "stream": "stdout",
       "text": [
        "97% [8 Sources bzip2] [29 Packages 28.1 kB/631 kB 4%]"
       ]
      },
      {
       "output_type": "stream",
       "stream": "stdout",
       "text": [
        "\n"
       ]
      },
      {
       "output_type": "stream",
       "stream": "stdout",
       "text": [
        "[ubuntu@ec2-54-225-5-82.compute-1.amazonaws.com] out: "
       ]
      },
      {
       "output_type": "stream",
       "stream": "stdout",
       "text": [
        "                                                     \n"
       ]
      },
      {
       "output_type": "stream",
       "stream": "stdout",
       "text": [
        "[ubuntu@ec2-54-225-5-82.compute-1.amazonaws.com] out: "
       ]
      },
      {
       "output_type": "stream",
       "stream": "stdout",
       "text": [
        "100% [8 Sources bzip2]\n"
       ]
      },
      {
       "output_type": "stream",
       "stream": "stdout",
       "text": [
        "[ubuntu@ec2-54-225-5-82.compute-1.amazonaws.com] out: "
       ]
      },
      {
       "output_type": "stream",
       "stream": "stdout",
       "text": [
        "                      \n"
       ]
      },
      {
       "output_type": "stream",
       "stream": "stdout",
       "text": [
        "[ubuntu@ec2-54-225-5-82.compute-1.amazonaws.com] out: "
       ]
      },
      {
       "output_type": "stream",
       "stream": "stdout",
       "text": [
        "Get: 30 http://us-east-1.ec2.archive.ubuntu.com precise-updates/universe i386 Packages [205 kB]\n"
       ]
      },
      {
       "output_type": "stream",
       "stream": "stdout",
       "text": [
        "[ubuntu@ec2-54-225-5-82.compute-1.amazonaws.com] out: "
       ]
      },
      {
       "output_type": "stream",
       "stream": "stdout",
       "text": [
        "\n"
       ]
      },
      {
       "output_type": "stream",
       "stream": "stdout",
       "text": [
        "[ubuntu@ec2-54-225-5-82.compute-1.amazonaws.com] out: "
       ]
      },
      {
       "output_type": "stream",
       "stream": "stdout",
       "text": [
        "\n"
       ]
      },
      {
       "output_type": "stream",
       "stream": "stdout",
       "text": [
        "[ubuntu@ec2-54-225-5-82.compute-1.amazonaws.com] out: "
       ]
      },
      {
       "output_type": "stream",
       "stream": "stdout",
       "text": [
        "99% [8 Sources bzip2] [30 Packages 10.1 kB/205 kB 5%]\n"
       ]
      },
      {
       "output_type": "stream",
       "stream": "stdout",
       "text": [
        "[ubuntu@ec2-54-225-5-82.compute-1.amazonaws.com] out: "
       ]
      },
      {
       "output_type": "stream",
       "stream": "stdout",
       "text": [
        "                                                     \n"
       ]
      },
      {
       "output_type": "stream",
       "stream": "stdout",
       "text": [
        "[ubuntu@ec2-54-225-5-82.compute-1.amazonaws.com] out: "
       ]
      },
      {
       "output_type": "stream",
       "stream": "stdout",
       "text": [
        "100% [8 Sources bzip2]"
       ]
      },
      {
       "output_type": "stream",
       "stream": "stdout",
       "text": [
        "\n"
       ]
      },
      {
       "output_type": "stream",
       "stream": "stdout",
       "text": [
        "[ubuntu@ec2-54-225-5-82.compute-1.amazonaws.com] out: "
       ]
      },
      {
       "output_type": "stream",
       "stream": "stdout",
       "text": [
        "                      \n"
       ]
      },
      {
       "output_type": "stream",
       "stream": "stdout",
       "text": [
        "[ubuntu@ec2-54-225-5-82.compute-1.amazonaws.com] out: "
       ]
      },
      {
       "output_type": "stream",
       "stream": "stdout",
       "text": [
        "Get: 31 http://us-east-1.ec2.archive.ubuntu.com precise-updates/main TranslationIndex [3,564 B]\n"
       ]
      },
      {
       "output_type": "stream",
       "stream": "stdout",
       "text": [
        "[ubuntu@ec2-54-225-5-82.compute-1.amazonaws.com] out: "
       ]
      },
      {
       "output_type": "stream",
       "stream": "stdout",
       "text": [
        "\n"
       ]
      },
      {
       "output_type": "stream",
       "stream": "stdout",
       "text": [
        "[ubuntu@ec2-54-225-5-82.compute-1.amazonaws.com] out: "
       ]
      },
      {
       "output_type": "stream",
       "stream": "stdout",
       "text": [
        "\n"
       ]
      },
      {
       "output_type": "stream",
       "stream": "stdout",
       "text": [
        "[ubuntu@ec2-54-225-5-82.compute-1.amazonaws.com] out: "
       ]
      },
      {
       "output_type": "stream",
       "stream": "stdout",
       "text": [
        "100% [8 Sources bzip2] [Waiting for headers]"
       ]
      },
      {
       "output_type": "stream",
       "stream": "stdout",
       "text": [
        "\n"
       ]
      },
      {
       "output_type": "stream",
       "stream": "stdout",
       "text": [
        "[ubuntu@ec2-54-225-5-82.compute-1.amazonaws.com] out: "
       ]
      },
      {
       "output_type": "stream",
       "stream": "stdout",
       "text": [
        "                                            \n"
       ]
      },
      {
       "output_type": "stream",
       "stream": "stdout",
       "text": [
        "[ubuntu@ec2-54-225-5-82.compute-1.amazonaws.com] out: "
       ]
      },
      {
       "output_type": "stream",
       "stream": "stdout",
       "text": [
        "Get: 32 http://us-east-1.ec2.archive.ubuntu.com precise-updates/universe TranslationIndex [2,850 B]\n"
       ]
      },
      {
       "output_type": "stream",
       "stream": "stdout",
       "text": [
        "[ubuntu@ec2-54-225-5-82.compute-1.amazonaws.com] out: "
       ]
      },
      {
       "output_type": "stream",
       "stream": "stdout",
       "text": [
        "\n"
       ]
      },
      {
       "output_type": "stream",
       "stream": "stdout",
       "text": [
        "[ubuntu@ec2-54-225-5-82.compute-1.amazonaws.com] out: "
       ]
      },
      {
       "output_type": "stream",
       "stream": "stdout",
       "text": [
        "\n"
       ]
      },
      {
       "output_type": "stream",
       "stream": "stdout",
       "text": [
        "[ubuntu@ec2-54-225-5-82.compute-1.amazonaws.com] out: "
       ]
      },
      {
       "output_type": "stream",
       "stream": "stdout",
       "text": [
        "100% [8 Sources bzip2] [Waiting for headers]\n"
       ]
      },
      {
       "output_type": "stream",
       "stream": "stdout",
       "text": [
        "[ubuntu@ec2-54-225-5-82.compute-1.amazonaws.com] out: "
       ]
      },
      {
       "output_type": "stream",
       "stream": "stdout",
       "text": [
        "                                            \n"
       ]
      },
      {
       "output_type": "stream",
       "stream": "stdout",
       "text": [
        "[ubuntu@ec2-54-225-5-82.compute-1.amazonaws.com] out: "
       ]
      },
      {
       "output_type": "stream",
       "stream": "stdout",
       "text": [
        "Get: 33 http://us-east-1.ec2.archive.ubuntu.com precise/main Translation-en [726 kB]\n"
       ]
      },
      {
       "output_type": "stream",
       "stream": "stdout",
       "text": [
        "[ubuntu@ec2-54-225-5-82.compute-1.amazonaws.com] out: "
       ]
      },
      {
       "output_type": "stream",
       "stream": "stdout",
       "text": [
        "\n"
       ]
      },
      {
       "output_type": "stream",
       "stream": "stdout",
       "text": [
        "[ubuntu@ec2-54-225-5-82.compute-1.amazonaws.com] out: "
       ]
      },
      {
       "output_type": "stream",
       "stream": "stdout",
       "text": [
        "\n"
       ]
      },
      {
       "output_type": "stream",
       "stream": "stdout",
       "text": [
        "[ubuntu@ec2-54-225-5-82.compute-1.amazonaws.com] out: "
       ]
      },
      {
       "output_type": "stream",
       "stream": "stdout",
       "text": [
        "97% [8 Sources bzip2] [33 Translation-en 2,563 B/726 kB 0%]"
       ]
      },
      {
       "output_type": "stream",
       "stream": "stdout",
       "text": [
        "\n"
       ]
      },
      {
       "output_type": "stream",
       "stream": "stdout",
       "text": [
        "[ubuntu@ec2-54-225-5-82.compute-1.amazonaws.com] out: "
       ]
      },
      {
       "output_type": "stream",
       "stream": "stdout",
       "text": [
        "                                                           \n"
       ]
      },
      {
       "output_type": "stream",
       "stream": "stdout",
       "text": [
        "[ubuntu@ec2-54-225-5-82.compute-1.amazonaws.com] out: "
       ]
      },
      {
       "output_type": "stream",
       "stream": "stdout",
       "text": [
        "100% [8 Sources bzip2] [Waiting for headers]\n"
       ]
      },
      {
       "output_type": "stream",
       "stream": "stdout",
       "text": [
        "[ubuntu@ec2-54-225-5-82.compute-1.amazonaws.com] out: "
       ]
      },
      {
       "output_type": "stream",
       "stream": "stdout",
       "text": [
        "                                            \n"
       ]
      },
      {
       "output_type": "stream",
       "stream": "stdout",
       "text": [
        "[ubuntu@ec2-54-225-5-82.compute-1.amazonaws.com] out: "
       ]
      },
      {
       "output_type": "stream",
       "stream": "stdout",
       "text": [
        "Get: 34 http://us-east-1.ec2.archive.ubuntu.com precise/universe Translation-en [3,341 kB]\n"
       ]
      },
      {
       "output_type": "stream",
       "stream": "stdout",
       "text": [
        "[ubuntu@ec2-54-225-5-82.compute-1.amazonaws.com] out: "
       ]
      },
      {
       "output_type": "stream",
       "stream": "stdout",
       "text": [
        "\n"
       ]
      },
      {
       "output_type": "stream",
       "stream": "stdout",
       "text": [
        "[ubuntu@ec2-54-225-5-82.compute-1.amazonaws.com] out: "
       ]
      },
      {
       "output_type": "stream",
       "stream": "stdout",
       "text": [
        "\n"
       ]
      },
      {
       "output_type": "stream",
       "stream": "stdout",
       "text": [
        "[ubuntu@ec2-54-225-5-82.compute-1.amazonaws.com] out: "
       ]
      },
      {
       "output_type": "stream",
       "stream": "stdout",
       "text": [
        "87% [8 Sources bzip2] [34 Translation-en 5,482 B/3,341 kB 0%]"
       ]
      },
      {
       "output_type": "stream",
       "stream": "stdout",
       "text": [
        "\n"
       ]
      },
      {
       "output_type": "stream",
       "stream": "stdout",
       "text": [
        "[ubuntu@ec2-54-225-5-82.compute-1.amazonaws.com] out: "
       ]
      },
      {
       "output_type": "stream",
       "stream": "stdout",
       "text": [
        "                                                             \n"
       ]
      },
      {
       "output_type": "stream",
       "stream": "stdout",
       "text": [
        "[ubuntu@ec2-54-225-5-82.compute-1.amazonaws.com] out: "
       ]
      },
      {
       "output_type": "stream",
       "stream": "stdout",
       "text": [
        "100% [8 Sources bzip2] [Waiting for headers]"
       ]
      },
      {
       "output_type": "stream",
       "stream": "stdout",
       "text": [
        "\n"
       ]
      },
      {
       "output_type": "stream",
       "stream": "stdout",
       "text": [
        "[ubuntu@ec2-54-225-5-82.compute-1.amazonaws.com] out: "
       ]
      },
      {
       "output_type": "stream",
       "stream": "stdout",
       "text": [
        "                                            \n"
       ]
      },
      {
       "output_type": "stream",
       "stream": "stdout",
       "text": [
        "[ubuntu@ec2-54-225-5-82.compute-1.amazonaws.com] out: "
       ]
      },
      {
       "output_type": "stream",
       "stream": "stdout",
       "text": [
        "Get: 35 http://us-east-1.ec2.archive.ubuntu.com precise-updates/main Translation-en [277 kB]\n"
       ]
      },
      {
       "output_type": "stream",
       "stream": "stdout",
       "text": [
        "[ubuntu@ec2-54-225-5-82.compute-1.amazonaws.com] out: "
       ]
      },
      {
       "output_type": "stream",
       "stream": "stdout",
       "text": [
        "\n"
       ]
      },
      {
       "output_type": "stream",
       "stream": "stdout",
       "text": [
        "[ubuntu@ec2-54-225-5-82.compute-1.amazonaws.com] out: "
       ]
      },
      {
       "output_type": "stream",
       "stream": "stdout",
       "text": [
        "\n"
       ]
      },
      {
       "output_type": "stream",
       "stream": "stdout",
       "text": [
        "[ubuntu@ec2-54-225-5-82.compute-1.amazonaws.com] out: "
       ]
      },
      {
       "output_type": "stream",
       "stream": "stdout",
       "text": [
        "99% [8 Sources bzip2] [35 Translation-en 5,483 B/277 kB 2%]"
       ]
      },
      {
       "output_type": "stream",
       "stream": "stdout",
       "text": [
        "\n"
       ]
      },
      {
       "output_type": "stream",
       "stream": "stdout",
       "text": [
        "[ubuntu@ec2-54-225-5-82.compute-1.amazonaws.com] out: "
       ]
      },
      {
       "output_type": "stream",
       "stream": "stdout",
       "text": [
        "                                                           \n"
       ]
      },
      {
       "output_type": "stream",
       "stream": "stdout",
       "text": [
        "[ubuntu@ec2-54-225-5-82.compute-1.amazonaws.com] out: "
       ]
      },
      {
       "output_type": "stream",
       "stream": "stdout",
       "text": [
        "100% [8 Sources bzip2] [Waiting for headers]"
       ]
      },
      {
       "output_type": "stream",
       "stream": "stdout",
       "text": [
        "\n"
       ]
      },
      {
       "output_type": "stream",
       "stream": "stdout",
       "text": [
        "[ubuntu@ec2-54-225-5-82.compute-1.amazonaws.com] out: "
       ]
      },
      {
       "output_type": "stream",
       "stream": "stdout",
       "text": [
        "                                            \n"
       ]
      },
      {
       "output_type": "stream",
       "stream": "stdout",
       "text": [
        "[ubuntu@ec2-54-225-5-82.compute-1.amazonaws.com] out: "
       ]
      },
      {
       "output_type": "stream",
       "stream": "stdout",
       "text": [
        "Get: 36 http://us-east-1.ec2.archive.ubuntu.com precise-updates/universe Translation-en [118 kB]\n"
       ]
      },
      {
       "output_type": "stream",
       "stream": "stdout",
       "text": [
        "[ubuntu@ec2-54-225-5-82.compute-1.amazonaws.com] out: "
       ]
      },
      {
       "output_type": "stream",
       "stream": "stdout",
       "text": [
        "\n"
       ]
      },
      {
       "output_type": "stream",
       "stream": "stdout",
       "text": [
        "[ubuntu@ec2-54-225-5-82.compute-1.amazonaws.com] out: "
       ]
      },
      {
       "output_type": "stream",
       "stream": "stdout",
       "text": [
        "\n"
       ]
      },
      {
       "output_type": "stream",
       "stream": "stdout",
       "text": [
        "[ubuntu@ec2-54-225-5-82.compute-1.amazonaws.com] out: "
       ]
      },
      {
       "output_type": "stream",
       "stream": "stdout",
       "text": [
        "100% [8 Sources bzip2] [36 Translation-en 4,023 B/118 kB 3%]"
       ]
      },
      {
       "output_type": "stream",
       "stream": "stdout",
       "text": [
        "\n"
       ]
      },
      {
       "output_type": "stream",
       "stream": "stdout",
       "text": [
        "[ubuntu@ec2-54-225-5-82.compute-1.amazonaws.com] out: "
       ]
      },
      {
       "output_type": "stream",
       "stream": "stdout",
       "text": [
        "                                                            \n"
       ]
      },
      {
       "output_type": "stream",
       "stream": "stdout",
       "text": [
        "[ubuntu@ec2-54-225-5-82.compute-1.amazonaws.com] out: "
       ]
      },
      {
       "output_type": "stream",
       "stream": "stdout",
       "text": [
        "100% [8 Sources bzip2]"
       ]
      },
      {
       "output_type": "stream",
       "stream": "stdout",
       "text": [
        "\n"
       ]
      },
      {
       "output_type": "stream",
       "stream": "stdout",
       "text": [
        "[ubuntu@ec2-54-225-5-82.compute-1.amazonaws.com] out: "
       ]
      },
      {
       "output_type": "stream",
       "stream": "stdout",
       "text": [
        "                      \n"
       ]
      },
      {
       "output_type": "stream",
       "stream": "stdout",
       "text": [
        "[ubuntu@ec2-54-225-5-82.compute-1.amazonaws.com] out: "
       ]
      },
      {
       "output_type": "stream",
       "stream": "stdout",
       "text": [
        "100% [Working]"
       ]
      },
      {
       "output_type": "stream",
       "stream": "stdout",
       "text": [
        "\n"
       ]
      },
      {
       "output_type": "stream",
       "stream": "stdout",
       "text": [
        "[ubuntu@ec2-54-225-5-82.compute-1.amazonaws.com] out: "
       ]
      },
      {
       "output_type": "stream",
       "stream": "stdout",
       "text": [
        "              \n"
       ]
      },
      {
       "output_type": "stream",
       "stream": "stdout",
       "text": [
        "[ubuntu@ec2-54-225-5-82.compute-1.amazonaws.com] out: "
       ]
      },
      {
       "output_type": "stream",
       "stream": "stdout",
       "text": [
        "100% [12 Packages bzip2]"
       ]
      },
      {
       "output_type": "stream",
       "stream": "stdout",
       "text": [
        "\n"
       ]
      },
      {
       "output_type": "stream",
       "stream": "stdout",
       "text": [
        "[ubuntu@ec2-54-225-5-82.compute-1.amazonaws.com] out: "
       ]
      },
      {
       "output_type": "stream",
       "stream": "stdout",
       "text": [
        "                        \n"
       ]
      },
      {
       "output_type": "stream",
       "stream": "stdout",
       "text": [
        "[ubuntu@ec2-54-225-5-82.compute-1.amazonaws.com] out: "
       ]
      },
      {
       "output_type": "stream",
       "stream": "stdout",
       "text": [
        "100% [Working]"
       ]
      },
      {
       "output_type": "stream",
       "stream": "stdout",
       "text": [
        "\n"
       ]
      },
      {
       "output_type": "stream",
       "stream": "stdout",
       "text": [
        "[ubuntu@ec2-54-225-5-82.compute-1.amazonaws.com] out: "
       ]
      },
      {
       "output_type": "stream",
       "stream": "stdout",
       "text": [
        "              \n"
       ]
      },
      {
       "output_type": "stream",
       "stream": "stdout",
       "text": [
        "[ubuntu@ec2-54-225-5-82.compute-1.amazonaws.com] out: "
       ]
      },
      {
       "output_type": "stream",
       "stream": "stdout",
       "text": [
        "100% [13 Packages bzip2]"
       ]
      },
      {
       "output_type": "stream",
       "stream": "stdout",
       "text": [
        "\n"
       ]
      },
      {
       "output_type": "stream",
       "stream": "stdout",
       "text": [
        "[ubuntu@ec2-54-225-5-82.compute-1.amazonaws.com] out: "
       ]
      },
      {
       "output_type": "stream",
       "stream": "stdout",
       "text": [
        "                        \n"
       ]
      },
      {
       "output_type": "stream",
       "stream": "stdout",
       "text": [
        "[ubuntu@ec2-54-225-5-82.compute-1.amazonaws.com] out: "
       ]
      },
      {
       "output_type": "stream",
       "stream": "stdout",
       "text": [
        "100% [13 Packages bzip2]                                           4,121 kB/s 0s"
       ]
      },
      {
       "output_type": "stream",
       "stream": "stdout",
       "text": [
        "\n"
       ]
      },
      {
       "output_type": "stream",
       "stream": "stdout",
       "text": [
        "[ubuntu@ec2-54-225-5-82.compute-1.amazonaws.com] out: "
       ]
      },
      {
       "output_type": "stream",
       "stream": "stdout",
       "text": [
        "                                                                                \n"
       ]
      },
      {
       "output_type": "stream",
       "stream": "stdout",
       "text": [
        "[ubuntu@ec2-54-225-5-82.compute-1.amazonaws.com] out: "
       ]
      },
      {
       "output_type": "stream",
       "stream": "stdout",
       "text": [
        "100% [Working]                                                     4,121 kB/s 0s"
       ]
      },
      {
       "output_type": "stream",
       "stream": "stdout",
       "text": [
        "\n"
       ]
      },
      {
       "output_type": "stream",
       "stream": "stdout",
       "text": [
        "[ubuntu@ec2-54-225-5-82.compute-1.amazonaws.com] out: "
       ]
      },
      {
       "output_type": "stream",
       "stream": "stdout",
       "text": [
        "                                                                                \n"
       ]
      },
      {
       "output_type": "stream",
       "stream": "stdout",
       "text": [
        "[ubuntu@ec2-54-225-5-82.compute-1.amazonaws.com] out: "
       ]
      },
      {
       "output_type": "stream",
       "stream": "stdout",
       "text": [
        "100% [16 Packages bzip2]                                           4,121 kB/s 0s\n"
       ]
      },
      {
       "output_type": "stream",
       "stream": "stdout",
       "text": [
        "[ubuntu@ec2-54-225-5-82.compute-1.amazonaws.com] out: "
       ]
      },
      {
       "output_type": "stream",
       "stream": "stdout",
       "text": [
        "                                                                                \n"
       ]
      },
      {
       "output_type": "stream",
       "stream": "stdout",
       "text": [
        "[ubuntu@ec2-54-225-5-82.compute-1.amazonaws.com] out: "
       ]
      },
      {
       "output_type": "stream",
       "stream": "stdout",
       "text": [
        "100% [Working]                                                     4,121 kB/s 0s"
       ]
      },
      {
       "output_type": "stream",
       "stream": "stdout",
       "text": [
        "\n"
       ]
      },
      {
       "output_type": "stream",
       "stream": "stdout",
       "text": [
        "[ubuntu@ec2-54-225-5-82.compute-1.amazonaws.com] out: "
       ]
      },
      {
       "output_type": "stream",
       "stream": "stdout",
       "text": [
        "                                                                                \n"
       ]
      },
      {
       "output_type": "stream",
       "stream": "stdout",
       "text": [
        "[ubuntu@ec2-54-225-5-82.compute-1.amazonaws.com] out: "
       ]
      },
      {
       "output_type": "stream",
       "stream": "stdout",
       "text": [
        "100% [17 Packages bzip2]                                           4,121 kB/s 0s"
       ]
      },
      {
       "output_type": "stream",
       "stream": "stdout",
       "text": [
        "\n"
       ]
      },
      {
       "output_type": "stream",
       "stream": "stdout",
       "text": [
        "[ubuntu@ec2-54-225-5-82.compute-1.amazonaws.com] out: "
       ]
      },
      {
       "output_type": "stream",
       "stream": "stdout",
       "text": [
        "                                                                                \n"
       ]
      },
      {
       "output_type": "stream",
       "stream": "stdout",
       "text": [
        "[ubuntu@ec2-54-225-5-82.compute-1.amazonaws.com] out: "
       ]
      },
      {
       "output_type": "stream",
       "stream": "stdout",
       "text": [
        "100% [Working]                                                     4,121 kB/s 0s"
       ]
      },
      {
       "output_type": "stream",
       "stream": "stdout",
       "text": [
        "\n"
       ]
      },
      {
       "output_type": "stream",
       "stream": "stdout",
       "text": [
        "[ubuntu@ec2-54-225-5-82.compute-1.amazonaws.com] out: "
       ]
      },
      {
       "output_type": "stream",
       "stream": "stdout",
       "text": [
        "                                                                                \n"
       ]
      },
      {
       "output_type": "stream",
       "stream": "stdout",
       "text": [
        "[ubuntu@ec2-54-225-5-82.compute-1.amazonaws.com] out: "
       ]
      },
      {
       "output_type": "stream",
       "stream": "stdout",
       "text": [
        "100% [Working]"
       ]
      },
      {
       "output_type": "stream",
       "stream": "stdout",
       "text": [
        "\n"
       ]
      },
      {
       "output_type": "stream",
       "stream": "stdout",
       "text": [
        "[ubuntu@ec2-54-225-5-82.compute-1.amazonaws.com] out: "
       ]
      },
      {
       "output_type": "stream",
       "stream": "stdout",
       "text": [
        "              \n"
       ]
      },
      {
       "output_type": "stream",
       "stream": "stdout",
       "text": [
        "[ubuntu@ec2-54-225-5-82.compute-1.amazonaws.com] out: "
       ]
      },
      {
       "output_type": "stream",
       "stream": "stdout",
       "text": [
        "100% [34 Translation-en bzip2]"
       ]
      },
      {
       "output_type": "stream",
       "stream": "stdout",
       "text": [
        "\n"
       ]
      },
      {
       "output_type": "stream",
       "stream": "stdout",
       "text": [
        "[ubuntu@ec2-54-225-5-82.compute-1.amazonaws.com] out: "
       ]
      },
      {
       "output_type": "stream",
       "stream": "stdout",
       "text": [
        "                              \n"
       ]
      },
      {
       "output_type": "stream",
       "stream": "stdout",
       "text": [
        "[ubuntu@ec2-54-225-5-82.compute-1.amazonaws.com] out: "
       ]
      },
      {
       "output_type": "stream",
       "stream": "stdout",
       "text": [
        "100% [Working]\n"
       ]
      },
      {
       "output_type": "stream",
       "stream": "stdout",
       "text": [
        "[ubuntu@ec2-54-225-5-82.compute-1.amazonaws.com] out: "
       ]
      },
      {
       "output_type": "stream",
       "stream": "stdout",
       "text": [
        "              \n"
       ]
      },
      {
       "output_type": "stream",
       "stream": "stdout",
       "text": [
        "[ubuntu@ec2-54-225-5-82.compute-1.amazonaws.com] out: "
       ]
      },
      {
       "output_type": "stream",
       "stream": "stdout",
       "text": [
        "Fetched 25.8 MB in 15s (1,620 kB/s)\n"
       ]
      },
      {
       "output_type": "stream",
       "stream": "stdout",
       "text": [
        "[ubuntu@ec2-54-225-5-82.compute-1.amazonaws.com] out: "
       ]
      },
      {
       "output_type": "stream",
       "stream": "stdout",
       "text": [
        "\n"
       ]
      },
      {
       "output_type": "stream",
       "stream": "stdout",
       "text": [
        "[ubuntu@ec2-54-225-5-82.compute-1.amazonaws.com] out: "
       ]
      },
      {
       "output_type": "stream",
       "stream": "stdout",
       "text": [
        "\n"
       ]
      },
      {
       "output_type": "stream",
       "stream": "stdout",
       "text": [
        "[ubuntu@ec2-54-225-5-82.compute-1.amazonaws.com] out: "
       ]
      },
      {
       "output_type": "stream",
       "stream": "stdout",
       "text": [
        "[  0%] Reading package lists"
       ]
      },
      {
       "output_type": "stream",
       "stream": "stdout",
       "text": [
        "\n"
       ]
      },
      {
       "output_type": "stream",
       "stream": "stdout",
       "text": [
        "[ubuntu@ec2-54-225-5-82.compute-1.amazonaws.com] out: "
       ]
      },
      {
       "output_type": "stream",
       "stream": "stdout",
       "text": [
        "                            \n"
       ]
      },
      {
       "output_type": "stream",
       "stream": "stdout",
       "text": [
        "[ubuntu@ec2-54-225-5-82.compute-1.amazonaws.com] out: "
       ]
      },
      {
       "output_type": "stream",
       "stream": "stdout",
       "text": [
        "[100%] Reading package lists"
       ]
      },
      {
       "output_type": "stream",
       "stream": "stdout",
       "text": [
        "\n"
       ]
      },
      {
       "output_type": "stream",
       "stream": "stdout",
       "text": [
        "[ubuntu@ec2-54-225-5-82.compute-1.amazonaws.com] out: "
       ]
      },
      {
       "output_type": "stream",
       "stream": "stdout",
       "text": [
        "                            \n"
       ]
      },
      {
       "output_type": "stream",
       "stream": "stdout",
       "text": [
        "[ubuntu@ec2-54-225-5-82.compute-1.amazonaws.com] out: "
       ]
      },
      {
       "output_type": "stream",
       "stream": "stdout",
       "text": [
        "\n"
       ]
      },
      {
       "output_type": "stream",
       "stream": "stdout",
       "text": [
        "[ubuntu@ec2-54-225-5-82.compute-1.amazonaws.com] out: "
       ]
      },
      {
       "output_type": "stream",
       "stream": "stdout",
       "text": [
        "Current status: 7 updates [+7], 90 new [+90].\n"
       ]
      },
      {
       "output_type": "stream",
       "stream": "stdout",
       "text": [
        "[ubuntu@ec2-54-225-5-82.compute-1.amazonaws.com] out: "
       ]
      },
      {
       "output_type": "stream",
       "stream": "stdout",
       "text": [
        "\n"
       ]
      },
      {
       "output_type": "stream",
       "stream": "stdout",
       "text": [
        "\n",
        "[ubuntu@ec2-54-225-5-82.compute-1.amazonaws.com] sudo: yes | aptitude upgrade\n",
        "[ubuntu@ec2-54-225-5-82.compute-1.amazonaws.com] out: "
       ]
      },
      {
       "output_type": "stream",
       "stream": "stdout",
       "text": [
        "\n"
       ]
      },
      {
       "output_type": "stream",
       "stream": "stdout",
       "text": [
        "[ubuntu@ec2-54-225-5-82.compute-1.amazonaws.com] out: "
       ]
      },
      {
       "output_type": "stream",
       "stream": "stdout",
       "text": [
        "\n"
       ]
      },
      {
       "output_type": "stream",
       "stream": "stdout",
       "text": [
        "[ubuntu@ec2-54-225-5-82.compute-1.amazonaws.com] out: "
       ]
      },
      {
       "output_type": "stream",
       "stream": "stdout",
       "text": [
        "[  0%] Reading package lists"
       ]
      },
      {
       "output_type": "stream",
       "stream": "stdout",
       "text": [
        "\n"
       ]
      },
      {
       "output_type": "stream",
       "stream": "stdout",
       "text": [
        "[ubuntu@ec2-54-225-5-82.compute-1.amazonaws.com] out: "
       ]
      },
      {
       "output_type": "stream",
       "stream": "stdout",
       "text": [
        "                            \n"
       ]
      },
      {
       "output_type": "stream",
       "stream": "stdout",
       "text": [
        "[ubuntu@ec2-54-225-5-82.compute-1.amazonaws.com] out: "
       ]
      },
      {
       "output_type": "stream",
       "stream": "stdout",
       "text": [
        "[100%] Reading package lists\n"
       ]
      },
      {
       "output_type": "stream",
       "stream": "stdout",
       "text": [
        "[ubuntu@ec2-54-225-5-82.compute-1.amazonaws.com] out: "
       ]
      },
      {
       "output_type": "stream",
       "stream": "stdout",
       "text": [
        "                            \n"
       ]
      },
      {
       "output_type": "stream",
       "stream": "stdout",
       "text": [
        "[ubuntu@ec2-54-225-5-82.compute-1.amazonaws.com] out: "
       ]
      },
      {
       "output_type": "stream",
       "stream": "stdout",
       "text": [
        "\n"
       ]
      },
      {
       "output_type": "stream",
       "stream": "stdout",
       "text": [
        "[ubuntu@ec2-54-225-5-82.compute-1.amazonaws.com] out: "
       ]
      },
      {
       "output_type": "stream",
       "stream": "stdout",
       "text": [
        "\n"
       ]
      },
      {
       "output_type": "stream",
       "stream": "stdout",
       "text": [
        "[ubuntu@ec2-54-225-5-82.compute-1.amazonaws.com] out: "
       ]
      },
      {
       "output_type": "stream",
       "stream": "stdout",
       "text": [
        "[  0%] Building dependency tree"
       ]
      },
      {
       "output_type": "stream",
       "stream": "stdout",
       "text": [
        "\n"
       ]
      },
      {
       "output_type": "stream",
       "stream": "stdout",
       "text": [
        "[ubuntu@ec2-54-225-5-82.compute-1.amazonaws.com] out: "
       ]
      },
      {
       "output_type": "stream",
       "stream": "stdout",
       "text": [
        "                               \n"
       ]
      },
      {
       "output_type": "stream",
       "stream": "stdout",
       "text": [
        "[ubuntu@ec2-54-225-5-82.compute-1.amazonaws.com] out: "
       ]
      },
      {
       "output_type": "stream",
       "stream": "stdout",
       "text": [
        "[100%] Building dependency tree"
       ]
      },
      {
       "output_type": "stream",
       "stream": "stdout",
       "text": [
        "\n"
       ]
      },
      {
       "output_type": "stream",
       "stream": "stdout",
       "text": [
        "[ubuntu@ec2-54-225-5-82.compute-1.amazonaws.com] out: "
       ]
      },
      {
       "output_type": "stream",
       "stream": "stdout",
       "text": [
        "                               \n"
       ]
      },
      {
       "output_type": "stream",
       "stream": "stdout",
       "text": [
        "[ubuntu@ec2-54-225-5-82.compute-1.amazonaws.com] out: "
       ]
      },
      {
       "output_type": "stream",
       "stream": "stdout",
       "text": [
        "[  0%] Reading state information\n"
       ]
      },
      {
       "output_type": "stream",
       "stream": "stdout",
       "text": [
        "[ubuntu@ec2-54-225-5-82.compute-1.amazonaws.com] out: "
       ]
      },
      {
       "output_type": "stream",
       "stream": "stdout",
       "text": [
        "                                \n"
       ]
      },
      {
       "output_type": "stream",
       "stream": "stdout",
       "text": [
        "[ubuntu@ec2-54-225-5-82.compute-1.amazonaws.com] out: "
       ]
      },
      {
       "output_type": "stream",
       "stream": "stdout",
       "text": [
        "[100%] Reading state information\n"
       ]
      },
      {
       "output_type": "stream",
       "stream": "stdout",
       "text": [
        "[ubuntu@ec2-54-225-5-82.compute-1.amazonaws.com] out: "
       ]
      },
      {
       "output_type": "stream",
       "stream": "stdout",
       "text": [
        "                                \n"
       ]
      },
      {
       "output_type": "stream",
       "stream": "stdout",
       "text": [
        "[ubuntu@ec2-54-225-5-82.compute-1.amazonaws.com] out: "
       ]
      },
      {
       "output_type": "stream",
       "stream": "stdout",
       "text": [
        "\n"
       ]
      },
      {
       "output_type": "stream",
       "stream": "stdout",
       "text": [
        "[ubuntu@ec2-54-225-5-82.compute-1.amazonaws.com] out: "
       ]
      },
      {
       "output_type": "stream",
       "stream": "stdout",
       "text": [
        "\n"
       ]
      },
      {
       "output_type": "stream",
       "stream": "stdout",
       "text": [
        "[ubuntu@ec2-54-225-5-82.compute-1.amazonaws.com] out: "
       ]
      },
      {
       "output_type": "stream",
       "stream": "stdout",
       "text": [
        "[  0%] Reading extended state information"
       ]
      },
      {
       "output_type": "stream",
       "stream": "stdout",
       "text": [
        "\n"
       ]
      },
      {
       "output_type": "stream",
       "stream": "stdout",
       "text": [
        "[ubuntu@ec2-54-225-5-82.compute-1.amazonaws.com] out: "
       ]
      },
      {
       "output_type": "stream",
       "stream": "stdout",
       "text": [
        "                                         \n"
       ]
      },
      {
       "output_type": "stream",
       "stream": "stdout",
       "text": [
        "[ubuntu@ec2-54-225-5-82.compute-1.amazonaws.com] out: "
       ]
      },
      {
       "output_type": "stream",
       "stream": "stdout",
       "text": [
        "[100%] Reading extended state information\n"
       ]
      },
      {
       "output_type": "stream",
       "stream": "stdout",
       "text": [
        "[ubuntu@ec2-54-225-5-82.compute-1.amazonaws.com] out: "
       ]
      },
      {
       "output_type": "stream",
       "stream": "stdout",
       "text": [
        "                                         \n"
       ]
      },
      {
       "output_type": "stream",
       "stream": "stdout",
       "text": [
        "[ubuntu@ec2-54-225-5-82.compute-1.amazonaws.com] out: "
       ]
      },
      {
       "output_type": "stream",
       "stream": "stdout",
       "text": [
        "\n"
       ]
      },
      {
       "output_type": "stream",
       "stream": "stdout",
       "text": [
        "[ubuntu@ec2-54-225-5-82.compute-1.amazonaws.com] out: "
       ]
      },
      {
       "output_type": "stream",
       "stream": "stdout",
       "text": [
        "\n"
       ]
      },
      {
       "output_type": "stream",
       "stream": "stdout",
       "text": [
        "[ubuntu@ec2-54-225-5-82.compute-1.amazonaws.com] out: "
       ]
      },
      {
       "output_type": "stream",
       "stream": "stdout",
       "text": [
        "[  0%] Initializing package states"
       ]
      },
      {
       "output_type": "stream",
       "stream": "stdout",
       "text": [
        "\n"
       ]
      },
      {
       "output_type": "stream",
       "stream": "stdout",
       "text": [
        "[ubuntu@ec2-54-225-5-82.compute-1.amazonaws.com] out: "
       ]
      },
      {
       "output_type": "stream",
       "stream": "stdout",
       "text": [
        "                                  \n"
       ]
      },
      {
       "output_type": "stream",
       "stream": "stdout",
       "text": [
        "[ubuntu@ec2-54-225-5-82.compute-1.amazonaws.com] out: "
       ]
      },
      {
       "output_type": "stream",
       "stream": "stdout",
       "text": [
        "Resolving dependencies...\n"
       ]
      },
      {
       "output_type": "stream",
       "stream": "stdout",
       "text": [
        "[ubuntu@ec2-54-225-5-82.compute-1.amazonaws.com] out: "
       ]
      },
      {
       "output_type": "stream",
       "stream": "stdout",
       "text": [
        "The following NEW packages will be installed:\n"
       ]
      },
      {
       "output_type": "stream",
       "stream": "stdout",
       "text": [
        "[ubuntu@ec2-54-225-5-82.compute-1.amazonaws.com] out: "
       ]
      },
      {
       "output_type": "stream",
       "stream": "stdout",
       "text": [
        "  linux-headers-3.2.0-44{a} linux-headers-3.2.0-44-virtual{a} \n"
       ]
      },
      {
       "output_type": "stream",
       "stream": "stdout",
       "text": [
        "[ubuntu@ec2-54-225-5-82.compute-1.amazonaws.com] out: "
       ]
      },
      {
       "output_type": "stream",
       "stream": "stdout",
       "text": [
        "  linux-image-3.2.0-44-virtual{a} \n"
       ]
      },
      {
       "output_type": "stream",
       "stream": "stdout",
       "text": [
        "[ubuntu@ec2-54-225-5-82.compute-1.amazonaws.com] out: "
       ]
      },
      {
       "output_type": "stream",
       "stream": "stdout",
       "text": [
        "The following packages will be upgraded:\n"
       ]
      },
      {
       "output_type": "stream",
       "stream": "stdout",
       "text": [
        "[ubuntu@ec2-54-225-5-82.compute-1.amazonaws.com] out: "
       ]
      },
      {
       "output_type": "stream",
       "stream": "stdout",
       "text": [
        "  bash-completion linux-headers-virtual linux-image-virtual linux-virtual \n"
       ]
      },
      {
       "output_type": "stream",
       "stream": "stdout",
       "text": [
        "[ubuntu@ec2-54-225-5-82.compute-1.amazonaws.com] out: "
       ]
      },
      {
       "output_type": "stream",
       "stream": "stdout",
       "text": [
        "  python-apt python-apt-common rsyslog \n"
       ]
      },
      {
       "output_type": "stream",
       "stream": "stdout",
       "text": [
        "[ubuntu@ec2-54-225-5-82.compute-1.amazonaws.com] out: "
       ]
      },
      {
       "output_type": "stream",
       "stream": "stdout",
       "text": [
        "7 packages upgraded, 3 newly installed, 0 to remove and 0 not upgraded.\n"
       ]
      },
      {
       "output_type": "stream",
       "stream": "stdout",
       "text": [
        "[ubuntu@ec2-54-225-5-82.compute-1.amazonaws.com] out: "
       ]
      },
      {
       "output_type": "stream",
       "stream": "stdout",
       "text": [
        "Need to get 25.9 MB of archives. After unpacking 102 MB will be used.\n"
       ]
      },
      {
       "output_type": "stream",
       "stream": "stdout",
       "text": [
        "[ubuntu@ec2-54-225-5-82.compute-1.amazonaws.com] out: "
       ]
      },
      {
       "output_type": "stream",
       "stream": "stdout",
       "text": [
        "Do you want to continue? [Y/n/?] \n"
       ]
      },
      {
       "output_type": "stream",
       "stream": "stdout",
       "text": [
        "[ubuntu@ec2-54-225-5-82.compute-1.amazonaws.com] out: "
       ]
      },
      {
       "output_type": "stream",
       "stream": "stdout",
       "text": [
        "\n"
       ]
      },
      {
       "output_type": "stream",
       "stream": "stdout",
       "text": [
        "[ubuntu@ec2-54-225-5-82.compute-1.amazonaws.com] out: "
       ]
      },
      {
       "output_type": "stream",
       "stream": "stdout",
       "text": [
        "[  0%] Writing extended state information\n"
       ]
      },
      {
       "output_type": "stream",
       "stream": "stdout",
       "text": [
        "[ubuntu@ec2-54-225-5-82.compute-1.amazonaws.com] out: "
       ]
      },
      {
       "output_type": "stream",
       "stream": "stdout",
       "text": [
        "                                         \n"
       ]
      },
      {
       "output_type": "stream",
       "stream": "stdout",
       "text": [
        "[ubuntu@ec2-54-225-5-82.compute-1.amazonaws.com] out: "
       ]
      },
      {
       "output_type": "stream",
       "stream": "stdout",
       "text": [
        "[100%] Writing extended state information"
       ]
      },
      {
       "output_type": "stream",
       "stream": "stdout",
       "text": [
        "\n"
       ]
      },
      {
       "output_type": "stream",
       "stream": "stdout",
       "text": [
        "[ubuntu@ec2-54-225-5-82.compute-1.amazonaws.com] out: "
       ]
      },
      {
       "output_type": "stream",
       "stream": "stdout",
       "text": [
        "                                         \n"
       ]
      },
      {
       "output_type": "stream",
       "stream": "stdout",
       "text": [
        "[ubuntu@ec2-54-225-5-82.compute-1.amazonaws.com] out: "
       ]
      },
      {
       "output_type": "stream",
       "stream": "stdout",
       "text": [
        "\n"
       ]
      },
      {
       "output_type": "stream",
       "stream": "stdout",
       "text": [
        "[ubuntu@ec2-54-225-5-82.compute-1.amazonaws.com] out: "
       ]
      },
      {
       "output_type": "stream",
       "stream": "stdout",
       "text": [
        "\n"
       ]
      },
      {
       "output_type": "stream",
       "stream": "stdout",
       "text": [
        "[ubuntu@ec2-54-225-5-82.compute-1.amazonaws.com] out: "
       ]
      },
      {
       "output_type": "stream",
       "stream": "stdout",
       "text": [
        "0% [Working]"
       ]
      },
      {
       "output_type": "stream",
       "stream": "stdout",
       "text": [
        "\n"
       ]
      },
      {
       "output_type": "stream",
       "stream": "stdout",
       "text": [
        "[ubuntu@ec2-54-225-5-82.compute-1.amazonaws.com] out: "
       ]
      },
      {
       "output_type": "stream",
       "stream": "stdout",
       "text": [
        "            \n"
       ]
      },
      {
       "output_type": "stream",
       "stream": "stdout",
       "text": [
        "[ubuntu@ec2-54-225-5-82.compute-1.amazonaws.com] out: "
       ]
      },
      {
       "output_type": "stream",
       "stream": "stdout",
       "text": [
        "Get: 1 http://us-east-1.ec2.archive.ubuntu.com/ubuntu/ precise-updates/main bash-completion all 1:1.3-1ubuntu8.1 [134 kB]\n"
       ]
      },
      {
       "output_type": "stream",
       "stream": "stdout",
       "text": [
        "[ubuntu@ec2-54-225-5-82.compute-1.amazonaws.com] out: "
       ]
      },
      {
       "output_type": "stream",
       "stream": "stdout",
       "text": [
        "\n"
       ]
      },
      {
       "output_type": "stream",
       "stream": "stdout",
       "text": [
        "[ubuntu@ec2-54-225-5-82.compute-1.amazonaws.com] out: "
       ]
      },
      {
       "output_type": "stream",
       "stream": "stdout",
       "text": [
        "\n"
       ]
      },
      {
       "output_type": "stream",
       "stream": "stdout",
       "text": [
        "[ubuntu@ec2-54-225-5-82.compute-1.amazonaws.com] out: "
       ]
      },
      {
       "output_type": "stream",
       "stream": "stdout",
       "text": [
        "0% [1 bash-completion 0 B/134 kB 0%]\n"
       ]
      },
      {
       "output_type": "stream",
       "stream": "stdout",
       "text": [
        "[ubuntu@ec2-54-225-5-82.compute-1.amazonaws.com] out: "
       ]
      },
      {
       "output_type": "stream",
       "stream": "stdout",
       "text": [
        "                                    \n"
       ]
      },
      {
       "output_type": "stream",
       "stream": "stdout",
       "text": [
        "[ubuntu@ec2-54-225-5-82.compute-1.amazonaws.com] out: "
       ]
      },
      {
       "output_type": "stream",
       "stream": "stdout",
       "text": [
        "1% [Working]"
       ]
      },
      {
       "output_type": "stream",
       "stream": "stdout",
       "text": [
        "\n"
       ]
      },
      {
       "output_type": "stream",
       "stream": "stdout",
       "text": [
        "[ubuntu@ec2-54-225-5-82.compute-1.amazonaws.com] out: "
       ]
      },
      {
       "output_type": "stream",
       "stream": "stdout",
       "text": [
        "            \n"
       ]
      },
      {
       "output_type": "stream",
       "stream": "stdout",
       "text": [
        "[ubuntu@ec2-54-225-5-82.compute-1.amazonaws.com] out: "
       ]
      },
      {
       "output_type": "stream",
       "stream": "stdout",
       "text": [
        "Get: 2 http://us-east-1.ec2.archive.ubuntu.com/ubuntu/ precise-updates/main linux-image-3.2.0-44-virtual amd64 3.2.0-44.69 [12.5 MB]\n"
       ]
      },
      {
       "output_type": "stream",
       "stream": "stdout",
       "text": [
        "[ubuntu@ec2-54-225-5-82.compute-1.amazonaws.com] out: "
       ]
      },
      {
       "output_type": "stream",
       "stream": "stdout",
       "text": [
        "\n"
       ]
      },
      {
       "output_type": "stream",
       "stream": "stdout",
       "text": [
        "[ubuntu@ec2-54-225-5-82.compute-1.amazonaws.com] out: "
       ]
      },
      {
       "output_type": "stream",
       "stream": "stdout",
       "text": [
        "\n"
       ]
      },
      {
       "output_type": "stream",
       "stream": "stdout",
       "text": [
        "[ubuntu@ec2-54-225-5-82.compute-1.amazonaws.com] out: "
       ]
      },
      {
       "output_type": "stream",
       "stream": "stdout",
       "text": [
        "1% [2 linux-image-3.2.0-44-virtual 0 B/12.5 MB 0%]"
       ]
      },
      {
       "output_type": "stream",
       "stream": "stdout",
       "text": [
        "\n"
       ]
      },
      {
       "output_type": "stream",
       "stream": "stdout",
       "text": [
        "[ubuntu@ec2-54-225-5-82.compute-1.amazonaws.com] out: "
       ]
      },
      {
       "output_type": "stream",
       "stream": "stdout",
       "text": [
        "                                                  \n"
       ]
      },
      {
       "output_type": "stream",
       "stream": "stdout",
       "text": [
        "[ubuntu@ec2-54-225-5-82.compute-1.amazonaws.com] out: "
       ]
      },
      {
       "output_type": "stream",
       "stream": "stdout",
       "text": [
        "32% [2 linux-image-3.2.0-44-virtual 8,144 kB/12.5 MB 65%]"
       ]
      },
      {
       "output_type": "stream",
       "stream": "stdout",
       "text": [
        "\n"
       ]
      },
      {
       "output_type": "stream",
       "stream": "stdout",
       "text": [
        "[ubuntu@ec2-54-225-5-82.compute-1.amazonaws.com] out: "
       ]
      },
      {
       "output_type": "stream",
       "stream": "stdout",
       "text": [
        "                                                         \n"
       ]
      },
      {
       "output_type": "stream",
       "stream": "stdout",
       "text": [
        "[ubuntu@ec2-54-225-5-82.compute-1.amazonaws.com] out: "
       ]
      },
      {
       "output_type": "stream",
       "stream": "stdout",
       "text": [
        "49% [Working]"
       ]
      },
      {
       "output_type": "stream",
       "stream": "stdout",
       "text": [
        "\n"
       ]
      },
      {
       "output_type": "stream",
       "stream": "stdout",
       "text": [
        "[ubuntu@ec2-54-225-5-82.compute-1.amazonaws.com] out: "
       ]
      },
      {
       "output_type": "stream",
       "stream": "stdout",
       "text": [
        "             \n"
       ]
      },
      {
       "output_type": "stream",
       "stream": "stdout",
       "text": [
        "[ubuntu@ec2-54-225-5-82.compute-1.amazonaws.com] out: "
       ]
      },
      {
       "output_type": "stream",
       "stream": "stdout",
       "text": [
        "Get: 3 http://us-east-1.ec2.archive.ubuntu.com/ubuntu/ precise-updates/main rsyslog amd64 5.8.6-1ubuntu8.2 [427 kB]\n"
       ]
      },
      {
       "output_type": "stream",
       "stream": "stdout",
       "text": [
        "[ubuntu@ec2-54-225-5-82.compute-1.amazonaws.com] out: "
       ]
      },
      {
       "output_type": "stream",
       "stream": "stdout",
       "text": [
        "\n"
       ]
      },
      {
       "output_type": "stream",
       "stream": "stdout",
       "text": [
        "[ubuntu@ec2-54-225-5-82.compute-1.amazonaws.com] out: "
       ]
      },
      {
       "output_type": "stream",
       "stream": "stdout",
       "text": [
        "\n"
       ]
      },
      {
       "output_type": "stream",
       "stream": "stdout",
       "text": [
        "[ubuntu@ec2-54-225-5-82.compute-1.amazonaws.com] out: "
       ]
      },
      {
       "output_type": "stream",
       "stream": "stdout",
       "text": [
        "49% [3 rsyslog 0 B/427 kB 0%]"
       ]
      },
      {
       "output_type": "stream",
       "stream": "stdout",
       "text": [
        "\n"
       ]
      },
      {
       "output_type": "stream",
       "stream": "stdout",
       "text": [
        "[ubuntu@ec2-54-225-5-82.compute-1.amazonaws.com] out: "
       ]
      },
      {
       "output_type": "stream",
       "stream": "stdout",
       "text": [
        "                             \n"
       ]
      },
      {
       "output_type": "stream",
       "stream": "stdout",
       "text": [
        "[ubuntu@ec2-54-225-5-82.compute-1.amazonaws.com] out: "
       ]
      },
      {
       "output_type": "stream",
       "stream": "stdout",
       "text": [
        "50% [Working]"
       ]
      },
      {
       "output_type": "stream",
       "stream": "stdout",
       "text": [
        "\n"
       ]
      },
      {
       "output_type": "stream",
       "stream": "stdout",
       "text": [
        "[ubuntu@ec2-54-225-5-82.compute-1.amazonaws.com] out: "
       ]
      },
      {
       "output_type": "stream",
       "stream": "stdout",
       "text": [
        "             \n"
       ]
      },
      {
       "output_type": "stream",
       "stream": "stdout",
       "text": [
        "[ubuntu@ec2-54-225-5-82.compute-1.amazonaws.com] out: "
       ]
      },
      {
       "output_type": "stream",
       "stream": "stdout",
       "text": [
        "Get: 4 http://us-east-1.ec2.archive.ubuntu.com/ubuntu/ precise-updates/main python-apt-common all 0.8.3ubuntu7.1 [21.7 kB]\n"
       ]
      },
      {
       "output_type": "stream",
       "stream": "stdout",
       "text": [
        "[ubuntu@ec2-54-225-5-82.compute-1.amazonaws.com] out: "
       ]
      },
      {
       "output_type": "stream",
       "stream": "stdout",
       "text": [
        "\n"
       ]
      },
      {
       "output_type": "stream",
       "stream": "stdout",
       "text": [
        "[ubuntu@ec2-54-225-5-82.compute-1.amazonaws.com] out: "
       ]
      },
      {
       "output_type": "stream",
       "stream": "stdout",
       "text": [
        "\n"
       ]
      },
      {
       "output_type": "stream",
       "stream": "stdout",
       "text": [
        "[ubuntu@ec2-54-225-5-82.compute-1.amazonaws.com] out: "
       ]
      },
      {
       "output_type": "stream",
       "stream": "stdout",
       "text": [
        "50% [4 python-apt-common 0 B/21.7 kB 0%]\n"
       ]
      },
      {
       "output_type": "stream",
       "stream": "stdout",
       "text": [
        "[ubuntu@ec2-54-225-5-82.compute-1.amazonaws.com] out: "
       ]
      },
      {
       "output_type": "stream",
       "stream": "stdout",
       "text": [
        "                                        \n"
       ]
      },
      {
       "output_type": "stream",
       "stream": "stdout",
       "text": [
        "[ubuntu@ec2-54-225-5-82.compute-1.amazonaws.com] out: "
       ]
      },
      {
       "output_type": "stream",
       "stream": "stdout",
       "text": [
        "50% [Working]"
       ]
      },
      {
       "output_type": "stream",
       "stream": "stdout",
       "text": [
        "\n"
       ]
      },
      {
       "output_type": "stream",
       "stream": "stdout",
       "text": [
        "[ubuntu@ec2-54-225-5-82.compute-1.amazonaws.com] out: "
       ]
      },
      {
       "output_type": "stream",
       "stream": "stdout",
       "text": [
        "             \n"
       ]
      },
      {
       "output_type": "stream",
       "stream": "stdout",
       "text": [
        "[ubuntu@ec2-54-225-5-82.compute-1.amazonaws.com] out: "
       ]
      },
      {
       "output_type": "stream",
       "stream": "stdout",
       "text": [
        "Get: 5 http://us-east-1.ec2.archive.ubuntu.com/ubuntu/ precise-updates/main python-apt amd64 0.8.3ubuntu7.1 [188 kB]\n"
       ]
      },
      {
       "output_type": "stream",
       "stream": "stdout",
       "text": [
        "[ubuntu@ec2-54-225-5-82.compute-1.amazonaws.com] out: "
       ]
      },
      {
       "output_type": "stream",
       "stream": "stdout",
       "text": [
        "\n"
       ]
      },
      {
       "output_type": "stream",
       "stream": "stdout",
       "text": [
        "[ubuntu@ec2-54-225-5-82.compute-1.amazonaws.com] out: "
       ]
      },
      {
       "output_type": "stream",
       "stream": "stdout",
       "text": [
        "\n"
       ]
      },
      {
       "output_type": "stream",
       "stream": "stdout",
       "text": [
        "[ubuntu@ec2-54-225-5-82.compute-1.amazonaws.com] out: "
       ]
      },
      {
       "output_type": "stream",
       "stream": "stdout",
       "text": [
        "50% [5 python-apt 0 B/188 kB 0%]\n"
       ]
      },
      {
       "output_type": "stream",
       "stream": "stdout",
       "text": [
        "[ubuntu@ec2-54-225-5-82.compute-1.amazonaws.com] out: "
       ]
      },
      {
       "output_type": "stream",
       "stream": "stdout",
       "text": [
        "                                \n"
       ]
      },
      {
       "output_type": "stream",
       "stream": "stdout",
       "text": [
        "[ubuntu@ec2-54-225-5-82.compute-1.amazonaws.com] out: "
       ]
      },
      {
       "output_type": "stream",
       "stream": "stdout",
       "text": [
        "51% [Working]"
       ]
      },
      {
       "output_type": "stream",
       "stream": "stdout",
       "text": [
        "\n"
       ]
      },
      {
       "output_type": "stream",
       "stream": "stdout",
       "text": [
        "[ubuntu@ec2-54-225-5-82.compute-1.amazonaws.com] out: "
       ]
      },
      {
       "output_type": "stream",
       "stream": "stdout",
       "text": [
        "             \n"
       ]
      },
      {
       "output_type": "stream",
       "stream": "stdout",
       "text": [
        "[ubuntu@ec2-54-225-5-82.compute-1.amazonaws.com] out: "
       ]
      },
      {
       "output_type": "stream",
       "stream": "stdout",
       "text": [
        "Get: 6 http://us-east-1.ec2.archive.ubuntu.com/ubuntu/ precise-updates/main linux-headers-3.2.0-44 all 3.2.0-44.69 [11.7 MB]\n"
       ]
      },
      {
       "output_type": "stream",
       "stream": "stdout",
       "text": [
        "[ubuntu@ec2-54-225-5-82.compute-1.amazonaws.com] out: "
       ]
      },
      {
       "output_type": "stream",
       "stream": "stdout",
       "text": [
        "\n"
       ]
      },
      {
       "output_type": "stream",
       "stream": "stdout",
       "text": [
        "[ubuntu@ec2-54-225-5-82.compute-1.amazonaws.com] out: "
       ]
      },
      {
       "output_type": "stream",
       "stream": "stdout",
       "text": [
        "\n"
       ]
      },
      {
       "output_type": "stream",
       "stream": "stdout",
       "text": [
        "[ubuntu@ec2-54-225-5-82.compute-1.amazonaws.com] out: "
       ]
      },
      {
       "output_type": "stream",
       "stream": "stdout",
       "text": [
        "51% [6 linux-headers-3.2.0-44 0 B/11.7 MB 0%]"
       ]
      },
      {
       "output_type": "stream",
       "stream": "stdout",
       "text": [
        "\n"
       ]
      },
      {
       "output_type": "stream",
       "stream": "stdout",
       "text": [
        "[ubuntu@ec2-54-225-5-82.compute-1.amazonaws.com] out: "
       ]
      },
      {
       "output_type": "stream",
       "stream": "stdout",
       "text": [
        "                                             \n"
       ]
      },
      {
       "output_type": "stream",
       "stream": "stdout",
       "text": [
        "[ubuntu@ec2-54-225-5-82.compute-1.amazonaws.com] out: "
       ]
      },
      {
       "output_type": "stream",
       "stream": "stdout",
       "text": [
        "80% [6 linux-headers-3.2.0-44 7,506 kB/11.7 MB 64%]"
       ]
      },
      {
       "output_type": "stream",
       "stream": "stdout",
       "text": [
        "\n"
       ]
      },
      {
       "output_type": "stream",
       "stream": "stdout",
       "text": [
        "[ubuntu@ec2-54-225-5-82.compute-1.amazonaws.com] out: "
       ]
      },
      {
       "output_type": "stream",
       "stream": "stdout",
       "text": [
        "                                                   \n"
       ]
      },
      {
       "output_type": "stream",
       "stream": "stdout",
       "text": [
        "[ubuntu@ec2-54-225-5-82.compute-1.amazonaws.com] out: "
       ]
      },
      {
       "output_type": "stream",
       "stream": "stdout",
       "text": [
        "96% [Working]"
       ]
      },
      {
       "output_type": "stream",
       "stream": "stdout",
       "text": [
        "\n"
       ]
      },
      {
       "output_type": "stream",
       "stream": "stdout",
       "text": [
        "[ubuntu@ec2-54-225-5-82.compute-1.amazonaws.com] out: "
       ]
      },
      {
       "output_type": "stream",
       "stream": "stdout",
       "text": [
        "             \n"
       ]
      },
      {
       "output_type": "stream",
       "stream": "stdout",
       "text": [
        "[ubuntu@ec2-54-225-5-82.compute-1.amazonaws.com] out: "
       ]
      },
      {
       "output_type": "stream",
       "stream": "stdout",
       "text": [
        "Get: 7 http://us-east-1.ec2.archive.ubuntu.com/ubuntu/ precise-updates/main linux-headers-3.2.0-44-virtual amd64 3.2.0-44.69 [983 kB]\n"
       ]
      },
      {
       "output_type": "stream",
       "stream": "stdout",
       "text": [
        "[ubuntu@ec2-54-225-5-82.compute-1.amazonaws.com] out: "
       ]
      },
      {
       "output_type": "stream",
       "stream": "stdout",
       "text": [
        "\n"
       ]
      },
      {
       "output_type": "stream",
       "stream": "stdout",
       "text": [
        "[ubuntu@ec2-54-225-5-82.compute-1.amazonaws.com] out: "
       ]
      },
      {
       "output_type": "stream",
       "stream": "stdout",
       "text": [
        "\n"
       ]
      },
      {
       "output_type": "stream",
       "stream": "stdout",
       "text": [
        "[ubuntu@ec2-54-225-5-82.compute-1.amazonaws.com] out: "
       ]
      },
      {
       "output_type": "stream",
       "stream": "stdout",
       "text": [
        "96% [7 linux-headers-3.2.0-44-virtual 0 B/983 kB 0%]"
       ]
      },
      {
       "output_type": "stream",
       "stream": "stdout",
       "text": [
        "\n"
       ]
      },
      {
       "output_type": "stream",
       "stream": "stdout",
       "text": [
        "[ubuntu@ec2-54-225-5-82.compute-1.amazonaws.com] out: "
       ]
      },
      {
       "output_type": "stream",
       "stream": "stdout",
       "text": [
        "                                                    \n"
       ]
      },
      {
       "output_type": "stream",
       "stream": "stdout",
       "text": [
        "[ubuntu@ec2-54-225-5-82.compute-1.amazonaws.com] out: "
       ]
      },
      {
       "output_type": "stream",
       "stream": "stdout",
       "text": [
        "100% [Working]"
       ]
      },
      {
       "output_type": "stream",
       "stream": "stdout",
       "text": [
        "\n"
       ]
      },
      {
       "output_type": "stream",
       "stream": "stdout",
       "text": [
        "[ubuntu@ec2-54-225-5-82.compute-1.amazonaws.com] out: "
       ]
      },
      {
       "output_type": "stream",
       "stream": "stdout",
       "text": [
        "              \n"
       ]
      },
      {
       "output_type": "stream",
       "stream": "stdout",
       "text": [
        "[ubuntu@ec2-54-225-5-82.compute-1.amazonaws.com] out: "
       ]
      },
      {
       "output_type": "stream",
       "stream": "stdout",
       "text": [
        "Get: 8 http://us-east-1.ec2.archive.ubuntu.com/ubuntu/ precise-updates/main linux-virtual amd64 3.2.0.44.53 [1,760 B]\n"
       ]
      },
      {
       "output_type": "stream",
       "stream": "stdout",
       "text": [
        "[ubuntu@ec2-54-225-5-82.compute-1.amazonaws.com] out: "
       ]
      },
      {
       "output_type": "stream",
       "stream": "stdout",
       "text": [
        "\n"
       ]
      },
      {
       "output_type": "stream",
       "stream": "stdout",
       "text": [
        "[ubuntu@ec2-54-225-5-82.compute-1.amazonaws.com] out: "
       ]
      },
      {
       "output_type": "stream",
       "stream": "stdout",
       "text": [
        "\n"
       ]
      },
      {
       "output_type": "stream",
       "stream": "stdout",
       "text": [
        "[ubuntu@ec2-54-225-5-82.compute-1.amazonaws.com] out: "
       ]
      },
      {
       "output_type": "stream",
       "stream": "stdout",
       "text": [
        "100% [8 linux-virtual 0 B/1,760 B 0%]"
       ]
      },
      {
       "output_type": "stream",
       "stream": "stdout",
       "text": [
        "\n"
       ]
      },
      {
       "output_type": "stream",
       "stream": "stdout",
       "text": [
        "[ubuntu@ec2-54-225-5-82.compute-1.amazonaws.com] out: "
       ]
      },
      {
       "output_type": "stream",
       "stream": "stdout",
       "text": [
        "                                     \n"
       ]
      },
      {
       "output_type": "stream",
       "stream": "stdout",
       "text": [
        "[ubuntu@ec2-54-225-5-82.compute-1.amazonaws.com] out: "
       ]
      },
      {
       "output_type": "stream",
       "stream": "stdout",
       "text": [
        "100% [Working]"
       ]
      },
      {
       "output_type": "stream",
       "stream": "stdout",
       "text": [
        "\n"
       ]
      },
      {
       "output_type": "stream",
       "stream": "stdout",
       "text": [
        "[ubuntu@ec2-54-225-5-82.compute-1.amazonaws.com] out: "
       ]
      },
      {
       "output_type": "stream",
       "stream": "stdout",
       "text": [
        "              \n"
       ]
      },
      {
       "output_type": "stream",
       "stream": "stdout",
       "text": [
        "[ubuntu@ec2-54-225-5-82.compute-1.amazonaws.com] out: "
       ]
      },
      {
       "output_type": "stream",
       "stream": "stdout",
       "text": [
        "Get: 9 http://us-east-1.ec2.archive.ubuntu.com/ubuntu/ precise-updates/main linux-image-virtual amd64 3.2.0.44.53 [2,504 B]\n"
       ]
      },
      {
       "output_type": "stream",
       "stream": "stdout",
       "text": [
        "[ubuntu@ec2-54-225-5-82.compute-1.amazonaws.com] out: "
       ]
      },
      {
       "output_type": "stream",
       "stream": "stdout",
       "text": [
        "\n"
       ]
      },
      {
       "output_type": "stream",
       "stream": "stdout",
       "text": [
        "[ubuntu@ec2-54-225-5-82.compute-1.amazonaws.com] out: "
       ]
      },
      {
       "output_type": "stream",
       "stream": "stdout",
       "text": [
        "\n"
       ]
      },
      {
       "output_type": "stream",
       "stream": "stdout",
       "text": [
        "[ubuntu@ec2-54-225-5-82.compute-1.amazonaws.com] out: "
       ]
      },
      {
       "output_type": "stream",
       "stream": "stdout",
       "text": [
        "100% [9 linux-image-virtual 0 B/2,504 B 0%]"
       ]
      },
      {
       "output_type": "stream",
       "stream": "stdout",
       "text": [
        "\n"
       ]
      },
      {
       "output_type": "stream",
       "stream": "stdout",
       "text": [
        "[ubuntu@ec2-54-225-5-82.compute-1.amazonaws.com] out: "
       ]
      },
      {
       "output_type": "stream",
       "stream": "stdout",
       "text": [
        "                                           \n"
       ]
      },
      {
       "output_type": "stream",
       "stream": "stdout",
       "text": [
        "[ubuntu@ec2-54-225-5-82.compute-1.amazonaws.com] out: "
       ]
      },
      {
       "output_type": "stream",
       "stream": "stdout",
       "text": [
        "100% [Working]"
       ]
      },
      {
       "output_type": "stream",
       "stream": "stdout",
       "text": [
        "\n"
       ]
      },
      {
       "output_type": "stream",
       "stream": "stdout",
       "text": [
        "[ubuntu@ec2-54-225-5-82.compute-1.amazonaws.com] out: "
       ]
      },
      {
       "output_type": "stream",
       "stream": "stdout",
       "text": [
        "              \n"
       ]
      },
      {
       "output_type": "stream",
       "stream": "stdout",
       "text": [
        "[ubuntu@ec2-54-225-5-82.compute-1.amazonaws.com] out: "
       ]
      },
      {
       "output_type": "stream",
       "stream": "stdout",
       "text": [
        "Get: 10 http://us-east-1.ec2.archive.ubuntu.com/ubuntu/ precise-updates/main linux-headers-virtual amd64 3.2.0.44.53 [2,466 B]\n"
       ]
      },
      {
       "output_type": "stream",
       "stream": "stdout",
       "text": [
        "[ubuntu@ec2-54-225-5-82.compute-1.amazonaws.com] out: "
       ]
      },
      {
       "output_type": "stream",
       "stream": "stdout",
       "text": [
        "\n"
       ]
      },
      {
       "output_type": "stream",
       "stream": "stdout",
       "text": [
        "[ubuntu@ec2-54-225-5-82.compute-1.amazonaws.com] out: "
       ]
      },
      {
       "output_type": "stream",
       "stream": "stdout",
       "text": [
        "\n"
       ]
      },
      {
       "output_type": "stream",
       "stream": "stdout",
       "text": [
        "[ubuntu@ec2-54-225-5-82.compute-1.amazonaws.com] out: "
       ]
      },
      {
       "output_type": "stream",
       "stream": "stdout",
       "text": [
        "100% [10 linux-headers-virtual 0 B/2,466 B 0%]\n"
       ]
      },
      {
       "output_type": "stream",
       "stream": "stdout",
       "text": [
        "[ubuntu@ec2-54-225-5-82.compute-1.amazonaws.com] out: "
       ]
      },
      {
       "output_type": "stream",
       "stream": "stdout",
       "text": [
        "                                              \n"
       ]
      },
      {
       "output_type": "stream",
       "stream": "stdout",
       "text": [
        "[ubuntu@ec2-54-225-5-82.compute-1.amazonaws.com] out: "
       ]
      },
      {
       "output_type": "stream",
       "stream": "stdout",
       "text": [
        "100% [Working]"
       ]
      },
      {
       "output_type": "stream",
       "stream": "stdout",
       "text": [
        "\n"
       ]
      },
      {
       "output_type": "stream",
       "stream": "stdout",
       "text": [
        "[ubuntu@ec2-54-225-5-82.compute-1.amazonaws.com] out: "
       ]
      },
      {
       "output_type": "stream",
       "stream": "stdout",
       "text": [
        "              \n"
       ]
      },
      {
       "output_type": "stream",
       "stream": "stdout",
       "text": [
        "[ubuntu@ec2-54-225-5-82.compute-1.amazonaws.com] out: "
       ]
      },
      {
       "output_type": "stream",
       "stream": "stdout",
       "text": [
        "Fetched 25.9 MB in 2s (12.5 MB/s)\n"
       ]
      },
      {
       "output_type": "stream",
       "stream": "stdout",
       "text": [
        "[ubuntu@ec2-54-225-5-82.compute-1.amazonaws.com] out: "
       ]
      },
      {
       "output_type": "stream",
       "stream": "stdout",
       "text": [
        "(Reading database ... \n"
       ]
      },
      {
       "output_type": "stream",
       "stream": "stdout",
       "text": [
        "[ubuntu@ec2-54-225-5-82.compute-1.amazonaws.com] out: "
       ]
      },
      {
       "output_type": "stream",
       "stream": "stdout",
       "text": [
        "(Reading database ... 5%\n"
       ]
      },
      {
       "output_type": "stream",
       "stream": "stdout",
       "text": [
        "[ubuntu@ec2-54-225-5-82.compute-1.amazonaws.com] out: "
       ]
      },
      {
       "output_type": "stream",
       "stream": "stdout",
       "text": [
        "(Reading database ... 10%\n"
       ]
      },
      {
       "output_type": "stream",
       "stream": "stdout",
       "text": [
        "[ubuntu@ec2-54-225-5-82.compute-1.amazonaws.com] out: "
       ]
      },
      {
       "output_type": "stream",
       "stream": "stdout",
       "text": [
        "(Reading database ... 15%\n"
       ]
      },
      {
       "output_type": "stream",
       "stream": "stdout",
       "text": [
        "[ubuntu@ec2-54-225-5-82.compute-1.amazonaws.com] out: "
       ]
      },
      {
       "output_type": "stream",
       "stream": "stdout",
       "text": [
        "(Reading database ... 20%\n"
       ]
      },
      {
       "output_type": "stream",
       "stream": "stdout",
       "text": [
        "[ubuntu@ec2-54-225-5-82.compute-1.amazonaws.com] out: "
       ]
      },
      {
       "output_type": "stream",
       "stream": "stdout",
       "text": [
        "(Reading database ... 25%\n"
       ]
      },
      {
       "output_type": "stream",
       "stream": "stdout",
       "text": [
        "[ubuntu@ec2-54-225-5-82.compute-1.amazonaws.com] out: "
       ]
      },
      {
       "output_type": "stream",
       "stream": "stdout",
       "text": [
        "(Reading database ... 30%"
       ]
      },
      {
       "output_type": "stream",
       "stream": "stdout",
       "text": [
        "\n"
       ]
      },
      {
       "output_type": "stream",
       "stream": "stdout",
       "text": [
        "[ubuntu@ec2-54-225-5-82.compute-1.amazonaws.com] out: "
       ]
      },
      {
       "output_type": "stream",
       "stream": "stdout",
       "text": [
        "(Reading database ... 35%\n"
       ]
      },
      {
       "output_type": "stream",
       "stream": "stdout",
       "text": [
        "[ubuntu@ec2-54-225-5-82.compute-1.amazonaws.com] out: "
       ]
      },
      {
       "output_type": "stream",
       "stream": "stdout",
       "text": [
        "(Reading database ... 40%\n"
       ]
      },
      {
       "output_type": "stream",
       "stream": "stdout",
       "text": [
        "[ubuntu@ec2-54-225-5-82.compute-1.amazonaws.com] out: "
       ]
      },
      {
       "output_type": "stream",
       "stream": "stdout",
       "text": [
        "(Reading database ... 45%"
       ]
      },
      {
       "output_type": "stream",
       "stream": "stdout",
       "text": [
        "\n"
       ]
      },
      {
       "output_type": "stream",
       "stream": "stdout",
       "text": [
        "[ubuntu@ec2-54-225-5-82.compute-1.amazonaws.com] out: "
       ]
      },
      {
       "output_type": "stream",
       "stream": "stdout",
       "text": [
        "(Reading database ... 50%\n"
       ]
      },
      {
       "output_type": "stream",
       "stream": "stdout",
       "text": [
        "[ubuntu@ec2-54-225-5-82.compute-1.amazonaws.com] out: "
       ]
      },
      {
       "output_type": "stream",
       "stream": "stdout",
       "text": [
        "(Reading database ... 55%\n"
       ]
      },
      {
       "output_type": "stream",
       "stream": "stdout",
       "text": [
        "[ubuntu@ec2-54-225-5-82.compute-1.amazonaws.com] out: "
       ]
      },
      {
       "output_type": "stream",
       "stream": "stdout",
       "text": [
        "(Reading database ... 60%\n"
       ]
      },
      {
       "output_type": "stream",
       "stream": "stdout",
       "text": [
        "[ubuntu@ec2-54-225-5-82.compute-1.amazonaws.com] out: "
       ]
      },
      {
       "output_type": "stream",
       "stream": "stdout",
       "text": [
        "(Reading database ... 65%\n"
       ]
      },
      {
       "output_type": "stream",
       "stream": "stdout",
       "text": [
        "[ubuntu@ec2-54-225-5-82.compute-1.amazonaws.com] out: "
       ]
      },
      {
       "output_type": "stream",
       "stream": "stdout",
       "text": [
        "(Reading database ... 70%\n"
       ]
      },
      {
       "output_type": "stream",
       "stream": "stdout",
       "text": [
        "[ubuntu@ec2-54-225-5-82.compute-1.amazonaws.com] out: "
       ]
      },
      {
       "output_type": "stream",
       "stream": "stdout",
       "text": [
        "(Reading database ... 75%"
       ]
      },
      {
       "output_type": "stream",
       "stream": "stdout",
       "text": [
        "\n"
       ]
      },
      {
       "output_type": "stream",
       "stream": "stdout",
       "text": [
        "[ubuntu@ec2-54-225-5-82.compute-1.amazonaws.com] out: "
       ]
      },
      {
       "output_type": "stream",
       "stream": "stdout",
       "text": [
        "(Reading database ... 80%"
       ]
      },
      {
       "output_type": "stream",
       "stream": "stdout",
       "text": [
        "\n"
       ]
      },
      {
       "output_type": "stream",
       "stream": "stdout",
       "text": [
        "[ubuntu@ec2-54-225-5-82.compute-1.amazonaws.com] out: "
       ]
      },
      {
       "output_type": "stream",
       "stream": "stdout",
       "text": [
        "(Reading database ... 85%"
       ]
      },
      {
       "output_type": "stream",
       "stream": "stdout",
       "text": [
        "\n"
       ]
      },
      {
       "output_type": "stream",
       "stream": "stdout",
       "text": [
        "[ubuntu@ec2-54-225-5-82.compute-1.amazonaws.com] out: "
       ]
      },
      {
       "output_type": "stream",
       "stream": "stdout",
       "text": [
        "(Reading database ... 90%"
       ]
      },
      {
       "output_type": "stream",
       "stream": "stdout",
       "text": [
        "\n"
       ]
      },
      {
       "output_type": "stream",
       "stream": "stdout",
       "text": [
        "[ubuntu@ec2-54-225-5-82.compute-1.amazonaws.com] out: "
       ]
      },
      {
       "output_type": "stream",
       "stream": "stdout",
       "text": [
        "(Reading database ... 95%"
       ]
      },
      {
       "output_type": "stream",
       "stream": "stdout",
       "text": [
        "\n"
       ]
      },
      {
       "output_type": "stream",
       "stream": "stdout",
       "text": [
        "[ubuntu@ec2-54-225-5-82.compute-1.amazonaws.com] out: "
       ]
      },
      {
       "output_type": "stream",
       "stream": "stdout",
       "text": [
        "(Reading database ... 100%\n"
       ]
      },
      {
       "output_type": "stream",
       "stream": "stdout",
       "text": [
        "[ubuntu@ec2-54-225-5-82.compute-1.amazonaws.com] out: "
       ]
      },
      {
       "output_type": "stream",
       "stream": "stdout",
       "text": [
        "(Reading database ... 47443 files and directories currently installed.)\n"
       ]
      },
      {
       "output_type": "stream",
       "stream": "stdout",
       "text": [
        "[ubuntu@ec2-54-225-5-82.compute-1.amazonaws.com] out: "
       ]
      },
      {
       "output_type": "stream",
       "stream": "stdout",
       "text": [
        "Preparing to replace bash-completion 1:1.3-1ubuntu8 (using .../bash-completion_1%3a1.3-1ubuntu8.1_all.deb) ...\n"
       ]
      },
      {
       "output_type": "stream",
       "stream": "stdout",
       "text": [
        "[ubuntu@ec2-54-225-5-82.compute-1.amazonaws.com] out: "
       ]
      },
      {
       "output_type": "stream",
       "stream": "stdout",
       "text": [
        "Unpacking replacement bash-completion ...\n"
       ]
      },
      {
       "output_type": "stream",
       "stream": "stdout",
       "text": [
        "[ubuntu@ec2-54-225-5-82.compute-1.amazonaws.com] out: "
       ]
      },
      {
       "output_type": "stream",
       "stream": "stdout",
       "text": [
        "Selecting previously unselected package linux-image-3.2.0-44-virtual.\n"
       ]
      },
      {
       "output_type": "stream",
       "stream": "stdout",
       "text": [
        "[ubuntu@ec2-54-225-5-82.compute-1.amazonaws.com] out: "
       ]
      },
      {
       "output_type": "stream",
       "stream": "stdout",
       "text": [
        "Unpacking linux-image-3.2.0-44-virtual (from .../linux-image-3.2.0-44-virtual_3.2.0-44.69_amd64.deb) ...\n"
       ]
      },
      {
       "output_type": "stream",
       "stream": "stdout",
       "text": [
        "[ubuntu@ec2-54-225-5-82.compute-1.amazonaws.com] out: "
       ]
      },
      {
       "output_type": "stream",
       "stream": "stdout",
       "text": [
        "Done.\n"
       ]
      },
      {
       "output_type": "stream",
       "stream": "stdout",
       "text": [
        "[ubuntu@ec2-54-225-5-82.compute-1.amazonaws.com] out: "
       ]
      },
      {
       "output_type": "stream",
       "stream": "stdout",
       "text": [
        "Preparing to replace rsyslog 5.8.6-1ubuntu8.1 (using .../rsyslog_5.8.6-1ubuntu8.2_amd64.deb) ...\n"
       ]
      },
      {
       "output_type": "stream",
       "stream": "stdout",
       "text": [
        "[ubuntu@ec2-54-225-5-82.compute-1.amazonaws.com] out: "
       ]
      },
      {
       "output_type": "stream",
       "stream": "stdout",
       "text": [
        "Unpacking replacement rsyslog ...\n"
       ]
      },
      {
       "output_type": "stream",
       "stream": "stdout",
       "text": [
        "[ubuntu@ec2-54-225-5-82.compute-1.amazonaws.com] out: "
       ]
      },
      {
       "output_type": "stream",
       "stream": "stdout",
       "text": [
        "Preparing to replace python-apt-common 0.8.3ubuntu7 (using .../python-apt-common_0.8.3ubuntu7.1_all.deb) ...\n"
       ]
      },
      {
       "output_type": "stream",
       "stream": "stdout",
       "text": [
        "[ubuntu@ec2-54-225-5-82.compute-1.amazonaws.com] out: "
       ]
      },
      {
       "output_type": "stream",
       "stream": "stdout",
       "text": [
        "Unpacking replacement python-apt-common ...\n"
       ]
      },
      {
       "output_type": "stream",
       "stream": "stdout",
       "text": [
        "[ubuntu@ec2-54-225-5-82.compute-1.amazonaws.com] out: "
       ]
      },
      {
       "output_type": "stream",
       "stream": "stdout",
       "text": [
        "Preparing to replace python-apt 0.8.3ubuntu7 (using .../python-apt_0.8.3ubuntu7.1_amd64.deb) ...\n"
       ]
      },
      {
       "output_type": "stream",
       "stream": "stdout",
       "text": [
        "[ubuntu@ec2-54-225-5-82.compute-1.amazonaws.com] out: "
       ]
      },
      {
       "output_type": "stream",
       "stream": "stdout",
       "text": [
        "Unpacking replacement python-apt ...\n"
       ]
      },
      {
       "output_type": "stream",
       "stream": "stdout",
       "text": [
        "[ubuntu@ec2-54-225-5-82.compute-1.amazonaws.com] out: "
       ]
      },
      {
       "output_type": "stream",
       "stream": "stdout",
       "text": [
        "Selecting previously unselected package linux-headers-3.2.0-44.\n"
       ]
      },
      {
       "output_type": "stream",
       "stream": "stdout",
       "text": [
        "[ubuntu@ec2-54-225-5-82.compute-1.amazonaws.com] out: "
       ]
      },
      {
       "output_type": "stream",
       "stream": "stdout",
       "text": [
        "Unpacking linux-headers-3.2.0-44 (from .../linux-headers-3.2.0-44_3.2.0-44.69_all.deb) ...\n"
       ]
      },
      {
       "output_type": "stream",
       "stream": "stdout",
       "text": [
        "[ubuntu@ec2-54-225-5-82.compute-1.amazonaws.com] out: "
       ]
      },
      {
       "output_type": "stream",
       "stream": "stdout",
       "text": [
        "Selecting previously unselected package linux-headers-3.2.0-44-virtual.\n"
       ]
      },
      {
       "output_type": "stream",
       "stream": "stdout",
       "text": [
        "[ubuntu@ec2-54-225-5-82.compute-1.amazonaws.com] out: "
       ]
      },
      {
       "output_type": "stream",
       "stream": "stdout",
       "text": [
        "Unpacking linux-headers-3.2.0-44-virtual (from .../linux-headers-3.2.0-44-virtual_3.2.0-44.69_amd64.deb) ...\n"
       ]
      },
      {
       "output_type": "stream",
       "stream": "stdout",
       "text": [
        "[ubuntu@ec2-54-225-5-82.compute-1.amazonaws.com] out: "
       ]
      },
      {
       "output_type": "stream",
       "stream": "stdout",
       "text": [
        "Preparing to replace linux-virtual 3.2.0.43.51 (using .../linux-virtual_3.2.0.44.53_amd64.deb) ...\n"
       ]
      },
      {
       "output_type": "stream",
       "stream": "stdout",
       "text": [
        "[ubuntu@ec2-54-225-5-82.compute-1.amazonaws.com] out: "
       ]
      },
      {
       "output_type": "stream",
       "stream": "stdout",
       "text": [
        "Unpacking replacement linux-virtual ...\n"
       ]
      },
      {
       "output_type": "stream",
       "stream": "stdout",
       "text": [
        "[ubuntu@ec2-54-225-5-82.compute-1.amazonaws.com] out: "
       ]
      },
      {
       "output_type": "stream",
       "stream": "stdout",
       "text": [
        "Preparing to replace linux-image-virtual 3.2.0.43.51 (using .../linux-image-virtual_3.2.0.44.53_amd64.deb) ...\n"
       ]
      },
      {
       "output_type": "stream",
       "stream": "stdout",
       "text": [
        "[ubuntu@ec2-54-225-5-82.compute-1.amazonaws.com] out: "
       ]
      },
      {
       "output_type": "stream",
       "stream": "stdout",
       "text": [
        "Unpacking replacement linux-image-virtual ...\n"
       ]
      },
      {
       "output_type": "stream",
       "stream": "stdout",
       "text": [
        "[ubuntu@ec2-54-225-5-82.compute-1.amazonaws.com] out: "
       ]
      },
      {
       "output_type": "stream",
       "stream": "stdout",
       "text": [
        "Preparing to replace linux-headers-virtual 3.2.0.43.51 (using .../linux-headers-virtual_3.2.0.44.53_amd64.deb) ...\n"
       ]
      },
      {
       "output_type": "stream",
       "stream": "stdout",
       "text": [
        "[ubuntu@ec2-54-225-5-82.compute-1.amazonaws.com] out: "
       ]
      },
      {
       "output_type": "stream",
       "stream": "stdout",
       "text": [
        "Unpacking replacement linux-headers-virtual ...\n"
       ]
      },
      {
       "output_type": "stream",
       "stream": "stdout",
       "text": [
        "[ubuntu@ec2-54-225-5-82.compute-1.amazonaws.com] out: "
       ]
      },
      {
       "output_type": "stream",
       "stream": "stdout",
       "text": [
        "Processing triggers for initramfs-tools ...\n"
       ]
      },
      {
       "output_type": "stream",
       "stream": "stdout",
       "text": [
        "[ubuntu@ec2-54-225-5-82.compute-1.amazonaws.com] out: "
       ]
      },
      {
       "output_type": "stream",
       "stream": "stdout",
       "text": [
        "update-initramfs: Generating /boot/initrd.img-3.2.0-43-virtual\n"
       ]
      },
      {
       "output_type": "stream",
       "stream": "stdout",
       "text": [
        "[ubuntu@ec2-54-225-5-82.compute-1.amazonaws.com] out: "
       ]
      },
      {
       "output_type": "stream",
       "stream": "stdout",
       "text": [
        "Processing triggers for man-db ...\n"
       ]
      },
      {
       "output_type": "stream",
       "stream": "stdout",
       "text": [
        "[ubuntu@ec2-54-225-5-82.compute-1.amazonaws.com] out: "
       ]
      },
      {
       "output_type": "stream",
       "stream": "stdout",
       "text": [
        "Processing triggers for ureadahead ...\n"
       ]
      },
      {
       "output_type": "stream",
       "stream": "stdout",
       "text": [
        "[ubuntu@ec2-54-225-5-82.compute-1.amazonaws.com] out: "
       ]
      },
      {
       "output_type": "stream",
       "stream": "stdout",
       "text": [
        "Setting up bash-completion (1:1.3-1ubuntu8.1) ...\n"
       ]
      },
      {
       "output_type": "stream",
       "stream": "stdout",
       "text": [
        "[ubuntu@ec2-54-225-5-82.compute-1.amazonaws.com] out: "
       ]
      },
      {
       "output_type": "stream",
       "stream": "stdout",
       "text": [
        "Installing new version of config file /etc/bash_completion.d/tar ...\n"
       ]
      },
      {
       "output_type": "stream",
       "stream": "stdout",
       "text": [
        "[ubuntu@ec2-54-225-5-82.compute-1.amazonaws.com] out: "
       ]
      },
      {
       "output_type": "stream",
       "stream": "stdout",
       "text": [
        "Setting up linux-image-3.2.0-44-virtual (3.2.0-44.69) ...\n"
       ]
      },
      {
       "output_type": "stream",
       "stream": "stdout",
       "text": [
        "[ubuntu@ec2-54-225-5-82.compute-1.amazonaws.com] out: "
       ]
      },
      {
       "output_type": "stream",
       "stream": "stdout",
       "text": [
        "Running depmod.\n"
       ]
      },
      {
       "output_type": "stream",
       "stream": "stdout",
       "text": [
        "[ubuntu@ec2-54-225-5-82.compute-1.amazonaws.com] out: "
       ]
      },
      {
       "output_type": "stream",
       "stream": "stdout",
       "text": [
        "update-initramfs: deferring update (hook will be called later)\n"
       ]
      },
      {
       "output_type": "stream",
       "stream": "stdout",
       "text": [
        "[ubuntu@ec2-54-225-5-82.compute-1.amazonaws.com] out: "
       ]
      },
      {
       "output_type": "stream",
       "stream": "stdout",
       "text": [
        "Examining /etc/kernel/postinst.d.\n"
       ]
      },
      {
       "output_type": "stream",
       "stream": "stdout",
       "text": [
        "[ubuntu@ec2-54-225-5-82.compute-1.amazonaws.com] out: "
       ]
      },
      {
       "output_type": "stream",
       "stream": "stdout",
       "text": [
        "run-parts: executing /etc/kernel/postinst.d/apt-auto-removal 3.2.0-44-virtual /boot/vmlinuz-3.2.0-44-virtual"
       ]
      },
      {
       "output_type": "stream",
       "stream": "stdout",
       "text": [
        "\n"
       ]
      },
      {
       "output_type": "stream",
       "stream": "stdout",
       "text": [
        "[ubuntu@ec2-54-225-5-82.compute-1.amazonaws.com] out: "
       ]
      },
      {
       "output_type": "stream",
       "stream": "stdout",
       "text": [
        "run-parts: executing /etc/kernel/postinst.d/initramfs-tools 3.2.0-44-virtual /boot/vmlinuz-3.2.0-44-virtual"
       ]
      },
      {
       "output_type": "stream",
       "stream": "stdout",
       "text": [
        "\n"
       ]
      },
      {
       "output_type": "stream",
       "stream": "stdout",
       "text": [
        "[ubuntu@ec2-54-225-5-82.compute-1.amazonaws.com] out: "
       ]
      },
      {
       "output_type": "stream",
       "stream": "stdout",
       "text": [
        "update-initramfs: Generating /boot/initrd.img-3.2.0-44-virtual\n"
       ]
      },
      {
       "output_type": "stream",
       "stream": "stdout",
       "text": [
        "[ubuntu@ec2-54-225-5-82.compute-1.amazonaws.com] out: "
       ]
      },
      {
       "output_type": "stream",
       "stream": "stdout",
       "text": [
        "run-parts: executing /etc/kernel/postinst.d/update-notifier 3.2.0-44-virtual /boot/vmlinuz-3.2.0-44-virtual\n"
       ]
      },
      {
       "output_type": "stream",
       "stream": "stdout",
       "text": [
        "[ubuntu@ec2-54-225-5-82.compute-1.amazonaws.com] out: "
       ]
      },
      {
       "output_type": "stream",
       "stream": "stdout",
       "text": [
        "run-parts: executing /etc/kernel/postinst.d/x-grub-legacy-ec2 3.2.0-44-virtual /boot/vmlinuz-3.2.0-44-virtual\n"
       ]
      },
      {
       "output_type": "stream",
       "stream": "stdout",
       "text": [
        "[ubuntu@ec2-54-225-5-82.compute-1.amazonaws.com] out: "
       ]
      },
      {
       "output_type": "stream",
       "stream": "stdout",
       "text": [
        "Searching for GRUB installation directory ... "
       ]
      },
      {
       "output_type": "stream",
       "stream": "stdout",
       "text": [
        "found: /boot/grub\n"
       ]
      },
      {
       "output_type": "stream",
       "stream": "stdout",
       "text": [
        "[ubuntu@ec2-54-225-5-82.compute-1.amazonaws.com] out: "
       ]
      },
      {
       "output_type": "stream",
       "stream": "stdout",
       "text": [
        "Searching for default file ... found: /boot/grub/default\n"
       ]
      },
      {
       "output_type": "stream",
       "stream": "stdout",
       "text": [
        "[ubuntu@ec2-54-225-5-82.compute-1.amazonaws.com] out: "
       ]
      },
      {
       "output_type": "stream",
       "stream": "stdout",
       "text": [
        "Testing for an existing GRUB menu.lst file ... found: /boot/grub/menu.lst\n"
       ]
      },
      {
       "output_type": "stream",
       "stream": "stdout",
       "text": [
        "[ubuntu@ec2-54-225-5-82.compute-1.amazonaws.com] out: "
       ]
      },
      {
       "output_type": "stream",
       "stream": "stdout",
       "text": [
        "Searching for splash image ... none found, skipping ...\n"
       ]
      },
      {
       "output_type": "stream",
       "stream": "stdout",
       "text": [
        "[ubuntu@ec2-54-225-5-82.compute-1.amazonaws.com] out: "
       ]
      },
      {
       "output_type": "stream",
       "stream": "stdout",
       "text": [
        "Found kernel: /boot/vmlinuz-3.2.0-43-virtual\n"
       ]
      },
      {
       "output_type": "stream",
       "stream": "stdout",
       "text": [
        "[ubuntu@ec2-54-225-5-82.compute-1.amazonaws.com] out: "
       ]
      },
      {
       "output_type": "stream",
       "stream": "stdout",
       "text": [
        "Found kernel: /boot/memtest86+.bin\n"
       ]
      },
      {
       "output_type": "stream",
       "stream": "stdout",
       "text": [
        "[ubuntu@ec2-54-225-5-82.compute-1.amazonaws.com] out: "
       ]
      },
      {
       "output_type": "stream",
       "stream": "stdout",
       "text": [
        "Found kernel: /boot/vmlinuz-3.2.0-44-virtual\n"
       ]
      },
      {
       "output_type": "stream",
       "stream": "stdout",
       "text": [
        "[ubuntu@ec2-54-225-5-82.compute-1.amazonaws.com] out: "
       ]
      },
      {
       "output_type": "stream",
       "stream": "stdout",
       "text": [
        "Found kernel: /boot/vmlinuz-3.2.0-43-virtual\n"
       ]
      },
      {
       "output_type": "stream",
       "stream": "stdout",
       "text": [
        "[ubuntu@ec2-54-225-5-82.compute-1.amazonaws.com] out: "
       ]
      },
      {
       "output_type": "stream",
       "stream": "stdout",
       "text": [
        "Found kernel: /boot/memtest86+.bin\n"
       ]
      },
      {
       "output_type": "stream",
       "stream": "stdout",
       "text": [
        "[ubuntu@ec2-54-225-5-82.compute-1.amazonaws.com] out: "
       ]
      },
      {
       "output_type": "stream",
       "stream": "stdout",
       "text": [
        "Replacing config file /run/grub/menu.lst with new version\n"
       ]
      },
      {
       "output_type": "stream",
       "stream": "stdout",
       "text": [
        "[ubuntu@ec2-54-225-5-82.compute-1.amazonaws.com] out: "
       ]
      },
      {
       "output_type": "stream",
       "stream": "stdout",
       "text": [
        "Updating /boot/grub/menu.lst ... "
       ]
      },
      {
       "output_type": "stream",
       "stream": "stdout",
       "text": [
        "done\n"
       ]
      },
      {
       "output_type": "stream",
       "stream": "stdout",
       "text": [
        "[ubuntu@ec2-54-225-5-82.compute-1.amazonaws.com] out: "
       ]
      },
      {
       "output_type": "stream",
       "stream": "stdout",
       "text": [
        "\n"
       ]
      },
      {
       "output_type": "stream",
       "stream": "stdout",
       "text": [
        "[ubuntu@ec2-54-225-5-82.compute-1.amazonaws.com] out: "
       ]
      },
      {
       "output_type": "stream",
       "stream": "stdout",
       "text": [
        "run-parts: executing /etc/kernel/postinst.d/zz-update-grub 3.2.0-44-virtual /boot/vmlinuz-3.2.0-44-virtual\n"
       ]
      },
      {
       "output_type": "stream",
       "stream": "stdout",
       "text": [
        "[ubuntu@ec2-54-225-5-82.compute-1.amazonaws.com] out: "
       ]
      },
      {
       "output_type": "stream",
       "stream": "stdout",
       "text": [
        "Generating grub.cfg ...\n"
       ]
      },
      {
       "output_type": "stream",
       "stream": "stdout",
       "text": [
        "[ubuntu@ec2-54-225-5-82.compute-1.amazonaws.com] out: "
       ]
      },
      {
       "output_type": "stream",
       "stream": "stdout",
       "text": [
        "/usr/sbin/grub-probe: warn: disk does not exist, so falling back to partition device /dev/xvda1.\n"
       ]
      },
      {
       "output_type": "stream",
       "stream": "stdout",
       "text": [
        "[ubuntu@ec2-54-225-5-82.compute-1.amazonaws.com] out: "
       ]
      },
      {
       "output_type": "stream",
       "stream": "stdout",
       "text": [
        "Found linux image: /boot/vmlinuz-3.2.0-44-virtual\n"
       ]
      },
      {
       "output_type": "stream",
       "stream": "stdout",
       "text": [
        "[ubuntu@ec2-54-225-5-82.compute-1.amazonaws.com] out: "
       ]
      },
      {
       "output_type": "stream",
       "stream": "stdout",
       "text": [
        "Found initrd image: /boot/initrd.img-3.2.0-44-virtual\n"
       ]
      },
      {
       "output_type": "stream",
       "stream": "stdout",
       "text": [
        "[ubuntu@ec2-54-225-5-82.compute-1.amazonaws.com] out: "
       ]
      },
      {
       "output_type": "stream",
       "stream": "stdout",
       "text": [
        "/usr/sbin/grub-probe: warn: disk does not exist, so falling back to partition device /dev/xvda1.\n"
       ]
      },
      {
       "output_type": "stream",
       "stream": "stdout",
       "text": [
        "[ubuntu@ec2-54-225-5-82.compute-1.amazonaws.com] out: "
       ]
      },
      {
       "output_type": "stream",
       "stream": "stdout",
       "text": [
        "/usr/sbin/grub-probe: warn: disk does not exist, so falling back to partition device /dev/xvda1"
       ]
      },
      {
       "output_type": "stream",
       "stream": "stdout",
       "text": [
        ".\n"
       ]
      },
      {
       "output_type": "stream",
       "stream": "stdout",
       "text": [
        "[ubuntu@ec2-54-225-5-82.compute-1.amazonaws.com] out: "
       ]
      },
      {
       "output_type": "stream",
       "stream": "stdout",
       "text": [
        "/usr/sbin/grub-probe: warn:"
       ]
      },
      {
       "output_type": "stream",
       "stream": "stdout",
       "text": [
        " "
       ]
      },
      {
       "output_type": "stream",
       "stream": "stdout",
       "text": [
        "disk does not exist, so falling back to partition device /dev/xvda1.\n"
       ]
      },
      {
       "output_type": "stream",
       "stream": "stdout",
       "text": [
        "[ubuntu@ec2-54-225-5-82.compute-1.amazonaws.com] out: "
       ]
      },
      {
       "output_type": "stream",
       "stream": "stdout",
       "text": [
        "/usr/sbin/grub-probe: warn: disk does not exist, so falling back to partition device /dev/xvda1.\n"
       ]
      },
      {
       "output_type": "stream",
       "stream": "stdout",
       "text": [
        "[ubuntu@ec2-54-225-5-82.compute-1.amazonaws.com] out: "
       ]
      },
      {
       "output_type": "stream",
       "stream": "stdout",
       "text": [
        "Found linux image: /boot/vmlinuz-3.2.0-43-virtual\n"
       ]
      },
      {
       "output_type": "stream",
       "stream": "stdout",
       "text": [
        "[ubuntu@ec2-54-225-5-82.compute-1.amazonaws.com] out: "
       ]
      },
      {
       "output_type": "stream",
       "stream": "stdout",
       "text": [
        "Found initrd image: /boot/initrd.img-3.2.0-43-virtual\n"
       ]
      },
      {
       "output_type": "stream",
       "stream": "stdout",
       "text": [
        "[ubuntu@ec2-54-225-5-82.compute-1.amazonaws.com] out: "
       ]
      },
      {
       "output_type": "stream",
       "stream": "stdout",
       "text": [
        "/usr/sbin/grub-probe: warn: disk does not exist, so falling back to partition device /dev/xvda1.\n"
       ]
      },
      {
       "output_type": "stream",
       "stream": "stdout",
       "text": [
        "[ubuntu@ec2-54-225-5-82.compute-1.amazonaws.com] out: "
       ]
      },
      {
       "output_type": "stream",
       "stream": "stdout",
       "text": [
        "/usr/sbin/grub-probe: warn: disk does not exist, so falling back to partition device /dev/xvda1.\n"
       ]
      },
      {
       "output_type": "stream",
       "stream": "stdout",
       "text": [
        "[ubuntu@ec2-54-225-5-82.compute-1.amazonaws.com] out: "
       ]
      },
      {
       "output_type": "stream",
       "stream": "stdout",
       "text": [
        "/usr/sbin/grub-probe: warn: disk does not exist, so falling back to partition device /dev/xvda1.\n"
       ]
      },
      {
       "output_type": "stream",
       "stream": "stdout",
       "text": [
        "[ubuntu@ec2-54-225-5-82.compute-1.amazonaws.com] out: "
       ]
      },
      {
       "output_type": "stream",
       "stream": "stdout",
       "text": [
        "/usr/sbin/grub-probe: warn: disk does not exist, so falling back to partition device /dev/xvda1.\n"
       ]
      },
      {
       "output_type": "stream",
       "stream": "stdout",
       "text": [
        "[ubuntu@ec2-54-225-5-82.compute-1.amazonaws.com] out: "
       ]
      },
      {
       "output_type": "stream",
       "stream": "stdout",
       "text": [
        "/usr/sbin/grub-probe: warn: disk does not exist, so falling back to partition device /dev/xvda1.\n"
       ]
      },
      {
       "output_type": "stream",
       "stream": "stdout",
       "text": [
        "[ubuntu@ec2-54-225-5-82.compute-1.amazonaws.com] out: "
       ]
      },
      {
       "output_type": "stream",
       "stream": "stdout",
       "text": [
        "Found memtest86+ image: /boot/memtest86+.bin\n"
       ]
      },
      {
       "output_type": "stream",
       "stream": "stdout",
       "text": [
        "[ubuntu@ec2-54-225-5-82.compute-1.amazonaws.com] out: "
       ]
      },
      {
       "output_type": "stream",
       "stream": "stdout",
       "text": [
        "done\n"
       ]
      },
      {
       "output_type": "stream",
       "stream": "stdout",
       "text": [
        "[ubuntu@ec2-54-225-5-82.compute-1.amazonaws.com] out: "
       ]
      },
      {
       "output_type": "stream",
       "stream": "stdout",
       "text": [
        "Setting up rsyslog (5.8.6-1ubuntu8.2) ...\n"
       ]
      },
      {
       "output_type": "stream",
       "stream": "stdout",
       "text": [
        "[ubuntu@ec2-54-225-5-82.compute-1.amazonaws.com] out: "
       ]
      },
      {
       "output_type": "stream",
       "stream": "stdout",
       "text": [
        "Skipping profile in /etc/apparmor.d/disable: usr.sbin.rsyslogd\n"
       ]
      },
      {
       "output_type": "stream",
       "stream": "stdout",
       "text": [
        "[ubuntu@ec2-54-225-5-82.compute-1.amazonaws.com] out: "
       ]
      },
      {
       "output_type": "stream",
       "stream": "stdout",
       "text": [
        "rsyslog stop/waiting\n"
       ]
      },
      {
       "output_type": "stream",
       "stream": "stdout",
       "text": [
        "[ubuntu@ec2-54-225-5-82.compute-1.amazonaws.com] out: "
       ]
      },
      {
       "output_type": "stream",
       "stream": "stdout",
       "text": [
        "rsyslog start/running, process 6894\n"
       ]
      },
      {
       "output_type": "stream",
       "stream": "stdout",
       "text": [
        "[ubuntu@ec2-54-225-5-82.compute-1.amazonaws.com] out: "
       ]
      },
      {
       "output_type": "stream",
       "stream": "stdout",
       "text": [
        "Setting up python-apt-common (0.8.3ubuntu7.1) ...\n"
       ]
      },
      {
       "output_type": "stream",
       "stream": "stdout",
       "text": [
        "[ubuntu@ec2-54-225-5-82.compute-1.amazonaws.com] out: "
       ]
      },
      {
       "output_type": "stream",
       "stream": "stdout",
       "text": [
        "Setting up python-apt (0.8.3ubuntu7.1) ...\n"
       ]
      },
      {
       "output_type": "stream",
       "stream": "stdout",
       "text": [
        "[ubuntu@ec2-54-225-5-82.compute-1.amazonaws.com] out: "
       ]
      },
      {
       "output_type": "stream",
       "stream": "stdout",
       "text": [
        "Setting up linux-headers-3.2.0-44 (3.2.0-44.69) ...\n"
       ]
      },
      {
       "output_type": "stream",
       "stream": "stdout",
       "text": [
        "[ubuntu@ec2-54-225-5-82.compute-1.amazonaws.com] out: "
       ]
      },
      {
       "output_type": "stream",
       "stream": "stdout",
       "text": [
        "Setting up linux-headers-3.2.0-44-virtual (3.2.0-44.69) ...\n"
       ]
      },
      {
       "output_type": "stream",
       "stream": "stdout",
       "text": [
        "[ubuntu@ec2-54-225-5-82.compute-1.amazonaws.com] out: "
       ]
      },
      {
       "output_type": "stream",
       "stream": "stdout",
       "text": [
        "Setting up linux-image-virtual (3.2.0.44.53) ...\n"
       ]
      },
      {
       "output_type": "stream",
       "stream": "stdout",
       "text": [
        "[ubuntu@ec2-54-225-5-82.compute-1.amazonaws.com] out: "
       ]
      },
      {
       "output_type": "stream",
       "stream": "stdout",
       "text": [
        "Setting up linux-headers-virtual (3.2.0.44.53) ...\n"
       ]
      },
      {
       "output_type": "stream",
       "stream": "stdout",
       "text": [
        "[ubuntu@ec2-54-225-5-82.compute-1.amazonaws.com] out: "
       ]
      },
      {
       "output_type": "stream",
       "stream": "stdout",
       "text": [
        "Setting up linux-virtual (3.2.0.44.53) ...\n"
       ]
      },
      {
       "output_type": "stream",
       "stream": "stdout",
       "text": [
        "[ubuntu@ec2-54-225-5-82.compute-1.amazonaws.com] out: "
       ]
      },
      {
       "output_type": "stream",
       "stream": "stdout",
       "text": [
        "\n"
       ]
      },
      {
       "output_type": "stream",
       "stream": "stdout",
       "text": [
        "[ubuntu@ec2-54-225-5-82.compute-1.amazonaws.com] out: "
       ]
      },
      {
       "output_type": "stream",
       "stream": "stdout",
       "text": [
        "\n"
       ]
      },
      {
       "output_type": "stream",
       "stream": "stdout",
       "text": [
        "[ubuntu@ec2-54-225-5-82.compute-1.amazonaws.com] out: "
       ]
      },
      {
       "output_type": "stream",
       "stream": "stdout",
       "text": [
        "[  0%] Reading package lists\n"
       ]
      },
      {
       "output_type": "stream",
       "stream": "stdout",
       "text": [
        "[ubuntu@ec2-54-225-5-82.compute-1.amazonaws.com] out: "
       ]
      },
      {
       "output_type": "stream",
       "stream": "stdout",
       "text": [
        "                            \n"
       ]
      },
      {
       "output_type": "stream",
       "stream": "stdout",
       "text": [
        "[ubuntu@ec2-54-225-5-82.compute-1.amazonaws.com] out: "
       ]
      },
      {
       "output_type": "stream",
       "stream": "stdout",
       "text": [
        "\n"
       ]
      },
      {
       "output_type": "stream",
       "stream": "stdout",
       "text": [
        "[ubuntu@ec2-54-225-5-82.compute-1.amazonaws.com] out: "
       ]
      },
      {
       "output_type": "stream",
       "stream": "stdout",
       "text": [
        "\n"
       ]
      },
      {
       "output_type": "stream",
       "stream": "stdout",
       "text": [
        "[ubuntu@ec2-54-225-5-82.compute-1.amazonaws.com] out: "
       ]
      },
      {
       "output_type": "stream",
       "stream": "stdout",
       "text": [
        "[  0%] Building dependency tree"
       ]
      },
      {
       "output_type": "stream",
       "stream": "stdout",
       "text": [
        "\n"
       ]
      },
      {
       "output_type": "stream",
       "stream": "stdout",
       "text": [
        "[ubuntu@ec2-54-225-5-82.compute-1.amazonaws.com] out: "
       ]
      },
      {
       "output_type": "stream",
       "stream": "stdout",
       "text": [
        "                               \n"
       ]
      },
      {
       "output_type": "stream",
       "stream": "stdout",
       "text": [
        "[ubuntu@ec2-54-225-5-82.compute-1.amazonaws.com] out: "
       ]
      },
      {
       "output_type": "stream",
       "stream": "stdout",
       "text": [
        "[100%] Building dependency tree"
       ]
      },
      {
       "output_type": "stream",
       "stream": "stdout",
       "text": [
        "\n"
       ]
      },
      {
       "output_type": "stream",
       "stream": "stdout",
       "text": [
        "[ubuntu@ec2-54-225-5-82.compute-1.amazonaws.com] out: "
       ]
      },
      {
       "output_type": "stream",
       "stream": "stdout",
       "text": [
        "                               \n"
       ]
      },
      {
       "output_type": "stream",
       "stream": "stdout",
       "text": [
        "[ubuntu@ec2-54-225-5-82.compute-1.amazonaws.com] out: "
       ]
      },
      {
       "output_type": "stream",
       "stream": "stdout",
       "text": [
        "[  0%] Reading state information\n"
       ]
      },
      {
       "output_type": "stream",
       "stream": "stdout",
       "text": [
        "[ubuntu@ec2-54-225-5-82.compute-1.amazonaws.com] out: "
       ]
      },
      {
       "output_type": "stream",
       "stream": "stdout",
       "text": [
        "                                \n"
       ]
      },
      {
       "output_type": "stream",
       "stream": "stdout",
       "text": [
        "[ubuntu@ec2-54-225-5-82.compute-1.amazonaws.com] out: "
       ]
      },
      {
       "output_type": "stream",
       "stream": "stdout",
       "text": [
        "[100%] Reading state information\n"
       ]
      },
      {
       "output_type": "stream",
       "stream": "stdout",
       "text": [
        "[ubuntu@ec2-54-225-5-82.compute-1.amazonaws.com] out: "
       ]
      },
      {
       "output_type": "stream",
       "stream": "stdout",
       "text": [
        "                                \n"
       ]
      },
      {
       "output_type": "stream",
       "stream": "stdout",
       "text": [
        "[ubuntu@ec2-54-225-5-82.compute-1.amazonaws.com] out: "
       ]
      },
      {
       "output_type": "stream",
       "stream": "stdout",
       "text": [
        "\n"
       ]
      },
      {
       "output_type": "stream",
       "stream": "stdout",
       "text": [
        "[ubuntu@ec2-54-225-5-82.compute-1.amazonaws.com] out: "
       ]
      },
      {
       "output_type": "stream",
       "stream": "stdout",
       "text": [
        "\n"
       ]
      },
      {
       "output_type": "stream",
       "stream": "stdout",
       "text": [
        "[ubuntu@ec2-54-225-5-82.compute-1.amazonaws.com] out: "
       ]
      },
      {
       "output_type": "stream",
       "stream": "stdout",
       "text": [
        "[  0%] Reading extended state information"
       ]
      },
      {
       "output_type": "stream",
       "stream": "stdout",
       "text": [
        "\n"
       ]
      },
      {
       "output_type": "stream",
       "stream": "stdout",
       "text": [
        "[ubuntu@ec2-54-225-5-82.compute-1.amazonaws.com] out: "
       ]
      },
      {
       "output_type": "stream",
       "stream": "stdout",
       "text": [
        "                                         \n"
       ]
      },
      {
       "output_type": "stream",
       "stream": "stdout",
       "text": [
        "[ubuntu@ec2-54-225-5-82.compute-1.amazonaws.com] out: "
       ]
      },
      {
       "output_type": "stream",
       "stream": "stdout",
       "text": [
        "\n"
       ]
      },
      {
       "output_type": "stream",
       "stream": "stdout",
       "text": [
        "[ubuntu@ec2-54-225-5-82.compute-1.amazonaws.com] out: "
       ]
      },
      {
       "output_type": "stream",
       "stream": "stdout",
       "text": [
        "\n"
       ]
      },
      {
       "output_type": "stream",
       "stream": "stdout",
       "text": [
        "[ubuntu@ec2-54-225-5-82.compute-1.amazonaws.com] out: "
       ]
      },
      {
       "output_type": "stream",
       "stream": "stdout",
       "text": [
        "[  0%] Initializing package states"
       ]
      },
      {
       "output_type": "stream",
       "stream": "stdout",
       "text": [
        "\n"
       ]
      },
      {
       "output_type": "stream",
       "stream": "stdout",
       "text": [
        "[ubuntu@ec2-54-225-5-82.compute-1.amazonaws.com] out: "
       ]
      },
      {
       "output_type": "stream",
       "stream": "stdout",
       "text": [
        "                                  \n"
       ]
      },
      {
       "output_type": "stream",
       "stream": "stdout",
       "text": [
        "[ubuntu@ec2-54-225-5-82.compute-1.amazonaws.com] out: "
       ]
      },
      {
       "output_type": "stream",
       "stream": "stdout",
       "text": [
        "[100%] Initializing package states"
       ]
      },
      {
       "output_type": "stream",
       "stream": "stdout",
       "text": [
        "\n"
       ]
      },
      {
       "output_type": "stream",
       "stream": "stdout",
       "text": [
        "[ubuntu@ec2-54-225-5-82.compute-1.amazonaws.com] out: "
       ]
      },
      {
       "output_type": "stream",
       "stream": "stdout",
       "text": [
        "                                  \n"
       ]
      },
      {
       "output_type": "stream",
       "stream": "stdout",
       "text": [
        "[ubuntu@ec2-54-225-5-82.compute-1.amazonaws.com] out: "
       ]
      },
      {
       "output_type": "stream",
       "stream": "stdout",
       "text": [
        "\n"
       ]
      },
      {
       "output_type": "stream",
       "stream": "stdout",
       "text": [
        "[ubuntu@ec2-54-225-5-82.compute-1.amazonaws.com] out: "
       ]
      },
      {
       "output_type": "stream",
       "stream": "stdout",
       "text": [
        "\n"
       ]
      },
      {
       "output_type": "stream",
       "stream": "stdout",
       "text": [
        "[ubuntu@ec2-54-225-5-82.compute-1.amazonaws.com] out: "
       ]
      },
      {
       "output_type": "stream",
       "stream": "stdout",
       "text": [
        "[  0%] Writing extended state information"
       ]
      },
      {
       "output_type": "stream",
       "stream": "stdout",
       "text": [
        "\n"
       ]
      },
      {
       "output_type": "stream",
       "stream": "stdout",
       "text": [
        "[ubuntu@ec2-54-225-5-82.compute-1.amazonaws.com] out: "
       ]
      },
      {
       "output_type": "stream",
       "stream": "stdout",
       "text": [
        "                                         \n"
       ]
      },
      {
       "output_type": "stream",
       "stream": "stdout",
       "text": [
        "[ubuntu@ec2-54-225-5-82.compute-1.amazonaws.com] out: "
       ]
      },
      {
       "output_type": "stream",
       "stream": "stdout",
       "text": [
        "\n"
       ]
      },
      {
       "output_type": "stream",
       "stream": "stdout",
       "text": [
        "[ubuntu@ec2-54-225-5-82.compute-1.amazonaws.com] out: "
       ]
      },
      {
       "output_type": "stream",
       "stream": "stdout",
       "text": [
        "Current status: 0 updates [-7].\n"
       ]
      },
      {
       "output_type": "stream",
       "stream": "stdout",
       "text": [
        "[ubuntu@ec2-54-225-5-82.compute-1.amazonaws.com] out: "
       ]
      },
      {
       "output_type": "stream",
       "stream": "stdout",
       "text": [
        "\n"
       ]
      },
      {
       "output_type": "stream",
       "stream": "stdout",
       "text": [
        "\n",
        "[ubuntu@ec2-54-225-5-82.compute-1.amazonaws.com] sudo: yes | aptitude install git-core apache libapache2-mod-wsgi mysql-client python-virtualenv python-mysqldb redis-server python-lxml\n",
        "[ubuntu@ec2-54-225-5-82.compute-1.amazonaws.com] out: "
       ]
      },
      {
       "output_type": "stream",
       "stream": "stdout",
       "text": [
        "\n"
       ]
      },
      {
       "output_type": "stream",
       "stream": "stdout",
       "text": [
        "[ubuntu@ec2-54-225-5-82.compute-1.amazonaws.com] out: "
       ]
      },
      {
       "output_type": "stream",
       "stream": "stdout",
       "text": [
        "\n"
       ]
      },
      {
       "output_type": "stream",
       "stream": "stdout",
       "text": [
        "[ubuntu@ec2-54-225-5-82.compute-1.amazonaws.com] out: "
       ]
      },
      {
       "output_type": "stream",
       "stream": "stdout",
       "text": [
        "[  0%] Reading package lists"
       ]
      },
      {
       "output_type": "stream",
       "stream": "stdout",
       "text": [
        "\n"
       ]
      },
      {
       "output_type": "stream",
       "stream": "stdout",
       "text": [
        "[ubuntu@ec2-54-225-5-82.compute-1.amazonaws.com] out: "
       ]
      },
      {
       "output_type": "stream",
       "stream": "stdout",
       "text": [
        "                            \n"
       ]
      },
      {
       "output_type": "stream",
       "stream": "stdout",
       "text": [
        "[ubuntu@ec2-54-225-5-82.compute-1.amazonaws.com] out: "
       ]
      },
      {
       "output_type": "stream",
       "stream": "stdout",
       "text": [
        "[100%] Reading package lists\n"
       ]
      },
      {
       "output_type": "stream",
       "stream": "stdout",
       "text": [
        "[ubuntu@ec2-54-225-5-82.compute-1.amazonaws.com] out: "
       ]
      },
      {
       "output_type": "stream",
       "stream": "stdout",
       "text": [
        "                            \n"
       ]
      },
      {
       "output_type": "stream",
       "stream": "stdout",
       "text": [
        "[ubuntu@ec2-54-225-5-82.compute-1.amazonaws.com] out: "
       ]
      },
      {
       "output_type": "stream",
       "stream": "stdout",
       "text": [
        "\n"
       ]
      },
      {
       "output_type": "stream",
       "stream": "stdout",
       "text": [
        "[ubuntu@ec2-54-225-5-82.compute-1.amazonaws.com] out: "
       ]
      },
      {
       "output_type": "stream",
       "stream": "stdout",
       "text": [
        "\n"
       ]
      },
      {
       "output_type": "stream",
       "stream": "stdout",
       "text": [
        "[ubuntu@ec2-54-225-5-82.compute-1.amazonaws.com] out: "
       ]
      },
      {
       "output_type": "stream",
       "stream": "stdout",
       "text": [
        "[  0%] Building dependency tree"
       ]
      },
      {
       "output_type": "stream",
       "stream": "stdout",
       "text": [
        "\n"
       ]
      },
      {
       "output_type": "stream",
       "stream": "stdout",
       "text": [
        "[ubuntu@ec2-54-225-5-82.compute-1.amazonaws.com] out: "
       ]
      },
      {
       "output_type": "stream",
       "stream": "stdout",
       "text": [
        "                               \n"
       ]
      },
      {
       "output_type": "stream",
       "stream": "stdout",
       "text": [
        "[ubuntu@ec2-54-225-5-82.compute-1.amazonaws.com] out: "
       ]
      },
      {
       "output_type": "stream",
       "stream": "stdout",
       "text": [
        "[100%] Building dependency tree"
       ]
      },
      {
       "output_type": "stream",
       "stream": "stdout",
       "text": [
        "\n"
       ]
      },
      {
       "output_type": "stream",
       "stream": "stdout",
       "text": [
        "[ubuntu@ec2-54-225-5-82.compute-1.amazonaws.com] out: "
       ]
      },
      {
       "output_type": "stream",
       "stream": "stdout",
       "text": [
        "                               \n"
       ]
      },
      {
       "output_type": "stream",
       "stream": "stdout",
       "text": [
        "[ubuntu@ec2-54-225-5-82.compute-1.amazonaws.com] out: "
       ]
      },
      {
       "output_type": "stream",
       "stream": "stdout",
       "text": [
        "[  0%] Reading state information\n"
       ]
      },
      {
       "output_type": "stream",
       "stream": "stdout",
       "text": [
        "[ubuntu@ec2-54-225-5-82.compute-1.amazonaws.com] out: "
       ]
      },
      {
       "output_type": "stream",
       "stream": "stdout",
       "text": [
        "                                \n"
       ]
      },
      {
       "output_type": "stream",
       "stream": "stdout",
       "text": [
        "[ubuntu@ec2-54-225-5-82.compute-1.amazonaws.com] out: "
       ]
      },
      {
       "output_type": "stream",
       "stream": "stdout",
       "text": [
        "[100%] Reading state information\n"
       ]
      },
      {
       "output_type": "stream",
       "stream": "stdout",
       "text": [
        "[ubuntu@ec2-54-225-5-82.compute-1.amazonaws.com] out: "
       ]
      },
      {
       "output_type": "stream",
       "stream": "stdout",
       "text": [
        "                                \n"
       ]
      },
      {
       "output_type": "stream",
       "stream": "stdout",
       "text": [
        "[ubuntu@ec2-54-225-5-82.compute-1.amazonaws.com] out: "
       ]
      },
      {
       "output_type": "stream",
       "stream": "stdout",
       "text": [
        "\n"
       ]
      },
      {
       "output_type": "stream",
       "stream": "stdout",
       "text": [
        "[ubuntu@ec2-54-225-5-82.compute-1.amazonaws.com] out: "
       ]
      },
      {
       "output_type": "stream",
       "stream": "stdout",
       "text": [
        "\n"
       ]
      },
      {
       "output_type": "stream",
       "stream": "stdout",
       "text": [
        "[ubuntu@ec2-54-225-5-82.compute-1.amazonaws.com] out: "
       ]
      },
      {
       "output_type": "stream",
       "stream": "stdout",
       "text": [
        "[  0%] Reading extended state information\n"
       ]
      },
      {
       "output_type": "stream",
       "stream": "stdout",
       "text": [
        "[ubuntu@ec2-54-225-5-82.compute-1.amazonaws.com] out: "
       ]
      },
      {
       "output_type": "stream",
       "stream": "stdout",
       "text": [
        "                                         \n"
       ]
      },
      {
       "output_type": "stream",
       "stream": "stdout",
       "text": [
        "[ubuntu@ec2-54-225-5-82.compute-1.amazonaws.com] out: "
       ]
      },
      {
       "output_type": "stream",
       "stream": "stdout",
       "text": [
        "\n"
       ]
      },
      {
       "output_type": "stream",
       "stream": "stdout",
       "text": [
        "[ubuntu@ec2-54-225-5-82.compute-1.amazonaws.com] out: "
       ]
      },
      {
       "output_type": "stream",
       "stream": "stdout",
       "text": [
        "\n"
       ]
      },
      {
       "output_type": "stream",
       "stream": "stdout",
       "text": [
        "[ubuntu@ec2-54-225-5-82.compute-1.amazonaws.com] out: "
       ]
      },
      {
       "output_type": "stream",
       "stream": "stdout",
       "text": [
        "[  0%] Initializing package states\n"
       ]
      },
      {
       "output_type": "stream",
       "stream": "stdout",
       "text": [
        "[ubuntu@ec2-54-225-5-82.compute-1.amazonaws.com] out: "
       ]
      },
      {
       "output_type": "stream",
       "stream": "stdout",
       "text": [
        "                                  \n"
       ]
      },
      {
       "output_type": "stream",
       "stream": "stdout",
       "text": [
        "[ubuntu@ec2-54-225-5-82.compute-1.amazonaws.com] out: "
       ]
      },
      {
       "output_type": "stream",
       "stream": "stdout",
       "text": [
        "[100%] Initializing package states\n"
       ]
      },
      {
       "output_type": "stream",
       "stream": "stdout",
       "text": [
        "[ubuntu@ec2-54-225-5-82.compute-1.amazonaws.com] out: "
       ]
      },
      {
       "output_type": "stream",
       "stream": "stdout",
       "text": [
        "                                  \n"
       ]
      },
      {
       "output_type": "stream",
       "stream": "stdout",
       "text": [
        "[ubuntu@ec2-54-225-5-82.compute-1.amazonaws.com] out: "
       ]
      },
      {
       "output_type": "stream",
       "stream": "stdout",
       "text": [
        "No candidate version found for apache\n"
       ]
      },
      {
       "output_type": "stream",
       "stream": "stdout",
       "text": [
        "[ubuntu@ec2-54-225-5-82.compute-1.amazonaws.com] out: "
       ]
      },
      {
       "output_type": "stream",
       "stream": "stdout",
       "text": [
        "No candidate version found for apache\n"
       ]
      },
      {
       "output_type": "stream",
       "stream": "stdout",
       "text": [
        "[ubuntu@ec2-54-225-5-82.compute-1.amazonaws.com] out: "
       ]
      },
      {
       "output_type": "stream",
       "stream": "stdout",
       "text": [
        "The following NEW packages will be installed:\n"
       ]
      },
      {
       "output_type": "stream",
       "stream": "stdout",
       "text": [
        "[ubuntu@ec2-54-225-5-82.compute-1.amazonaws.com] out: "
       ]
      },
      {
       "output_type": "stream",
       "stream": "stdout",
       "text": [
        "  apache2{a} apache2-mpm-worker{a} apache2-utils{a} apache2.2-bin{a} \n"
       ]
      },
      {
       "output_type": "stream",
       "stream": "stdout",
       "text": [
        "[ubuntu@ec2-54-225-5-82.compute-1.amazonaws.com] out: "
       ]
      },
      {
       "output_type": "stream",
       "stream": "stdout",
       "text": [
        "  apache2.2-common{a} git{a} git-core git-man{a} libapache2-mod-wsgi \n"
       ]
      },
      {
       "output_type": "stream",
       "stream": "stdout",
       "text": [
        "[ubuntu@ec2-54-225-5-82.compute-1.amazonaws.com] out: "
       ]
      },
      {
       "output_type": "stream",
       "stream": "stdout",
       "text": [
        "  libapr1{a} libaprutil1{a} libaprutil1-dbd-sqlite3{a} libaprutil1-ldap{a} \n"
       ]
      },
      {
       "output_type": "stream",
       "stream": "stdout",
       "text": [
        "[ubuntu@ec2-54-225-5-82.compute-1.amazonaws.com] out: "
       ]
      },
      {
       "output_type": "stream",
       "stream": "stdout",
       "text": [
        "  libcap2{a} libdbd-mysql-perl{a} libdbi-perl{a} liberror-perl{a} \n"
       ]
      },
      {
       "output_type": "stream",
       "stream": "stdout",
       "text": [
        "[ubuntu@ec2-54-225-5-82.compute-1.amazonaws.com] out: "
       ]
      },
      {
       "output_type": "stream",
       "stream": "stdout",
       "text": [
        "  libmysqlclient18{a} libnet-daemon-perl{a} libplrpc-perl{a} libxslt1.1{a} \n"
       ]
      },
      {
       "output_type": "stream",
       "stream": "stdout",
       "text": [
        "[ubuntu@ec2-54-225-5-82.compute-1.amazonaws.com] out: "
       ]
      },
      {
       "output_type": "stream",
       "stream": "stdout",
       "text": [
        "  mysql-client mysql-client-5.5{a} mysql-client-core-5.5{a} mysql-common{a} \n"
       ]
      },
      {
       "output_type": "stream",
       "stream": "stdout",
       "text": [
        "[ubuntu@ec2-54-225-5-82.compute-1.amazonaws.com] out: "
       ]
      },
      {
       "output_type": "stream",
       "stream": "stdout",
       "text": [
        "  python-lxml python-mysqldb python-pip{a} python-setuptools{a} \n"
       ]
      },
      {
       "output_type": "stream",
       "stream": "stdout",
       "text": [
        "[ubuntu@ec2-54-225-5-82.compute-1.amazonaws.com] out: "
       ]
      },
      {
       "output_type": "stream",
       "stream": "stdout",
       "text": [
        "  python-virtualenv redis-server ssl-cert{a} \n"
       ]
      },
      {
       "output_type": "stream",
       "stream": "stdout",
       "text": [
        "[ubuntu@ec2-54-225-5-82.compute-1.amazonaws.com] out: "
       ]
      },
      {
       "output_type": "stream",
       "stream": "stdout",
       "text": [
        "0 packages upgraded, 32 newly installed, 0 to remove and 0 not upgraded.\n"
       ]
      },
      {
       "output_type": "stream",
       "stream": "stdout",
       "text": [
        "[ubuntu@ec2-54-225-5-82.compute-1.amazonaws.com] out: "
       ]
      },
      {
       "output_type": "stream",
       "stream": "stdout",
       "text": [
        "Need to get 24.7 MB of archives. After unpacking 72.6 MB will be used.\n"
       ]
      },
      {
       "output_type": "stream",
       "stream": "stdout",
       "text": [
        "[ubuntu@ec2-54-225-5-82.compute-1.amazonaws.com] out: "
       ]
      },
      {
       "output_type": "stream",
       "stream": "stdout",
       "text": [
        "Do you want to continue? [Y/n/?] \n"
       ]
      },
      {
       "output_type": "stream",
       "stream": "stdout",
       "text": [
        "[ubuntu@ec2-54-225-5-82.compute-1.amazonaws.com] out: "
       ]
      },
      {
       "output_type": "stream",
       "stream": "stdout",
       "text": [
        "\n"
       ]
      },
      {
       "output_type": "stream",
       "stream": "stdout",
       "text": [
        "[ubuntu@ec2-54-225-5-82.compute-1.amazonaws.com] out: "
       ]
      },
      {
       "output_type": "stream",
       "stream": "stdout",
       "text": [
        "[  0%] Writing extended state information\n"
       ]
      },
      {
       "output_type": "stream",
       "stream": "stdout",
       "text": [
        "[ubuntu@ec2-54-225-5-82.compute-1.amazonaws.com] out: "
       ]
      },
      {
       "output_type": "stream",
       "stream": "stdout",
       "text": [
        "                                         \n"
       ]
      },
      {
       "output_type": "stream",
       "stream": "stdout",
       "text": [
        "[ubuntu@ec2-54-225-5-82.compute-1.amazonaws.com] out: "
       ]
      },
      {
       "output_type": "stream",
       "stream": "stdout",
       "text": [
        "[100%] Writing extended state information"
       ]
      },
      {
       "output_type": "stream",
       "stream": "stdout",
       "text": [
        "\n"
       ]
      },
      {
       "output_type": "stream",
       "stream": "stdout",
       "text": [
        "[ubuntu@ec2-54-225-5-82.compute-1.amazonaws.com] out: "
       ]
      },
      {
       "output_type": "stream",
       "stream": "stdout",
       "text": [
        "                                         \n"
       ]
      },
      {
       "output_type": "stream",
       "stream": "stdout",
       "text": [
        "[ubuntu@ec2-54-225-5-82.compute-1.amazonaws.com] out: "
       ]
      },
      {
       "output_type": "stream",
       "stream": "stdout",
       "text": [
        "\n"
       ]
      },
      {
       "output_type": "stream",
       "stream": "stdout",
       "text": [
        "[ubuntu@ec2-54-225-5-82.compute-1.amazonaws.com] out: "
       ]
      },
      {
       "output_type": "stream",
       "stream": "stdout",
       "text": [
        "\n"
       ]
      },
      {
       "output_type": "stream",
       "stream": "stdout",
       "text": [
        "[ubuntu@ec2-54-225-5-82.compute-1.amazonaws.com] out: "
       ]
      },
      {
       "output_type": "stream",
       "stream": "stdout",
       "text": [
        "0% [Working]"
       ]
      },
      {
       "output_type": "stream",
       "stream": "stdout",
       "text": [
        "\n"
       ]
      },
      {
       "output_type": "stream",
       "stream": "stdout",
       "text": [
        "[ubuntu@ec2-54-225-5-82.compute-1.amazonaws.com] out: "
       ]
      },
      {
       "output_type": "stream",
       "stream": "stdout",
       "text": [
        "            \n"
       ]
      },
      {
       "output_type": "stream",
       "stream": "stdout",
       "text": [
        "[ubuntu@ec2-54-225-5-82.compute-1.amazonaws.com] out: "
       ]
      },
      {
       "output_type": "stream",
       "stream": "stdout",
       "text": [
        "Get: 1 http://us-east-1.ec2.archive.ubuntu.com/ubuntu/ precise/main libcap2 amd64 1:2.22-1ubuntu3 [12.0 kB]\n"
       ]
      },
      {
       "output_type": "stream",
       "stream": "stdout",
       "text": [
        "[ubuntu@ec2-54-225-5-82.compute-1.amazonaws.com] out: "
       ]
      },
      {
       "output_type": "stream",
       "stream": "stdout",
       "text": [
        "\n"
       ]
      },
      {
       "output_type": "stream",
       "stream": "stdout",
       "text": [
        "[ubuntu@ec2-54-225-5-82.compute-1.amazonaws.com] out: "
       ]
      },
      {
       "output_type": "stream",
       "stream": "stdout",
       "text": [
        "\n"
       ]
      },
      {
       "output_type": "stream",
       "stream": "stdout",
       "text": [
        "[ubuntu@ec2-54-225-5-82.compute-1.amazonaws.com] out: "
       ]
      },
      {
       "output_type": "stream",
       "stream": "stdout",
       "text": [
        "0% [1 libcap2 0 B/12.0 kB 0%]\n"
       ]
      },
      {
       "output_type": "stream",
       "stream": "stdout",
       "text": [
        "[ubuntu@ec2-54-225-5-82.compute-1.amazonaws.com] out: "
       ]
      },
      {
       "output_type": "stream",
       "stream": "stdout",
       "text": [
        "                             \n"
       ]
      },
      {
       "output_type": "stream",
       "stream": "stdout",
       "text": [
        "[ubuntu@ec2-54-225-5-82.compute-1.amazonaws.com] out: "
       ]
      },
      {
       "output_type": "stream",
       "stream": "stdout",
       "text": [
        "0% [Working]"
       ]
      },
      {
       "output_type": "stream",
       "stream": "stdout",
       "text": [
        "\n"
       ]
      },
      {
       "output_type": "stream",
       "stream": "stdout",
       "text": [
        "[ubuntu@ec2-54-225-5-82.compute-1.amazonaws.com] out: "
       ]
      },
      {
       "output_type": "stream",
       "stream": "stdout",
       "text": [
        "            \n"
       ]
      },
      {
       "output_type": "stream",
       "stream": "stdout",
       "text": [
        "[ubuntu@ec2-54-225-5-82.compute-1.amazonaws.com] out: "
       ]
      },
      {
       "output_type": "stream",
       "stream": "stdout",
       "text": [
        "Get: 2 http://us-east-1.ec2.archive.ubuntu.com/ubuntu/ precise-updates/main mysql-common all 5.5.31-0ubuntu0.12.04.1 [13.4 kB]\n"
       ]
      },
      {
       "output_type": "stream",
       "stream": "stdout",
       "text": [
        "[ubuntu@ec2-54-225-5-82.compute-1.amazonaws.com] out: "
       ]
      },
      {
       "output_type": "stream",
       "stream": "stdout",
       "text": [
        "\n"
       ]
      },
      {
       "output_type": "stream",
       "stream": "stdout",
       "text": [
        "[ubuntu@ec2-54-225-5-82.compute-1.amazonaws.com] out: "
       ]
      },
      {
       "output_type": "stream",
       "stream": "stdout",
       "text": [
        "\n"
       ]
      },
      {
       "output_type": "stream",
       "stream": "stdout",
       "text": [
        "[ubuntu@ec2-54-225-5-82.compute-1.amazonaws.com] out: "
       ]
      },
      {
       "output_type": "stream",
       "stream": "stdout",
       "text": [
        "0% [2 mysql-common 0 B/13.4 kB 0%]"
       ]
      },
      {
       "output_type": "stream",
       "stream": "stdout",
       "text": [
        "\n"
       ]
      },
      {
       "output_type": "stream",
       "stream": "stdout",
       "text": [
        "[ubuntu@ec2-54-225-5-82.compute-1.amazonaws.com] out: "
       ]
      },
      {
       "output_type": "stream",
       "stream": "stdout",
       "text": [
        "                                  \n"
       ]
      },
      {
       "output_type": "stream",
       "stream": "stdout",
       "text": [
        "[ubuntu@ec2-54-225-5-82.compute-1.amazonaws.com] out: "
       ]
      },
      {
       "output_type": "stream",
       "stream": "stdout",
       "text": [
        "0% [Working]\n"
       ]
      },
      {
       "output_type": "stream",
       "stream": "stdout",
       "text": [
        "[ubuntu@ec2-54-225-5-82.compute-1.amazonaws.com] out: "
       ]
      },
      {
       "output_type": "stream",
       "stream": "stdout",
       "text": [
        "            \n"
       ]
      },
      {
       "output_type": "stream",
       "stream": "stdout",
       "text": [
        "[ubuntu@ec2-54-225-5-82.compute-1.amazonaws.com] out: "
       ]
      },
      {
       "output_type": "stream",
       "stream": "stdout",
       "text": [
        "Get: 3 http://us-east-1.ec2.archive.ubuntu.com/ubuntu/ precise-updates/main libmysqlclient18 amd64 5.5.31-0ubuntu0.12.04.1 [948 kB]\n"
       ]
      },
      {
       "output_type": "stream",
       "stream": "stdout",
       "text": [
        "[ubuntu@ec2-54-225-5-82.compute-1.amazonaws.com] out: "
       ]
      },
      {
       "output_type": "stream",
       "stream": "stdout",
       "text": [
        "\n"
       ]
      },
      {
       "output_type": "stream",
       "stream": "stdout",
       "text": [
        "[ubuntu@ec2-54-225-5-82.compute-1.amazonaws.com] out: "
       ]
      },
      {
       "output_type": "stream",
       "stream": "stdout",
       "text": [
        "\n"
       ]
      },
      {
       "output_type": "stream",
       "stream": "stdout",
       "text": [
        "[ubuntu@ec2-54-225-5-82.compute-1.amazonaws.com] out: "
       ]
      },
      {
       "output_type": "stream",
       "stream": "stdout",
       "text": [
        "0% [3 libmysqlclient18 0 B/948 kB 0%]\n"
       ]
      },
      {
       "output_type": "stream",
       "stream": "stdout",
       "text": [
        "[ubuntu@ec2-54-225-5-82.compute-1.amazonaws.com] out: "
       ]
      },
      {
       "output_type": "stream",
       "stream": "stdout",
       "text": [
        "                                     \n"
       ]
      },
      {
       "output_type": "stream",
       "stream": "stdout",
       "text": [
        "[ubuntu@ec2-54-225-5-82.compute-1.amazonaws.com] out: "
       ]
      },
      {
       "output_type": "stream",
       "stream": "stdout",
       "text": [
        "4% [Working]\n"
       ]
      },
      {
       "output_type": "stream",
       "stream": "stdout",
       "text": [
        "[ubuntu@ec2-54-225-5-82.compute-1.amazonaws.com] out: "
       ]
      },
      {
       "output_type": "stream",
       "stream": "stdout",
       "text": [
        "            \n"
       ]
      },
      {
       "output_type": "stream",
       "stream": "stdout",
       "text": [
        "[ubuntu@ec2-54-225-5-82.compute-1.amazonaws.com] out: "
       ]
      },
      {
       "output_type": "stream",
       "stream": "stdout",
       "text": [
        "Get: 4 http://us-east-1.ec2.archive.ubuntu.com/ubuntu/ precise-updates/main libxslt1.1 amd64 1.1.26-8ubuntu1.3 [167 kB]\n"
       ]
      },
      {
       "output_type": "stream",
       "stream": "stdout",
       "text": [
        "[ubuntu@ec2-54-225-5-82.compute-1.amazonaws.com] out: "
       ]
      },
      {
       "output_type": "stream",
       "stream": "stdout",
       "text": [
        "\n"
       ]
      },
      {
       "output_type": "stream",
       "stream": "stdout",
       "text": [
        "[ubuntu@ec2-54-225-5-82.compute-1.amazonaws.com] out: "
       ]
      },
      {
       "output_type": "stream",
       "stream": "stdout",
       "text": [
        "\n"
       ]
      },
      {
       "output_type": "stream",
       "stream": "stdout",
       "text": [
        "[ubuntu@ec2-54-225-5-82.compute-1.amazonaws.com] out: "
       ]
      },
      {
       "output_type": "stream",
       "stream": "stdout",
       "text": [
        "4% [4 libxslt1.1 0 B/167 kB 0%]"
       ]
      },
      {
       "output_type": "stream",
       "stream": "stdout",
       "text": [
        "\n"
       ]
      },
      {
       "output_type": "stream",
       "stream": "stdout",
       "text": [
        "[ubuntu@ec2-54-225-5-82.compute-1.amazonaws.com] out: "
       ]
      },
      {
       "output_type": "stream",
       "stream": "stdout",
       "text": [
        "                               \n"
       ]
      },
      {
       "output_type": "stream",
       "stream": "stdout",
       "text": [
        "[ubuntu@ec2-54-225-5-82.compute-1.amazonaws.com] out: "
       ]
      },
      {
       "output_type": "stream",
       "stream": "stdout",
       "text": [
        "5% [Working]\n"
       ]
      },
      {
       "output_type": "stream",
       "stream": "stdout",
       "text": [
        "[ubuntu@ec2-54-225-5-82.compute-1.amazonaws.com] out: "
       ]
      },
      {
       "output_type": "stream",
       "stream": "stdout",
       "text": [
        "            \n"
       ]
      },
      {
       "output_type": "stream",
       "stream": "stdout",
       "text": [
        "[ubuntu@ec2-54-225-5-82.compute-1.amazonaws.com] out: "
       ]
      },
      {
       "output_type": "stream",
       "stream": "stdout",
       "text": [
        "Get: 5 http://us-east-1.ec2.archive.ubuntu.com/ubuntu/ precise/main libapr1 amd64 1.4.6-1 [89.6 kB]\n"
       ]
      },
      {
       "output_type": "stream",
       "stream": "stdout",
       "text": [
        "[ubuntu@ec2-54-225-5-82.compute-1.amazonaws.com] out: "
       ]
      },
      {
       "output_type": "stream",
       "stream": "stdout",
       "text": [
        "\n"
       ]
      },
      {
       "output_type": "stream",
       "stream": "stdout",
       "text": [
        "[ubuntu@ec2-54-225-5-82.compute-1.amazonaws.com] out: "
       ]
      },
      {
       "output_type": "stream",
       "stream": "stdout",
       "text": [
        "\n"
       ]
      },
      {
       "output_type": "stream",
       "stream": "stdout",
       "text": [
        "[ubuntu@ec2-54-225-5-82.compute-1.amazonaws.com] out: "
       ]
      },
      {
       "output_type": "stream",
       "stream": "stdout",
       "text": [
        "5% [5 libapr1 0 B/89.6 kB 0%]\n"
       ]
      },
      {
       "output_type": "stream",
       "stream": "stdout",
       "text": [
        "[ubuntu@ec2-54-225-5-82.compute-1.amazonaws.com] out: "
       ]
      },
      {
       "output_type": "stream",
       "stream": "stdout",
       "text": [
        "                             \n"
       ]
      },
      {
       "output_type": "stream",
       "stream": "stdout",
       "text": [
        "[ubuntu@ec2-54-225-5-82.compute-1.amazonaws.com] out: "
       ]
      },
      {
       "output_type": "stream",
       "stream": "stdout",
       "text": [
        "5% [Working]\n"
       ]
      },
      {
       "output_type": "stream",
       "stream": "stdout",
       "text": [
        "[ubuntu@ec2-54-225-5-82.compute-1.amazonaws.com] out: "
       ]
      },
      {
       "output_type": "stream",
       "stream": "stdout",
       "text": [
        "            \n"
       ]
      },
      {
       "output_type": "stream",
       "stream": "stdout",
       "text": [
        "[ubuntu@ec2-54-225-5-82.compute-1.amazonaws.com] out: "
       ]
      },
      {
       "output_type": "stream",
       "stream": "stdout",
       "text": [
        "Get: 6 http://us-east-1.ec2.archive.ubuntu.com/ubuntu/ precise/main libaprutil1 amd64 1.3.12+dfsg-3 [74.6 kB]\n"
       ]
      },
      {
       "output_type": "stream",
       "stream": "stdout",
       "text": [
        "[ubuntu@ec2-54-225-5-82.compute-1.amazonaws.com] out: "
       ]
      },
      {
       "output_type": "stream",
       "stream": "stdout",
       "text": [
        "\n"
       ]
      },
      {
       "output_type": "stream",
       "stream": "stdout",
       "text": [
        "[ubuntu@ec2-54-225-5-82.compute-1.amazonaws.com] out: "
       ]
      },
      {
       "output_type": "stream",
       "stream": "stdout",
       "text": [
        "\n"
       ]
      },
      {
       "output_type": "stream",
       "stream": "stdout",
       "text": [
        "[ubuntu@ec2-54-225-5-82.compute-1.amazonaws.com] out: "
       ]
      },
      {
       "output_type": "stream",
       "stream": "stdout",
       "text": [
        "5% [6 libaprutil1 0 B/74.6 kB 0%]\n"
       ]
      },
      {
       "output_type": "stream",
       "stream": "stdout",
       "text": [
        "[ubuntu@ec2-54-225-5-82.compute-1.amazonaws.com] out: "
       ]
      },
      {
       "output_type": "stream",
       "stream": "stdout",
       "text": [
        "                                 \n"
       ]
      },
      {
       "output_type": "stream",
       "stream": "stdout",
       "text": [
        "[ubuntu@ec2-54-225-5-82.compute-1.amazonaws.com] out: "
       ]
      },
      {
       "output_type": "stream",
       "stream": "stdout",
       "text": [
        "5% [Working]\n"
       ]
      },
      {
       "output_type": "stream",
       "stream": "stdout",
       "text": [
        "[ubuntu@ec2-54-225-5-82.compute-1.amazonaws.com] out: "
       ]
      },
      {
       "output_type": "stream",
       "stream": "stdout",
       "text": [
        "            \n"
       ]
      },
      {
       "output_type": "stream",
       "stream": "stdout",
       "text": [
        "[ubuntu@ec2-54-225-5-82.compute-1.amazonaws.com] out: "
       ]
      },
      {
       "output_type": "stream",
       "stream": "stdout",
       "text": [
        "Get: 7 http://us-east-1.ec2.archive.ubuntu.com/ubuntu/ precise/main libaprutil1-dbd-sqlite3 amd64 1.3.12+dfsg-3 [10.4 kB]\n"
       ]
      },
      {
       "output_type": "stream",
       "stream": "stdout",
       "text": [
        "[ubuntu@ec2-54-225-5-82.compute-1.amazonaws.com] out: "
       ]
      },
      {
       "output_type": "stream",
       "stream": "stdout",
       "text": [
        "\n"
       ]
      },
      {
       "output_type": "stream",
       "stream": "stdout",
       "text": [
        "[ubuntu@ec2-54-225-5-82.compute-1.amazonaws.com] out: "
       ]
      },
      {
       "output_type": "stream",
       "stream": "stdout",
       "text": [
        "\n"
       ]
      },
      {
       "output_type": "stream",
       "stream": "stdout",
       "text": [
        "[ubuntu@ec2-54-225-5-82.compute-1.amazonaws.com] out: "
       ]
      },
      {
       "output_type": "stream",
       "stream": "stdout",
       "text": [
        "5% [7 libaprutil1-dbd-sqlite3 0 B/10.4 kB 0%]\n"
       ]
      },
      {
       "output_type": "stream",
       "stream": "stdout",
       "text": [
        "[ubuntu@ec2-54-225-5-82.compute-1.amazonaws.com] out: "
       ]
      },
      {
       "output_type": "stream",
       "stream": "stdout",
       "text": [
        "                                             \n"
       ]
      },
      {
       "output_type": "stream",
       "stream": "stdout",
       "text": [
        "[ubuntu@ec2-54-225-5-82.compute-1.amazonaws.com] out: "
       ]
      },
      {
       "output_type": "stream",
       "stream": "stdout",
       "text": [
        "5% [Working]\n"
       ]
      },
      {
       "output_type": "stream",
       "stream": "stdout",
       "text": [
        "[ubuntu@ec2-54-225-5-82.compute-1.amazonaws.com] out: "
       ]
      },
      {
       "output_type": "stream",
       "stream": "stdout",
       "text": [
        "            \n"
       ]
      },
      {
       "output_type": "stream",
       "stream": "stdout",
       "text": [
        "[ubuntu@ec2-54-225-5-82.compute-1.amazonaws.com] out: "
       ]
      },
      {
       "output_type": "stream",
       "stream": "stdout",
       "text": [
        "Get: 8 http://us-east-1.ec2.archive.ubuntu.com/ubuntu/ precise/main libaprutil1-ldap amd64 1.3.12+dfsg-3 [8,044 B]\n"
       ]
      },
      {
       "output_type": "stream",
       "stream": "stdout",
       "text": [
        "[ubuntu@ec2-54-225-5-82.compute-1.amazonaws.com] out: "
       ]
      },
      {
       "output_type": "stream",
       "stream": "stdout",
       "text": [
        "\n"
       ]
      },
      {
       "output_type": "stream",
       "stream": "stdout",
       "text": [
        "[ubuntu@ec2-54-225-5-82.compute-1.amazonaws.com] out: "
       ]
      },
      {
       "output_type": "stream",
       "stream": "stdout",
       "text": [
        "\n"
       ]
      },
      {
       "output_type": "stream",
       "stream": "stdout",
       "text": [
        "[ubuntu@ec2-54-225-5-82.compute-1.amazonaws.com] out: "
       ]
      },
      {
       "output_type": "stream",
       "stream": "stdout",
       "text": [
        "5% [8 libaprutil1-ldap 0 B/8,044 B 0%]\n"
       ]
      },
      {
       "output_type": "stream",
       "stream": "stdout",
       "text": [
        "[ubuntu@ec2-54-225-5-82.compute-1.amazonaws.com] out: "
       ]
      },
      {
       "output_type": "stream",
       "stream": "stdout",
       "text": [
        "                                      \n"
       ]
      },
      {
       "output_type": "stream",
       "stream": "stdout",
       "text": [
        "[ubuntu@ec2-54-225-5-82.compute-1.amazonaws.com] out: "
       ]
      },
      {
       "output_type": "stream",
       "stream": "stdout",
       "text": [
        "5% [Working]"
       ]
      },
      {
       "output_type": "stream",
       "stream": "stdout",
       "text": [
        "\n"
       ]
      },
      {
       "output_type": "stream",
       "stream": "stdout",
       "text": [
        "[ubuntu@ec2-54-225-5-82.compute-1.amazonaws.com] out: "
       ]
      },
      {
       "output_type": "stream",
       "stream": "stdout",
       "text": [
        "            \n"
       ]
      },
      {
       "output_type": "stream",
       "stream": "stdout",
       "text": [
        "[ubuntu@ec2-54-225-5-82.compute-1.amazonaws.com] out: "
       ]
      },
      {
       "output_type": "stream",
       "stream": "stdout",
       "text": [
        "Get: 9 http://us-east-1.ec2.archive.ubuntu.com/ubuntu/ precise-updates/main apache2.2-bin amd64 2.2.22-1ubuntu1.3 [1,338 kB]\n"
       ]
      },
      {
       "output_type": "stream",
       "stream": "stdout",
       "text": [
        "[ubuntu@ec2-54-225-5-82.compute-1.amazonaws.com] out: "
       ]
      },
      {
       "output_type": "stream",
       "stream": "stdout",
       "text": [
        "\n"
       ]
      },
      {
       "output_type": "stream",
       "stream": "stdout",
       "text": [
        "[ubuntu@ec2-54-225-5-82.compute-1.amazonaws.com] out: "
       ]
      },
      {
       "output_type": "stream",
       "stream": "stdout",
       "text": [
        "\n"
       ]
      },
      {
       "output_type": "stream",
       "stream": "stdout",
       "text": [
        "[ubuntu@ec2-54-225-5-82.compute-1.amazonaws.com] out: "
       ]
      },
      {
       "output_type": "stream",
       "stream": "stdout",
       "text": [
        "5% [9 apache2.2-bin 0 B/1,338 kB 0%]"
       ]
      },
      {
       "output_type": "stream",
       "stream": "stdout",
       "text": [
        "\n"
       ]
      },
      {
       "output_type": "stream",
       "stream": "stdout",
       "text": [
        "[ubuntu@ec2-54-225-5-82.compute-1.amazonaws.com] out: "
       ]
      },
      {
       "output_type": "stream",
       "stream": "stdout",
       "text": [
        "                                    \n"
       ]
      },
      {
       "output_type": "stream",
       "stream": "stdout",
       "text": [
        "[ubuntu@ec2-54-225-5-82.compute-1.amazonaws.com] out: "
       ]
      },
      {
       "output_type": "stream",
       "stream": "stdout",
       "text": [
        "11% [Working]"
       ]
      },
      {
       "output_type": "stream",
       "stream": "stdout",
       "text": [
        "\n"
       ]
      },
      {
       "output_type": "stream",
       "stream": "stdout",
       "text": [
        "[ubuntu@ec2-54-225-5-82.compute-1.amazonaws.com] out: "
       ]
      },
      {
       "output_type": "stream",
       "stream": "stdout",
       "text": [
        "             \n"
       ]
      },
      {
       "output_type": "stream",
       "stream": "stdout",
       "text": [
        "[ubuntu@ec2-54-225-5-82.compute-1.amazonaws.com] out: "
       ]
      },
      {
       "output_type": "stream",
       "stream": "stdout",
       "text": [
        "Get: 10 http://us-east-1.ec2.archive.ubuntu.com/ubuntu/ precise-updates/main apache2-utils amd64 2.2.22-1ubuntu1.3 [90.4 kB]\n"
       ]
      },
      {
       "output_type": "stream",
       "stream": "stdout",
       "text": [
        "[ubuntu@ec2-54-225-5-82.compute-1.amazonaws.com] out: "
       ]
      },
      {
       "output_type": "stream",
       "stream": "stdout",
       "text": [
        "\n"
       ]
      },
      {
       "output_type": "stream",
       "stream": "stdout",
       "text": [
        "[ubuntu@ec2-54-225-5-82.compute-1.amazonaws.com] out: "
       ]
      },
      {
       "output_type": "stream",
       "stream": "stdout",
       "text": [
        "\n"
       ]
      },
      {
       "output_type": "stream",
       "stream": "stdout",
       "text": [
        "[ubuntu@ec2-54-225-5-82.compute-1.amazonaws.com] out: "
       ]
      },
      {
       "output_type": "stream",
       "stream": "stdout",
       "text": [
        "11% [10 apache2-utils 0 B/90.4 kB 0%]"
       ]
      },
      {
       "output_type": "stream",
       "stream": "stdout",
       "text": [
        "\n"
       ]
      },
      {
       "output_type": "stream",
       "stream": "stdout",
       "text": [
        "[ubuntu@ec2-54-225-5-82.compute-1.amazonaws.com] out: "
       ]
      },
      {
       "output_type": "stream",
       "stream": "stdout",
       "text": [
        "                                     \n"
       ]
      },
      {
       "output_type": "stream",
       "stream": "stdout",
       "text": [
        "[ubuntu@ec2-54-225-5-82.compute-1.amazonaws.com] out: "
       ]
      },
      {
       "output_type": "stream",
       "stream": "stdout",
       "text": [
        "11% [Working]"
       ]
      },
      {
       "output_type": "stream",
       "stream": "stdout",
       "text": [
        "\n"
       ]
      },
      {
       "output_type": "stream",
       "stream": "stdout",
       "text": [
        "[ubuntu@ec2-54-225-5-82.compute-1.amazonaws.com] out: "
       ]
      },
      {
       "output_type": "stream",
       "stream": "stdout",
       "text": [
        "             \n"
       ]
      },
      {
       "output_type": "stream",
       "stream": "stdout",
       "text": [
        "[ubuntu@ec2-54-225-5-82.compute-1.amazonaws.com] out: "
       ]
      },
      {
       "output_type": "stream",
       "stream": "stdout",
       "text": [
        "Get: 11 http://us-east-1.ec2.archive.ubuntu.com/ubuntu/ precise-updates/main apache2.2-common amd64 2.2.22-1ubuntu1.3 [227 kB]\n"
       ]
      },
      {
       "output_type": "stream",
       "stream": "stdout",
       "text": [
        "[ubuntu@ec2-54-225-5-82.compute-1.amazonaws.com] out: "
       ]
      },
      {
       "output_type": "stream",
       "stream": "stdout",
       "text": [
        "\n"
       ]
      },
      {
       "output_type": "stream",
       "stream": "stdout",
       "text": [
        "[ubuntu@ec2-54-225-5-82.compute-1.amazonaws.com] out: "
       ]
      },
      {
       "output_type": "stream",
       "stream": "stdout",
       "text": [
        "\n"
       ]
      },
      {
       "output_type": "stream",
       "stream": "stdout",
       "text": [
        "[ubuntu@ec2-54-225-5-82.compute-1.amazonaws.com] out: "
       ]
      },
      {
       "output_type": "stream",
       "stream": "stdout",
       "text": [
        "11% [11 apache2.2-common 0 B/227 kB 0%]\n"
       ]
      },
      {
       "output_type": "stream",
       "stream": "stdout",
       "text": [
        "[ubuntu@ec2-54-225-5-82.compute-1.amazonaws.com] out: "
       ]
      },
      {
       "output_type": "stream",
       "stream": "stdout",
       "text": [
        "                                       \n"
       ]
      },
      {
       "output_type": "stream",
       "stream": "stdout",
       "text": [
        "[ubuntu@ec2-54-225-5-82.compute-1.amazonaws.com] out: "
       ]
      },
      {
       "output_type": "stream",
       "stream": "stdout",
       "text": [
        "12% [Working]"
       ]
      },
      {
       "output_type": "stream",
       "stream": "stdout",
       "text": [
        "\n"
       ]
      },
      {
       "output_type": "stream",
       "stream": "stdout",
       "text": [
        "[ubuntu@ec2-54-225-5-82.compute-1.amazonaws.com] out: "
       ]
      },
      {
       "output_type": "stream",
       "stream": "stdout",
       "text": [
        "             \n"
       ]
      },
      {
       "output_type": "stream",
       "stream": "stdout",
       "text": [
        "[ubuntu@ec2-54-225-5-82.compute-1.amazonaws.com] out: "
       ]
      },
      {
       "output_type": "stream",
       "stream": "stdout",
       "text": [
        "Get: 12 http://us-east-1.ec2.archive.ubuntu.com/ubuntu/ precise-updates/main apache2-mpm-worker amd64 2.2.22-1ubuntu1.3 [2,296 B]\n"
       ]
      },
      {
       "output_type": "stream",
       "stream": "stdout",
       "text": [
        "[ubuntu@ec2-54-225-5-82.compute-1.amazonaws.com] out: "
       ]
      },
      {
       "output_type": "stream",
       "stream": "stdout",
       "text": [
        "\n"
       ]
      },
      {
       "output_type": "stream",
       "stream": "stdout",
       "text": [
        "[ubuntu@ec2-54-225-5-82.compute-1.amazonaws.com] out: "
       ]
      },
      {
       "output_type": "stream",
       "stream": "stdout",
       "text": [
        "\n"
       ]
      },
      {
       "output_type": "stream",
       "stream": "stdout",
       "text": [
        "[ubuntu@ec2-54-225-5-82.compute-1.amazonaws.com] out: "
       ]
      },
      {
       "output_type": "stream",
       "stream": "stdout",
       "text": [
        "12% [12 apache2-mpm-worker 0 B/2,296 B 0%]\n"
       ]
      },
      {
       "output_type": "stream",
       "stream": "stdout",
       "text": [
        "[ubuntu@ec2-54-225-5-82.compute-1.amazonaws.com] out: "
       ]
      },
      {
       "output_type": "stream",
       "stream": "stdout",
       "text": [
        "                                          \n"
       ]
      },
      {
       "output_type": "stream",
       "stream": "stdout",
       "text": [
        "[ubuntu@ec2-54-225-5-82.compute-1.amazonaws.com] out: "
       ]
      },
      {
       "output_type": "stream",
       "stream": "stdout",
       "text": [
        "12% [Working]"
       ]
      },
      {
       "output_type": "stream",
       "stream": "stdout",
       "text": [
        "\n"
       ]
      },
      {
       "output_type": "stream",
       "stream": "stdout",
       "text": [
        "[ubuntu@ec2-54-225-5-82.compute-1.amazonaws.com] out: "
       ]
      },
      {
       "output_type": "stream",
       "stream": "stdout",
       "text": [
        "             \n"
       ]
      },
      {
       "output_type": "stream",
       "stream": "stdout",
       "text": [
        "[ubuntu@ec2-54-225-5-82.compute-1.amazonaws.com] out: "
       ]
      },
      {
       "output_type": "stream",
       "stream": "stdout",
       "text": [
        "Get: 13 http://us-east-1.ec2.archive.ubuntu.com/ubuntu/ precise-updates/main apache2 amd64 2.2.22-1ubuntu1.3 [1,492 B]\n"
       ]
      },
      {
       "output_type": "stream",
       "stream": "stdout",
       "text": [
        "[ubuntu@ec2-54-225-5-82.compute-1.amazonaws.com] out: "
       ]
      },
      {
       "output_type": "stream",
       "stream": "stdout",
       "text": [
        "\n"
       ]
      },
      {
       "output_type": "stream",
       "stream": "stdout",
       "text": [
        "[ubuntu@ec2-54-225-5-82.compute-1.amazonaws.com] out: "
       ]
      },
      {
       "output_type": "stream",
       "stream": "stdout",
       "text": [
        "\n"
       ]
      },
      {
       "output_type": "stream",
       "stream": "stdout",
       "text": [
        "[ubuntu@ec2-54-225-5-82.compute-1.amazonaws.com] out: "
       ]
      },
      {
       "output_type": "stream",
       "stream": "stdout",
       "text": [
        "12% [13 apache2 0 B/1,492 B 0%]"
       ]
      },
      {
       "output_type": "stream",
       "stream": "stdout",
       "text": [
        "\n"
       ]
      },
      {
       "output_type": "stream",
       "stream": "stdout",
       "text": [
        "[ubuntu@ec2-54-225-5-82.compute-1.amazonaws.com] out: "
       ]
      },
      {
       "output_type": "stream",
       "stream": "stdout",
       "text": [
        "                               \n"
       ]
      },
      {
       "output_type": "stream",
       "stream": "stdout",
       "text": [
        "[ubuntu@ec2-54-225-5-82.compute-1.amazonaws.com] out: "
       ]
      },
      {
       "output_type": "stream",
       "stream": "stdout",
       "text": [
        "12% [Working]\n"
       ]
      },
      {
       "output_type": "stream",
       "stream": "stdout",
       "text": [
        "[ubuntu@ec2-54-225-5-82.compute-1.amazonaws.com] out: "
       ]
      },
      {
       "output_type": "stream",
       "stream": "stdout",
       "text": [
        "             \n"
       ]
      },
      {
       "output_type": "stream",
       "stream": "stdout",
       "text": [
        "[ubuntu@ec2-54-225-5-82.compute-1.amazonaws.com] out: "
       ]
      },
      {
       "output_type": "stream",
       "stream": "stdout",
       "text": [
        "Get: 14 http://us-east-1.ec2.archive.ubuntu.com/ubuntu/ precise/main liberror-perl all 0.17-1 [23.8 kB]\n"
       ]
      },
      {
       "output_type": "stream",
       "stream": "stdout",
       "text": [
        "[ubuntu@ec2-54-225-5-82.compute-1.amazonaws.com] out: "
       ]
      },
      {
       "output_type": "stream",
       "stream": "stdout",
       "text": [
        "\n"
       ]
      },
      {
       "output_type": "stream",
       "stream": "stdout",
       "text": [
        "[ubuntu@ec2-54-225-5-82.compute-1.amazonaws.com] out: "
       ]
      },
      {
       "output_type": "stream",
       "stream": "stdout",
       "text": [
        "\n"
       ]
      },
      {
       "output_type": "stream",
       "stream": "stdout",
       "text": [
        "[ubuntu@ec2-54-225-5-82.compute-1.amazonaws.com] out: "
       ]
      },
      {
       "output_type": "stream",
       "stream": "stdout",
       "text": [
        "12% [14 liberror-perl 0 B/23.8 kB 0%]\n"
       ]
      },
      {
       "output_type": "stream",
       "stream": "stdout",
       "text": [
        "[ubuntu@ec2-54-225-5-82.compute-1.amazonaws.com] out: "
       ]
      },
      {
       "output_type": "stream",
       "stream": "stdout",
       "text": [
        "                                     \n"
       ]
      },
      {
       "output_type": "stream",
       "stream": "stdout",
       "text": [
        "[ubuntu@ec2-54-225-5-82.compute-1.amazonaws.com] out: "
       ]
      },
      {
       "output_type": "stream",
       "stream": "stdout",
       "text": [
        "12% [Working]"
       ]
      },
      {
       "output_type": "stream",
       "stream": "stdout",
       "text": [
        "\n"
       ]
      },
      {
       "output_type": "stream",
       "stream": "stdout",
       "text": [
        "[ubuntu@ec2-54-225-5-82.compute-1.amazonaws.com] out: "
       ]
      },
      {
       "output_type": "stream",
       "stream": "stdout",
       "text": [
        "             \n"
       ]
      },
      {
       "output_type": "stream",
       "stream": "stdout",
       "text": [
        "[ubuntu@ec2-54-225-5-82.compute-1.amazonaws.com] out: "
       ]
      },
      {
       "output_type": "stream",
       "stream": "stdout",
       "text": [
        "Get: 15 http://us-east-1.ec2.archive.ubuntu.com/ubuntu/ precise/main git-man all 1:1.7.9.5-1 [630 kB]\n"
       ]
      },
      {
       "output_type": "stream",
       "stream": "stdout",
       "text": [
        "[ubuntu@ec2-54-225-5-82.compute-1.amazonaws.com] out: "
       ]
      },
      {
       "output_type": "stream",
       "stream": "stdout",
       "text": [
        "\n"
       ]
      },
      {
       "output_type": "stream",
       "stream": "stdout",
       "text": [
        "[ubuntu@ec2-54-225-5-82.compute-1.amazonaws.com] out: "
       ]
      },
      {
       "output_type": "stream",
       "stream": "stdout",
       "text": [
        "\n"
       ]
      },
      {
       "output_type": "stream",
       "stream": "stdout",
       "text": [
        "[ubuntu@ec2-54-225-5-82.compute-1.amazonaws.com] out: "
       ]
      },
      {
       "output_type": "stream",
       "stream": "stdout",
       "text": [
        "12% [15 git-man 0 B/630 kB 0%]\n"
       ]
      },
      {
       "output_type": "stream",
       "stream": "stdout",
       "text": [
        "[ubuntu@ec2-54-225-5-82.compute-1.amazonaws.com] out: "
       ]
      },
      {
       "output_type": "stream",
       "stream": "stdout",
       "text": [
        "                              \n"
       ]
      },
      {
       "output_type": "stream",
       "stream": "stdout",
       "text": [
        "[ubuntu@ec2-54-225-5-82.compute-1.amazonaws.com] out: "
       ]
      },
      {
       "output_type": "stream",
       "stream": "stdout",
       "text": [
        "15% [Working]"
       ]
      },
      {
       "output_type": "stream",
       "stream": "stdout",
       "text": [
        "\n"
       ]
      },
      {
       "output_type": "stream",
       "stream": "stdout",
       "text": [
        "[ubuntu@ec2-54-225-5-82.compute-1.amazonaws.com] out: "
       ]
      },
      {
       "output_type": "stream",
       "stream": "stdout",
       "text": [
        "             \n"
       ]
      },
      {
       "output_type": "stream",
       "stream": "stdout",
       "text": [
        "[ubuntu@ec2-54-225-5-82.compute-1.amazonaws.com] out: "
       ]
      },
      {
       "output_type": "stream",
       "stream": "stdout",
       "text": [
        "Get: 16 http://us-east-1.ec2.archive.ubuntu.com/ubuntu/ precise/main git amd64 1:1.7.9.5-1 [6,087 kB]\n"
       ]
      },
      {
       "output_type": "stream",
       "stream": "stdout",
       "text": [
        "[ubuntu@ec2-54-225-5-82.compute-1.amazonaws.com] out: "
       ]
      },
      {
       "output_type": "stream",
       "stream": "stdout",
       "text": [
        "\n"
       ]
      },
      {
       "output_type": "stream",
       "stream": "stdout",
       "text": [
        "[ubuntu@ec2-54-225-5-82.compute-1.amazonaws.com] out: "
       ]
      },
      {
       "output_type": "stream",
       "stream": "stdout",
       "text": [
        "\n"
       ]
      },
      {
       "output_type": "stream",
       "stream": "stdout",
       "text": [
        "[ubuntu@ec2-54-225-5-82.compute-1.amazonaws.com] out: "
       ]
      },
      {
       "output_type": "stream",
       "stream": "stdout",
       "text": [
        "15% [16 git 0 B/6,087 kB 0%]"
       ]
      },
      {
       "output_type": "stream",
       "stream": "stdout",
       "text": [
        "\n"
       ]
      },
      {
       "output_type": "stream",
       "stream": "stdout",
       "text": [
        "[ubuntu@ec2-54-225-5-82.compute-1.amazonaws.com] out: "
       ]
      },
      {
       "output_type": "stream",
       "stream": "stdout",
       "text": [
        "                            \n"
       ]
      },
      {
       "output_type": "stream",
       "stream": "stdout",
       "text": [
        "[ubuntu@ec2-54-225-5-82.compute-1.amazonaws.com] out: "
       ]
      },
      {
       "output_type": "stream",
       "stream": "stdout",
       "text": [
        "22% [16 git 1,792 kB/6,087 kB 29%]"
       ]
      },
      {
       "output_type": "stream",
       "stream": "stdout",
       "text": [
        "\n"
       ]
      },
      {
       "output_type": "stream",
       "stream": "stdout",
       "text": [
        "[ubuntu@ec2-54-225-5-82.compute-1.amazonaws.com] out: "
       ]
      },
      {
       "output_type": "stream",
       "stream": "stdout",
       "text": [
        "                                  \n"
       ]
      },
      {
       "output_type": "stream",
       "stream": "stdout",
       "text": [
        "[ubuntu@ec2-54-225-5-82.compute-1.amazonaws.com] out: "
       ]
      },
      {
       "output_type": "stream",
       "stream": "stdout",
       "text": [
        "30% [16 git 3,663 kB/6,087 kB 60%]"
       ]
      },
      {
       "output_type": "stream",
       "stream": "stdout",
       "text": [
        "\n"
       ]
      },
      {
       "output_type": "stream",
       "stream": "stdout",
       "text": [
        "[ubuntu@ec2-54-225-5-82.compute-1.amazonaws.com] out: "
       ]
      },
      {
       "output_type": "stream",
       "stream": "stdout",
       "text": [
        "                                  \n"
       ]
      },
      {
       "output_type": "stream",
       "stream": "stdout",
       "text": [
        "[ubuntu@ec2-54-225-5-82.compute-1.amazonaws.com] out: "
       ]
      },
      {
       "output_type": "stream",
       "stream": "stdout",
       "text": [
        "37% [16 git 5,532 kB/6,087 kB 91%]"
       ]
      },
      {
       "output_type": "stream",
       "stream": "stdout",
       "text": [
        "\n"
       ]
      },
      {
       "output_type": "stream",
       "stream": "stdout",
       "text": [
        "[ubuntu@ec2-54-225-5-82.compute-1.amazonaws.com] out: "
       ]
      },
      {
       "output_type": "stream",
       "stream": "stdout",
       "text": [
        "                                  \n"
       ]
      },
      {
       "output_type": "stream",
       "stream": "stdout",
       "text": [
        "[ubuntu@ec2-54-225-5-82.compute-1.amazonaws.com] out: "
       ]
      },
      {
       "output_type": "stream",
       "stream": "stdout",
       "text": [
        "39% [Working]"
       ]
      },
      {
       "output_type": "stream",
       "stream": "stdout",
       "text": [
        "\n"
       ]
      },
      {
       "output_type": "stream",
       "stream": "stdout",
       "text": [
        "[ubuntu@ec2-54-225-5-82.compute-1.amazonaws.com] out: "
       ]
      },
      {
       "output_type": "stream",
       "stream": "stdout",
       "text": [
        "             \n"
       ]
      },
      {
       "output_type": "stream",
       "stream": "stdout",
       "text": [
        "[ubuntu@ec2-54-225-5-82.compute-1.amazonaws.com] out: "
       ]
      },
      {
       "output_type": "stream",
       "stream": "stdout",
       "text": [
        "Get: 17 http://us-east-1.ec2.archive.ubuntu.com/ubuntu/ precise/main git-core all 1:1.7.9.5-1 [1,384 B]\n"
       ]
      },
      {
       "output_type": "stream",
       "stream": "stdout",
       "text": [
        "[ubuntu@ec2-54-225-5-82.compute-1.amazonaws.com] out: "
       ]
      },
      {
       "output_type": "stream",
       "stream": "stdout",
       "text": [
        "\n"
       ]
      },
      {
       "output_type": "stream",
       "stream": "stdout",
       "text": [
        "[ubuntu@ec2-54-225-5-82.compute-1.amazonaws.com] out: "
       ]
      },
      {
       "output_type": "stream",
       "stream": "stdout",
       "text": [
        "\n"
       ]
      },
      {
       "output_type": "stream",
       "stream": "stdout",
       "text": [
        "[ubuntu@ec2-54-225-5-82.compute-1.amazonaws.com] out: "
       ]
      },
      {
       "output_type": "stream",
       "stream": "stdout",
       "text": [
        "39% [17 git-core 0 B/1,384 B 0%]\n"
       ]
      },
      {
       "output_type": "stream",
       "stream": "stdout",
       "text": [
        "[ubuntu@ec2-54-225-5-82.compute-1.amazonaws.com] out: "
       ]
      },
      {
       "output_type": "stream",
       "stream": "stdout",
       "text": [
        "                                \n"
       ]
      },
      {
       "output_type": "stream",
       "stream": "stdout",
       "text": [
        "[ubuntu@ec2-54-225-5-82.compute-1.amazonaws.com] out: "
       ]
      },
      {
       "output_type": "stream",
       "stream": "stdout",
       "text": [
        "39% [Working]"
       ]
      },
      {
       "output_type": "stream",
       "stream": "stdout",
       "text": [
        "\n"
       ]
      },
      {
       "output_type": "stream",
       "stream": "stdout",
       "text": [
        "[ubuntu@ec2-54-225-5-82.compute-1.amazonaws.com] out: "
       ]
      },
      {
       "output_type": "stream",
       "stream": "stdout",
       "text": [
        "             \n"
       ]
      },
      {
       "output_type": "stream",
       "stream": "stdout",
       "text": [
        "[ubuntu@ec2-54-225-5-82.compute-1.amazonaws.com] out: "
       ]
      },
      {
       "output_type": "stream",
       "stream": "stdout",
       "text": [
        "Get: 18 http://us-east-1.ec2.archive.ubuntu.com/ubuntu/ precise/main libapache2-mod-wsgi amd64 3.3-4build1 [72.7 kB]\n"
       ]
      },
      {
       "output_type": "stream",
       "stream": "stdout",
       "text": [
        "[ubuntu@ec2-54-225-5-82.compute-1.amazonaws.com] out: "
       ]
      },
      {
       "output_type": "stream",
       "stream": "stdout",
       "text": [
        "\n"
       ]
      },
      {
       "output_type": "stream",
       "stream": "stdout",
       "text": [
        "[ubuntu@ec2-54-225-5-82.compute-1.amazonaws.com] out: "
       ]
      },
      {
       "output_type": "stream",
       "stream": "stdout",
       "text": [
        "\n"
       ]
      },
      {
       "output_type": "stream",
       "stream": "stdout",
       "text": [
        "[ubuntu@ec2-54-225-5-82.compute-1.amazonaws.com] out: "
       ]
      },
      {
       "output_type": "stream",
       "stream": "stdout",
       "text": [
        "39% [18 libapache2-mod-wsgi 0 B/72.7 kB 0%]\n"
       ]
      },
      {
       "output_type": "stream",
       "stream": "stdout",
       "text": [
        "[ubuntu@ec2-54-225-5-82.compute-1.amazonaws.com] out: "
       ]
      },
      {
       "output_type": "stream",
       "stream": "stdout",
       "text": [
        "                                           \n"
       ]
      },
      {
       "output_type": "stream",
       "stream": "stdout",
       "text": [
        "[ubuntu@ec2-54-225-5-82.compute-1.amazonaws.com] out: "
       ]
      },
      {
       "output_type": "stream",
       "stream": "stdout",
       "text": [
        "40% [Working]"
       ]
      },
      {
       "output_type": "stream",
       "stream": "stdout",
       "text": [
        "\n"
       ]
      },
      {
       "output_type": "stream",
       "stream": "stdout",
       "text": [
        "[ubuntu@ec2-54-225-5-82.compute-1.amazonaws.com] out: "
       ]
      },
      {
       "output_type": "stream",
       "stream": "stdout",
       "text": [
        "             \n"
       ]
      },
      {
       "output_type": "stream",
       "stream": "stdout",
       "text": [
        "[ubuntu@ec2-54-225-5-82.compute-1.amazonaws.com] out: "
       ]
      },
      {
       "output_type": "stream",
       "stream": "stdout",
       "text": [
        "Get: 19 http://us-east-1.ec2.archive.ubuntu.com/ubuntu/ precise/main libnet-daemon-perl all 0.48-1 [43.1 kB]\n"
       ]
      },
      {
       "output_type": "stream",
       "stream": "stdout",
       "text": [
        "[ubuntu@ec2-54-225-5-82.compute-1.amazonaws.com] out: "
       ]
      },
      {
       "output_type": "stream",
       "stream": "stdout",
       "text": [
        "\n"
       ]
      },
      {
       "output_type": "stream",
       "stream": "stdout",
       "text": [
        "[ubuntu@ec2-54-225-5-82.compute-1.amazonaws.com] out: "
       ]
      },
      {
       "output_type": "stream",
       "stream": "stdout",
       "text": [
        "\n"
       ]
      },
      {
       "output_type": "stream",
       "stream": "stdout",
       "text": [
        "[ubuntu@ec2-54-225-5-82.compute-1.amazonaws.com] out: "
       ]
      },
      {
       "output_type": "stream",
       "stream": "stdout",
       "text": [
        "40% [19 libnet-daemon-perl 0 B/43.1 kB 0%]\n"
       ]
      },
      {
       "output_type": "stream",
       "stream": "stdout",
       "text": [
        "[ubuntu@ec2-54-225-5-82.compute-1.amazonaws.com] out: "
       ]
      },
      {
       "output_type": "stream",
       "stream": "stdout",
       "text": [
        "                                          \n"
       ]
      },
      {
       "output_type": "stream",
       "stream": "stdout",
       "text": [
        "[ubuntu@ec2-54-225-5-82.compute-1.amazonaws.com] out: "
       ]
      },
      {
       "output_type": "stream",
       "stream": "stdout",
       "text": [
        "40% [Working]\n"
       ]
      },
      {
       "output_type": "stream",
       "stream": "stdout",
       "text": [
        "[ubuntu@ec2-54-225-5-82.compute-1.amazonaws.com] out: "
       ]
      },
      {
       "output_type": "stream",
       "stream": "stdout",
       "text": [
        "             \n"
       ]
      },
      {
       "output_type": "stream",
       "stream": "stdout",
       "text": [
        "[ubuntu@ec2-54-225-5-82.compute-1.amazonaws.com] out: "
       ]
      },
      {
       "output_type": "stream",
       "stream": "stdout",
       "text": [
        "Get: 20 http://us-east-1.ec2.archive.ubuntu.com/ubuntu/ precise/main libplrpc-perl all 0.2020-2 [36.0 kB]\n"
       ]
      },
      {
       "output_type": "stream",
       "stream": "stdout",
       "text": [
        "[ubuntu@ec2-54-225-5-82.compute-1.amazonaws.com] out: "
       ]
      },
      {
       "output_type": "stream",
       "stream": "stdout",
       "text": [
        "\n"
       ]
      },
      {
       "output_type": "stream",
       "stream": "stdout",
       "text": [
        "[ubuntu@ec2-54-225-5-82.compute-1.amazonaws.com] out: "
       ]
      },
      {
       "output_type": "stream",
       "stream": "stdout",
       "text": [
        "\n"
       ]
      },
      {
       "output_type": "stream",
       "stream": "stdout",
       "text": [
        "[ubuntu@ec2-54-225-5-82.compute-1.amazonaws.com] out: "
       ]
      },
      {
       "output_type": "stream",
       "stream": "stdout",
       "text": [
        "40% [20 libplrpc-perl 0 B/36.0 kB 0%]\n"
       ]
      },
      {
       "output_type": "stream",
       "stream": "stdout",
       "text": [
        "[ubuntu@ec2-54-225-5-82.compute-1.amazonaws.com] out: "
       ]
      },
      {
       "output_type": "stream",
       "stream": "stdout",
       "text": [
        "                                     \n"
       ]
      },
      {
       "output_type": "stream",
       "stream": "stdout",
       "text": [
        "[ubuntu@ec2-54-225-5-82.compute-1.amazonaws.com] out: "
       ]
      },
      {
       "output_type": "stream",
       "stream": "stdout",
       "text": [
        "40% [Working]"
       ]
      },
      {
       "output_type": "stream",
       "stream": "stdout",
       "text": [
        "\n"
       ]
      },
      {
       "output_type": "stream",
       "stream": "stdout",
       "text": [
        "[ubuntu@ec2-54-225-5-82.compute-1.amazonaws.com] out: "
       ]
      },
      {
       "output_type": "stream",
       "stream": "stdout",
       "text": [
        "             \n"
       ]
      },
      {
       "output_type": "stream",
       "stream": "stdout",
       "text": [
        "[ubuntu@ec2-54-225-5-82.compute-1.amazonaws.com] out: "
       ]
      },
      {
       "output_type": "stream",
       "stream": "stdout",
       "text": [
        "Get: 21 http://us-east-1.ec2.archive.ubuntu.com/ubuntu/ precise/main libdbi-perl amd64 1.616-1build2 [849 kB]\n"
       ]
      },
      {
       "output_type": "stream",
       "stream": "stdout",
       "text": [
        "[ubuntu@ec2-54-225-5-82.compute-1.amazonaws.com] out: "
       ]
      },
      {
       "output_type": "stream",
       "stream": "stdout",
       "text": [
        "\n"
       ]
      },
      {
       "output_type": "stream",
       "stream": "stdout",
       "text": [
        "[ubuntu@ec2-54-225-5-82.compute-1.amazonaws.com] out: "
       ]
      },
      {
       "output_type": "stream",
       "stream": "stdout",
       "text": [
        "\n"
       ]
      },
      {
       "output_type": "stream",
       "stream": "stdout",
       "text": [
        "[ubuntu@ec2-54-225-5-82.compute-1.amazonaws.com] out: "
       ]
      },
      {
       "output_type": "stream",
       "stream": "stdout",
       "text": [
        "40% [21 libdbi-perl 0 B/849 kB 0%]"
       ]
      },
      {
       "output_type": "stream",
       "stream": "stdout",
       "text": [
        "\n"
       ]
      },
      {
       "output_type": "stream",
       "stream": "stdout",
       "text": [
        "[ubuntu@ec2-54-225-5-82.compute-1.amazonaws.com] out: "
       ]
      },
      {
       "output_type": "stream",
       "stream": "stdout",
       "text": [
        "                                  \n"
       ]
      },
      {
       "output_type": "stream",
       "stream": "stdout",
       "text": [
        "[ubuntu@ec2-54-225-5-82.compute-1.amazonaws.com] out: "
       ]
      },
      {
       "output_type": "stream",
       "stream": "stdout",
       "text": [
        "43% [Working]"
       ]
      },
      {
       "output_type": "stream",
       "stream": "stdout",
       "text": [
        "\n"
       ]
      },
      {
       "output_type": "stream",
       "stream": "stdout",
       "text": [
        "[ubuntu@ec2-54-225-5-82.compute-1.amazonaws.com] out: "
       ]
      },
      {
       "output_type": "stream",
       "stream": "stdout",
       "text": [
        "             \n"
       ]
      },
      {
       "output_type": "stream",
       "stream": "stdout",
       "text": [
        "[ubuntu@ec2-54-225-5-82.compute-1.amazonaws.com] out: "
       ]
      },
      {
       "output_type": "stream",
       "stream": "stdout",
       "text": [
        "Get: 22 http://us-east-1.ec2.archive.ubuntu.com/ubuntu/ precise/main libdbd-mysql-perl amd64 4.020-1build2 [106 kB]\n"
       ]
      },
      {
       "output_type": "stream",
       "stream": "stdout",
       "text": [
        "[ubuntu@ec2-54-225-5-82.compute-1.amazonaws.com] out: "
       ]
      },
      {
       "output_type": "stream",
       "stream": "stdout",
       "text": [
        "\n"
       ]
      },
      {
       "output_type": "stream",
       "stream": "stdout",
       "text": [
        "[ubuntu@ec2-54-225-5-82.compute-1.amazonaws.com] out: "
       ]
      },
      {
       "output_type": "stream",
       "stream": "stdout",
       "text": [
        "\n"
       ]
      },
      {
       "output_type": "stream",
       "stream": "stdout",
       "text": [
        "[ubuntu@ec2-54-225-5-82.compute-1.amazonaws.com] out: "
       ]
      },
      {
       "output_type": "stream",
       "stream": "stdout",
       "text": [
        "43% [22 libdbd-mysql-perl 0 B/106 kB 0%]\n"
       ]
      },
      {
       "output_type": "stream",
       "stream": "stdout",
       "text": [
        "[ubuntu@ec2-54-225-5-82.compute-1.amazonaws.com] out: "
       ]
      },
      {
       "output_type": "stream",
       "stream": "stdout",
       "text": [
        "                                        \n"
       ]
      },
      {
       "output_type": "stream",
       "stream": "stdout",
       "text": [
        "[ubuntu@ec2-54-225-5-82.compute-1.amazonaws.com] out: "
       ]
      },
      {
       "output_type": "stream",
       "stream": "stdout",
       "text": [
        "44% [Working]"
       ]
      },
      {
       "output_type": "stream",
       "stream": "stdout",
       "text": [
        "\n"
       ]
      },
      {
       "output_type": "stream",
       "stream": "stdout",
       "text": [
        "[ubuntu@ec2-54-225-5-82.compute-1.amazonaws.com] out: "
       ]
      },
      {
       "output_type": "stream",
       "stream": "stdout",
       "text": [
        "             \n"
       ]
      },
      {
       "output_type": "stream",
       "stream": "stdout",
       "text": [
        "[ubuntu@ec2-54-225-5-82.compute-1.amazonaws.com] out: "
       ]
      },
      {
       "output_type": "stream",
       "stream": "stdout",
       "text": [
        "Get: 23 http://us-east-1.ec2.archive.ubuntu.com/ubuntu/ precise-updates/main mysql-client-core-5.5 amd64 5.5.31-0ubuntu0.12.04.1 [1,936 kB]\n"
       ]
      },
      {
       "output_type": "stream",
       "stream": "stdout",
       "text": [
        "[ubuntu@ec2-54-225-5-82.compute-1.amazonaws.com] out: "
       ]
      },
      {
       "output_type": "stream",
       "stream": "stdout",
       "text": [
        "\n"
       ]
      },
      {
       "output_type": "stream",
       "stream": "stdout",
       "text": [
        "[ubuntu@ec2-54-225-5-82.compute-1.amazonaws.com] out: "
       ]
      },
      {
       "output_type": "stream",
       "stream": "stdout",
       "text": [
        "\n"
       ]
      },
      {
       "output_type": "stream",
       "stream": "stdout",
       "text": [
        "[ubuntu@ec2-54-225-5-82.compute-1.amazonaws.com] out: "
       ]
      },
      {
       "output_type": "stream",
       "stream": "stdout",
       "text": [
        "44% [23 mysql-client-core-5.5 0 B/1,936 kB 0%]"
       ]
      },
      {
       "output_type": "stream",
       "stream": "stdout",
       "text": [
        "\n"
       ]
      },
      {
       "output_type": "stream",
       "stream": "stdout",
       "text": [
        "[ubuntu@ec2-54-225-5-82.compute-1.amazonaws.com] out: "
       ]
      },
      {
       "output_type": "stream",
       "stream": "stdout",
       "text": [
        "                                              \n"
       ]
      },
      {
       "output_type": "stream",
       "stream": "stdout",
       "text": [
        "[ubuntu@ec2-54-225-5-82.compute-1.amazonaws.com] out: "
       ]
      },
      {
       "output_type": "stream",
       "stream": "stdout",
       "text": [
        "51% [23 mysql-client-core-5.5 1,766 kB/1,936 kB 91%]"
       ]
      },
      {
       "output_type": "stream",
       "stream": "stdout",
       "text": [
        "\n"
       ]
      },
      {
       "output_type": "stream",
       "stream": "stdout",
       "text": [
        "[ubuntu@ec2-54-225-5-82.compute-1.amazonaws.com] out: "
       ]
      },
      {
       "output_type": "stream",
       "stream": "stdout",
       "text": [
        "                                                    \n"
       ]
      },
      {
       "output_type": "stream",
       "stream": "stdout",
       "text": [
        "[ubuntu@ec2-54-225-5-82.compute-1.amazonaws.com] out: "
       ]
      },
      {
       "output_type": "stream",
       "stream": "stdout",
       "text": [
        "52% [Working]\n"
       ]
      },
      {
       "output_type": "stream",
       "stream": "stdout",
       "text": [
        "[ubuntu@ec2-54-225-5-82.compute-1.amazonaws.com] out: "
       ]
      },
      {
       "output_type": "stream",
       "stream": "stdout",
       "text": [
        "             \n"
       ]
      },
      {
       "output_type": "stream",
       "stream": "stdout",
       "text": [
        "[ubuntu@ec2-54-225-5-82.compute-1.amazonaws.com] out: "
       ]
      },
      {
       "output_type": "stream",
       "stream": "stdout",
       "text": [
        "Get: 24 http://us-east-1.ec2.archive.ubuntu.com/ubuntu/ precise-updates/main mysql-client-5.5 amd64 5.5.31-0ubuntu0.12.04.1 [8,350 kB]\n"
       ]
      },
      {
       "output_type": "stream",
       "stream": "stdout",
       "text": [
        "[ubuntu@ec2-54-225-5-82.compute-1.amazonaws.com] out: "
       ]
      },
      {
       "output_type": "stream",
       "stream": "stdout",
       "text": [
        "\n"
       ]
      },
      {
       "output_type": "stream",
       "stream": "stdout",
       "text": [
        "[ubuntu@ec2-54-225-5-82.compute-1.amazonaws.com] out: "
       ]
      },
      {
       "output_type": "stream",
       "stream": "stdout",
       "text": [
        "\n"
       ]
      },
      {
       "output_type": "stream",
       "stream": "stdout",
       "text": [
        "[ubuntu@ec2-54-225-5-82.compute-1.amazonaws.com] out: "
       ]
      },
      {
       "output_type": "stream",
       "stream": "stdout",
       "text": [
        "52% [24 mysql-client-5.5 0 B/8,350 kB 0%]"
       ]
      },
      {
       "output_type": "stream",
       "stream": "stdout",
       "text": [
        "\n"
       ]
      },
      {
       "output_type": "stream",
       "stream": "stdout",
       "text": [
        "[ubuntu@ec2-54-225-5-82.compute-1.amazonaws.com] out: "
       ]
      },
      {
       "output_type": "stream",
       "stream": "stdout",
       "text": [
        "                                         \n"
       ]
      },
      {
       "output_type": "stream",
       "stream": "stdout",
       "text": [
        "[ubuntu@ec2-54-225-5-82.compute-1.amazonaws.com] out: "
       ]
      },
      {
       "output_type": "stream",
       "stream": "stdout",
       "text": [
        "60% [24 mysql-client-5.5 1,995 kB/8,350 kB 24%]"
       ]
      },
      {
       "output_type": "stream",
       "stream": "stdout",
       "text": [
        "\n"
       ]
      },
      {
       "output_type": "stream",
       "stream": "stdout",
       "text": [
        "[ubuntu@ec2-54-225-5-82.compute-1.amazonaws.com] out: "
       ]
      },
      {
       "output_type": "stream",
       "stream": "stdout",
       "text": [
        "                                               \n"
       ]
      },
      {
       "output_type": "stream",
       "stream": "stdout",
       "text": [
        "[ubuntu@ec2-54-225-5-82.compute-1.amazonaws.com] out: "
       ]
      },
      {
       "output_type": "stream",
       "stream": "stdout",
       "text": [
        "67% [24 mysql-client-5.5 3,673 kB/8,350 kB 44%]"
       ]
      },
      {
       "output_type": "stream",
       "stream": "stdout",
       "text": [
        "\n"
       ]
      },
      {
       "output_type": "stream",
       "stream": "stdout",
       "text": [
        "[ubuntu@ec2-54-225-5-82.compute-1.amazonaws.com] out: "
       ]
      },
      {
       "output_type": "stream",
       "stream": "stdout",
       "text": [
        "                                               \n"
       ]
      },
      {
       "output_type": "stream",
       "stream": "stdout",
       "text": [
        "[ubuntu@ec2-54-225-5-82.compute-1.amazonaws.com] out: "
       ]
      },
      {
       "output_type": "stream",
       "stream": "stdout",
       "text": [
        "75% [24 mysql-client-5.5 5,686 kB/8,350 kB 68%]"
       ]
      },
      {
       "output_type": "stream",
       "stream": "stdout",
       "text": [
        "\n"
       ]
      },
      {
       "output_type": "stream",
       "stream": "stdout",
       "text": [
        "[ubuntu@ec2-54-225-5-82.compute-1.amazonaws.com] out: "
       ]
      },
      {
       "output_type": "stream",
       "stream": "stdout",
       "text": [
        "                                               \n"
       ]
      },
      {
       "output_type": "stream",
       "stream": "stdout",
       "text": [
        "[ubuntu@ec2-54-225-5-82.compute-1.amazonaws.com] out: "
       ]
      },
      {
       "output_type": "stream",
       "stream": "stdout",
       "text": [
        "83% [24 mysql-client-5.5 7,851 kB/8,350 kB 94%]                    3,139 kB/s 1s"
       ]
      },
      {
       "output_type": "stream",
       "stream": "stdout",
       "text": [
        "\n"
       ]
      },
      {
       "output_type": "stream",
       "stream": "stdout",
       "text": [
        "[ubuntu@ec2-54-225-5-82.compute-1.amazonaws.com] out: "
       ]
      },
      {
       "output_type": "stream",
       "stream": "stdout",
       "text": [
        "                                                                                \n"
       ]
      },
      {
       "output_type": "stream",
       "stream": "stdout",
       "text": [
        "[ubuntu@ec2-54-225-5-82.compute-1.amazonaws.com] out: "
       ]
      },
      {
       "output_type": "stream",
       "stream": "stdout",
       "text": [
        "85% [Working]                                                      3,139 kB/s 1s"
       ]
      },
      {
       "output_type": "stream",
       "stream": "stdout",
       "text": [
        "\n"
       ]
      },
      {
       "output_type": "stream",
       "stream": "stdout",
       "text": [
        "[ubuntu@ec2-54-225-5-82.compute-1.amazonaws.com] out: "
       ]
      },
      {
       "output_type": "stream",
       "stream": "stdout",
       "text": [
        "                                                                                \n"
       ]
      },
      {
       "output_type": "stream",
       "stream": "stdout",
       "text": [
        "[ubuntu@ec2-54-225-5-82.compute-1.amazonaws.com] out: "
       ]
      },
      {
       "output_type": "stream",
       "stream": "stdout",
       "text": [
        "Get: 25 http://us-east-1.ec2.archive.ubuntu.com/ubuntu/ precise-updates/main mysql-client all 5.5.31-0ubuntu0.12.04.1 [11.5 kB]\n"
       ]
      },
      {
       "output_type": "stream",
       "stream": "stdout",
       "text": [
        "[ubuntu@ec2-54-225-5-82.compute-1.amazonaws.com] out: "
       ]
      },
      {
       "output_type": "stream",
       "stream": "stdout",
       "text": [
        "\n"
       ]
      },
      {
       "output_type": "stream",
       "stream": "stdout",
       "text": [
        "[ubuntu@ec2-54-225-5-82.compute-1.amazonaws.com] out: "
       ]
      },
      {
       "output_type": "stream",
       "stream": "stdout",
       "text": [
        "\n"
       ]
      },
      {
       "output_type": "stream",
       "stream": "stdout",
       "text": [
        "[ubuntu@ec2-54-225-5-82.compute-1.amazonaws.com] out: "
       ]
      },
      {
       "output_type": "stream",
       "stream": "stdout",
       "text": [
        "85% [25 mysql-client 0 B/11.5 kB 0%]                               3,139 kB/s 1s\n"
       ]
      },
      {
       "output_type": "stream",
       "stream": "stdout",
       "text": [
        "[ubuntu@ec2-54-225-5-82.compute-1.amazonaws.com] out: "
       ]
      },
      {
       "output_type": "stream",
       "stream": "stdout",
       "text": [
        "                                                                                \n"
       ]
      },
      {
       "output_type": "stream",
       "stream": "stdout",
       "text": [
        "[ubuntu@ec2-54-225-5-82.compute-1.amazonaws.com] out: "
       ]
      },
      {
       "output_type": "stream",
       "stream": "stdout",
       "text": [
        "85% [Working]                                                      3,139 kB/s 1s"
       ]
      },
      {
       "output_type": "stream",
       "stream": "stdout",
       "text": [
        "\n"
       ]
      },
      {
       "output_type": "stream",
       "stream": "stdout",
       "text": [
        "[ubuntu@ec2-54-225-5-82.compute-1.amazonaws.com] out: "
       ]
      },
      {
       "output_type": "stream",
       "stream": "stdout",
       "text": [
        "                                                                                \n"
       ]
      },
      {
       "output_type": "stream",
       "stream": "stdout",
       "text": [
        "[ubuntu@ec2-54-225-5-82.compute-1.amazonaws.com] out: "
       ]
      },
      {
       "output_type": "stream",
       "stream": "stdout",
       "text": [
        "Get: 26 http://us-east-1.ec2.archive.ubuntu.com/ubuntu/ precise/main python-lxml amd64 2.3.2-1 [662 kB]\n"
       ]
      },
      {
       "output_type": "stream",
       "stream": "stdout",
       "text": [
        "[ubuntu@ec2-54-225-5-82.compute-1.amazonaws.com] out: "
       ]
      },
      {
       "output_type": "stream",
       "stream": "stdout",
       "text": [
        "\n"
       ]
      },
      {
       "output_type": "stream",
       "stream": "stdout",
       "text": [
        "[ubuntu@ec2-54-225-5-82.compute-1.amazonaws.com] out: "
       ]
      },
      {
       "output_type": "stream",
       "stream": "stdout",
       "text": [
        "\n"
       ]
      },
      {
       "output_type": "stream",
       "stream": "stdout",
       "text": [
        "[ubuntu@ec2-54-225-5-82.compute-1.amazonaws.com] out: "
       ]
      },
      {
       "output_type": "stream",
       "stream": "stdout",
       "text": [
        "85% [26 python-lxml 0 B/662 kB 0%]                                 3,139 kB/s 1s"
       ]
      },
      {
       "output_type": "stream",
       "stream": "stdout",
       "text": [
        "\n"
       ]
      },
      {
       "output_type": "stream",
       "stream": "stdout",
       "text": [
        "[ubuntu@ec2-54-225-5-82.compute-1.amazonaws.com] out: "
       ]
      },
      {
       "output_type": "stream",
       "stream": "stdout",
       "text": [
        "                                                                                \n"
       ]
      },
      {
       "output_type": "stream",
       "stream": "stdout",
       "text": [
        "[ubuntu@ec2-54-225-5-82.compute-1.amazonaws.com] out: "
       ]
      },
      {
       "output_type": "stream",
       "stream": "stdout",
       "text": [
        "88% [Working]                                                      3,139 kB/s 0s"
       ]
      },
      {
       "output_type": "stream",
       "stream": "stdout",
       "text": [
        "\n"
       ]
      },
      {
       "output_type": "stream",
       "stream": "stdout",
       "text": [
        "[ubuntu@ec2-54-225-5-82.compute-1.amazonaws.com] out: "
       ]
      },
      {
       "output_type": "stream",
       "stream": "stdout",
       "text": [
        "                                                                                \n"
       ]
      },
      {
       "output_type": "stream",
       "stream": "stdout",
       "text": [
        "[ubuntu@ec2-54-225-5-82.compute-1.amazonaws.com] out: "
       ]
      },
      {
       "output_type": "stream",
       "stream": "stdout",
       "text": [
        "Get: 27 http://us-east-1.ec2.archive.ubuntu.com/ubuntu/ precise-updates/main python-mysqldb amd64 1.2.3-1ubuntu0.1 [64.0 kB]\n"
       ]
      },
      {
       "output_type": "stream",
       "stream": "stdout",
       "text": [
        "[ubuntu@ec2-54-225-5-82.compute-1.amazonaws.com] out: "
       ]
      },
      {
       "output_type": "stream",
       "stream": "stdout",
       "text": [
        "\n"
       ]
      },
      {
       "output_type": "stream",
       "stream": "stdout",
       "text": [
        "[ubuntu@ec2-54-225-5-82.compute-1.amazonaws.com] out: "
       ]
      },
      {
       "output_type": "stream",
       "stream": "stdout",
       "text": [
        "\n"
       ]
      },
      {
       "output_type": "stream",
       "stream": "stdout",
       "text": [
        "[ubuntu@ec2-54-225-5-82.compute-1.amazonaws.com] out: "
       ]
      },
      {
       "output_type": "stream",
       "stream": "stdout",
       "text": [
        "88% [27 python-mysqldb 0 B/64.0 kB 0%]                             3,139 kB/s 0s\n"
       ]
      },
      {
       "output_type": "stream",
       "stream": "stdout",
       "text": [
        "[ubuntu@ec2-54-225-5-82.compute-1.amazonaws.com] out: "
       ]
      },
      {
       "output_type": "stream",
       "stream": "stdout",
       "text": [
        "                                                                                \n"
       ]
      },
      {
       "output_type": "stream",
       "stream": "stdout",
       "text": [
        "[ubuntu@ec2-54-225-5-82.compute-1.amazonaws.com] out: "
       ]
      },
      {
       "output_type": "stream",
       "stream": "stdout",
       "text": [
        "88% [Working]                                                      3,139 kB/s 0s"
       ]
      },
      {
       "output_type": "stream",
       "stream": "stdout",
       "text": [
        "\n"
       ]
      },
      {
       "output_type": "stream",
       "stream": "stdout",
       "text": [
        "[ubuntu@ec2-54-225-5-82.compute-1.amazonaws.com] out: "
       ]
      },
      {
       "output_type": "stream",
       "stream": "stdout",
       "text": [
        "                                                                                \n"
       ]
      },
      {
       "output_type": "stream",
       "stream": "stdout",
       "text": [
        "[ubuntu@ec2-54-225-5-82.compute-1.amazonaws.com] out: "
       ]
      },
      {
       "output_type": "stream",
       "stream": "stdout",
       "text": [
        "Get: 28 http://us-east-1.ec2.archive.ubuntu.com/ubuntu/ precise/main python-setuptools all 0.6.24-1ubuntu1 [441 kB]\n"
       ]
      },
      {
       "output_type": "stream",
       "stream": "stdout",
       "text": [
        "[ubuntu@ec2-54-225-5-82.compute-1.amazonaws.com] out: "
       ]
      },
      {
       "output_type": "stream",
       "stream": "stdout",
       "text": [
        "\n"
       ]
      },
      {
       "output_type": "stream",
       "stream": "stdout",
       "text": [
        "[ubuntu@ec2-54-225-5-82.compute-1.amazonaws.com] out: "
       ]
      },
      {
       "output_type": "stream",
       "stream": "stdout",
       "text": [
        "\n"
       ]
      },
      {
       "output_type": "stream",
       "stream": "stdout",
       "text": [
        "[ubuntu@ec2-54-225-5-82.compute-1.amazonaws.com] out: "
       ]
      },
      {
       "output_type": "stream",
       "stream": "stdout",
       "text": [
        "88% [28 python-setuptools 0 B/441 kB 0%]                           3,139 kB/s 0s"
       ]
      },
      {
       "output_type": "stream",
       "stream": "stdout",
       "text": [
        "\n"
       ]
      },
      {
       "output_type": "stream",
       "stream": "stdout",
       "text": [
        "[ubuntu@ec2-54-225-5-82.compute-1.amazonaws.com] out: "
       ]
      },
      {
       "output_type": "stream",
       "stream": "stdout",
       "text": [
        "                                                                                \n"
       ]
      },
      {
       "output_type": "stream",
       "stream": "stdout",
       "text": [
        "[ubuntu@ec2-54-225-5-82.compute-1.amazonaws.com] out: "
       ]
      },
      {
       "output_type": "stream",
       "stream": "stdout",
       "text": [
        "90% [Working]                                                      3,139 kB/s 0s"
       ]
      },
      {
       "output_type": "stream",
       "stream": "stdout",
       "text": [
        "\n"
       ]
      },
      {
       "output_type": "stream",
       "stream": "stdout",
       "text": [
        "[ubuntu@ec2-54-225-5-82.compute-1.amazonaws.com] out: "
       ]
      },
      {
       "output_type": "stream",
       "stream": "stdout",
       "text": [
        "                                                                                \n"
       ]
      },
      {
       "output_type": "stream",
       "stream": "stdout",
       "text": [
        "[ubuntu@ec2-54-225-5-82.compute-1.amazonaws.com] out: "
       ]
      },
      {
       "output_type": "stream",
       "stream": "stdout",
       "text": [
        "Get: 29 http://us-east-1.ec2.archive.ubuntu.com/ubuntu/ precise/universe python-pip all 1.0-1build1 [95.1 kB]\n"
       ]
      },
      {
       "output_type": "stream",
       "stream": "stdout",
       "text": [
        "[ubuntu@ec2-54-225-5-82.compute-1.amazonaws.com] out: "
       ]
      },
      {
       "output_type": "stream",
       "stream": "stdout",
       "text": [
        "\n"
       ]
      },
      {
       "output_type": "stream",
       "stream": "stdout",
       "text": [
        "[ubuntu@ec2-54-225-5-82.compute-1.amazonaws.com] out: "
       ]
      },
      {
       "output_type": "stream",
       "stream": "stdout",
       "text": [
        "\n"
       ]
      },
      {
       "output_type": "stream",
       "stream": "stdout",
       "text": [
        "[ubuntu@ec2-54-225-5-82.compute-1.amazonaws.com] out: "
       ]
      },
      {
       "output_type": "stream",
       "stream": "stdout",
       "text": [
        "90% [29 python-pip 0 B/95.1 kB 0%]                                 3,139 kB/s 0s\n"
       ]
      },
      {
       "output_type": "stream",
       "stream": "stdout",
       "text": [
        "[ubuntu@ec2-54-225-5-82.compute-1.amazonaws.com] out: "
       ]
      },
      {
       "output_type": "stream",
       "stream": "stdout",
       "text": [
        "                                                                                \n"
       ]
      },
      {
       "output_type": "stream",
       "stream": "stdout",
       "text": [
        "[ubuntu@ec2-54-225-5-82.compute-1.amazonaws.com] out: "
       ]
      },
      {
       "output_type": "stream",
       "stream": "stdout",
       "text": [
        "91% [Working]                                                      3,139 kB/s 0s"
       ]
      },
      {
       "output_type": "stream",
       "stream": "stdout",
       "text": [
        "\n"
       ]
      },
      {
       "output_type": "stream",
       "stream": "stdout",
       "text": [
        "[ubuntu@ec2-54-225-5-82.compute-1.amazonaws.com] out: "
       ]
      },
      {
       "output_type": "stream",
       "stream": "stdout",
       "text": [
        "                                                                                \n"
       ]
      },
      {
       "output_type": "stream",
       "stream": "stdout",
       "text": [
        "[ubuntu@ec2-54-225-5-82.compute-1.amazonaws.com] out: "
       ]
      },
      {
       "output_type": "stream",
       "stream": "stdout",
       "text": [
        "Get: 30 http://us-east-1.ec2.archive.ubuntu.com/ubuntu/ precise/universe python-virtualenv all 1.7.1.2-1 [2,112 kB]\n"
       ]
      },
      {
       "output_type": "stream",
       "stream": "stdout",
       "text": [
        "[ubuntu@ec2-54-225-5-82.compute-1.amazonaws.com] out: "
       ]
      },
      {
       "output_type": "stream",
       "stream": "stdout",
       "text": [
        "\n"
       ]
      },
      {
       "output_type": "stream",
       "stream": "stdout",
       "text": [
        "[ubuntu@ec2-54-225-5-82.compute-1.amazonaws.com] out: "
       ]
      },
      {
       "output_type": "stream",
       "stream": "stdout",
       "text": [
        "\n"
       ]
      },
      {
       "output_type": "stream",
       "stream": "stdout",
       "text": [
        "[ubuntu@ec2-54-225-5-82.compute-1.amazonaws.com] out: "
       ]
      },
      {
       "output_type": "stream",
       "stream": "stdout",
       "text": [
        "91% [30 python-virtualenv 0 B/2,112 kB 0%]                         3,139 kB/s 0s\n"
       ]
      },
      {
       "output_type": "stream",
       "stream": "stdout",
       "text": [
        "[ubuntu@ec2-54-225-5-82.compute-1.amazonaws.com] out: "
       ]
      },
      {
       "output_type": "stream",
       "stream": "stdout",
       "text": [
        "                                                                                \n"
       ]
      },
      {
       "output_type": "stream",
       "stream": "stdout",
       "text": [
        "[ubuntu@ec2-54-225-5-82.compute-1.amazonaws.com] out: "
       ]
      },
      {
       "output_type": "stream",
       "stream": "stdout",
       "text": [
        "98% [30 python-virtualenv 1,876 kB/2,112 kB 89%]                   3,139 kB/s 0s\n"
       ]
      },
      {
       "output_type": "stream",
       "stream": "stdout",
       "text": [
        "[ubuntu@ec2-54-225-5-82.compute-1.amazonaws.com] out: "
       ]
      },
      {
       "output_type": "stream",
       "stream": "stdout",
       "text": [
        "                                                                                \n"
       ]
      },
      {
       "output_type": "stream",
       "stream": "stdout",
       "text": [
        "[ubuntu@ec2-54-225-5-82.compute-1.amazonaws.com] out: "
       ]
      },
      {
       "output_type": "stream",
       "stream": "stdout",
       "text": [
        "99% [Working]                                                      3,139 kB/s 0s\n"
       ]
      },
      {
       "output_type": "stream",
       "stream": "stdout",
       "text": [
        "[ubuntu@ec2-54-225-5-82.compute-1.amazonaws.com] out: "
       ]
      },
      {
       "output_type": "stream",
       "stream": "stdout",
       "text": [
        "                                                                                \n"
       ]
      },
      {
       "output_type": "stream",
       "stream": "stdout",
       "text": [
        "[ubuntu@ec2-54-225-5-82.compute-1.amazonaws.com] out: "
       ]
      },
      {
       "output_type": "stream",
       "stream": "stdout",
       "text": [
        "Get: 31 http://us-east-1.ec2.archive.ubuntu.com/ubuntu/ precise/universe redis-server amd64 2:2.2.12-1build1 [204 kB]\n"
       ]
      },
      {
       "output_type": "stream",
       "stream": "stdout",
       "text": [
        "[ubuntu@ec2-54-225-5-82.compute-1.amazonaws.com] out: "
       ]
      },
      {
       "output_type": "stream",
       "stream": "stdout",
       "text": [
        "\n"
       ]
      },
      {
       "output_type": "stream",
       "stream": "stdout",
       "text": [
        "[ubuntu@ec2-54-225-5-82.compute-1.amazonaws.com] out: "
       ]
      },
      {
       "output_type": "stream",
       "stream": "stdout",
       "text": [
        "\n"
       ]
      },
      {
       "output_type": "stream",
       "stream": "stdout",
       "text": [
        "[ubuntu@ec2-54-225-5-82.compute-1.amazonaws.com] out: "
       ]
      },
      {
       "output_type": "stream",
       "stream": "stdout",
       "text": [
        "100% [31 redis-server 122 kB/204 kB 60%]                           3,139 kB/s 0s\n"
       ]
      },
      {
       "output_type": "stream",
       "stream": "stdout",
       "text": [
        "[ubuntu@ec2-54-225-5-82.compute-1.amazonaws.com] out: "
       ]
      },
      {
       "output_type": "stream",
       "stream": "stdout",
       "text": [
        "                                                                                \n"
       ]
      },
      {
       "output_type": "stream",
       "stream": "stdout",
       "text": [
        "[ubuntu@ec2-54-225-5-82.compute-1.amazonaws.com] out: "
       ]
      },
      {
       "output_type": "stream",
       "stream": "stdout",
       "text": [
        "100% [Working]                                                     3,139 kB/s 0s"
       ]
      },
      {
       "output_type": "stream",
       "stream": "stdout",
       "text": [
        "\n"
       ]
      },
      {
       "output_type": "stream",
       "stream": "stdout",
       "text": [
        "[ubuntu@ec2-54-225-5-82.compute-1.amazonaws.com] out: "
       ]
      },
      {
       "output_type": "stream",
       "stream": "stdout",
       "text": [
        "                                                                                \n"
       ]
      },
      {
       "output_type": "stream",
       "stream": "stdout",
       "text": [
        "[ubuntu@ec2-54-225-5-82.compute-1.amazonaws.com] out: "
       ]
      },
      {
       "output_type": "stream",
       "stream": "stdout",
       "text": [
        "Get: 32 http://us-east-1.ec2.archive.ubuntu.com/ubuntu/ precise-updates/main ssl-cert all 1.0.28ubuntu0.1 [12.3 kB]\n"
       ]
      },
      {
       "output_type": "stream",
       "stream": "stdout",
       "text": [
        "[ubuntu@ec2-54-225-5-82.compute-1.amazonaws.com] out: "
       ]
      },
      {
       "output_type": "stream",
       "stream": "stdout",
       "text": [
        "\n"
       ]
      },
      {
       "output_type": "stream",
       "stream": "stdout",
       "text": [
        "[ubuntu@ec2-54-225-5-82.compute-1.amazonaws.com] out: "
       ]
      },
      {
       "output_type": "stream",
       "stream": "stdout",
       "text": [
        "\n"
       ]
      },
      {
       "output_type": "stream",
       "stream": "stdout",
       "text": [
        "[ubuntu@ec2-54-225-5-82.compute-1.amazonaws.com] out: "
       ]
      },
      {
       "output_type": "stream",
       "stream": "stdout",
       "text": [
        "100% [32 ssl-cert 0 B/12.3 kB 0%]                                  3,139 kB/s 0s\n"
       ]
      },
      {
       "output_type": "stream",
       "stream": "stdout",
       "text": [
        "[ubuntu@ec2-54-225-5-82.compute-1.amazonaws.com] out: "
       ]
      },
      {
       "output_type": "stream",
       "stream": "stdout",
       "text": [
        "                                                                                \n"
       ]
      },
      {
       "output_type": "stream",
       "stream": "stdout",
       "text": [
        "[ubuntu@ec2-54-225-5-82.compute-1.amazonaws.com] out: "
       ]
      },
      {
       "output_type": "stream",
       "stream": "stdout",
       "text": [
        "100% [Working]                                                     3,139 kB/s 0s\n"
       ]
      },
      {
       "output_type": "stream",
       "stream": "stdout",
       "text": [
        "[ubuntu@ec2-54-225-5-82.compute-1.amazonaws.com] out: "
       ]
      },
      {
       "output_type": "stream",
       "stream": "stdout",
       "text": [
        "                                                                                \n"
       ]
      },
      {
       "output_type": "stream",
       "stream": "stdout",
       "text": [
        "[ubuntu@ec2-54-225-5-82.compute-1.amazonaws.com] out: "
       ]
      },
      {
       "output_type": "stream",
       "stream": "stdout",
       "text": [
        "Fetched 24.7 MB in 7s (3,108 kB/s)\n"
       ]
      },
      {
       "output_type": "stream",
       "stream": "stdout",
       "text": [
        "[ubuntu@ec2-54-225-5-82.compute-1.amazonaws.com] out: "
       ]
      },
      {
       "output_type": "stream",
       "stream": "stdout",
       "text": [
        "\n"
       ]
      },
      {
       "output_type": "stream",
       "stream": "stdout",
       "text": [
        "[ubuntu@ec2-54-225-5-82.compute-1.amazonaws.com] out: "
       ]
      },
      {
       "output_type": "stream",
       "stream": "stdout",
       "text": [
        "Extracting templates from packages: 93%"
       ]
      },
      {
       "output_type": "stream",
       "stream": "stdout",
       "text": [
        "\n"
       ]
      },
      {
       "output_type": "stream",
       "stream": "stdout",
       "text": [
        "[ubuntu@ec2-54-225-5-82.compute-1.amazonaws.com] out: "
       ]
      },
      {
       "output_type": "stream",
       "stream": "stdout",
       "text": [
        "Extracting templates from packages: 100%\n"
       ]
      },
      {
       "output_type": "stream",
       "stream": "stdout",
       "text": [
        "[ubuntu@ec2-54-225-5-82.compute-1.amazonaws.com] out: "
       ]
      },
      {
       "output_type": "stream",
       "stream": "stdout",
       "text": [
        "Preconfiguring packages ...\n"
       ]
      },
      {
       "output_type": "stream",
       "stream": "stdout",
       "text": [
        "[ubuntu@ec2-54-225-5-82.compute-1.amazonaws.com] out: "
       ]
      },
      {
       "output_type": "stream",
       "stream": "stdout",
       "text": [
        "Selecting previously unselected package libcap2.\n"
       ]
      },
      {
       "output_type": "stream",
       "stream": "stdout",
       "text": [
        "[ubuntu@ec2-54-225-5-82.compute-1.amazonaws.com] out: "
       ]
      },
      {
       "output_type": "stream",
       "stream": "stdout",
       "text": [
        "(Reading database ... \n"
       ]
      },
      {
       "output_type": "stream",
       "stream": "stdout",
       "text": [
        "[ubuntu@ec2-54-225-5-82.compute-1.amazonaws.com] out: "
       ]
      },
      {
       "output_type": "stream",
       "stream": "stdout",
       "text": [
        "(Reading database ... 5%\n"
       ]
      },
      {
       "output_type": "stream",
       "stream": "stdout",
       "text": [
        "[ubuntu@ec2-54-225-5-82.compute-1.amazonaws.com] out: "
       ]
      },
      {
       "output_type": "stream",
       "stream": "stdout",
       "text": [
        "(Reading database ... 10%"
       ]
      },
      {
       "output_type": "stream",
       "stream": "stdout",
       "text": [
        "\n"
       ]
      },
      {
       "output_type": "stream",
       "stream": "stdout",
       "text": [
        "[ubuntu@ec2-54-225-5-82.compute-1.amazonaws.com] out: "
       ]
      },
      {
       "output_type": "stream",
       "stream": "stdout",
       "text": [
        "(Reading database ... 15%"
       ]
      },
      {
       "output_type": "stream",
       "stream": "stdout",
       "text": [
        "\n"
       ]
      },
      {
       "output_type": "stream",
       "stream": "stdout",
       "text": [
        "[ubuntu@ec2-54-225-5-82.compute-1.amazonaws.com] out: "
       ]
      },
      {
       "output_type": "stream",
       "stream": "stdout",
       "text": [
        "(Reading database ... 20%\n"
       ]
      },
      {
       "output_type": "stream",
       "stream": "stdout",
       "text": [
        "[ubuntu@ec2-54-225-5-82.compute-1.amazonaws.com] out: "
       ]
      },
      {
       "output_type": "stream",
       "stream": "stdout",
       "text": [
        "(Reading database ... 25%\n"
       ]
      },
      {
       "output_type": "stream",
       "stream": "stdout",
       "text": [
        "[ubuntu@ec2-54-225-5-82.compute-1.amazonaws.com] out: "
       ]
      },
      {
       "output_type": "stream",
       "stream": "stdout",
       "text": [
        "(Reading database ... 30%\n"
       ]
      },
      {
       "output_type": "stream",
       "stream": "stdout",
       "text": [
        "[ubuntu@ec2-54-225-5-82.compute-1.amazonaws.com] out: "
       ]
      },
      {
       "output_type": "stream",
       "stream": "stdout",
       "text": [
        "(Reading database ... 35%\n"
       ]
      },
      {
       "output_type": "stream",
       "stream": "stdout",
       "text": [
        "[ubuntu@ec2-54-225-5-82.compute-1.amazonaws.com] out: "
       ]
      },
      {
       "output_type": "stream",
       "stream": "stdout",
       "text": [
        "(Reading database ... 40%\n"
       ]
      },
      {
       "output_type": "stream",
       "stream": "stdout",
       "text": [
        "[ubuntu@ec2-54-225-5-82.compute-1.amazonaws.com] out: "
       ]
      },
      {
       "output_type": "stream",
       "stream": "stdout",
       "text": [
        "(Reading database ... 45%\n"
       ]
      },
      {
       "output_type": "stream",
       "stream": "stdout",
       "text": [
        "[ubuntu@ec2-54-225-5-82.compute-1.amazonaws.com] out: "
       ]
      },
      {
       "output_type": "stream",
       "stream": "stdout",
       "text": [
        "(Reading database ... 50%\n"
       ]
      },
      {
       "output_type": "stream",
       "stream": "stdout",
       "text": [
        "[ubuntu@ec2-54-225-5-82.compute-1.amazonaws.com] out: "
       ]
      },
      {
       "output_type": "stream",
       "stream": "stdout",
       "text": [
        "(Reading database ... 55%\n"
       ]
      },
      {
       "output_type": "stream",
       "stream": "stdout",
       "text": [
        "[ubuntu@ec2-54-225-5-82.compute-1.amazonaws.com] out: "
       ]
      },
      {
       "output_type": "stream",
       "stream": "stdout",
       "text": [
        "(Reading database ... 60%\n"
       ]
      },
      {
       "output_type": "stream",
       "stream": "stdout",
       "text": [
        "[ubuntu@ec2-54-225-5-82.compute-1.amazonaws.com] out: "
       ]
      },
      {
       "output_type": "stream",
       "stream": "stdout",
       "text": [
        "(Reading database ... 65%\n"
       ]
      },
      {
       "output_type": "stream",
       "stream": "stdout",
       "text": [
        "[ubuntu@ec2-54-225-5-82.compute-1.amazonaws.com] out: "
       ]
      },
      {
       "output_type": "stream",
       "stream": "stdout",
       "text": [
        "(Reading database ... 70%"
       ]
      },
      {
       "output_type": "stream",
       "stream": "stdout",
       "text": [
        "\n"
       ]
      },
      {
       "output_type": "stream",
       "stream": "stdout",
       "text": [
        "[ubuntu@ec2-54-225-5-82.compute-1.amazonaws.com] out: "
       ]
      },
      {
       "output_type": "stream",
       "stream": "stdout",
       "text": [
        "(Reading database ... 75%"
       ]
      },
      {
       "output_type": "stream",
       "stream": "stdout",
       "text": [
        "\n"
       ]
      },
      {
       "output_type": "stream",
       "stream": "stdout",
       "text": [
        "[ubuntu@ec2-54-225-5-82.compute-1.amazonaws.com] out: "
       ]
      },
      {
       "output_type": "stream",
       "stream": "stdout",
       "text": [
        "(Reading database ... 80%"
       ]
      },
      {
       "output_type": "stream",
       "stream": "stdout",
       "text": [
        "\n"
       ]
      },
      {
       "output_type": "stream",
       "stream": "stdout",
       "text": [
        "[ubuntu@ec2-54-225-5-82.compute-1.amazonaws.com] out: "
       ]
      },
      {
       "output_type": "stream",
       "stream": "stdout",
       "text": [
        "(Reading database ... 85%"
       ]
      },
      {
       "output_type": "stream",
       "stream": "stdout",
       "text": [
        "\n"
       ]
      },
      {
       "output_type": "stream",
       "stream": "stdout",
       "text": [
        "[ubuntu@ec2-54-225-5-82.compute-1.amazonaws.com] out: "
       ]
      },
      {
       "output_type": "stream",
       "stream": "stdout",
       "text": [
        "(Reading database ... 90%"
       ]
      },
      {
       "output_type": "stream",
       "stream": "stdout",
       "text": [
        "\n"
       ]
      },
      {
       "output_type": "stream",
       "stream": "stdout",
       "text": [
        "[ubuntu@ec2-54-225-5-82.compute-1.amazonaws.com] out: "
       ]
      },
      {
       "output_type": "stream",
       "stream": "stdout",
       "text": [
        "(Reading database ... 95%"
       ]
      },
      {
       "output_type": "stream",
       "stream": "stdout",
       "text": [
        "\n"
       ]
      },
      {
       "output_type": "stream",
       "stream": "stdout",
       "text": [
        "[ubuntu@ec2-54-225-5-82.compute-1.amazonaws.com] out: "
       ]
      },
      {
       "output_type": "stream",
       "stream": "stdout",
       "text": [
        "(Reading database ... 100%\n"
       ]
      },
      {
       "output_type": "stream",
       "stream": "stdout",
       "text": [
        "[ubuntu@ec2-54-225-5-82.compute-1.amazonaws.com] out: "
       ]
      },
      {
       "output_type": "stream",
       "stream": "stdout",
       "text": [
        "(Reading database ... 70362 files and directories currently installed.)\n"
       ]
      },
      {
       "output_type": "stream",
       "stream": "stdout",
       "text": [
        "[ubuntu@ec2-54-225-5-82.compute-1.amazonaws.com] out: "
       ]
      },
      {
       "output_type": "stream",
       "stream": "stdout",
       "text": [
        "Unpacking libcap2 (from .../libcap2_1%3a2.22-1ubuntu3_amd64.deb) ...\n"
       ]
      },
      {
       "output_type": "stream",
       "stream": "stdout",
       "text": [
        "[ubuntu@ec2-54-225-5-82.compute-1.amazonaws.com] out: "
       ]
      },
      {
       "output_type": "stream",
       "stream": "stdout",
       "text": [
        "Selecting previously unselected package mysql-common.\n"
       ]
      },
      {
       "output_type": "stream",
       "stream": "stdout",
       "text": [
        "[ubuntu@ec2-54-225-5-82.compute-1.amazonaws.com] out: "
       ]
      },
      {
       "output_type": "stream",
       "stream": "stdout",
       "text": [
        "Unpacking mysql-common (from .../mysql-common_5.5.31-0ubuntu0.12.04.1_all.deb) ...\n"
       ]
      },
      {
       "output_type": "stream",
       "stream": "stdout",
       "text": [
        "[ubuntu@ec2-54-225-5-82.compute-1.amazonaws.com] out: "
       ]
      },
      {
       "output_type": "stream",
       "stream": "stdout",
       "text": [
        "Selecting previously unselected package libmysqlclient18.\n"
       ]
      },
      {
       "output_type": "stream",
       "stream": "stdout",
       "text": [
        "[ubuntu@ec2-54-225-5-82.compute-1.amazonaws.com] out: "
       ]
      },
      {
       "output_type": "stream",
       "stream": "stdout",
       "text": [
        "Unpacking libmysqlclient18 (from .../libmysqlclient18_5.5.31-0ubuntu0.12.04.1_amd64.deb) ...\n"
       ]
      },
      {
       "output_type": "stream",
       "stream": "stdout",
       "text": [
        "[ubuntu@ec2-54-225-5-82.compute-1.amazonaws.com] out: "
       ]
      },
      {
       "output_type": "stream",
       "stream": "stdout",
       "text": [
        "Selecting previously unselected package libxslt1.1.\n"
       ]
      },
      {
       "output_type": "stream",
       "stream": "stdout",
       "text": [
        "[ubuntu@ec2-54-225-5-82.compute-1.amazonaws.com] out: "
       ]
      },
      {
       "output_type": "stream",
       "stream": "stdout",
       "text": [
        "Unpacking libxslt1.1 (from .../libxslt1.1_1.1.26-8ubuntu1.3_amd64.deb) ...\n"
       ]
      },
      {
       "output_type": "stream",
       "stream": "stdout",
       "text": [
        "[ubuntu@ec2-54-225-5-82.compute-1.amazonaws.com] out: "
       ]
      },
      {
       "output_type": "stream",
       "stream": "stdout",
       "text": [
        "Selecting previously unselected package libapr1.\n"
       ]
      },
      {
       "output_type": "stream",
       "stream": "stdout",
       "text": [
        "[ubuntu@ec2-54-225-5-82.compute-1.amazonaws.com] out: "
       ]
      },
      {
       "output_type": "stream",
       "stream": "stdout",
       "text": [
        "Unpacking libapr1 (from .../libapr1_1.4.6-1_amd64.deb) ...\n"
       ]
      },
      {
       "output_type": "stream",
       "stream": "stdout",
       "text": [
        "[ubuntu@ec2-54-225-5-82.compute-1.amazonaws.com] out: "
       ]
      },
      {
       "output_type": "stream",
       "stream": "stdout",
       "text": [
        "Selecting previously unselected package libaprutil1.\n"
       ]
      },
      {
       "output_type": "stream",
       "stream": "stdout",
       "text": [
        "[ubuntu@ec2-54-225-5-82.compute-1.amazonaws.com] out: "
       ]
      },
      {
       "output_type": "stream",
       "stream": "stdout",
       "text": [
        "Unpacking libaprutil1 (from .../libaprutil1_1.3.12+dfsg-3_amd64.deb) ...\n"
       ]
      },
      {
       "output_type": "stream",
       "stream": "stdout",
       "text": [
        "[ubuntu@ec2-54-225-5-82.compute-1.amazonaws.com] out: "
       ]
      },
      {
       "output_type": "stream",
       "stream": "stdout",
       "text": [
        "Selecting previously unselected package libaprutil1-dbd-sqlite3.\n"
       ]
      },
      {
       "output_type": "stream",
       "stream": "stdout",
       "text": [
        "[ubuntu@ec2-54-225-5-82.compute-1.amazonaws.com] out: "
       ]
      },
      {
       "output_type": "stream",
       "stream": "stdout",
       "text": [
        "Unpacking libaprutil1-dbd-sqlite3 (from .../libaprutil1-dbd-sqlite3_1.3.12+dfsg-3_amd64.deb) ...\n"
       ]
      },
      {
       "output_type": "stream",
       "stream": "stdout",
       "text": [
        "[ubuntu@ec2-54-225-5-82.compute-1.amazonaws.com] out: "
       ]
      },
      {
       "output_type": "stream",
       "stream": "stdout",
       "text": [
        "Selecting previously unselected package libaprutil1-ldap.\n"
       ]
      },
      {
       "output_type": "stream",
       "stream": "stdout",
       "text": [
        "[ubuntu@ec2-54-225-5-82.compute-1.amazonaws.com] out: "
       ]
      },
      {
       "output_type": "stream",
       "stream": "stdout",
       "text": [
        "Unpacking libaprutil1-ldap (from .../libaprutil1-ldap_1.3.12+dfsg-3_amd64.deb) ...\n"
       ]
      },
      {
       "output_type": "stream",
       "stream": "stdout",
       "text": [
        "[ubuntu@ec2-54-225-5-82.compute-1.amazonaws.com] out: "
       ]
      },
      {
       "output_type": "stream",
       "stream": "stdout",
       "text": [
        "Selecting previously unselected package apache2.2-bin.\n"
       ]
      },
      {
       "output_type": "stream",
       "stream": "stdout",
       "text": [
        "[ubuntu@ec2-54-225-5-82.compute-1.amazonaws.com] out: "
       ]
      },
      {
       "output_type": "stream",
       "stream": "stdout",
       "text": [
        "Unpacking apache2.2-bin (from .../apache2.2-bin_2.2.22-1ubuntu1.3_amd64.deb) ...\n"
       ]
      },
      {
       "output_type": "stream",
       "stream": "stdout",
       "text": [
        "[ubuntu@ec2-54-225-5-82.compute-1.amazonaws.com] out: "
       ]
      },
      {
       "output_type": "stream",
       "stream": "stdout",
       "text": [
        "Selecting previously unselected package apache2-utils.\n"
       ]
      },
      {
       "output_type": "stream",
       "stream": "stdout",
       "text": [
        "[ubuntu@ec2-54-225-5-82.compute-1.amazonaws.com] out: "
       ]
      },
      {
       "output_type": "stream",
       "stream": "stdout",
       "text": [
        "Unpacking apache2-utils (from .../apache2-utils_2.2.22-1ubuntu1.3_amd64.deb) ...\n"
       ]
      },
      {
       "output_type": "stream",
       "stream": "stdout",
       "text": [
        "[ubuntu@ec2-54-225-5-82.compute-1.amazonaws.com] out: "
       ]
      },
      {
       "output_type": "stream",
       "stream": "stdout",
       "text": [
        "Selecting previously unselected package apache2.2-common.\n"
       ]
      },
      {
       "output_type": "stream",
       "stream": "stdout",
       "text": [
        "[ubuntu@ec2-54-225-5-82.compute-1.amazonaws.com] out: "
       ]
      },
      {
       "output_type": "stream",
       "stream": "stdout",
       "text": [
        "Unpacking apache2.2-common (from .../apache2.2-common_2.2.22-1ubuntu1.3_amd64.deb) ...\n"
       ]
      },
      {
       "output_type": "stream",
       "stream": "stdout",
       "text": [
        "[ubuntu@ec2-54-225-5-82.compute-1.amazonaws.com] out: "
       ]
      },
      {
       "output_type": "stream",
       "stream": "stdout",
       "text": [
        "Selecting previously unselected package apache2-mpm-worker.\n"
       ]
      },
      {
       "output_type": "stream",
       "stream": "stdout",
       "text": [
        "[ubuntu@ec2-54-225-5-82.compute-1.amazonaws.com] out: "
       ]
      },
      {
       "output_type": "stream",
       "stream": "stdout",
       "text": [
        "Unpacking apache2-mpm-worker (from .../apache2-mpm-worker_2.2.22-1ubuntu1.3_amd64.deb) ...\n"
       ]
      },
      {
       "output_type": "stream",
       "stream": "stdout",
       "text": [
        "[ubuntu@ec2-54-225-5-82.compute-1.amazonaws.com] out: "
       ]
      },
      {
       "output_type": "stream",
       "stream": "stdout",
       "text": [
        "Selecting previously unselected package apache2.\n"
       ]
      },
      {
       "output_type": "stream",
       "stream": "stdout",
       "text": [
        "[ubuntu@ec2-54-225-5-82.compute-1.amazonaws.com] out: "
       ]
      },
      {
       "output_type": "stream",
       "stream": "stdout",
       "text": [
        "Unpacking apache2 (from .../apache2_2.2.22-1ubuntu1.3_amd64.deb) ...\n"
       ]
      },
      {
       "output_type": "stream",
       "stream": "stdout",
       "text": [
        "[ubuntu@ec2-54-225-5-82.compute-1.amazonaws.com] out: "
       ]
      },
      {
       "output_type": "stream",
       "stream": "stdout",
       "text": [
        "Selecting previously unselected package liberror-perl.\n"
       ]
      },
      {
       "output_type": "stream",
       "stream": "stdout",
       "text": [
        "[ubuntu@ec2-54-225-5-82.compute-1.amazonaws.com] out: "
       ]
      },
      {
       "output_type": "stream",
       "stream": "stdout",
       "text": [
        "Unpacking liberror-perl (from .../liberror-perl_0.17-1_all.deb) ...\n"
       ]
      },
      {
       "output_type": "stream",
       "stream": "stdout",
       "text": [
        "[ubuntu@ec2-54-225-5-82.compute-1.amazonaws.com] out: "
       ]
      },
      {
       "output_type": "stream",
       "stream": "stdout",
       "text": [
        "Selecting previously unselected package git-man.\n"
       ]
      },
      {
       "output_type": "stream",
       "stream": "stdout",
       "text": [
        "[ubuntu@ec2-54-225-5-82.compute-1.amazonaws.com] out: "
       ]
      },
      {
       "output_type": "stream",
       "stream": "stdout",
       "text": [
        "Unpacking git-man (from .../git-man_1%3a1.7.9.5-1_all.deb) ...\n"
       ]
      },
      {
       "output_type": "stream",
       "stream": "stdout",
       "text": [
        "[ubuntu@ec2-54-225-5-82.compute-1.amazonaws.com] out: "
       ]
      },
      {
       "output_type": "stream",
       "stream": "stdout",
       "text": [
        "Selecting previously unselected package git.\n"
       ]
      },
      {
       "output_type": "stream",
       "stream": "stdout",
       "text": [
        "[ubuntu@ec2-54-225-5-82.compute-1.amazonaws.com] out: "
       ]
      },
      {
       "output_type": "stream",
       "stream": "stdout",
       "text": [
        "Unpacking git (from .../git_1%3a1.7.9.5-1_amd64.deb) ...\n"
       ]
      },
      {
       "output_type": "stream",
       "stream": "stdout",
       "text": [
        "[ubuntu@ec2-54-225-5-82.compute-1.amazonaws.com] out: "
       ]
      },
      {
       "output_type": "stream",
       "stream": "stdout",
       "text": [
        "Selecting previously unselected package git-core.\n"
       ]
      },
      {
       "output_type": "stream",
       "stream": "stdout",
       "text": [
        "[ubuntu@ec2-54-225-5-82.compute-1.amazonaws.com] out: "
       ]
      },
      {
       "output_type": "stream",
       "stream": "stdout",
       "text": [
        "Unpacking git-core (from .../git-core_1%3a1.7.9.5-1_all.deb) ...\n"
       ]
      },
      {
       "output_type": "stream",
       "stream": "stdout",
       "text": [
        "[ubuntu@ec2-54-225-5-82.compute-1.amazonaws.com] out: "
       ]
      },
      {
       "output_type": "stream",
       "stream": "stdout",
       "text": [
        "Selecting previously unselected package libapache2-mod-wsgi.\n"
       ]
      },
      {
       "output_type": "stream",
       "stream": "stdout",
       "text": [
        "[ubuntu@ec2-54-225-5-82.compute-1.amazonaws.com] out: "
       ]
      },
      {
       "output_type": "stream",
       "stream": "stdout",
       "text": [
        "Unpacking libapache2-mod-wsgi (from .../libapache2-mod-wsgi_3.3-4build1_amd64.deb) ...\n"
       ]
      },
      {
       "output_type": "stream",
       "stream": "stdout",
       "text": [
        "[ubuntu@ec2-54-225-5-82.compute-1.amazonaws.com] out: "
       ]
      },
      {
       "output_type": "stream",
       "stream": "stdout",
       "text": [
        "Selecting previously unselected package libnet-daemon-perl.\n"
       ]
      },
      {
       "output_type": "stream",
       "stream": "stdout",
       "text": [
        "[ubuntu@ec2-54-225-5-82.compute-1.amazonaws.com] out: "
       ]
      },
      {
       "output_type": "stream",
       "stream": "stdout",
       "text": [
        "Unpacking libnet-daemon-perl (from .../libnet-daemon-perl_0.48-1_all.deb) ...\n"
       ]
      },
      {
       "output_type": "stream",
       "stream": "stdout",
       "text": [
        "[ubuntu@ec2-54-225-5-82.compute-1.amazonaws.com] out: "
       ]
      },
      {
       "output_type": "stream",
       "stream": "stdout",
       "text": [
        "Selecting previously unselected package libplrpc-perl.\n"
       ]
      },
      {
       "output_type": "stream",
       "stream": "stdout",
       "text": [
        "[ubuntu@ec2-54-225-5-82.compute-1.amazonaws.com] out: "
       ]
      },
      {
       "output_type": "stream",
       "stream": "stdout",
       "text": [
        "Unpacking libplrpc-perl (from .../libplrpc-perl_0.2020-2_all.deb) ...\n"
       ]
      },
      {
       "output_type": "stream",
       "stream": "stdout",
       "text": [
        "[ubuntu@ec2-54-225-5-82.compute-1.amazonaws.com] out: "
       ]
      },
      {
       "output_type": "stream",
       "stream": "stdout",
       "text": [
        "Selecting previously unselected package libdbi-perl.\n"
       ]
      },
      {
       "output_type": "stream",
       "stream": "stdout",
       "text": [
        "[ubuntu@ec2-54-225-5-82.compute-1.amazonaws.com] out: "
       ]
      },
      {
       "output_type": "stream",
       "stream": "stdout",
       "text": [
        "Unpacking libdbi-perl (from .../libdbi-perl_1.616-1build2_amd64.deb) ...\n"
       ]
      },
      {
       "output_type": "stream",
       "stream": "stdout",
       "text": [
        "[ubuntu@ec2-54-225-5-82.compute-1.amazonaws.com] out: "
       ]
      },
      {
       "output_type": "stream",
       "stream": "stdout",
       "text": [
        "Selecting previously unselected package libdbd-mysql-perl.\n"
       ]
      },
      {
       "output_type": "stream",
       "stream": "stdout",
       "text": [
        "[ubuntu@ec2-54-225-5-82.compute-1.amazonaws.com] out: "
       ]
      },
      {
       "output_type": "stream",
       "stream": "stdout",
       "text": [
        "Unpacking libdbd-mysql-perl (from .../libdbd-mysql-perl_4.020-1build2_amd64.deb) ...\n"
       ]
      },
      {
       "output_type": "stream",
       "stream": "stdout",
       "text": [
        "[ubuntu@ec2-54-225-5-82.compute-1.amazonaws.com] out: "
       ]
      },
      {
       "output_type": "stream",
       "stream": "stdout",
       "text": [
        "Selecting previously unselected package mysql-client-core-5.5.\n"
       ]
      },
      {
       "output_type": "stream",
       "stream": "stdout",
       "text": [
        "[ubuntu@ec2-54-225-5-82.compute-1.amazonaws.com] out: "
       ]
      },
      {
       "output_type": "stream",
       "stream": "stdout",
       "text": [
        "Unpacking mysql-client-core-5.5 (from .../mysql-client-core-5.5_5.5.31-0ubuntu0.12.04.1_amd64.deb) ...\n"
       ]
      },
      {
       "output_type": "stream",
       "stream": "stdout",
       "text": [
        "[ubuntu@ec2-54-225-5-82.compute-1.amazonaws.com] out: "
       ]
      },
      {
       "output_type": "stream",
       "stream": "stdout",
       "text": [
        "Selecting previously unselected package mysql-client-5.5.\n"
       ]
      },
      {
       "output_type": "stream",
       "stream": "stdout",
       "text": [
        "[ubuntu@ec2-54-225-5-82.compute-1.amazonaws.com] out: "
       ]
      },
      {
       "output_type": "stream",
       "stream": "stdout",
       "text": [
        "Unpacking mysql-client-5.5 (from .../mysql-client-5.5_5.5.31-0ubuntu0.12.04.1_amd64.deb) ...\n"
       ]
      },
      {
       "output_type": "stream",
       "stream": "stdout",
       "text": [
        "[ubuntu@ec2-54-225-5-82.compute-1.amazonaws.com] out: "
       ]
      },
      {
       "output_type": "stream",
       "stream": "stdout",
       "text": [
        "Selecting previously unselected package mysql-client.\n"
       ]
      },
      {
       "output_type": "stream",
       "stream": "stdout",
       "text": [
        "[ubuntu@ec2-54-225-5-82.compute-1.amazonaws.com] out: "
       ]
      },
      {
       "output_type": "stream",
       "stream": "stdout",
       "text": [
        "Unpacking mysql-client (from .../mysql-client_5.5.31-0ubuntu0.12.04.1_all.deb) ...\n"
       ]
      },
      {
       "output_type": "stream",
       "stream": "stdout",
       "text": [
        "[ubuntu@ec2-54-225-5-82.compute-1.amazonaws.com] out: "
       ]
      },
      {
       "output_type": "stream",
       "stream": "stdout",
       "text": [
        "Selecting previously unselected package python-lxml.\n"
       ]
      },
      {
       "output_type": "stream",
       "stream": "stdout",
       "text": [
        "[ubuntu@ec2-54-225-5-82.compute-1.amazonaws.com] out: "
       ]
      },
      {
       "output_type": "stream",
       "stream": "stdout",
       "text": [
        "Unpacking python-lxml (from .../python-lxml_2.3.2-1_amd64.deb) ...\n"
       ]
      },
      {
       "output_type": "stream",
       "stream": "stdout",
       "text": [
        "[ubuntu@ec2-54-225-5-82.compute-1.amazonaws.com] out: "
       ]
      },
      {
       "output_type": "stream",
       "stream": "stdout",
       "text": [
        "Selecting previously unselected package python-mysqldb.\n"
       ]
      },
      {
       "output_type": "stream",
       "stream": "stdout",
       "text": [
        "[ubuntu@ec2-54-225-5-82.compute-1.amazonaws.com] out: "
       ]
      },
      {
       "output_type": "stream",
       "stream": "stdout",
       "text": [
        "Unpacking python-mysqldb (from .../python-mysqldb_1.2.3-1ubuntu0.1_amd64.deb) ...\n"
       ]
      },
      {
       "output_type": "stream",
       "stream": "stdout",
       "text": [
        "[ubuntu@ec2-54-225-5-82.compute-1.amazonaws.com] out: "
       ]
      },
      {
       "output_type": "stream",
       "stream": "stdout",
       "text": [
        "Selecting previously unselected package python-setuptools.\n"
       ]
      },
      {
       "output_type": "stream",
       "stream": "stdout",
       "text": [
        "[ubuntu@ec2-54-225-5-82.compute-1.amazonaws.com] out: "
       ]
      },
      {
       "output_type": "stream",
       "stream": "stdout",
       "text": [
        "Unpacking python-setuptools (from .../python-setuptools_0.6.24-1ubuntu1_all.deb) ...\n"
       ]
      },
      {
       "output_type": "stream",
       "stream": "stdout",
       "text": [
        "[ubuntu@ec2-54-225-5-82.compute-1.amazonaws.com] out: "
       ]
      },
      {
       "output_type": "stream",
       "stream": "stdout",
       "text": [
        "Selecting previously unselected package python-pip.\n"
       ]
      },
      {
       "output_type": "stream",
       "stream": "stdout",
       "text": [
        "[ubuntu@ec2-54-225-5-82.compute-1.amazonaws.com] out: "
       ]
      },
      {
       "output_type": "stream",
       "stream": "stdout",
       "text": [
        "Unpacking python-pip (from .../python-pip_1.0-1build1_all.deb) ...\n"
       ]
      },
      {
       "output_type": "stream",
       "stream": "stdout",
       "text": [
        "[ubuntu@ec2-54-225-5-82.compute-1.amazonaws.com] out: "
       ]
      },
      {
       "output_type": "stream",
       "stream": "stdout",
       "text": [
        "Selecting previously unselected package python-virtualenv.\n"
       ]
      },
      {
       "output_type": "stream",
       "stream": "stdout",
       "text": [
        "[ubuntu@ec2-54-225-5-82.compute-1.amazonaws.com] out: "
       ]
      },
      {
       "output_type": "stream",
       "stream": "stdout",
       "text": [
        "Unpacking python-virtualenv (from .../python-virtualenv_1.7.1.2-1_all.deb) ...\n"
       ]
      },
      {
       "output_type": "stream",
       "stream": "stdout",
       "text": [
        "[ubuntu@ec2-54-225-5-82.compute-1.amazonaws.com] out: "
       ]
      },
      {
       "output_type": "stream",
       "stream": "stdout",
       "text": [
        "Selecting previously unselected package redis-server.\n"
       ]
      },
      {
       "output_type": "stream",
       "stream": "stdout",
       "text": [
        "[ubuntu@ec2-54-225-5-82.compute-1.amazonaws.com] out: "
       ]
      },
      {
       "output_type": "stream",
       "stream": "stdout",
       "text": [
        "Unpacking redis-server (from .../redis-server_2%3a2.2.12-1build1_amd64.deb) ...\n"
       ]
      },
      {
       "output_type": "stream",
       "stream": "stdout",
       "text": [
        "[ubuntu@ec2-54-225-5-82.compute-1.amazonaws.com] out: "
       ]
      },
      {
       "output_type": "stream",
       "stream": "stdout",
       "text": [
        "Selecting previously unselected package ssl-cert.\n"
       ]
      },
      {
       "output_type": "stream",
       "stream": "stdout",
       "text": [
        "[ubuntu@ec2-54-225-5-82.compute-1.amazonaws.com] out: "
       ]
      },
      {
       "output_type": "stream",
       "stream": "stdout",
       "text": [
        "Unpacking ssl-cert (from .../ssl-cert_1.0.28ubuntu0.1_all.deb) ...\n"
       ]
      },
      {
       "output_type": "stream",
       "stream": "stdout",
       "text": [
        "[ubuntu@ec2-54-225-5-82.compute-1.amazonaws.com] out: "
       ]
      },
      {
       "output_type": "stream",
       "stream": "stdout",
       "text": [
        "Processing triggers for man-db ...\n"
       ]
      },
      {
       "output_type": "stream",
       "stream": "stdout",
       "text": [
        "[ubuntu@ec2-54-225-5-82.compute-1.amazonaws.com] out: "
       ]
      },
      {
       "output_type": "stream",
       "stream": "stdout",
       "text": [
        "Processing triggers for ufw ...\n"
       ]
      },
      {
       "output_type": "stream",
       "stream": "stdout",
       "text": [
        "[ubuntu@ec2-54-225-5-82.compute-1.amazonaws.com] out: "
       ]
      },
      {
       "output_type": "stream",
       "stream": "stdout",
       "text": [
        "Processing triggers for ureadahead ...\n"
       ]
      },
      {
       "output_type": "stream",
       "stream": "stdout",
       "text": [
        "[ubuntu@ec2-54-225-5-82.compute-1.amazonaws.com] out: "
       ]
      },
      {
       "output_type": "stream",
       "stream": "stdout",
       "text": [
        "Setting up libcap2 (1:2.22-1ubuntu3) ...\n"
       ]
      },
      {
       "output_type": "stream",
       "stream": "stdout",
       "text": [
        "[ubuntu@ec2-54-225-5-82.compute-1.amazonaws.com] out: "
       ]
      },
      {
       "output_type": "stream",
       "stream": "stdout",
       "text": [
        "Setting up mysql-common (5.5.31-0ubuntu0.12.04.1) ...\n"
       ]
      },
      {
       "output_type": "stream",
       "stream": "stdout",
       "text": [
        "[ubuntu@ec2-54-225-5-82.compute-1.amazonaws.com] out: "
       ]
      },
      {
       "output_type": "stream",
       "stream": "stdout",
       "text": [
        "Setting up libmysqlclient18 (5.5.31-0ubuntu0.12.04.1) ...\n"
       ]
      },
      {
       "output_type": "stream",
       "stream": "stdout",
       "text": [
        "[ubuntu@ec2-54-225-5-82.compute-1.amazonaws.com] out: "
       ]
      },
      {
       "output_type": "stream",
       "stream": "stdout",
       "text": [
        "Setting up libxslt1.1 (1.1.26-8ubuntu1.3) ...\n"
       ]
      },
      {
       "output_type": "stream",
       "stream": "stdout",
       "text": [
        "[ubuntu@ec2-54-225-5-82.compute-1.amazonaws.com] out: "
       ]
      },
      {
       "output_type": "stream",
       "stream": "stdout",
       "text": [
        "Setting up libapr1 (1.4.6-1) ...\n"
       ]
      },
      {
       "output_type": "stream",
       "stream": "stdout",
       "text": [
        "[ubuntu@ec2-54-225-5-82.compute-1.amazonaws.com] out: "
       ]
      },
      {
       "output_type": "stream",
       "stream": "stdout",
       "text": [
        "Setting up libaprutil1 (1.3.12+dfsg-3) ...\n"
       ]
      },
      {
       "output_type": "stream",
       "stream": "stdout",
       "text": [
        "[ubuntu@ec2-54-225-5-82.compute-1.amazonaws.com] out: "
       ]
      },
      {
       "output_type": "stream",
       "stream": "stdout",
       "text": [
        "Setting up libaprutil1-dbd-sqlite3 (1.3.12+dfsg-3) ...\n"
       ]
      },
      {
       "output_type": "stream",
       "stream": "stdout",
       "text": [
        "[ubuntu@ec2-54-225-5-82.compute-1.amazonaws.com] out: "
       ]
      },
      {
       "output_type": "stream",
       "stream": "stdout",
       "text": [
        "Setting up libaprutil1-ldap (1.3.12+dfsg-3) ...\n"
       ]
      },
      {
       "output_type": "stream",
       "stream": "stdout",
       "text": [
        "[ubuntu@ec2-54-225-5-82.compute-1.amazonaws.com] out: "
       ]
      },
      {
       "output_type": "stream",
       "stream": "stdout",
       "text": [
        "Setting up apache2.2-bin (2.2.22-1ubuntu1.3) ...\n"
       ]
      },
      {
       "output_type": "stream",
       "stream": "stdout",
       "text": [
        "[ubuntu@ec2-54-225-5-82.compute-1.amazonaws.com] out: "
       ]
      },
      {
       "output_type": "stream",
       "stream": "stdout",
       "text": [
        "Setting up apache2-utils (2.2.22-1ubuntu1.3) ...\n"
       ]
      },
      {
       "output_type": "stream",
       "stream": "stdout",
       "text": [
        "[ubuntu@ec2-54-225-5-82.compute-1.amazonaws.com] out: "
       ]
      },
      {
       "output_type": "stream",
       "stream": "stdout",
       "text": [
        "Setting up apache2.2-common (2.2.22-1ubuntu1.3) ...\n"
       ]
      },
      {
       "output_type": "stream",
       "stream": "stdout",
       "text": [
        "[ubuntu@ec2-54-225-5-82.compute-1.amazonaws.com] out: "
       ]
      },
      {
       "output_type": "stream",
       "stream": "stdout",
       "text": [
        "Enabling site default.\n"
       ]
      },
      {
       "output_type": "stream",
       "stream": "stdout",
       "text": [
        "[ubuntu@ec2-54-225-5-82.compute-1.amazonaws.com] out: "
       ]
      },
      {
       "output_type": "stream",
       "stream": "stdout",
       "text": [
        "Enabling module alias.\n"
       ]
      },
      {
       "output_type": "stream",
       "stream": "stdout",
       "text": [
        "[ubuntu@ec2-54-225-5-82.compute-1.amazonaws.com] out: "
       ]
      },
      {
       "output_type": "stream",
       "stream": "stdout",
       "text": [
        "Enabling module autoindex.\n"
       ]
      },
      {
       "output_type": "stream",
       "stream": "stdout",
       "text": [
        "[ubuntu@ec2-54-225-5-82.compute-1.amazonaws.com] out: "
       ]
      },
      {
       "output_type": "stream",
       "stream": "stdout",
       "text": [
        "Enabling module dir.\n"
       ]
      },
      {
       "output_type": "stream",
       "stream": "stdout",
       "text": [
        "[ubuntu@ec2-54-225-5-82.compute-1.amazonaws.com] out: "
       ]
      },
      {
       "output_type": "stream",
       "stream": "stdout",
       "text": [
        "Enabling module env.\n"
       ]
      },
      {
       "output_type": "stream",
       "stream": "stdout",
       "text": [
        "[ubuntu@ec2-54-225-5-82.compute-1.amazonaws.com] out: "
       ]
      },
      {
       "output_type": "stream",
       "stream": "stdout",
       "text": [
        "Enabling module mime.\n"
       ]
      },
      {
       "output_type": "stream",
       "stream": "stdout",
       "text": [
        "[ubuntu@ec2-54-225-5-82.compute-1.amazonaws.com] out: "
       ]
      },
      {
       "output_type": "stream",
       "stream": "stdout",
       "text": [
        "Enabling module negotiation.\n"
       ]
      },
      {
       "output_type": "stream",
       "stream": "stdout",
       "text": [
        "[ubuntu@ec2-54-225-5-82.compute-1.amazonaws.com] out: "
       ]
      },
      {
       "output_type": "stream",
       "stream": "stdout",
       "text": [
        "Enabling module setenvif.\n"
       ]
      },
      {
       "output_type": "stream",
       "stream": "stdout",
       "text": [
        "[ubuntu@ec2-54-225-5-82.compute-1.amazonaws.com] out: "
       ]
      },
      {
       "output_type": "stream",
       "stream": "stdout",
       "text": [
        "Enabling module status.\n"
       ]
      },
      {
       "output_type": "stream",
       "stream": "stdout",
       "text": [
        "[ubuntu@ec2-54-225-5-82.compute-1.amazonaws.com] out: "
       ]
      },
      {
       "output_type": "stream",
       "stream": "stdout",
       "text": [
        "Enabling module auth_basic.\n"
       ]
      },
      {
       "output_type": "stream",
       "stream": "stdout",
       "text": [
        "[ubuntu@ec2-54-225-5-82.compute-1.amazonaws.com] out: "
       ]
      },
      {
       "output_type": "stream",
       "stream": "stdout",
       "text": [
        "Enabling module deflate.\n"
       ]
      },
      {
       "output_type": "stream",
       "stream": "stdout",
       "text": [
        "[ubuntu@ec2-54-225-5-82.compute-1.amazonaws.com] out: "
       ]
      },
      {
       "output_type": "stream",
       "stream": "stdout",
       "text": [
        "Enabling module authz_default.\n"
       ]
      },
      {
       "output_type": "stream",
       "stream": "stdout",
       "text": [
        "[ubuntu@ec2-54-225-5-82.compute-1.amazonaws.com] out: "
       ]
      },
      {
       "output_type": "stream",
       "stream": "stdout",
       "text": [
        "Enabling module authz_user.\n"
       ]
      },
      {
       "output_type": "stream",
       "stream": "stdout",
       "text": [
        "[ubuntu@ec2-54-225-5-82.compute-1.amazonaws.com] out: "
       ]
      },
      {
       "output_type": "stream",
       "stream": "stdout",
       "text": [
        "Enabling module authz_groupfile.\n"
       ]
      },
      {
       "output_type": "stream",
       "stream": "stdout",
       "text": [
        "[ubuntu@ec2-54-225-5-82.compute-1.amazonaws.com] out: "
       ]
      },
      {
       "output_type": "stream",
       "stream": "stdout",
       "text": [
        "Enabling module authn_file.\n"
       ]
      },
      {
       "output_type": "stream",
       "stream": "stdout",
       "text": [
        "[ubuntu@ec2-54-225-5-82.compute-1.amazonaws.com] out: "
       ]
      },
      {
       "output_type": "stream",
       "stream": "stdout",
       "text": [
        "Enabling module authz_host.\n"
       ]
      },
      {
       "output_type": "stream",
       "stream": "stdout",
       "text": [
        "[ubuntu@ec2-54-225-5-82.compute-1.amazonaws.com] out: "
       ]
      },
      {
       "output_type": "stream",
       "stream": "stdout",
       "text": [
        "Enabling module reqtimeout.\n"
       ]
      },
      {
       "output_type": "stream",
       "stream": "stdout",
       "text": [
        "[ubuntu@ec2-54-225-5-82.compute-1.amazonaws.com] out: "
       ]
      },
      {
       "output_type": "stream",
       "stream": "stdout",
       "text": [
        "Setting up apache2-mpm-worker (2.2.22-1ubuntu1.3) ...\n"
       ]
      },
      {
       "output_type": "stream",
       "stream": "stdout",
       "text": [
        "[ubuntu@ec2-54-225-5-82.compute-1.amazonaws.com] out: "
       ]
      },
      {
       "output_type": "stream",
       "stream": "stdout",
       "text": [
        " * Starting web server apache2\n"
       ]
      },
      {
       "output_type": "stream",
       "stream": "stdout",
       "text": [
        "[ubuntu@ec2-54-225-5-82.compute-1.amazonaws.com] out: "
       ]
      },
      {
       "output_type": "stream",
       "stream": "stdout",
       "text": [
        "   ...done.\n"
       ]
      },
      {
       "output_type": "stream",
       "stream": "stdout",
       "text": [
        "[ubuntu@ec2-54-225-5-82.compute-1.amazonaws.com] out: "
       ]
      },
      {
       "output_type": "stream",
       "stream": "stdout",
       "text": [
        "Setting up apache2 (2.2.22-1ubuntu1.3) ...\n"
       ]
      },
      {
       "output_type": "stream",
       "stream": "stdout",
       "text": [
        "[ubuntu@ec2-54-225-5-82.compute-1.amazonaws.com] out: "
       ]
      },
      {
       "output_type": "stream",
       "stream": "stdout",
       "text": [
        "Setting up liberror-perl (0.17-1) ...\n"
       ]
      },
      {
       "output_type": "stream",
       "stream": "stdout",
       "text": [
        "[ubuntu@ec2-54-225-5-82.compute-1.amazonaws.com] out: "
       ]
      },
      {
       "output_type": "stream",
       "stream": "stdout",
       "text": [
        "Setting up git-man (1:1.7.9.5-1) ...\n"
       ]
      },
      {
       "output_type": "stream",
       "stream": "stdout",
       "text": [
        "[ubuntu@ec2-54-225-5-82.compute-1.amazonaws.com] out: "
       ]
      },
      {
       "output_type": "stream",
       "stream": "stdout",
       "text": [
        "Setting up git (1:1.7.9.5-1) ...\n"
       ]
      },
      {
       "output_type": "stream",
       "stream": "stdout",
       "text": [
        "[ubuntu@ec2-54-225-5-82.compute-1.amazonaws.com] out: "
       ]
      },
      {
       "output_type": "stream",
       "stream": "stdout",
       "text": [
        "Setting up git-core (1:1.7.9.5-1) ...\n"
       ]
      },
      {
       "output_type": "stream",
       "stream": "stdout",
       "text": [
        "[ubuntu@ec2-54-225-5-82.compute-1.amazonaws.com] out: "
       ]
      },
      {
       "output_type": "stream",
       "stream": "stdout",
       "text": [
        "Setting up libapache2-mod-wsgi (3.3-4build1) ...\n"
       ]
      },
      {
       "output_type": "stream",
       "stream": "stdout",
       "text": [
        "[ubuntu@ec2-54-225-5-82.compute-1.amazonaws.com] out: "
       ]
      },
      {
       "output_type": "stream",
       "stream": "stdout",
       "text": [
        " * Restarting web server apache2\n"
       ]
      },
      {
       "output_type": "stream",
       "stream": "stdout",
       "text": [
        "[ubuntu@ec2-54-225-5-82.compute-1.amazonaws.com] out: "
       ]
      },
      {
       "output_type": "stream",
       "stream": "stdout",
       "text": [
        " ... waiting "
       ]
      },
      {
       "output_type": "stream",
       "stream": "stdout",
       "text": [
        "."
       ]
      },
      {
       "output_type": "stream",
       "stream": "stdout",
       "text": [
        "   ...done.\n"
       ]
      },
      {
       "output_type": "stream",
       "stream": "stdout",
       "text": [
        "[ubuntu@ec2-54-225-5-82.compute-1.amazonaws.com] out: "
       ]
      },
      {
       "output_type": "stream",
       "stream": "stdout",
       "text": [
        "Setting up libnet-daemon-perl (0.48-1) ...\n"
       ]
      },
      {
       "output_type": "stream",
       "stream": "stdout",
       "text": [
        "[ubuntu@ec2-54-225-5-82.compute-1.amazonaws.com] out: "
       ]
      },
      {
       "output_type": "stream",
       "stream": "stdout",
       "text": [
        "Setting up libplrpc-perl (0.2020-2) ...\n"
       ]
      },
      {
       "output_type": "stream",
       "stream": "stdout",
       "text": [
        "[ubuntu@ec2-54-225-5-82.compute-1.amazonaws.com] out: "
       ]
      },
      {
       "output_type": "stream",
       "stream": "stdout",
       "text": [
        "Setting up libdbi-perl (1.616-1build2) ...\n"
       ]
      },
      {
       "output_type": "stream",
       "stream": "stdout",
       "text": [
        "[ubuntu@ec2-54-225-5-82.compute-1.amazonaws.com] out: "
       ]
      },
      {
       "output_type": "stream",
       "stream": "stdout",
       "text": [
        "Setting up libdbd-mysql-perl (4.020-1build2) ...\n"
       ]
      },
      {
       "output_type": "stream",
       "stream": "stdout",
       "text": [
        "[ubuntu@ec2-54-225-5-82.compute-1.amazonaws.com] out: "
       ]
      },
      {
       "output_type": "stream",
       "stream": "stdout",
       "text": [
        "Setting up mysql-client-core-5.5 (5.5.31-0ubuntu0.12.04.1) ...\n"
       ]
      },
      {
       "output_type": "stream",
       "stream": "stdout",
       "text": [
        "[ubuntu@ec2-54-225-5-82.compute-1.amazonaws.com] out: "
       ]
      },
      {
       "output_type": "stream",
       "stream": "stdout",
       "text": [
        "Setting up mysql-client-5.5 (5.5.31-0ubuntu0.12.04.1) ...\n"
       ]
      },
      {
       "output_type": "stream",
       "stream": "stdout",
       "text": [
        "[ubuntu@ec2-54-225-5-82.compute-1.amazonaws.com] out: "
       ]
      },
      {
       "output_type": "stream",
       "stream": "stdout",
       "text": [
        "Setting up mysql-client (5.5.31-0ubuntu0.12.04.1) ...\n"
       ]
      },
      {
       "output_type": "stream",
       "stream": "stdout",
       "text": [
        "[ubuntu@ec2-54-225-5-82.compute-1.amazonaws.com] out: "
       ]
      },
      {
       "output_type": "stream",
       "stream": "stdout",
       "text": [
        "Setting up python-lxml (2.3.2-1) ...\n"
       ]
      },
      {
       "output_type": "stream",
       "stream": "stdout",
       "text": [
        "[ubuntu@ec2-54-225-5-82.compute-1.amazonaws.com] out: "
       ]
      },
      {
       "output_type": "stream",
       "stream": "stdout",
       "text": [
        "Setting up python-mysqldb (1.2.3-1ubuntu0.1) ...\n"
       ]
      },
      {
       "output_type": "stream",
       "stream": "stdout",
       "text": [
        "[ubuntu@ec2-54-225-5-82.compute-1.amazonaws.com] out: "
       ]
      },
      {
       "output_type": "stream",
       "stream": "stdout",
       "text": [
        "Setting up python-setuptools (0.6.24-1ubuntu1) ...\n"
       ]
      },
      {
       "output_type": "stream",
       "stream": "stdout",
       "text": [
        "[ubuntu@ec2-54-225-5-82.compute-1.amazonaws.com] out: "
       ]
      },
      {
       "output_type": "stream",
       "stream": "stdout",
       "text": [
        "Setting up python-pip (1.0-1build1) ...\n"
       ]
      },
      {
       "output_type": "stream",
       "stream": "stdout",
       "text": [
        "[ubuntu@ec2-54-225-5-82.compute-1.amazonaws.com] out: "
       ]
      },
      {
       "output_type": "stream",
       "stream": "stdout",
       "text": [
        "Setting up python-virtualenv (1.7.1.2-1) ...\n"
       ]
      },
      {
       "output_type": "stream",
       "stream": "stdout",
       "text": [
        "[ubuntu@ec2-54-225-5-82.compute-1.amazonaws.com] out: "
       ]
      },
      {
       "output_type": "stream",
       "stream": "stdout",
       "text": [
        "Setting up redis-server (2:2.2.12-1build1) ...\n"
       ]
      },
      {
       "output_type": "stream",
       "stream": "stdout",
       "text": [
        "[ubuntu@ec2-54-225-5-82.compute-1.amazonaws.com] out: "
       ]
      },
      {
       "output_type": "stream",
       "stream": "stdout",
       "text": [
        "Starting redis-server: "
       ]
      },
      {
       "output_type": "stream",
       "stream": "stdout",
       "text": [
        "redis-server.\n"
       ]
      },
      {
       "output_type": "stream",
       "stream": "stdout",
       "text": [
        "[ubuntu@ec2-54-225-5-82.compute-1.amazonaws.com] out: "
       ]
      },
      {
       "output_type": "stream",
       "stream": "stdout",
       "text": [
        "Setting up ssl-cert (1.0.28ubuntu0.1) ...\n"
       ]
      },
      {
       "output_type": "stream",
       "stream": "stdout",
       "text": [
        "[ubuntu@ec2-54-225-5-82.compute-1.amazonaws.com] out: "
       ]
      },
      {
       "output_type": "stream",
       "stream": "stdout",
       "text": [
        "Processing triggers for libc-bin ...\n"
       ]
      },
      {
       "output_type": "stream",
       "stream": "stdout",
       "text": [
        "[ubuntu@ec2-54-225-5-82.compute-1.amazonaws.com] out: "
       ]
      },
      {
       "output_type": "stream",
       "stream": "stdout",
       "text": [
        "ldconfig deferred processing now taking place\n"
       ]
      },
      {
       "output_type": "stream",
       "stream": "stdout",
       "text": [
        "[ubuntu@ec2-54-225-5-82.compute-1.amazonaws.com] out: "
       ]
      },
      {
       "output_type": "stream",
       "stream": "stdout",
       "text": [
        "\n"
       ]
      },
      {
       "output_type": "stream",
       "stream": "stdout",
       "text": [
        "[ubuntu@ec2-54-225-5-82.compute-1.amazonaws.com] out: "
       ]
      },
      {
       "output_type": "stream",
       "stream": "stdout",
       "text": [
        "\n"
       ]
      },
      {
       "output_type": "stream",
       "stream": "stdout",
       "text": [
        "[ubuntu@ec2-54-225-5-82.compute-1.amazonaws.com] out: "
       ]
      },
      {
       "output_type": "stream",
       "stream": "stdout",
       "text": [
        "[  0%] Reading package lists\n"
       ]
      },
      {
       "output_type": "stream",
       "stream": "stdout",
       "text": [
        "[ubuntu@ec2-54-225-5-82.compute-1.amazonaws.com] out: "
       ]
      },
      {
       "output_type": "stream",
       "stream": "stdout",
       "text": [
        "                            \n"
       ]
      },
      {
       "output_type": "stream",
       "stream": "stdout",
       "text": [
        "[ubuntu@ec2-54-225-5-82.compute-1.amazonaws.com] out: "
       ]
      },
      {
       "output_type": "stream",
       "stream": "stdout",
       "text": [
        "\n"
       ]
      },
      {
       "output_type": "stream",
       "stream": "stdout",
       "text": [
        "[ubuntu@ec2-54-225-5-82.compute-1.amazonaws.com] out: "
       ]
      },
      {
       "output_type": "stream",
       "stream": "stdout",
       "text": [
        "\n"
       ]
      },
      {
       "output_type": "stream",
       "stream": "stdout",
       "text": [
        "[ubuntu@ec2-54-225-5-82.compute-1.amazonaws.com] out: "
       ]
      },
      {
       "output_type": "stream",
       "stream": "stdout",
       "text": [
        "[  0%] Building dependency tree"
       ]
      },
      {
       "output_type": "stream",
       "stream": "stdout",
       "text": [
        "\n"
       ]
      },
      {
       "output_type": "stream",
       "stream": "stdout",
       "text": [
        "[ubuntu@ec2-54-225-5-82.compute-1.amazonaws.com] out: "
       ]
      },
      {
       "output_type": "stream",
       "stream": "stdout",
       "text": [
        "                               \n"
       ]
      },
      {
       "output_type": "stream",
       "stream": "stdout",
       "text": [
        "[ubuntu@ec2-54-225-5-82.compute-1.amazonaws.com] out: "
       ]
      },
      {
       "output_type": "stream",
       "stream": "stdout",
       "text": [
        "[100%] Building dependency tree"
       ]
      },
      {
       "output_type": "stream",
       "stream": "stdout",
       "text": [
        "\n"
       ]
      },
      {
       "output_type": "stream",
       "stream": "stdout",
       "text": [
        "[ubuntu@ec2-54-225-5-82.compute-1.amazonaws.com] out: "
       ]
      },
      {
       "output_type": "stream",
       "stream": "stdout",
       "text": [
        "                               \n"
       ]
      },
      {
       "output_type": "stream",
       "stream": "stdout",
       "text": [
        "[ubuntu@ec2-54-225-5-82.compute-1.amazonaws.com] out: "
       ]
      },
      {
       "output_type": "stream",
       "stream": "stdout",
       "text": [
        "[  0%] Reading state information\n"
       ]
      },
      {
       "output_type": "stream",
       "stream": "stdout",
       "text": [
        "[ubuntu@ec2-54-225-5-82.compute-1.amazonaws.com] out: "
       ]
      },
      {
       "output_type": "stream",
       "stream": "stdout",
       "text": [
        "                                \n"
       ]
      },
      {
       "output_type": "stream",
       "stream": "stdout",
       "text": [
        "[ubuntu@ec2-54-225-5-82.compute-1.amazonaws.com] out: "
       ]
      },
      {
       "output_type": "stream",
       "stream": "stdout",
       "text": [
        "[100%] Reading state information\n"
       ]
      },
      {
       "output_type": "stream",
       "stream": "stdout",
       "text": [
        "[ubuntu@ec2-54-225-5-82.compute-1.amazonaws.com] out: "
       ]
      },
      {
       "output_type": "stream",
       "stream": "stdout",
       "text": [
        "                                \n"
       ]
      },
      {
       "output_type": "stream",
       "stream": "stdout",
       "text": [
        "[ubuntu@ec2-54-225-5-82.compute-1.amazonaws.com] out: "
       ]
      },
      {
       "output_type": "stream",
       "stream": "stdout",
       "text": [
        "\n"
       ]
      },
      {
       "output_type": "stream",
       "stream": "stdout",
       "text": [
        "[ubuntu@ec2-54-225-5-82.compute-1.amazonaws.com] out: "
       ]
      },
      {
       "output_type": "stream",
       "stream": "stdout",
       "text": [
        "\n"
       ]
      },
      {
       "output_type": "stream",
       "stream": "stdout",
       "text": [
        "[ubuntu@ec2-54-225-5-82.compute-1.amazonaws.com] out: "
       ]
      },
      {
       "output_type": "stream",
       "stream": "stdout",
       "text": [
        "[  0%] Reading extended state information"
       ]
      },
      {
       "output_type": "stream",
       "stream": "stdout",
       "text": [
        "\n"
       ]
      },
      {
       "output_type": "stream",
       "stream": "stdout",
       "text": [
        "[ubuntu@ec2-54-225-5-82.compute-1.amazonaws.com] out: "
       ]
      },
      {
       "output_type": "stream",
       "stream": "stdout",
       "text": [
        "                                         \n"
       ]
      },
      {
       "output_type": "stream",
       "stream": "stdout",
       "text": [
        "[ubuntu@ec2-54-225-5-82.compute-1.amazonaws.com] out: "
       ]
      },
      {
       "output_type": "stream",
       "stream": "stdout",
       "text": [
        "\n"
       ]
      },
      {
       "output_type": "stream",
       "stream": "stdout",
       "text": [
        "[ubuntu@ec2-54-225-5-82.compute-1.amazonaws.com] out: "
       ]
      },
      {
       "output_type": "stream",
       "stream": "stdout",
       "text": [
        "\n"
       ]
      },
      {
       "output_type": "stream",
       "stream": "stdout",
       "text": [
        "[ubuntu@ec2-54-225-5-82.compute-1.amazonaws.com] out: "
       ]
      },
      {
       "output_type": "stream",
       "stream": "stdout",
       "text": [
        "[  0%] Initializing package states"
       ]
      },
      {
       "output_type": "stream",
       "stream": "stdout",
       "text": [
        "\n"
       ]
      },
      {
       "output_type": "stream",
       "stream": "stdout",
       "text": [
        "[ubuntu@ec2-54-225-5-82.compute-1.amazonaws.com] out: "
       ]
      },
      {
       "output_type": "stream",
       "stream": "stdout",
       "text": [
        "                                  \n"
       ]
      },
      {
       "output_type": "stream",
       "stream": "stdout",
       "text": [
        "[ubuntu@ec2-54-225-5-82.compute-1.amazonaws.com] out: "
       ]
      },
      {
       "output_type": "stream",
       "stream": "stdout",
       "text": [
        "[100%] Initializing package states"
       ]
      },
      {
       "output_type": "stream",
       "stream": "stdout",
       "text": [
        "\n"
       ]
      },
      {
       "output_type": "stream",
       "stream": "stdout",
       "text": [
        "[ubuntu@ec2-54-225-5-82.compute-1.amazonaws.com] out: "
       ]
      },
      {
       "output_type": "stream",
       "stream": "stdout",
       "text": [
        "                                  \n"
       ]
      },
      {
       "output_type": "stream",
       "stream": "stdout",
       "text": [
        "[ubuntu@ec2-54-225-5-82.compute-1.amazonaws.com] out: "
       ]
      },
      {
       "output_type": "stream",
       "stream": "stdout",
       "text": [
        "\n"
       ]
      },
      {
       "output_type": "stream",
       "stream": "stdout",
       "text": [
        "[ubuntu@ec2-54-225-5-82.compute-1.amazonaws.com] out: "
       ]
      },
      {
       "output_type": "stream",
       "stream": "stdout",
       "text": [
        "\n"
       ]
      },
      {
       "output_type": "stream",
       "stream": "stdout",
       "text": [
        "[ubuntu@ec2-54-225-5-82.compute-1.amazonaws.com] out: "
       ]
      },
      {
       "output_type": "stream",
       "stream": "stdout",
       "text": [
        "[  0%] Writing extended state information"
       ]
      },
      {
       "output_type": "stream",
       "stream": "stdout",
       "text": [
        "\n"
       ]
      },
      {
       "output_type": "stream",
       "stream": "stdout",
       "text": [
        "[ubuntu@ec2-54-225-5-82.compute-1.amazonaws.com] out: "
       ]
      },
      {
       "output_type": "stream",
       "stream": "stdout",
       "text": [
        "                                         \n"
       ]
      },
      {
       "output_type": "stream",
       "stream": "stdout",
       "text": [
        "[ubuntu@ec2-54-225-5-82.compute-1.amazonaws.com] out: "
       ]
      },
      {
       "output_type": "stream",
       "stream": "stdout",
       "text": [
        "[100%] Writing extended state information"
       ]
      },
      {
       "output_type": "stream",
       "stream": "stdout",
       "text": [
        "\n"
       ]
      },
      {
       "output_type": "stream",
       "stream": "stdout",
       "text": [
        "[ubuntu@ec2-54-225-5-82.compute-1.amazonaws.com] out: "
       ]
      },
      {
       "output_type": "stream",
       "stream": "stdout",
       "text": [
        "                                         \n"
       ]
      },
      {
       "output_type": "stream",
       "stream": "stdout",
       "text": [
        "[ubuntu@ec2-54-225-5-82.compute-1.amazonaws.com] out: "
       ]
      },
      {
       "output_type": "stream",
       "stream": "stdout",
       "text": [
        "\n"
       ]
      },
      {
       "output_type": "stream",
       "stream": "stdout",
       "text": [
        "[ubuntu@ec2-54-225-5-82.compute-1.amazonaws.com] out: "
       ]
      },
      {
       "output_type": "stream",
       "stream": "stdout",
       "text": [
        "\n"
       ]
      },
      {
       "output_type": "stream",
       "stream": "stdout",
       "text": [
        "\n",
        "[ubuntu@ec2-54-225-5-82.compute-1.amazonaws.com] sudo: yes | aptitude install python-dev\n",
        "[ubuntu@ec2-54-225-5-82.compute-1.amazonaws.com] out: "
       ]
      },
      {
       "output_type": "stream",
       "stream": "stdout",
       "text": [
        "\n"
       ]
      },
      {
       "output_type": "stream",
       "stream": "stdout",
       "text": [
        "[ubuntu@ec2-54-225-5-82.compute-1.amazonaws.com] out: "
       ]
      },
      {
       "output_type": "stream",
       "stream": "stdout",
       "text": [
        "\n"
       ]
      },
      {
       "output_type": "stream",
       "stream": "stdout",
       "text": [
        "[ubuntu@ec2-54-225-5-82.compute-1.amazonaws.com] out: "
       ]
      },
      {
       "output_type": "stream",
       "stream": "stdout",
       "text": [
        "[  0%] Reading package lists\n"
       ]
      },
      {
       "output_type": "stream",
       "stream": "stdout",
       "text": [
        "[ubuntu@ec2-54-225-5-82.compute-1.amazonaws.com] out: "
       ]
      },
      {
       "output_type": "stream",
       "stream": "stdout",
       "text": [
        "                            \n"
       ]
      },
      {
       "output_type": "stream",
       "stream": "stdout",
       "text": [
        "[ubuntu@ec2-54-225-5-82.compute-1.amazonaws.com] out: "
       ]
      },
      {
       "output_type": "stream",
       "stream": "stdout",
       "text": [
        "[100%] Reading package lists\n"
       ]
      },
      {
       "output_type": "stream",
       "stream": "stdout",
       "text": [
        "[ubuntu@ec2-54-225-5-82.compute-1.amazonaws.com] out: "
       ]
      },
      {
       "output_type": "stream",
       "stream": "stdout",
       "text": [
        "                            \n"
       ]
      },
      {
       "output_type": "stream",
       "stream": "stdout",
       "text": [
        "[ubuntu@ec2-54-225-5-82.compute-1.amazonaws.com] out: "
       ]
      },
      {
       "output_type": "stream",
       "stream": "stdout",
       "text": [
        "\n"
       ]
      },
      {
       "output_type": "stream",
       "stream": "stdout",
       "text": [
        "[ubuntu@ec2-54-225-5-82.compute-1.amazonaws.com] out: "
       ]
      },
      {
       "output_type": "stream",
       "stream": "stdout",
       "text": [
        "\n"
       ]
      },
      {
       "output_type": "stream",
       "stream": "stdout",
       "text": [
        "[ubuntu@ec2-54-225-5-82.compute-1.amazonaws.com] out: "
       ]
      },
      {
       "output_type": "stream",
       "stream": "stdout",
       "text": [
        "[  0%] Building dependency tree"
       ]
      },
      {
       "output_type": "stream",
       "stream": "stdout",
       "text": [
        "\n"
       ]
      },
      {
       "output_type": "stream",
       "stream": "stdout",
       "text": [
        "[ubuntu@ec2-54-225-5-82.compute-1.amazonaws.com] out: "
       ]
      },
      {
       "output_type": "stream",
       "stream": "stdout",
       "text": [
        "                               \n"
       ]
      },
      {
       "output_type": "stream",
       "stream": "stdout",
       "text": [
        "[ubuntu@ec2-54-225-5-82.compute-1.amazonaws.com] out: "
       ]
      },
      {
       "output_type": "stream",
       "stream": "stdout",
       "text": [
        "[100%] Building dependency tree"
       ]
      },
      {
       "output_type": "stream",
       "stream": "stdout",
       "text": [
        "\n"
       ]
      },
      {
       "output_type": "stream",
       "stream": "stdout",
       "text": [
        "[ubuntu@ec2-54-225-5-82.compute-1.amazonaws.com] out: "
       ]
      },
      {
       "output_type": "stream",
       "stream": "stdout",
       "text": [
        "                               \n"
       ]
      },
      {
       "output_type": "stream",
       "stream": "stdout",
       "text": [
        "[ubuntu@ec2-54-225-5-82.compute-1.amazonaws.com] out: "
       ]
      },
      {
       "output_type": "stream",
       "stream": "stdout",
       "text": [
        "[  0%] Reading state information\n"
       ]
      },
      {
       "output_type": "stream",
       "stream": "stdout",
       "text": [
        "[ubuntu@ec2-54-225-5-82.compute-1.amazonaws.com] out: "
       ]
      },
      {
       "output_type": "stream",
       "stream": "stdout",
       "text": [
        "                                \n"
       ]
      },
      {
       "output_type": "stream",
       "stream": "stdout",
       "text": [
        "[ubuntu@ec2-54-225-5-82.compute-1.amazonaws.com] out: "
       ]
      },
      {
       "output_type": "stream",
       "stream": "stdout",
       "text": [
        "[100%] Reading state information\n"
       ]
      },
      {
       "output_type": "stream",
       "stream": "stdout",
       "text": [
        "[ubuntu@ec2-54-225-5-82.compute-1.amazonaws.com] out: "
       ]
      },
      {
       "output_type": "stream",
       "stream": "stdout",
       "text": [
        "                                \n"
       ]
      },
      {
       "output_type": "stream",
       "stream": "stdout",
       "text": [
        "[ubuntu@ec2-54-225-5-82.compute-1.amazonaws.com] out: "
       ]
      },
      {
       "output_type": "stream",
       "stream": "stdout",
       "text": [
        "\n"
       ]
      },
      {
       "output_type": "stream",
       "stream": "stdout",
       "text": [
        "[ubuntu@ec2-54-225-5-82.compute-1.amazonaws.com] out: "
       ]
      },
      {
       "output_type": "stream",
       "stream": "stdout",
       "text": [
        "\n"
       ]
      },
      {
       "output_type": "stream",
       "stream": "stdout",
       "text": [
        "[ubuntu@ec2-54-225-5-82.compute-1.amazonaws.com] out: "
       ]
      },
      {
       "output_type": "stream",
       "stream": "stdout",
       "text": [
        "[  0%] Reading extended state information"
       ]
      },
      {
       "output_type": "stream",
       "stream": "stdout",
       "text": [
        "\n"
       ]
      },
      {
       "output_type": "stream",
       "stream": "stdout",
       "text": [
        "[ubuntu@ec2-54-225-5-82.compute-1.amazonaws.com] out: "
       ]
      },
      {
       "output_type": "stream",
       "stream": "stdout",
       "text": [
        "                                         \n"
       ]
      },
      {
       "output_type": "stream",
       "stream": "stdout",
       "text": [
        "[ubuntu@ec2-54-225-5-82.compute-1.amazonaws.com] out: "
       ]
      },
      {
       "output_type": "stream",
       "stream": "stdout",
       "text": [
        "\n"
       ]
      },
      {
       "output_type": "stream",
       "stream": "stdout",
       "text": [
        "[ubuntu@ec2-54-225-5-82.compute-1.amazonaws.com] out: "
       ]
      },
      {
       "output_type": "stream",
       "stream": "stdout",
       "text": [
        "\n"
       ]
      },
      {
       "output_type": "stream",
       "stream": "stdout",
       "text": [
        "[ubuntu@ec2-54-225-5-82.compute-1.amazonaws.com] out: "
       ]
      },
      {
       "output_type": "stream",
       "stream": "stdout",
       "text": [
        "[  0%] Initializing package states\n"
       ]
      },
      {
       "output_type": "stream",
       "stream": "stdout",
       "text": [
        "[ubuntu@ec2-54-225-5-82.compute-1.amazonaws.com] out: "
       ]
      },
      {
       "output_type": "stream",
       "stream": "stdout",
       "text": [
        "                                  \n"
       ]
      },
      {
       "output_type": "stream",
       "stream": "stdout",
       "text": [
        "[ubuntu@ec2-54-225-5-82.compute-1.amazonaws.com] out: "
       ]
      },
      {
       "output_type": "stream",
       "stream": "stdout",
       "text": [
        "[100%] Initializing package states\n"
       ]
      },
      {
       "output_type": "stream",
       "stream": "stdout",
       "text": [
        "[ubuntu@ec2-54-225-5-82.compute-1.amazonaws.com] out: "
       ]
      },
      {
       "output_type": "stream",
       "stream": "stdout",
       "text": [
        "                                  \n"
       ]
      },
      {
       "output_type": "stream",
       "stream": "stdout",
       "text": [
        "[ubuntu@ec2-54-225-5-82.compute-1.amazonaws.com] out: "
       ]
      },
      {
       "output_type": "stream",
       "stream": "stdout",
       "text": [
        "The following NEW packages will be installed:\n"
       ]
      },
      {
       "output_type": "stream",
       "stream": "stdout",
       "text": [
        "[ubuntu@ec2-54-225-5-82.compute-1.amazonaws.com] out: "
       ]
      },
      {
       "output_type": "stream",
       "stream": "stdout",
       "text": [
        "  binutils{a} cpp{a} cpp-4.6{a} gcc{a} gcc-4.6{a} libc-dev-bin{a} \n"
       ]
      },
      {
       "output_type": "stream",
       "stream": "stdout",
       "text": [
        "[ubuntu@ec2-54-225-5-82.compute-1.amazonaws.com] out: "
       ]
      },
      {
       "output_type": "stream",
       "stream": "stdout",
       "text": [
        "  libc6-dev{a} libexpat1-dev{a} libgomp1{a} libmpc2{a} libmpfr4{a} \n"
       ]
      },
      {
       "output_type": "stream",
       "stream": "stdout",
       "text": [
        "[ubuntu@ec2-54-225-5-82.compute-1.amazonaws.com] out: "
       ]
      },
      {
       "output_type": "stream",
       "stream": "stdout",
       "text": [
        "  libquadmath0{a} libssl-dev{a} libssl-doc{a} linux-libc-dev{a} \n"
       ]
      },
      {
       "output_type": "stream",
       "stream": "stdout",
       "text": [
        "[ubuntu@ec2-54-225-5-82.compute-1.amazonaws.com] out: "
       ]
      },
      {
       "output_type": "stream",
       "stream": "stdout",
       "text": [
        "  manpages-dev{a} python-dev python2.7-dev{a} zlib1g-dev{a} \n"
       ]
      },
      {
       "output_type": "stream",
       "stream": "stdout",
       "text": [
        "[ubuntu@ec2-54-225-5-82.compute-1.amazonaws.com] out: "
       ]
      },
      {
       "output_type": "stream",
       "stream": "stdout",
       "text": [
        "0 packages upgraded, 19 newly installed, 0 to remove and 0 not upgraded.\n"
       ]
      },
      {
       "output_type": "stream",
       "stream": "stdout",
       "text": [
        "[ubuntu@ec2-54-225-5-82.compute-1.amazonaws.com] out: "
       ]
      },
      {
       "output_type": "stream",
       "stream": "stdout",
       "text": [
        "Need to get 53.6 MB of archives. After unpacking 103 MB will be used.\n"
       ]
      },
      {
       "output_type": "stream",
       "stream": "stdout",
       "text": [
        "[ubuntu@ec2-54-225-5-82.compute-1.amazonaws.com] out: "
       ]
      },
      {
       "output_type": "stream",
       "stream": "stdout",
       "text": [
        "Do you want to continue? [Y/n/?] \n"
       ]
      },
      {
       "output_type": "stream",
       "stream": "stdout",
       "text": [
        "[ubuntu@ec2-54-225-5-82.compute-1.amazonaws.com] out: "
       ]
      },
      {
       "output_type": "stream",
       "stream": "stdout",
       "text": [
        "\n"
       ]
      },
      {
       "output_type": "stream",
       "stream": "stdout",
       "text": [
        "[ubuntu@ec2-54-225-5-82.compute-1.amazonaws.com] out: "
       ]
      },
      {
       "output_type": "stream",
       "stream": "stdout",
       "text": [
        "[  0%] Writing extended state information"
       ]
      },
      {
       "output_type": "stream",
       "stream": "stdout",
       "text": [
        "\n"
       ]
      },
      {
       "output_type": "stream",
       "stream": "stdout",
       "text": [
        "[ubuntu@ec2-54-225-5-82.compute-1.amazonaws.com] out: "
       ]
      },
      {
       "output_type": "stream",
       "stream": "stdout",
       "text": [
        "                                         \n"
       ]
      },
      {
       "output_type": "stream",
       "stream": "stdout",
       "text": [
        "[ubuntu@ec2-54-225-5-82.compute-1.amazonaws.com] out: "
       ]
      },
      {
       "output_type": "stream",
       "stream": "stdout",
       "text": [
        "[100%] Writing extended state information"
       ]
      },
      {
       "output_type": "stream",
       "stream": "stdout",
       "text": [
        "\n"
       ]
      },
      {
       "output_type": "stream",
       "stream": "stdout",
       "text": [
        "[ubuntu@ec2-54-225-5-82.compute-1.amazonaws.com] out: "
       ]
      },
      {
       "output_type": "stream",
       "stream": "stdout",
       "text": [
        "                                         \n"
       ]
      },
      {
       "output_type": "stream",
       "stream": "stdout",
       "text": [
        "[ubuntu@ec2-54-225-5-82.compute-1.amazonaws.com] out: "
       ]
      },
      {
       "output_type": "stream",
       "stream": "stdout",
       "text": [
        "\n"
       ]
      },
      {
       "output_type": "stream",
       "stream": "stdout",
       "text": [
        "[ubuntu@ec2-54-225-5-82.compute-1.amazonaws.com] out: "
       ]
      },
      {
       "output_type": "stream",
       "stream": "stdout",
       "text": [
        "\n"
       ]
      },
      {
       "output_type": "stream",
       "stream": "stdout",
       "text": [
        "[ubuntu@ec2-54-225-5-82.compute-1.amazonaws.com] out: "
       ]
      },
      {
       "output_type": "stream",
       "stream": "stdout",
       "text": [
        "0% [Working]"
       ]
      },
      {
       "output_type": "stream",
       "stream": "stdout",
       "text": [
        "\n"
       ]
      },
      {
       "output_type": "stream",
       "stream": "stdout",
       "text": [
        "[ubuntu@ec2-54-225-5-82.compute-1.amazonaws.com] out: "
       ]
      },
      {
       "output_type": "stream",
       "stream": "stdout",
       "text": [
        "            \n"
       ]
      },
      {
       "output_type": "stream",
       "stream": "stdout",
       "text": [
        "[ubuntu@ec2-54-225-5-82.compute-1.amazonaws.com] out: "
       ]
      },
      {
       "output_type": "stream",
       "stream": "stdout",
       "text": [
        "Get: 1 http://us-east-1.ec2.archive.ubuntu.com/ubuntu/ precise/main libgomp1 amd64 4.6.3-1ubuntu5 [25.5 kB]\n"
       ]
      },
      {
       "output_type": "stream",
       "stream": "stdout",
       "text": [
        "[ubuntu@ec2-54-225-5-82.compute-1.amazonaws.com] out: "
       ]
      },
      {
       "output_type": "stream",
       "stream": "stdout",
       "text": [
        "\n"
       ]
      },
      {
       "output_type": "stream",
       "stream": "stdout",
       "text": [
        "[ubuntu@ec2-54-225-5-82.compute-1.amazonaws.com] out: "
       ]
      },
      {
       "output_type": "stream",
       "stream": "stdout",
       "text": [
        "\n"
       ]
      },
      {
       "output_type": "stream",
       "stream": "stdout",
       "text": [
        "[ubuntu@ec2-54-225-5-82.compute-1.amazonaws.com] out: "
       ]
      },
      {
       "output_type": "stream",
       "stream": "stdout",
       "text": [
        "0% [1 libgomp1 0 B/25.5 kB 0%]\n"
       ]
      },
      {
       "output_type": "stream",
       "stream": "stdout",
       "text": [
        "[ubuntu@ec2-54-225-5-82.compute-1.amazonaws.com] out: "
       ]
      },
      {
       "output_type": "stream",
       "stream": "stdout",
       "text": [
        "                              \n"
       ]
      },
      {
       "output_type": "stream",
       "stream": "stdout",
       "text": [
        "[ubuntu@ec2-54-225-5-82.compute-1.amazonaws.com] out: "
       ]
      },
      {
       "output_type": "stream",
       "stream": "stdout",
       "text": [
        "0% [Working]"
       ]
      },
      {
       "output_type": "stream",
       "stream": "stdout",
       "text": [
        "\n"
       ]
      },
      {
       "output_type": "stream",
       "stream": "stdout",
       "text": [
        "[ubuntu@ec2-54-225-5-82.compute-1.amazonaws.com] out: "
       ]
      },
      {
       "output_type": "stream",
       "stream": "stdout",
       "text": [
        "            \n"
       ]
      },
      {
       "output_type": "stream",
       "stream": "stdout",
       "text": [
        "[ubuntu@ec2-54-225-5-82.compute-1.amazonaws.com] out: "
       ]
      },
      {
       "output_type": "stream",
       "stream": "stdout",
       "text": [
        "Get: 2 http://us-east-1.ec2.archive.ubuntu.com/ubuntu/ precise/main libmpfr4 amd64 3.1.0-3ubuntu2 [201 kB]\n"
       ]
      },
      {
       "output_type": "stream",
       "stream": "stdout",
       "text": [
        "[ubuntu@ec2-54-225-5-82.compute-1.amazonaws.com] out: "
       ]
      },
      {
       "output_type": "stream",
       "stream": "stdout",
       "text": [
        "\n"
       ]
      },
      {
       "output_type": "stream",
       "stream": "stdout",
       "text": [
        "[ubuntu@ec2-54-225-5-82.compute-1.amazonaws.com] out: "
       ]
      },
      {
       "output_type": "stream",
       "stream": "stdout",
       "text": [
        "\n"
       ]
      },
      {
       "output_type": "stream",
       "stream": "stdout",
       "text": [
        "[ubuntu@ec2-54-225-5-82.compute-1.amazonaws.com] out: "
       ]
      },
      {
       "output_type": "stream",
       "stream": "stdout",
       "text": [
        "0% [2 libmpfr4 0 B/201 kB 0%]"
       ]
      },
      {
       "output_type": "stream",
       "stream": "stdout",
       "text": [
        "\n"
       ]
      },
      {
       "output_type": "stream",
       "stream": "stdout",
       "text": [
        "[ubuntu@ec2-54-225-5-82.compute-1.amazonaws.com] out: "
       ]
      },
      {
       "output_type": "stream",
       "stream": "stdout",
       "text": [
        "                             \n"
       ]
      },
      {
       "output_type": "stream",
       "stream": "stdout",
       "text": [
        "[ubuntu@ec2-54-225-5-82.compute-1.amazonaws.com] out: "
       ]
      },
      {
       "output_type": "stream",
       "stream": "stdout",
       "text": [
        "0% [Working]"
       ]
      },
      {
       "output_type": "stream",
       "stream": "stdout",
       "text": [
        "\n"
       ]
      },
      {
       "output_type": "stream",
       "stream": "stdout",
       "text": [
        "[ubuntu@ec2-54-225-5-82.compute-1.amazonaws.com] out: "
       ]
      },
      {
       "output_type": "stream",
       "stream": "stdout",
       "text": [
        "            \n"
       ]
      },
      {
       "output_type": "stream",
       "stream": "stdout",
       "text": [
        "[ubuntu@ec2-54-225-5-82.compute-1.amazonaws.com] out: "
       ]
      },
      {
       "output_type": "stream",
       "stream": "stdout",
       "text": [
        "Get: 3 http://us-east-1.ec2.archive.ubuntu.com/ubuntu/ precise/main libquadmath0 amd64 4.6.3-1ubuntu5 [126 kB]\n"
       ]
      },
      {
       "output_type": "stream",
       "stream": "stdout",
       "text": [
        "[ubuntu@ec2-54-225-5-82.compute-1.amazonaws.com] out: "
       ]
      },
      {
       "output_type": "stream",
       "stream": "stdout",
       "text": [
        "\n"
       ]
      },
      {
       "output_type": "stream",
       "stream": "stdout",
       "text": [
        "[ubuntu@ec2-54-225-5-82.compute-1.amazonaws.com] out: "
       ]
      },
      {
       "output_type": "stream",
       "stream": "stdout",
       "text": [
        "\n"
       ]
      },
      {
       "output_type": "stream",
       "stream": "stdout",
       "text": [
        "[ubuntu@ec2-54-225-5-82.compute-1.amazonaws.com] out: "
       ]
      },
      {
       "output_type": "stream",
       "stream": "stdout",
       "text": [
        "0% [3 libquadmath0 0 B/126 kB 0%]\n"
       ]
      },
      {
       "output_type": "stream",
       "stream": "stdout",
       "text": [
        "[ubuntu@ec2-54-225-5-82.compute-1.amazonaws.com] out: "
       ]
      },
      {
       "output_type": "stream",
       "stream": "stdout",
       "text": [
        "                                 \n"
       ]
      },
      {
       "output_type": "stream",
       "stream": "stdout",
       "text": [
        "[ubuntu@ec2-54-225-5-82.compute-1.amazonaws.com] out: "
       ]
      },
      {
       "output_type": "stream",
       "stream": "stdout",
       "text": [
        "1% [Working]"
       ]
      },
      {
       "output_type": "stream",
       "stream": "stdout",
       "text": [
        "\n"
       ]
      },
      {
       "output_type": "stream",
       "stream": "stdout",
       "text": [
        "[ubuntu@ec2-54-225-5-82.compute-1.amazonaws.com] out: "
       ]
      },
      {
       "output_type": "stream",
       "stream": "stdout",
       "text": [
        "            \n"
       ]
      },
      {
       "output_type": "stream",
       "stream": "stdout",
       "text": [
        "[ubuntu@ec2-54-225-5-82.compute-1.amazonaws.com] out: "
       ]
      },
      {
       "output_type": "stream",
       "stream": "stdout",
       "text": [
        "Get: 4 http://us-east-1.ec2.archive.ubuntu.com/ubuntu/ precise/main libmpc2 amd64 0.9-4 [39.5 kB]\n"
       ]
      },
      {
       "output_type": "stream",
       "stream": "stdout",
       "text": [
        "[ubuntu@ec2-54-225-5-82.compute-1.amazonaws.com] out: "
       ]
      },
      {
       "output_type": "stream",
       "stream": "stdout",
       "text": [
        "\n"
       ]
      },
      {
       "output_type": "stream",
       "stream": "stdout",
       "text": [
        "[ubuntu@ec2-54-225-5-82.compute-1.amazonaws.com] out: "
       ]
      },
      {
       "output_type": "stream",
       "stream": "stdout",
       "text": [
        "\n"
       ]
      },
      {
       "output_type": "stream",
       "stream": "stdout",
       "text": [
        "[ubuntu@ec2-54-225-5-82.compute-1.amazonaws.com] out: "
       ]
      },
      {
       "output_type": "stream",
       "stream": "stdout",
       "text": [
        "1% [4 libmpc2 0 B/39.5 kB 0%]"
       ]
      },
      {
       "output_type": "stream",
       "stream": "stdout",
       "text": [
        "\n"
       ]
      },
      {
       "output_type": "stream",
       "stream": "stdout",
       "text": [
        "[ubuntu@ec2-54-225-5-82.compute-1.amazonaws.com] out: "
       ]
      },
      {
       "output_type": "stream",
       "stream": "stdout",
       "text": [
        "                             \n"
       ]
      },
      {
       "output_type": "stream",
       "stream": "stdout",
       "text": [
        "[ubuntu@ec2-54-225-5-82.compute-1.amazonaws.com] out: "
       ]
      },
      {
       "output_type": "stream",
       "stream": "stdout",
       "text": [
        "1% [Working]"
       ]
      },
      {
       "output_type": "stream",
       "stream": "stdout",
       "text": [
        "\n"
       ]
      },
      {
       "output_type": "stream",
       "stream": "stdout",
       "text": [
        "[ubuntu@ec2-54-225-5-82.compute-1.amazonaws.com] out: "
       ]
      },
      {
       "output_type": "stream",
       "stream": "stdout",
       "text": [
        "            \n"
       ]
      },
      {
       "output_type": "stream",
       "stream": "stdout",
       "text": [
        "[ubuntu@ec2-54-225-5-82.compute-1.amazonaws.com] out: "
       ]
      },
      {
       "output_type": "stream",
       "stream": "stdout",
       "text": [
        "Get: 5 http://us-east-1.ec2.archive.ubuntu.com/ubuntu/ precise/main binutils amd64 2.22-6ubuntu1 [2,643 kB]\n"
       ]
      },
      {
       "output_type": "stream",
       "stream": "stdout",
       "text": [
        "[ubuntu@ec2-54-225-5-82.compute-1.amazonaws.com] out: "
       ]
      },
      {
       "output_type": "stream",
       "stream": "stdout",
       "text": [
        "\n"
       ]
      },
      {
       "output_type": "stream",
       "stream": "stdout",
       "text": [
        "[ubuntu@ec2-54-225-5-82.compute-1.amazonaws.com] out: "
       ]
      },
      {
       "output_type": "stream",
       "stream": "stdout",
       "text": [
        "\n"
       ]
      },
      {
       "output_type": "stream",
       "stream": "stdout",
       "text": [
        "[ubuntu@ec2-54-225-5-82.compute-1.amazonaws.com] out: "
       ]
      },
      {
       "output_type": "stream",
       "stream": "stdout",
       "text": [
        "1% [5 binutils 0 B/2,643 kB 0%]"
       ]
      },
      {
       "output_type": "stream",
       "stream": "stdout",
       "text": [
        "\n"
       ]
      },
      {
       "output_type": "stream",
       "stream": "stdout",
       "text": [
        "[ubuntu@ec2-54-225-5-82.compute-1.amazonaws.com] out: "
       ]
      },
      {
       "output_type": "stream",
       "stream": "stdout",
       "text": [
        "                               \n"
       ]
      },
      {
       "output_type": "stream",
       "stream": "stdout",
       "text": [
        "[ubuntu@ec2-54-225-5-82.compute-1.amazonaws.com] out: "
       ]
      },
      {
       "output_type": "stream",
       "stream": "stdout",
       "text": [
        "6% [Working]"
       ]
      },
      {
       "output_type": "stream",
       "stream": "stdout",
       "text": [
        "\n"
       ]
      },
      {
       "output_type": "stream",
       "stream": "stdout",
       "text": [
        "[ubuntu@ec2-54-225-5-82.compute-1.amazonaws.com] out: "
       ]
      },
      {
       "output_type": "stream",
       "stream": "stdout",
       "text": [
        "            \n"
       ]
      },
      {
       "output_type": "stream",
       "stream": "stdout",
       "text": [
        "[ubuntu@ec2-54-225-5-82.compute-1.amazonaws.com] out: "
       ]
      },
      {
       "output_type": "stream",
       "stream": "stdout",
       "text": [
        "Get: 6 http://us-east-1.ec2.archive.ubuntu.com/ubuntu/ precise/main cpp-4.6 amd64 4.6.3-1ubuntu5 [4,836 kB]\n"
       ]
      },
      {
       "output_type": "stream",
       "stream": "stdout",
       "text": [
        "[ubuntu@ec2-54-225-5-82.compute-1.amazonaws.com] out: "
       ]
      },
      {
       "output_type": "stream",
       "stream": "stdout",
       "text": [
        "\n"
       ]
      },
      {
       "output_type": "stream",
       "stream": "stdout",
       "text": [
        "[ubuntu@ec2-54-225-5-82.compute-1.amazonaws.com] out: "
       ]
      },
      {
       "output_type": "stream",
       "stream": "stdout",
       "text": [
        "\n"
       ]
      },
      {
       "output_type": "stream",
       "stream": "stdout",
       "text": [
        "[ubuntu@ec2-54-225-5-82.compute-1.amazonaws.com] out: "
       ]
      },
      {
       "output_type": "stream",
       "stream": "stdout",
       "text": [
        "6% [6 cpp-4.6 0 B/4,836 kB 0%]"
       ]
      },
      {
       "output_type": "stream",
       "stream": "stdout",
       "text": [
        "\n"
       ]
      },
      {
       "output_type": "stream",
       "stream": "stdout",
       "text": [
        "[ubuntu@ec2-54-225-5-82.compute-1.amazonaws.com] out: "
       ]
      },
      {
       "output_type": "stream",
       "stream": "stdout",
       "text": [
        "                              \n"
       ]
      },
      {
       "output_type": "stream",
       "stream": "stdout",
       "text": [
        "[ubuntu@ec2-54-225-5-82.compute-1.amazonaws.com] out: "
       ]
      },
      {
       "output_type": "stream",
       "stream": "stdout",
       "text": [
        "15% [Working]"
       ]
      },
      {
       "output_type": "stream",
       "stream": "stdout",
       "text": [
        "\n"
       ]
      },
      {
       "output_type": "stream",
       "stream": "stdout",
       "text": [
        "[ubuntu@ec2-54-225-5-82.compute-1.amazonaws.com] out: "
       ]
      },
      {
       "output_type": "stream",
       "stream": "stdout",
       "text": [
        "             \n"
       ]
      },
      {
       "output_type": "stream",
       "stream": "stdout",
       "text": [
        "[ubuntu@ec2-54-225-5-82.compute-1.amazonaws.com] out: "
       ]
      },
      {
       "output_type": "stream",
       "stream": "stdout",
       "text": [
        "Get: 7 http://us-east-1.ec2.archive.ubuntu.com/ubuntu/ precise/main cpp amd64 4:4.6.3-1ubuntu5 [27.6 kB]\n"
       ]
      },
      {
       "output_type": "stream",
       "stream": "stdout",
       "text": [
        "[ubuntu@ec2-54-225-5-82.compute-1.amazonaws.com] out: "
       ]
      },
      {
       "output_type": "stream",
       "stream": "stdout",
       "text": [
        "\n"
       ]
      },
      {
       "output_type": "stream",
       "stream": "stdout",
       "text": [
        "[ubuntu@ec2-54-225-5-82.compute-1.amazonaws.com] out: "
       ]
      },
      {
       "output_type": "stream",
       "stream": "stdout",
       "text": [
        "\n"
       ]
      },
      {
       "output_type": "stream",
       "stream": "stdout",
       "text": [
        "[ubuntu@ec2-54-225-5-82.compute-1.amazonaws.com] out: "
       ]
      },
      {
       "output_type": "stream",
       "stream": "stdout",
       "text": [
        "15% [7 cpp 0 B/27.6 kB 0%]\n"
       ]
      },
      {
       "output_type": "stream",
       "stream": "stdout",
       "text": [
        "[ubuntu@ec2-54-225-5-82.compute-1.amazonaws.com] out: "
       ]
      },
      {
       "output_type": "stream",
       "stream": "stdout",
       "text": [
        "                          \n"
       ]
      },
      {
       "output_type": "stream",
       "stream": "stdout",
       "text": [
        "[ubuntu@ec2-54-225-5-82.compute-1.amazonaws.com] out: "
       ]
      },
      {
       "output_type": "stream",
       "stream": "stdout",
       "text": [
        "15% [Working]"
       ]
      },
      {
       "output_type": "stream",
       "stream": "stdout",
       "text": [
        "\n"
       ]
      },
      {
       "output_type": "stream",
       "stream": "stdout",
       "text": [
        "[ubuntu@ec2-54-225-5-82.compute-1.amazonaws.com] out: "
       ]
      },
      {
       "output_type": "stream",
       "stream": "stdout",
       "text": [
        "             \n"
       ]
      },
      {
       "output_type": "stream",
       "stream": "stdout",
       "text": [
        "[ubuntu@ec2-54-225-5-82.compute-1.amazonaws.com] out: "
       ]
      },
      {
       "output_type": "stream",
       "stream": "stdout",
       "text": [
        "Get: 8 http://us-east-1.ec2.archive.ubuntu.com/ubuntu/ precise/main gcc-4.6 amd64 4.6.3-1ubuntu5 [7,572 kB]\n"
       ]
      },
      {
       "output_type": "stream",
       "stream": "stdout",
       "text": [
        "[ubuntu@ec2-54-225-5-82.compute-1.amazonaws.com] out: "
       ]
      },
      {
       "output_type": "stream",
       "stream": "stdout",
       "text": [
        "\n"
       ]
      },
      {
       "output_type": "stream",
       "stream": "stdout",
       "text": [
        "[ubuntu@ec2-54-225-5-82.compute-1.amazonaws.com] out: "
       ]
      },
      {
       "output_type": "stream",
       "stream": "stdout",
       "text": [
        "\n"
       ]
      },
      {
       "output_type": "stream",
       "stream": "stdout",
       "text": [
        "[ubuntu@ec2-54-225-5-82.compute-1.amazonaws.com] out: "
       ]
      },
      {
       "output_type": "stream",
       "stream": "stdout",
       "text": [
        "15% [8 gcc-4.6 0 B/7,572 kB 0%]"
       ]
      },
      {
       "output_type": "stream",
       "stream": "stdout",
       "text": [
        "\n"
       ]
      },
      {
       "output_type": "stream",
       "stream": "stdout",
       "text": [
        "[ubuntu@ec2-54-225-5-82.compute-1.amazonaws.com] out: "
       ]
      },
      {
       "output_type": "stream",
       "stream": "stdout",
       "text": [
        "                               \n"
       ]
      },
      {
       "output_type": "stream",
       "stream": "stdout",
       "text": [
        "[ubuntu@ec2-54-225-5-82.compute-1.amazonaws.com] out: "
       ]
      },
      {
       "output_type": "stream",
       "stream": "stdout",
       "text": [
        "29% [Working]\n"
       ]
      },
      {
       "output_type": "stream",
       "stream": "stdout",
       "text": [
        "[ubuntu@ec2-54-225-5-82.compute-1.amazonaws.com] out: "
       ]
      },
      {
       "output_type": "stream",
       "stream": "stdout",
       "text": [
        "             \n"
       ]
      },
      {
       "output_type": "stream",
       "stream": "stdout",
       "text": [
        "[ubuntu@ec2-54-225-5-82.compute-1.amazonaws.com] out: "
       ]
      },
      {
       "output_type": "stream",
       "stream": "stdout",
       "text": [
        "Get: 9 http://us-east-1.ec2.archive.ubuntu.com/ubuntu/ precise/main gcc amd64 4:4.6.3-1ubuntu5 [5,114 B]\n"
       ]
      },
      {
       "output_type": "stream",
       "stream": "stdout",
       "text": [
        "[ubuntu@ec2-54-225-5-82.compute-1.amazonaws.com] out: "
       ]
      },
      {
       "output_type": "stream",
       "stream": "stdout",
       "text": [
        "\n"
       ]
      },
      {
       "output_type": "stream",
       "stream": "stdout",
       "text": [
        "[ubuntu@ec2-54-225-5-82.compute-1.amazonaws.com] out: "
       ]
      },
      {
       "output_type": "stream",
       "stream": "stdout",
       "text": [
        "\n"
       ]
      },
      {
       "output_type": "stream",
       "stream": "stdout",
       "text": [
        "[ubuntu@ec2-54-225-5-82.compute-1.amazonaws.com] out: "
       ]
      },
      {
       "output_type": "stream",
       "stream": "stdout",
       "text": [
        "29% [9 gcc 0 B/5,114 B 0%]\n"
       ]
      },
      {
       "output_type": "stream",
       "stream": "stdout",
       "text": [
        "[ubuntu@ec2-54-225-5-82.compute-1.amazonaws.com] out: "
       ]
      },
      {
       "output_type": "stream",
       "stream": "stdout",
       "text": [
        "                          \n"
       ]
      },
      {
       "output_type": "stream",
       "stream": "stdout",
       "text": [
        "[ubuntu@ec2-54-225-5-82.compute-1.amazonaws.com] out: "
       ]
      },
      {
       "output_type": "stream",
       "stream": "stdout",
       "text": [
        "29% [Working]\n"
       ]
      },
      {
       "output_type": "stream",
       "stream": "stdout",
       "text": [
        "[ubuntu@ec2-54-225-5-82.compute-1.amazonaws.com] out: "
       ]
      },
      {
       "output_type": "stream",
       "stream": "stdout",
       "text": [
        "             \n"
       ]
      },
      {
       "output_type": "stream",
       "stream": "stdout",
       "text": [
        "[ubuntu@ec2-54-225-5-82.compute-1.amazonaws.com] out: "
       ]
      },
      {
       "output_type": "stream",
       "stream": "stdout",
       "text": [
        "Get: 10 http://us-east-1.ec2.archive.ubuntu.com/ubuntu/ precise-updates/main libc-dev-bin amd64 2.15-0ubuntu10.4 [84.5 kB]\n"
       ]
      },
      {
       "output_type": "stream",
       "stream": "stdout",
       "text": [
        "[ubuntu@ec2-54-225-5-82.compute-1.amazonaws.com] out: "
       ]
      },
      {
       "output_type": "stream",
       "stream": "stdout",
       "text": [
        "\n"
       ]
      },
      {
       "output_type": "stream",
       "stream": "stdout",
       "text": [
        "[ubuntu@ec2-54-225-5-82.compute-1.amazonaws.com] out: "
       ]
      },
      {
       "output_type": "stream",
       "stream": "stdout",
       "text": [
        "\n"
       ]
      },
      {
       "output_type": "stream",
       "stream": "stdout",
       "text": [
        "[ubuntu@ec2-54-225-5-82.compute-1.amazonaws.com] out: "
       ]
      },
      {
       "output_type": "stream",
       "stream": "stdout",
       "text": [
        "29% [10 libc-dev-bin 0 B/84.5 kB 0%]"
       ]
      },
      {
       "output_type": "stream",
       "stream": "stdout",
       "text": [
        "\n"
       ]
      },
      {
       "output_type": "stream",
       "stream": "stdout",
       "text": [
        "[ubuntu@ec2-54-225-5-82.compute-1.amazonaws.com] out: "
       ]
      },
      {
       "output_type": "stream",
       "stream": "stdout",
       "text": [
        "                                    \n"
       ]
      },
      {
       "output_type": "stream",
       "stream": "stdout",
       "text": [
        "[ubuntu@ec2-54-225-5-82.compute-1.amazonaws.com] out: "
       ]
      },
      {
       "output_type": "stream",
       "stream": "stdout",
       "text": [
        "29% [Working]\n"
       ]
      },
      {
       "output_type": "stream",
       "stream": "stdout",
       "text": [
        "[ubuntu@ec2-54-225-5-82.compute-1.amazonaws.com] out: "
       ]
      },
      {
       "output_type": "stream",
       "stream": "stdout",
       "text": [
        "             \n"
       ]
      },
      {
       "output_type": "stream",
       "stream": "stdout",
       "text": [
        "[ubuntu@ec2-54-225-5-82.compute-1.amazonaws.com] out: "
       ]
      },
      {
       "output_type": "stream",
       "stream": "stdout",
       "text": [
        "Get: 11 http://us-east-1.ec2.archive.ubuntu.com/ubuntu/ precise-updates/main linux-libc-dev amd64 3.2.0-44.69 [861 kB]\n"
       ]
      },
      {
       "output_type": "stream",
       "stream": "stdout",
       "text": [
        "[ubuntu@ec2-54-225-5-82.compute-1.amazonaws.com] out: "
       ]
      },
      {
       "output_type": "stream",
       "stream": "stdout",
       "text": [
        "\n"
       ]
      },
      {
       "output_type": "stream",
       "stream": "stdout",
       "text": [
        "[ubuntu@ec2-54-225-5-82.compute-1.amazonaws.com] out: "
       ]
      },
      {
       "output_type": "stream",
       "stream": "stdout",
       "text": [
        "\n"
       ]
      },
      {
       "output_type": "stream",
       "stream": "stdout",
       "text": [
        "[ubuntu@ec2-54-225-5-82.compute-1.amazonaws.com] out: "
       ]
      },
      {
       "output_type": "stream",
       "stream": "stdout",
       "text": [
        "29% [11 linux-libc-dev 0 B/861 kB 0%]\n"
       ]
      },
      {
       "output_type": "stream",
       "stream": "stdout",
       "text": [
        "[ubuntu@ec2-54-225-5-82.compute-1.amazonaws.com] out: "
       ]
      },
      {
       "output_type": "stream",
       "stream": "stdout",
       "text": [
        "                                     \n"
       ]
      },
      {
       "output_type": "stream",
       "stream": "stdout",
       "text": [
        "[ubuntu@ec2-54-225-5-82.compute-1.amazonaws.com] out: "
       ]
      },
      {
       "output_type": "stream",
       "stream": "stdout",
       "text": [
        "31% [Working]\n"
       ]
      },
      {
       "output_type": "stream",
       "stream": "stdout",
       "text": [
        "[ubuntu@ec2-54-225-5-82.compute-1.amazonaws.com] out: "
       ]
      },
      {
       "output_type": "stream",
       "stream": "stdout",
       "text": [
        "             \n"
       ]
      },
      {
       "output_type": "stream",
       "stream": "stdout",
       "text": [
        "[ubuntu@ec2-54-225-5-82.compute-1.amazonaws.com] out: "
       ]
      },
      {
       "output_type": "stream",
       "stream": "stdout",
       "text": [
        "Get: 12 http://us-east-1.ec2.archive.ubuntu.com/ubuntu/ precise-updates/main libc6-dev amd64 2.15-0ubuntu10.4 [2,945 kB]\n"
       ]
      },
      {
       "output_type": "stream",
       "stream": "stdout",
       "text": [
        "[ubuntu@ec2-54-225-5-82.compute-1.amazonaws.com] out: "
       ]
      },
      {
       "output_type": "stream",
       "stream": "stdout",
       "text": [
        "\n"
       ]
      },
      {
       "output_type": "stream",
       "stream": "stdout",
       "text": [
        "[ubuntu@ec2-54-225-5-82.compute-1.amazonaws.com] out: "
       ]
      },
      {
       "output_type": "stream",
       "stream": "stdout",
       "text": [
        "\n"
       ]
      },
      {
       "output_type": "stream",
       "stream": "stdout",
       "text": [
        "[ubuntu@ec2-54-225-5-82.compute-1.amazonaws.com] out: "
       ]
      },
      {
       "output_type": "stream",
       "stream": "stdout",
       "text": [
        "31% [12 libc6-dev 0 B/2,945 kB 0%]"
       ]
      },
      {
       "output_type": "stream",
       "stream": "stdout",
       "text": [
        "\n"
       ]
      },
      {
       "output_type": "stream",
       "stream": "stdout",
       "text": [
        "[ubuntu@ec2-54-225-5-82.compute-1.amazonaws.com] out: "
       ]
      },
      {
       "output_type": "stream",
       "stream": "stdout",
       "text": [
        "                                  \n"
       ]
      },
      {
       "output_type": "stream",
       "stream": "stdout",
       "text": [
        "[ubuntu@ec2-54-225-5-82.compute-1.amazonaws.com] out: "
       ]
      },
      {
       "output_type": "stream",
       "stream": "stdout",
       "text": [
        "36% [Working]"
       ]
      },
      {
       "output_type": "stream",
       "stream": "stdout",
       "text": [
        "\n"
       ]
      },
      {
       "output_type": "stream",
       "stream": "stdout",
       "text": [
        "[ubuntu@ec2-54-225-5-82.compute-1.amazonaws.com] out: "
       ]
      },
      {
       "output_type": "stream",
       "stream": "stdout",
       "text": [
        "             \n"
       ]
      },
      {
       "output_type": "stream",
       "stream": "stdout",
       "text": [
        "[ubuntu@ec2-54-225-5-82.compute-1.amazonaws.com] out: "
       ]
      },
      {
       "output_type": "stream",
       "stream": "stdout",
       "text": [
        "Get: 13 http://us-east-1.ec2.archive.ubuntu.com/ubuntu/ precise-updates/main libexpat1-dev amd64 2.0.1-7.2ubuntu1.1 [216 kB]\n"
       ]
      },
      {
       "output_type": "stream",
       "stream": "stdout",
       "text": [
        "[ubuntu@ec2-54-225-5-82.compute-1.amazonaws.com] out: "
       ]
      },
      {
       "output_type": "stream",
       "stream": "stdout",
       "text": [
        "\n"
       ]
      },
      {
       "output_type": "stream",
       "stream": "stdout",
       "text": [
        "[ubuntu@ec2-54-225-5-82.compute-1.amazonaws.com] out: "
       ]
      },
      {
       "output_type": "stream",
       "stream": "stdout",
       "text": [
        "\n"
       ]
      },
      {
       "output_type": "stream",
       "stream": "stdout",
       "text": [
        "[ubuntu@ec2-54-225-5-82.compute-1.amazonaws.com] out: "
       ]
      },
      {
       "output_type": "stream",
       "stream": "stdout",
       "text": [
        "36% [13 libexpat1-dev 0 B/216 kB 0%]"
       ]
      },
      {
       "output_type": "stream",
       "stream": "stdout",
       "text": [
        "\n"
       ]
      },
      {
       "output_type": "stream",
       "stream": "stdout",
       "text": [
        "[ubuntu@ec2-54-225-5-82.compute-1.amazonaws.com] out: "
       ]
      },
      {
       "output_type": "stream",
       "stream": "stdout",
       "text": [
        "                                    \n"
       ]
      },
      {
       "output_type": "stream",
       "stream": "stdout",
       "text": [
        "[ubuntu@ec2-54-225-5-82.compute-1.amazonaws.com] out: "
       ]
      },
      {
       "output_type": "stream",
       "stream": "stdout",
       "text": [
        "37% [Working]"
       ]
      },
      {
       "output_type": "stream",
       "stream": "stdout",
       "text": [
        "\n"
       ]
      },
      {
       "output_type": "stream",
       "stream": "stdout",
       "text": [
        "[ubuntu@ec2-54-225-5-82.compute-1.amazonaws.com] out: "
       ]
      },
      {
       "output_type": "stream",
       "stream": "stdout",
       "text": [
        "             \n"
       ]
      },
      {
       "output_type": "stream",
       "stream": "stdout",
       "text": [
        "[ubuntu@ec2-54-225-5-82.compute-1.amazonaws.com] out: "
       ]
      },
      {
       "output_type": "stream",
       "stream": "stdout",
       "text": [
        "Get: 14 http://us-east-1.ec2.archive.ubuntu.com/ubuntu/ precise/main zlib1g-dev amd64 1:1.2.3.4.dfsg-3ubuntu4 [165 kB]\n"
       ]
      },
      {
       "output_type": "stream",
       "stream": "stdout",
       "text": [
        "[ubuntu@ec2-54-225-5-82.compute-1.amazonaws.com] out: "
       ]
      },
      {
       "output_type": "stream",
       "stream": "stdout",
       "text": [
        "\n"
       ]
      },
      {
       "output_type": "stream",
       "stream": "stdout",
       "text": [
        "[ubuntu@ec2-54-225-5-82.compute-1.amazonaws.com] out: "
       ]
      },
      {
       "output_type": "stream",
       "stream": "stdout",
       "text": [
        "\n"
       ]
      },
      {
       "output_type": "stream",
       "stream": "stdout",
       "text": [
        "[ubuntu@ec2-54-225-5-82.compute-1.amazonaws.com] out: "
       ]
      },
      {
       "output_type": "stream",
       "stream": "stdout",
       "text": [
        "37% [14 zlib1g-dev 0 B/165 kB 0%]\n"
       ]
      },
      {
       "output_type": "stream",
       "stream": "stdout",
       "text": [
        "[ubuntu@ec2-54-225-5-82.compute-1.amazonaws.com] out: "
       ]
      },
      {
       "output_type": "stream",
       "stream": "stdout",
       "text": [
        "                                 \n"
       ]
      },
      {
       "output_type": "stream",
       "stream": "stdout",
       "text": [
        "[ubuntu@ec2-54-225-5-82.compute-1.amazonaws.com] out: "
       ]
      },
      {
       "output_type": "stream",
       "stream": "stdout",
       "text": [
        "37% [Working]"
       ]
      },
      {
       "output_type": "stream",
       "stream": "stdout",
       "text": [
        "\n"
       ]
      },
      {
       "output_type": "stream",
       "stream": "stdout",
       "text": [
        "[ubuntu@ec2-54-225-5-82.compute-1.amazonaws.com] out: "
       ]
      },
      {
       "output_type": "stream",
       "stream": "stdout",
       "text": [
        "             \n"
       ]
      },
      {
       "output_type": "stream",
       "stream": "stdout",
       "text": [
        "[ubuntu@ec2-54-225-5-82.compute-1.amazonaws.com] out: "
       ]
      },
      {
       "output_type": "stream",
       "stream": "stdout",
       "text": [
        "Get: 15 http://us-east-1.ec2.archive.ubuntu.com/ubuntu/ precise-updates/main libssl-dev amd64 1.0.1-4ubuntu5.9 [1,574 kB]\n"
       ]
      },
      {
       "output_type": "stream",
       "stream": "stdout",
       "text": [
        "[ubuntu@ec2-54-225-5-82.compute-1.amazonaws.com] out: "
       ]
      },
      {
       "output_type": "stream",
       "stream": "stdout",
       "text": [
        "\n"
       ]
      },
      {
       "output_type": "stream",
       "stream": "stdout",
       "text": [
        "[ubuntu@ec2-54-225-5-82.compute-1.amazonaws.com] out: "
       ]
      },
      {
       "output_type": "stream",
       "stream": "stdout",
       "text": [
        "\n"
       ]
      },
      {
       "output_type": "stream",
       "stream": "stdout",
       "text": [
        "[ubuntu@ec2-54-225-5-82.compute-1.amazonaws.com] out: "
       ]
      },
      {
       "output_type": "stream",
       "stream": "stdout",
       "text": [
        "37% [15 libssl-dev 0 B/1,574 kB 0%]"
       ]
      },
      {
       "output_type": "stream",
       "stream": "stdout",
       "text": [
        "\n"
       ]
      },
      {
       "output_type": "stream",
       "stream": "stdout",
       "text": [
        "[ubuntu@ec2-54-225-5-82.compute-1.amazonaws.com] out: "
       ]
      },
      {
       "output_type": "stream",
       "stream": "stdout",
       "text": [
        "                                   \n"
       ]
      },
      {
       "output_type": "stream",
       "stream": "stdout",
       "text": [
        "[ubuntu@ec2-54-225-5-82.compute-1.amazonaws.com] out: "
       ]
      },
      {
       "output_type": "stream",
       "stream": "stdout",
       "text": [
        "40% [Working]"
       ]
      },
      {
       "output_type": "stream",
       "stream": "stdout",
       "text": [
        "\n"
       ]
      },
      {
       "output_type": "stream",
       "stream": "stdout",
       "text": [
        "[ubuntu@ec2-54-225-5-82.compute-1.amazonaws.com] out: "
       ]
      },
      {
       "output_type": "stream",
       "stream": "stdout",
       "text": [
        "             \n"
       ]
      },
      {
       "output_type": "stream",
       "stream": "stdout",
       "text": [
        "[ubuntu@ec2-54-225-5-82.compute-1.amazonaws.com] out: "
       ]
      },
      {
       "output_type": "stream",
       "stream": "stdout",
       "text": [
        "Get: 16 http://us-east-1.ec2.archive.ubuntu.com/ubuntu/ precise-updates/main libssl-doc all 1.0.1-4ubuntu5.9 [1,033 kB]\n"
       ]
      },
      {
       "output_type": "stream",
       "stream": "stdout",
       "text": [
        "[ubuntu@ec2-54-225-5-82.compute-1.amazonaws.com] out: "
       ]
      },
      {
       "output_type": "stream",
       "stream": "stdout",
       "text": [
        "\n"
       ]
      },
      {
       "output_type": "stream",
       "stream": "stdout",
       "text": [
        "[ubuntu@ec2-54-225-5-82.compute-1.amazonaws.com] out: "
       ]
      },
      {
       "output_type": "stream",
       "stream": "stdout",
       "text": [
        "\n"
       ]
      },
      {
       "output_type": "stream",
       "stream": "stdout",
       "text": [
        "[ubuntu@ec2-54-225-5-82.compute-1.amazonaws.com] out: "
       ]
      },
      {
       "output_type": "stream",
       "stream": "stdout",
       "text": [
        "40% [16 libssl-doc 0 B/1,033 kB 0%]"
       ]
      },
      {
       "output_type": "stream",
       "stream": "stdout",
       "text": [
        "\n"
       ]
      },
      {
       "output_type": "stream",
       "stream": "stdout",
       "text": [
        "[ubuntu@ec2-54-225-5-82.compute-1.amazonaws.com] out: "
       ]
      },
      {
       "output_type": "stream",
       "stream": "stdout",
       "text": [
        "                                   \n"
       ]
      },
      {
       "output_type": "stream",
       "stream": "stdout",
       "text": [
        "[ubuntu@ec2-54-225-5-82.compute-1.amazonaws.com] out: "
       ]
      },
      {
       "output_type": "stream",
       "stream": "stdout",
       "text": [
        "42% [Working]\n"
       ]
      },
      {
       "output_type": "stream",
       "stream": "stdout",
       "text": [
        "[ubuntu@ec2-54-225-5-82.compute-1.amazonaws.com] out: "
       ]
      },
      {
       "output_type": "stream",
       "stream": "stdout",
       "text": [
        "             \n"
       ]
      },
      {
       "output_type": "stream",
       "stream": "stdout",
       "text": [
        "[ubuntu@ec2-54-225-5-82.compute-1.amazonaws.com] out: "
       ]
      },
      {
       "output_type": "stream",
       "stream": "stdout",
       "text": [
        "Get: 17 http://us-east-1.ec2.archive.ubuntu.com/ubuntu/ precise/main manpages-dev all 3.35-0.1ubuntu1 [1,671 kB]\n"
       ]
      },
      {
       "output_type": "stream",
       "stream": "stdout",
       "text": [
        "[ubuntu@ec2-54-225-5-82.compute-1.amazonaws.com] out: "
       ]
      },
      {
       "output_type": "stream",
       "stream": "stdout",
       "text": [
        "\n"
       ]
      },
      {
       "output_type": "stream",
       "stream": "stdout",
       "text": [
        "[ubuntu@ec2-54-225-5-82.compute-1.amazonaws.com] out: "
       ]
      },
      {
       "output_type": "stream",
       "stream": "stdout",
       "text": [
        "\n"
       ]
      },
      {
       "output_type": "stream",
       "stream": "stdout",
       "text": [
        "[ubuntu@ec2-54-225-5-82.compute-1.amazonaws.com] out: "
       ]
      },
      {
       "output_type": "stream",
       "stream": "stdout",
       "text": [
        "42% [17 manpages-dev 0 B/1,671 kB 0%]"
       ]
      },
      {
       "output_type": "stream",
       "stream": "stdout",
       "text": [
        "\n"
       ]
      },
      {
       "output_type": "stream",
       "stream": "stdout",
       "text": [
        "[ubuntu@ec2-54-225-5-82.compute-1.amazonaws.com] out: "
       ]
      },
      {
       "output_type": "stream",
       "stream": "stdout",
       "text": [
        "                                     \n"
       ]
      },
      {
       "output_type": "stream",
       "stream": "stdout",
       "text": [
        "[ubuntu@ec2-54-225-5-82.compute-1.amazonaws.com] out: "
       ]
      },
      {
       "output_type": "stream",
       "stream": "stdout",
       "text": [
        "45% [Working]"
       ]
      },
      {
       "output_type": "stream",
       "stream": "stdout",
       "text": [
        "\n"
       ]
      },
      {
       "output_type": "stream",
       "stream": "stdout",
       "text": [
        "[ubuntu@ec2-54-225-5-82.compute-1.amazonaws.com] out: "
       ]
      },
      {
       "output_type": "stream",
       "stream": "stdout",
       "text": [
        "             \n"
       ]
      },
      {
       "output_type": "stream",
       "stream": "stdout",
       "text": [
        "[ubuntu@ec2-54-225-5-82.compute-1.amazonaws.com] out: "
       ]
      },
      {
       "output_type": "stream",
       "stream": "stdout",
       "text": [
        "Get: 18 http://us-east-1.ec2.archive.ubuntu.com/ubuntu/ precise-updates/main python2.7-dev amd64 2.7.3-0ubuntu3.1 [29.5 MB]\n"
       ]
      },
      {
       "output_type": "stream",
       "stream": "stdout",
       "text": [
        "[ubuntu@ec2-54-225-5-82.compute-1.amazonaws.com] out: "
       ]
      },
      {
       "output_type": "stream",
       "stream": "stdout",
       "text": [
        "\n"
       ]
      },
      {
       "output_type": "stream",
       "stream": "stdout",
       "text": [
        "[ubuntu@ec2-54-225-5-82.compute-1.amazonaws.com] out: "
       ]
      },
      {
       "output_type": "stream",
       "stream": "stdout",
       "text": [
        "\n"
       ]
      },
      {
       "output_type": "stream",
       "stream": "stdout",
       "text": [
        "[ubuntu@ec2-54-225-5-82.compute-1.amazonaws.com] out: "
       ]
      },
      {
       "output_type": "stream",
       "stream": "stdout",
       "text": [
        "45% [18 python2.7-dev 0 B/29.5 MB 0%]"
       ]
      },
      {
       "output_type": "stream",
       "stream": "stdout",
       "text": [
        "\n"
       ]
      },
      {
       "output_type": "stream",
       "stream": "stdout",
       "text": [
        "[ubuntu@ec2-54-225-5-82.compute-1.amazonaws.com] out: "
       ]
      },
      {
       "output_type": "stream",
       "stream": "stdout",
       "text": [
        "                                     \n"
       ]
      },
      {
       "output_type": "stream",
       "stream": "stdout",
       "text": [
        "[ubuntu@ec2-54-225-5-82.compute-1.amazonaws.com] out: "
       ]
      },
      {
       "output_type": "stream",
       "stream": "stdout",
       "text": [
        "71% [18 python2.7-dev 14.1 MB/29.5 MB 48%]"
       ]
      },
      {
       "output_type": "stream",
       "stream": "stdout",
       "text": [
        "\n"
       ]
      },
      {
       "output_type": "stream",
       "stream": "stdout",
       "text": [
        "[ubuntu@ec2-54-225-5-82.compute-1.amazonaws.com] out: "
       ]
      },
      {
       "output_type": "stream",
       "stream": "stdout",
       "text": [
        "                                          \n"
       ]
      },
      {
       "output_type": "stream",
       "stream": "stdout",
       "text": [
        "[ubuntu@ec2-54-225-5-82.compute-1.amazonaws.com] out: "
       ]
      },
      {
       "output_type": "stream",
       "stream": "stdout",
       "text": [
        "79% [18 python2.7-dev 18.0 MB/29.5 MB 61%]"
       ]
      },
      {
       "output_type": "stream",
       "stream": "stdout",
       "text": [
        "\n"
       ]
      },
      {
       "output_type": "stream",
       "stream": "stdout",
       "text": [
        "[ubuntu@ec2-54-225-5-82.compute-1.amazonaws.com] out: "
       ]
      },
      {
       "output_type": "stream",
       "stream": "stdout",
       "text": [
        "                                          \n"
       ]
      },
      {
       "output_type": "stream",
       "stream": "stdout",
       "text": [
        "[ubuntu@ec2-54-225-5-82.compute-1.amazonaws.com] out: "
       ]
      },
      {
       "output_type": "stream",
       "stream": "stdout",
       "text": [
        "80% [18 python2.7-dev 19.0 MB/29.5 MB 64%]"
       ]
      },
      {
       "output_type": "stream",
       "stream": "stdout",
       "text": [
        "\n"
       ]
      },
      {
       "output_type": "stream",
       "stream": "stdout",
       "text": [
        "[ubuntu@ec2-54-225-5-82.compute-1.amazonaws.com] out: "
       ]
      },
      {
       "output_type": "stream",
       "stream": "stdout",
       "text": [
        "                                          \n"
       ]
      },
      {
       "output_type": "stream",
       "stream": "stdout",
       "text": [
        "[ubuntu@ec2-54-225-5-82.compute-1.amazonaws.com] out: "
       ]
      },
      {
       "output_type": "stream",
       "stream": "stdout",
       "text": [
        "83% [18 python2.7-dev 20.6 MB/29.5 MB 70%]"
       ]
      },
      {
       "output_type": "stream",
       "stream": "stdout",
       "text": [
        "\n"
       ]
      },
      {
       "output_type": "stream",
       "stream": "stdout",
       "text": [
        "[ubuntu@ec2-54-225-5-82.compute-1.amazonaws.com] out: "
       ]
      },
      {
       "output_type": "stream",
       "stream": "stdout",
       "text": [
        "                                          \n"
       ]
      },
      {
       "output_type": "stream",
       "stream": "stdout",
       "text": [
        "[ubuntu@ec2-54-225-5-82.compute-1.amazonaws.com] out: "
       ]
      },
      {
       "output_type": "stream",
       "stream": "stdout",
       "text": [
        "86% [18 python2.7-dev 22.0 MB/29.5 MB 74%]"
       ]
      },
      {
       "output_type": "stream",
       "stream": "stdout",
       "text": [
        "\n"
       ]
      },
      {
       "output_type": "stream",
       "stream": "stdout",
       "text": [
        "[ubuntu@ec2-54-225-5-82.compute-1.amazonaws.com] out: "
       ]
      },
      {
       "output_type": "stream",
       "stream": "stdout",
       "text": [
        "                                          \n"
       ]
      },
      {
       "output_type": "stream",
       "stream": "stdout",
       "text": [
        "[ubuntu@ec2-54-225-5-82.compute-1.amazonaws.com] out: "
       ]
      },
      {
       "output_type": "stream",
       "stream": "stdout",
       "text": [
        "88% [18 python2.7-dev 23.2 MB/29.5 MB 79%]"
       ]
      },
      {
       "output_type": "stream",
       "stream": "stdout",
       "text": [
        "\n"
       ]
      },
      {
       "output_type": "stream",
       "stream": "stdout",
       "text": [
        "[ubuntu@ec2-54-225-5-82.compute-1.amazonaws.com] out: "
       ]
      },
      {
       "output_type": "stream",
       "stream": "stdout",
       "text": [
        "                                          \n"
       ]
      },
      {
       "output_type": "stream",
       "stream": "stdout",
       "text": [
        "[ubuntu@ec2-54-225-5-82.compute-1.amazonaws.com] out: "
       ]
      },
      {
       "output_type": "stream",
       "stream": "stdout",
       "text": [
        "91% [18 python2.7-dev 24.8 MB/29.5 MB 84%]"
       ]
      },
      {
       "output_type": "stream",
       "stream": "stdout",
       "text": [
        "\n"
       ]
      },
      {
       "output_type": "stream",
       "stream": "stdout",
       "text": [
        "[ubuntu@ec2-54-225-5-82.compute-1.amazonaws.com] out: "
       ]
      },
      {
       "output_type": "stream",
       "stream": "stdout",
       "text": [
        "                                          \n"
       ]
      },
      {
       "output_type": "stream",
       "stream": "stdout",
       "text": [
        "[ubuntu@ec2-54-225-5-82.compute-1.amazonaws.com] out: "
       ]
      },
      {
       "output_type": "stream",
       "stream": "stdout",
       "text": [
        "94% [18 python2.7-dev 26.4 MB/29.5 MB 89%]"
       ]
      },
      {
       "output_type": "stream",
       "stream": "stdout",
       "text": [
        "\n"
       ]
      },
      {
       "output_type": "stream",
       "stream": "stdout",
       "text": [
        "[ubuntu@ec2-54-225-5-82.compute-1.amazonaws.com] out: "
       ]
      },
      {
       "output_type": "stream",
       "stream": "stdout",
       "text": [
        "                                          \n"
       ]
      },
      {
       "output_type": "stream",
       "stream": "stdout",
       "text": [
        "[ubuntu@ec2-54-225-5-82.compute-1.amazonaws.com] out: "
       ]
      },
      {
       "output_type": "stream",
       "stream": "stdout",
       "text": [
        "97% [18 python2.7-dev 27.9 MB/29.5 MB 94%]                         7,993 kB/s 0s"
       ]
      },
      {
       "output_type": "stream",
       "stream": "stdout",
       "text": [
        "\n"
       ]
      },
      {
       "output_type": "stream",
       "stream": "stdout",
       "text": [
        "[ubuntu@ec2-54-225-5-82.compute-1.amazonaws.com] out: "
       ]
      },
      {
       "output_type": "stream",
       "stream": "stdout",
       "text": [
        "                                                                                \n"
       ]
      },
      {
       "output_type": "stream",
       "stream": "stdout",
       "text": [
        "[ubuntu@ec2-54-225-5-82.compute-1.amazonaws.com] out: "
       ]
      },
      {
       "output_type": "stream",
       "stream": "stdout",
       "text": [
        "100% [Working]                                                     7,993 kB/s 0s"
       ]
      },
      {
       "output_type": "stream",
       "stream": "stdout",
       "text": [
        "\n"
       ]
      },
      {
       "output_type": "stream",
       "stream": "stdout",
       "text": [
        "[ubuntu@ec2-54-225-5-82.compute-1.amazonaws.com] out: "
       ]
      },
      {
       "output_type": "stream",
       "stream": "stdout",
       "text": [
        "                                                                                \n"
       ]
      },
      {
       "output_type": "stream",
       "stream": "stdout",
       "text": [
        "[ubuntu@ec2-54-225-5-82.compute-1.amazonaws.com] out: "
       ]
      },
      {
       "output_type": "stream",
       "stream": "stdout",
       "text": [
        "Get: 19 http://us-east-1.ec2.archive.ubuntu.com/ubuntu/ precise/main python-dev amd64 2.7.3-0ubuntu2 [1,088 B]\n"
       ]
      },
      {
       "output_type": "stream",
       "stream": "stdout",
       "text": [
        "[ubuntu@ec2-54-225-5-82.compute-1.amazonaws.com] out: "
       ]
      },
      {
       "output_type": "stream",
       "stream": "stdout",
       "text": [
        "\n"
       ]
      },
      {
       "output_type": "stream",
       "stream": "stdout",
       "text": [
        "[ubuntu@ec2-54-225-5-82.compute-1.amazonaws.com] out: "
       ]
      },
      {
       "output_type": "stream",
       "stream": "stdout",
       "text": [
        "\n"
       ]
      },
      {
       "output_type": "stream",
       "stream": "stdout",
       "text": [
        "[ubuntu@ec2-54-225-5-82.compute-1.amazonaws.com] out: "
       ]
      },
      {
       "output_type": "stream",
       "stream": "stdout",
       "text": [
        "100% [19 python-dev 0 B/1,088 B 0%]                                7,993 kB/s 0s\n"
       ]
      },
      {
       "output_type": "stream",
       "stream": "stdout",
       "text": [
        "[ubuntu@ec2-54-225-5-82.compute-1.amazonaws.com] out: "
       ]
      },
      {
       "output_type": "stream",
       "stream": "stdout",
       "text": [
        "                                                                                \n"
       ]
      },
      {
       "output_type": "stream",
       "stream": "stdout",
       "text": [
        "[ubuntu@ec2-54-225-5-82.compute-1.amazonaws.com] out: "
       ]
      },
      {
       "output_type": "stream",
       "stream": "stdout",
       "text": [
        "100% [Working]                                                     7,993 kB/s 0s\n"
       ]
      },
      {
       "output_type": "stream",
       "stream": "stdout",
       "text": [
        "[ubuntu@ec2-54-225-5-82.compute-1.amazonaws.com] out: "
       ]
      },
      {
       "output_type": "stream",
       "stream": "stdout",
       "text": [
        "                                                                                \n"
       ]
      },
      {
       "output_type": "stream",
       "stream": "stdout",
       "text": [
        "[ubuntu@ec2-54-225-5-82.compute-1.amazonaws.com] out: "
       ]
      },
      {
       "output_type": "stream",
       "stream": "stdout",
       "text": [
        "Fetched 53.6 MB in 7s (7,631 kB/s)\n"
       ]
      },
      {
       "output_type": "stream",
       "stream": "stdout",
       "text": [
        "[ubuntu@ec2-54-225-5-82.compute-1.amazonaws.com] out: "
       ]
      },
      {
       "output_type": "stream",
       "stream": "stdout",
       "text": [
        "Selecting previously unselected package libgomp1.\n"
       ]
      },
      {
       "output_type": "stream",
       "stream": "stdout",
       "text": [
        "[ubuntu@ec2-54-225-5-82.compute-1.amazonaws.com] out: "
       ]
      },
      {
       "output_type": "stream",
       "stream": "stdout",
       "text": [
        "(Reading database ... \n"
       ]
      },
      {
       "output_type": "stream",
       "stream": "stdout",
       "text": [
        "[ubuntu@ec2-54-225-5-82.compute-1.amazonaws.com] out: "
       ]
      },
      {
       "output_type": "stream",
       "stream": "stdout",
       "text": [
        "(Reading database ... 5%\n"
       ]
      },
      {
       "output_type": "stream",
       "stream": "stdout",
       "text": [
        "[ubuntu@ec2-54-225-5-82.compute-1.amazonaws.com] out: "
       ]
      },
      {
       "output_type": "stream",
       "stream": "stdout",
       "text": [
        "(Reading database ... 10%\n"
       ]
      },
      {
       "output_type": "stream",
       "stream": "stdout",
       "text": [
        "[ubuntu@ec2-54-225-5-82.compute-1.amazonaws.com] out: "
       ]
      },
      {
       "output_type": "stream",
       "stream": "stdout",
       "text": [
        "(Reading database ... 15%\n"
       ]
      },
      {
       "output_type": "stream",
       "stream": "stdout",
       "text": [
        "[ubuntu@ec2-54-225-5-82.compute-1.amazonaws.com] out: "
       ]
      },
      {
       "output_type": "stream",
       "stream": "stdout",
       "text": [
        "(Reading database ... 20%\n"
       ]
      },
      {
       "output_type": "stream",
       "stream": "stdout",
       "text": [
        "[ubuntu@ec2-54-225-5-82.compute-1.amazonaws.com] out: "
       ]
      },
      {
       "output_type": "stream",
       "stream": "stdout",
       "text": [
        "(Reading database ... 25%\n"
       ]
      },
      {
       "output_type": "stream",
       "stream": "stdout",
       "text": [
        "[ubuntu@ec2-54-225-5-82.compute-1.amazonaws.com] out: "
       ]
      },
      {
       "output_type": "stream",
       "stream": "stdout",
       "text": [
        "(Reading database ... 30%"
       ]
      },
      {
       "output_type": "stream",
       "stream": "stdout",
       "text": [
        "\n"
       ]
      },
      {
       "output_type": "stream",
       "stream": "stdout",
       "text": [
        "[ubuntu@ec2-54-225-5-82.compute-1.amazonaws.com] out: "
       ]
      },
      {
       "output_type": "stream",
       "stream": "stdout",
       "text": [
        "(Reading database ... 35%\n"
       ]
      },
      {
       "output_type": "stream",
       "stream": "stdout",
       "text": [
        "[ubuntu@ec2-54-225-5-82.compute-1.amazonaws.com] out: "
       ]
      },
      {
       "output_type": "stream",
       "stream": "stdout",
       "text": [
        "(Reading database ... 40%\n"
       ]
      },
      {
       "output_type": "stream",
       "stream": "stdout",
       "text": [
        "[ubuntu@ec2-54-225-5-82.compute-1.amazonaws.com] out: "
       ]
      },
      {
       "output_type": "stream",
       "stream": "stdout",
       "text": [
        "(Reading database ... 45%\n"
       ]
      },
      {
       "output_type": "stream",
       "stream": "stdout",
       "text": [
        "[ubuntu@ec2-54-225-5-82.compute-1.amazonaws.com] out: "
       ]
      },
      {
       "output_type": "stream",
       "stream": "stdout",
       "text": [
        "(Reading database ... 50%\n"
       ]
      },
      {
       "output_type": "stream",
       "stream": "stdout",
       "text": [
        "[ubuntu@ec2-54-225-5-82.compute-1.amazonaws.com] out: "
       ]
      },
      {
       "output_type": "stream",
       "stream": "stdout",
       "text": [
        "(Reading database ... 55%\n"
       ]
      },
      {
       "output_type": "stream",
       "stream": "stdout",
       "text": [
        "[ubuntu@ec2-54-225-5-82.compute-1.amazonaws.com] out: "
       ]
      },
      {
       "output_type": "stream",
       "stream": "stdout",
       "text": [
        "(Reading database ... 60%\n"
       ]
      },
      {
       "output_type": "stream",
       "stream": "stdout",
       "text": [
        "[ubuntu@ec2-54-225-5-82.compute-1.amazonaws.com] out: "
       ]
      },
      {
       "output_type": "stream",
       "stream": "stdout",
       "text": [
        "(Reading database ... 65%\n"
       ]
      },
      {
       "output_type": "stream",
       "stream": "stdout",
       "text": [
        "[ubuntu@ec2-54-225-5-82.compute-1.amazonaws.com] out: "
       ]
      },
      {
       "output_type": "stream",
       "stream": "stdout",
       "text": [
        "(Reading database ... 70%"
       ]
      },
      {
       "output_type": "stream",
       "stream": "stdout",
       "text": [
        "\n"
       ]
      },
      {
       "output_type": "stream",
       "stream": "stdout",
       "text": [
        "[ubuntu@ec2-54-225-5-82.compute-1.amazonaws.com] out: "
       ]
      },
      {
       "output_type": "stream",
       "stream": "stdout",
       "text": [
        "(Reading database ... 75%"
       ]
      },
      {
       "output_type": "stream",
       "stream": "stdout",
       "text": [
        "\n"
       ]
      },
      {
       "output_type": "stream",
       "stream": "stdout",
       "text": [
        "[ubuntu@ec2-54-225-5-82.compute-1.amazonaws.com] out: "
       ]
      },
      {
       "output_type": "stream",
       "stream": "stdout",
       "text": [
        "(Reading database ... 80%"
       ]
      },
      {
       "output_type": "stream",
       "stream": "stdout",
       "text": [
        "\n"
       ]
      },
      {
       "output_type": "stream",
       "stream": "stdout",
       "text": [
        "[ubuntu@ec2-54-225-5-82.compute-1.amazonaws.com] out: "
       ]
      },
      {
       "output_type": "stream",
       "stream": "stdout",
       "text": [
        "(Reading database ... 85%"
       ]
      },
      {
       "output_type": "stream",
       "stream": "stdout",
       "text": [
        "\n"
       ]
      },
      {
       "output_type": "stream",
       "stream": "stdout",
       "text": [
        "[ubuntu@ec2-54-225-5-82.compute-1.amazonaws.com] out: "
       ]
      },
      {
       "output_type": "stream",
       "stream": "stdout",
       "text": [
        "(Reading database ... 90%"
       ]
      },
      {
       "output_type": "stream",
       "stream": "stdout",
       "text": [
        "\n"
       ]
      },
      {
       "output_type": "stream",
       "stream": "stdout",
       "text": [
        "[ubuntu@ec2-54-225-5-82.compute-1.amazonaws.com] out: "
       ]
      },
      {
       "output_type": "stream",
       "stream": "stdout",
       "text": [
        "(Reading database ... 95%\n"
       ]
      },
      {
       "output_type": "stream",
       "stream": "stdout",
       "text": [
        "[ubuntu@ec2-54-225-5-82.compute-1.amazonaws.com] out: "
       ]
      },
      {
       "output_type": "stream",
       "stream": "stdout",
       "text": [
        "(Reading database ... 100%\n"
       ]
      },
      {
       "output_type": "stream",
       "stream": "stdout",
       "text": [
        "[ubuntu@ec2-54-225-5-82.compute-1.amazonaws.com] out: "
       ]
      },
      {
       "output_type": "stream",
       "stream": "stdout",
       "text": [
        "(Reading database ... 72334 files and directories currently installed.)\n"
       ]
      },
      {
       "output_type": "stream",
       "stream": "stdout",
       "text": [
        "[ubuntu@ec2-54-225-5-82.compute-1.amazonaws.com] out: "
       ]
      },
      {
       "output_type": "stream",
       "stream": "stdout",
       "text": [
        "Unpacking libgomp1 (from .../libgomp1_4.6.3-1ubuntu5_amd64.deb) ...\n"
       ]
      },
      {
       "output_type": "stream",
       "stream": "stdout",
       "text": [
        "[ubuntu@ec2-54-225-5-82.compute-1.amazonaws.com] out: "
       ]
      },
      {
       "output_type": "stream",
       "stream": "stdout",
       "text": [
        "Selecting previously unselected package libmpfr4.\n"
       ]
      },
      {
       "output_type": "stream",
       "stream": "stdout",
       "text": [
        "[ubuntu@ec2-54-225-5-82.compute-1.amazonaws.com] out: "
       ]
      },
      {
       "output_type": "stream",
       "stream": "stdout",
       "text": [
        "Unpacking libmpfr4 (from .../libmpfr4_3.1.0-3ubuntu2_amd64.deb) ...\n"
       ]
      },
      {
       "output_type": "stream",
       "stream": "stdout",
       "text": [
        "[ubuntu@ec2-54-225-5-82.compute-1.amazonaws.com] out: "
       ]
      },
      {
       "output_type": "stream",
       "stream": "stdout",
       "text": [
        "Selecting previously unselected package libquadmath0.\n"
       ]
      },
      {
       "output_type": "stream",
       "stream": "stdout",
       "text": [
        "[ubuntu@ec2-54-225-5-82.compute-1.amazonaws.com] out: "
       ]
      },
      {
       "output_type": "stream",
       "stream": "stdout",
       "text": [
        "Unpacking libquadmath0 (from .../libquadmath0_4.6.3-1ubuntu5_amd64.deb) ...\n"
       ]
      },
      {
       "output_type": "stream",
       "stream": "stdout",
       "text": [
        "[ubuntu@ec2-54-225-5-82.compute-1.amazonaws.com] out: "
       ]
      },
      {
       "output_type": "stream",
       "stream": "stdout",
       "text": [
        "Selecting previously unselected package libmpc2.\n"
       ]
      },
      {
       "output_type": "stream",
       "stream": "stdout",
       "text": [
        "[ubuntu@ec2-54-225-5-82.compute-1.amazonaws.com] out: "
       ]
      },
      {
       "output_type": "stream",
       "stream": "stdout",
       "text": [
        "Unpacking libmpc2 (from .../libmpc2_0.9-4_amd64.deb) ...\n"
       ]
      },
      {
       "output_type": "stream",
       "stream": "stdout",
       "text": [
        "[ubuntu@ec2-54-225-5-82.compute-1.amazonaws.com] out: "
       ]
      },
      {
       "output_type": "stream",
       "stream": "stdout",
       "text": [
        "Selecting previously unselected package binutils.\n"
       ]
      },
      {
       "output_type": "stream",
       "stream": "stdout",
       "text": [
        "[ubuntu@ec2-54-225-5-82.compute-1.amazonaws.com] out: "
       ]
      },
      {
       "output_type": "stream",
       "stream": "stdout",
       "text": [
        "Unpacking binutils (from .../binutils_2.22-6ubuntu1_amd64.deb) ...\n"
       ]
      },
      {
       "output_type": "stream",
       "stream": "stdout",
       "text": [
        "[ubuntu@ec2-54-225-5-82.compute-1.amazonaws.com] out: "
       ]
      },
      {
       "output_type": "stream",
       "stream": "stdout",
       "text": [
        "Selecting previously unselected package cpp-4.6.\n"
       ]
      },
      {
       "output_type": "stream",
       "stream": "stdout",
       "text": [
        "[ubuntu@ec2-54-225-5-82.compute-1.amazonaws.com] out: "
       ]
      },
      {
       "output_type": "stream",
       "stream": "stdout",
       "text": [
        "Unpacking cpp-4.6 (from .../cpp-4.6_4.6.3-1ubuntu5_amd64.deb) ...\n"
       ]
      },
      {
       "output_type": "stream",
       "stream": "stdout",
       "text": [
        "[ubuntu@ec2-54-225-5-82.compute-1.amazonaws.com] out: "
       ]
      },
      {
       "output_type": "stream",
       "stream": "stdout",
       "text": [
        "Selecting previously unselected package cpp.\n"
       ]
      },
      {
       "output_type": "stream",
       "stream": "stdout",
       "text": [
        "[ubuntu@ec2-54-225-5-82.compute-1.amazonaws.com] out: "
       ]
      },
      {
       "output_type": "stream",
       "stream": "stdout",
       "text": [
        "Unpacking cpp (from .../cpp_4%3a4.6.3-1ubuntu5_amd64.deb) ...\n"
       ]
      },
      {
       "output_type": "stream",
       "stream": "stdout",
       "text": [
        "[ubuntu@ec2-54-225-5-82.compute-1.amazonaws.com] out: "
       ]
      },
      {
       "output_type": "stream",
       "stream": "stdout",
       "text": [
        "Selecting previously unselected package gcc-4.6.\n"
       ]
      },
      {
       "output_type": "stream",
       "stream": "stdout",
       "text": [
        "[ubuntu@ec2-54-225-5-82.compute-1.amazonaws.com] out: "
       ]
      },
      {
       "output_type": "stream",
       "stream": "stdout",
       "text": [
        "Unpacking gcc-4.6 (from .../gcc-4.6_4.6.3-1ubuntu5_amd64.deb) ...\n"
       ]
      },
      {
       "output_type": "stream",
       "stream": "stdout",
       "text": [
        "[ubuntu@ec2-54-225-5-82.compute-1.amazonaws.com] out: "
       ]
      },
      {
       "output_type": "stream",
       "stream": "stdout",
       "text": [
        "Selecting previously unselected package gcc.\n"
       ]
      },
      {
       "output_type": "stream",
       "stream": "stdout",
       "text": [
        "[ubuntu@ec2-54-225-5-82.compute-1.amazonaws.com] out: "
       ]
      },
      {
       "output_type": "stream",
       "stream": "stdout",
       "text": [
        "Unpacking gcc (from .../gcc_4%3a4.6.3-1ubuntu5_amd64.deb) ...\n"
       ]
      },
      {
       "output_type": "stream",
       "stream": "stdout",
       "text": [
        "[ubuntu@ec2-54-225-5-82.compute-1.amazonaws.com] out: "
       ]
      },
      {
       "output_type": "stream",
       "stream": "stdout",
       "text": [
        "Selecting previously unselected package libc-dev-bin.\n"
       ]
      },
      {
       "output_type": "stream",
       "stream": "stdout",
       "text": [
        "[ubuntu@ec2-54-225-5-82.compute-1.amazonaws.com] out: "
       ]
      },
      {
       "output_type": "stream",
       "stream": "stdout",
       "text": [
        "Unpacking libc-dev-bin (from .../libc-dev-bin_2.15-0ubuntu10.4_amd64.deb) ...\n"
       ]
      },
      {
       "output_type": "stream",
       "stream": "stdout",
       "text": [
        "[ubuntu@ec2-54-225-5-82.compute-1.amazonaws.com] out: "
       ]
      },
      {
       "output_type": "stream",
       "stream": "stdout",
       "text": [
        "Selecting previously unselected package linux-libc-dev.\n"
       ]
      },
      {
       "output_type": "stream",
       "stream": "stdout",
       "text": [
        "[ubuntu@ec2-54-225-5-82.compute-1.amazonaws.com] out: "
       ]
      },
      {
       "output_type": "stream",
       "stream": "stdout",
       "text": [
        "Unpacking linux-libc-dev (from .../linux-libc-dev_3.2.0-44.69_amd64.deb) ...\n"
       ]
      },
      {
       "output_type": "stream",
       "stream": "stdout",
       "text": [
        "[ubuntu@ec2-54-225-5-82.compute-1.amazonaws.com] out: "
       ]
      },
      {
       "output_type": "stream",
       "stream": "stdout",
       "text": [
        "Selecting previously unselected package libc6-dev.\n"
       ]
      },
      {
       "output_type": "stream",
       "stream": "stdout",
       "text": [
        "[ubuntu@ec2-54-225-5-82.compute-1.amazonaws.com] out: "
       ]
      },
      {
       "output_type": "stream",
       "stream": "stdout",
       "text": [
        "Unpacking libc6-dev (from .../libc6-dev_2.15-0ubuntu10.4_amd64.deb) ...\n"
       ]
      },
      {
       "output_type": "stream",
       "stream": "stdout",
       "text": [
        "[ubuntu@ec2-54-225-5-82.compute-1.amazonaws.com] out: "
       ]
      },
      {
       "output_type": "stream",
       "stream": "stdout",
       "text": [
        "Selecting previously unselected package libexpat1-dev.\n"
       ]
      },
      {
       "output_type": "stream",
       "stream": "stdout",
       "text": [
        "[ubuntu@ec2-54-225-5-82.compute-1.amazonaws.com] out: "
       ]
      },
      {
       "output_type": "stream",
       "stream": "stdout",
       "text": [
        "Unpacking libexpat1-dev (from .../libexpat1-dev_2.0.1-7.2ubuntu1.1_amd64.deb) ...\n"
       ]
      },
      {
       "output_type": "stream",
       "stream": "stdout",
       "text": [
        "[ubuntu@ec2-54-225-5-82.compute-1.amazonaws.com] out: "
       ]
      },
      {
       "output_type": "stream",
       "stream": "stdout",
       "text": [
        "Selecting previously unselected package zlib1g-dev.\n"
       ]
      },
      {
       "output_type": "stream",
       "stream": "stdout",
       "text": [
        "[ubuntu@ec2-54-225-5-82.compute-1.amazonaws.com] out: "
       ]
      },
      {
       "output_type": "stream",
       "stream": "stdout",
       "text": [
        "Unpacking zlib1g-dev (from .../zlib1g-dev_1%3a1.2.3.4.dfsg-3ubuntu4_amd64.deb) ...\n"
       ]
      },
      {
       "output_type": "stream",
       "stream": "stdout",
       "text": [
        "[ubuntu@ec2-54-225-5-82.compute-1.amazonaws.com] out: "
       ]
      },
      {
       "output_type": "stream",
       "stream": "stdout",
       "text": [
        "Selecting previously unselected package libssl-dev.\n"
       ]
      },
      {
       "output_type": "stream",
       "stream": "stdout",
       "text": [
        "[ubuntu@ec2-54-225-5-82.compute-1.amazonaws.com] out: "
       ]
      },
      {
       "output_type": "stream",
       "stream": "stdout",
       "text": [
        "Unpacking libssl-dev (from .../libssl-dev_1.0.1-4ubuntu5.9_amd64.deb) ...\n"
       ]
      },
      {
       "output_type": "stream",
       "stream": "stdout",
       "text": [
        "[ubuntu@ec2-54-225-5-82.compute-1.amazonaws.com] out: "
       ]
      },
      {
       "output_type": "stream",
       "stream": "stdout",
       "text": [
        "Selecting previously unselected package libssl-doc.\n"
       ]
      },
      {
       "output_type": "stream",
       "stream": "stdout",
       "text": [
        "[ubuntu@ec2-54-225-5-82.compute-1.amazonaws.com] out: "
       ]
      },
      {
       "output_type": "stream",
       "stream": "stdout",
       "text": [
        "Unpacking libssl-doc (from .../libssl-doc_1.0.1-4ubuntu5.9_all.deb) ...\n"
       ]
      },
      {
       "output_type": "stream",
       "stream": "stdout",
       "text": [
        "[ubuntu@ec2-54-225-5-82.compute-1.amazonaws.com] out: "
       ]
      },
      {
       "output_type": "stream",
       "stream": "stdout",
       "text": [
        "Selecting previously unselected package manpages-dev.\n"
       ]
      },
      {
       "output_type": "stream",
       "stream": "stdout",
       "text": [
        "[ubuntu@ec2-54-225-5-82.compute-1.amazonaws.com] out: "
       ]
      },
      {
       "output_type": "stream",
       "stream": "stdout",
       "text": [
        "Unpacking manpages-dev (from .../manpages-dev_3.35-0.1ubuntu1_all.deb) ...\n"
       ]
      },
      {
       "output_type": "stream",
       "stream": "stdout",
       "text": [
        "[ubuntu@ec2-54-225-5-82.compute-1.amazonaws.com] out: "
       ]
      },
      {
       "output_type": "stream",
       "stream": "stdout",
       "text": [
        "Selecting previously unselected package python2.7-dev.\n"
       ]
      },
      {
       "output_type": "stream",
       "stream": "stdout",
       "text": [
        "[ubuntu@ec2-54-225-5-82.compute-1.amazonaws.com] out: "
       ]
      },
      {
       "output_type": "stream",
       "stream": "stdout",
       "text": [
        "Unpacking python2.7-dev (from .../python2.7-dev_2.7.3-0ubuntu3.1_amd64.deb) ...\n"
       ]
      },
      {
       "output_type": "stream",
       "stream": "stdout",
       "text": [
        "[ubuntu@ec2-54-225-5-82.compute-1.amazonaws.com] out: "
       ]
      },
      {
       "output_type": "stream",
       "stream": "stdout",
       "text": [
        "Selecting previously unselected package python-dev.\n"
       ]
      },
      {
       "output_type": "stream",
       "stream": "stdout",
       "text": [
        "[ubuntu@ec2-54-225-5-82.compute-1.amazonaws.com] out: "
       ]
      },
      {
       "output_type": "stream",
       "stream": "stdout",
       "text": [
        "Unpacking python-dev (from .../python-dev_2.7.3-0ubuntu2_amd64.deb) ...\n"
       ]
      },
      {
       "output_type": "stream",
       "stream": "stdout",
       "text": [
        "[ubuntu@ec2-54-225-5-82.compute-1.amazonaws.com] out: "
       ]
      },
      {
       "output_type": "stream",
       "stream": "stdout",
       "text": [
        "Processing triggers for man-db ...\n"
       ]
      },
      {
       "output_type": "stream",
       "stream": "stdout",
       "text": [
        "[ubuntu@ec2-54-225-5-82.compute-1.amazonaws.com] out: "
       ]
      },
      {
       "output_type": "stream",
       "stream": "stdout",
       "text": [
        "Setting up libgomp1 (4.6.3-1ubuntu5) ...\n"
       ]
      },
      {
       "output_type": "stream",
       "stream": "stdout",
       "text": [
        "[ubuntu@ec2-54-225-5-82.compute-1.amazonaws.com] out: "
       ]
      },
      {
       "output_type": "stream",
       "stream": "stdout",
       "text": [
        "Setting up libmpfr4 (3.1.0-3ubuntu2) ...\n"
       ]
      },
      {
       "output_type": "stream",
       "stream": "stdout",
       "text": [
        "[ubuntu@ec2-54-225-5-82.compute-1.amazonaws.com] out: "
       ]
      },
      {
       "output_type": "stream",
       "stream": "stdout",
       "text": [
        "Setting up libquadmath0 (4.6.3-1ubuntu5) ...\n"
       ]
      },
      {
       "output_type": "stream",
       "stream": "stdout",
       "text": [
        "[ubuntu@ec2-54-225-5-82.compute-1.amazonaws.com] out: "
       ]
      },
      {
       "output_type": "stream",
       "stream": "stdout",
       "text": [
        "Setting up libmpc2 (0.9-4) ...\n"
       ]
      },
      {
       "output_type": "stream",
       "stream": "stdout",
       "text": [
        "[ubuntu@ec2-54-225-5-82.compute-1.amazonaws.com] out: "
       ]
      },
      {
       "output_type": "stream",
       "stream": "stdout",
       "text": [
        "Setting up binutils (2.22-6ubuntu1) ...\n"
       ]
      },
      {
       "output_type": "stream",
       "stream": "stdout",
       "text": [
        "[ubuntu@ec2-54-225-5-82.compute-1.amazonaws.com] out: "
       ]
      },
      {
       "output_type": "stream",
       "stream": "stdout",
       "text": [
        "Setting up cpp-4.6 (4.6.3-1ubuntu5) ...\n"
       ]
      },
      {
       "output_type": "stream",
       "stream": "stdout",
       "text": [
        "[ubuntu@ec2-54-225-5-82.compute-1.amazonaws.com] out: "
       ]
      },
      {
       "output_type": "stream",
       "stream": "stdout",
       "text": [
        "Setting up cpp (4:4.6.3-1ubuntu5) ...\n"
       ]
      },
      {
       "output_type": "stream",
       "stream": "stdout",
       "text": [
        "[ubuntu@ec2-54-225-5-82.compute-1.amazonaws.com] out: "
       ]
      },
      {
       "output_type": "stream",
       "stream": "stdout",
       "text": [
        "Setting up gcc-4.6 (4.6.3-1ubuntu5) ...\n"
       ]
      },
      {
       "output_type": "stream",
       "stream": "stdout",
       "text": [
        "[ubuntu@ec2-54-225-5-82.compute-1.amazonaws.com] out: "
       ]
      },
      {
       "output_type": "stream",
       "stream": "stdout",
       "text": [
        "Setting up gcc (4:4.6.3-1ubuntu5) ...\n"
       ]
      },
      {
       "output_type": "stream",
       "stream": "stdout",
       "text": [
        "[ubuntu@ec2-54-225-5-82.compute-1.amazonaws.com] out: "
       ]
      },
      {
       "output_type": "stream",
       "stream": "stdout",
       "text": [
        "Setting up libc-dev-bin (2.15-0ubuntu10.4) ...\n"
       ]
      },
      {
       "output_type": "stream",
       "stream": "stdout",
       "text": [
        "[ubuntu@ec2-54-225-5-82.compute-1.amazonaws.com] out: "
       ]
      },
      {
       "output_type": "stream",
       "stream": "stdout",
       "text": [
        "Setting up linux-libc-dev (3.2.0-44.69) ...\n"
       ]
      },
      {
       "output_type": "stream",
       "stream": "stdout",
       "text": [
        "[ubuntu@ec2-54-225-5-82.compute-1.amazonaws.com] out: "
       ]
      },
      {
       "output_type": "stream",
       "stream": "stdout",
       "text": [
        "Setting up libc6-dev (2.15-0ubuntu10.4) ...\n"
       ]
      },
      {
       "output_type": "stream",
       "stream": "stdout",
       "text": [
        "[ubuntu@ec2-54-225-5-82.compute-1.amazonaws.com] out: "
       ]
      },
      {
       "output_type": "stream",
       "stream": "stdout",
       "text": [
        "Setting up libexpat1-dev (2.0.1-7.2ubuntu1.1) ...\n"
       ]
      },
      {
       "output_type": "stream",
       "stream": "stdout",
       "text": [
        "[ubuntu@ec2-54-225-5-82.compute-1.amazonaws.com] out: "
       ]
      },
      {
       "output_type": "stream",
       "stream": "stdout",
       "text": [
        "Setting up zlib1g-dev (1:1.2.3.4.dfsg-3ubuntu4) ...\n"
       ]
      },
      {
       "output_type": "stream",
       "stream": "stdout",
       "text": [
        "[ubuntu@ec2-54-225-5-82.compute-1.amazonaws.com] out: "
       ]
      },
      {
       "output_type": "stream",
       "stream": "stdout",
       "text": [
        "Setting up libssl-dev (1.0.1-4ubuntu5.9) ...\n"
       ]
      },
      {
       "output_type": "stream",
       "stream": "stdout",
       "text": [
        "[ubuntu@ec2-54-225-5-82.compute-1.amazonaws.com] out: "
       ]
      },
      {
       "output_type": "stream",
       "stream": "stdout",
       "text": [
        "Setting up libssl-doc (1.0.1-4ubuntu5.9) ...\n"
       ]
      },
      {
       "output_type": "stream",
       "stream": "stdout",
       "text": [
        "[ubuntu@ec2-54-225-5-82.compute-1.amazonaws.com] out: "
       ]
      },
      {
       "output_type": "stream",
       "stream": "stdout",
       "text": [
        "Setting up manpages-dev (3.35-0.1ubuntu1) ...\n"
       ]
      },
      {
       "output_type": "stream",
       "stream": "stdout",
       "text": [
        "[ubuntu@ec2-54-225-5-82.compute-1.amazonaws.com] out: "
       ]
      },
      {
       "output_type": "stream",
       "stream": "stdout",
       "text": [
        "Setting up python2.7-dev (2.7.3-0ubuntu3.1) ...\n"
       ]
      },
      {
       "output_type": "stream",
       "stream": "stdout",
       "text": [
        "[ubuntu@ec2-54-225-5-82.compute-1.amazonaws.com] out: "
       ]
      },
      {
       "output_type": "stream",
       "stream": "stdout",
       "text": [
        "Setting up python-dev (2.7.3-0ubuntu2) ...\n"
       ]
      },
      {
       "output_type": "stream",
       "stream": "stdout",
       "text": [
        "[ubuntu@ec2-54-225-5-82.compute-1.amazonaws.com] out: "
       ]
      },
      {
       "output_type": "stream",
       "stream": "stdout",
       "text": [
        "Processing triggers for libc-bin ...\n"
       ]
      },
      {
       "output_type": "stream",
       "stream": "stdout",
       "text": [
        "[ubuntu@ec2-54-225-5-82.compute-1.amazonaws.com] out: "
       ]
      },
      {
       "output_type": "stream",
       "stream": "stdout",
       "text": [
        "ldconfig deferred processing now taking place\n"
       ]
      },
      {
       "output_type": "stream",
       "stream": "stdout",
       "text": [
        "[ubuntu@ec2-54-225-5-82.compute-1.amazonaws.com] out: "
       ]
      },
      {
       "output_type": "stream",
       "stream": "stdout",
       "text": [
        "\n"
       ]
      },
      {
       "output_type": "stream",
       "stream": "stdout",
       "text": [
        "[ubuntu@ec2-54-225-5-82.compute-1.amazonaws.com] out: "
       ]
      },
      {
       "output_type": "stream",
       "stream": "stdout",
       "text": [
        "\n"
       ]
      },
      {
       "output_type": "stream",
       "stream": "stdout",
       "text": [
        "[ubuntu@ec2-54-225-5-82.compute-1.amazonaws.com] out: "
       ]
      },
      {
       "output_type": "stream",
       "stream": "stdout",
       "text": [
        "[  0%] Reading package lists\n"
       ]
      },
      {
       "output_type": "stream",
       "stream": "stdout",
       "text": [
        "[ubuntu@ec2-54-225-5-82.compute-1.amazonaws.com] out: "
       ]
      },
      {
       "output_type": "stream",
       "stream": "stdout",
       "text": [
        "                            \n"
       ]
      },
      {
       "output_type": "stream",
       "stream": "stdout",
       "text": [
        "[ubuntu@ec2-54-225-5-82.compute-1.amazonaws.com] out: "
       ]
      },
      {
       "output_type": "stream",
       "stream": "stdout",
       "text": [
        "\n"
       ]
      },
      {
       "output_type": "stream",
       "stream": "stdout",
       "text": [
        "[ubuntu@ec2-54-225-5-82.compute-1.amazonaws.com] out: "
       ]
      },
      {
       "output_type": "stream",
       "stream": "stdout",
       "text": [
        "\n"
       ]
      },
      {
       "output_type": "stream",
       "stream": "stdout",
       "text": [
        "[ubuntu@ec2-54-225-5-82.compute-1.amazonaws.com] out: "
       ]
      },
      {
       "output_type": "stream",
       "stream": "stdout",
       "text": [
        "[  0%] Building dependency tree"
       ]
      },
      {
       "output_type": "stream",
       "stream": "stdout",
       "text": [
        "\n"
       ]
      },
      {
       "output_type": "stream",
       "stream": "stdout",
       "text": [
        "[ubuntu@ec2-54-225-5-82.compute-1.amazonaws.com] out: "
       ]
      },
      {
       "output_type": "stream",
       "stream": "stdout",
       "text": [
        "                               \n"
       ]
      },
      {
       "output_type": "stream",
       "stream": "stdout",
       "text": [
        "[ubuntu@ec2-54-225-5-82.compute-1.amazonaws.com] out: "
       ]
      },
      {
       "output_type": "stream",
       "stream": "stdout",
       "text": [
        "[100%] Building dependency tree"
       ]
      },
      {
       "output_type": "stream",
       "stream": "stdout",
       "text": [
        "\n"
       ]
      },
      {
       "output_type": "stream",
       "stream": "stdout",
       "text": [
        "[ubuntu@ec2-54-225-5-82.compute-1.amazonaws.com] out: "
       ]
      },
      {
       "output_type": "stream",
       "stream": "stdout",
       "text": [
        "                               \n"
       ]
      },
      {
       "output_type": "stream",
       "stream": "stdout",
       "text": [
        "[ubuntu@ec2-54-225-5-82.compute-1.amazonaws.com] out: "
       ]
      },
      {
       "output_type": "stream",
       "stream": "stdout",
       "text": [
        "[  0%] Reading state information\n"
       ]
      },
      {
       "output_type": "stream",
       "stream": "stdout",
       "text": [
        "[ubuntu@ec2-54-225-5-82.compute-1.amazonaws.com] out: "
       ]
      },
      {
       "output_type": "stream",
       "stream": "stdout",
       "text": [
        "                                \n"
       ]
      },
      {
       "output_type": "stream",
       "stream": "stdout",
       "text": [
        "[ubuntu@ec2-54-225-5-82.compute-1.amazonaws.com] out: "
       ]
      },
      {
       "output_type": "stream",
       "stream": "stdout",
       "text": [
        "[100%] Reading state information\n"
       ]
      },
      {
       "output_type": "stream",
       "stream": "stdout",
       "text": [
        "[ubuntu@ec2-54-225-5-82.compute-1.amazonaws.com] out: "
       ]
      },
      {
       "output_type": "stream",
       "stream": "stdout",
       "text": [
        "                                \n"
       ]
      },
      {
       "output_type": "stream",
       "stream": "stdout",
       "text": [
        "[ubuntu@ec2-54-225-5-82.compute-1.amazonaws.com] out: "
       ]
      },
      {
       "output_type": "stream",
       "stream": "stdout",
       "text": [
        "\n"
       ]
      },
      {
       "output_type": "stream",
       "stream": "stdout",
       "text": [
        "[ubuntu@ec2-54-225-5-82.compute-1.amazonaws.com] out: "
       ]
      },
      {
       "output_type": "stream",
       "stream": "stdout",
       "text": [
        "\n"
       ]
      },
      {
       "output_type": "stream",
       "stream": "stdout",
       "text": [
        "[ubuntu@ec2-54-225-5-82.compute-1.amazonaws.com] out: "
       ]
      },
      {
       "output_type": "stream",
       "stream": "stdout",
       "text": [
        "[  0%] Reading extended state information"
       ]
      },
      {
       "output_type": "stream",
       "stream": "stdout",
       "text": [
        "\n"
       ]
      },
      {
       "output_type": "stream",
       "stream": "stdout",
       "text": [
        "[ubuntu@ec2-54-225-5-82.compute-1.amazonaws.com] out: "
       ]
      },
      {
       "output_type": "stream",
       "stream": "stdout",
       "text": [
        "                                         \n"
       ]
      },
      {
       "output_type": "stream",
       "stream": "stdout",
       "text": [
        "[ubuntu@ec2-54-225-5-82.compute-1.amazonaws.com] out: "
       ]
      },
      {
       "output_type": "stream",
       "stream": "stdout",
       "text": [
        "[100%] Reading extended state information"
       ]
      },
      {
       "output_type": "stream",
       "stream": "stdout",
       "text": [
        "\n"
       ]
      },
      {
       "output_type": "stream",
       "stream": "stdout",
       "text": [
        "[ubuntu@ec2-54-225-5-82.compute-1.amazonaws.com] out: "
       ]
      },
      {
       "output_type": "stream",
       "stream": "stdout",
       "text": [
        "                                         \n"
       ]
      },
      {
       "output_type": "stream",
       "stream": "stdout",
       "text": [
        "[ubuntu@ec2-54-225-5-82.compute-1.amazonaws.com] out: "
       ]
      },
      {
       "output_type": "stream",
       "stream": "stdout",
       "text": [
        "\n"
       ]
      },
      {
       "output_type": "stream",
       "stream": "stdout",
       "text": [
        "[ubuntu@ec2-54-225-5-82.compute-1.amazonaws.com] out: "
       ]
      },
      {
       "output_type": "stream",
       "stream": "stdout",
       "text": [
        "\n"
       ]
      },
      {
       "output_type": "stream",
       "stream": "stdout",
       "text": [
        "[ubuntu@ec2-54-225-5-82.compute-1.amazonaws.com] out: "
       ]
      },
      {
       "output_type": "stream",
       "stream": "stdout",
       "text": [
        "[  0%] Initializing package states"
       ]
      },
      {
       "output_type": "stream",
       "stream": "stdout",
       "text": [
        "\n"
       ]
      },
      {
       "output_type": "stream",
       "stream": "stdout",
       "text": [
        "[ubuntu@ec2-54-225-5-82.compute-1.amazonaws.com] out: "
       ]
      },
      {
       "output_type": "stream",
       "stream": "stdout",
       "text": [
        "                                  \n"
       ]
      },
      {
       "output_type": "stream",
       "stream": "stdout",
       "text": [
        "[ubuntu@ec2-54-225-5-82.compute-1.amazonaws.com] out: "
       ]
      },
      {
       "output_type": "stream",
       "stream": "stdout",
       "text": [
        "\n"
       ]
      },
      {
       "output_type": "stream",
       "stream": "stdout",
       "text": [
        "[ubuntu@ec2-54-225-5-82.compute-1.amazonaws.com] out: "
       ]
      },
      {
       "output_type": "stream",
       "stream": "stdout",
       "text": [
        "\n"
       ]
      },
      {
       "output_type": "stream",
       "stream": "stdout",
       "text": [
        "[ubuntu@ec2-54-225-5-82.compute-1.amazonaws.com] out: "
       ]
      },
      {
       "output_type": "stream",
       "stream": "stdout",
       "text": [
        "[  0%] Writing extended state information"
       ]
      },
      {
       "output_type": "stream",
       "stream": "stdout",
       "text": [
        "\n"
       ]
      },
      {
       "output_type": "stream",
       "stream": "stdout",
       "text": [
        "[ubuntu@ec2-54-225-5-82.compute-1.amazonaws.com] out: "
       ]
      },
      {
       "output_type": "stream",
       "stream": "stdout",
       "text": [
        "                                         \n"
       ]
      },
      {
       "output_type": "stream",
       "stream": "stdout",
       "text": [
        "[ubuntu@ec2-54-225-5-82.compute-1.amazonaws.com] out: "
       ]
      },
      {
       "output_type": "stream",
       "stream": "stdout",
       "text": [
        "[100%] Writing extended state information"
       ]
      },
      {
       "output_type": "stream",
       "stream": "stdout",
       "text": [
        "\n"
       ]
      },
      {
       "output_type": "stream",
       "stream": "stdout",
       "text": [
        "[ubuntu@ec2-54-225-5-82.compute-1.amazonaws.com] out: "
       ]
      },
      {
       "output_type": "stream",
       "stream": "stdout",
       "text": [
        "                                         \n"
       ]
      },
      {
       "output_type": "stream",
       "stream": "stdout",
       "text": [
        "[ubuntu@ec2-54-225-5-82.compute-1.amazonaws.com] out: "
       ]
      },
      {
       "output_type": "stream",
       "stream": "stdout",
       "text": [
        "\n"
       ]
      },
      {
       "output_type": "stream",
       "stream": "stdout",
       "text": [
        "[ubuntu@ec2-54-225-5-82.compute-1.amazonaws.com] out: "
       ]
      },
      {
       "output_type": "stream",
       "stream": "stdout",
       "text": [
        "\n"
       ]
      },
      {
       "output_type": "stream",
       "stream": "stdout",
       "text": [
        "\n",
        "[ubuntu@ec2-54-225-5-82.compute-1.amazonaws.com] sudo: DEBIAN_FRONTEND='noninteractive' apt-get install -y -q --force-yes postfix\n",
        "[ubuntu@ec2-54-225-5-82.compute-1.amazonaws.com] out: "
       ]
      },
      {
       "output_type": "stream",
       "stream": "stdout",
       "text": [
        "Reading package lists..."
       ]
      },
      {
       "output_type": "stream",
       "stream": "stdout",
       "text": [
        "\n"
       ]
      },
      {
       "output_type": "stream",
       "stream": "stdout",
       "text": [
        "[ubuntu@ec2-54-225-5-82.compute-1.amazonaws.com] out: "
       ]
      },
      {
       "output_type": "stream",
       "stream": "stdout",
       "text": [
        "Building dependency tree..."
       ]
      },
      {
       "output_type": "stream",
       "stream": "stdout",
       "text": [
        "\n"
       ]
      },
      {
       "output_type": "stream",
       "stream": "stdout",
       "text": [
        "[ubuntu@ec2-54-225-5-82.compute-1.amazonaws.com] out: "
       ]
      },
      {
       "output_type": "stream",
       "stream": "stdout",
       "text": [
        "Reading state information...\n"
       ]
      },
      {
       "output_type": "stream",
       "stream": "stdout",
       "text": [
        "[ubuntu@ec2-54-225-5-82.compute-1.amazonaws.com] out: "
       ]
      },
      {
       "output_type": "stream",
       "stream": "stdout",
       "text": [
        "Suggested packages:\n"
       ]
      },
      {
       "output_type": "stream",
       "stream": "stdout",
       "text": [
        "[ubuntu@ec2-54-225-5-82.compute-1.amazonaws.com] out: "
       ]
      },
      {
       "output_type": "stream",
       "stream": "stdout",
       "text": [
        "  procmail postfix-mysql postfix-pgsql postfix-ldap postfix-pcre sasl2-bin\n"
       ]
      },
      {
       "output_type": "stream",
       "stream": "stdout",
       "text": [
        "[ubuntu@ec2-54-225-5-82.compute-1.amazonaws.com] out: "
       ]
      },
      {
       "output_type": "stream",
       "stream": "stdout",
       "text": [
        "  dovecot-common postfix-cdb mail-reader postfix-doc\n"
       ]
      },
      {
       "output_type": "stream",
       "stream": "stdout",
       "text": [
        "[ubuntu@ec2-54-225-5-82.compute-1.amazonaws.com] out: "
       ]
      },
      {
       "output_type": "stream",
       "stream": "stdout",
       "text": [
        "The following NEW packages will be installed:\n"
       ]
      },
      {
       "output_type": "stream",
       "stream": "stdout",
       "text": [
        "[ubuntu@ec2-54-225-5-82.compute-1.amazonaws.com] out: "
       ]
      },
      {
       "output_type": "stream",
       "stream": "stdout",
       "text": [
        "  postfix\n"
       ]
      },
      {
       "output_type": "stream",
       "stream": "stdout",
       "text": [
        "[ubuntu@ec2-54-225-5-82.compute-1.amazonaws.com] out: "
       ]
      },
      {
       "output_type": "stream",
       "stream": "stdout",
       "text": [
        "0 upgraded, 1 newly installed, 0 to remove and 0 not upgraded.\n"
       ]
      },
      {
       "output_type": "stream",
       "stream": "stdout",
       "text": [
        "[ubuntu@ec2-54-225-5-82.compute-1.amazonaws.com] out: "
       ]
      },
      {
       "output_type": "stream",
       "stream": "stdout",
       "text": [
        "Need to get 1,320 kB of archives.\n"
       ]
      },
      {
       "output_type": "stream",
       "stream": "stdout",
       "text": [
        "[ubuntu@ec2-54-225-5-82.compute-1.amazonaws.com] out: "
       ]
      },
      {
       "output_type": "stream",
       "stream": "stdout",
       "text": [
        "After this operation, 3,454 kB of additional disk space will be used.\n"
       ]
      },
      {
       "output_type": "stream",
       "stream": "stdout",
       "text": [
        "[ubuntu@ec2-54-225-5-82.compute-1.amazonaws.com] out: "
       ]
      },
      {
       "output_type": "stream",
       "stream": "stdout",
       "text": [
        "Get:1 http://us-east-1.ec2.archive.ubuntu.com/ubuntu/ precise-updates/main postfix amd64 2.9.6-1~12.04.1 [1,320 kB]\n"
       ]
      },
      {
       "output_type": "stream",
       "stream": "stdout",
       "text": [
        "[ubuntu@ec2-54-225-5-82.compute-1.amazonaws.com] out: "
       ]
      },
      {
       "output_type": "stream",
       "stream": "stdout",
       "text": [
        "Fetched 1,320 kB in 0s (3,985 kB/s)\n"
       ]
      },
      {
       "output_type": "stream",
       "stream": "stdout",
       "text": [
        "[ubuntu@ec2-54-225-5-82.compute-1.amazonaws.com] out: "
       ]
      },
      {
       "output_type": "stream",
       "stream": "stdout",
       "text": [
        "Preconfiguring packages ...\n"
       ]
      },
      {
       "output_type": "stream",
       "stream": "stdout",
       "text": [
        "[ubuntu@ec2-54-225-5-82.compute-1.amazonaws.com] out: "
       ]
      },
      {
       "output_type": "stream",
       "stream": "stdout",
       "text": [
        "Selecting previously unselected package postfix.\n"
       ]
      },
      {
       "output_type": "stream",
       "stream": "stdout",
       "text": [
        "[ubuntu@ec2-54-225-5-82.compute-1.amazonaws.com] out: "
       ]
      },
      {
       "output_type": "stream",
       "stream": "stdout",
       "text": [
        "(Reading database ... "
       ]
      },
      {
       "output_type": "stream",
       "stream": "stdout",
       "text": [
        "\n"
       ]
      },
      {
       "output_type": "stream",
       "stream": "stdout",
       "text": [
        "[ubuntu@ec2-54-225-5-82.compute-1.amazonaws.com] out: "
       ]
      },
      {
       "output_type": "stream",
       "stream": "stdout",
       "text": [
        "(Reading database ... 5%\n"
       ]
      },
      {
       "output_type": "stream",
       "stream": "stdout",
       "text": [
        "[ubuntu@ec2-54-225-5-82.compute-1.amazonaws.com] out: "
       ]
      },
      {
       "output_type": "stream",
       "stream": "stdout",
       "text": [
        "(Reading database ... 10%\n"
       ]
      },
      {
       "output_type": "stream",
       "stream": "stdout",
       "text": [
        "[ubuntu@ec2-54-225-5-82.compute-1.amazonaws.com] out: "
       ]
      },
      {
       "output_type": "stream",
       "stream": "stdout",
       "text": [
        "(Reading database ... 15%\n"
       ]
      },
      {
       "output_type": "stream",
       "stream": "stdout",
       "text": [
        "[ubuntu@ec2-54-225-5-82.compute-1.amazonaws.com] out: "
       ]
      },
      {
       "output_type": "stream",
       "stream": "stdout",
       "text": [
        "(Reading database ... 20%\n"
       ]
      },
      {
       "output_type": "stream",
       "stream": "stdout",
       "text": [
        "[ubuntu@ec2-54-225-5-82.compute-1.amazonaws.com] out: "
       ]
      },
      {
       "output_type": "stream",
       "stream": "stdout",
       "text": [
        "(Reading database ... 25%\n"
       ]
      },
      {
       "output_type": "stream",
       "stream": "stdout",
       "text": [
        "[ubuntu@ec2-54-225-5-82.compute-1.amazonaws.com] out: "
       ]
      },
      {
       "output_type": "stream",
       "stream": "stdout",
       "text": [
        "(Reading database ... 30%\n"
       ]
      },
      {
       "output_type": "stream",
       "stream": "stdout",
       "text": [
        "[ubuntu@ec2-54-225-5-82.compute-1.amazonaws.com] out: "
       ]
      },
      {
       "output_type": "stream",
       "stream": "stdout",
       "text": [
        "(Reading database ... 35%\n"
       ]
      },
      {
       "output_type": "stream",
       "stream": "stdout",
       "text": [
        "[ubuntu@ec2-54-225-5-82.compute-1.amazonaws.com] out: "
       ]
      },
      {
       "output_type": "stream",
       "stream": "stdout",
       "text": [
        "(Reading database ... 40%\n"
       ]
      },
      {
       "output_type": "stream",
       "stream": "stdout",
       "text": [
        "[ubuntu@ec2-54-225-5-82.compute-1.amazonaws.com] out: "
       ]
      },
      {
       "output_type": "stream",
       "stream": "stdout",
       "text": [
        "(Reading database ... 45%\n"
       ]
      },
      {
       "output_type": "stream",
       "stream": "stdout",
       "text": [
        "[ubuntu@ec2-54-225-5-82.compute-1.amazonaws.com] out: "
       ]
      },
      {
       "output_type": "stream",
       "stream": "stdout",
       "text": [
        "(Reading database ... 50%\n"
       ]
      },
      {
       "output_type": "stream",
       "stream": "stdout",
       "text": [
        "[ubuntu@ec2-54-225-5-82.compute-1.amazonaws.com] out: "
       ]
      },
      {
       "output_type": "stream",
       "stream": "stdout",
       "text": [
        "(Reading database ... 55%\n"
       ]
      },
      {
       "output_type": "stream",
       "stream": "stdout",
       "text": [
        "[ubuntu@ec2-54-225-5-82.compute-1.amazonaws.com] out: "
       ]
      },
      {
       "output_type": "stream",
       "stream": "stdout",
       "text": [
        "(Reading database ... 60%\n"
       ]
      },
      {
       "output_type": "stream",
       "stream": "stdout",
       "text": [
        "[ubuntu@ec2-54-225-5-82.compute-1.amazonaws.com] out: "
       ]
      },
      {
       "output_type": "stream",
       "stream": "stdout",
       "text": [
        "(Reading database ... 65%\n"
       ]
      },
      {
       "output_type": "stream",
       "stream": "stdout",
       "text": [
        "[ubuntu@ec2-54-225-5-82.compute-1.amazonaws.com] out: "
       ]
      },
      {
       "output_type": "stream",
       "stream": "stdout",
       "text": [
        "(Reading database ... 70%\n"
       ]
      },
      {
       "output_type": "stream",
       "stream": "stdout",
       "text": [
        "[ubuntu@ec2-54-225-5-82.compute-1.amazonaws.com] out: "
       ]
      },
      {
       "output_type": "stream",
       "stream": "stdout",
       "text": [
        "(Reading database ... 75%\n"
       ]
      },
      {
       "output_type": "stream",
       "stream": "stdout",
       "text": [
        "[ubuntu@ec2-54-225-5-82.compute-1.amazonaws.com] out: "
       ]
      },
      {
       "output_type": "stream",
       "stream": "stdout",
       "text": [
        "(Reading database ... 80%\n"
       ]
      },
      {
       "output_type": "stream",
       "stream": "stdout",
       "text": [
        "[ubuntu@ec2-54-225-5-82.compute-1.amazonaws.com] out: "
       ]
      },
      {
       "output_type": "stream",
       "stream": "stdout",
       "text": [
        "(Reading database ... 85%\n"
       ]
      },
      {
       "output_type": "stream",
       "stream": "stdout",
       "text": [
        "[ubuntu@ec2-54-225-5-82.compute-1.amazonaws.com] out: "
       ]
      },
      {
       "output_type": "stream",
       "stream": "stdout",
       "text": [
        "(Reading database ... 90%\n"
       ]
      },
      {
       "output_type": "stream",
       "stream": "stdout",
       "text": [
        "[ubuntu@ec2-54-225-5-82.compute-1.amazonaws.com] out: "
       ]
      },
      {
       "output_type": "stream",
       "stream": "stdout",
       "text": [
        "(Reading database ... 95%\n"
       ]
      },
      {
       "output_type": "stream",
       "stream": "stdout",
       "text": [
        "[ubuntu@ec2-54-225-5-82.compute-1.amazonaws.com] out: "
       ]
      },
      {
       "output_type": "stream",
       "stream": "stdout",
       "text": [
        "(Reading database ... 100%\n"
       ]
      },
      {
       "output_type": "stream",
       "stream": "stdout",
       "text": [
        "[ubuntu@ec2-54-225-5-82.compute-1.amazonaws.com] out: "
       ]
      },
      {
       "output_type": "stream",
       "stream": "stdout",
       "text": [
        "(Reading database ... 77243 files and directories currently installed.)\n"
       ]
      },
      {
       "output_type": "stream",
       "stream": "stdout",
       "text": [
        "[ubuntu@ec2-54-225-5-82.compute-1.amazonaws.com] out: "
       ]
      },
      {
       "output_type": "stream",
       "stream": "stdout",
       "text": [
        "Unpacking postfix (from .../postfix_2.9.6-1~12.04.1_amd64.deb) ...\n"
       ]
      },
      {
       "output_type": "stream",
       "stream": "stdout",
       "text": [
        "[ubuntu@ec2-54-225-5-82.compute-1.amazonaws.com] out: "
       ]
      },
      {
       "output_type": "stream",
       "stream": "stdout",
       "text": [
        "Processing triggers for man-db ...\n"
       ]
      },
      {
       "output_type": "stream",
       "stream": "stdout",
       "text": [
        "[ubuntu@ec2-54-225-5-82.compute-1.amazonaws.com] out: "
       ]
      },
      {
       "output_type": "stream",
       "stream": "stdout",
       "text": [
        "Processing triggers for ureadahead ...\n"
       ]
      },
      {
       "output_type": "stream",
       "stream": "stdout",
       "text": [
        "[ubuntu@ec2-54-225-5-82.compute-1.amazonaws.com] out: "
       ]
      },
      {
       "output_type": "stream",
       "stream": "stdout",
       "text": [
        "Processing triggers for ufw ...\n"
       ]
      },
      {
       "output_type": "stream",
       "stream": "stdout",
       "text": [
        "[ubuntu@ec2-54-225-5-82.compute-1.amazonaws.com] out: "
       ]
      },
      {
       "output_type": "stream",
       "stream": "stdout",
       "text": [
        "Setting up postfix (2.9.6-1~12.04.1) ...\n"
       ]
      },
      {
       "output_type": "stream",
       "stream": "stdout",
       "text": [
        "[ubuntu@ec2-54-225-5-82.compute-1.amazonaws.com] out: "
       ]
      },
      {
       "output_type": "stream",
       "stream": "stdout",
       "text": [
        "Adding group `postfix' (GID 114) ...\n"
       ]
      },
      {
       "output_type": "stream",
       "stream": "stdout",
       "text": [
        "[ubuntu@ec2-54-225-5-82.compute-1.amazonaws.com] out: "
       ]
      },
      {
       "output_type": "stream",
       "stream": "stdout",
       "text": [
        "Done.\n"
       ]
      },
      {
       "output_type": "stream",
       "stream": "stdout",
       "text": [
        "[ubuntu@ec2-54-225-5-82.compute-1.amazonaws.com] out: "
       ]
      },
      {
       "output_type": "stream",
       "stream": "stdout",
       "text": [
        "Adding system user `postfix' (UID 107) ...\n"
       ]
      },
      {
       "output_type": "stream",
       "stream": "stdout",
       "text": [
        "[ubuntu@ec2-54-225-5-82.compute-1.amazonaws.com] out: "
       ]
      },
      {
       "output_type": "stream",
       "stream": "stdout",
       "text": [
        "Adding new user `postfix' (UID 107) with group `postfix' ...\n"
       ]
      },
      {
       "output_type": "stream",
       "stream": "stdout",
       "text": [
        "[ubuntu@ec2-54-225-5-82.compute-1.amazonaws.com] out: "
       ]
      },
      {
       "output_type": "stream",
       "stream": "stdout",
       "text": [
        "Not creating home directory `/var/spool/postfix'.\n"
       ]
      },
      {
       "output_type": "stream",
       "stream": "stdout",
       "text": [
        "[ubuntu@ec2-54-225-5-82.compute-1.amazonaws.com] out: "
       ]
      },
      {
       "output_type": "stream",
       "stream": "stdout",
       "text": [
        "Creating /etc/postfix/dynamicmaps.cf\n"
       ]
      },
      {
       "output_type": "stream",
       "stream": "stdout",
       "text": [
        "[ubuntu@ec2-54-225-5-82.compute-1.amazonaws.com] out: "
       ]
      },
      {
       "output_type": "stream",
       "stream": "stdout",
       "text": [
        "Adding tcp map entry to /etc/postfix/dynamicmaps.cf\n"
       ]
      },
      {
       "output_type": "stream",
       "stream": "stdout",
       "text": [
        "[ubuntu@ec2-54-225-5-82.compute-1.amazonaws.com] out: "
       ]
      },
      {
       "output_type": "stream",
       "stream": "stdout",
       "text": [
        "Adding sqlite map entry to /etc/postfix/dynamicmaps.cf\n"
       ]
      },
      {
       "output_type": "stream",
       "stream": "stdout",
       "text": [
        "[ubuntu@ec2-54-225-5-82.compute-1.amazonaws.com] out: "
       ]
      },
      {
       "output_type": "stream",
       "stream": "stdout",
       "text": [
        "Adding group `postdrop' (GID 115) ...\n"
       ]
      },
      {
       "output_type": "stream",
       "stream": "stdout",
       "text": [
        "[ubuntu@ec2-54-225-5-82.compute-1.amazonaws.com] out: "
       ]
      },
      {
       "output_type": "stream",
       "stream": "stdout",
       "text": [
        "Done.\n"
       ]
      },
      {
       "output_type": "stream",
       "stream": "stdout",
       "text": [
        "[ubuntu@ec2-54-225-5-82.compute-1.amazonaws.com] out: "
       ]
      },
      {
       "output_type": "stream",
       "stream": "stdout",
       "text": [
        "setting myhostname: ip-10-203-69-113.ec2.internal\n"
       ]
      },
      {
       "output_type": "stream",
       "stream": "stdout",
       "text": [
        "[ubuntu@ec2-54-225-5-82.compute-1.amazonaws.com] out: "
       ]
      },
      {
       "output_type": "stream",
       "stream": "stdout",
       "text": [
        "setting alias maps\n"
       ]
      },
      {
       "output_type": "stream",
       "stream": "stdout",
       "text": [
        "[ubuntu@ec2-54-225-5-82.compute-1.amazonaws.com] out: "
       ]
      },
      {
       "output_type": "stream",
       "stream": "stdout",
       "text": [
        "setting alias database\n"
       ]
      },
      {
       "output_type": "stream",
       "stream": "stdout",
       "text": [
        "[ubuntu@ec2-54-225-5-82.compute-1.amazonaws.com] out: "
       ]
      },
      {
       "output_type": "stream",
       "stream": "stdout",
       "text": [
        "changing /etc/mailname to ip-10-203-69-113.ec2.internal\n"
       ]
      },
      {
       "output_type": "stream",
       "stream": "stdout",
       "text": [
        "[ubuntu@ec2-54-225-5-82.compute-1.amazonaws.com] out: "
       ]
      },
      {
       "output_type": "stream",
       "stream": "stdout",
       "text": [
        "setting myorigin\n"
       ]
      },
      {
       "output_type": "stream",
       "stream": "stdout",
       "text": [
        "[ubuntu@ec2-54-225-5-82.compute-1.amazonaws.com] out: "
       ]
      },
      {
       "output_type": "stream",
       "stream": "stdout",
       "text": [
        "setting destinations: ip-10-203-69-113.ec2.internal, localhost.ec2.internal, , localhost\n"
       ]
      },
      {
       "output_type": "stream",
       "stream": "stdout",
       "text": [
        "[ubuntu@ec2-54-225-5-82.compute-1.amazonaws.com] out: "
       ]
      },
      {
       "output_type": "stream",
       "stream": "stdout",
       "text": [
        "setting relayhost: \n"
       ]
      },
      {
       "output_type": "stream",
       "stream": "stdout",
       "text": [
        "[ubuntu@ec2-54-225-5-82.compute-1.amazonaws.com] out: "
       ]
      },
      {
       "output_type": "stream",
       "stream": "stdout",
       "text": [
        "setting mynetworks: 127.0.0.0/8 [::ffff:127.0.0.0]/104 [::1]/128\n"
       ]
      },
      {
       "output_type": "stream",
       "stream": "stdout",
       "text": [
        "[ubuntu@ec2-54-225-5-82.compute-1.amazonaws.com] out: "
       ]
      },
      {
       "output_type": "stream",
       "stream": "stdout",
       "text": [
        "setting mailbox_size_limit: 0\n"
       ]
      },
      {
       "output_type": "stream",
       "stream": "stdout",
       "text": [
        "[ubuntu@ec2-54-225-5-82.compute-1.amazonaws.com] out: "
       ]
      },
      {
       "output_type": "stream",
       "stream": "stdout",
       "text": [
        "setting recipient_delimiter: +\n"
       ]
      },
      {
       "output_type": "stream",
       "stream": "stdout",
       "text": [
        "[ubuntu@ec2-54-225-5-82.compute-1.amazonaws.com] out: "
       ]
      },
      {
       "output_type": "stream",
       "stream": "stdout",
       "text": [
        "setting inet_interfaces: all\n"
       ]
      },
      {
       "output_type": "stream",
       "stream": "stdout",
       "text": [
        "[ubuntu@ec2-54-225-5-82.compute-1.amazonaws.com] out: "
       ]
      },
      {
       "output_type": "stream",
       "stream": "stdout",
       "text": [
        "/etc/aliases does not exist, creating it.\n"
       ]
      },
      {
       "output_type": "stream",
       "stream": "stdout",
       "text": [
        "[ubuntu@ec2-54-225-5-82.compute-1.amazonaws.com] out: "
       ]
      },
      {
       "output_type": "stream",
       "stream": "stdout",
       "text": [
        "WARNING: /etc/aliases exists, but does not have a root alias.\n"
       ]
      },
      {
       "output_type": "stream",
       "stream": "stdout",
       "text": [
        "[ubuntu@ec2-54-225-5-82.compute-1.amazonaws.com] out: "
       ]
      },
      {
       "output_type": "stream",
       "stream": "stdout",
       "text": [
        "\n"
       ]
      },
      {
       "output_type": "stream",
       "stream": "stdout",
       "text": [
        "[ubuntu@ec2-54-225-5-82.compute-1.amazonaws.com] out: "
       ]
      },
      {
       "output_type": "stream",
       "stream": "stdout",
       "text": [
        "Postfix is now set up with a default configuration.  If you need to make \n"
       ]
      },
      {
       "output_type": "stream",
       "stream": "stdout",
       "text": [
        "[ubuntu@ec2-54-225-5-82.compute-1.amazonaws.com] out: "
       ]
      },
      {
       "output_type": "stream",
       "stream": "stdout",
       "text": [
        "changes, edit\n"
       ]
      },
      {
       "output_type": "stream",
       "stream": "stdout",
       "text": [
        "[ubuntu@ec2-54-225-5-82.compute-1.amazonaws.com] out: "
       ]
      },
      {
       "output_type": "stream",
       "stream": "stdout",
       "text": [
        "/etc/postfix/main.cf (and others) as needed.  To view Postfix configuration\n"
       ]
      },
      {
       "output_type": "stream",
       "stream": "stdout",
       "text": [
        "[ubuntu@ec2-54-225-5-82.compute-1.amazonaws.com] out: "
       ]
      },
      {
       "output_type": "stream",
       "stream": "stdout",
       "text": [
        "values, see postconf(1).\n"
       ]
      },
      {
       "output_type": "stream",
       "stream": "stdout",
       "text": [
        "[ubuntu@ec2-54-225-5-82.compute-1.amazonaws.com] out: "
       ]
      },
      {
       "output_type": "stream",
       "stream": "stdout",
       "text": [
        "\n"
       ]
      },
      {
       "output_type": "stream",
       "stream": "stdout",
       "text": [
        "[ubuntu@ec2-54-225-5-82.compute-1.amazonaws.com] out: "
       ]
      },
      {
       "output_type": "stream",
       "stream": "stdout",
       "text": [
        "After modifying main.cf, be sure to run '/etc/init.d/postfix reload'.\n"
       ]
      },
      {
       "output_type": "stream",
       "stream": "stdout",
       "text": [
        "[ubuntu@ec2-54-225-5-82.compute-1.amazonaws.com] out: "
       ]
      },
      {
       "output_type": "stream",
       "stream": "stdout",
       "text": [
        "\n"
       ]
      },
      {
       "output_type": "stream",
       "stream": "stdout",
       "text": [
        "[ubuntu@ec2-54-225-5-82.compute-1.amazonaws.com] out: "
       ]
      },
      {
       "output_type": "stream",
       "stream": "stdout",
       "text": [
        "Running newaliases\n"
       ]
      },
      {
       "output_type": "stream",
       "stream": "stdout",
       "text": [
        "[ubuntu@ec2-54-225-5-82.compute-1.amazonaws.com] out: "
       ]
      },
      {
       "output_type": "stream",
       "stream": "stdout",
       "text": [
        " * Stopping Postfix Mail Transport Agent postfix\n"
       ]
      },
      {
       "output_type": "stream",
       "stream": "stdout",
       "text": [
        "[ubuntu@ec2-54-225-5-82.compute-1.amazonaws.com] out: "
       ]
      },
      {
       "output_type": "stream",
       "stream": "stdout",
       "text": [
        "   ...done.\n"
       ]
      },
      {
       "output_type": "stream",
       "stream": "stdout",
       "text": [
        "[ubuntu@ec2-54-225-5-82.compute-1.amazonaws.com] out: "
       ]
      },
      {
       "output_type": "stream",
       "stream": "stdout",
       "text": [
        " * Starting Postfix Mail Transport Agent postfix\n"
       ]
      },
      {
       "output_type": "stream",
       "stream": "stdout",
       "text": [
        "[ubuntu@ec2-54-225-5-82.compute-1.amazonaws.com] out: "
       ]
      },
      {
       "output_type": "stream",
       "stream": "stdout",
       "text": [
        "   ...done.\n"
       ]
      },
      {
       "output_type": "stream",
       "stream": "stdout",
       "text": [
        "[ubuntu@ec2-54-225-5-82.compute-1.amazonaws.com] out: "
       ]
      },
      {
       "output_type": "stream",
       "stream": "stdout",
       "text": [
        "Processing triggers for libc-bin ...\n"
       ]
      },
      {
       "output_type": "stream",
       "stream": "stdout",
       "text": [
        "[ubuntu@ec2-54-225-5-82.compute-1.amazonaws.com] out: "
       ]
      },
      {
       "output_type": "stream",
       "stream": "stdout",
       "text": [
        "ldconfig deferred processing now taking place\n"
       ]
      },
      {
       "output_type": "stream",
       "stream": "stdout",
       "text": [
        "[ubuntu@ec2-54-225-5-82.compute-1.amazonaws.com] out: "
       ]
      },
      {
       "output_type": "stream",
       "stream": "stdout",
       "text": [
        "\n"
       ]
      },
      {
       "output_type": "stream",
       "stream": "stdout",
       "text": [
        "\n",
        "[ubuntu@ec2-54-225-5-82.compute-1.amazonaws.com] sudo: mkdir /opt/regluit\n",
        "[ubuntu@ec2-54-225-5-82.compute-1.amazonaws.com] sudo: chown ubuntu:ubuntu /opt/regluit"
       ]
      },
      {
       "output_type": "stream",
       "stream": "stdout",
       "text": [
        "\n",
        "[ubuntu@ec2-54-225-5-82.compute-1.amazonaws.com] run: git config --global user.name \"Raymond Yee\""
       ]
      },
      {
       "output_type": "stream",
       "stream": "stdout",
       "text": [
        "\n",
        "[ubuntu@ec2-54-225-5-82.compute-1.amazonaws.com] run: git config --global user.email \"rdhyee@gluejar.com\""
       ]
      },
      {
       "output_type": "stream",
       "stream": "stdout",
       "text": [
        "\n",
        "[ubuntu@ec2-54-225-5-82.compute-1.amazonaws.com] run: ssh-keygen -b 2048 -t rsa -f /home/ubuntu/.ssh/id_rsa -P \"\""
       ]
      },
      {
       "output_type": "stream",
       "stream": "stdout",
       "text": [
        "\n",
        "[ubuntu@ec2-54-225-5-82.compute-1.amazonaws.com] out: "
       ]
      },
      {
       "output_type": "stream",
       "stream": "stdout",
       "text": [
        "Generating public/private rsa key pair.\n"
       ]
      },
      {
       "output_type": "stream",
       "stream": "stdout",
       "text": [
        "[ubuntu@ec2-54-225-5-82.compute-1.amazonaws.com] out: "
       ]
      },
      {
       "output_type": "stream",
       "stream": "stdout",
       "text": [
        "Your identification has been saved in /home/ubuntu/.ssh/id_rsa.\n"
       ]
      },
      {
       "output_type": "stream",
       "stream": "stdout",
       "text": [
        "[ubuntu@ec2-54-225-5-82.compute-1.amazonaws.com] out: "
       ]
      },
      {
       "output_type": "stream",
       "stream": "stdout",
       "text": [
        "Your public key has been saved in /home/ubuntu/.ssh/id_rsa.pub.\n"
       ]
      },
      {
       "output_type": "stream",
       "stream": "stdout",
       "text": [
        "[ubuntu@ec2-54-225-5-82.compute-1.amazonaws.com] out: "
       ]
      },
      {
       "output_type": "stream",
       "stream": "stdout",
       "text": [
        "The key fingerprint is:\n"
       ]
      },
      {
       "output_type": "stream",
       "stream": "stdout",
       "text": [
        "[ubuntu@ec2-54-225-5-82.compute-1.amazonaws.com] out: "
       ]
      },
      {
       "output_type": "stream",
       "stream": "stdout",
       "text": [
        "b4:d1:85:b5:7b:5f:54:a7:da:16:05:9e:f2:65:42:13 ubuntu@ip-10-203-69-113\n"
       ]
      },
      {
       "output_type": "stream",
       "stream": "stdout",
       "text": [
        "[ubuntu@ec2-54-225-5-82.compute-1.amazonaws.com] out: "
       ]
      },
      {
       "output_type": "stream",
       "stream": "stdout",
       "text": [
        "The key's randomart image is:\n"
       ]
      },
      {
       "output_type": "stream",
       "stream": "stdout",
       "text": [
        "[ubuntu@ec2-54-225-5-82.compute-1.amazonaws.com] out: "
       ]
      },
      {
       "output_type": "stream",
       "stream": "stdout",
       "text": [
        "+--[ RSA 2048]----+\n"
       ]
      },
      {
       "output_type": "stream",
       "stream": "stdout",
       "text": [
        "[ubuntu@ec2-54-225-5-82.compute-1.amazonaws.com] out: "
       ]
      },
      {
       "output_type": "stream",
       "stream": "stdout",
       "text": [
        "|           oo Eo+|\n"
       ]
      },
      {
       "output_type": "stream",
       "stream": "stdout",
       "text": [
        "[ubuntu@ec2-54-225-5-82.compute-1.amazonaws.com] out: "
       ]
      },
      {
       "output_type": "stream",
       "stream": "stdout",
       "text": [
        "|         ... + =o|\n"
       ]
      },
      {
       "output_type": "stream",
       "stream": "stdout",
       "text": [
        "[ubuntu@ec2-54-225-5-82.compute-1.amazonaws.com] out: "
       ]
      },
      {
       "output_type": "stream",
       "stream": "stdout",
       "text": [
        "|        o . o * +|\n"
       ]
      },
      {
       "output_type": "stream",
       "stream": "stdout",
       "text": [
        "[ubuntu@ec2-54-225-5-82.compute-1.amazonaws.com] out: "
       ]
      },
      {
       "output_type": "stream",
       "stream": "stdout",
       "text": [
        "|       . o   * * |\n"
       ]
      },
      {
       "output_type": "stream",
       "stream": "stdout",
       "text": [
        "[ubuntu@ec2-54-225-5-82.compute-1.amazonaws.com] out: "
       ]
      },
      {
       "output_type": "stream",
       "stream": "stdout",
       "text": [
        "|        S   o = .|\n"
       ]
      },
      {
       "output_type": "stream",
       "stream": "stdout",
       "text": [
        "[ubuntu@ec2-54-225-5-82.compute-1.amazonaws.com] out: "
       ]
      },
      {
       "output_type": "stream",
       "stream": "stdout",
       "text": [
        "|             o ..|\n"
       ]
      },
      {
       "output_type": "stream",
       "stream": "stdout",
       "text": [
        "[ubuntu@ec2-54-225-5-82.compute-1.amazonaws.com] out: "
       ]
      },
      {
       "output_type": "stream",
       "stream": "stdout",
       "text": [
        "|                .|\n"
       ]
      },
      {
       "output_type": "stream",
       "stream": "stdout",
       "text": [
        "[ubuntu@ec2-54-225-5-82.compute-1.amazonaws.com] out: "
       ]
      },
      {
       "output_type": "stream",
       "stream": "stdout",
       "text": [
        "|                 |\n"
       ]
      },
      {
       "output_type": "stream",
       "stream": "stdout",
       "text": [
        "[ubuntu@ec2-54-225-5-82.compute-1.amazonaws.com] out: "
       ]
      },
      {
       "output_type": "stream",
       "stream": "stdout",
       "text": [
        "|                 |\n"
       ]
      },
      {
       "output_type": "stream",
       "stream": "stdout",
       "text": [
        "[ubuntu@ec2-54-225-5-82.compute-1.amazonaws.com] out: "
       ]
      },
      {
       "output_type": "stream",
       "stream": "stdout",
       "text": [
        "+-----------------+\n"
       ]
      },
      {
       "output_type": "stream",
       "stream": "stdout",
       "text": [
        "[ubuntu@ec2-54-225-5-82.compute-1.amazonaws.com] out: "
       ]
      },
      {
       "output_type": "stream",
       "stream": "stdout",
       "text": [
        "\n"
       ]
      },
      {
       "output_type": "stream",
       "stream": "stdout",
       "text": [
        "\n",
        "[ubuntu@ec2-54-225-5-82.compute-1.amazonaws.com] download: <file obj> <- /home/ubuntu/.ssh/id_rsa.pub"
       ]
      },
      {
       "output_type": "stream",
       "stream": "stdout",
       "text": [
        "\n",
        "[ubuntu@ec2-54-225-5-82.compute-1.amazonaws.com] run: echo -e \"Host github.com\n",
        "\tStrictHostKeyChecking no\n",
        "\" >> ~/.ssh/config"
       ]
      },
      {
       "output_type": "stream",
       "stream": "stdout",
       "text": [
        "\n",
        "[ubuntu@ec2-54-225-5-82.compute-1.amazonaws.com] run: yes | git clone git@github.com:Gluejar/regluit.git"
       ]
      },
      {
       "output_type": "stream",
       "stream": "stdout",
       "text": [
        "\n",
        "[ubuntu@ec2-54-225-5-82.compute-1.amazonaws.com] out: "
       ]
      },
      {
       "output_type": "stream",
       "stream": "stdout",
       "text": [
        "Cloning into 'regluit'...\n"
       ]
      },
      {
       "output_type": "stream",
       "stream": "stdout",
       "text": [
        "[ubuntu@ec2-54-225-5-82.compute-1.amazonaws.com] out: "
       ]
      },
      {
       "output_type": "stream",
       "stream": "stdout",
       "text": [
        "Warning: Permanently added 'github.com,204.232.175.90' (RSA) to the list of known hosts.\n"
       ]
      },
      {
       "output_type": "stream",
       "stream": "stdout",
       "text": [
        "[ubuntu@ec2-54-225-5-82.compute-1.amazonaws.com] out: "
       ]
      },
      {
       "output_type": "stream",
       "stream": "stdout",
       "text": [
        "\n"
       ]
      },
      {
       "output_type": "stream",
       "stream": "stdout",
       "text": [
        "[ubuntu@ec2-54-225-5-82.compute-1.amazonaws.com] out: "
       ]
      },
      {
       "output_type": "stream",
       "stream": "stdout",
       "text": [
        "remote: Counting objects: 15561   \u001b[K\n"
       ]
      },
      {
       "output_type": "stream",
       "stream": "stdout",
       "text": [
        "[ubuntu@ec2-54-225-5-82.compute-1.amazonaws.com] out: "
       ]
      },
      {
       "output_type": "stream",
       "stream": "stdout",
       "text": [
        "remote: Counting objects: 24043, done.\u001b[K\n"
       ]
      },
      {
       "output_type": "stream",
       "stream": "stdout",
       "text": [
        "[ubuntu@ec2-54-225-5-82.compute-1.amazonaws.com] out: "
       ]
      },
      {
       "output_type": "stream",
       "stream": "stdout",
       "text": [
        "remote: Compressing objects:   0% (1/7099)   \u001b[K\n"
       ]
      },
      {
       "output_type": "stream",
       "stream": "stdout",
       "text": [
        "[ubuntu@ec2-54-225-5-82.compute-1.amazonaws.com] out: "
       ]
      },
      {
       "output_type": "stream",
       "stream": "stdout",
       "text": [
        "remote: Compressing objects:   1% (71/7099)   \u001b[K\n"
       ]
      },
      {
       "output_type": "stream",
       "stream": "stdout",
       "text": [
        "[ubuntu@ec2-54-225-5-82.compute-1.amazonaws.com] out: "
       ]
      },
      {
       "output_type": "stream",
       "stream": "stdout",
       "text": [
        "remote: Compressing objects:   2% (142/7099)   \u001b[K\n"
       ]
      },
      {
       "output_type": "stream",
       "stream": "stdout",
       "text": [
        "[ubuntu@ec2-54-225-5-82.compute-1.amazonaws.com] out: "
       ]
      },
      {
       "output_type": "stream",
       "stream": "stdout",
       "text": [
        "remote: Compressing objects:   3% (213/7099)   \u001b[K\n"
       ]
      },
      {
       "output_type": "stream",
       "stream": "stdout",
       "text": [
        "[ubuntu@ec2-54-225-5-82.compute-1.amazonaws.com] out: "
       ]
      },
      {
       "output_type": "stream",
       "stream": "stdout",
       "text": [
        "remote: Compressing objects:   4% (284/7099)   \u001b[K\n"
       ]
      },
      {
       "output_type": "stream",
       "stream": "stdout",
       "text": [
        "[ubuntu@ec2-54-225-5-82.compute-1.amazonaws.com] out: "
       ]
      },
      {
       "output_type": "stream",
       "stream": "stdout",
       "text": [
        "remote: Compressing objects:   5% (355/7099)   \u001b[K\n"
       ]
      },
      {
       "output_type": "stream",
       "stream": "stdout",
       "text": [
        "[ubuntu@ec2-54-225-5-82.compute-1.amazonaws.com] out: "
       ]
      },
      {
       "output_type": "stream",
       "stream": "stdout",
       "text": [
        "remote: Compressing objects:   6% (426/7099)   \u001b[K\n"
       ]
      },
      {
       "output_type": "stream",
       "stream": "stdout",
       "text": [
        "[ubuntu@ec2-54-225-5-82.compute-1.amazonaws.com] out: "
       ]
      },
      {
       "output_type": "stream",
       "stream": "stdout",
       "text": [
        "remote: Compressing objects:   7% (497/7099)   \u001b[K\n"
       ]
      },
      {
       "output_type": "stream",
       "stream": "stdout",
       "text": [
        "[ubuntu@ec2-54-225-5-82.compute-1.amazonaws.com] out: "
       ]
      },
      {
       "output_type": "stream",
       "stream": "stdout",
       "text": [
        "remote: Compressing objects:   8% (568/7099)   \u001b[K\n"
       ]
      },
      {
       "output_type": "stream",
       "stream": "stdout",
       "text": [
        "[ubuntu@ec2-54-225-5-82.compute-1.amazonaws.com] out: "
       ]
      },
      {
       "output_type": "stream",
       "stream": "stdout",
       "text": [
        "remote: Compressing objects:   9% (639/7099)   \u001b[K\n"
       ]
      },
      {
       "output_type": "stream",
       "stream": "stdout",
       "text": [
        "[ubuntu@ec2-54-225-5-82.compute-1.amazonaws.com] out: "
       ]
      },
      {
       "output_type": "stream",
       "stream": "stdout",
       "text": [
        "remote: Compressing objects:  10% (710/7099)   \u001b[K\n"
       ]
      },
      {
       "output_type": "stream",
       "stream": "stdout",
       "text": [
        "[ubuntu@ec2-54-225-5-82.compute-1.amazonaws.com] out: "
       ]
      },
      {
       "output_type": "stream",
       "stream": "stdout",
       "text": [
        "remote: Compressing objects:  11% (781/7099)   \u001b[K\n"
       ]
      },
      {
       "output_type": "stream",
       "stream": "stdout",
       "text": [
        "[ubuntu@ec2-54-225-5-82.compute-1.amazonaws.com] out: "
       ]
      },
      {
       "output_type": "stream",
       "stream": "stdout",
       "text": [
        "remote: Compressing objects:  12% (852/7099)   \u001b[K\n"
       ]
      },
      {
       "output_type": "stream",
       "stream": "stdout",
       "text": [
        "[ubuntu@ec2-54-225-5-82.compute-1.amazonaws.com] out: "
       ]
      },
      {
       "output_type": "stream",
       "stream": "stdout",
       "text": [
        "remote: Compressing objects:  13% (923/7099)   \u001b[K\n"
       ]
      },
      {
       "output_type": "stream",
       "stream": "stdout",
       "text": [
        "[ubuntu@ec2-54-225-5-82.compute-1.amazonaws.com] out: "
       ]
      },
      {
       "output_type": "stream",
       "stream": "stdout",
       "text": [
        "remote: Compressing objects:  14% (994/7099)   \u001b[K\n"
       ]
      },
      {
       "output_type": "stream",
       "stream": "stdout",
       "text": [
        "[ubuntu@ec2-54-225-5-82.compute-1.amazonaws.com] out: "
       ]
      },
      {
       "output_type": "stream",
       "stream": "stdout",
       "text": [
        "remote: Compressing objects:  15% (1065/7099)   \u001b[K\n"
       ]
      },
      {
       "output_type": "stream",
       "stream": "stdout",
       "text": [
        "[ubuntu@ec2-54-225-5-82.compute-1.amazonaws.com] out: "
       ]
      },
      {
       "output_type": "stream",
       "stream": "stdout",
       "text": [
        "remote: Compressing objects:  16% (1136/7099)   \u001b[K\n"
       ]
      },
      {
       "output_type": "stream",
       "stream": "stdout",
       "text": [
        "[ubuntu@ec2-54-225-5-82.compute-1.amazonaws.com] out: "
       ]
      },
      {
       "output_type": "stream",
       "stream": "stdout",
       "text": [
        "remote: Compressing objects:  17% (1207/7099)   \u001b[K\n"
       ]
      },
      {
       "output_type": "stream",
       "stream": "stdout",
       "text": [
        "[ubuntu@ec2-54-225-5-82.compute-1.amazonaws.com] out: "
       ]
      },
      {
       "output_type": "stream",
       "stream": "stdout",
       "text": [
        "remote: Compressing objects:  18% (1278/7099)   \u001b[K\n"
       ]
      },
      {
       "output_type": "stream",
       "stream": "stdout",
       "text": [
        "[ubuntu@ec2-54-225-5-82.compute-1.amazonaws.com] out: "
       ]
      },
      {
       "output_type": "stream",
       "stream": "stdout",
       "text": [
        "remote: Compressing objects:  19% (1349/7099)   \u001b[K\n"
       ]
      },
      {
       "output_type": "stream",
       "stream": "stdout",
       "text": [
        "[ubuntu@ec2-54-225-5-82.compute-1.amazonaws.com] out: "
       ]
      },
      {
       "output_type": "stream",
       "stream": "stdout",
       "text": [
        "remote: Compressing objects:  20% (1420/7099)   \u001b[K\n"
       ]
      },
      {
       "output_type": "stream",
       "stream": "stdout",
       "text": [
        "[ubuntu@ec2-54-225-5-82.compute-1.amazonaws.com] out: "
       ]
      },
      {
       "output_type": "stream",
       "stream": "stdout",
       "text": [
        "remote: Compressing objects:  21% (1491/7099)   \u001b[K\n"
       ]
      },
      {
       "output_type": "stream",
       "stream": "stdout",
       "text": [
        "[ubuntu@ec2-54-225-5-82.compute-1.amazonaws.com] out: "
       ]
      },
      {
       "output_type": "stream",
       "stream": "stdout",
       "text": [
        "remote: Compressing objects:  22% (1562/7099)   \u001b[K\n"
       ]
      },
      {
       "output_type": "stream",
       "stream": "stdout",
       "text": [
        "[ubuntu@ec2-54-225-5-82.compute-1.amazonaws.com] out: "
       ]
      },
      {
       "output_type": "stream",
       "stream": "stdout",
       "text": [
        "remote: Compressing objects:  23% (1633/7099)   \u001b[K\n"
       ]
      },
      {
       "output_type": "stream",
       "stream": "stdout",
       "text": [
        "[ubuntu@ec2-54-225-5-82.compute-1.amazonaws.com] out: "
       ]
      },
      {
       "output_type": "stream",
       "stream": "stdout",
       "text": [
        "remote: Compressing objects:  24% (1704/7099)   \u001b[K\n"
       ]
      },
      {
       "output_type": "stream",
       "stream": "stdout",
       "text": [
        "[ubuntu@ec2-54-225-5-82.compute-1.amazonaws.com] out: "
       ]
      },
      {
       "output_type": "stream",
       "stream": "stdout",
       "text": [
        "remote: Compressing objects:  25% (1775/7099)   \u001b[K\n"
       ]
      },
      {
       "output_type": "stream",
       "stream": "stdout",
       "text": [
        "[ubuntu@ec2-54-225-5-82.compute-1.amazonaws.com] out: "
       ]
      },
      {
       "output_type": "stream",
       "stream": "stdout",
       "text": [
        "remote: Compressing objects:  26% (1846/7099)   \u001b[K\n"
       ]
      },
      {
       "output_type": "stream",
       "stream": "stdout",
       "text": [
        "[ubuntu@ec2-54-225-5-82.compute-1.amazonaws.com] out: "
       ]
      },
      {
       "output_type": "stream",
       "stream": "stdout",
       "text": [
        "remote: Compressing objects:  27% (1917/7099)   \u001b[K\n"
       ]
      },
      {
       "output_type": "stream",
       "stream": "stdout",
       "text": [
        "[ubuntu@ec2-54-225-5-82.compute-1.amazonaws.com] out: "
       ]
      },
      {
       "output_type": "stream",
       "stream": "stdout",
       "text": [
        "remote: Compressing objects:  28% (1988/7099)   \u001b[K\n"
       ]
      },
      {
       "output_type": "stream",
       "stream": "stdout",
       "text": [
        "[ubuntu@ec2-54-225-5-82.compute-1.amazonaws.com] out: "
       ]
      },
      {
       "output_type": "stream",
       "stream": "stdout",
       "text": [
        "remote: Compressing objects:  29% (2059/7099)   \u001b[K\n"
       ]
      },
      {
       "output_type": "stream",
       "stream": "stdout",
       "text": [
        "[ubuntu@ec2-54-225-5-82.compute-1.amazonaws.com] out: "
       ]
      },
      {
       "output_type": "stream",
       "stream": "stdout",
       "text": [
        "remote: Compressing objects:  30% (2130/7099)   \u001b[K\n"
       ]
      },
      {
       "output_type": "stream",
       "stream": "stdout",
       "text": [
        "[ubuntu@ec2-54-225-5-82.compute-1.amazonaws.com] out: "
       ]
      },
      {
       "output_type": "stream",
       "stream": "stdout",
       "text": [
        "remote: Compressing objects:  31% (2201/7099)   \u001b[K\n"
       ]
      },
      {
       "output_type": "stream",
       "stream": "stdout",
       "text": [
        "[ubuntu@ec2-54-225-5-82.compute-1.amazonaws.com] out: "
       ]
      },
      {
       "output_type": "stream",
       "stream": "stdout",
       "text": [
        "remote: Compressing objects:  32% (2272/7099)   \u001b[K\n"
       ]
      },
      {
       "output_type": "stream",
       "stream": "stdout",
       "text": [
        "[ubuntu@ec2-54-225-5-82.compute-1.amazonaws.com] out: "
       ]
      },
      {
       "output_type": "stream",
       "stream": "stdout",
       "text": [
        "remote: Compressing objects:  33% (2343/7099)   \u001b[K\n"
       ]
      },
      {
       "output_type": "stream",
       "stream": "stdout",
       "text": [
        "[ubuntu@ec2-54-225-5-82.compute-1.amazonaws.com] out: "
       ]
      },
      {
       "output_type": "stream",
       "stream": "stdout",
       "text": [
        "remote: Compressing objects:  34% (2414/7099)   \u001b[K\n"
       ]
      },
      {
       "output_type": "stream",
       "stream": "stdout",
       "text": [
        "[ubuntu@ec2-54-225-5-82.compute-1.amazonaws.com] out: "
       ]
      },
      {
       "output_type": "stream",
       "stream": "stdout",
       "text": [
        "remote: Compressing objects:  35% (2485/7099)   \u001b[K\n"
       ]
      },
      {
       "output_type": "stream",
       "stream": "stdout",
       "text": [
        "[ubuntu@ec2-54-225-5-82.compute-1.amazonaws.com] out: "
       ]
      },
      {
       "output_type": "stream",
       "stream": "stdout",
       "text": [
        "remote: Compressing objects:  36% (2556/7099)   \u001b[K\n"
       ]
      },
      {
       "output_type": "stream",
       "stream": "stdout",
       "text": [
        "[ubuntu@ec2-54-225-5-82.compute-1.amazonaws.com] out: "
       ]
      },
      {
       "output_type": "stream",
       "stream": "stdout",
       "text": [
        "remote: Compressing objects:  37% (2627/7099)   \u001b[K\n"
       ]
      },
      {
       "output_type": "stream",
       "stream": "stdout",
       "text": [
        "[ubuntu@ec2-54-225-5-82.compute-1.amazonaws.com] out: "
       ]
      },
      {
       "output_type": "stream",
       "stream": "stdout",
       "text": [
        "remote: Compressing objects:  38% (2698/7099)   \u001b[K\n"
       ]
      },
      {
       "output_type": "stream",
       "stream": "stdout",
       "text": [
        "[ubuntu@ec2-54-225-5-82.compute-1.amazonaws.com] out: "
       ]
      },
      {
       "output_type": "stream",
       "stream": "stdout",
       "text": [
        "remote: Compressing objects:  39% (2769/7099)   \u001b[K\n"
       ]
      },
      {
       "output_type": "stream",
       "stream": "stdout",
       "text": [
        "[ubuntu@ec2-54-225-5-82.compute-1.amazonaws.com] out: "
       ]
      },
      {
       "output_type": "stream",
       "stream": "stdout",
       "text": [
        "remote: Compressing objects:  40% (2840/7099)   \u001b[K\n"
       ]
      },
      {
       "output_type": "stream",
       "stream": "stdout",
       "text": [
        "[ubuntu@ec2-54-225-5-82.compute-1.amazonaws.com] out: "
       ]
      },
      {
       "output_type": "stream",
       "stream": "stdout",
       "text": [
        "remote: Compressing objects:  41% (2911/7099)   \u001b[K\n"
       ]
      },
      {
       "output_type": "stream",
       "stream": "stdout",
       "text": [
        "[ubuntu@ec2-54-225-5-82.compute-1.amazonaws.com] out: "
       ]
      },
      {
       "output_type": "stream",
       "stream": "stdout",
       "text": [
        "remote: Compressing objects:  42% (2982/7099)   \u001b[K\n"
       ]
      },
      {
       "output_type": "stream",
       "stream": "stdout",
       "text": [
        "[ubuntu@ec2-54-225-5-82.compute-1.amazonaws.com] out: "
       ]
      },
      {
       "output_type": "stream",
       "stream": "stdout",
       "text": [
        "remote: Compressing objects:  43% (3053/7099)   \u001b[K\n"
       ]
      },
      {
       "output_type": "stream",
       "stream": "stdout",
       "text": [
        "[ubuntu@ec2-54-225-5-82.compute-1.amazonaws.com] out: "
       ]
      },
      {
       "output_type": "stream",
       "stream": "stdout",
       "text": [
        "remote: Compressing objects:  44% (3124/7099)   \u001b[K\n"
       ]
      },
      {
       "output_type": "stream",
       "stream": "stdout",
       "text": [
        "[ubuntu@ec2-54-225-5-82.compute-1.amazonaws.com] out: "
       ]
      },
      {
       "output_type": "stream",
       "stream": "stdout",
       "text": [
        "remote: Compressing objects:  45% (3195/7099)   \u001b[K\n"
       ]
      },
      {
       "output_type": "stream",
       "stream": "stdout",
       "text": [
        "[ubuntu@ec2-54-225-5-82.compute-1.amazonaws.com] out: "
       ]
      },
      {
       "output_type": "stream",
       "stream": "stdout",
       "text": [
        "remote: Compressing objects:  46% (3266/7099)   \u001b[K\n"
       ]
      },
      {
       "output_type": "stream",
       "stream": "stdout",
       "text": [
        "[ubuntu@ec2-54-225-5-82.compute-1.amazonaws.com] out: "
       ]
      },
      {
       "output_type": "stream",
       "stream": "stdout",
       "text": [
        "remote: Compressing objects:  47% (3337/7099)   \u001b[K\n"
       ]
      },
      {
       "output_type": "stream",
       "stream": "stdout",
       "text": [
        "[ubuntu@ec2-54-225-5-82.compute-1.amazonaws.com] out: "
       ]
      },
      {
       "output_type": "stream",
       "stream": "stdout",
       "text": [
        "remote: Compressing objects:  48% (3408/7099)   \u001b[K\n"
       ]
      },
      {
       "output_type": "stream",
       "stream": "stdout",
       "text": [
        "[ubuntu@ec2-54-225-5-82.compute-1.amazonaws.com] out: "
       ]
      },
      {
       "output_type": "stream",
       "stream": "stdout",
       "text": [
        "remote: Compressing objects:  49% (3479/7099)   \u001b[K\n"
       ]
      },
      {
       "output_type": "stream",
       "stream": "stdout",
       "text": [
        "[ubuntu@ec2-54-225-5-82.compute-1.amazonaws.com] out: "
       ]
      },
      {
       "output_type": "stream",
       "stream": "stdout",
       "text": [
        "remote: Compressing objects:  50% (3550/7099)   \u001b[K\n"
       ]
      },
      {
       "output_type": "stream",
       "stream": "stdout",
       "text": [
        "[ubuntu@ec2-54-225-5-82.compute-1.amazonaws.com] out: "
       ]
      },
      {
       "output_type": "stream",
       "stream": "stdout",
       "text": [
        "remote: Compressing objects:  51% (3621/7099)   \u001b[K\n"
       ]
      },
      {
       "output_type": "stream",
       "stream": "stdout",
       "text": [
        "[ubuntu@ec2-54-225-5-82.compute-1.amazonaws.com] out: "
       ]
      },
      {
       "output_type": "stream",
       "stream": "stdout",
       "text": [
        "remote: Compressing objects:  52% (3692/7099)   \u001b[K\n"
       ]
      },
      {
       "output_type": "stream",
       "stream": "stdout",
       "text": [
        "[ubuntu@ec2-54-225-5-82.compute-1.amazonaws.com] out: "
       ]
      },
      {
       "output_type": "stream",
       "stream": "stdout",
       "text": [
        "remote: Compressing objects:  53% (3763/7099)   \u001b[K\n"
       ]
      },
      {
       "output_type": "stream",
       "stream": "stdout",
       "text": [
        "[ubuntu@ec2-54-225-5-82.compute-1.amazonaws.com] out: "
       ]
      },
      {
       "output_type": "stream",
       "stream": "stdout",
       "text": [
        "remote: Compressing objects:  54% (3834/7099)   \u001b[K\n"
       ]
      },
      {
       "output_type": "stream",
       "stream": "stdout",
       "text": [
        "[ubuntu@ec2-54-225-5-82.compute-1.amazonaws.com] out: "
       ]
      },
      {
       "output_type": "stream",
       "stream": "stdout",
       "text": [
        "remote: Compressing objects:  55% (3905/7099)   \u001b[K\n"
       ]
      },
      {
       "output_type": "stream",
       "stream": "stdout",
       "text": [
        "[ubuntu@ec2-54-225-5-82.compute-1.amazonaws.com] out: "
       ]
      },
      {
       "output_type": "stream",
       "stream": "stdout",
       "text": [
        "remote: Compressing objects:  56% (3976/7099)   \u001b[K\n"
       ]
      },
      {
       "output_type": "stream",
       "stream": "stdout",
       "text": [
        "[ubuntu@ec2-54-225-5-82.compute-1.amazonaws.com] out: "
       ]
      },
      {
       "output_type": "stream",
       "stream": "stdout",
       "text": [
        "remote: Compressing objects:  57% (4047/7099)   \u001b[K\n"
       ]
      },
      {
       "output_type": "stream",
       "stream": "stdout",
       "text": [
        "[ubuntu@ec2-54-225-5-82.compute-1.amazonaws.com] out: "
       ]
      },
      {
       "output_type": "stream",
       "stream": "stdout",
       "text": [
        "remote: Compressing objects:  58% (4118/7099)   \u001b[K\n"
       ]
      },
      {
       "output_type": "stream",
       "stream": "stdout",
       "text": [
        "[ubuntu@ec2-54-225-5-82.compute-1.amazonaws.com] out: "
       ]
      },
      {
       "output_type": "stream",
       "stream": "stdout",
       "text": [
        "remote: Compressing objects:  59% (4189/7099)   \u001b[K\n"
       ]
      },
      {
       "output_type": "stream",
       "stream": "stdout",
       "text": [
        "[ubuntu@ec2-54-225-5-82.compute-1.amazonaws.com] out: "
       ]
      },
      {
       "output_type": "stream",
       "stream": "stdout",
       "text": [
        "remote: Compressing objects:  60% (4260/7099)   \u001b[K\n"
       ]
      },
      {
       "output_type": "stream",
       "stream": "stdout",
       "text": [
        "[ubuntu@ec2-54-225-5-82.compute-1.amazonaws.com] out: "
       ]
      },
      {
       "output_type": "stream",
       "stream": "stdout",
       "text": [
        "remote: Compressing objects:  61% (4331/7099)   \u001b[K\n"
       ]
      },
      {
       "output_type": "stream",
       "stream": "stdout",
       "text": [
        "[ubuntu@ec2-54-225-5-82.compute-1.amazonaws.com] out: "
       ]
      },
      {
       "output_type": "stream",
       "stream": "stdout",
       "text": [
        "remote: Compressing objects:  62% (4402/7099)   \u001b[K\n"
       ]
      },
      {
       "output_type": "stream",
       "stream": "stdout",
       "text": [
        "[ubuntu@ec2-54-225-5-82.compute-1.amazonaws.com] out: "
       ]
      },
      {
       "output_type": "stream",
       "stream": "stdout",
       "text": [
        "remote: Compressing objects:  63% (4473/7099)   \u001b[K\n"
       ]
      },
      {
       "output_type": "stream",
       "stream": "stdout",
       "text": [
        "[ubuntu@ec2-54-225-5-82.compute-1.amazonaws.com] out: "
       ]
      },
      {
       "output_type": "stream",
       "stream": "stdout",
       "text": [
        "remote: Compressing objects:  64% (4544/7099)   \u001b[K\n"
       ]
      },
      {
       "output_type": "stream",
       "stream": "stdout",
       "text": [
        "[ubuntu@ec2-54-225-5-82.compute-1.amazonaws.com] out: "
       ]
      },
      {
       "output_type": "stream",
       "stream": "stdout",
       "text": [
        "remote: Compressing objects:  65% (4615/7099)   \u001b[K\n"
       ]
      },
      {
       "output_type": "stream",
       "stream": "stdout",
       "text": [
        "[ubuntu@ec2-54-225-5-82.compute-1.amazonaws.com] out: "
       ]
      },
      {
       "output_type": "stream",
       "stream": "stdout",
       "text": [
        "remote: Compressing objects:  66% (4686/7099)   \u001b[K\n"
       ]
      },
      {
       "output_type": "stream",
       "stream": "stdout",
       "text": [
        "[ubuntu@ec2-54-225-5-82.compute-1.amazonaws.com] out: "
       ]
      },
      {
       "output_type": "stream",
       "stream": "stdout",
       "text": [
        "remote: Compressing objects:  67% (4757/7099)   \u001b[K\n"
       ]
      },
      {
       "output_type": "stream",
       "stream": "stdout",
       "text": [
        "[ubuntu@ec2-54-225-5-82.compute-1.amazonaws.com] out: "
       ]
      },
      {
       "output_type": "stream",
       "stream": "stdout",
       "text": [
        "remote: Compressing objects:  68% (4828/7099)   \u001b[K\n"
       ]
      },
      {
       "output_type": "stream",
       "stream": "stdout",
       "text": [
        "[ubuntu@ec2-54-225-5-82.compute-1.amazonaws.com] out: "
       ]
      },
      {
       "output_type": "stream",
       "stream": "stdout",
       "text": [
        "remote: Compressing objects:  69% (4899/7099)   \u001b[K\n"
       ]
      },
      {
       "output_type": "stream",
       "stream": "stdout",
       "text": [
        "[ubuntu@ec2-54-225-5-82.compute-1.amazonaws.com] out: "
       ]
      },
      {
       "output_type": "stream",
       "stream": "stdout",
       "text": [
        "remote: Compressing objects:  70% (4970/7099)   \u001b[K\n"
       ]
      },
      {
       "output_type": "stream",
       "stream": "stdout",
       "text": [
        "[ubuntu@ec2-54-225-5-82.compute-1.amazonaws.com] out: "
       ]
      },
      {
       "output_type": "stream",
       "stream": "stdout",
       "text": [
        "remote: Compressing objects:  71% (5041/7099)   \u001b[K\n"
       ]
      },
      {
       "output_type": "stream",
       "stream": "stdout",
       "text": [
        "[ubuntu@ec2-54-225-5-82.compute-1.amazonaws.com] out: "
       ]
      },
      {
       "output_type": "stream",
       "stream": "stdout",
       "text": [
        "remote: Compressing objects:  72% (5112/7099)   \u001b[K\n"
       ]
      },
      {
       "output_type": "stream",
       "stream": "stdout",
       "text": [
        "[ubuntu@ec2-54-225-5-82.compute-1.amazonaws.com] out: "
       ]
      },
      {
       "output_type": "stream",
       "stream": "stdout",
       "text": [
        "remote: Compressing objects:  73% (5183/7099)   \u001b[K\n"
       ]
      },
      {
       "output_type": "stream",
       "stream": "stdout",
       "text": [
        "[ubuntu@ec2-54-225-5-82.compute-1.amazonaws.com] out: "
       ]
      },
      {
       "output_type": "stream",
       "stream": "stdout",
       "text": [
        "remote: Compressing objects:  74% (5254/7099)   \u001b[K\n"
       ]
      },
      {
       "output_type": "stream",
       "stream": "stdout",
       "text": [
        "[ubuntu@ec2-54-225-5-82.compute-1.amazonaws.com] out: "
       ]
      },
      {
       "output_type": "stream",
       "stream": "stdout",
       "text": [
        "remote: Compressing objects:  75% (5325/7099)   \u001b[K\n"
       ]
      },
      {
       "output_type": "stream",
       "stream": "stdout",
       "text": [
        "[ubuntu@ec2-54-225-5-82.compute-1.amazonaws.com] out: "
       ]
      },
      {
       "output_type": "stream",
       "stream": "stdout",
       "text": [
        "remote: Compressing objects:  76% (5396/7099)   \u001b[K\n"
       ]
      },
      {
       "output_type": "stream",
       "stream": "stdout",
       "text": [
        "[ubuntu@ec2-54-225-5-82.compute-1.amazonaws.com] out: "
       ]
      },
      {
       "output_type": "stream",
       "stream": "stdout",
       "text": [
        "remote: Compressing objects:  77% (5467/7099)   \u001b[K\n"
       ]
      },
      {
       "output_type": "stream",
       "stream": "stdout",
       "text": [
        "[ubuntu@ec2-54-225-5-82.compute-1.amazonaws.com] out: "
       ]
      },
      {
       "output_type": "stream",
       "stream": "stdout",
       "text": [
        "remote: Compressing objects:  78% (5538/7099)   \u001b[K\n"
       ]
      },
      {
       "output_type": "stream",
       "stream": "stdout",
       "text": [
        "[ubuntu@ec2-54-225-5-82.compute-1.amazonaws.com] out: "
       ]
      },
      {
       "output_type": "stream",
       "stream": "stdout",
       "text": [
        "remote: Compressing objects:  79% (5609/7099)   \u001b[K\n"
       ]
      },
      {
       "output_type": "stream",
       "stream": "stdout",
       "text": [
        "[ubuntu@ec2-54-225-5-82.compute-1.amazonaws.com] out: "
       ]
      },
      {
       "output_type": "stream",
       "stream": "stdout",
       "text": [
        "remote: Compressing objects:  80% (5680/7099)   \u001b[K\n"
       ]
      },
      {
       "output_type": "stream",
       "stream": "stdout",
       "text": [
        "[ubuntu@ec2-54-225-5-82.compute-1.amazonaws.com] out: "
       ]
      },
      {
       "output_type": "stream",
       "stream": "stdout",
       "text": [
        "remote: Compressing objects:  81% (5751/7099)   \u001b[K\n"
       ]
      },
      {
       "output_type": "stream",
       "stream": "stdout",
       "text": [
        "[ubuntu@ec2-54-225-5-82.compute-1.amazonaws.com] out: "
       ]
      },
      {
       "output_type": "stream",
       "stream": "stdout",
       "text": [
        "remote: Compressing objects:  82% (5822/7099)   \u001b[K\n"
       ]
      },
      {
       "output_type": "stream",
       "stream": "stdout",
       "text": [
        "[ubuntu@ec2-54-225-5-82.compute-1.amazonaws.com] out: "
       ]
      },
      {
       "output_type": "stream",
       "stream": "stdout",
       "text": [
        "remote: Compressing objects:  83% (5893/7099)   \u001b[K\n"
       ]
      },
      {
       "output_type": "stream",
       "stream": "stdout",
       "text": [
        "[ubuntu@ec2-54-225-5-82.compute-1.amazonaws.com] out: "
       ]
      },
      {
       "output_type": "stream",
       "stream": "stdout",
       "text": [
        "remote: Compressing objects:  84% (5964/7099)   \u001b[K\n"
       ]
      },
      {
       "output_type": "stream",
       "stream": "stdout",
       "text": [
        "[ubuntu@ec2-54-225-5-82.compute-1.amazonaws.com] out: "
       ]
      },
      {
       "output_type": "stream",
       "stream": "stdout",
       "text": [
        "remote: Compressing objects:  85% (6035/7099)   \u001b[K\n"
       ]
      },
      {
       "output_type": "stream",
       "stream": "stdout",
       "text": [
        "[ubuntu@ec2-54-225-5-82.compute-1.amazonaws.com] out: "
       ]
      },
      {
       "output_type": "stream",
       "stream": "stdout",
       "text": [
        "remote: Compressing objects:  86% (6106/7099)   \u001b[K\n"
       ]
      },
      {
       "output_type": "stream",
       "stream": "stdout",
       "text": [
        "[ubuntu@ec2-54-225-5-82.compute-1.amazonaws.com] out: "
       ]
      },
      {
       "output_type": "stream",
       "stream": "stdout",
       "text": [
        "remote: Compressing objects:  87% (6177/7099)   \u001b[K\n"
       ]
      },
      {
       "output_type": "stream",
       "stream": "stdout",
       "text": [
        "[ubuntu@ec2-54-225-5-82.compute-1.amazonaws.com] out: "
       ]
      },
      {
       "output_type": "stream",
       "stream": "stdout",
       "text": [
        "remote: Compressing objects:  88% (6248/7099)   \u001b[K\n"
       ]
      },
      {
       "output_type": "stream",
       "stream": "stdout",
       "text": [
        "[ubuntu@ec2-54-225-5-82.compute-1.amazonaws.com] out: "
       ]
      },
      {
       "output_type": "stream",
       "stream": "stdout",
       "text": [
        "remote: Compressing objects:  89% (6319/7099)   \u001b[K\n"
       ]
      },
      {
       "output_type": "stream",
       "stream": "stdout",
       "text": [
        "[ubuntu@ec2-54-225-5-82.compute-1.amazonaws.com] out: "
       ]
      },
      {
       "output_type": "stream",
       "stream": "stdout",
       "text": [
        "remote: Compressing objects:  90% (6390/7099)   \u001b[K\n"
       ]
      },
      {
       "output_type": "stream",
       "stream": "stdout",
       "text": [
        "[ubuntu@ec2-54-225-5-82.compute-1.amazonaws.com] out: "
       ]
      },
      {
       "output_type": "stream",
       "stream": "stdout",
       "text": [
        "remote: Compressing objects:  91% (6461/7099)   \u001b[K\n"
       ]
      },
      {
       "output_type": "stream",
       "stream": "stdout",
       "text": [
        "[ubuntu@ec2-54-225-5-82.compute-1.amazonaws.com] out: "
       ]
      },
      {
       "output_type": "stream",
       "stream": "stdout",
       "text": [
        "remote: Compressing objects:  92% (6532/7099)   \u001b[K\n"
       ]
      },
      {
       "output_type": "stream",
       "stream": "stdout",
       "text": [
        "[ubuntu@ec2-54-225-5-82.compute-1.amazonaws.com] out: "
       ]
      },
      {
       "output_type": "stream",
       "stream": "stdout",
       "text": [
        "remote: Compressing objects:  93% (6603/7099)   \u001b[K\n"
       ]
      },
      {
       "output_type": "stream",
       "stream": "stdout",
       "text": [
        "[ubuntu@ec2-54-225-5-82.compute-1.amazonaws.com] out: "
       ]
      },
      {
       "output_type": "stream",
       "stream": "stdout",
       "text": [
        "remote: Compressing objects:  94% (6674/7099)   \u001b[K\n"
       ]
      },
      {
       "output_type": "stream",
       "stream": "stdout",
       "text": [
        "[ubuntu@ec2-54-225-5-82.compute-1.amazonaws.com] out: "
       ]
      },
      {
       "output_type": "stream",
       "stream": "stdout",
       "text": [
        "remote: Compressing objects:  95% (6745/7099)   \u001b[K\n"
       ]
      },
      {
       "output_type": "stream",
       "stream": "stdout",
       "text": [
        "[ubuntu@ec2-54-225-5-82.compute-1.amazonaws.com] out: "
       ]
      },
      {
       "output_type": "stream",
       "stream": "stdout",
       "text": [
        "remote: Compressing objects:  96% (6816/7099)   \u001b[K\n"
       ]
      },
      {
       "output_type": "stream",
       "stream": "stdout",
       "text": [
        "[ubuntu@ec2-54-225-5-82.compute-1.amazonaws.com] out: "
       ]
      },
      {
       "output_type": "stream",
       "stream": "stdout",
       "text": [
        "remote: Compressing objects:  97% (6887/7099)   \u001b[K\n"
       ]
      },
      {
       "output_type": "stream",
       "stream": "stdout",
       "text": [
        "[ubuntu@ec2-54-225-5-82.compute-1.amazonaws.com] out: "
       ]
      },
      {
       "output_type": "stream",
       "stream": "stdout",
       "text": [
        "remote: Compressing objects:  98% (6958/7099)   \u001b[K\n"
       ]
      },
      {
       "output_type": "stream",
       "stream": "stdout",
       "text": [
        "[ubuntu@ec2-54-225-5-82.compute-1.amazonaws.com] out: "
       ]
      },
      {
       "output_type": "stream",
       "stream": "stdout",
       "text": [
        "remote: Compressing objects:  99% (7029/7099)   \u001b[K\n"
       ]
      },
      {
       "output_type": "stream",
       "stream": "stdout",
       "text": [
        "[ubuntu@ec2-54-225-5-82.compute-1.amazonaws.com] out: "
       ]
      },
      {
       "output_type": "stream",
       "stream": "stdout",
       "text": [
        "remote: Compressing objects: 100% (7099/7099)   \u001b[K\n"
       ]
      },
      {
       "output_type": "stream",
       "stream": "stdout",
       "text": [
        "[ubuntu@ec2-54-225-5-82.compute-1.amazonaws.com] out: "
       ]
      },
      {
       "output_type": "stream",
       "stream": "stdout",
       "text": [
        "remote: Compressing objects: 100% (7099/7099), done.\u001b[K\n"
       ]
      },
      {
       "output_type": "stream",
       "stream": "stdout",
       "text": [
        "[ubuntu@ec2-54-225-5-82.compute-1.amazonaws.com] out: "
       ]
      },
      {
       "output_type": "stream",
       "stream": "stdout",
       "text": [
        "Receiving objects:   0% (1/24043)   \n"
       ]
      },
      {
       "output_type": "stream",
       "stream": "stdout",
       "text": [
        "[ubuntu@ec2-54-225-5-82.compute-1.amazonaws.com] out: "
       ]
      },
      {
       "output_type": "stream",
       "stream": "stdout",
       "text": [
        "Receiving objects:   1% (241/24043)   \n"
       ]
      },
      {
       "output_type": "stream",
       "stream": "stdout",
       "text": [
        "[ubuntu@ec2-54-225-5-82.compute-1.amazonaws.com] out: "
       ]
      },
      {
       "output_type": "stream",
       "stream": "stdout",
       "text": [
        "Receiving objects:   2% (481/24043)   \n"
       ]
      },
      {
       "output_type": "stream",
       "stream": "stdout",
       "text": [
        "[ubuntu@ec2-54-225-5-82.compute-1.amazonaws.com] out: "
       ]
      },
      {
       "output_type": "stream",
       "stream": "stdout",
       "text": [
        "Receiving objects:   3% (722/24043)   \n"
       ]
      },
      {
       "output_type": "stream",
       "stream": "stdout",
       "text": [
        "[ubuntu@ec2-54-225-5-82.compute-1.amazonaws.com] out: "
       ]
      },
      {
       "output_type": "stream",
       "stream": "stdout",
       "text": [
        "Receiving objects:   4% (962/24043)   \n"
       ]
      },
      {
       "output_type": "stream",
       "stream": "stdout",
       "text": [
        "[ubuntu@ec2-54-225-5-82.compute-1.amazonaws.com] out: "
       ]
      },
      {
       "output_type": "stream",
       "stream": "stdout",
       "text": [
        "Receiving objects:   5% (1203/24043)   \n"
       ]
      },
      {
       "output_type": "stream",
       "stream": "stdout",
       "text": [
        "[ubuntu@ec2-54-225-5-82.compute-1.amazonaws.com] out: "
       ]
      },
      {
       "output_type": "stream",
       "stream": "stdout",
       "text": [
        "Receiving objects:   6% (1443/24043)   \n"
       ]
      },
      {
       "output_type": "stream",
       "stream": "stdout",
       "text": [
        "[ubuntu@ec2-54-225-5-82.compute-1.amazonaws.com] out: "
       ]
      },
      {
       "output_type": "stream",
       "stream": "stdout",
       "text": [
        "Receiving objects:   7% (1684/24043)   \n"
       ]
      },
      {
       "output_type": "stream",
       "stream": "stdout",
       "text": [
        "[ubuntu@ec2-54-225-5-82.compute-1.amazonaws.com] out: "
       ]
      },
      {
       "output_type": "stream",
       "stream": "stdout",
       "text": [
        "Receiving objects:   8% (1924/24043)   \n"
       ]
      },
      {
       "output_type": "stream",
       "stream": "stdout",
       "text": [
        "[ubuntu@ec2-54-225-5-82.compute-1.amazonaws.com] out: "
       ]
      },
      {
       "output_type": "stream",
       "stream": "stdout",
       "text": [
        "Receiving objects:   9% (2164/24043)   \n"
       ]
      },
      {
       "output_type": "stream",
       "stream": "stdout",
       "text": [
        "[ubuntu@ec2-54-225-5-82.compute-1.amazonaws.com] out: "
       ]
      },
      {
       "output_type": "stream",
       "stream": "stdout",
       "text": [
        "Receiving objects:  10% (2405/24043)   \n"
       ]
      },
      {
       "output_type": "stream",
       "stream": "stdout",
       "text": [
        "[ubuntu@ec2-54-225-5-82.compute-1.amazonaws.com] out: "
       ]
      },
      {
       "output_type": "stream",
       "stream": "stdout",
       "text": [
        "Receiving objects:  11% (2645/24043)   \n"
       ]
      },
      {
       "output_type": "stream",
       "stream": "stdout",
       "text": [
        "[ubuntu@ec2-54-225-5-82.compute-1.amazonaws.com] out: "
       ]
      },
      {
       "output_type": "stream",
       "stream": "stdout",
       "text": [
        "Receiving objects:  12% (2886/24043)   \n"
       ]
      },
      {
       "output_type": "stream",
       "stream": "stdout",
       "text": [
        "[ubuntu@ec2-54-225-5-82.compute-1.amazonaws.com] out: "
       ]
      },
      {
       "output_type": "stream",
       "stream": "stdout",
       "text": [
        "Receiving objects:  13% (3126/24043)   \n"
       ]
      },
      {
       "output_type": "stream",
       "stream": "stdout",
       "text": [
        "[ubuntu@ec2-54-225-5-82.compute-1.amazonaws.com] out: "
       ]
      },
      {
       "output_type": "stream",
       "stream": "stdout",
       "text": [
        "Receiving objects:  14% (3367/24043)   \n"
       ]
      },
      {
       "output_type": "stream",
       "stream": "stdout",
       "text": [
        "[ubuntu@ec2-54-225-5-82.compute-1.amazonaws.com] out: "
       ]
      },
      {
       "output_type": "stream",
       "stream": "stdout",
       "text": [
        "Receiving objects:  15% (3607/24043)   \n"
       ]
      },
      {
       "output_type": "stream",
       "stream": "stdout",
       "text": [
        "[ubuntu@ec2-54-225-5-82.compute-1.amazonaws.com] out: "
       ]
      },
      {
       "output_type": "stream",
       "stream": "stdout",
       "text": [
        "Receiving objects:  16% (3847/24043)   \n"
       ]
      },
      {
       "output_type": "stream",
       "stream": "stdout",
       "text": [
        "[ubuntu@ec2-54-225-5-82.compute-1.amazonaws.com] out: "
       ]
      },
      {
       "output_type": "stream",
       "stream": "stdout",
       "text": [
        "Receiving objects:  17% (4088/24043)   \n"
       ]
      },
      {
       "output_type": "stream",
       "stream": "stdout",
       "text": [
        "[ubuntu@ec2-54-225-5-82.compute-1.amazonaws.com] out: "
       ]
      },
      {
       "output_type": "stream",
       "stream": "stdout",
       "text": [
        "Receiving objects:  18% (4328/24043)   \n"
       ]
      },
      {
       "output_type": "stream",
       "stream": "stdout",
       "text": [
        "[ubuntu@ec2-54-225-5-82.compute-1.amazonaws.com] out: "
       ]
      },
      {
       "output_type": "stream",
       "stream": "stdout",
       "text": [
        "Receiving objects:  19% (4569/24043)   \n"
       ]
      },
      {
       "output_type": "stream",
       "stream": "stdout",
       "text": [
        "[ubuntu@ec2-54-225-5-82.compute-1.amazonaws.com] out: "
       ]
      },
      {
       "output_type": "stream",
       "stream": "stdout",
       "text": [
        "Receiving objects:  20% (4809/24043)   \n"
       ]
      },
      {
       "output_type": "stream",
       "stream": "stdout",
       "text": [
        "[ubuntu@ec2-54-225-5-82.compute-1.amazonaws.com] out: "
       ]
      },
      {
       "output_type": "stream",
       "stream": "stdout",
       "text": [
        "Receiving objects:  21% (5050/24043)   \n"
       ]
      },
      {
       "output_type": "stream",
       "stream": "stdout",
       "text": [
        "[ubuntu@ec2-54-225-5-82.compute-1.amazonaws.com] out: "
       ]
      },
      {
       "output_type": "stream",
       "stream": "stdout",
       "text": [
        "Receiving objects:  22% (5290/24043)   \n"
       ]
      },
      {
       "output_type": "stream",
       "stream": "stdout",
       "text": [
        "[ubuntu@ec2-54-225-5-82.compute-1.amazonaws.com] out: "
       ]
      },
      {
       "output_type": "stream",
       "stream": "stdout",
       "text": [
        "Receiving objects:  23% (5530/24043)   \n"
       ]
      },
      {
       "output_type": "stream",
       "stream": "stdout",
       "text": [
        "[ubuntu@ec2-54-225-5-82.compute-1.amazonaws.com] out: "
       ]
      },
      {
       "output_type": "stream",
       "stream": "stdout",
       "text": [
        "Receiving objects:  24% (5771/24043)   \n"
       ]
      },
      {
       "output_type": "stream",
       "stream": "stdout",
       "text": [
        "[ubuntu@ec2-54-225-5-82.compute-1.amazonaws.com] out: "
       ]
      },
      {
       "output_type": "stream",
       "stream": "stdout",
       "text": [
        "Receiving objects:  25% (6011/24043)   \n"
       ]
      },
      {
       "output_type": "stream",
       "stream": "stdout",
       "text": [
        "[ubuntu@ec2-54-225-5-82.compute-1.amazonaws.com] out: "
       ]
      },
      {
       "output_type": "stream",
       "stream": "stdout",
       "text": [
        "Receiving objects:  26% (6252/24043)   \n"
       ]
      },
      {
       "output_type": "stream",
       "stream": "stdout",
       "text": [
        "[ubuntu@ec2-54-225-5-82.compute-1.amazonaws.com] out: "
       ]
      },
      {
       "output_type": "stream",
       "stream": "stdout",
       "text": [
        "Receiving objects:  27% (6492/24043)   \n"
       ]
      },
      {
       "output_type": "stream",
       "stream": "stdout",
       "text": [
        "[ubuntu@ec2-54-225-5-82.compute-1.amazonaws.com] out: "
       ]
      },
      {
       "output_type": "stream",
       "stream": "stdout",
       "text": [
        "Receiving objects:  28% (6733/24043)   \n"
       ]
      },
      {
       "output_type": "stream",
       "stream": "stdout",
       "text": [
        "[ubuntu@ec2-54-225-5-82.compute-1.amazonaws.com] out: "
       ]
      },
      {
       "output_type": "stream",
       "stream": "stdout",
       "text": [
        "Receiving objects:  29% (6973/24043)   \n"
       ]
      },
      {
       "output_type": "stream",
       "stream": "stdout",
       "text": [
        "[ubuntu@ec2-54-225-5-82.compute-1.amazonaws.com] out: "
       ]
      },
      {
       "output_type": "stream",
       "stream": "stdout",
       "text": [
        "Receiving objects:  30% (7213/24043), 3.69 MiB | 5.86 MiB/s   \n"
       ]
      },
      {
       "output_type": "stream",
       "stream": "stdout",
       "text": [
        "[ubuntu@ec2-54-225-5-82.compute-1.amazonaws.com] out: "
       ]
      },
      {
       "output_type": "stream",
       "stream": "stdout",
       "text": [
        "Receiving objects:  31% (7454/24043), 3.69 MiB | 5.86 MiB/s   \n"
       ]
      },
      {
       "output_type": "stream",
       "stream": "stdout",
       "text": [
        "[ubuntu@ec2-54-225-5-82.compute-1.amazonaws.com] out: "
       ]
      },
      {
       "output_type": "stream",
       "stream": "stdout",
       "text": [
        "Receiving objects:  32% (7694/24043), 3.69 MiB | 5.86 MiB/s   \n"
       ]
      },
      {
       "output_type": "stream",
       "stream": "stdout",
       "text": [
        "[ubuntu@ec2-54-225-5-82.compute-1.amazonaws.com] out: "
       ]
      },
      {
       "output_type": "stream",
       "stream": "stdout",
       "text": [
        "Receiving objects:  33% (7935/24043), 3.69 MiB | 5.86 MiB/s   \n"
       ]
      },
      {
       "output_type": "stream",
       "stream": "stdout",
       "text": [
        "[ubuntu@ec2-54-225-5-82.compute-1.amazonaws.com] out: "
       ]
      },
      {
       "output_type": "stream",
       "stream": "stdout",
       "text": [
        "Receiving objects:  34% (8175/24043), 3.69 MiB | 5.86 MiB/s   \n"
       ]
      },
      {
       "output_type": "stream",
       "stream": "stdout",
       "text": [
        "[ubuntu@ec2-54-225-5-82.compute-1.amazonaws.com] out: "
       ]
      },
      {
       "output_type": "stream",
       "stream": "stdout",
       "text": [
        "Receiving objects:  35% (8416/24043), 3.69 MiB | 5.86 MiB/s   \n"
       ]
      },
      {
       "output_type": "stream",
       "stream": "stdout",
       "text": [
        "[ubuntu@ec2-54-225-5-82.compute-1.amazonaws.com] out: "
       ]
      },
      {
       "output_type": "stream",
       "stream": "stdout",
       "text": [
        "Receiving objects:  36% (8656/24043), 3.69 MiB | 5.86 MiB/s   \n"
       ]
      },
      {
       "output_type": "stream",
       "stream": "stdout",
       "text": [
        "[ubuntu@ec2-54-225-5-82.compute-1.amazonaws.com] out: "
       ]
      },
      {
       "output_type": "stream",
       "stream": "stdout",
       "text": [
        "Receiving objects:  37% (8896/24043), 3.69 MiB | 5.86 MiB/s   \n"
       ]
      },
      {
       "output_type": "stream",
       "stream": "stdout",
       "text": [
        "[ubuntu@ec2-54-225-5-82.compute-1.amazonaws.com] out: "
       ]
      },
      {
       "output_type": "stream",
       "stream": "stdout",
       "text": [
        "Receiving objects:  38% (9137/24043), 3.69 MiB | 5.86 MiB/s   \n"
       ]
      },
      {
       "output_type": "stream",
       "stream": "stdout",
       "text": [
        "[ubuntu@ec2-54-225-5-82.compute-1.amazonaws.com] out: "
       ]
      },
      {
       "output_type": "stream",
       "stream": "stdout",
       "text": [
        "Receiving objects:  39% (9377/24043), 3.69 MiB | 5.86 MiB/s   \n"
       ]
      },
      {
       "output_type": "stream",
       "stream": "stdout",
       "text": [
        "[ubuntu@ec2-54-225-5-82.compute-1.amazonaws.com] out: "
       ]
      },
      {
       "output_type": "stream",
       "stream": "stdout",
       "text": [
        "Receiving objects:  40% (9618/24043), 3.69 MiB | 5.86 MiB/s   \n"
       ]
      },
      {
       "output_type": "stream",
       "stream": "stdout",
       "text": [
        "[ubuntu@ec2-54-225-5-82.compute-1.amazonaws.com] out: "
       ]
      },
      {
       "output_type": "stream",
       "stream": "stdout",
       "text": [
        "Receiving objects:  41% (9858/24043), 3.69 MiB | 5.86 MiB/s   \n"
       ]
      },
      {
       "output_type": "stream",
       "stream": "stdout",
       "text": [
        "[ubuntu@ec2-54-225-5-82.compute-1.amazonaws.com] out: "
       ]
      },
      {
       "output_type": "stream",
       "stream": "stdout",
       "text": [
        "Receiving objects:  42% (10099/24043), 3.69 MiB | 5.86 MiB/s   \n"
       ]
      },
      {
       "output_type": "stream",
       "stream": "stdout",
       "text": [
        "[ubuntu@ec2-54-225-5-82.compute-1.amazonaws.com] out: "
       ]
      },
      {
       "output_type": "stream",
       "stream": "stdout",
       "text": [
        "Receiving objects:  43% (10339/24043), 3.69 MiB | 5.86 MiB/s   \n"
       ]
      },
      {
       "output_type": "stream",
       "stream": "stdout",
       "text": [
        "[ubuntu@ec2-54-225-5-82.compute-1.amazonaws.com] out: "
       ]
      },
      {
       "output_type": "stream",
       "stream": "stdout",
       "text": [
        "Receiving objects:  43% (10578/24043), 8.92 MiB | 7.87 MiB/s   \n"
       ]
      },
      {
       "output_type": "stream",
       "stream": "stdout",
       "text": [
        "[ubuntu@ec2-54-225-5-82.compute-1.amazonaws.com] out: "
       ]
      },
      {
       "output_type": "stream",
       "stream": "stdout",
       "text": [
        "Receiving objects:  43% (10578/24043), 19.04 MiB | 8.56 MiB/s   \n"
       ]
      },
      {
       "output_type": "stream",
       "stream": "stdout",
       "text": [
        "[ubuntu@ec2-54-225-5-82.compute-1.amazonaws.com] out: "
       ]
      },
      {
       "output_type": "stream",
       "stream": "stdout",
       "text": [
        "Receiving objects:  43% (10578/24043), 28.11 MiB | 8.56 MiB/s   \n"
       ]
      },
      {
       "output_type": "stream",
       "stream": "stdout",
       "text": [
        "[ubuntu@ec2-54-225-5-82.compute-1.amazonaws.com] out: "
       ]
      },
      {
       "output_type": "stream",
       "stream": "stdout",
       "text": [
        "Receiving objects:  44% (10579/24043), 32.25 MiB | 8.45 MiB/s   \n"
       ]
      },
      {
       "output_type": "stream",
       "stream": "stdout",
       "text": [
        "[ubuntu@ec2-54-225-5-82.compute-1.amazonaws.com] out: "
       ]
      },
      {
       "output_type": "stream",
       "stream": "stdout",
       "text": [
        "Receiving objects:  44% (10579/24043), 42.59 MiB | 8.24 MiB/s   \n"
       ]
      },
      {
       "output_type": "stream",
       "stream": "stdout",
       "text": [
        "[ubuntu@ec2-54-225-5-82.compute-1.amazonaws.com] out: "
       ]
      },
      {
       "output_type": "stream",
       "stream": "stdout",
       "text": [
        "Receiving objects:  45% (10820/24043), 42.59 MiB | 8.24 MiB/s   \n"
       ]
      },
      {
       "output_type": "stream",
       "stream": "stdout",
       "text": [
        "[ubuntu@ec2-54-225-5-82.compute-1.amazonaws.com] out: "
       ]
      },
      {
       "output_type": "stream",
       "stream": "stdout",
       "text": [
        "Receiving objects:  46% (11060/24043), 42.59 MiB | 8.24 MiB/s   \n"
       ]
      },
      {
       "output_type": "stream",
       "stream": "stdout",
       "text": [
        "[ubuntu@ec2-54-225-5-82.compute-1.amazonaws.com] out: "
       ]
      },
      {
       "output_type": "stream",
       "stream": "stdout",
       "text": [
        "Receiving objects:  47% (11301/24043), 42.59 MiB | 8.24 MiB/s   \n"
       ]
      },
      {
       "output_type": "stream",
       "stream": "stdout",
       "text": [
        "[ubuntu@ec2-54-225-5-82.compute-1.amazonaws.com] out: "
       ]
      },
      {
       "output_type": "stream",
       "stream": "stdout",
       "text": [
        "Receiving objects:  47% (11451/24043), 48.66 MiB | 7.19 MiB/s   \n"
       ]
      },
      {
       "output_type": "stream",
       "stream": "stdout",
       "text": [
        "[ubuntu@ec2-54-225-5-82.compute-1.amazonaws.com] out: "
       ]
      },
      {
       "output_type": "stream",
       "stream": "stdout",
       "text": [
        "Receiving objects:  47% (11452/24043), 60.46 MiB | 7.90 MiB/s   \n"
       ]
      },
      {
       "output_type": "stream",
       "stream": "stdout",
       "text": [
        "[ubuntu@ec2-54-225-5-82.compute-1.amazonaws.com] out: "
       ]
      },
      {
       "output_type": "stream",
       "stream": "stdout",
       "text": [
        "Receiving objects:  47% (11452/24043), 65.09 MiB | 7.82 MiB/s   \n"
       ]
      },
      {
       "output_type": "stream",
       "stream": "stdout",
       "text": [
        "[ubuntu@ec2-54-225-5-82.compute-1.amazonaws.com] out: "
       ]
      },
      {
       "output_type": "stream",
       "stream": "stdout",
       "text": [
        "Receiving objects:  47% (11453/24043), 77.25 MiB | 9.11 MiB/s   \n"
       ]
      },
      {
       "output_type": "stream",
       "stream": "stdout",
       "text": [
        "[ubuntu@ec2-54-225-5-82.compute-1.amazonaws.com] out: "
       ]
      },
      {
       "output_type": "stream",
       "stream": "stdout",
       "text": [
        "Receiving objects:  47% (11453/24043), 90.78 MiB | 10.29 MiB/s   \n"
       ]
      },
      {
       "output_type": "stream",
       "stream": "stdout",
       "text": [
        "[ubuntu@ec2-54-225-5-82.compute-1.amazonaws.com] out: "
       ]
      },
      {
       "output_type": "stream",
       "stream": "stdout",
       "text": [
        "Receiving objects:  47% (11455/24043), 103.77 MiB | 11.77 MiB/s   \n"
       ]
      },
      {
       "output_type": "stream",
       "stream": "stdout",
       "text": [
        "[ubuntu@ec2-54-225-5-82.compute-1.amazonaws.com] out: "
       ]
      },
      {
       "output_type": "stream",
       "stream": "stdout",
       "text": [
        "Receiving objects:  47% (11455/24043), 114.43 MiB | 11.60 MiB/s   \n"
       ]
      },
      {
       "output_type": "stream",
       "stream": "stdout",
       "text": [
        "[ubuntu@ec2-54-225-5-82.compute-1.amazonaws.com] out: "
       ]
      },
      {
       "output_type": "stream",
       "stream": "stdout",
       "text": [
        "Receiving objects:  48% (11541/24043), 114.43 MiB | 11.60 MiB/s   \n"
       ]
      },
      {
       "output_type": "stream",
       "stream": "stdout",
       "text": [
        "[ubuntu@ec2-54-225-5-82.compute-1.amazonaws.com] out: "
       ]
      },
      {
       "output_type": "stream",
       "stream": "stdout",
       "text": [
        "Receiving objects:  49% (11782/24043), 114.43 MiB | 11.60 MiB/s   \n"
       ]
      },
      {
       "output_type": "stream",
       "stream": "stdout",
       "text": [
        "[ubuntu@ec2-54-225-5-82.compute-1.amazonaws.com] out: "
       ]
      },
      {
       "output_type": "stream",
       "stream": "stdout",
       "text": [
        "Receiving objects:  50% (12022/24043), 118.39 MiB | 10.80 MiB/s   \n"
       ]
      },
      {
       "output_type": "stream",
       "stream": "stdout",
       "text": [
        "[ubuntu@ec2-54-225-5-82.compute-1.amazonaws.com] out: "
       ]
      },
      {
       "output_type": "stream",
       "stream": "stdout",
       "text": [
        "Receiving objects:  51% (12262/24043), 118.39 MiB | 10.80 MiB/s   \n"
       ]
      },
      {
       "output_type": "stream",
       "stream": "stdout",
       "text": [
        "[ubuntu@ec2-54-225-5-82.compute-1.amazonaws.com] out: "
       ]
      },
      {
       "output_type": "stream",
       "stream": "stdout",
       "text": [
        "Receiving objects:  52% (12503/24043), 118.39 MiB | 10.80 MiB/s   \n"
       ]
      },
      {
       "output_type": "stream",
       "stream": "stdout",
       "text": [
        "[ubuntu@ec2-54-225-5-82.compute-1.amazonaws.com] out: "
       ]
      },
      {
       "output_type": "stream",
       "stream": "stdout",
       "text": [
        "Receiving objects:  53% (12743/24043), 118.39 MiB | 10.80 MiB/s   \n"
       ]
      },
      {
       "output_type": "stream",
       "stream": "stdout",
       "text": [
        "[ubuntu@ec2-54-225-5-82.compute-1.amazonaws.com] out: "
       ]
      },
      {
       "output_type": "stream",
       "stream": "stdout",
       "text": [
        "Receiving objects:  53% (12812/24043), 118.39 MiB | 10.80 MiB/s   \n"
       ]
      },
      {
       "output_type": "stream",
       "stream": "stdout",
       "text": [
        "[ubuntu@ec2-54-225-5-82.compute-1.amazonaws.com] out: "
       ]
      },
      {
       "output_type": "stream",
       "stream": "stdout",
       "text": [
        "Receiving objects:  54% (12984/24043), 118.39 MiB | 10.80 MiB/s   \n"
       ]
      },
      {
       "output_type": "stream",
       "stream": "stdout",
       "text": [
        "[ubuntu@ec2-54-225-5-82.compute-1.amazonaws.com] out: "
       ]
      },
      {
       "output_type": "stream",
       "stream": "stdout",
       "text": [
        "Receiving objects:  55% (13224/24043), 118.39 MiB | 10.80 MiB/s   \n"
       ]
      },
      {
       "output_type": "stream",
       "stream": "stdout",
       "text": [
        "[ubuntu@ec2-54-225-5-82.compute-1.amazonaws.com] out: "
       ]
      },
      {
       "output_type": "stream",
       "stream": "stdout",
       "text": [
        "Receiving objects:  56% (13465/24043), 118.39 MiB | 10.80 MiB/s   \n"
       ]
      },
      {
       "output_type": "stream",
       "stream": "stdout",
       "text": [
        "[ubuntu@ec2-54-225-5-82.compute-1.amazonaws.com] out: "
       ]
      },
      {
       "output_type": "stream",
       "stream": "stdout",
       "text": [
        "Receiving objects:  57% (13705/24043), 118.39 MiB | 10.80 MiB/s   \n"
       ]
      },
      {
       "output_type": "stream",
       "stream": "stdout",
       "text": [
        "[ubuntu@ec2-54-225-5-82.compute-1.amazonaws.com] out: "
       ]
      },
      {
       "output_type": "stream",
       "stream": "stdout",
       "text": [
        "Receiving objects:  58% (13945/24043), 118.39 MiB | 10.80 MiB/s   \n"
       ]
      },
      {
       "output_type": "stream",
       "stream": "stdout",
       "text": [
        "[ubuntu@ec2-54-225-5-82.compute-1.amazonaws.com] out: "
       ]
      },
      {
       "output_type": "stream",
       "stream": "stdout",
       "text": [
        "Receiving objects:  59% (14186/24043), 118.39 MiB | 10.80 MiB/s   \n"
       ]
      },
      {
       "output_type": "stream",
       "stream": "stdout",
       "text": [
        "[ubuntu@ec2-54-225-5-82.compute-1.amazonaws.com] out: "
       ]
      },
      {
       "output_type": "stream",
       "stream": "stdout",
       "text": [
        "Receiving objects:  60% (14426/24043), 118.39 MiB | 10.80 MiB/s   \n"
       ]
      },
      {
       "output_type": "stream",
       "stream": "stdout",
       "text": [
        "[ubuntu@ec2-54-225-5-82.compute-1.amazonaws.com] out: "
       ]
      },
      {
       "output_type": "stream",
       "stream": "stdout",
       "text": [
        "Receiving objects:  61% (14667/24043), 118.39 MiB | 10.80 MiB/s   \n"
       ]
      },
      {
       "output_type": "stream",
       "stream": "stdout",
       "text": [
        "[ubuntu@ec2-54-225-5-82.compute-1.amazonaws.com] out: "
       ]
      },
      {
       "output_type": "stream",
       "stream": "stdout",
       "text": [
        "Receiving objects:  62% (14907/24043), 118.39 MiB | 10.80 MiB/s   \n"
       ]
      },
      {
       "output_type": "stream",
       "stream": "stdout",
       "text": [
        "[ubuntu@ec2-54-225-5-82.compute-1.amazonaws.com] out: "
       ]
      },
      {
       "output_type": "stream",
       "stream": "stdout",
       "text": [
        "Receiving objects:  63% (15148/24043), 118.39 MiB | 10.80 MiB/s   \n"
       ]
      },
      {
       "output_type": "stream",
       "stream": "stdout",
       "text": [
        "[ubuntu@ec2-54-225-5-82.compute-1.amazonaws.com] out: "
       ]
      },
      {
       "output_type": "stream",
       "stream": "stdout",
       "text": [
        "Receiving objects:  64% (15388/24043), 118.39 MiB | 10.80 MiB/s   \n"
       ]
      },
      {
       "output_type": "stream",
       "stream": "stdout",
       "text": [
        "[ubuntu@ec2-54-225-5-82.compute-1.amazonaws.com] out: "
       ]
      },
      {
       "output_type": "stream",
       "stream": "stdout",
       "text": [
        "Receiving objects:  65% (15628/24043), 118.39 MiB | 10.80 MiB/s   \n"
       ]
      },
      {
       "output_type": "stream",
       "stream": "stdout",
       "text": [
        "[ubuntu@ec2-54-225-5-82.compute-1.amazonaws.com] out: "
       ]
      },
      {
       "output_type": "stream",
       "stream": "stdout",
       "text": [
        "Receiving objects:  66% (15869/24043), 118.39 MiB | 10.80 MiB/s   \n"
       ]
      },
      {
       "output_type": "stream",
       "stream": "stdout",
       "text": [
        "[ubuntu@ec2-54-225-5-82.compute-1.amazonaws.com] out: "
       ]
      },
      {
       "output_type": "stream",
       "stream": "stdout",
       "text": [
        "Receiving objects:  67% (16109/24043), 118.39 MiB | 10.80 MiB/s   \n"
       ]
      },
      {
       "output_type": "stream",
       "stream": "stdout",
       "text": [
        "[ubuntu@ec2-54-225-5-82.compute-1.amazonaws.com] out: "
       ]
      },
      {
       "output_type": "stream",
       "stream": "stdout",
       "text": [
        "Receiving objects:  68% (16350/24043), 118.39 MiB | 10.80 MiB/s   \n"
       ]
      },
      {
       "output_type": "stream",
       "stream": "stdout",
       "text": [
        "[ubuntu@ec2-54-225-5-82.compute-1.amazonaws.com] out: "
       ]
      },
      {
       "output_type": "stream",
       "stream": "stdout",
       "text": [
        "Receiving objects:  69% (16590/24043), 118.39 MiB | 10.80 MiB/s   \n"
       ]
      },
      {
       "output_type": "stream",
       "stream": "stdout",
       "text": [
        "[ubuntu@ec2-54-225-5-82.compute-1.amazonaws.com] out: "
       ]
      },
      {
       "output_type": "stream",
       "stream": "stdout",
       "text": [
        "Receiving objects:  70% (16831/24043), 118.39 MiB | 10.80 MiB/s   \n"
       ]
      },
      {
       "output_type": "stream",
       "stream": "stdout",
       "text": [
        "[ubuntu@ec2-54-225-5-82.compute-1.amazonaws.com] out: "
       ]
      },
      {
       "output_type": "stream",
       "stream": "stdout",
       "text": [
        "Receiving objects:  71% (17071/24043), 118.39 MiB | 10.80 MiB/s   \n"
       ]
      },
      {
       "output_type": "stream",
       "stream": "stdout",
       "text": [
        "[ubuntu@ec2-54-225-5-82.compute-1.amazonaws.com] out: "
       ]
      },
      {
       "output_type": "stream",
       "stream": "stdout",
       "text": [
        "Receiving objects:  72% (17311/24043), 118.39 MiB | 10.80 MiB/s   \n"
       ]
      },
      {
       "output_type": "stream",
       "stream": "stdout",
       "text": [
        "[ubuntu@ec2-54-225-5-82.compute-1.amazonaws.com] out: "
       ]
      },
      {
       "output_type": "stream",
       "stream": "stdout",
       "text": [
        "Receiving objects:  73% (17552/24043), 118.39 MiB | 10.80 MiB/s   \n"
       ]
      },
      {
       "output_type": "stream",
       "stream": "stdout",
       "text": [
        "[ubuntu@ec2-54-225-5-82.compute-1.amazonaws.com] out: "
       ]
      },
      {
       "output_type": "stream",
       "stream": "stdout",
       "text": [
        "Receiving objects:  74% (17792/24043), 118.39 MiB | 10.80 MiB/s   \n"
       ]
      },
      {
       "output_type": "stream",
       "stream": "stdout",
       "text": [
        "[ubuntu@ec2-54-225-5-82.compute-1.amazonaws.com] out: "
       ]
      },
      {
       "output_type": "stream",
       "stream": "stdout",
       "text": [
        "Receiving objects:  75% (18033/24043), 118.39 MiB | 10.80 MiB/s   \n"
       ]
      },
      {
       "output_type": "stream",
       "stream": "stdout",
       "text": [
        "[ubuntu@ec2-54-225-5-82.compute-1.amazonaws.com] out: "
       ]
      },
      {
       "output_type": "stream",
       "stream": "stdout",
       "text": [
        "Receiving objects:  76% (18273/24043), 118.39 MiB | 10.80 MiB/s   \n"
       ]
      },
      {
       "output_type": "stream",
       "stream": "stdout",
       "text": [
        "[ubuntu@ec2-54-225-5-82.compute-1.amazonaws.com] out: "
       ]
      },
      {
       "output_type": "stream",
       "stream": "stdout",
       "text": [
        "Receiving objects:  77% (18514/24043), 118.39 MiB | 10.80 MiB/s   \n"
       ]
      },
      {
       "output_type": "stream",
       "stream": "stdout",
       "text": [
        "[ubuntu@ec2-54-225-5-82.compute-1.amazonaws.com] out: "
       ]
      },
      {
       "output_type": "stream",
       "stream": "stdout",
       "text": [
        "Receiving objects:  78% (18754/24043), 118.39 MiB | 10.80 MiB/s   \n"
       ]
      },
      {
       "output_type": "stream",
       "stream": "stdout",
       "text": [
        "[ubuntu@ec2-54-225-5-82.compute-1.amazonaws.com] out: "
       ]
      },
      {
       "output_type": "stream",
       "stream": "stdout",
       "text": [
        "Receiving objects:  79% (18994/24043), 118.39 MiB | 10.80 MiB/s   \n"
       ]
      },
      {
       "output_type": "stream",
       "stream": "stdout",
       "text": [
        "[ubuntu@ec2-54-225-5-82.compute-1.amazonaws.com] out: "
       ]
      },
      {
       "output_type": "stream",
       "stream": "stdout",
       "text": [
        "Receiving objects:  80% (19235/24043), 118.39 MiB | 10.80 MiB/s   \n"
       ]
      },
      {
       "output_type": "stream",
       "stream": "stdout",
       "text": [
        "[ubuntu@ec2-54-225-5-82.compute-1.amazonaws.com] out: "
       ]
      },
      {
       "output_type": "stream",
       "stream": "stdout",
       "text": [
        "Receiving objects:  81% (19475/24043), 118.39 MiB | 10.80 MiB/s   \n"
       ]
      },
      {
       "output_type": "stream",
       "stream": "stdout",
       "text": [
        "[ubuntu@ec2-54-225-5-82.compute-1.amazonaws.com] out: "
       ]
      },
      {
       "output_type": "stream",
       "stream": "stdout",
       "text": [
        "Receiving objects:  82% (19716/24043), 118.39 MiB | 10.80 MiB/s   \n"
       ]
      },
      {
       "output_type": "stream",
       "stream": "stdout",
       "text": [
        "[ubuntu@ec2-54-225-5-82.compute-1.amazonaws.com] out: "
       ]
      },
      {
       "output_type": "stream",
       "stream": "stdout",
       "text": [
        "Receiving objects:  83% (19956/24043), 118.39 MiB | 10.80 MiB/s   \n"
       ]
      },
      {
       "output_type": "stream",
       "stream": "stdout",
       "text": [
        "[ubuntu@ec2-54-225-5-82.compute-1.amazonaws.com] out: "
       ]
      },
      {
       "output_type": "stream",
       "stream": "stdout",
       "text": [
        "Receiving objects:  84% (20197/24043), 118.39 MiB | 10.80 MiB/s   \n"
       ]
      },
      {
       "output_type": "stream",
       "stream": "stdout",
       "text": [
        "[ubuntu@ec2-54-225-5-82.compute-1.amazonaws.com] out: "
       ]
      },
      {
       "output_type": "stream",
       "stream": "stdout",
       "text": [
        "Receiving objects:  85% (20437/24043), 118.39 MiB | 10.80 MiB/s   \n"
       ]
      },
      {
       "output_type": "stream",
       "stream": "stdout",
       "text": [
        "[ubuntu@ec2-54-225-5-82.compute-1.amazonaws.com] out: "
       ]
      },
      {
       "output_type": "stream",
       "stream": "stdout",
       "text": [
        "Receiving objects:  86% (20677/24043), 118.39 MiB | 10.80 MiB/s   \n"
       ]
      },
      {
       "output_type": "stream",
       "stream": "stdout",
       "text": [
        "[ubuntu@ec2-54-225-5-82.compute-1.amazonaws.com] out: "
       ]
      },
      {
       "output_type": "stream",
       "stream": "stdout",
       "text": [
        "Receiving objects:  87% (20918/24043), 118.39 MiB | 10.80 MiB/s   \n"
       ]
      },
      {
       "output_type": "stream",
       "stream": "stdout",
       "text": [
        "[ubuntu@ec2-54-225-5-82.compute-1.amazonaws.com] out: "
       ]
      },
      {
       "output_type": "stream",
       "stream": "stdout",
       "text": [
        "Receiving objects:  88% (21158/24043), 118.39 MiB | 10.80 MiB/s   \n"
       ]
      },
      {
       "output_type": "stream",
       "stream": "stdout",
       "text": [
        "[ubuntu@ec2-54-225-5-82.compute-1.amazonaws.com] out: "
       ]
      },
      {
       "output_type": "stream",
       "stream": "stdout",
       "text": [
        "Receiving objects:  89% (21399/24043), 118.39 MiB | 10.80 MiB/s   \n"
       ]
      },
      {
       "output_type": "stream",
       "stream": "stdout",
       "text": [
        "[ubuntu@ec2-54-225-5-82.compute-1.amazonaws.com] out: "
       ]
      },
      {
       "output_type": "stream",
       "stream": "stdout",
       "text": [
        "Receiving objects:  90% (21639/24043), 118.39 MiB | 10.80 MiB/s   \n"
       ]
      },
      {
       "output_type": "stream",
       "stream": "stdout",
       "text": [
        "[ubuntu@ec2-54-225-5-82.compute-1.amazonaws.com] out: "
       ]
      },
      {
       "output_type": "stream",
       "stream": "stdout",
       "text": [
        "Receiving objects:  91% (21880/24043), 118.39 MiB | 10.80 MiB/s   \n"
       ]
      },
      {
       "output_type": "stream",
       "stream": "stdout",
       "text": [
        "[ubuntu@ec2-54-225-5-82.compute-1.amazonaws.com] out: "
       ]
      },
      {
       "output_type": "stream",
       "stream": "stdout",
       "text": [
        "Receiving objects:  92% (22120/24043), 118.39 MiB | 10.80 MiB/s   \n"
       ]
      },
      {
       "output_type": "stream",
       "stream": "stdout",
       "text": [
        "[ubuntu@ec2-54-225-5-82.compute-1.amazonaws.com] out: "
       ]
      },
      {
       "output_type": "stream",
       "stream": "stdout",
       "text": [
        "Receiving objects:  93% (22360/24043), 118.39 MiB | 10.80 MiB/s   \n"
       ]
      },
      {
       "output_type": "stream",
       "stream": "stdout",
       "text": [
        "[ubuntu@ec2-54-225-5-82.compute-1.amazonaws.com] out: "
       ]
      },
      {
       "output_type": "stream",
       "stream": "stdout",
       "text": [
        "Receiving objects:  94% (22601/24043), 125.14 MiB | 10.81 MiB/s   \n"
       ]
      },
      {
       "output_type": "stream",
       "stream": "stdout",
       "text": [
        "[ubuntu@ec2-54-225-5-82.compute-1.amazonaws.com] out: "
       ]
      },
      {
       "output_type": "stream",
       "stream": "stdout",
       "text": [
        "Receiving objects:  95% (22841/24043), 125.14 MiB | 10.81 MiB/s   \n"
       ]
      },
      {
       "output_type": "stream",
       "stream": "stdout",
       "text": [
        "[ubuntu@ec2-54-225-5-82.compute-1.amazonaws.com] out: "
       ]
      },
      {
       "output_type": "stream",
       "stream": "stdout",
       "text": [
        "Receiving objects:  96% (23082/24043), 125.14 MiB | 10.81 MiB/s   \n"
       ]
      },
      {
       "output_type": "stream",
       "stream": "stdout",
       "text": [
        "[ubuntu@ec2-54-225-5-82.compute-1.amazonaws.com] out: "
       ]
      },
      {
       "output_type": "stream",
       "stream": "stdout",
       "text": [
        "Receiving objects:  97% (23322/24043), 125.14 MiB | 10.81 MiB/s   \n"
       ]
      },
      {
       "output_type": "stream",
       "stream": "stdout",
       "text": [
        "[ubuntu@ec2-54-225-5-82.compute-1.amazonaws.com] out: "
       ]
      },
      {
       "output_type": "stream",
       "stream": "stdout",
       "text": [
        "remote: Total 24043 (delta 16885), reused 23898 (delta 16750)\u001b[K\n"
       ]
      },
      {
       "output_type": "stream",
       "stream": "stdout",
       "text": [
        "[ubuntu@ec2-54-225-5-82.compute-1.amazonaws.com] out: "
       ]
      },
      {
       "output_type": "stream",
       "stream": "stdout",
       "text": [
        "Receiving objects:  98% (23563/24043), 125.14 MiB | 10.81 MiB/s   \n"
       ]
      },
      {
       "output_type": "stream",
       "stream": "stdout",
       "text": [
        "[ubuntu@ec2-54-225-5-82.compute-1.amazonaws.com] out: "
       ]
      },
      {
       "output_type": "stream",
       "stream": "stdout",
       "text": [
        "Receiving objects:  99% (23803/24043), 125.14 MiB | 10.81 MiB/s   \n"
       ]
      },
      {
       "output_type": "stream",
       "stream": "stdout",
       "text": [
        "[ubuntu@ec2-54-225-5-82.compute-1.amazonaws.com] out: "
       ]
      },
      {
       "output_type": "stream",
       "stream": "stdout",
       "text": [
        "Receiving objects: 100% (24043/24043), 125.14 MiB | 10.81 MiB/s   \n"
       ]
      },
      {
       "output_type": "stream",
       "stream": "stdout",
       "text": [
        "[ubuntu@ec2-54-225-5-82.compute-1.amazonaws.com] out: "
       ]
      },
      {
       "output_type": "stream",
       "stream": "stdout",
       "text": [
        "Receiving objects: 100% (24043/24043), 129.12 MiB | 10.84 MiB/s, done.\n"
       ]
      },
      {
       "output_type": "stream",
       "stream": "stdout",
       "text": [
        "[ubuntu@ec2-54-225-5-82.compute-1.amazonaws.com] out: "
       ]
      },
      {
       "output_type": "stream",
       "stream": "stdout",
       "text": [
        "Resolving deltas:   0% (0/16885)   \n"
       ]
      },
      {
       "output_type": "stream",
       "stream": "stdout",
       "text": [
        "[ubuntu@ec2-54-225-5-82.compute-1.amazonaws.com] out: "
       ]
      },
      {
       "output_type": "stream",
       "stream": "stdout",
       "text": [
        "Resolving deltas:   1% (169/16885)   \n"
       ]
      },
      {
       "output_type": "stream",
       "stream": "stdout",
       "text": [
        "[ubuntu@ec2-54-225-5-82.compute-1.amazonaws.com] out: "
       ]
      },
      {
       "output_type": "stream",
       "stream": "stdout",
       "text": [
        "Resolving deltas:   3% (635/16885)   \n"
       ]
      },
      {
       "output_type": "stream",
       "stream": "stdout",
       "text": [
        "[ubuntu@ec2-54-225-5-82.compute-1.amazonaws.com] out: "
       ]
      },
      {
       "output_type": "stream",
       "stream": "stdout",
       "text": [
        "Resolving deltas:   4% (758/16885)   \n"
       ]
      },
      {
       "output_type": "stream",
       "stream": "stdout",
       "text": [
        "[ubuntu@ec2-54-225-5-82.compute-1.amazonaws.com] out: "
       ]
      },
      {
       "output_type": "stream",
       "stream": "stdout",
       "text": [
        "Resolving deltas:   5% (937/16885)   \n"
       ]
      },
      {
       "output_type": "stream",
       "stream": "stdout",
       "text": [
        "[ubuntu@ec2-54-225-5-82.compute-1.amazonaws.com] out: "
       ]
      },
      {
       "output_type": "stream",
       "stream": "stdout",
       "text": [
        "Resolving deltas:   7% (1301/16885)   \n"
       ]
      },
      {
       "output_type": "stream",
       "stream": "stdout",
       "text": [
        "[ubuntu@ec2-54-225-5-82.compute-1.amazonaws.com] out: "
       ]
      },
      {
       "output_type": "stream",
       "stream": "stdout",
       "text": [
        "Resolving deltas:   8% (1405/16885)   \n"
       ]
      },
      {
       "output_type": "stream",
       "stream": "stdout",
       "text": [
        "[ubuntu@ec2-54-225-5-82.compute-1.amazonaws.com] out: "
       ]
      },
      {
       "output_type": "stream",
       "stream": "stdout",
       "text": [
        "Resolving deltas:   9% (1562/16885)   \n"
       ]
      },
      {
       "output_type": "stream",
       "stream": "stdout",
       "text": [
        "[ubuntu@ec2-54-225-5-82.compute-1.amazonaws.com] out: "
       ]
      },
      {
       "output_type": "stream",
       "stream": "stdout",
       "text": [
        "Resolving deltas:  10% (1803/16885)   \n"
       ]
      },
      {
       "output_type": "stream",
       "stream": "stdout",
       "text": [
        "[ubuntu@ec2-54-225-5-82.compute-1.amazonaws.com] out: "
       ]
      },
      {
       "output_type": "stream",
       "stream": "stdout",
       "text": [
        "Resolving deltas:  11% (1881/16885)   \n"
       ]
      },
      {
       "output_type": "stream",
       "stream": "stdout",
       "text": [
        "[ubuntu@ec2-54-225-5-82.compute-1.amazonaws.com] out: "
       ]
      },
      {
       "output_type": "stream",
       "stream": "stdout",
       "text": [
        "Resolving deltas:  12% (2042/16885)   \n"
       ]
      },
      {
       "output_type": "stream",
       "stream": "stdout",
       "text": [
        "[ubuntu@ec2-54-225-5-82.compute-1.amazonaws.com] out: "
       ]
      },
      {
       "output_type": "stream",
       "stream": "stdout",
       "text": [
        "Resolving deltas:  13% (2321/16885)   \n"
       ]
      },
      {
       "output_type": "stream",
       "stream": "stdout",
       "text": [
        "[ubuntu@ec2-54-225-5-82.compute-1.amazonaws.com] out: "
       ]
      },
      {
       "output_type": "stream",
       "stream": "stdout",
       "text": [
        "Resolving deltas:  14% (2364/16885)   \n"
       ]
      },
      {
       "output_type": "stream",
       "stream": "stdout",
       "text": [
        "[ubuntu@ec2-54-225-5-82.compute-1.amazonaws.com] out: "
       ]
      },
      {
       "output_type": "stream",
       "stream": "stdout",
       "text": [
        "Resolving deltas:  15% (2577/16885)   \n"
       ]
      },
      {
       "output_type": "stream",
       "stream": "stdout",
       "text": [
        "[ubuntu@ec2-54-225-5-82.compute-1.amazonaws.com] out: "
       ]
      },
      {
       "output_type": "stream",
       "stream": "stdout",
       "text": [
        "Resolving deltas:  18% (3167/16885)   \n"
       ]
      },
      {
       "output_type": "stream",
       "stream": "stdout",
       "text": [
        "[ubuntu@ec2-54-225-5-82.compute-1.amazonaws.com] out: "
       ]
      },
      {
       "output_type": "stream",
       "stream": "stdout",
       "text": [
        "Resolving deltas:  20% (3438/16885)   \n"
       ]
      },
      {
       "output_type": "stream",
       "stream": "stdout",
       "text": [
        "[ubuntu@ec2-54-225-5-82.compute-1.amazonaws.com] out: "
       ]
      },
      {
       "output_type": "stream",
       "stream": "stdout",
       "text": [
        "Resolving deltas:  21% (3648/16885)   \n"
       ]
      },
      {
       "output_type": "stream",
       "stream": "stdout",
       "text": [
        "[ubuntu@ec2-54-225-5-82.compute-1.amazonaws.com] out: "
       ]
      },
      {
       "output_type": "stream",
       "stream": "stdout",
       "text": [
        "Resolving deltas:  24% (4067/16885)   \n"
       ]
      },
      {
       "output_type": "stream",
       "stream": "stdout",
       "text": [
        "[ubuntu@ec2-54-225-5-82.compute-1.amazonaws.com] out: "
       ]
      },
      {
       "output_type": "stream",
       "stream": "stdout",
       "text": [
        "Resolving deltas:  30% (5079/16885)   \n"
       ]
      },
      {
       "output_type": "stream",
       "stream": "stdout",
       "text": [
        "[ubuntu@ec2-54-225-5-82.compute-1.amazonaws.com] out: "
       ]
      },
      {
       "output_type": "stream",
       "stream": "stdout",
       "text": [
        "Resolving deltas:  31% (5263/16885)   \n"
       ]
      },
      {
       "output_type": "stream",
       "stream": "stdout",
       "text": [
        "[ubuntu@ec2-54-225-5-82.compute-1.amazonaws.com] out: "
       ]
      },
      {
       "output_type": "stream",
       "stream": "stdout",
       "text": [
        "Resolving deltas:  34% (5747/16885)   \n"
       ]
      },
      {
       "output_type": "stream",
       "stream": "stdout",
       "text": [
        "[ubuntu@ec2-54-225-5-82.compute-1.amazonaws.com] out: "
       ]
      },
      {
       "output_type": "stream",
       "stream": "stdout",
       "text": [
        "Resolving deltas:  37% (6313/16885)   \n"
       ]
      },
      {
       "output_type": "stream",
       "stream": "stdout",
       "text": [
        "[ubuntu@ec2-54-225-5-82.compute-1.amazonaws.com] out: "
       ]
      },
      {
       "output_type": "stream",
       "stream": "stdout",
       "text": [
        "Resolving deltas:  38% (6527/16885)   \n"
       ]
      },
      {
       "output_type": "stream",
       "stream": "stdout",
       "text": [
        "[ubuntu@ec2-54-225-5-82.compute-1.amazonaws.com] out: "
       ]
      },
      {
       "output_type": "stream",
       "stream": "stdout",
       "text": [
        "Resolving deltas:  39% (6699/16885)   \n"
       ]
      },
      {
       "output_type": "stream",
       "stream": "stdout",
       "text": [
        "[ubuntu@ec2-54-225-5-82.compute-1.amazonaws.com] out: "
       ]
      },
      {
       "output_type": "stream",
       "stream": "stdout",
       "text": [
        "Resolving deltas:  40% (6754/16885)   \n"
       ]
      },
      {
       "output_type": "stream",
       "stream": "stdout",
       "text": [
        "[ubuntu@ec2-54-225-5-82.compute-1.amazonaws.com] out: "
       ]
      },
      {
       "output_type": "stream",
       "stream": "stdout",
       "text": [
        "Resolving deltas:  41% (6941/16885)   \n"
       ]
      },
      {
       "output_type": "stream",
       "stream": "stdout",
       "text": [
        "[ubuntu@ec2-54-225-5-82.compute-1.amazonaws.com] out: "
       ]
      },
      {
       "output_type": "stream",
       "stream": "stdout",
       "text": [
        "Resolving deltas:  42% (7173/16885)   \n"
       ]
      },
      {
       "output_type": "stream",
       "stream": "stdout",
       "text": [
        "[ubuntu@ec2-54-225-5-82.compute-1.amazonaws.com] out: "
       ]
      },
      {
       "output_type": "stream",
       "stream": "stdout",
       "text": [
        "Resolving deltas:  44% (7436/16885)   \n"
       ]
      },
      {
       "output_type": "stream",
       "stream": "stdout",
       "text": [
        "[ubuntu@ec2-54-225-5-82.compute-1.amazonaws.com] out: "
       ]
      },
      {
       "output_type": "stream",
       "stream": "stdout",
       "text": [
        "Resolving deltas:  45% (7638/16885)   \n"
       ]
      },
      {
       "output_type": "stream",
       "stream": "stdout",
       "text": [
        "[ubuntu@ec2-54-225-5-82.compute-1.amazonaws.com] out: "
       ]
      },
      {
       "output_type": "stream",
       "stream": "stdout",
       "text": [
        "Resolving deltas:  46% (7798/16885)   \n"
       ]
      },
      {
       "output_type": "stream",
       "stream": "stdout",
       "text": [
        "[ubuntu@ec2-54-225-5-82.compute-1.amazonaws.com] out: "
       ]
      },
      {
       "output_type": "stream",
       "stream": "stdout",
       "text": [
        "Resolving deltas:  47% (8015/16885)   \n"
       ]
      },
      {
       "output_type": "stream",
       "stream": "stdout",
       "text": [
        "[ubuntu@ec2-54-225-5-82.compute-1.amazonaws.com] out: "
       ]
      },
      {
       "output_type": "stream",
       "stream": "stdout",
       "text": [
        "Resolving deltas:  49% (8395/16885)   \n"
       ]
      },
      {
       "output_type": "stream",
       "stream": "stdout",
       "text": [
        "[ubuntu@ec2-54-225-5-82.compute-1.amazonaws.com] out: "
       ]
      },
      {
       "output_type": "stream",
       "stream": "stdout",
       "text": [
        "Resolving deltas:  50% (8469/16885)   \n"
       ]
      },
      {
       "output_type": "stream",
       "stream": "stdout",
       "text": [
        "[ubuntu@ec2-54-225-5-82.compute-1.amazonaws.com] out: "
       ]
      },
      {
       "output_type": "stream",
       "stream": "stdout",
       "text": [
        "Resolving deltas:  51% (8612/16885)   \n"
       ]
      },
      {
       "output_type": "stream",
       "stream": "stdout",
       "text": [
        "[ubuntu@ec2-54-225-5-82.compute-1.amazonaws.com] out: "
       ]
      },
      {
       "output_type": "stream",
       "stream": "stdout",
       "text": [
        "Resolving deltas:  52% (8828/16885)   \n"
       ]
      },
      {
       "output_type": "stream",
       "stream": "stdout",
       "text": [
        "[ubuntu@ec2-54-225-5-82.compute-1.amazonaws.com] out: "
       ]
      },
      {
       "output_type": "stream",
       "stream": "stdout",
       "text": [
        "Resolving deltas:  53% (8960/16885)   \n"
       ]
      },
      {
       "output_type": "stream",
       "stream": "stdout",
       "text": [
        "[ubuntu@ec2-54-225-5-82.compute-1.amazonaws.com] out: "
       ]
      },
      {
       "output_type": "stream",
       "stream": "stdout",
       "text": [
        "Resolving deltas:  54% (9149/16885)   \n"
       ]
      },
      {
       "output_type": "stream",
       "stream": "stdout",
       "text": [
        "[ubuntu@ec2-54-225-5-82.compute-1.amazonaws.com] out: "
       ]
      },
      {
       "output_type": "stream",
       "stream": "stdout",
       "text": [
        "Resolving deltas:  55% (9410/16885)   \n"
       ]
      },
      {
       "output_type": "stream",
       "stream": "stdout",
       "text": [
        "[ubuntu@ec2-54-225-5-82.compute-1.amazonaws.com] out: "
       ]
      },
      {
       "output_type": "stream",
       "stream": "stdout",
       "text": [
        "Resolving deltas:  56% (9468/16885)   \n"
       ]
      },
      {
       "output_type": "stream",
       "stream": "stdout",
       "text": [
        "[ubuntu@ec2-54-225-5-82.compute-1.amazonaws.com] out: "
       ]
      },
      {
       "output_type": "stream",
       "stream": "stdout",
       "text": [
        "Resolving deltas:  57% (9641/16885)   \n"
       ]
      },
      {
       "output_type": "stream",
       "stream": "stdout",
       "text": [
        "[ubuntu@ec2-54-225-5-82.compute-1.amazonaws.com] out: "
       ]
      },
      {
       "output_type": "stream",
       "stream": "stdout",
       "text": [
        "Resolving deltas:  58% (9841/16885)   \n"
       ]
      },
      {
       "output_type": "stream",
       "stream": "stdout",
       "text": [
        "[ubuntu@ec2-54-225-5-82.compute-1.amazonaws.com] out: "
       ]
      },
      {
       "output_type": "stream",
       "stream": "stdout",
       "text": [
        "Resolving deltas:  59% (9972/16885)   \n"
       ]
      },
      {
       "output_type": "stream",
       "stream": "stdout",
       "text": [
        "[ubuntu@ec2-54-225-5-82.compute-1.amazonaws.com] out: "
       ]
      },
      {
       "output_type": "stream",
       "stream": "stdout",
       "text": [
        "Resolving deltas:  60% (10147/16885)   \n"
       ]
      },
      {
       "output_type": "stream",
       "stream": "stdout",
       "text": [
        "[ubuntu@ec2-54-225-5-82.compute-1.amazonaws.com] out: "
       ]
      },
      {
       "output_type": "stream",
       "stream": "stdout",
       "text": [
        "Resolving deltas:  61% (10309/16885)   \n"
       ]
      },
      {
       "output_type": "stream",
       "stream": "stdout",
       "text": [
        "[ubuntu@ec2-54-225-5-82.compute-1.amazonaws.com] out: "
       ]
      },
      {
       "output_type": "stream",
       "stream": "stdout",
       "text": [
        "Resolving deltas:  62% (10472/16885)   \n"
       ]
      },
      {
       "output_type": "stream",
       "stream": "stdout",
       "text": [
        "[ubuntu@ec2-54-225-5-82.compute-1.amazonaws.com] out: "
       ]
      },
      {
       "output_type": "stream",
       "stream": "stdout",
       "text": [
        "Resolving deltas:  63% (10742/16885)   \n"
       ]
      },
      {
       "output_type": "stream",
       "stream": "stdout",
       "text": [
        "[ubuntu@ec2-54-225-5-82.compute-1.amazonaws.com] out: "
       ]
      },
      {
       "output_type": "stream",
       "stream": "stdout",
       "text": [
        "Resolving deltas:  64% (10809/16885)   \n"
       ]
      },
      {
       "output_type": "stream",
       "stream": "stdout",
       "text": [
        "[ubuntu@ec2-54-225-5-82.compute-1.amazonaws.com] out: "
       ]
      },
      {
       "output_type": "stream",
       "stream": "stdout",
       "text": [
        "Resolving deltas:  65% (11067/16885)   \n"
       ]
      },
      {
       "output_type": "stream",
       "stream": "stdout",
       "text": [
        "[ubuntu@ec2-54-225-5-82.compute-1.amazonaws.com] out: "
       ]
      },
      {
       "output_type": "stream",
       "stream": "stdout",
       "text": [
        "Resolving deltas:  66% (11155/16885)   \n"
       ]
      },
      {
       "output_type": "stream",
       "stream": "stdout",
       "text": [
        "[ubuntu@ec2-54-225-5-82.compute-1.amazonaws.com] out: "
       ]
      },
      {
       "output_type": "stream",
       "stream": "stdout",
       "text": [
        "Resolving deltas:  67% (11315/16885)   \n"
       ]
      },
      {
       "output_type": "stream",
       "stream": "stdout",
       "text": [
        "[ubuntu@ec2-54-225-5-82.compute-1.amazonaws.com] out: "
       ]
      },
      {
       "output_type": "stream",
       "stream": "stdout",
       "text": [
        "Resolving deltas:  68% (11484/16885)   \n"
       ]
      },
      {
       "output_type": "stream",
       "stream": "stdout",
       "text": [
        "[ubuntu@ec2-54-225-5-82.compute-1.amazonaws.com] out: "
       ]
      },
      {
       "output_type": "stream",
       "stream": "stdout",
       "text": [
        "Resolving deltas:  69% (11700/16885)   \n"
       ]
      },
      {
       "output_type": "stream",
       "stream": "stdout",
       "text": [
        "[ubuntu@ec2-54-225-5-82.compute-1.amazonaws.com] out: "
       ]
      },
      {
       "output_type": "stream",
       "stream": "stdout",
       "text": [
        "Resolving deltas:  70% (11820/16885)   \n"
       ]
      },
      {
       "output_type": "stream",
       "stream": "stdout",
       "text": [
        "[ubuntu@ec2-54-225-5-82.compute-1.amazonaws.com] out: "
       ]
      },
      {
       "output_type": "stream",
       "stream": "stdout",
       "text": [
        "Resolving deltas:  71% (11993/16885)   \n"
       ]
      },
      {
       "output_type": "stream",
       "stream": "stdout",
       "text": [
        "[ubuntu@ec2-54-225-5-82.compute-1.amazonaws.com] out: "
       ]
      },
      {
       "output_type": "stream",
       "stream": "stdout",
       "text": [
        "Resolving deltas:  72% (12162/16885)   \n"
       ]
      },
      {
       "output_type": "stream",
       "stream": "stdout",
       "text": [
        "[ubuntu@ec2-54-225-5-82.compute-1.amazonaws.com] out: "
       ]
      },
      {
       "output_type": "stream",
       "stream": "stdout",
       "text": [
        "Resolving deltas:  73% (12470/16885)   \n"
       ]
      },
      {
       "output_type": "stream",
       "stream": "stdout",
       "text": [
        "[ubuntu@ec2-54-225-5-82.compute-1.amazonaws.com] out: "
       ]
      },
      {
       "output_type": "stream",
       "stream": "stdout",
       "text": [
        "Resolving deltas:  74% (12587/16885)   \n"
       ]
      },
      {
       "output_type": "stream",
       "stream": "stdout",
       "text": [
        "[ubuntu@ec2-54-225-5-82.compute-1.amazonaws.com] out: "
       ]
      },
      {
       "output_type": "stream",
       "stream": "stdout",
       "text": [
        "Resolving deltas:  75% (12742/16885)   \n"
       ]
      },
      {
       "output_type": "stream",
       "stream": "stdout",
       "text": [
        "[ubuntu@ec2-54-225-5-82.compute-1.amazonaws.com] out: "
       ]
      },
      {
       "output_type": "stream",
       "stream": "stdout",
       "text": [
        "Resolving deltas:  77% (13004/16885)   \n"
       ]
      },
      {
       "output_type": "stream",
       "stream": "stdout",
       "text": [
        "[ubuntu@ec2-54-225-5-82.compute-1.amazonaws.com] out: "
       ]
      },
      {
       "output_type": "stream",
       "stream": "stdout",
       "text": [
        "Resolving deltas:  78% (13201/16885)   \n"
       ]
      },
      {
       "output_type": "stream",
       "stream": "stdout",
       "text": [
        "[ubuntu@ec2-54-225-5-82.compute-1.amazonaws.com] out: "
       ]
      },
      {
       "output_type": "stream",
       "stream": "stdout",
       "text": [
        "Resolving deltas:  79% (13354/16885)   \n"
       ]
      },
      {
       "output_type": "stream",
       "stream": "stdout",
       "text": [
        "[ubuntu@ec2-54-225-5-82.compute-1.amazonaws.com] out: "
       ]
      },
      {
       "output_type": "stream",
       "stream": "stdout",
       "text": [
        "Resolving deltas:  80% (13532/16885)   \n"
       ]
      },
      {
       "output_type": "stream",
       "stream": "stdout",
       "text": [
        "[ubuntu@ec2-54-225-5-82.compute-1.amazonaws.com] out: "
       ]
      },
      {
       "output_type": "stream",
       "stream": "stdout",
       "text": [
        "Resolving deltas:  81% (13700/16885)   \n"
       ]
      },
      {
       "output_type": "stream",
       "stream": "stdout",
       "text": [
        "[ubuntu@ec2-54-225-5-82.compute-1.amazonaws.com] out: "
       ]
      },
      {
       "output_type": "stream",
       "stream": "stdout",
       "text": [
        "Resolving deltas:  82% (13858/16885)   \n"
       ]
      },
      {
       "output_type": "stream",
       "stream": "stdout",
       "text": [
        "[ubuntu@ec2-54-225-5-82.compute-1.amazonaws.com] out: "
       ]
      },
      {
       "output_type": "stream",
       "stream": "stdout",
       "text": [
        "Resolving deltas:  83% (14128/16885)   \n"
       ]
      },
      {
       "output_type": "stream",
       "stream": "stdout",
       "text": [
        "[ubuntu@ec2-54-225-5-82.compute-1.amazonaws.com] out: "
       ]
      },
      {
       "output_type": "stream",
       "stream": "stdout",
       "text": [
        "Resolving deltas:  84% (14187/16885)   \n"
       ]
      },
      {
       "output_type": "stream",
       "stream": "stdout",
       "text": [
        "[ubuntu@ec2-54-225-5-82.compute-1.amazonaws.com] out: "
       ]
      },
      {
       "output_type": "stream",
       "stream": "stdout",
       "text": [
        "Resolving deltas:  85% (14396/16885)   \n"
       ]
      },
      {
       "output_type": "stream",
       "stream": "stdout",
       "text": [
        "[ubuntu@ec2-54-225-5-82.compute-1.amazonaws.com] out: "
       ]
      },
      {
       "output_type": "stream",
       "stream": "stdout",
       "text": [
        "Resolving deltas:  86% (14529/16885)   \n"
       ]
      },
      {
       "output_type": "stream",
       "stream": "stdout",
       "text": [
        "[ubuntu@ec2-54-225-5-82.compute-1.amazonaws.com] out: "
       ]
      },
      {
       "output_type": "stream",
       "stream": "stdout",
       "text": [
        "Resolving deltas:  87% (14819/16885)   \n"
       ]
      },
      {
       "output_type": "stream",
       "stream": "stdout",
       "text": [
        "[ubuntu@ec2-54-225-5-82.compute-1.amazonaws.com] out: "
       ]
      },
      {
       "output_type": "stream",
       "stream": "stdout",
       "text": [
        "Resolving deltas:  88% (14860/16885)   \n"
       ]
      },
      {
       "output_type": "stream",
       "stream": "stdout",
       "text": [
        "[ubuntu@ec2-54-225-5-82.compute-1.amazonaws.com] out: "
       ]
      },
      {
       "output_type": "stream",
       "stream": "stdout",
       "text": [
        "Resolving deltas:  89% (15065/16885)   \n"
       ]
      },
      {
       "output_type": "stream",
       "stream": "stdout",
       "text": [
        "[ubuntu@ec2-54-225-5-82.compute-1.amazonaws.com] out: "
       ]
      },
      {
       "output_type": "stream",
       "stream": "stdout",
       "text": [
        "Resolving deltas:  90% (15214/16885)   \n"
       ]
      },
      {
       "output_type": "stream",
       "stream": "stdout",
       "text": [
        "[ubuntu@ec2-54-225-5-82.compute-1.amazonaws.com] out: "
       ]
      },
      {
       "output_type": "stream",
       "stream": "stdout",
       "text": [
        "Resolving deltas:  91% (15406/16885)   \n"
       ]
      },
      {
       "output_type": "stream",
       "stream": "stdout",
       "text": [
        "[ubuntu@ec2-54-225-5-82.compute-1.amazonaws.com] out: "
       ]
      },
      {
       "output_type": "stream",
       "stream": "stdout",
       "text": [
        "Resolving deltas:  92% (15540/16885)   \n"
       ]
      },
      {
       "output_type": "stream",
       "stream": "stdout",
       "text": [
        "[ubuntu@ec2-54-225-5-82.compute-1.amazonaws.com] out: "
       ]
      },
      {
       "output_type": "stream",
       "stream": "stdout",
       "text": [
        "Resolving deltas:  93% (15724/16885)   \n"
       ]
      },
      {
       "output_type": "stream",
       "stream": "stdout",
       "text": [
        "[ubuntu@ec2-54-225-5-82.compute-1.amazonaws.com] out: "
       ]
      },
      {
       "output_type": "stream",
       "stream": "stdout",
       "text": [
        "Resolving deltas:  94% (15872/16885)   \n"
       ]
      },
      {
       "output_type": "stream",
       "stream": "stdout",
       "text": [
        "[ubuntu@ec2-54-225-5-82.compute-1.amazonaws.com] out: "
       ]
      },
      {
       "output_type": "stream",
       "stream": "stdout",
       "text": [
        "Resolving deltas:  95% (16046/16885)   \n"
       ]
      },
      {
       "output_type": "stream",
       "stream": "stdout",
       "text": [
        "[ubuntu@ec2-54-225-5-82.compute-1.amazonaws.com] out: "
       ]
      },
      {
       "output_type": "stream",
       "stream": "stdout",
       "text": [
        "Resolving deltas:  96% (16246/16885)   \n"
       ]
      },
      {
       "output_type": "stream",
       "stream": "stdout",
       "text": [
        "[ubuntu@ec2-54-225-5-82.compute-1.amazonaws.com] out: "
       ]
      },
      {
       "output_type": "stream",
       "stream": "stdout",
       "text": [
        "Resolving deltas:  97% (16379/16885)   \n"
       ]
      },
      {
       "output_type": "stream",
       "stream": "stdout",
       "text": [
        "[ubuntu@ec2-54-225-5-82.compute-1.amazonaws.com] out: "
       ]
      },
      {
       "output_type": "stream",
       "stream": "stdout",
       "text": [
        "Resolving deltas:  97% (16542/16885)   \n"
       ]
      },
      {
       "output_type": "stream",
       "stream": "stdout",
       "text": [
        "[ubuntu@ec2-54-225-5-82.compute-1.amazonaws.com] out: "
       ]
      },
      {
       "output_type": "stream",
       "stream": "stdout",
       "text": [
        "Resolving deltas:  98% (16569/16885)   \n"
       ]
      },
      {
       "output_type": "stream",
       "stream": "stdout",
       "text": [
        "[ubuntu@ec2-54-225-5-82.compute-1.amazonaws.com] out: "
       ]
      },
      {
       "output_type": "stream",
       "stream": "stdout",
       "text": [
        "Resolving deltas:  99% (16717/16885)   \n"
       ]
      },
      {
       "output_type": "stream",
       "stream": "stdout",
       "text": [
        "[ubuntu@ec2-54-225-5-82.compute-1.amazonaws.com] out: "
       ]
      },
      {
       "output_type": "stream",
       "stream": "stdout",
       "text": [
        "Resolving deltas: 100% (16885/16885)   \n"
       ]
      },
      {
       "output_type": "stream",
       "stream": "stdout",
       "text": [
        "[ubuntu@ec2-54-225-5-82.compute-1.amazonaws.com] out: "
       ]
      },
      {
       "output_type": "stream",
       "stream": "stdout",
       "text": [
        "Resolving deltas: 100% (16885/16885), done.\n"
       ]
      },
      {
       "output_type": "stream",
       "stream": "stdout",
       "text": [
        "[ubuntu@ec2-54-225-5-82.compute-1.amazonaws.com] out: "
       ]
      },
      {
       "output_type": "stream",
       "stream": "stdout",
       "text": [
        "\n"
       ]
      },
      {
       "output_type": "stream",
       "stream": "stdout",
       "text": [
        "\n",
        "[ubuntu@ec2-54-225-5-82.compute-1.amazonaws.com] sudo: debconf-set-selections <<< 'mysql-server-5.5 mysql-server/root_password password unglueit_pw_123'\n",
        "[ubuntu@ec2-54-225-5-82.compute-1.amazonaws.com] sudo: debconf-set-selections <<< 'mysql-server-5.5 mysql-server/root_password_again password unglueit_pw_123'"
       ]
      },
      {
       "output_type": "stream",
       "stream": "stdout",
       "text": [
        "\n",
        "[ubuntu@ec2-54-225-5-82.compute-1.amazonaws.com] sudo: apt-get -y install mysql-server"
       ]
      },
      {
       "output_type": "stream",
       "stream": "stdout",
       "text": [
        "\n",
        "[ubuntu@ec2-54-225-5-82.compute-1.amazonaws.com] out: "
       ]
      },
      {
       "output_type": "stream",
       "stream": "stdout",
       "text": [
        "\n"
       ]
      },
      {
       "output_type": "stream",
       "stream": "stdout",
       "text": [
        "[ubuntu@ec2-54-225-5-82.compute-1.amazonaws.com] out: "
       ]
      },
      {
       "output_type": "stream",
       "stream": "stdout",
       "text": [
        "Reading package lists... 0%\n"
       ]
      },
      {
       "output_type": "stream",
       "stream": "stdout",
       "text": [
        "[ubuntu@ec2-54-225-5-82.compute-1.amazonaws.com] out: "
       ]
      },
      {
       "output_type": "stream",
       "stream": "stdout",
       "text": [
        "\n"
       ]
      },
      {
       "output_type": "stream",
       "stream": "stdout",
       "text": [
        "[ubuntu@ec2-54-225-5-82.compute-1.amazonaws.com] out: "
       ]
      },
      {
       "output_type": "stream",
       "stream": "stdout",
       "text": [
        "Reading package lists... 100%\n"
       ]
      },
      {
       "output_type": "stream",
       "stream": "stdout",
       "text": [
        "[ubuntu@ec2-54-225-5-82.compute-1.amazonaws.com] out: "
       ]
      },
      {
       "output_type": "stream",
       "stream": "stdout",
       "text": [
        "\n"
       ]
      },
      {
       "output_type": "stream",
       "stream": "stdout",
       "text": [
        "[ubuntu@ec2-54-225-5-82.compute-1.amazonaws.com] out: "
       ]
      },
      {
       "output_type": "stream",
       "stream": "stdout",
       "text": [
        "Reading package lists... Done\n"
       ]
      },
      {
       "output_type": "stream",
       "stream": "stdout",
       "text": [
        "[ubuntu@ec2-54-225-5-82.compute-1.amazonaws.com] out: "
       ]
      },
      {
       "output_type": "stream",
       "stream": "stdout",
       "text": [
        "\n"
       ]
      },
      {
       "output_type": "stream",
       "stream": "stdout",
       "text": [
        "[ubuntu@ec2-54-225-5-82.compute-1.amazonaws.com] out: "
       ]
      },
      {
       "output_type": "stream",
       "stream": "stdout",
       "text": [
        "\n"
       ]
      },
      {
       "output_type": "stream",
       "stream": "stdout",
       "text": [
        "[ubuntu@ec2-54-225-5-82.compute-1.amazonaws.com] out: "
       ]
      },
      {
       "output_type": "stream",
       "stream": "stdout",
       "text": [
        "Building dependency tree... 0%\n"
       ]
      },
      {
       "output_type": "stream",
       "stream": "stdout",
       "text": [
        "[ubuntu@ec2-54-225-5-82.compute-1.amazonaws.com] out: "
       ]
      },
      {
       "output_type": "stream",
       "stream": "stdout",
       "text": [
        "\n"
       ]
      },
      {
       "output_type": "stream",
       "stream": "stdout",
       "text": [
        "[ubuntu@ec2-54-225-5-82.compute-1.amazonaws.com] out: "
       ]
      },
      {
       "output_type": "stream",
       "stream": "stdout",
       "text": [
        "Building dependency tree... 0%\n"
       ]
      },
      {
       "output_type": "stream",
       "stream": "stdout",
       "text": [
        "[ubuntu@ec2-54-225-5-82.compute-1.amazonaws.com] out: "
       ]
      },
      {
       "output_type": "stream",
       "stream": "stdout",
       "text": [
        "\n"
       ]
      },
      {
       "output_type": "stream",
       "stream": "stdout",
       "text": [
        "[ubuntu@ec2-54-225-5-82.compute-1.amazonaws.com] out: "
       ]
      },
      {
       "output_type": "stream",
       "stream": "stdout",
       "text": [
        "Building dependency tree... 50%\n"
       ]
      },
      {
       "output_type": "stream",
       "stream": "stdout",
       "text": [
        "[ubuntu@ec2-54-225-5-82.compute-1.amazonaws.com] out: "
       ]
      },
      {
       "output_type": "stream",
       "stream": "stdout",
       "text": [
        "\n"
       ]
      },
      {
       "output_type": "stream",
       "stream": "stdout",
       "text": [
        "[ubuntu@ec2-54-225-5-82.compute-1.amazonaws.com] out: "
       ]
      },
      {
       "output_type": "stream",
       "stream": "stdout",
       "text": [
        "Building dependency tree... 50%\n"
       ]
      },
      {
       "output_type": "stream",
       "stream": "stdout",
       "text": [
        "[ubuntu@ec2-54-225-5-82.compute-1.amazonaws.com] out: "
       ]
      },
      {
       "output_type": "stream",
       "stream": "stdout",
       "text": [
        "\n"
       ]
      },
      {
       "output_type": "stream",
       "stream": "stdout",
       "text": [
        "[ubuntu@ec2-54-225-5-82.compute-1.amazonaws.com] out: "
       ]
      },
      {
       "output_type": "stream",
       "stream": "stdout",
       "text": [
        "Building dependency tree... 71%\n"
       ]
      },
      {
       "output_type": "stream",
       "stream": "stdout",
       "text": [
        "[ubuntu@ec2-54-225-5-82.compute-1.amazonaws.com] out: "
       ]
      },
      {
       "output_type": "stream",
       "stream": "stdout",
       "text": [
        "\n"
       ]
      },
      {
       "output_type": "stream",
       "stream": "stdout",
       "text": [
        "[ubuntu@ec2-54-225-5-82.compute-1.amazonaws.com] out: "
       ]
      },
      {
       "output_type": "stream",
       "stream": "stdout",
       "text": [
        "Building dependency tree       \n"
       ]
      },
      {
       "output_type": "stream",
       "stream": "stdout",
       "text": [
        "[ubuntu@ec2-54-225-5-82.compute-1.amazonaws.com] out: "
       ]
      },
      {
       "output_type": "stream",
       "stream": "stdout",
       "text": [
        "\n"
       ]
      },
      {
       "output_type": "stream",
       "stream": "stdout",
       "text": [
        "[ubuntu@ec2-54-225-5-82.compute-1.amazonaws.com] out: "
       ]
      },
      {
       "output_type": "stream",
       "stream": "stdout",
       "text": [
        "\n"
       ]
      },
      {
       "output_type": "stream",
       "stream": "stdout",
       "text": [
        "[ubuntu@ec2-54-225-5-82.compute-1.amazonaws.com] out: "
       ]
      },
      {
       "output_type": "stream",
       "stream": "stdout",
       "text": [
        "Reading state information... 0%\n"
       ]
      },
      {
       "output_type": "stream",
       "stream": "stdout",
       "text": [
        "[ubuntu@ec2-54-225-5-82.compute-1.amazonaws.com] out: "
       ]
      },
      {
       "output_type": "stream",
       "stream": "stdout",
       "text": [
        "\n"
       ]
      },
      {
       "output_type": "stream",
       "stream": "stdout",
       "text": [
        "[ubuntu@ec2-54-225-5-82.compute-1.amazonaws.com] out: "
       ]
      },
      {
       "output_type": "stream",
       "stream": "stdout",
       "text": [
        "Reading state information... 1%\n"
       ]
      },
      {
       "output_type": "stream",
       "stream": "stdout",
       "text": [
        "[ubuntu@ec2-54-225-5-82.compute-1.amazonaws.com] out: "
       ]
      },
      {
       "output_type": "stream",
       "stream": "stdout",
       "text": [
        "\n"
       ]
      },
      {
       "output_type": "stream",
       "stream": "stdout",
       "text": [
        "[ubuntu@ec2-54-225-5-82.compute-1.amazonaws.com] out: "
       ]
      },
      {
       "output_type": "stream",
       "stream": "stdout",
       "text": [
        "Reading state information... Done\n"
       ]
      },
      {
       "output_type": "stream",
       "stream": "stdout",
       "text": [
        "[ubuntu@ec2-54-225-5-82.compute-1.amazonaws.com] out: "
       ]
      },
      {
       "output_type": "stream",
       "stream": "stdout",
       "text": [
        "\n"
       ]
      },
      {
       "output_type": "stream",
       "stream": "stdout",
       "text": [
        "[ubuntu@ec2-54-225-5-82.compute-1.amazonaws.com] out: "
       ]
      },
      {
       "output_type": "stream",
       "stream": "stdout",
       "text": [
        "The following extra packages will be installed:\n"
       ]
      },
      {
       "output_type": "stream",
       "stream": "stdout",
       "text": [
        "[ubuntu@ec2-54-225-5-82.compute-1.amazonaws.com] out: "
       ]
      },
      {
       "output_type": "stream",
       "stream": "stdout",
       "text": [
        "  libhtml-template-perl mysql-server-5.5 mysql-server-core-5.5\n"
       ]
      },
      {
       "output_type": "stream",
       "stream": "stdout",
       "text": [
        "[ubuntu@ec2-54-225-5-82.compute-1.amazonaws.com] out: "
       ]
      },
      {
       "output_type": "stream",
       "stream": "stdout",
       "text": [
        "Suggested packages:\n"
       ]
      },
      {
       "output_type": "stream",
       "stream": "stdout",
       "text": [
        "[ubuntu@ec2-54-225-5-82.compute-1.amazonaws.com] out: "
       ]
      },
      {
       "output_type": "stream",
       "stream": "stdout",
       "text": [
        "  libipc-sharedcache-perl tinyca mailx\n"
       ]
      },
      {
       "output_type": "stream",
       "stream": "stdout",
       "text": [
        "[ubuntu@ec2-54-225-5-82.compute-1.amazonaws.com] out: "
       ]
      },
      {
       "output_type": "stream",
       "stream": "stdout",
       "text": [
        "The following NEW packages will be installed:\n"
       ]
      },
      {
       "output_type": "stream",
       "stream": "stdout",
       "text": [
        "[ubuntu@ec2-54-225-5-82.compute-1.amazonaws.com] out: "
       ]
      },
      {
       "output_type": "stream",
       "stream": "stdout",
       "text": [
        "  libhtml-template-perl mysql-server mysql-server-5.5 mysql-server-core-5.5\n"
       ]
      },
      {
       "output_type": "stream",
       "stream": "stdout",
       "text": [
        "[ubuntu@ec2-54-225-5-82.compute-1.amazonaws.com] out: "
       ]
      },
      {
       "output_type": "stream",
       "stream": "stdout",
       "text": [
        "0 upgraded, 4 newly installed, 0 to remove and 0 not upgraded.\n"
       ]
      },
      {
       "output_type": "stream",
       "stream": "stdout",
       "text": [
        "[ubuntu@ec2-54-225-5-82.compute-1.amazonaws.com] out: "
       ]
      },
      {
       "output_type": "stream",
       "stream": "stdout",
       "text": [
        "Need to get 15.0 MB of archives.\n"
       ]
      },
      {
       "output_type": "stream",
       "stream": "stdout",
       "text": [
        "[ubuntu@ec2-54-225-5-82.compute-1.amazonaws.com] out: "
       ]
      },
      {
       "output_type": "stream",
       "stream": "stdout",
       "text": [
        "After this operation, 53.4 MB of additional disk space will be used.\n"
       ]
      },
      {
       "output_type": "stream",
       "stream": "stdout",
       "text": [
        "[ubuntu@ec2-54-225-5-82.compute-1.amazonaws.com] out: "
       ]
      },
      {
       "output_type": "stream",
       "stream": "stdout",
       "text": [
        "\n"
       ]
      },
      {
       "output_type": "stream",
       "stream": "stdout",
       "text": [
        "[ubuntu@ec2-54-225-5-82.compute-1.amazonaws.com] out: "
       ]
      },
      {
       "output_type": "stream",
       "stream": "stdout",
       "text": [
        "\n"
       ]
      },
      {
       "output_type": "stream",
       "stream": "stdout",
       "text": [
        "[ubuntu@ec2-54-225-5-82.compute-1.amazonaws.com] out: "
       ]
      },
      {
       "output_type": "stream",
       "stream": "stdout",
       "text": [
        "0% [Working]"
       ]
      },
      {
       "output_type": "stream",
       "stream": "stdout",
       "text": [
        "\n"
       ]
      },
      {
       "output_type": "stream",
       "stream": "stdout",
       "text": [
        "[ubuntu@ec2-54-225-5-82.compute-1.amazonaws.com] out: "
       ]
      },
      {
       "output_type": "stream",
       "stream": "stdout",
       "text": [
        "            \n"
       ]
      },
      {
       "output_type": "stream",
       "stream": "stdout",
       "text": [
        "[ubuntu@ec2-54-225-5-82.compute-1.amazonaws.com] out: "
       ]
      },
      {
       "output_type": "stream",
       "stream": "stdout",
       "text": [
        "Get:1 http://us-east-1.ec2.archive.ubuntu.com/ubuntu/ precise-updates/main mysql-server-core-5.5 amd64 5.5.31-0ubuntu0.12.04.1 [6,085 kB]\n"
       ]
      },
      {
       "output_type": "stream",
       "stream": "stdout",
       "text": [
        "[ubuntu@ec2-54-225-5-82.compute-1.amazonaws.com] out: "
       ]
      },
      {
       "output_type": "stream",
       "stream": "stdout",
       "text": [
        "\n"
       ]
      },
      {
       "output_type": "stream",
       "stream": "stdout",
       "text": [
        "[ubuntu@ec2-54-225-5-82.compute-1.amazonaws.com] out: "
       ]
      },
      {
       "output_type": "stream",
       "stream": "stdout",
       "text": [
        "            \n"
       ]
      },
      {
       "output_type": "stream",
       "stream": "stdout",
       "text": [
        "[ubuntu@ec2-54-225-5-82.compute-1.amazonaws.com] out: "
       ]
      },
      {
       "output_type": "stream",
       "stream": "stdout",
       "text": [
        "0% [1 mysql-server-core-5.5 0 B/6,085 kB 0%]"
       ]
      },
      {
       "output_type": "stream",
       "stream": "stdout",
       "text": [
        "\n"
       ]
      },
      {
       "output_type": "stream",
       "stream": "stdout",
       "text": [
        "[ubuntu@ec2-54-225-5-82.compute-1.amazonaws.com] out: "
       ]
      },
      {
       "output_type": "stream",
       "stream": "stdout",
       "text": [
        "                                            \n"
       ]
      },
      {
       "output_type": "stream",
       "stream": "stdout",
       "text": [
        "[ubuntu@ec2-54-225-5-82.compute-1.amazonaws.com] out: "
       ]
      },
      {
       "output_type": "stream",
       "stream": "stdout",
       "text": [
        "40% [Working]"
       ]
      },
      {
       "output_type": "stream",
       "stream": "stdout",
       "text": [
        "\n"
       ]
      },
      {
       "output_type": "stream",
       "stream": "stdout",
       "text": [
        "[ubuntu@ec2-54-225-5-82.compute-1.amazonaws.com] out: "
       ]
      },
      {
       "output_type": "stream",
       "stream": "stdout",
       "text": [
        "             \n"
       ]
      },
      {
       "output_type": "stream",
       "stream": "stdout",
       "text": [
        "[ubuntu@ec2-54-225-5-82.compute-1.amazonaws.com] out: "
       ]
      },
      {
       "output_type": "stream",
       "stream": "stdout",
       "text": [
        "Get:2 http://us-east-1.ec2.archive.ubuntu.com/ubuntu/ precise-updates/main mysql-server-5.5 amd64 5.5.31-0ubuntu0.12.04.1 [8,877 kB]\n"
       ]
      },
      {
       "output_type": "stream",
       "stream": "stdout",
       "text": [
        "[ubuntu@ec2-54-225-5-82.compute-1.amazonaws.com] out: "
       ]
      },
      {
       "output_type": "stream",
       "stream": "stdout",
       "text": [
        "\n"
       ]
      },
      {
       "output_type": "stream",
       "stream": "stdout",
       "text": [
        "[ubuntu@ec2-54-225-5-82.compute-1.amazonaws.com] out: "
       ]
      },
      {
       "output_type": "stream",
       "stream": "stdout",
       "text": [
        "             \n"
       ]
      },
      {
       "output_type": "stream",
       "stream": "stdout",
       "text": [
        "[ubuntu@ec2-54-225-5-82.compute-1.amazonaws.com] out: "
       ]
      },
      {
       "output_type": "stream",
       "stream": "stdout",
       "text": [
        "40% [2 mysql-server-5.5 0 B/8,877 kB 0%]"
       ]
      },
      {
       "output_type": "stream",
       "stream": "stdout",
       "text": [
        "\n"
       ]
      },
      {
       "output_type": "stream",
       "stream": "stdout",
       "text": [
        "[ubuntu@ec2-54-225-5-82.compute-1.amazonaws.com] out: "
       ]
      },
      {
       "output_type": "stream",
       "stream": "stdout",
       "text": [
        "                                        \n"
       ]
      },
      {
       "output_type": "stream",
       "stream": "stdout",
       "text": [
        "[ubuntu@ec2-54-225-5-82.compute-1.amazonaws.com] out: "
       ]
      },
      {
       "output_type": "stream",
       "stream": "stdout",
       "text": [
        "99% [Working]"
       ]
      },
      {
       "output_type": "stream",
       "stream": "stdout",
       "text": [
        "\n"
       ]
      },
      {
       "output_type": "stream",
       "stream": "stdout",
       "text": [
        "[ubuntu@ec2-54-225-5-82.compute-1.amazonaws.com] out: "
       ]
      },
      {
       "output_type": "stream",
       "stream": "stdout",
       "text": [
        "             \n"
       ]
      },
      {
       "output_type": "stream",
       "stream": "stdout",
       "text": [
        "[ubuntu@ec2-54-225-5-82.compute-1.amazonaws.com] out: "
       ]
      },
      {
       "output_type": "stream",
       "stream": "stdout",
       "text": [
        "Get:3 http://us-east-1.ec2.archive.ubuntu.com/ubuntu/ precise/main libhtml-template-perl all 2.10-1 [65.0 kB]\n"
       ]
      },
      {
       "output_type": "stream",
       "stream": "stdout",
       "text": [
        "[ubuntu@ec2-54-225-5-82.compute-1.amazonaws.com] out: "
       ]
      },
      {
       "output_type": "stream",
       "stream": "stdout",
       "text": [
        "\n"
       ]
      },
      {
       "output_type": "stream",
       "stream": "stdout",
       "text": [
        "[ubuntu@ec2-54-225-5-82.compute-1.amazonaws.com] out: "
       ]
      },
      {
       "output_type": "stream",
       "stream": "stdout",
       "text": [
        "             \n"
       ]
      },
      {
       "output_type": "stream",
       "stream": "stdout",
       "text": [
        "[ubuntu@ec2-54-225-5-82.compute-1.amazonaws.com] out: "
       ]
      },
      {
       "output_type": "stream",
       "stream": "stdout",
       "text": [
        "99% [3 libhtml-template-perl 0 B/65.0 kB 0%]\n"
       ]
      },
      {
       "output_type": "stream",
       "stream": "stdout",
       "text": [
        "[ubuntu@ec2-54-225-5-82.compute-1.amazonaws.com] out: "
       ]
      },
      {
       "output_type": "stream",
       "stream": "stdout",
       "text": [
        "                                            \n"
       ]
      },
      {
       "output_type": "stream",
       "stream": "stdout",
       "text": [
        "[ubuntu@ec2-54-225-5-82.compute-1.amazonaws.com] out: "
       ]
      },
      {
       "output_type": "stream",
       "stream": "stdout",
       "text": [
        "100% [Working]"
       ]
      },
      {
       "output_type": "stream",
       "stream": "stdout",
       "text": [
        "\n"
       ]
      },
      {
       "output_type": "stream",
       "stream": "stdout",
       "text": [
        "[ubuntu@ec2-54-225-5-82.compute-1.amazonaws.com] out: "
       ]
      },
      {
       "output_type": "stream",
       "stream": "stdout",
       "text": [
        "              \n"
       ]
      },
      {
       "output_type": "stream",
       "stream": "stdout",
       "text": [
        "[ubuntu@ec2-54-225-5-82.compute-1.amazonaws.com] out: "
       ]
      },
      {
       "output_type": "stream",
       "stream": "stdout",
       "text": [
        "Get:4 http://us-east-1.ec2.archive.ubuntu.com/ubuntu/ precise-updates/main mysql-server all 5.5.31-0ubuntu0.12.04.1 [11.6 kB]\n"
       ]
      },
      {
       "output_type": "stream",
       "stream": "stdout",
       "text": [
        "[ubuntu@ec2-54-225-5-82.compute-1.amazonaws.com] out: "
       ]
      },
      {
       "output_type": "stream",
       "stream": "stdout",
       "text": [
        "\n"
       ]
      },
      {
       "output_type": "stream",
       "stream": "stdout",
       "text": [
        "[ubuntu@ec2-54-225-5-82.compute-1.amazonaws.com] out: "
       ]
      },
      {
       "output_type": "stream",
       "stream": "stdout",
       "text": [
        "              \n"
       ]
      },
      {
       "output_type": "stream",
       "stream": "stdout",
       "text": [
        "[ubuntu@ec2-54-225-5-82.compute-1.amazonaws.com] out: "
       ]
      },
      {
       "output_type": "stream",
       "stream": "stdout",
       "text": [
        "100% [4 mysql-server 0 B/11.6 kB 0%]\n"
       ]
      },
      {
       "output_type": "stream",
       "stream": "stdout",
       "text": [
        "[ubuntu@ec2-54-225-5-82.compute-1.amazonaws.com] out: "
       ]
      },
      {
       "output_type": "stream",
       "stream": "stdout",
       "text": [
        "                                    \n"
       ]
      },
      {
       "output_type": "stream",
       "stream": "stdout",
       "text": [
        "[ubuntu@ec2-54-225-5-82.compute-1.amazonaws.com] out: "
       ]
      },
      {
       "output_type": "stream",
       "stream": "stdout",
       "text": [
        "100% [Working]\n"
       ]
      },
      {
       "output_type": "stream",
       "stream": "stdout",
       "text": [
        "[ubuntu@ec2-54-225-5-82.compute-1.amazonaws.com] out: "
       ]
      },
      {
       "output_type": "stream",
       "stream": "stdout",
       "text": [
        "              \n"
       ]
      },
      {
       "output_type": "stream",
       "stream": "stdout",
       "text": [
        "[ubuntu@ec2-54-225-5-82.compute-1.amazonaws.com] out: "
       ]
      },
      {
       "output_type": "stream",
       "stream": "stdout",
       "text": [
        "Fetched 15.0 MB in 1s (14.6 MB/s)\n"
       ]
      },
      {
       "output_type": "stream",
       "stream": "stdout",
       "text": [
        "[ubuntu@ec2-54-225-5-82.compute-1.amazonaws.com] out: "
       ]
      },
      {
       "output_type": "stream",
       "stream": "stdout",
       "text": [
        "Preconfiguring packages ...\n"
       ]
      },
      {
       "output_type": "stream",
       "stream": "stdout",
       "text": [
        "[ubuntu@ec2-54-225-5-82.compute-1.amazonaws.com] out: "
       ]
      },
      {
       "output_type": "stream",
       "stream": "stdout",
       "text": [
        "Selecting previously unselected package mysql-server-core-5.5.\n"
       ]
      },
      {
       "output_type": "stream",
       "stream": "stdout",
       "text": [
        "[ubuntu@ec2-54-225-5-82.compute-1.amazonaws.com] out: "
       ]
      },
      {
       "output_type": "stream",
       "stream": "stdout",
       "text": [
        "(Reading database ... \n"
       ]
      },
      {
       "output_type": "stream",
       "stream": "stdout",
       "text": [
        "[ubuntu@ec2-54-225-5-82.compute-1.amazonaws.com] out: "
       ]
      },
      {
       "output_type": "stream",
       "stream": "stdout",
       "text": [
        "(Reading database ... 5%\n"
       ]
      },
      {
       "output_type": "stream",
       "stream": "stdout",
       "text": [
        "[ubuntu@ec2-54-225-5-82.compute-1.amazonaws.com] out: "
       ]
      },
      {
       "output_type": "stream",
       "stream": "stdout",
       "text": [
        "(Reading database ... 10%\n"
       ]
      },
      {
       "output_type": "stream",
       "stream": "stdout",
       "text": [
        "[ubuntu@ec2-54-225-5-82.compute-1.amazonaws.com] out: "
       ]
      },
      {
       "output_type": "stream",
       "stream": "stdout",
       "text": [
        "(Reading database ... 15%\n"
       ]
      },
      {
       "output_type": "stream",
       "stream": "stdout",
       "text": [
        "[ubuntu@ec2-54-225-5-82.compute-1.amazonaws.com] out: "
       ]
      },
      {
       "output_type": "stream",
       "stream": "stdout",
       "text": [
        "(Reading database ... 20%\n"
       ]
      },
      {
       "output_type": "stream",
       "stream": "stdout",
       "text": [
        "[ubuntu@ec2-54-225-5-82.compute-1.amazonaws.com] out: "
       ]
      },
      {
       "output_type": "stream",
       "stream": "stdout",
       "text": [
        "(Reading database ... 25%\n"
       ]
      },
      {
       "output_type": "stream",
       "stream": "stdout",
       "text": [
        "[ubuntu@ec2-54-225-5-82.compute-1.amazonaws.com] out: "
       ]
      },
      {
       "output_type": "stream",
       "stream": "stdout",
       "text": [
        "(Reading database ... 30%\n"
       ]
      },
      {
       "output_type": "stream",
       "stream": "stdout",
       "text": [
        "[ubuntu@ec2-54-225-5-82.compute-1.amazonaws.com] out: "
       ]
      },
      {
       "output_type": "stream",
       "stream": "stdout",
       "text": [
        "(Reading database ... 35%\n"
       ]
      },
      {
       "output_type": "stream",
       "stream": "stdout",
       "text": [
        "[ubuntu@ec2-54-225-5-82.compute-1.amazonaws.com] out: "
       ]
      },
      {
       "output_type": "stream",
       "stream": "stdout",
       "text": [
        "(Reading database ... 40%"
       ]
      },
      {
       "output_type": "stream",
       "stream": "stdout",
       "text": [
        "\n"
       ]
      },
      {
       "output_type": "stream",
       "stream": "stdout",
       "text": [
        "[ubuntu@ec2-54-225-5-82.compute-1.amazonaws.com] out: "
       ]
      },
      {
       "output_type": "stream",
       "stream": "stdout",
       "text": [
        "(Reading database ... 45%\n"
       ]
      },
      {
       "output_type": "stream",
       "stream": "stdout",
       "text": [
        "[ubuntu@ec2-54-225-5-82.compute-1.amazonaws.com] out: "
       ]
      },
      {
       "output_type": "stream",
       "stream": "stdout",
       "text": [
        "(Reading database ... 50%\n"
       ]
      },
      {
       "output_type": "stream",
       "stream": "stdout",
       "text": [
        "[ubuntu@ec2-54-225-5-82.compute-1.amazonaws.com] out: "
       ]
      },
      {
       "output_type": "stream",
       "stream": "stdout",
       "text": [
        "(Reading database ... 55%\n"
       ]
      },
      {
       "output_type": "stream",
       "stream": "stdout",
       "text": [
        "[ubuntu@ec2-54-225-5-82.compute-1.amazonaws.com] out: "
       ]
      },
      {
       "output_type": "stream",
       "stream": "stdout",
       "text": [
        "(Reading database ... 60%\n"
       ]
      },
      {
       "output_type": "stream",
       "stream": "stdout",
       "text": [
        "[ubuntu@ec2-54-225-5-82.compute-1.amazonaws.com] out: "
       ]
      },
      {
       "output_type": "stream",
       "stream": "stdout",
       "text": [
        "(Reading database ... 65%\n"
       ]
      },
      {
       "output_type": "stream",
       "stream": "stdout",
       "text": [
        "[ubuntu@ec2-54-225-5-82.compute-1.amazonaws.com] out: "
       ]
      },
      {
       "output_type": "stream",
       "stream": "stdout",
       "text": [
        "(Reading database ... 70%\n"
       ]
      },
      {
       "output_type": "stream",
       "stream": "stdout",
       "text": [
        "[ubuntu@ec2-54-225-5-82.compute-1.amazonaws.com] out: "
       ]
      },
      {
       "output_type": "stream",
       "stream": "stdout",
       "text": [
        "(Reading database ... 75%\n"
       ]
      },
      {
       "output_type": "stream",
       "stream": "stdout",
       "text": [
        "[ubuntu@ec2-54-225-5-82.compute-1.amazonaws.com] out: "
       ]
      },
      {
       "output_type": "stream",
       "stream": "stdout",
       "text": [
        "(Reading database ... 80%\n"
       ]
      },
      {
       "output_type": "stream",
       "stream": "stdout",
       "text": [
        "[ubuntu@ec2-54-225-5-82.compute-1.amazonaws.com] out: "
       ]
      },
      {
       "output_type": "stream",
       "stream": "stdout",
       "text": [
        "(Reading database ... 85%\n"
       ]
      },
      {
       "output_type": "stream",
       "stream": "stdout",
       "text": [
        "[ubuntu@ec2-54-225-5-82.compute-1.amazonaws.com] out: "
       ]
      },
      {
       "output_type": "stream",
       "stream": "stdout",
       "text": [
        "(Reading database ... 90%\n"
       ]
      },
      {
       "output_type": "stream",
       "stream": "stdout",
       "text": [
        "[ubuntu@ec2-54-225-5-82.compute-1.amazonaws.com] out: "
       ]
      },
      {
       "output_type": "stream",
       "stream": "stdout",
       "text": [
        "(Reading database ... 95%\n"
       ]
      },
      {
       "output_type": "stream",
       "stream": "stdout",
       "text": [
        "[ubuntu@ec2-54-225-5-82.compute-1.amazonaws.com] out: "
       ]
      },
      {
       "output_type": "stream",
       "stream": "stdout",
       "text": [
        "(Reading database ... 100%\n"
       ]
      },
      {
       "output_type": "stream",
       "stream": "stdout",
       "text": [
        "[ubuntu@ec2-54-225-5-82.compute-1.amazonaws.com] out: "
       ]
      },
      {
       "output_type": "stream",
       "stream": "stdout",
       "text": [
        "(Reading database ... 77430 files and directories currently installed.)\n"
       ]
      },
      {
       "output_type": "stream",
       "stream": "stdout",
       "text": [
        "[ubuntu@ec2-54-225-5-82.compute-1.amazonaws.com] out: "
       ]
      },
      {
       "output_type": "stream",
       "stream": "stdout",
       "text": [
        "Unpacking mysql-server-core-5.5 (from .../mysql-server-core-5.5_5.5.31-0ubuntu0.12.04.1_amd64.deb) ...\n"
       ]
      },
      {
       "output_type": "stream",
       "stream": "stdout",
       "text": [
        "[ubuntu@ec2-54-225-5-82.compute-1.amazonaws.com] out: "
       ]
      },
      {
       "output_type": "stream",
       "stream": "stdout",
       "text": [
        "Selecting previously unselected package mysql-server-5.5.\n"
       ]
      },
      {
       "output_type": "stream",
       "stream": "stdout",
       "text": [
        "[ubuntu@ec2-54-225-5-82.compute-1.amazonaws.com] out: "
       ]
      },
      {
       "output_type": "stream",
       "stream": "stdout",
       "text": [
        "Unpacking mysql-server-5.5 (from .../mysql-server-5.5_5.5.31-0ubuntu0.12.04.1_amd64.deb) ...\n"
       ]
      },
      {
       "output_type": "stream",
       "stream": "stdout",
       "text": [
        "[ubuntu@ec2-54-225-5-82.compute-1.amazonaws.com] out: "
       ]
      },
      {
       "output_type": "stream",
       "stream": "stdout",
       "text": [
        "Selecting previously unselected package libhtml-template-perl.\n"
       ]
      },
      {
       "output_type": "stream",
       "stream": "stdout",
       "text": [
        "[ubuntu@ec2-54-225-5-82.compute-1.amazonaws.com] out: "
       ]
      },
      {
       "output_type": "stream",
       "stream": "stdout",
       "text": [
        "Unpacking libhtml-template-perl (from .../libhtml-template-perl_2.10-1_all.deb) ...\n"
       ]
      },
      {
       "output_type": "stream",
       "stream": "stdout",
       "text": [
        "[ubuntu@ec2-54-225-5-82.compute-1.amazonaws.com] out: "
       ]
      },
      {
       "output_type": "stream",
       "stream": "stdout",
       "text": [
        "Selecting previously unselected package mysql-server.\n"
       ]
      },
      {
       "output_type": "stream",
       "stream": "stdout",
       "text": [
        "[ubuntu@ec2-54-225-5-82.compute-1.amazonaws.com] out: "
       ]
      },
      {
       "output_type": "stream",
       "stream": "stdout",
       "text": [
        "Unpacking mysql-server (from .../mysql-server_5.5.31-0ubuntu0.12.04.1_all.deb) ...\n"
       ]
      },
      {
       "output_type": "stream",
       "stream": "stdout",
       "text": [
        "[ubuntu@ec2-54-225-5-82.compute-1.amazonaws.com] out: "
       ]
      },
      {
       "output_type": "stream",
       "stream": "stdout",
       "text": [
        "Processing triggers for man-db ...\n"
       ]
      },
      {
       "output_type": "stream",
       "stream": "stdout",
       "text": [
        "[ubuntu@ec2-54-225-5-82.compute-1.amazonaws.com] out: "
       ]
      },
      {
       "output_type": "stream",
       "stream": "stdout",
       "text": [
        "Processing triggers for ureadahead ...\n"
       ]
      },
      {
       "output_type": "stream",
       "stream": "stdout",
       "text": [
        "[ubuntu@ec2-54-225-5-82.compute-1.amazonaws.com] out: "
       ]
      },
      {
       "output_type": "stream",
       "stream": "stdout",
       "text": [
        "Setting up mysql-server-core-5.5 (5.5.31-0ubuntu0.12.04.1) ...\n"
       ]
      },
      {
       "output_type": "stream",
       "stream": "stdout",
       "text": [
        "[ubuntu@ec2-54-225-5-82.compute-1.amazonaws.com] out: "
       ]
      },
      {
       "output_type": "stream",
       "stream": "stdout",
       "text": [
        "Setting up mysql-server-5.5 (5.5.31-0ubuntu0.12.04.1) ...\n"
       ]
      },
      {
       "output_type": "stream",
       "stream": "stdout",
       "text": [
        "[ubuntu@ec2-54-225-5-82.compute-1.amazonaws.com] out: "
       ]
      },
      {
       "output_type": "stream",
       "stream": "stdout",
       "text": [
        "mysql start/running, process 17683\n"
       ]
      },
      {
       "output_type": "stream",
       "stream": "stdout",
       "text": [
        "[ubuntu@ec2-54-225-5-82.compute-1.amazonaws.com] out: "
       ]
      },
      {
       "output_type": "stream",
       "stream": "stdout",
       "text": [
        "Setting up libhtml-template-perl (2.10-1) ...\n"
       ]
      },
      {
       "output_type": "stream",
       "stream": "stdout",
       "text": [
        "[ubuntu@ec2-54-225-5-82.compute-1.amazonaws.com] out: "
       ]
      },
      {
       "output_type": "stream",
       "stream": "stdout",
       "text": [
        "Setting up mysql-server (5.5.31-0ubuntu0.12.04.1) ...\n"
       ]
      },
      {
       "output_type": "stream",
       "stream": "stdout",
       "text": [
        "[ubuntu@ec2-54-225-5-82.compute-1.amazonaws.com] out: "
       ]
      },
      {
       "output_type": "stream",
       "stream": "stdout",
       "text": [
        "\n"
       ]
      },
      {
       "output_type": "stream",
       "stream": "stdout",
       "text": [
        "\n"
       ]
      },
      {
       "output_type": "pyout",
       "prompt_number": 118,
       "text": [
        "{'ubuntu@ec2-54-225-5-82.compute-1.amazonaws.com': None}"
       ]
      }
     ],
     "prompt_number": 118
    },
    {
     "cell_type": "code",
     "collapsed": false,
     "input": [
      "# security groups\n",
      "\n",
      "security_groups = aws.ec2.get_all_security_groups()"
     ],
     "language": "python",
     "metadata": {},
     "outputs": []
    },
    {
     "cell_type": "code",
     "collapsed": false,
     "input": [
      "web_prod_sgroup = [(group.id, group.name, group.description, group.rules) for group in security_groups if group.name=='web-production'][0]"
     ],
     "language": "python",
     "metadata": {},
     "outputs": []
    },
    {
     "cell_type": "code",
     "collapsed": false,
     "input": [
      "web_prod_sgroup"
     ],
     "language": "python",
     "metadata": {},
     "outputs": []
    },
    {
     "cell_type": "code",
     "collapsed": false,
     "input": [
      "# http://boto.readthedocs.org/en/latest/security_groups.html\n",
      "rules = web_prod_sgroup[3]\n",
      "[(rule.ip_protocol, rule.from_port, rule.to_port, rule.grants, rule.groups) for rule in rules]"
     ],
     "language": "python",
     "metadata": {},
     "outputs": []
    },
    {
     "cell_type": "code",
     "collapsed": false,
     "input": [
      "[(grant.cidr_ip) for grant in rule.grants]"
     ],
     "language": "python",
     "metadata": {},
     "outputs": []
    },
    {
     "cell_type": "code",
     "collapsed": false,
     "input": [
      "[(grant.owner_id, grant.group_id, grant.name, grant.cidr_ip) for grant in rule.grants]"
     ],
     "language": "python",
     "metadata": {},
     "outputs": []
    },
    {
     "cell_type": "code",
     "collapsed": false,
     "input": [
      "# let's make a new security group to replicate the web-production sg\n",
      "\n",
      "test8_sg = aws.ec2.create_security_group('test8', 'test8 sg')"
     ],
     "language": "python",
     "metadata": {},
     "outputs": []
    },
    {
     "cell_type": "code",
     "collapsed": false,
     "input": [
      "# You need to pass in either src_group_name OR ip_protocol, from_port, to_port, and cidr_ip.\n",
      "\n",
      "test8_sg.authorize('tcp', 80, 80, '0.0.0.0/0')\n",
      "test8_sg.authorize('tcp', 22, 22, '0.0.0.0/0')\n",
      "test8_sg.authorize('tcp', 443, 443, '0.0.0.0/0')"
     ],
     "language": "python",
     "metadata": {},
     "outputs": []
    },
    {
     "cell_type": "code",
     "collapsed": false,
     "input": [
      "test9_sg = aws.ec2.create_security_group('test9', 'test9 sg')"
     ],
     "language": "python",
     "metadata": {},
     "outputs": []
    },
    {
     "cell_type": "code",
     "collapsed": false,
     "input": [
      "test9_sg.authorize(src_group=test8_sg)"
     ],
     "language": "python",
     "metadata": {},
     "outputs": []
    },
    {
     "cell_type": "code",
     "collapsed": false,
     "input": [
      "test8_sg.rules"
     ],
     "language": "python",
     "metadata": {},
     "outputs": []
    },
    {
     "cell_type": "code",
     "collapsed": false,
     "input": [
      "rules = test9_sg.rules\n",
      "rule = rules[0]\n",
      "grant = rule.grants[0]"
     ],
     "language": "python",
     "metadata": {},
     "outputs": []
    },
    {
     "cell_type": "code",
     "collapsed": false,
     "input": [
      "(rule.ip_protocol, rule.from_port, rule.to_port, rule.grants)"
     ],
     "language": "python",
     "metadata": {},
     "outputs": []
    },
    {
     "cell_type": "code",
     "collapsed": false,
     "input": [
      "grant.owner_id, grant.group_id, grant.name, grant.cidr_ip"
     ],
     "language": "python",
     "metadata": {},
     "outputs": []
    },
    {
     "cell_type": "code",
     "collapsed": false,
     "input": [
      "test9_sg = [(group.id, group.name, group.description, group.rules) for group in security_groups if group.name=='test9'][0]"
     ],
     "language": "python",
     "metadata": {},
     "outputs": []
    },
    {
     "cell_type": "code",
     "collapsed": false,
     "input": [
      "rules = test9_sg[3]\n",
      "[(rule.ip_protocol, rule.from_port, rule.to_port, [(grant.owner_id, grant.group_id, grant.name, grant.cidr_ip) for grant in rule.grants], rule.groups) for rule in rules]"
     ],
     "language": "python",
     "metadata": {},
     "outputs": []
    },
    {
     "cell_type": "code",
     "collapsed": false,
     "input": [
      "aws.ec2.authorize_security_group(group_name='test8', ip_protocol='tcp', from_port=80, to_port=80, cidr_ip='0.0.0.0/0')"
     ],
     "language": "python",
     "metadata": {},
     "outputs": []
    },
    {
     "cell_type": "code",
     "collapsed": false,
     "input": [
      "#Launch new_test\n",
      "\n",
      "inst = aws.instance('new_test')"
     ],
     "language": "python",
     "metadata": {},
     "outputs": [],
     "prompt_number": 3
    },
    {
     "cell_type": "code",
     "collapsed": false,
     "input": [
      "inst.start()"
     ],
     "language": "python",
     "metadata": {},
     "outputs": [],
     "prompt_number": 4
    },
    {
     "cell_type": "code",
     "collapsed": false,
     "input": [
      "inst.update()"
     ],
     "language": "python",
     "metadata": {},
     "outputs": [
      {
       "output_type": "pyout",
       "prompt_number": 7,
       "text": [
        "u'running'"
       ]
      }
     ],
     "prompt_number": 7
    },
    {
     "cell_type": "heading",
     "level": 1,
     "metadata": {},
     "source": [
      "Setting up MySQL"
     ]
    },
    {
     "cell_type": "markdown",
     "metadata": {},
     "source": [
      "* plain old mysql on the server ( https://help.ubuntu.com/12.04/serverguide/mysql.html )\n",
      "* RDS parameters to figure out\n",
      "\n",
      "to run mysql on server:\n",
      "\n",
      "> `sudo apt-get install mysql-server`"
     ]
    },
    {
     "cell_type": "code",
     "collapsed": false,
     "input": [
      "\"ubuntu@{0}\".format(inst.dns_name)"
     ],
     "language": "python",
     "metadata": {},
     "outputs": [
      {
       "output_type": "pyout",
       "prompt_number": 8,
       "text": [
        "'ubuntu@ec2-54-224-144-38.compute-1.amazonaws.com'"
       ]
      }
     ],
     "prompt_number": 8
    },
    {
     "cell_type": "heading",
     "level": 1,
     "metadata": {},
     "source": [
      "Creating an Image out of Instance"
     ]
    },
    {
     "cell_type": "code",
     "collapsed": false,
     "input": [
      "instance.id"
     ],
     "language": "python",
     "metadata": {},
     "outputs": [
      {
       "output_type": "pyout",
       "prompt_number": 119,
       "text": [
        "u'i-46e18b2a'"
       ]
      }
     ],
     "prompt_number": 119
    },
    {
     "cell_type": "code",
     "collapsed": false,
     "input": [
      "new_image = aws.ec2.create_image(instance.id, \"script_built_after_local_mysql_2013-05-24\", \n",
      "     description=\"next step figure out RDS\")"
     ],
     "language": "python",
     "metadata": {},
     "outputs": [],
     "prompt_number": 120
    },
    {
     "cell_type": "code",
     "collapsed": false,
     "input": [
      "# sometimes it really does take a surprisingly long time to make an image out of an instance\n",
      "\n",
      "# new_image = aws.ec2.get_image(image_id=u'ami-853a51ec')\n",
      "new_image"
     ],
     "language": "python",
     "metadata": {},
     "outputs": [
      {
       "output_type": "pyout",
       "prompt_number": 123,
       "text": [
        "u'ami-57315a3e'"
       ]
      }
     ],
     "prompt_number": 123
    },
    {
     "cell_type": "code",
     "collapsed": false,
     "input": [
      "new_image = aws.ec2.get_image(new_image)"
     ],
     "language": "python",
     "metadata": {},
     "outputs": [],
     "prompt_number": 124
    },
    {
     "cell_type": "code",
     "collapsed": false,
     "input": [
      "new_image.state"
     ],
     "language": "python",
     "metadata": {},
     "outputs": [
      {
       "output_type": "pyout",
       "prompt_number": 125,
       "text": [
        "u'pending'"
       ]
      }
     ],
     "prompt_number": 125
    },
    {
     "cell_type": "markdown",
     "metadata": {},
     "source": [
      "Fire up an instance"
     ]
    },
    {
     "cell_type": "code",
     "collapsed": false,
     "input": [
      "(instance, cmd) = aws.launch_instance(ami=u'ami-853a51ec', \n",
      "                                      instance_type='t1.micro',\n",
      "                                      key_name='rdhyee_public_key',\n",
      "                                      group_name=SECURITY_GROUP_NAME,\n",
      "                                      tag='new_instance',\n",
      "                                      cmd_shell=False) \n"
     ],
     "language": "python",
     "metadata": {},
     "outputs": [
      {
       "output_type": "stream",
       "stream": "stdout",
       "text": [
        "Security Group: testsg1 already authorized\n",
        "waiting for instance"
       ]
      },
      {
       "output_type": "stream",
       "stream": "stdout",
       "text": [
        "\n",
        ".\n",
        "."
       ]
      },
      {
       "output_type": "stream",
       "stream": "stdout",
       "text": [
        "\n",
        "."
       ]
      },
      {
       "output_type": "stream",
       "stream": "stdout",
       "text": [
        "\n",
        "."
       ]
      },
      {
       "output_type": "stream",
       "stream": "stdout",
       "text": [
        "\n",
        "done"
       ]
      },
      {
       "output_type": "stream",
       "stream": "stdout",
       "text": [
        "\n"
       ]
      }
     ],
     "prompt_number": 50
    },
    {
     "cell_type": "markdown",
     "metadata": {},
     "source": [
      "<pre>\n",
      "sudo debconf-set-selections <<< 'mysql-server-5.5 mysql-server/root_password password unglueit_pw_123'\n",
      "sudo debconf-set-selections <<< 'mysql-server-5.5 mysql-server/root_password_again password unglueit_pw_123'\n",
      "sudo apt-get -y install mysql-server\n",
      "</pre>\n",
      "\n",
      "<pre>\n",
      "mysql -h 127.0.0.1 --user=root --password=unglueit_pw_123 \n",
      "</pre>"
     ]
    },
    {
     "cell_type": "heading",
     "level": 1,
     "metadata": {},
     "source": [
      "RDS"
     ]
    },
    {
     "cell_type": "markdown",
     "metadata": {},
     "source": [
      "http://calculator.s3.amazonaws.com/calc5.html can be used to estimate costs\n",
      "\n",
      "A barebones micro rds costs about $20/month\n",
      "\n",
      "References:\n",
      "\n",
      "* [boto rds intro](http://boto.readthedocs.org/en/latest/rds_tut.html)\n",
      "* [boto rds api ref](http://boto.readthedocs.org/en/latest/ref/rds.html)"
     ]
    },
    {
     "cell_type": "code",
     "collapsed": false,
     "input": [
      "dbs = aws.all_rds()\n",
      "dbs"
     ],
     "language": "python",
     "metadata": {},
     "outputs": [
      {
       "output_type": "pyout",
       "prompt_number": 63,
       "text": [
        "[DBInstance:justdb, DBInstance:production]"
       ]
      }
     ],
     "prompt_number": 63
    },
    {
     "cell_type": "code",
     "collapsed": false,
     "input": [
      "\n",
      "db = dbs[1]\n",
      "(db.id, db.allocated_storage, db.instance_class, db.engine, db.master_username, \n",
      " db.parameter_group, db.security_group, db.availability_zone, db.multi_az)"
     ],
     "language": "python",
     "metadata": {},
     "outputs": [
      {
       "output_type": "pyout",
       "prompt_number": 80,
       "text": [
        "(u'production',\n",
        " 100,\n",
        " u'db.m1.large',\n",
        " u'mysql',\n",
        " u'root',\n",
        " ParameterGroup:production1,\n",
        " DBSecurityGroup:production,\n",
        " u'us-east-1c',\n",
        " True)"
       ]
      }
     ],
     "prompt_number": 80
    },
    {
     "cell_type": "code",
     "collapsed": false,
     "input": [
      "# I forgot I already have a working rds db info displayer\n",
      "aws.db_info(db)"
     ],
     "language": "python",
     "metadata": {},
     "outputs": [
      {
       "output_type": "pyout",
       "prompt_number": 81,
       "text": [
        "{'allocated_storage': 100,\n",
        " 'availability_zone': u'us-east-1c',\n",
        " 'backup_retention_period': u'5',\n",
        " 'create_time': u'2012-01-15T20:08:54.842Z',\n",
        " 'django_setting': {'default': {'ENGINE': 'django.db.backends.mysql',\n",
        "   'HOST': u'production.cboagmr25pjs.us-east-1.rds.amazonaws.com',\n",
        "   'NAME': 'unglueit',\n",
        "   'PASSWORD': None,\n",
        "   'PORT': 3306,\n",
        "   'USER': u'root'}},\n",
        " 'endpoint': (u'production.cboagmr25pjs.us-east-1.rds.amazonaws.com', 3306),\n",
        " 'engine': u'mysql',\n",
        " 'id': u'production',\n",
        " 'instance_class': u'db.m1.large',\n",
        " 'latest_restorable_time': u'2013-05-24T22:40:00Z',\n",
        " 'master_username': u'root',\n",
        " 'multi_az': True,\n",
        " 'parameter_group': ParameterGroup:production1,\n",
        " 'preferred_backup_window': u'05:00-05:30',\n",
        " 'preferred_maintenance_window': u'sat:17:00-sat:17:30',\n",
        " 'security_group': DBSecurityGroup:production,\n",
        " 'status': u'available'}"
       ]
      }
     ],
     "prompt_number": 81
    },
    {
     "cell_type": "code",
     "collapsed": false,
     "input": [
      "# parameter group\n",
      "# http://boto.readthedocs.org/en/latest/ref/rds.html#module-boto.rds.parametergroup\n",
      "\n",
      "# I think functionality is more primitive"
     ],
     "language": "python",
     "metadata": {},
     "outputs": []
    },
    {
     "cell_type": "code",
     "collapsed": false,
     "input": [
      "pg = aws.rds.get_all_dbparameters('production1')"
     ],
     "language": "python",
     "metadata": {},
     "outputs": [],
     "prompt_number": 82
    },
    {
     "cell_type": "code",
     "collapsed": false,
     "input": [
      "rds = aws.rds\n",
      "\n",
      "def parameter_group_iteritems(group_name):\n",
      "\n",
      "    first_page = True\n",
      "    get_next_page = True\n",
      "    \n",
      "    while get_next_page:\n",
      "        if first_page:\n",
      "            pg = rds.get_all_dbparameters(group_name)\n",
      "            first_page = False\n",
      "        else:\n",
      "            pg = rds.get_all_dbparameters(group_name, marker = pg.Marker)\n",
      "            \n",
      "        for key in pg.keys():\n",
      "            yield (key, pg[key])\n",
      "    \n",
      "        get_next_page = hasattr(pg, 'Marker')\n"
     ],
     "language": "python",
     "metadata": {},
     "outputs": [],
     "prompt_number": 92
    },
    {
     "cell_type": "code",
     "collapsed": false,
     "input": [
      "# try to turn parameter group into a dict to enable reproducibiity of group\n",
      "\n",
      "pg_dict = {}\n",
      "for (key, param) in parameter_group_iteritems('production1'):\n",
      "    try:\n",
      "        key, {'name':param.name, 'type':param.type, 'description':param.description, 'value':param.value}\n",
      "    except Exception as e:\n",
      "        print key, e\n"
     ],
     "language": "python",
     "metadata": {},
     "outputs": [
      {
       "output_type": "stream",
       "stream": "stdout",
       "text": [
        " innodb_buffer_pool_size invalid literal for int() with base 10: '{DBInstanceClassMemory*3/4}'\n",
        "port"
       ]
      },
      {
       "output_type": "stream",
       "stream": "stdout",
       "text": [
        " invalid literal for int() with base 10: '{EndPointPort}'\n",
        "max_connections invalid literal for int() with base 10: '{DBInstanceClassMemory/12582880}'\n",
        "server_id invalid literal for int() with base 10: '{ServerId}'\n"
       ]
      }
     ],
     "prompt_number": 108
    },
    {
     "cell_type": "code",
     "collapsed": false,
     "input": [
      "sorted(pg_dict.keys())"
     ],
     "language": "python",
     "metadata": {},
     "outputs": [
      {
       "output_type": "pyout",
       "prompt_number": 96,
       "text": [
        "[u'allow-suspicious-udfs',\n",
        " u'auto_increment_increment',\n",
        " u'auto_increment_offset',\n",
        " u'automatic_sp_privileges',\n",
        " u'back_log',\n",
        " u'basedir',\n",
        " u'binlog_cache_size',\n",
        " u'binlog_format',\n",
        " u'bulk_insert_buffer_size',\n",
        " u'character-set-client-handshake',\n",
        " u'character_set_client',\n",
        " u'character_set_connection',\n",
        " u'character_set_database',\n",
        " u'character_set_filesystem',\n",
        " u'character_set_results',\n",
        " u'character_set_server',\n",
        " u'collation_connection',\n",
        " u'collation_server',\n",
        " u'completion_type',\n",
        " u'concurrent_insert',\n",
        " u'connect_timeout',\n",
        " u'datadir',\n",
        " u'default_storage_engine',\n",
        " u'default_time_zone',\n",
        " u'default_week_format',\n",
        " u'delay_key_write',\n",
        " u'delayed_insert_limit',\n",
        " u'delayed_insert_timeout',\n",
        " u'delayed_queue_size',\n",
        " u'div_precision_increment',\n",
        " u'event_scheduler',\n",
        " u'flush',\n",
        " u'flush_time',\n",
        " u'ft_boolean_syntax',\n",
        " u'ft_max_word_len',\n",
        " u'ft_min_word_len',\n",
        " u'ft_query_expansion_limit',\n",
        " u'ft_stopword_file',\n",
        " u'general_log',\n",
        " u'general_log_file',\n",
        " u'group_concat_max_len',\n",
        " u'ignore_builtin_innodb',\n",
        " u'init_connect',\n",
        " u'innodb_adaptive_flushing',\n",
        " u'innodb_adaptive_hash_index',\n",
        " u'innodb_additional_mem_pool_size',\n",
        " u'innodb_autoextend_increment',\n",
        " u'innodb_autoinc_lock_mode',\n",
        " u'innodb_buffer_pool_size',\n",
        " u'innodb_change_buffering',\n",
        " u'innodb_commit_concurrency',\n",
        " u'innodb_concurrency_tickets',\n",
        " u'innodb_data_home_dir',\n",
        " u'innodb_file_format',\n",
        " u'innodb_file_per_table',\n",
        " u'innodb_flush_log_at_trx_commit',\n",
        " u'innodb_flush_method',\n",
        " u'innodb_io_capacity',\n",
        " u'innodb_lock_wait_timeout',\n",
        " u'innodb_locks_unsafe_for_binlog',\n",
        " u'innodb_log_buffer_size',\n",
        " u'innodb_log_file_size',\n",
        " u'innodb_log_group_home_dir',\n",
        " u'innodb_max_dirty_pages_pct',\n",
        " u'innodb_max_purge_lag',\n",
        " u'innodb_old_blocks_pct',\n",
        " u'innodb_old_blocks_time',\n",
        " u'innodb_open_files',\n",
        " u'innodb_random_read_ahead',\n",
        " u'innodb_read_ahead_threshold',\n",
        " u'innodb_read_io_threads',\n",
        " u'innodb_replication_delay',\n",
        " u'innodb_rollback_on_timeout',\n",
        " u'innodb_spin_wait_delay',\n",
        " u'innodb_stats_on_metadata',\n",
        " u'innodb_stats_sample_pages',\n",
        " u'innodb_strict_mode',\n",
        " u'innodb_support_xa',\n",
        " u'innodb_sync_spin_loops',\n",
        " u'innodb_table_locks',\n",
        " u'innodb_thread_concurrency',\n",
        " u'innodb_thread_sleep_delay',\n",
        " u'innodb_use_legacy_cardinality_algorithm',\n",
        " u'innodb_use_sys_malloc',\n",
        " u'innodb_write_io_threads',\n",
        " u'interactive_timeout',\n",
        " u'join_buffer_size',\n",
        " u'keep_files_on_create',\n",
        " u'key_buffer_size',\n",
        " u'key_cache_age_threshold',\n",
        " u'key_cache_block_size',\n",
        " u'key_cache_division_limit',\n",
        " u'language',\n",
        " u'lc_time_names',\n",
        " u'local_infile',\n",
        " u'log-bin',\n",
        " u'log_bin_trust_function_creators',\n",
        " u'log_error',\n",
        " u'log_output',\n",
        " u'log_slave_updates',\n",
        " u'log_warnings',\n",
        " u'long_query_time',\n",
        " u'low_priority_updates',\n",
        " u'lower_case_table_names',\n",
        " u'max_allowed_packet',\n",
        " u'max_binlog_cache_size',\n",
        " u'max_binlog_size',\n",
        " u'max_connect_errors',\n",
        " u'max_connections',\n",
        " u'max_delayed_threads',\n",
        " u'max_error_count',\n",
        " u'max_heap_table_size',\n",
        " u'max_insert_delayed_threads',\n",
        " u'max_join_size',\n",
        " u'max_length_for_sort_data',\n",
        " u'max_prepared_stmt_count',\n",
        " u'max_seeks_for_key',\n",
        " u'max_sort_length',\n",
        " u'max_sp_recursion_depth',\n",
        " u'max_tmp_tables',\n",
        " u'max_user_connections',\n",
        " u'max_write_lock_count',\n",
        " u'min_examined_row_limit',\n",
        " u'myisam_data_pointer_size',\n",
        " u'myisam_max_sort_file_size',\n",
        " u'myisam_sort_buffer_size',\n",
        " u'myisam_stats_method',\n",
        " u'myisam_use_mmap',\n",
        " u'net_buffer_length',\n",
        " u'net_read_timeout',\n",
        " u'net_retry_count',\n",
        " u'net_write_timeout',\n",
        " u'old-style-user-limits',\n",
        " u'old_passwords',\n",
        " u'optimizer_prune_level',\n",
        " u'optimizer_search_depth',\n",
        " u'optimizer_switch',\n",
        " u'pid_file',\n",
        " u'plugin-load',\n",
        " u'plugin_dir',\n",
        " u'port',\n",
        " u'preload_buffer_size',\n",
        " u'profiling_history_size',\n",
        " u'query_alloc_block_size',\n",
        " u'query_cache_limit',\n",
        " u'query_cache_min_res_unit',\n",
        " u'query_cache_size',\n",
        " u'query_cache_type',\n",
        " u'query_cache_wlock_invalidate',\n",
        " u'query_prealloc_size',\n",
        " u'range_alloc_block_size',\n",
        " u'read_buffer_size',\n",
        " u'read_only',\n",
        " u'read_rnd_buffer_size',\n",
        " u'relay-log',\n",
        " u'safe-user-create',\n",
        " u'secure_auth',\n",
        " u'secure_file_priv',\n",
        " u'server_id',\n",
        " u'skip-character-set-client-handshake',\n",
        " u'skip_external_locking',\n",
        " u'skip_name_resolve',\n",
        " u'skip_show_database',\n",
        " u'slow_launch_time',\n",
        " u'slow_query_log',\n",
        " u'slow_query_log_file',\n",
        " u'socket',\n",
        " u'sort_buffer_size',\n",
        " u'sql_mode',\n",
        " u'sql_select_limit',\n",
        " u'sync_binlog',\n",
        " u'sync_frm',\n",
        " u'sysdate-is-now',\n",
        " u'table_definition_cache',\n",
        " u'table_open_cache',\n",
        " u'temp-pool',\n",
        " u'thread_cache_size',\n",
        " u'thread_stack',\n",
        " u'timed_mutexes',\n",
        " u'tmp_table_size',\n",
        " u'tmpdir',\n",
        " u'transaction_alloc_block_size',\n",
        " u'transaction_prealloc_size',\n",
        " u'tx_isolation',\n",
        " u'updatable_views_with_limit']"
       ]
      }
     ],
     "prompt_number": 96
    },
    {
     "cell_type": "code",
     "collapsed": false,
     "input": [
      "# https://github.com/boto/boto/blob/2.8.0/boto/rds/parametergroup.py#L71\n",
      "\n",
      "param = pg_dict.get('tx_isolation')\n",
      "{'name':param.name, 'type':param.type, 'description':param.description, 'value':param.value}"
     ],
     "language": "python",
     "metadata": {},
     "outputs": [
      {
       "output_type": "pyout",
       "prompt_number": 105,
       "text": [
        "{'description': u'Sets the default transaction isolation level.',\n",
        " 'name': u'tx_isolation',\n",
        " 'type': u'string',\n",
        " 'value': u'READ-COMMITTED'}"
       ]
      }
     ],
     "prompt_number": 105
    },
    {
     "cell_type": "code",
     "collapsed": false,
     "input": [
      "# security group"
     ],
     "language": "python",
     "metadata": {},
     "outputs": []
    },
    {
     "cell_type": "code",
     "collapsed": false,
     "input": [
      "# how to create RDS\n",
      "# db = conn.create_dbinstance(\"db-master-1\", 10, 'db.m1.small', 'root', 'hunter2')"
     ],
     "language": "python",
     "metadata": {},
     "outputs": []
    }
   ],
   "metadata": {}
  }
 ]
}